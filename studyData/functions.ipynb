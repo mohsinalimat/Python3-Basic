{
 "cells": [
  {
   "cell_type": "code",
   "execution_count": 25,
   "metadata": {
    "collapsed": true
   },
   "outputs": [],
   "source": [
    "from openpyxl import *"
   ]
  },
  {
   "cell_type": "code",
   "execution_count": 26,
   "metadata": {
    "collapsed": true
   },
   "outputs": [],
   "source": [
    "wb =load_workbook('exam.xlsx')"
   ]
  },
  {
   "cell_type": "code",
   "execution_count": 27,
   "metadata": {
    "collapsed": true
   },
   "outputs": [],
   "source": [
    "ws = wb.active"
   ]
  },
  {
   "cell_type": "code",
   "execution_count": 28,
   "metadata": {},
   "outputs": [
    {
     "data": {
      "text/plain": [
       "<Worksheet \"Sheet1\">"
      ]
     },
     "execution_count": 28,
     "metadata": {},
     "output_type": "execute_result"
    }
   ],
   "source": [
    "ws"
   ]
  },
  {
   "cell_type": "code",
   "execution_count": 29,
   "metadata": {
    "collapsed": true
   },
   "outputs": [],
   "source": [
    "g = ws.rows"
   ]
  },
  {
   "cell_type": "code",
   "execution_count": 30,
   "metadata": {},
   "outputs": [
    {
     "data": {
      "text/plain": [
       "<generator object Worksheet._cells_by_row at 0x1074e7b48>"
      ]
     },
     "execution_count": 30,
     "metadata": {},
     "output_type": "execute_result"
    }
   ],
   "source": [
    "g"
   ]
  },
  {
   "cell_type": "code",
   "execution_count": 31,
   "metadata": {},
   "outputs": [
    {
     "data": {
      "text/plain": [
       "(<Cell 'Sheet1'.A1>,\n",
       " <Cell 'Sheet1'.B1>,\n",
       " <Cell 'Sheet1'.C1>,\n",
       " <Cell 'Sheet1'.D1>)"
      ]
     },
     "execution_count": 31,
     "metadata": {},
     "output_type": "execute_result"
    }
   ],
   "source": [
    "cells =next(g)\n",
    "cells"
   ]
  },
  {
   "cell_type": "code",
   "execution_count": 32,
   "metadata": {
    "collapsed": true
   },
   "outputs": [],
   "source": [
    "keys = []"
   ]
  },
  {
   "cell_type": "code",
   "execution_count": 33,
   "metadata": {},
   "outputs": [
    {
     "name": "stdout",
     "output_type": "stream",
     "text": [
      "['name']\n",
      "['name', 'math']\n",
      "['name', 'math', 'literature']\n",
      "['name', 'math', 'literature', 'science']\n"
     ]
    }
   ],
   "source": [
    "for cell in cells:\n",
    "    keys.append(cell.value)\n",
    "    print(keys)"
   ]
  },
  {
   "cell_type": "code",
   "execution_count": 34,
   "metadata": {},
   "outputs": [
    {
     "data": {
      "text/plain": [
       "['name', 'math', 'literature', 'science']"
      ]
     },
     "execution_count": 34,
     "metadata": {},
     "output_type": "execute_result"
    }
   ],
   "source": [
    "keys"
   ]
  },
  {
   "cell_type": "code",
   "execution_count": 35,
   "metadata": {
    "collapsed": true
   },
   "outputs": [],
   "source": [
    "student_data = []"
   ]
  },
  {
   "cell_type": "code",
   "execution_count": 36,
   "metadata": {},
   "outputs": [
    {
     "name": "stdout",
     "output_type": "stream",
     "text": [
      "(<Cell 'Sheet1'.A2>, <Cell 'Sheet1'.B2>, <Cell 'Sheet1'.C2>, <Cell 'Sheet1'.D2>)\n",
      "{'name': 'greg', 'math': 95, 'literature': 65, 'science': 75}\n",
      "{'name': 'greg', 'math': 95, 'literature': 65, 'science': 75}\n",
      "(<Cell 'Sheet1'.A3>, <Cell 'Sheet1'.B3>, <Cell 'Sheet1'.C3>, <Cell 'Sheet1'.D3>)\n",
      "{'name': 'john', 'math': 25, 'literature': 30, 'science': 55}\n",
      "{'name': 'john', 'math': 25, 'literature': 30, 'science': 55}\n",
      "(<Cell 'Sheet1'.A4>, <Cell 'Sheet1'.B4>, <Cell 'Sheet1'.C4>, <Cell 'Sheet1'.D4>)\n",
      "{'name': 'yang', 'math': 50, 'literature': 45, 'science': 40}\n",
      "{'name': 'yang', 'math': 50, 'literature': 45, 'science': 40}\n",
      "(<Cell 'Sheet1'.A5>, <Cell 'Sheet1'.B5>, <Cell 'Sheet1'.C5>, <Cell 'Sheet1'.D5>)\n",
      "{'name': 'timothy', 'math': 15, 'literature': 65, 'science': 90}\n",
      "{'name': 'timothy', 'math': 15, 'literature': 65, 'science': 90}\n",
      "(<Cell 'Sheet1'.A6>, <Cell 'Sheet1'.B6>, <Cell 'Sheet1'.C6>, <Cell 'Sheet1'.D6>)\n",
      "{'name': 'melisa', 'math': 100, 'literature': 100, 'science': 100}\n",
      "{'name': 'melisa', 'math': 100, 'literature': 100, 'science': 100}\n",
      "(<Cell 'Sheet1'.A7>, <Cell 'Sheet1'.B7>, <Cell 'Sheet1'.C7>, <Cell 'Sheet1'.D7>)\n",
      "{'name': 'thor', 'math': 10, 'literature': 15, 'science': 20}\n",
      "{'name': 'thor', 'math': 10, 'literature': 15, 'science': 20}\n",
      "(<Cell 'Sheet1'.A8>, <Cell 'Sheet1'.B8>, <Cell 'Sheet1'.C8>, <Cell 'Sheet1'.D8>)\n",
      "{'name': 'elen', 'math': 25, 'literature': 50, 'science': 100}\n",
      "{'name': 'elen', 'math': 25, 'literature': 50, 'science': 100}\n",
      "(<Cell 'Sheet1'.A9>, <Cell 'Sheet1'.B9>, <Cell 'Sheet1'.C9>, <Cell 'Sheet1'.D9>)\n",
      "{'name': 'mark', 'math': 80, 'literature': 75, 'science': 80}\n",
      "{'name': 'mark', 'math': 80, 'literature': 75, 'science': 80}\n",
      "(<Cell 'Sheet1'.A10>, <Cell 'Sheet1'.B10>, <Cell 'Sheet1'.C10>, <Cell 'Sheet1'.D10>)\n",
      "{'name': 'steve', 'math': 95, 'literature': 100, 'science': 95}\n",
      "{'name': 'steve', 'math': 95, 'literature': 100, 'science': 95}\n",
      "(<Cell 'Sheet1'.A11>, <Cell 'Sheet1'.B11>, <Cell 'Sheet1'.C11>, <Cell 'Sheet1'.D11>)\n",
      "{'name': 'anna', 'math': 20, 'literature': 20, 'science': 20}\n",
      "{'name': 'anna', 'math': 20, 'literature': 20, 'science': 20}\n"
     ]
    }
   ],
   "source": [
    "for row in g:\n",
    "    dic = {k : c.value for k, c in zip(keys, row)}\n",
    "    student_data.append(dic)\n",
    "    print(row)\n",
    "    print(dic)\n",
    "    print(dic)"
   ]
  },
  {
   "cell_type": "code",
   "execution_count": 37,
   "metadata": {},
   "outputs": [
    {
     "data": {
      "text/plain": [
       "[{'literature': 65, 'math': 95, 'name': 'greg', 'science': 75},\n",
       " {'literature': 30, 'math': 25, 'name': 'john', 'science': 55},\n",
       " {'literature': 45, 'math': 50, 'name': 'yang', 'science': 40},\n",
       " {'literature': 65, 'math': 15, 'name': 'timothy', 'science': 90},\n",
       " {'literature': 100, 'math': 100, 'name': 'melisa', 'science': 100},\n",
       " {'literature': 15, 'math': 10, 'name': 'thor', 'science': 20},\n",
       " {'literature': 50, 'math': 25, 'name': 'elen', 'science': 100},\n",
       " {'literature': 75, 'math': 80, 'name': 'mark', 'science': 80},\n",
       " {'literature': 100, 'math': 95, 'name': 'steve', 'science': 95},\n",
       " {'literature': 20, 'math': 20, 'name': 'anna', 'science': 20}]"
      ]
     },
     "execution_count": 37,
     "metadata": {},
     "output_type": "execute_result"
    }
   ],
   "source": [
    "student_data"
   ]
  },
  {
   "cell_type": "code",
   "execution_count": 38,
   "metadata": {},
   "outputs": [
    {
     "data": {
      "text/plain": [
       "{'literature': 20, 'math': 20, 'name': 'anna', 'science': 20}"
      ]
     },
     "execution_count": 38,
     "metadata": {},
     "output_type": "execute_result"
    }
   ],
   "source": [
    "dic"
   ]
  },
  {
   "cell_type": "code",
   "execution_count": 42,
   "metadata": {},
   "outputs": [
    {
     "name": "stdout",
     "output_type": "stream",
     "text": [
      "name : greg          math : 95            literature : 65      science : 75         name : john          math : 25            literature : 30      science : 55         name : yang          math : 50            literature : 45      science : 40         name : timothy       math : 15            literature : 65      science : 90         name : melisa        math : 100           literature : 100     science : 100        name : thor          math : 10            literature : 15      science : 20         name : elen          math : 25            literature : 50      science : 100        name : mark          math : 80            literature : 75      science : 80         name : steve         math : 95            literature : 100     science : 95         name : anna          math : 20            literature : 20      science : 20         "
     ]
    }
   ],
   "source": [
    "for student in student_data:\n",
    "    for k, v in student.items():\n",
    "        print('{} : {}'.format(k, v).ljust(20), end = ' ')\n",
    "        "
   ]
  },
  {
   "cell_type": "code",
   "execution_count": null,
   "metadata": {
    "collapsed": true
   },
   "outputs": [],
   "source": []
  },
  {
   "cell_type": "code",
   "execution_count": null,
   "metadata": {
    "collapsed": true
   },
   "outputs": [],
   "source": []
  },
  {
   "cell_type": "code",
   "execution_count": 67,
   "metadata": {
    "collapsed": true
   },
   "outputs": [],
   "source": [
    "import openpyxl\n",
    "import math\n",
    "from functools import reduce\n"
   ]
  },
  {
   "cell_type": "code",
   "execution_count": 68,
   "metadata": {
    "collapsed": true
   },
   "outputs": [],
   "source": [
    "raw_data = {}\n",
    "wb = openpyxl.load_workbook('class_1.xlsx')\n",
    "ws = wb.active\n",
    "g = ws.rows\n",
    "\n"
   ]
  },
  {
   "cell_type": "code",
   "execution_count": 69,
   "metadata": {
    "collapsed": true
   },
   "outputs": [],
   "source": [
    "for name, score in g:\n",
    "    raw_data[name.value] = score.value"
   ]
  },
  {
   "cell_type": "code",
   "execution_count": 70,
   "metadata": {},
   "outputs": [
    {
     "name": "stdout",
     "output_type": "stream",
     "text": [
      "{'greg': 95, 'john': 25, 'yang': 50, 'timothy': 15, 'melisa': 100, 'thor': 10, 'elen': 25, 'mark': 80, 'steve': 95, 'anna': 20}\n"
     ]
    }
   ],
   "source": [
    "print(raw_data)"
   ]
  },
  {
   "cell_type": "code",
   "execution_count": 71,
   "metadata": {
    "collapsed": true
   },
   "outputs": [],
   "source": [
    "scores = list(raw_data.values())"
   ]
  },
  {
   "cell_type": "code",
   "execution_count": 72,
   "metadata": {},
   "outputs": [
    {
     "data": {
      "text/plain": [
       "[95, 25, 50, 15, 100, 10, 25, 80, 95, 20]"
      ]
     },
     "execution_count": 72,
     "metadata": {},
     "output_type": "execute_result"
    }
   ],
   "source": [
    "scores"
   ]
  },
  {
   "cell_type": "code",
   "execution_count": 90,
   "metadata": {},
   "outputs": [
    {
     "name": "stdout",
     "output_type": "stream",
     "text": [
      "평균 :51.5, 분산 : 1240.2, 표준편차 : 35.2 \n",
      "\n",
      "성적은 평균 이상이지만 학생들 실력 차이가 크다. 주의 요망!\n"
     ]
    }
   ],
   "source": [
    "#평균\n",
    "avrg = reduce(lambda a,b :a + b, scores)/len(scores)\n",
    "\n",
    "#분산\n",
    "variance = round(reduce(lambda a,b : a+b , map(lambda s: (s-avrg)**2, scores))/len(scores),1)\n",
    "\n",
    "# 표준편차 \n",
    "std_dev = round(math.sqrt(variance), 1)\n",
    "\n",
    "print(\"평균 :{}, 분산 : {}, 표준편차 : {}\".format(avrg, variance, std_dev),'\\n')\n",
    "\n",
    "if avrg < 50 and std_dev > 20:\n",
    "    print(\"성적이 너무 저조하고 학생들의 실력차이가 너무 크다.\")\n",
    "elif avrg > 50 and std_dev > 20:\n",
    "    print(\"성적은 평균 이상이지만 학생들 실력 차이가 크다. 주의 요망!\")\n",
    "elif avrg < 50 and std_dev <20:\n",
    "    print(\"학생들간 실력차이는 나지 않으나 성적이 너무 저조하다. 주의 요망!\")\n",
    "elif avrg > 50 and std_dev<20:\n",
    "    print(\"성적도 평균 이상이고 학새읃ㄹ의 실력차도 크지 않다.\")\n",
    "    \n"
   ]
  },
  {
   "cell_type": "code",
   "execution_count": 84,
   "metadata": {},
   "outputs": [
    {
     "data": {
      "text/plain": [
       "35.2"
      ]
     },
     "execution_count": 84,
     "metadata": {},
     "output_type": "execute_result"
    }
   ],
   "source": []
  },
  {
   "cell_type": "code",
   "execution_count": 79,
   "metadata": {},
   "outputs": [
    {
     "name": "stdout",
     "output_type": "stream",
     "text": [
      "Help on built-in function round in module builtins:\n",
      "\n",
      "round(...)\n",
      "    round(number[, ndigits]) -> number\n",
      "    \n",
      "    Round a number to a given precision in decimal digits (default 0 digits).\n",
      "    This returns an int when called with one argument, otherwise the\n",
      "    same type as the number. ndigits may be negative.\n",
      "\n"
     ]
    }
   ],
   "source": []
  },
  {
   "cell_type": "code",
   "execution_count": null,
   "metadata": {
    "collapsed": true
   },
   "outputs": [],
   "source": []
  },
  {
   "cell_type": "code",
   "execution_count": null,
   "metadata": {
    "collapsed": true
   },
   "outputs": [],
   "source": []
  },
  {
   "cell_type": "code",
   "execution_count": 91,
   "metadata": {
    "collapsed": true
   },
   "outputs": [],
   "source": [
    "# class는 템플릿이다.(붕어빵 틀) : 무언가를 찍어내는 틀이다..?\n",
    "class Account: # class의 구조임. class 함수이름(캐피털라이징함. 첫문자는 대문자)\n",
    "    \n",
    "    # 생성자\n",
    "    # 맴버의 초기화 진행?\n",
    "    def __init__(self, name, money): # self 가 하는 의미가 있지만. 나중에 하고 __는 파이썬이 예약해놓은 문자\n",
    "        #instance member : 연관 있는 변수\n",
    "        self.user = name\n",
    "        self.balance = money\n",
    "    \n",
    "    \n",
    "    def __del__(self):\n",
    "        pass\n",
    "    \n",
    "        # 소멸자\n",
    "        # 주 목적은 메모리의 해제\n",
    "        # 거의 쓰이지 않음\n",
    "        \n",
    "    # instance method : 연관 있는 함수들의 모임.\n",
    "    def deposit(self, money):\n",
    "        if money <= 0:\n",
    "            return None # 여기서부터 인터페이스 설계하는거임 None, True, False\n",
    "        else:\n",
    "            self.balance += money\n",
    "            return self.balance\n",
    "    \n",
    "    def withdraw(self, money):\n",
    "        '''\n",
    "        obj.withdraw(self, money) -> bool -> 객체 함수라는걸 표현하기위해서..\n",
    "        '''\n",
    "        if money <= self.balance:\n",
    "            self.balance -= money # 얼마를 뽑앗다..\n",
    "            return True\n",
    "        else:\n",
    "            return False\n",
    "        \n",
    "    '''   \n",
    "    def __str__(self):\n",
    "        return '{}, {}'.format(self.user, self.balance)\n",
    "    '''"
   ]
  },
  {
   "cell_type": "code",
   "execution_count": 93,
   "metadata": {
    "collapsed": true
   },
   "outputs": [],
   "source": [
    "my = Account('min', 1000)\n",
    "you = Account('jun', 2000)"
   ]
  },
  {
   "cell_type": "code",
   "execution_count": 94,
   "metadata": {},
   "outputs": [
    {
     "data": {
      "text/plain": [
       "<__main__.Account at 0x107762f28>"
      ]
     },
     "execution_count": 94,
     "metadata": {},
     "output_type": "execute_result"
    }
   ],
   "source": [
    "my"
   ]
  },
  {
   "cell_type": "code",
   "execution_count": 96,
   "metadata": {},
   "outputs": [
    {
     "data": {
      "text/plain": [
       "method"
      ]
     },
     "execution_count": 96,
     "metadata": {},
     "output_type": "execute_result"
    }
   ],
   "source": [
    "type(my.deposit)"
   ]
  },
  {
   "cell_type": "code",
   "execution_count": 97,
   "metadata": {},
   "outputs": [
    {
     "data": {
      "text/plain": [
       "function"
      ]
     },
     "execution_count": 97,
     "metadata": {},
     "output_type": "execute_result"
    }
   ],
   "source": [
    "type(Account.deposit)"
   ]
  },
  {
   "cell_type": "code",
   "execution_count": 98,
   "metadata": {},
   "outputs": [
    {
     "data": {
      "text/plain": [
       "1300"
      ]
     },
     "execution_count": 98,
     "metadata": {},
     "output_type": "execute_result"
    }
   ],
   "source": [
    "my.deposit(300)"
   ]
  },
  {
   "cell_type": "code",
   "execution_count": 100,
   "metadata": {},
   "outputs": [
    {
     "data": {
      "text/plain": [
       "2500"
      ]
     },
     "execution_count": 100,
     "metadata": {},
     "output_type": "execute_result"
    }
   ],
   "source": [
    "Account.deposit(you, 500)"
   ]
  },
  {
   "cell_type": "code",
   "execution_count": 139,
   "metadata": {},
   "outputs": [],
   "source": [
    "class Account:\n",
    "    #class member\n",
    "    name = 'Good life'\n",
    "    interest_rate = 7.0\n",
    "    kind = 'demand deposit'\n",
    "\n",
    "    \n",
    "    @classmethod \n",
    "    def get_account_info(cls):\n",
    "        return cls.name, cls.interest_rate, cls.kind\n",
    "    \n",
    "    def __init__(self, name, money):\n",
    "        #object member\n",
    "        self.user = name\n",
    "        self.balance = money\n",
    "\n",
    "    #destructor\n",
    "    def __del__(self):\n",
    "        pass\n",
    "\n",
    "    #object methord\n",
    "    def deposit(self, money):\n",
    "        if money < 0:\n",
    "            return\n",
    "        self.balance += money\n",
    "        print(\"your money is : {}\".format(self.balance))\n",
    "\n",
    "    def withdraw(self, money):\n",
    "        if money > 0 and money <= self.balance:\n",
    "            self.balance -= money\n",
    "            return self.balance\n",
    "        else:\n",
    "            return None\n",
    "        \n",
    "    def transfer(self, other, money):\n",
    "        mon = self.withdraw(money)\n",
    "        \n",
    "        if mon:\n",
    "            other.deposit(mon)\n",
    "            return True\n",
    "        \n",
    "        else:\n",
    "            return False\n",
    "    def __str__(self):\n",
    "        return 'user : {}, balance : {}'.format(self.user, self.balance)\n",
    "\n",
    "        "
   ]
  },
  {
   "cell_type": "code",
   "execution_count": 132,
   "metadata": {
    "collapsed": true
   },
   "outputs": [],
   "source": [
    "my = Account('min', 2000)\n",
    "you = Account('jun', 1000)"
   ]
  },
  {
   "cell_type": "code",
   "execution_count": 133,
   "metadata": {},
   "outputs": [
    {
     "name": "stdout",
     "output_type": "stream",
     "text": [
      "your money is : 2300\n",
      "your money is : 1500\n"
     ]
    }
   ],
   "source": [
    "my.deposit(300)\n",
    "you.deposit(500)"
   ]
  },
  {
   "cell_type": "code",
   "execution_count": 134,
   "metadata": {},
   "outputs": [
    {
     "data": {
      "text/plain": [
       "2000"
      ]
     },
     "execution_count": 134,
     "metadata": {},
     "output_type": "execute_result"
    }
   ],
   "source": [
    "my.withdraw(300)"
   ]
  },
  {
   "cell_type": "code",
   "execution_count": 135,
   "metadata": {},
   "outputs": [
    {
     "name": "stdout",
     "output_type": "stream",
     "text": [
      "your money is : 3100\n"
     ]
    },
    {
     "data": {
      "text/plain": [
       "True"
      ]
     },
     "execution_count": 135,
     "metadata": {},
     "output_type": "execute_result"
    }
   ],
   "source": [
    "my.transfer(you, 400)"
   ]
  },
  {
   "cell_type": "code",
   "execution_count": 136,
   "metadata": {},
   "outputs": [
    {
     "data": {
      "text/plain": [
       "1600"
      ]
     },
     "execution_count": 136,
     "metadata": {},
     "output_type": "execute_result"
    }
   ],
   "source": [
    "you.balance\n",
    "my.balance"
   ]
  },
  {
   "cell_type": "code",
   "execution_count": 143,
   "metadata": {},
   "outputs": [
    {
     "name": "stdout",
     "output_type": "stream",
     "text": [
      "Help on class property in module builtins:\n",
      "\n",
      "class property(object)\n",
      " |  property(fget=None, fset=None, fdel=None, doc=None) -> property attribute\n",
      " |  \n",
      " |  fget is a function to be used for getting an attribute value, and likewise\n",
      " |  fset is a function for setting, and fdel a function for del'ing, an\n",
      " |  attribute.  Typical use is to define a managed attribute x:\n",
      " |  \n",
      " |  class C(object):\n",
      " |      def getx(self): return self._x\n",
      " |      def setx(self, value): self._x = value\n",
      " |      def delx(self): del self._x\n",
      " |      x = property(getx, setx, delx, \"I'm the 'x' property.\")\n",
      " |  \n",
      " |  Decorators make defining new properties or modifying existing ones easy:\n",
      " |  \n",
      " |  class C(object):\n",
      " |      @property\n",
      " |      def x(self):\n",
      " |          \"I am the 'x' property.\"\n",
      " |          return self._x\n",
      " |      @x.setter\n",
      " |      def x(self, value):\n",
      " |          self._x = value\n",
      " |      @x.deleter\n",
      " |      def x(self):\n",
      " |          del self._x\n",
      " |  \n",
      " |  Methods defined here:\n",
      " |  \n",
      " |  __delete__(self, instance, /)\n",
      " |      Delete an attribute of instance.\n",
      " |  \n",
      " |  __get__(self, instance, owner, /)\n",
      " |      Return an attribute of instance, which is of type owner.\n",
      " |  \n",
      " |  __getattribute__(self, name, /)\n",
      " |      Return getattr(self, name).\n",
      " |  \n",
      " |  __init__(self, /, *args, **kwargs)\n",
      " |      Initialize self.  See help(type(self)) for accurate signature.\n",
      " |  \n",
      " |  __new__(*args, **kwargs) from builtins.type\n",
      " |      Create and return a new object.  See help(type) for accurate signature.\n",
      " |  \n",
      " |  __set__(self, instance, value, /)\n",
      " |      Set an attribute of instance to value.\n",
      " |  \n",
      " |  deleter(...)\n",
      " |      Descriptor to change the deleter on a property.\n",
      " |  \n",
      " |  getter(...)\n",
      " |      Descriptor to change the getter on a property.\n",
      " |  \n",
      " |  setter(...)\n",
      " |      Descriptor to change the setter on a property.\n",
      " |  \n",
      " |  ----------------------------------------------------------------------\n",
      " |  Data descriptors defined here:\n",
      " |  \n",
      " |  __isabstractmethod__\n",
      " |  \n",
      " |  fdel\n",
      " |  \n",
      " |  fget\n",
      " |  \n",
      " |  fset\n",
      "\n"
     ]
    }
   ],
   "source": [
    "help(property)"
   ]
  },
  {
   "cell_type": "code",
   "execution_count": 144,
   "metadata": {},
   "outputs": [
    {
     "ename": "IndentationError",
     "evalue": "unexpected indent (<ipython-input-144-6740a3967a3b>, line 2)",
     "output_type": "error",
     "traceback": [
      "\u001b[0;36m  File \u001b[0;32m\"<ipython-input-144-6740a3967a3b>\"\u001b[0;36m, line \u001b[0;32m2\u001b[0m\n\u001b[0;31m    |  class C(object):\u001b[0m\n\u001b[0m    ^\u001b[0m\n\u001b[0;31mIndentationError\u001b[0m\u001b[0;31m:\u001b[0m unexpected indent\n"
     ]
    }
   ],
   "source": []
  },
  {
   "cell_type": "code",
   "execution_count": 184,
   "metadata": {},
   "outputs": [],
   "source": [
    "class Person:\n",
    "    def __init__(self, money):\n",
    "        self._m = money\n",
    "        \n",
    "    @property\n",
    "    def money(self):\n",
    "        print('getter')\n",
    "        return self._m\n",
    "    \n",
    "    @money.setter\n",
    "    def money(self, money):\n",
    "        print('setter')\n",
    "        self._m = money\n",
    "        \n",
    "@money.getter\n",
    "    def money(self, money, name):\n",
    "        print(name)\n",
    "        print(self._m)\n",
    "        \n",
    "\n",
    "        "
   ]
  },
  {
   "cell_type": "code",
   "execution_count": 170,
   "metadata": {},
   "outputs": [],
   "source": [
    "if __name__ ==\"__main__\":\n",
    "    p1 = Person(1000)\n",
    "    \n",
    "    "
   ]
  },
  {
   "cell_type": "code",
   "execution_count": 171,
   "metadata": {},
   "outputs": [
    {
     "name": "stdout",
     "output_type": "stream",
     "text": [
      "setter\n"
     ]
    }
   ],
   "source": [
    "if __name__ ==\"__main__\":\n",
    "    p1.money = 3000\n"
   ]
  },
  {
   "cell_type": "code",
   "execution_count": 181,
   "metadata": {},
   "outputs": [],
   "source": [
    "p1 = Person(1000)"
   ]
  },
  {
   "cell_type": "code",
   "execution_count": 185,
   "metadata": {},
   "outputs": [
    {
     "name": "stdout",
     "output_type": "stream",
     "text": [
      "getter\n"
     ]
    },
    {
     "data": {
      "text/plain": [
       "1000"
      ]
     },
     "execution_count": 185,
     "metadata": {},
     "output_type": "execute_result"
    }
   ],
   "source": [
    "p1.money"
   ]
  },
  {
   "cell_type": "code",
   "execution_count": 186,
   "metadata": {},
   "outputs": [
    {
     "name": "stdout",
     "output_type": "stream",
     "text": [
      "getter\n"
     ]
    },
    {
     "ename": "TypeError",
     "evalue": "'int' object is not callable",
     "output_type": "error",
     "traceback": [
      "\u001b[0;31m---------------------------------------------------------------------------\u001b[0m",
      "\u001b[0;31mTypeError\u001b[0m                                 Traceback (most recent call last)",
      "\u001b[0;32m<ipython-input-186-56ec4c9db5ce>\u001b[0m in \u001b[0;36m<module>\u001b[0;34m()\u001b[0m\n\u001b[0;32m----> 1\u001b[0;31m \u001b[0mp1\u001b[0m\u001b[0;34m.\u001b[0m\u001b[0mmoney\u001b[0m\u001b[0;34m(\u001b[0m\u001b[0;36m2000\u001b[0m\u001b[0;34m)\u001b[0m\u001b[0;34m\u001b[0m\u001b[0m\n\u001b[0m",
      "\u001b[0;31mTypeError\u001b[0m: 'int' object is not callable"
     ]
    }
   ],
   "source": [
    "p1.money(2000)"
   ]
  },
  {
   "cell_type": "code",
   "execution_count": 187,
   "metadata": {},
   "outputs": [
    {
     "name": "stdout",
     "output_type": "stream",
     "text": [
      "getter\n"
     ]
    },
    {
     "ename": "TypeError",
     "evalue": "'int' object is not callable",
     "output_type": "error",
     "traceback": [
      "\u001b[0;31m---------------------------------------------------------------------------\u001b[0m",
      "\u001b[0;31mTypeError\u001b[0m                                 Traceback (most recent call last)",
      "\u001b[0;32m<ipython-input-187-834d4482a5af>\u001b[0m in \u001b[0;36m<module>\u001b[0;34m()\u001b[0m\n\u001b[0;32m----> 1\u001b[0;31m \u001b[0mp1\u001b[0m\u001b[0;34m.\u001b[0m\u001b[0mmoney\u001b[0m\u001b[0;34m(\u001b[0m\u001b[0;36m2000\u001b[0m\u001b[0;34m,\u001b[0m \u001b[0;34m'min'\u001b[0m\u001b[0;34m)\u001b[0m\u001b[0;34m\u001b[0m\u001b[0m\n\u001b[0m",
      "\u001b[0;31mTypeError\u001b[0m: 'int' object is not callable"
     ]
    }
   ],
   "source": [
    "p1.money(2000, 'min')"
   ]
  },
  {
   "cell_type": "code",
   "execution_count": 188,
   "metadata": {},
   "outputs": [
    {
     "name": "stdout",
     "output_type": "stream",
     "text": [
      "BOW-WOW\n",
      "MEW MEW\n",
      "QUACK QUACK\n"
     ]
    }
   ],
   "source": [
    "from abc import *\n",
    "\n",
    "#추상 클래스\n",
    "#인스턴스를 만들 수 없다.\n",
    "#인터페이스를 제공한다.\n",
    "class Animal(metaclass = ABCMeta):\n",
    "    @abstractmethod\n",
    "    def say(self):\n",
    "        pass\n",
    "\n",
    "class Dog(Animal):\n",
    "    def say(self):\n",
    "        print('BOW-WOW')\n",
    "\n",
    "class Cat(Animal):\n",
    "    def say(self):\n",
    "        print('MEW MEW')\n",
    "\n",
    "class Duck(Animal):\n",
    "    def say(self):\n",
    "        print('QUACK QUACK')\n",
    "    \n",
    "if __name__ == \"__main__\":\n",
    "    animals = []\n",
    "    \n",
    "    animals.append(Dog())\n",
    "    animals.append(Cat())\n",
    "    animals.append(Duck())\n",
    "\n",
    "    #어떤 동물인지 알 필요 없다.\n",
    "    #객체에 따라 그에 맞는 메서드가 호출됨\n",
    "    for animal in animals:\n",
    "        animal.say()\n"
   ]
  },
  {
   "cell_type": "code",
   "execution_count": 209,
   "metadata": {
    "collapsed": true
   },
   "outputs": [],
   "source": [
    "# 위의 방법이랑 이어서 \n",
    "\n",
    "class Point:\n",
    "    def __init__(self, x = 0, y= 0 ): # x, y 를 디폴트 값으로 0을 선언할수 있음.\n",
    "        self.x = x\n",
    "        self.y = y\n",
    "        \n",
    "    def get_point(self):\n",
    "        return self.x, self.y # 즉, 튜플로 던지는거임\n",
    "    \n",
    "    def set_point(self, x, y):\n",
    "        self.x = x\n",
    "        self.y = y\n",
    "        \n",
    "    # __add__ 를 추가함\n",
    "    def __add__(self, other):\n",
    "        _x = self.x + other\n",
    "        _y = self.y + other\n",
    "        return Point(_x, _y)\n",
    "        \n",
    "    def __radd__(self, other): # 이걸 넣어서 된거임\n",
    "        return self.__add__(other)\n",
    "    \n",
    "    def __str__(self):\n",
    "        \n",
    "        return '({}, {})'.format(self.x, self.y)"
   ]
  },
  {
   "cell_type": "code",
   "execution_count": 210,
   "metadata": {
    "collapsed": true
   },
   "outputs": [],
   "source": [
    "p1  =Point()"
   ]
  },
  {
   "cell_type": "code",
   "execution_count": 211,
   "metadata": {},
   "outputs": [
    {
     "data": {
      "text/plain": [
       "<__main__.Point at 0x1077792e8>"
      ]
     },
     "execution_count": 211,
     "metadata": {},
     "output_type": "execute_result"
    }
   ],
   "source": [
    "p1"
   ]
  },
  {
   "cell_type": "code",
   "execution_count": 212,
   "metadata": {},
   "outputs": [
    {
     "data": {
      "text/plain": [
       "(0, 0)"
      ]
     },
     "execution_count": 212,
     "metadata": {},
     "output_type": "execute_result"
    }
   ],
   "source": [
    "p1.get_point()"
   ]
  },
  {
   "cell_type": "code",
   "execution_count": 213,
   "metadata": {
    "collapsed": true
   },
   "outputs": [],
   "source": [
    "p1.set_point(1,1)"
   ]
  },
  {
   "cell_type": "code",
   "execution_count": 214,
   "metadata": {},
   "outputs": [
    {
     "data": {
      "text/plain": [
       "(1, 1)"
      ]
     },
     "execution_count": 214,
     "metadata": {},
     "output_type": "execute_result"
    }
   ],
   "source": [
    "p1.get_point()"
   ]
  },
  {
   "cell_type": "code",
   "execution_count": 215,
   "metadata": {
    "collapsed": true
   },
   "outputs": [],
   "source": [
    "p2 = p1 + 2"
   ]
  },
  {
   "cell_type": "code",
   "execution_count": 216,
   "metadata": {},
   "outputs": [
    {
     "data": {
      "text/plain": [
       "<__main__.Point at 0x10756f6d8>"
      ]
     },
     "execution_count": 216,
     "metadata": {},
     "output_type": "execute_result"
    }
   ],
   "source": [
    "p2"
   ]
  },
  {
   "cell_type": "code",
   "execution_count": 217,
   "metadata": {},
   "outputs": [
    {
     "data": {
      "text/plain": [
       "(3, 3)"
      ]
     },
     "execution_count": 217,
     "metadata": {},
     "output_type": "execute_result"
    }
   ],
   "source": [
    "p2.get_point()"
   ]
  },
  {
   "cell_type": "code",
   "execution_count": 218,
   "metadata": {},
   "outputs": [],
   "source": [
    "p3 = 2 + p2"
   ]
  },
  {
   "cell_type": "code",
   "execution_count": 220,
   "metadata": {},
   "outputs": [
    {
     "data": {
      "text/plain": [
       "(5, 5)"
      ]
     },
     "execution_count": 220,
     "metadata": {},
     "output_type": "execute_result"
    }
   ],
   "source": [
    "p3.get_point()"
   ]
  },
  {
   "cell_type": "code",
   "execution_count": 221,
   "metadata": {},
   "outputs": [
    {
     "name": "stdout",
     "output_type": "stream",
     "text": [
      "setter\n",
      "getter\n",
      "3000\n"
     ]
    }
   ],
   "source": [
    "class Person:\n",
    "    def __init__(self, money):\n",
    "        self._m = money\n",
    "\n",
    "    @property\n",
    "    def money(self):\n",
    "        print('getter')\n",
    "        return self._m\n",
    "\n",
    "    @money.setter\n",
    "    def money(self, money):\n",
    "        print('setter')\n",
    "        self._m = money\n",
    "\n",
    "if __name__ == \"__main__\":\n",
    "    p1 = Person(1000)\n",
    "    #setter 호출\n",
    "    p1.money = 3000\n",
    "    #getter 호출 \n",
    "    m = p1.money\n",
    "    print(m)"
   ]
  },
  {
   "cell_type": "code",
   "execution_count": null,
   "metadata": {
    "collapsed": true
   },
   "outputs": [],
   "source": []
  }
 ],
 "metadata": {
  "kernelspec": {
   "display_name": "Python 3",
   "language": "python",
   "name": "python3"
  },
  "language_info": {
   "codemirror_mode": {
    "name": "ipython",
    "version": 3
   },
   "file_extension": ".py",
   "mimetype": "text/x-python",
   "name": "python",
   "nbconvert_exporter": "python",
   "pygments_lexer": "ipython3",
   "version": "3.6.2"
  }
 },
 "nbformat": 4,
 "nbformat_minor": 2
}

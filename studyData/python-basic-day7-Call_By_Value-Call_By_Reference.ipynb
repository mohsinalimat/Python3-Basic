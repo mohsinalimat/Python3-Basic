{
 "cells": [
  {
   "cell_type": "code",
   "execution_count": 1,
   "metadata": {
    "collapsed": true
   },
   "outputs": [],
   "source": [
    "###### 파이썬이나, c언어를 맨처음 실행하고 더블클릭을 하면, main이 시작이됨..?\n",
    "\n",
    "# 오늘은 공책에 쓰는것이 더 많음.\n"
   ]
  },
  {
   "cell_type": "code",
   "execution_count": 3,
   "metadata": {
    "collapsed": true
   },
   "outputs": [],
   "source": [
    "# call by object reference\n",
    "# call by assignmnet - > call by object reference 보다  더 익숙하다."
   ]
  },
  {
   "cell_type": "code",
   "execution_count": null,
   "metadata": {
    "collapsed": true
   },
   "outputs": [],
   "source": [
    "\n",
    "\n"
   ]
  },
  {
   "cell_type": "code",
   "execution_count": null,
   "metadata": {
    "collapsed": true
   },
   "outputs": [],
   "source": []
  },
  {
   "cell_type": "code",
   "execution_count": 12,
   "metadata": {},
   "outputs": [
    {
     "name": "stdout",
     "output_type": "stream",
     "text": [
      "x : 20 in change_value\n",
      "x : 10 in change_value.\n"
     ]
    }
   ],
   "source": [
    "####QQQQQQQQQQQQQQQQQQQQQ\n",
    "\n",
    "def change_value(x, value):\n",
    "    x = value\n",
    "    print(\"x : {} in change_value\".format(x)) \n",
    "    # format은 스트링의 내장함수라서 스트링.format 해야함\n",
    "    \n",
    "x = 10 #QQQQ 이 함수를 실행하면 위의 함수먼저 실행이되서 흐름이 시작되는게 아니라, x 가 먼저 실행되는이유는...?\n",
    "change_value(x, 20)\n",
    "print(\"x : {} in change_value.\".format(x))\n",
    "\n",
    "# 아 python은 ->>call by value 구나"
   ]
  },
  {
   "cell_type": "code",
   "execution_count": null,
   "metadata": {
    "collapsed": true
   },
   "outputs": [],
   "source": []
  },
  {
   "cell_type": "code",
   "execution_count": 1,
   "metadata": {},
   "outputs": [
    {
     "name": "stdout",
     "output_type": "stream",
     "text": [
      "[1, 2, 3, 4]\n",
      "['aaa', 2, 3, 4]\n",
      "['aaa', 2, 3, 4]\n"
     ]
    }
   ],
   "source": [
    "# python --> call by value\n",
    "\n",
    "def change_value(li, idx, value):\n",
    "    li[idx] = value\n",
    "    print(li)\n",
    "\n",
    "li = [1,2,3,4]\n",
    "\n",
    "change_value(li, 0, \"aaa\")\n",
    "print(li)\n",
    "\n",
    "# 파이썬은 둘다 아니구나. \n",
    "# neither : call by object reference, call by vlaue 도 아니구나.. 뭐지?\n",
    "# 기존의 메모리를 새롭게 잡은게 아니라, 기존의 메모리에 값을 바꾸어 준것임.."
   ]
  },
  {
   "cell_type": "code",
   "execution_count": null,
   "metadata": {
    "collapsed": true
   },
   "outputs": [],
   "source": []
  },
  {
   "cell_type": "code",
   "execution_count": 17,
   "metadata": {},
   "outputs": [
    {
     "name": "stdout",
     "output_type": "stream",
     "text": [
      "['bbb', 2, 3, 4]\n",
      "[1, 2, 3, 4]\n"
     ]
    }
   ],
   "source": [
    "# mutable은 다 변경이 되는 거구나 라고 생각하고 실행\n",
    "\n",
    "\n",
    "\n",
    "def change_value(li):\n",
    "    li = [\"bbb\", 2,3,4] # 함수 내에서 새로운 메모리를 할당 하느냐, 안하느냐의 차이이다.\n",
    "    print(li)\n",
    "\n",
    "li = [1,2,3,4]\n",
    "change_value(li)\n",
    "print(li)\n",
    "\n",
    "# call by assigenment\n"
   ]
  },
  {
   "cell_type": "code",
   "execution_count": null,
   "metadata": {
    "collapsed": true
   },
   "outputs": [],
   "source": []
  },
  {
   "cell_type": "code",
   "execution_count": null,
   "metadata": {
    "collapsed": true
   },
   "outputs": [],
   "source": []
  },
  {
   "cell_type": "code",
   "execution_count": null,
   "metadata": {
    "collapsed": true
   },
   "outputs": [],
   "source": []
  },
  {
   "cell_type": "code",
   "execution_count": 27,
   "metadata": {
    "collapsed": true
   },
   "outputs": [],
   "source": [
    "# ex) 예제\n",
    "\n",
    "def change_value(s):\n",
    "    s = \"abcde\"\n",
    "    \n",
    "s = \"zzzzzz\"\n",
    "f = change_value(s) \n",
    "\n",
    "# 스트링은 이뮤터블 이기때문에, 바꿀수가 없음 애초에."
   ]
  },
  {
   "cell_type": "code",
   "execution_count": 28,
   "metadata": {},
   "outputs": [
    {
     "name": "stdout",
     "output_type": "stream",
     "text": [
      "None\n"
     ]
    }
   ],
   "source": [
    "print(f)"
   ]
  },
  {
   "cell_type": "code",
   "execution_count": null,
   "metadata": {
    "collapsed": true
   },
   "outputs": [],
   "source": []
  },
  {
   "cell_type": "code",
   "execution_count": null,
   "metadata": {
    "collapsed": true
   },
   "outputs": [],
   "source": []
  },
  {
   "cell_type": "code",
   "execution_count": 30,
   "metadata": {},
   "outputs": [
    {
     "ename": "SyntaxError",
     "evalue": "invalid syntax (<ipython-input-30-0c84765a568a>, line 1)",
     "output_type": "error",
     "traceback": [
      "\u001b[0;36m  File \u001b[0;32m\"<ipython-input-30-0c84765a568a>\"\u001b[0;36m, line \u001b[0;32m1\u001b[0m\n\u001b[0;31m    import sys (#import system)\u001b[0m\n\u001b[0m               ^\u001b[0m\n\u001b[0;31mSyntaxError\u001b[0m\u001b[0;31m:\u001b[0m invalid syntax\n"
     ]
    }
   ],
   "source": [
    "import sys (#import system)\n"
   ]
  },
  {
   "cell_type": "code",
   "execution_count": 33,
   "metadata": {
    "collapsed": true
   },
   "outputs": [],
   "source": [
    "import sys"
   ]
  },
  {
   "cell_type": "code",
   "execution_count": 43,
   "metadata": {},
   "outputs": [
    {
     "data": {
      "text/plain": [
       "3"
      ]
     },
     "execution_count": 43,
     "metadata": {},
     "output_type": "execute_result"
    }
   ],
   "source": [
    "s = \"i am your fater!\"\n",
    "sys.getrefcount(s) \n",
    "# getrefcount(s) 변수에 누가 몇번 참조하는지 찾는것. 여기서 말고 파이썬 idle 들어가서 확인 해보면 나옴."
   ]
  },
  {
   "cell_type": "code",
   "execution_count": 38,
   "metadata": {
    "collapsed": true
   },
   "outputs": [],
   "source": []
  },
  {
   "cell_type": "code",
   "execution_count": 40,
   "metadata": {},
   "outputs": [
    {
     "data": {
      "text/plain": [
       "3"
      ]
     },
     "execution_count": 40,
     "metadata": {},
     "output_type": "execute_result"
    }
   ],
   "source": [
    "b = s\n",
    "sys.getrefcount(s)\n"
   ]
  },
  {
   "cell_type": "code",
   "execution_count": 41,
   "metadata": {
    "collapsed": true
   },
   "outputs": [],
   "source": [
    "del b "
   ]
  },
  {
   "cell_type": "code",
   "execution_count": 42,
   "metadata": {},
   "outputs": [
    {
     "data": {
      "text/plain": [
       "2"
      ]
     },
     "execution_count": 42,
     "metadata": {},
     "output_type": "execute_result"
    }
   ],
   "source": [
    "sys.getrefcount(s) # reference count 개수 찾는 명령어."
   ]
  },
  {
   "cell_type": "code",
   "execution_count": null,
   "metadata": {
    "collapsed": true
   },
   "outputs": [],
   "source": []
  },
  {
   "cell_type": "code",
   "execution_count": null,
   "metadata": {
    "collapsed": true
   },
   "outputs": [],
   "source": []
  },
  {
   "cell_type": "code",
   "execution_count": null,
   "metadata": {
    "collapsed": true
   },
   "outputs": [],
   "source": []
  },
  {
   "cell_type": "code",
   "execution_count": 49,
   "metadata": {},
   "outputs": [
    {
     "name": "stdout",
     "output_type": "stream",
     "text": [
      "[10, 2, 3, 4]\n"
     ]
    },
    {
     "data": {
      "text/plain": [
       "[10, 2, 3, 4]"
      ]
     },
     "execution_count": 49,
     "metadata": {},
     "output_type": "execute_result"
    }
   ],
   "source": [
    "# mutable, 변경이 가능할때 리스트 안에서 리스트를 변경 시키는 방법\n",
    "\n",
    "def func(li):\n",
    "        li[0] = 10 # 리스트의 첫번째 자리를 10으로 바꿔!\n",
    "\n",
    "li = [1,2,3,4,]\n",
    "func(li)\n",
    "print(li)\n",
    "li \n",
    "# 오 이 예제가 좋다.. 맨처음 li 가 메모리 에 쌓이고, 그다음에 실행한 함수에 넣어서 li[0] = 10 을 바꾸어 주고"
   ]
  },
  {
   "cell_type": "code",
   "execution_count": null,
   "metadata": {
    "collapsed": true
   },
   "outputs": [],
   "source": []
  },
  {
   "cell_type": "code",
   "execution_count": 52,
   "metadata": {},
   "outputs": [
    {
     "name": "stdout",
     "output_type": "stream",
     "text": [
      "[10, 2, 3, 4]\n"
     ]
    },
    {
     "data": {
      "text/plain": [
       "[1, 2, 3, 4]"
      ]
     },
     "execution_count": 52,
     "metadata": {},
     "output_type": "execute_result"
    }
   ],
   "source": [
    "def func(li):\n",
    "    li = [10, 2, 3, 4] # 리스트를 함수 내에서 새롭게 할당한것임\n",
    "    print(li)          # 함수 내에서 실행을 하면 li = [10,2,3,4]는 사라지지 않고, 그대로 남아있음. 그런데 함수를 사용\n",
    "                       # 새롭게 할당을 하니까 아에 새로운 공간을 만들어 버림.\n",
    "    \n",
    "li = [1,2,3,4]\n",
    "func(li)\n",
    "\n",
    "li"
   ]
  },
  {
   "cell_type": "code",
   "execution_count": null,
   "metadata": {
    "collapsed": true
   },
   "outputs": [],
   "source": []
  },
  {
   "cell_type": "code",
   "execution_count": 83,
   "metadata": {},
   "outputs": [
    {
     "name": "stdout",
     "output_type": "stream",
     "text": [
      "None\n"
     ]
    }
   ],
   "source": [
    "# immutable\n",
    "\n",
    "def func(a):\n",
    "    a = 10\n",
    "   # print(a)\n",
    "\n",
    "    \n",
    "    \n",
    "x = 20\n",
    "print(func(x))\n",
    "#print(x)\n",
    "#print(func(x))\n",
    "\n",
    "\n"
   ]
  },
  {
   "cell_type": "code",
   "execution_count": 68,
   "metadata": {},
   "outputs": [
    {
     "data": {
      "text/plain": [
       "<function __main__.func>"
      ]
     },
     "execution_count": 68,
     "metadata": {},
     "output_type": "execute_result"
    }
   ],
   "source": [
    "func"
   ]
  },
  {
   "cell_type": "code",
   "execution_count": 84,
   "metadata": {},
   "outputs": [
    {
     "name": "stdout",
     "output_type": "stream",
     "text": [
      "None\n",
      "None\n"
     ]
    }
   ],
   "source": [
    "print(func(a))\n",
    "print(func(x))"
   ]
  },
  {
   "cell_type": "code",
   "execution_count": null,
   "metadata": {
    "collapsed": true
   },
   "outputs": [],
   "source": []
  },
  {
   "cell_type": "code",
   "execution_count": null,
   "metadata": {
    "collapsed": true
   },
   "outputs": [],
   "source": []
  },
  {
   "cell_type": "code",
   "execution_count": 99,
   "metadata": {},
   "outputs": [
    {
     "name": "stdout",
     "output_type": "stream",
     "text": [
      "20\n",
      "10\n"
     ]
    }
   ],
   "source": [
    "def func(a):\n",
    "    a = 20\n",
    "    print(a)\n",
    "    \n",
    "\n",
    "x = 10\n",
    "func(x)\n",
    "print(x)\n",
    "\n"
   ]
  },
  {
   "cell_type": "code",
   "execution_count": 101,
   "metadata": {},
   "outputs": [
    {
     "name": "stdout",
     "output_type": "stream",
     "text": [
      "20\n",
      "None\n"
     ]
    }
   ],
   "source": [
    "print(func(x)) # 이렇게 하면 func(x)가 20 을 반환함."
   ]
  },
  {
   "cell_type": "code",
   "execution_count": null,
   "metadata": {
    "collapsed": true
   },
   "outputs": [],
   "source": []
  },
  {
   "cell_type": "code",
   "execution_count": 102,
   "metadata": {
    "collapsed": true
   },
   "outputs": [],
   "source": [
    "# 그러면 이제 여기서 생기는 궁금증은. immutable 함수 일때 그 안의 값을 변경할수는 없느냐?\n",
    "# python Documents에서 명시한 방법이 있음\n"
   ]
  },
  {
   "cell_type": "code",
   "execution_count": 127,
   "metadata": {},
   "outputs": [
    {
     "name": "stdout",
     "output_type": "stream",
     "text": [
      "abc\n",
      "aaa\n",
      "abc\n",
      "None\n"
     ]
    }
   ],
   "source": [
    "def func(x):\n",
    "    x = \"abc\"\n",
    "    print(x) # 현재 print(x) 출력함\n",
    "    \n",
    "a = \"aaa\"\n",
    "func(a)   \n",
    "print(a) # a = \"aaa\" 를 출력함\n",
    "print(func(a)) #func(a) 는\n"
   ]
  },
  {
   "cell_type": "code",
   "execution_count": 118,
   "metadata": {},
   "outputs": [
    {
     "name": "stdout",
     "output_type": "stream",
     "text": [
      "20\n",
      "10\n",
      "20\n",
      "None\n"
     ]
    }
   ],
   "source": [
    "def func(a):\n",
    "    a = 20\n",
    "    print(a)\n",
    "\n",
    "x = 10\n",
    "func(x)\n",
    "print(x)\n",
    "print(func(x))"
   ]
  },
  {
   "cell_type": "code",
   "execution_count": 119,
   "metadata": {
    "collapsed": true
   },
   "outputs": [],
   "source": [
    "# mutable \n",
    "   #1) 요소를 바꾼다 == 변경 ㅐㅏ\n",
    "   #2) 리스트를 통째로 바꾼다 ==> 변경 X\n",
    "\n",
    "# immutable\n",
    "  # 그냥 변경이 안되\n",
    "    \n",
    "    \n",
    "# immutable 인것들은 상수, 스트링, 튜플()"
   ]
  },
  {
   "cell_type": "code",
   "execution_count": null,
   "metadata": {
    "collapsed": true
   },
   "outputs": [],
   "source": [
    "### QQQQQ immutable을 다시한번 찾아보자. "
   ]
  },
  {
   "cell_type": "code",
   "execution_count": null,
   "metadata": {
    "collapsed": true
   },
   "outputs": [],
   "source": []
  },
  {
   "cell_type": "code",
   "execution_count": null,
   "metadata": {
    "collapsed": true
   },
   "outputs": [],
   "source": [
    "## bin(25) : 25숫자를 2진수로 표현할수 있음\n",
    "# hex(d) : 'd' 를 16진수로 볼수 있께 해줌\n",
    "\n",
    "\n",
    "# hex(id(a)) = 1 바이트의 주소값을 알수 있음. 8 개\n"
   ]
  },
  {
   "cell_type": "code",
   "execution_count": null,
   "metadata": {
    "collapsed": true
   },
   "outputs": [],
   "source": []
  },
  {
   "cell_type": "code",
   "execution_count": 128,
   "metadata": {},
   "outputs": [
    {
     "data": {
      "text/plain": [
       "20"
      ]
     },
     "execution_count": 128,
     "metadata": {},
     "output_type": "execute_result"
    }
   ],
   "source": [
    "def func(a):\n",
    "    a = 20\n",
    "    #print(a)\n",
    "    return a # a 를 출력하는것?\n",
    "\n",
    "x = 10\n",
    "func(x)\n",
    "#print(x)\n",
    "func(x)"
   ]
  },
  {
   "cell_type": "code",
   "execution_count": null,
   "metadata": {
    "collapsed": true
   },
   "outputs": [],
   "source": []
  },
  {
   "cell_type": "code",
   "execution_count": null,
   "metadata": {
    "collapsed": true
   },
   "outputs": [],
   "source": [
    "#####QQQQQQQQ\n",
    "\n",
    "x = 1 \n",
    "y = 2\n",
    "\n",
    "def outer():\n",
    "    a = 10\n",
    "    b = 20\n",
    "    print(a)\n",
    "    def inner():\n",
    "        #nonlocal a # 이걸 쓰지 않아도 a 값이 변경 되는데 뭐지? # 출력해보면 a값이 inner()함수에 넣을 값으로 변경이 되어진다.\n",
    "        global x\n",
    "        a = 123\n",
    "        c = 30\n",
    "        d = 40\n",
    "        print(x, y, a, b, c, d)\n",
    "    inner()\n",
    "print(a)    "
   ]
  },
  {
   "cell_type": "code",
   "execution_count": 157,
   "metadata": {
    "collapsed": true
   },
   "outputs": [],
   "source": [
    "x = 1\n",
    "y = 2\n",
    "\n",
    "def outer():\n",
    "    a = 10\n",
    "    b = 20\n",
    "    print(a)\n",
    "    def inner():\n",
    "        nonlocal a # nonlocal을 선언하는것은 nonlocal을 선언하고 난 이후 아래의 a 값을 변경을 하면. outer()에 있는 a의 값이 맨처음 10, 20 으로 정의 되어있는데, nonlocal을 선언함으로써 outer()의 값을 바꾸어 주는것이됨.\n",
    "        a = 1200\n",
    "        c = 30\n",
    "        d = 40\n",
    "        \n",
    "        print(x, y, a, b, c, d)\n",
    "    inner()     \n",
    "    print(a, b)\n",
    "\n",
    "   "
   ]
  },
  {
   "cell_type": "code",
   "execution_count": 158,
   "metadata": {},
   "outputs": [
    {
     "name": "stdout",
     "output_type": "stream",
     "text": [
      "10\n",
      "1 2 1200 20 30 40\n",
      "1200 20\n",
      "None\n"
     ]
    }
   ],
   "source": [
    "print(outer())"
   ]
  },
  {
   "cell_type": "code",
   "execution_count": null,
   "metadata": {
    "collapsed": true
   },
   "outputs": [],
   "source": []
  }
 ],
 "metadata": {
  "kernelspec": {
   "display_name": "Python 3",
   "language": "python",
   "name": "python3"
  },
  "language_info": {
   "codemirror_mode": {
    "name": "ipython",
    "version": 3
   },
   "file_extension": ".py",
   "mimetype": "text/x-python",
   "name": "python",
   "nbconvert_exporter": "python",
   "pygments_lexer": "ipython3",
   "version": "3.6.2"
  }
 },
 "nbformat": 4,
 "nbformat_minor": 2
}

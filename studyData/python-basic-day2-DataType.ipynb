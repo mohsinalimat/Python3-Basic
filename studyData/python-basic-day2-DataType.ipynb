{
 "cells": [
  {
   "cell_type": "code",
   "execution_count": 1,
   "metadata": {},
   "outputs": [
    {
     "data": {
      "text/plain": [
       "3.0"
      ]
     },
     "execution_count": 1,
     "metadata": {},
     "output_type": "execute_result"
    }
   ],
   "source": [
    "# Type casting\n",
    "float(3)"
   ]
  },
  {
   "cell_type": "code",
   "execution_count": 5,
   "metadata": {},
   "outputs": [
    {
     "data": {
      "text/plain": [
       "3"
      ]
     },
     "execution_count": 5,
     "metadata": {},
     "output_type": "execute_result"
    }
   ],
   "source": [
    "int(3.4)\n",
    "# 소수점이 반올림되는것이 아니라, 소수점이 떨어져나감"
   ]
  },
  {
   "cell_type": "code",
   "execution_count": 3,
   "metadata": {},
   "outputs": [
    {
     "data": {
      "text/plain": [
       "3"
      ]
     },
     "execution_count": 3,
     "metadata": {},
     "output_type": "execute_result"
    }
   ],
   "source": [
    "int(3.7)"
   ]
  },
  {
   "cell_type": "code",
   "execution_count": 7,
   "metadata": {},
   "outputs": [
    {
     "data": {
      "text/plain": [
       "'100'"
      ]
     },
     "execution_count": 7,
     "metadata": {},
     "output_type": "execute_result"
    }
   ],
   "source": [
    "str(100)\n",
    "#str 연산자로 묶으면 숫자가 아니라 문자가 됨."
   ]
  },
  {
   "cell_type": "code",
   "execution_count": 10,
   "metadata": {},
   "outputs": [
    {
     "data": {
      "text/plain": [
       "100"
      ]
     },
     "execution_count": 10,
     "metadata": {},
     "output_type": "execute_result"
    }
   ],
   "source": [
    "int(\"100\")\n",
    "# int를 사용하면 문자가 아니라, 숫자 100이 나옴.."
   ]
  },
  {
   "cell_type": "code",
   "execution_count": 20,
   "metadata": {},
   "outputs": [
    {
     "name": "stdout",
     "output_type": "stream",
     "text": [
      "what is your name?a\n",
      "a\n"
     ]
    }
   ],
   "source": [
    "#user input\n",
    "name = input(\"what is your name?\")\n",
    "print(name)\n",
    "#네임 인풋을 하고.거기에 대한 질문에 대한 답을 내가 작성한다..\n",
    "#그리고 내가 작성한 글을 아랫단에 출력한다. 그 출력하는 명령어가 print()"
   ]
  },
  {
   "cell_type": "code",
   "execution_count": null,
   "metadata": {
    "collapsed": true
   },
   "outputs": [],
   "source": [
    "age = eval(input(\"how old are you\"))\n",
    "type(age)\n",
    "# type은. input 으로 사용자에게 물어보고 난후 그 결과값에 대한 타입을. 검사해줌.\n",
    "#그 검사해주는 명령어가 type()"
   ]
  },
  {
   "cell_type": "code",
   "execution_count": null,
   "metadata": {
    "collapsed": true
   },
   "outputs": [],
   "source": [
    "age = eval(input(\"aaaaaa\"))\n",
    "die_age = 100 - age\n",
    "print(die_age)\n",
    "\n",
    "#이렇게 한 이유 한번 확읺 ㅐ보자."
   ]
  },
  {
   "cell_type": "code",
   "execution_count": 36,
   "metadata": {},
   "outputs": [
    {
     "name": "stdout",
     "output_type": "stream",
     "text": [
      "I have a, + pen +,  I have an %s.\n"
     ]
    }
   ],
   "source": [
    "#string formatting\n",
    "pen = \"pen\"\n",
    "apple = \"apple\"\n",
    "print(\"I have a, + pen +,  I have an %s.\")"
   ]
  },
  {
   "cell_type": "code",
   "execution_count": 56,
   "metadata": {},
   "outputs": [
    {
     "name": "stdout",
     "output_type": "stream",
     "text": [
      "i have a pen, i have an apple.\n"
     ]
    }
   ],
   "source": [
    "#위의 방법을 다른 방법으로 하는 방법은\n",
    "pen =\"pen\"\n",
    "apple = \"apple\"\n",
    "print(\"i have a %s, i have an %s.\" % (pen, apple))\n",
    "\n",
    "# %%(퍼센테이지를 각각 정의 해주는 방법은거 같음.)\n",
    "# 위의 방법은 용어를 각각 정의해서 사용하는것."
   ]
  },
  {
   "cell_type": "code",
   "execution_count": 52,
   "metadata": {},
   "outputs": [
    {
     "name": "stdout",
     "output_type": "stream",
     "text": [
      "i have a       pen, i have an apple.\n",
      "i have a   sssssss, i have an sssssss.\n"
     ]
    }
   ],
   "source": [
    "string = \"sssssss\"\n",
    "print(\"i have a %9s, i have an %s.\" % (pen, apple))\n",
    "print(\"i have a %9s, i have an %s.\" % (string, string))\n",
    "\n",
    "# %9s 라는 스트링 포멧은, 뛰어쓰기 9자 안에 글자를 오른쪽으로 밀어 넣는것? 으로 생각하면 될듯. "
   ]
  },
  {
   "cell_type": "code",
   "execution_count": 54,
   "metadata": {},
   "outputs": [
    {
     "name": "stdout",
     "output_type": "stream",
     "text": [
      "i have a       pen, i have an apple.\n",
      "i have a   sssssss, i have an sssssss.\n"
     ]
    }
   ],
   "source": [
    "print(\"i have a %9s, i have an %s.\" % (pen, apple))\n",
    "print(\"i have a %9s, i have an %s.\" % (string, string))"
   ]
  },
  {
   "cell_type": "code",
   "execution_count": 64,
   "metadata": {},
   "outputs": [
    {
     "data": {
      "text/plain": [
       "6"
      ]
     },
     "execution_count": 64,
     "metadata": {},
     "output_type": "execute_result"
    }
   ],
   "source": [
    "some_string = \"python\"\n",
    "len(some_string)\n",
    "# some_String 를 \"python\"이라는 스트링으로 선언하고\n",
    "# len() 이라는 함수를 사용해서, some_string의 길수 개수를 확인할수있음."
   ]
  },
  {
   "cell_type": "code",
   "execution_count": 69,
   "metadata": {},
   "outputs": [
    {
     "data": {
      "text/plain": [
       "'ho'"
      ]
     },
     "execution_count": 69,
     "metadata": {},
     "output_type": "execute_result"
    }
   ],
   "source": [
    "some_string =\"python\"\n",
    "some_string[3:5] \n",
    "# 문자열 3~5까지 가는데. 마지막 n은 출력하지 않고 그앞에 o를 출력함 \n",
    "# 이유는 맨 마지막 n을 출력하면 그냥 명령문 완료했다고 생각하고 끝내서 그렇다.\n"
   ]
  },
  {
   "cell_type": "code",
   "execution_count": 68,
   "metadata": {},
   "outputs": [
    {
     "data": {
      "text/plain": [
       "'yh'"
      ]
     },
     "execution_count": 68,
     "metadata": {},
     "output_type": "execute_result"
    }
   ],
   "source": [
    "some_string =\"python\"\n",
    "some_string[1:5:2]\n",
    "# 1에서 5까지 가는데, 2번씩 띄어서 출력함."
   ]
  },
  {
   "cell_type": "code",
   "execution_count": 76,
   "metadata": {},
   "outputs": [
    {
     "data": {
      "text/plain": [
       "'python'"
      ]
     },
     "execution_count": 76,
     "metadata": {},
     "output_type": "execute_result"
    }
   ],
   "source": [
    "some_string[::]\n",
    "#처음부터 끝까지 모두 가져오는것"
   ]
  },
  {
   "cell_type": "code",
   "execution_count": 77,
   "metadata": {},
   "outputs": [
    {
     "data": {
      "text/plain": [
       "'nohtyp'"
      ]
     },
     "execution_count": 77,
     "metadata": {},
     "output_type": "execute_result"
    }
   ],
   "source": [
    "some_string[::-1]\n",
    "#뒤에서부터 문자열을 가져올수 있음 여기에서 -1은 진행방향을 명시하는것"
   ]
  },
  {
   "cell_type": "code",
   "execution_count": 80,
   "metadata": {},
   "outputs": [
    {
     "data": {
      "text/plain": [
       "'yhn'"
      ]
     },
     "execution_count": 80,
     "metadata": {},
     "output_type": "execute_result"
    }
   ],
   "source": [
    "some_string[1:5+1:2]\n",
    "#1~5 까지 두칸씩 가면서, 마지막 한칸을 가져옴?"
   ]
  },
  {
   "cell_type": "code",
   "execution_count": 84,
   "metadata": {},
   "outputs": [
    {
     "data": {
      "text/plain": [
       "1"
      ]
     },
     "execution_count": 84,
     "metadata": {},
     "output_type": "execute_result"
    }
   ],
   "source": [
    "another_string = \"Python is easy programming language for all.\"\n",
    "#another_string 를 정의함\n",
    "another_string.count('p')\n",
    "#아래에 1부터 나옴. 이유는 대소문자 구분해야함"
   ]
  },
  {
   "cell_type": "code",
   "execution_count": 86,
   "metadata": {},
   "outputs": [
    {
     "data": {
      "text/plain": [
       "16"
      ]
     },
     "execution_count": 86,
     "metadata": {},
     "output_type": "execute_result"
    }
   ],
   "source": [
    "another_string.find('r')\n",
    "# 문자열 찾기..? 16번째인데. 0~16번째까지니까 1부터 세면 17번째. 그리고 맨앞에 있는것 한개 찾으면 끝내버림\n"
   ]
  },
  {
   "cell_type": "code",
   "execution_count": 95,
   "metadata": {},
   "outputs": [
    {
     "data": {
      "text/plain": [
       "'p,y,t,h,o,n'"
      ]
     },
     "execution_count": 95,
     "metadata": {},
     "output_type": "execute_result"
    }
   ],
   "source": [
    "comma =\",\"\n",
    "# comma 선언, #, @, $, % 변겨가능\n",
    "commaed = comma.join('python')\n",
    "# comma를 python에 조인 시키는것?\n",
    "commaed\n",
    "# commaed 사이사이에 콤마를 넣어줌\n",
    "# p~n까지가 한개가 되고 아래의 split 를 알파벳 단위임"
   ]
  },
  {
   "cell_type": "code",
   "execution_count": 94,
   "metadata": {},
   "outputs": [
    {
     "data": {
      "text/plain": [
       "['p', 'y', 't', 'h', 'o', 'n']"
      ]
     },
     "execution_count": 94,
     "metadata": {},
     "output_type": "execute_result"
    }
   ],
   "source": [
    "commaed.split(',')\n",
    "#요소가 하나로 나오기때문에 리스트에 묶여서 출력하게됨..!"
   ]
  },
  {
   "cell_type": "code",
   "execution_count": 97,
   "metadata": {},
   "outputs": [
    {
     "data": {
      "text/plain": [
       "['홍길동', '010-1234-5151', '서울시']"
      ]
     },
     "execution_count": 97,
     "metadata": {},
     "output_type": "execute_result"
    }
   ],
   "source": [
    "personal_info =\"홍길동 010-1234-5151 서울시\"\n",
    "personal_info.split(' ')\n",
    "# split가 스페이스를 기준으로 위에 선언한 personal_info가 스페이스를 기준으로 각각 짤리게된다.\n",
    "# 한번더 할수있는 방법이 있음."
   ]
  },
  {
   "cell_type": "code",
   "execution_count": 102,
   "metadata": {},
   "outputs": [
    {
     "data": {
      "text/plain": [
       "'golang is easy programming language for all.'"
      ]
     },
     "execution_count": 102,
     "metadata": {},
     "output_type": "execute_result"
    }
   ],
   "source": [
    "another_string.replace('Python', 'golang')\n",
    "# replace함수가 위에 있는 another_String중 python을 golang로 바꿔주는 역활을 한다."
   ]
  },
  {
   "cell_type": "code",
   "execution_count": 109,
   "metadata": {},
   "outputs": [
    {
     "data": {
      "text/plain": [
       "['python', 'golang', 'java']"
      ]
     },
     "execution_count": 109,
     "metadata": {},
     "output_type": "execute_result"
    }
   ],
   "source": [
    "lang = []\n",
    "#lang 라는 list를 하나 만듬\n",
    "#여기에 새로운 리스트를 추가하려면 append를 사용하면됨.\n",
    "lang.append('python')\n",
    "lang.append('golang')\n",
    "lang.append('java')\n",
    "lang\n",
    "#lang 이 [] 이고 그 안에 계속 추가할수 있음. append라는걸 가지고 할수 있음.\n",
    "#append는 마지막 자리에 추가할수있는데, 특정한 곳에 추가할수도 있음\n"
   ]
  },
  {
   "cell_type": "code",
   "execution_count": 124,
   "metadata": {},
   "outputs": [
    {
     "data": {
      "text/plain": [
       "['c', 'c', 'c', 'c', 'c', 'python', 'c', 'c']"
      ]
     },
     "execution_count": 124,
     "metadata": {},
     "output_type": "execute_result"
    }
   ],
   "source": [
    "lang.insert(1, 'c')\n",
    "lang\n",
    "# 1번 자리에 c 를 집어넣어라 라는 말임."
   ]
  },
  {
   "cell_type": "code",
   "execution_count": 119,
   "metadata": {},
   "outputs": [
    {
     "ename": "ValueError",
     "evalue": "list.remove(x): x not in list",
     "output_type": "error",
     "traceback": [
      "\u001b[0;31m---------------------------------------------------------------------------\u001b[0m",
      "\u001b[0;31mValueError\u001b[0m                                Traceback (most recent call last)",
      "\u001b[0;32m<ipython-input-119-fd08a8451238>\u001b[0m in \u001b[0;36m<module>\u001b[0;34m()\u001b[0m\n\u001b[0;32m----> 1\u001b[0;31m \u001b[0mlang\u001b[0m\u001b[0;34m.\u001b[0m\u001b[0mremove\u001b[0m\u001b[0;34m(\u001b[0m\u001b[0;34m'java'\u001b[0m\u001b[0;34m)\u001b[0m\u001b[0;34m\u001b[0m\u001b[0m\n\u001b[0m\u001b[1;32m      2\u001b[0m \u001b[0mlang\u001b[0m\u001b[0;34m\u001b[0m\u001b[0m\n\u001b[1;32m      3\u001b[0m \u001b[0;31m# remove는 삭제하는 java를 삭제하는 명령어 인데. 구현이 안된데 뭐지..\u001b[0m\u001b[0;34m\u001b[0m\u001b[0;34m\u001b[0m\u001b[0m\n",
      "\u001b[0;31mValueError\u001b[0m: list.remove(x): x not in list"
     ]
    }
   ],
   "source": [
    "lang.remove('java')\n",
    "lang\n",
    "# remove는 삭제하는 java를 삭제하는 명령어 인데. 구현이 안된데 뭐지.."
   ]
  },
  {
   "cell_type": "code",
   "execution_count": 127,
   "metadata": {},
   "outputs": [
    {
     "data": {
      "text/plain": [
       "[1, 2, 3, 5, 6, 7]"
      ]
     },
     "execution_count": 127,
     "metadata": {},
     "output_type": "execute_result"
    }
   ],
   "source": [
    "numbers = [3,5,1,7,2,6]\n",
    "numbers.sort()\n",
    "# .sort() 는 숫자열을 정렬 해주는것 \n",
    "numbers"
   ]
  },
  {
   "cell_type": "code",
   "execution_count": 151,
   "metadata": {},
   "outputs": [
    {
     "data": {
      "text/plain": [
       "['a', 'c', 'd']"
      ]
     },
     "execution_count": 151,
     "metadata": {},
     "output_type": "execute_result"
    }
   ],
   "source": [
    "alphabet = ['c', 'd', 'a']\n",
    "alphabet.sort()\n",
    "alphabet\n",
    "#숫자와 문자가 같이 있는 상태에서 정렬은 힘듬. 자료형이 달라서 라는데, 그러면 같이 있는 상태에서 정렬하려면 어떻게 해야할까?\n"
   ]
  },
  {
   "cell_type": "code",
   "execution_count": 155,
   "metadata": {},
   "outputs": [
    {
     "data": {
      "text/plain": [
       "[3, 5, 1, 7, 2, 6]"
      ]
     },
     "execution_count": 155,
     "metadata": {},
     "output_type": "execute_result"
    }
   ],
   "source": [
    "numbers = [3,5,1,7,2,6]\n",
    "numbers[::-1]\n",
    "numbers\n",
    "########################>>>> QQQ"
   ]
  },
  {
   "cell_type": "code",
   "execution_count": 147,
   "metadata": {},
   "outputs": [
    {
     "data": {
      "text/plain": [
       "[6, 2, 7, 1, 5, 3]"
      ]
     },
     "execution_count": 147,
     "metadata": {},
     "output_type": "execute_result"
    }
   ],
   "source": [
    "numbers = [3,5,1,7,2,6]\n",
    "numbers.reverse()\n",
    "numbers\n",
    "# 뒤에서부터 출력하는것임 6,2,7,1,5, 순으로 출력하는거고."
   ]
  },
  {
   "cell_type": "code",
   "execution_count": 149,
   "metadata": {},
   "outputs": [
    {
     "data": {
      "text/plain": [
       "1"
      ]
     },
     "execution_count": 149,
     "metadata": {},
     "output_type": "execute_result"
    }
   ],
   "source": [
    "numbers.index(2)\n",
    "### 결과값이 아니라 자료값이 있는곳의 위치를 알려주는데?\n",
    "# 절차 지향적이 아니라. in의숫자 지향적임. 아... "
   ]
  },
  {
   "cell_type": "code",
   "execution_count": 166,
   "metadata": {},
   "outputs": [
    {
     "data": {
      "text/plain": [
       "[1, 2, 3, 4, 5, 6, 7, 8]"
      ]
     },
     "execution_count": 166,
     "metadata": {},
     "output_type": "execute_result"
    }
   ],
   "source": [
    "list = [1,2,3,4]\n",
    "list = list + [5,6]\n",
    "list.extend([7,8])\n",
    "list\n",
    "#리스트 끼리 더할수 있음. 더하는 방법은 두가지.\n",
    "# list - list + [] 두번째 리스트 자체에 리스트를 더해서 출력되게 하는 방법\n",
    "# list.extend([]) extend 라는 함수를 사용할수 있음. \n",
    "\n",
    "# 리스트 안에 다른 한요소의 리스트를 넣을수 있다\n",
    "# ex) list = [[1,2,3,4,],2,3,4,5]\n"
   ]
  },
  {
   "cell_type": "code",
   "execution_count": 172,
   "metadata": {
    "collapsed": true
   },
   "outputs": [],
   "source": [
    "tuple1 = (1,2,3,4)\n",
    "# del tuple1[1]\n",
    "# tuple은 중간에 삭제하는것이 안됨.\n",
    "# tuple1[1] = 5 튜플은 중간에 어떤 값을 넣을수 없음\n"
   ]
  },
  {
   "cell_type": "code",
   "execution_count": 182,
   "metadata": {},
   "outputs": [
    {
     "name": "stdout",
     "output_type": "stream",
     "text": [
      "(1, 2, 3, 4, 1, 2, 3, 4, 1, 2, 3, 4)\n"
     ]
    }
   ],
   "source": [
    "tuple2 = (5,6)\n",
    "tuple1 + tuple2 \n",
    "# 튜플 끼리 더하는것이 가능함\n",
    "print(tuple1 *3)\n",
    "# 튜플을 무한 반복 가능함"
   ]
  },
  {
   "cell_type": "code",
   "execution_count": 2,
   "metadata": {
    "collapsed": true
   },
   "outputs": [],
   "source": [
    "x = 1\n",
    "y = 38"
   ]
  },
  {
   "cell_type": "code",
   "execution_count": 3,
   "metadata": {},
   "outputs": [
    {
     "name": "stdout",
     "output_type": "stream",
     "text": [
      "38 1 1\n"
     ]
    }
   ],
   "source": [
    "temp = x\n",
    "x = y \n",
    "y = temp\n",
    "print(x, y, temp)"
   ]
  },
  {
   "cell_type": "code",
   "execution_count": 196,
   "metadata": {},
   "outputs": [
    {
     "name": "stdout",
     "output_type": "stream",
     "text": [
      "1 38\n",
      "38 1\n"
     ]
    }
   ],
   "source": [
    "print(x,y)\n",
    "(x,y) = (y,x)\n",
    "print(x,y)\n",
    "# 어떠한 임시 변수를 정하지 않고 값을 치환할수 있음.\n",
    "# 주피터 상에서 변수의 실행이 맨처음 선언한 값을 우선 출력하는것보다 그 이후에 실행 한 것들에 대한 것들이 먼저 실행되는것을 볼수 있음.\n"
   ]
  },
  {
   "cell_type": "code",
   "execution_count": null,
   "metadata": {
    "collapsed": true
   },
   "outputs": [],
   "source": []
  },
  {
   "cell_type": "code",
   "execution_count": 208,
   "metadata": {},
   "outputs": [
    {
     "name": "stdout",
     "output_type": "stream",
     "text": [
      "you are not teenager and live in another place.\n"
     ]
    }
   ],
   "source": [
    "# if 조건문 \n",
    "age = 40\n",
    "location = \"seoul\"\n",
    "if age < 19 or location == \"seeoul\":\n",
    "    print(\"you are teenager. and you live in seoul\")\n",
    "    # age를 17로 선언하고 그 이후에 if에 걸려있는 조건문이 참이기때문에 아래의 실행문을 실행한다.\n",
    "    # 참이 아니고 거짓이면, 실행하지 않음\n",
    "    # 두가지 조건중에 한개라도 충족하지 않으면 if 조건문이 실행되지 않음\n",
    "    # or 조건문은 맨처음에 선언한 조건 두가지중에 한가지 만 만족해도 그 아래 실행문을 실행한다.\n",
    "    # 응용할수 있는 방법이 굉장히 많을것 같은데..!\n",
    "    \n",
    "else:\n",
    "    print(\"you are not teenager and live in another place.\")\n",
    "    # else문은 if의 조건들을 모두 충족하지 못했을때 실행문이 실행됨.\n",
    "    # 위의 조건들을 내가 임의로 수정했다."
   ]
  },
  {
   "cell_type": "code",
   "execution_count": null,
   "metadata": {
    "collapsed": true
   },
   "outputs": [],
   "source": [
    "age = 30\n",
    "if age < 19:\n",
    "    print(\"under 19\")\n",
    "elif age <50 :\n",
    "        print(\"under 50\")\n",
    "else:\n",
    "    print(\"over 50\")\n",
    "    \n",
    "    # 대강의 구조가 if > elif > else 로 쓰인다.. 음.. if > elif > else 를 쓰는 이유가 뭘까?\n",
    "    # 조건문쓸때 가장 중요한게 빈도가 가장 높은걸 가장 상위에 놓아야함..\n",
    "    # 조건문의 if > elif > else 순서대로 하지않으면 신텍스 오류가 나옴.. 아.. 이래서 그 순서대로 쓰는구나"
   ]
  },
  {
   "cell_type": "code",
   "execution_count": 245,
   "metadata": {},
   "outputs": [
    {
     "name": "stdout",
     "output_type": "stream",
     "text": [
      "62\n",
      "Hi, What is your namejumi\n",
      "Hi, jumi. plz guess the INTEGER!!!!: 62\n",
      "answer\n"
     ]
    }
   ],
   "source": [
    "# numbuess 게임?\n",
    "\n",
    "import random\n",
    "\n",
    "#라이브러리를 import 하면 항상 두칸씩 띄어야함\n",
    "answer = random.randint(1,100)\n",
    "# 100을 쓰고 싶으면, 100+1을 해야함.음..(이거 엄밀하게 중요한거다.)\n",
    "# 내가 찾는 숫자를 가장 빠르게 찾는 방법은 1/2씩 쪼개서 데이터를 참조해보는 방법이 있다. \n",
    "\n",
    "print(answer)\n",
    "\n",
    "#get user input\n",
    "username = input(\"Hi, What is your name\")\n",
    "#username를 사용자에게 물어보라고 인풋함\n",
    "\n",
    "guess = eval(input(\"Hi, %s. plz guess the INTEGER!!!!: \" %(username)))\n",
    "# eval은 input을 사용하면 정수값을 입력해야함\n",
    "\n",
    "if guess == answer:\n",
    "    print(\"answer\")\n",
    "elif guess != answer:\n",
    "    print(\"No answer\")\n",
    "else:\n",
    "    print(\"word\")\n",
    "    # 이렇게 해도 되고 elif를 없에고 if > else를 사용할수 있음.\n",
    "    # 각각 if의 문법과, else의 문법, 그리고 elif의 문법을 각각 정확하게 이해해야함\n",
    "    # if > elif > else, 그리고 if > else 를 사용 해야함, 마무리는 else를 사용해야함\n",
    "    ##### 이거 Q&A로 물어봐야 겠다. eval을 사용했을때 aa를 넣으면 오류가 나고, eval을 없앴을때 실행은되는데,\n",
    "    ##### 그냥 정답이 아니라고 하고 출력됨... 뭔차이일까"
   ]
  },
  {
   "cell_type": "code",
   "execution_count": null,
   "metadata": {
    "collapsed": true
   },
   "outputs": [],
   "source": []
  },
  {
   "cell_type": "code",
   "execution_count": 250,
   "metadata": {},
   "outputs": [
    {
     "name": "stdout",
     "output_type": "stream",
     "text": [
      "python\n",
      "java\n",
      "c\n",
      "golang\n"
     ]
    }
   ],
   "source": [
    "# 반복문\n",
    "for lang in [\"python\", \"java\", \"c\", \"golang\"]:\n",
    "    print(lang)\n",
    "    \n",
    "    # [] 리스트 안에 있는것을 lang가 한번 파이썬에 들어가고 출력, 자바에 들어가고 출력, 씨에 들어가서 출력"
   ]
  },
  {
   "cell_type": "code",
   "execution_count": 262,
   "metadata": {},
   "outputs": [
    {
     "name": "stdout",
     "output_type": "stream",
     "text": [
      "1\n",
      "3\n",
      "6\n",
      "10\n",
      "15\n",
      "21\n",
      "28\n",
      "36\n",
      "45\n",
      "55\n"
     ]
    }
   ],
   "source": [
    "sum = 0\n",
    "for i in range(1,10+1):\n",
    "    # same as sum += i\n",
    "    sum = sum + i\n",
    "    print(sum)\n",
    "    \n",
    "#print(sum) 마지막 값만 출력하고 싶으면 사용하는 명령어 \n",
    "    "
   ]
  },
  {
   "cell_type": "code",
   "execution_count": 11,
   "metadata": {},
   "outputs": [
    {
     "ename": "NameError",
     "evalue": "name 'name' is not defined",
     "output_type": "error",
     "traceback": [
      "\u001b[0;31m---------------------------------------------------------------------------\u001b[0m",
      "\u001b[0;31mNameError\u001b[0m                                 Traceback (most recent call last)",
      "\u001b[0;32m<ipython-input-11-a10de59cbf2c>\u001b[0m in \u001b[0;36m<module>\u001b[0;34m()\u001b[0m\n\u001b[1;32m      3\u001b[0m \u001b[0;31m# 무한으로 프린트 찎어냄.\u001b[0m\u001b[0;34m\u001b[0m\u001b[0;34m\u001b[0m\u001b[0m\n\u001b[1;32m      4\u001b[0m \u001b[0;34m\u001b[0m\u001b[0m\n\u001b[0;32m----> 5\u001b[0;31m \u001b[0;32mwhile\u001b[0m \u001b[0mname\u001b[0m \u001b[0;34m!=\u001b[0m \u001b[0;34m\"break\"\u001b[0m\u001b[0;34m:\u001b[0m\u001b[0;34m\u001b[0m\u001b[0m\n\u001b[0m\u001b[1;32m      6\u001b[0m     \u001b[0;31m# 이게 조건이됨. 이조건을 계속 만족하면 만족할때가지 계속 반복함.\u001b[0m\u001b[0;34m\u001b[0m\u001b[0;34m\u001b[0m\u001b[0m\n\u001b[1;32m      7\u001b[0m     \u001b[0mname\u001b[0m \u001b[0;34m=\u001b[0m \u001b[0minput\u001b[0m\u001b[0;34m(\u001b[0m\u001b[0;34m\"What is your name?\"\u001b[0m\u001b[0;34m)\u001b[0m\u001b[0;34m\u001b[0m\u001b[0m\n",
      "\u001b[0;31mNameError\u001b[0m: name 'name' is not defined"
     ]
    }
   ],
   "source": [
    "#while 1:\n",
    "#   print(while)\n",
    "# 무한으로 프린트 찎어냄.\n",
    "\n",
    "while name != \"break\":\n",
    "    # 이게 조건이됨. 이조건을 계속 만족하면 만족할때가지 계속 반복함.\n",
    "    name = input(\"What is your name?\")\n",
    "    #사용자가 네임을 break 라고 적을때까지 돌린다 라는 이야기\n",
    "    print(\"Hello, \" + name + \".\")\n",
    "    \n",
    "#아.. 사용자 인풋에 break라고 작성하면 반복문 끝남."
   ]
  },
  {
   "cell_type": "code",
   "execution_count": 287,
   "metadata": {},
   "outputs": [
    {
     "name": "stdout",
     "output_type": "stream",
     "text": [
      "1\n",
      "2\n"
     ]
    },
    {
     "ename": "NameError",
     "evalue": "name 'fizz' is not defined",
     "output_type": "error",
     "traceback": [
      "\u001b[0;31m---------------------------------------------------------------------------\u001b[0m",
      "\u001b[0;31mNameError\u001b[0m                                 Traceback (most recent call last)",
      "\u001b[0;32m<ipython-input-287-069bdd778923>\u001b[0m in \u001b[0;36m<module>\u001b[0;34m()\u001b[0m\n\u001b[1;32m      4\u001b[0m         \u001b[0mprint\u001b[0m\u001b[0;34m(\u001b[0m\u001b[0mfizzbuzz\u001b[0m\u001b[0;34m)\u001b[0m\u001b[0;34m\u001b[0m\u001b[0m\n\u001b[1;32m      5\u001b[0m     \u001b[0;32melif\u001b[0m \u001b[0mi\u001b[0m \u001b[0;34m%\u001b[0m \u001b[0;36m3\u001b[0m \u001b[0;34m==\u001b[0m \u001b[0;36m0\u001b[0m\u001b[0;34m:\u001b[0m\u001b[0;34m\u001b[0m\u001b[0m\n\u001b[0;32m----> 6\u001b[0;31m         \u001b[0mprint\u001b[0m\u001b[0;34m(\u001b[0m\u001b[0mfizz\u001b[0m\u001b[0;34m)\u001b[0m\u001b[0;34m\u001b[0m\u001b[0m\n\u001b[0m\u001b[1;32m      7\u001b[0m     \u001b[0;32melif\u001b[0m \u001b[0mi\u001b[0m \u001b[0;34m%\u001b[0m \u001b[0;36m5\u001b[0m \u001b[0;34m==\u001b[0m \u001b[0;36m0\u001b[0m\u001b[0;34m:\u001b[0m\u001b[0;34m\u001b[0m\u001b[0m\n\u001b[1;32m      8\u001b[0m         \u001b[0mprint\u001b[0m\u001b[0;34m(\u001b[0m\u001b[0mbuzz\u001b[0m\u001b[0;34m)\u001b[0m\u001b[0;34m\u001b[0m\u001b[0m\n",
      "\u001b[0;31mNameError\u001b[0m: name 'fizz' is not defined"
     ]
    }
   ],
   "source": [
    "for i in range(1,100+1):\n",
    "# !~100까지 돈다.\n",
    "    if i % 15 == 0:\n",
    "        print(fizzbuzz)\n",
    "    elif i % 3 == 0:\n",
    "        print(fizz)\n",
    "    elif i % 5 == 0:\n",
    "        print(buzz)\n",
    "    else:\n",
    "            print(i)\n",
    "            \n",
    "            ## 이거 실행하는 방법 다시해보자"
   ]
  },
  {
   "cell_type": "code",
   "execution_count": null,
   "metadata": {
    "collapsed": true
   },
   "outputs": [],
   "source": []
  },
  {
   "cell_type": "code",
   "execution_count": 294,
   "metadata": {},
   "outputs": [
    {
     "ename": "NameError",
     "evalue": "name 'ramdom' is not defined",
     "output_type": "error",
     "traceback": [
      "\u001b[0;31m---------------------------------------------------------------------------\u001b[0m",
      "\u001b[0;31mNameError\u001b[0m                                 Traceback (most recent call last)",
      "\u001b[0;32m<ipython-input-294-76019ac291ac>\u001b[0m in \u001b[0;36m<module>\u001b[0;34m()\u001b[0m\n\u001b[1;32m      7\u001b[0m \u001b[0;32mfor\u001b[0m \u001b[0mi\u001b[0m \u001b[0;32min\u001b[0m \u001b[0mrange\u001b[0m\u001b[0;34m(\u001b[0m\u001b[0;36m1000\u001b[0m\u001b[0;34m)\u001b[0m\u001b[0;34m:\u001b[0m\u001b[0;34m\u001b[0m\u001b[0m\n\u001b[1;32m      8\u001b[0m     \u001b[0mdoors\u001b[0m \u001b[0;34m=\u001b[0m \u001b[0;34m[\u001b[0m\u001b[0;36m1\u001b[0m\u001b[0;34m,\u001b[0m\u001b[0;36m0\u001b[0m\u001b[0;34m,\u001b[0m\u001b[0;36m0\u001b[0m\u001b[0;34m]\u001b[0m\u001b[0;34m\u001b[0m\u001b[0m\n\u001b[0;32m----> 9\u001b[0;31m     \u001b[0mramdom\u001b[0m\u001b[0;34m.\u001b[0m\u001b[0mshuffle\u001b[0m\u001b[0;34m(\u001b[0m\u001b[0mdoors\u001b[0m\u001b[0;34m)\u001b[0m\u001b[0;34m\u001b[0m\u001b[0m\n\u001b[0m\u001b[1;32m     10\u001b[0m \u001b[0;31m# shuffle는 섞어주는 함수\u001b[0m\u001b[0;34m\u001b[0m\u001b[0;34m\u001b[0m\u001b[0m\n\u001b[1;32m     11\u001b[0m \u001b[0;34m\u001b[0m\u001b[0m\n",
      "\u001b[0;31mNameError\u001b[0m: name 'ramdom' is not defined"
     ]
    }
   ],
   "source": [
    "import random\n",
    "\n",
    "stay = 0\n",
    "switch = 0\n",
    "\n",
    "\n",
    "for i in range(1000):\n",
    "    doors = [1,0,0]\n",
    "    ramdom.shuffle(doors)\n",
    "# shuffle는 섞어주는 함수\n",
    "\n",
    "    choice = random.randrange(3)\n",
    "# 0,1,2 중에 한가지를 뽑는다. \n",
    "\n"
   ]
  },
  {
   "cell_type": "code",
   "execution_count": null,
   "metadata": {
    "collapsed": true
   },
   "outputs": [],
   "source": []
  },
  {
   "cell_type": "code",
   "execution_count": null,
   "metadata": {
    "collapsed": true
   },
   "outputs": [],
   "source": []
  },
  {
   "cell_type": "code",
   "execution_count": 4,
   "metadata": {},
   "outputs": [
    {
     "name": "stdout",
     "output_type": "stream",
     "text": [
      "(1, 2, 3, 4, 5, 6)\n"
     ]
    }
   ],
   "source": [
    "tuple = (1,2,3)\n",
    "tuple1 =(4,5,6)\n",
    "\n",
    "print(tuple + tuple1)\n"
   ]
  },
  {
   "cell_type": "code",
   "execution_count": null,
   "metadata": {
    "collapsed": true
   },
   "outputs": [],
   "source": []
  },
  {
   "cell_type": "code",
   "execution_count": 5,
   "metadata": {},
   "outputs": [
    {
     "ename": "TypeError",
     "evalue": "can't multiply sequence by non-int of type 'tuple'",
     "output_type": "error",
     "traceback": [
      "\u001b[0;31m-----------------------------------------------------------------------\u001b[0m",
      "\u001b[0;31mTypeError\u001b[0m                             Traceback (most recent call last)",
      "\u001b[0;32m<ipython-input-5-a97a349250bb>\u001b[0m in \u001b[0;36m<module>\u001b[0;34m()\u001b[0m\n\u001b[0;32m----> 1\u001b[0;31m \u001b[0mtuple\u001b[0m \u001b[0;34m*\u001b[0m \u001b[0mtuple1\u001b[0m\u001b[0;34m\u001b[0m\u001b[0m\n\u001b[0m",
      "\u001b[0;31mTypeError\u001b[0m: can't multiply sequence by non-int of type 'tuple'"
     ]
    }
   ],
   "source": [
    "tuple * tuple1"
   ]
  },
  {
   "cell_type": "code",
   "execution_count": 6,
   "metadata": {},
   "outputs": [
    {
     "data": {
      "text/plain": [
       "(1, 2, 3, 1, 2, 3, 1, 2, 3)"
      ]
     },
     "execution_count": 6,
     "metadata": {},
     "output_type": "execute_result"
    }
   ],
   "source": [
    "tuple * 3"
   ]
  },
  {
   "cell_type": "code",
   "execution_count": 7,
   "metadata": {
    "collapsed": true
   },
   "outputs": [],
   "source": [
    "a = int(1)"
   ]
  },
  {
   "cell_type": "code",
   "execution_count": 8,
   "metadata": {},
   "outputs": [
    {
     "data": {
      "text/plain": [
       "['__abs__',\n",
       " '__add__',\n",
       " '__and__',\n",
       " '__bool__',\n",
       " '__ceil__',\n",
       " '__class__',\n",
       " '__delattr__',\n",
       " '__dir__',\n",
       " '__divmod__',\n",
       " '__doc__',\n",
       " '__eq__',\n",
       " '__float__',\n",
       " '__floor__',\n",
       " '__floordiv__',\n",
       " '__format__',\n",
       " '__ge__',\n",
       " '__getattribute__',\n",
       " '__getnewargs__',\n",
       " '__gt__',\n",
       " '__hash__',\n",
       " '__index__',\n",
       " '__init__',\n",
       " '__init_subclass__',\n",
       " '__int__',\n",
       " '__invert__',\n",
       " '__le__',\n",
       " '__lshift__',\n",
       " '__lt__',\n",
       " '__mod__',\n",
       " '__mul__',\n",
       " '__ne__',\n",
       " '__neg__',\n",
       " '__new__',\n",
       " '__or__',\n",
       " '__pos__',\n",
       " '__pow__',\n",
       " '__radd__',\n",
       " '__rand__',\n",
       " '__rdivmod__',\n",
       " '__reduce__',\n",
       " '__reduce_ex__',\n",
       " '__repr__',\n",
       " '__rfloordiv__',\n",
       " '__rlshift__',\n",
       " '__rmod__',\n",
       " '__rmul__',\n",
       " '__ror__',\n",
       " '__round__',\n",
       " '__rpow__',\n",
       " '__rrshift__',\n",
       " '__rshift__',\n",
       " '__rsub__',\n",
       " '__rtruediv__',\n",
       " '__rxor__',\n",
       " '__setattr__',\n",
       " '__sizeof__',\n",
       " '__str__',\n",
       " '__sub__',\n",
       " '__subclasshook__',\n",
       " '__truediv__',\n",
       " '__trunc__',\n",
       " '__xor__',\n",
       " 'bit_length',\n",
       " 'conjugate',\n",
       " 'denominator',\n",
       " 'from_bytes',\n",
       " 'imag',\n",
       " 'numerator',\n",
       " 'real',\n",
       " 'to_bytes']"
      ]
     },
     "execution_count": 8,
     "metadata": {},
     "output_type": "execute_result"
    }
   ],
   "source": [
    "dir(a)\n"
   ]
  },
  {
   "cell_type": "code",
   "execution_count": 10,
   "metadata": {},
   "outputs": [],
   "source": [
    "a = int(1)\n",
    "b = float(1.1)\n"
   ]
  },
  {
   "cell_type": "code",
   "execution_count": 12,
   "metadata": {},
   "outputs": [
    {
     "data": {
      "text/plain": [
       "2.2"
      ]
     },
     "execution_count": 12,
     "metadata": {},
     "output_type": "execute_result"
    }
   ],
   "source": [
    "a + b "
   ]
  },
  {
   "cell_type": "code",
   "execution_count": 13,
   "metadata": {
    "collapsed": true
   },
   "outputs": [],
   "source": [
    "a = \"abcd\"\n",
    "b = '''\\\n",
    "\n",
    "asdasd\n",
    "'''"
   ]
  },
  {
   "cell_type": "code",
   "execution_count": 19,
   "metadata": {},
   "outputs": [
    {
     "data": {
      "text/plain": [
       "'s'"
      ]
     },
     "execution_count": 19,
     "metadata": {},
     "output_type": "execute_result"
    }
   ],
   "source": [
    "a = \"Life is too short, You need Python\"\n",
    "a[12]"
   ]
  },
  {
   "cell_type": "code",
   "execution_count": 20,
   "metadata": {
    "collapsed": true
   },
   "outputs": [],
   "source": [
    "dictionary = {'a':100, 'b':200}\n"
   ]
  },
  {
   "cell_type": "code",
   "execution_count": 21,
   "metadata": {},
   "outputs": [
    {
     "data": {
      "text/plain": [
       "{'a': 100, 'b': 200}"
      ]
     },
     "execution_count": 21,
     "metadata": {},
     "output_type": "execute_result"
    }
   ],
   "source": [
    "dictionary"
   ]
  },
  {
   "cell_type": "code",
   "execution_count": 22,
   "metadata": {
    "collapsed": true
   },
   "outputs": [],
   "source": [
    "del dictionary['a']\n"
   ]
  },
  {
   "cell_type": "code",
   "execution_count": 23,
   "metadata": {},
   "outputs": [
    {
     "data": {
      "text/plain": [
       "{'b': 200}"
      ]
     },
     "execution_count": 23,
     "metadata": {},
     "output_type": "execute_result"
    }
   ],
   "source": [
    "dictionary"
   ]
  },
  {
   "cell_type": "code",
   "execution_count": null,
   "metadata": {
    "collapsed": true
   },
   "outputs": [],
   "source": []
  }
 ],
 "metadata": {
  "kernelspec": {
   "display_name": "Python 3",
   "language": "python",
   "name": "python3"
  },
  "language_info": {
   "codemirror_mode": {
    "name": "ipython",
    "version": 3
   },
   "file_extension": ".py",
   "mimetype": "text/x-python",
   "name": "python",
   "nbconvert_exporter": "python",
   "pygments_lexer": "ipython3",
   "version": "3.6.2"
  }
 },
 "nbformat": 4,
 "nbformat_minor": 2
}

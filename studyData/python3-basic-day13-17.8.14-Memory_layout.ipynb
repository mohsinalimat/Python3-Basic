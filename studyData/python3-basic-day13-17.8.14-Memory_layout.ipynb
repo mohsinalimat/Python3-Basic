{
 "cells": [
  {
   "cell_type": "code",
   "execution_count": 2,
   "metadata": {
    "collapsed": true
   },
   "outputs": [],
   "source": [
    "## 13일차\n",
    "\n",
    "# memory fragmentation\n",
    "\n",
    "# memory rayout - 데이터를 heap, stack 어디에 쌓을지 고민하는것.\n",
    "# 결국에는 좋은 코드인가를 결정하는것은, 작은 변화들이 쌓여서 계속 향상시키는것, 음.. 심플한 코드가 좋은거냐, 아니면 복잡하지만 자료구조의 작동원리를 모두알고 어렵게 보이는 코드가 좋은것이냐..?"
   ]
  },
  {
   "cell_type": "code",
   "execution_count": null,
   "metadata": {
    "collapsed": true
   },
   "outputs": [],
   "source": []
  },
  {
   "cell_type": "code",
   "execution_count": 42,
   "metadata": {
    "collapsed": true
   },
   "outputs": [],
   "source": [
    "import token\n"
   ]
  },
  {
   "cell_type": "code",
   "execution_count": 43,
   "metadata": {},
   "outputs": [
    {
     "data": {
      "text/plain": [
       "{0: 'ENDMARKER',\n",
       " 1: 'NAME',\n",
       " 2: 'NUMBER',\n",
       " 3: 'STRING',\n",
       " 4: 'NEWLINE',\n",
       " 5: 'INDENT',\n",
       " 6: 'DEDENT',\n",
       " 7: 'LPAR',\n",
       " 8: 'RPAR',\n",
       " 9: 'LSQB',\n",
       " 10: 'RSQB',\n",
       " 11: 'COLON',\n",
       " 12: 'COMMA',\n",
       " 13: 'SEMI',\n",
       " 14: 'PLUS',\n",
       " 15: 'MINUS',\n",
       " 16: 'STAR',\n",
       " 17: 'SLASH',\n",
       " 18: 'VBAR',\n",
       " 19: 'AMPER',\n",
       " 20: 'LESS',\n",
       " 21: 'GREATER',\n",
       " 22: 'EQUAL',\n",
       " 23: 'DOT',\n",
       " 24: 'PERCENT',\n",
       " 25: 'LBRACE',\n",
       " 26: 'RBRACE',\n",
       " 27: 'EQEQUAL',\n",
       " 28: 'NOTEQUAL',\n",
       " 29: 'LESSEQUAL',\n",
       " 30: 'GREATEREQUAL',\n",
       " 31: 'TILDE',\n",
       " 32: 'CIRCUMFLEX',\n",
       " 33: 'LEFTSHIFT',\n",
       " 34: 'RIGHTSHIFT',\n",
       " 35: 'DOUBLESTAR',\n",
       " 36: 'PLUSEQUAL',\n",
       " 37: 'MINEQUAL',\n",
       " 38: 'STAREQUAL',\n",
       " 39: 'SLASHEQUAL',\n",
       " 40: 'PERCENTEQUAL',\n",
       " 41: 'AMPEREQUAL',\n",
       " 42: 'VBAREQUAL',\n",
       " 43: 'CIRCUMFLEXEQUAL',\n",
       " 44: 'LEFTSHIFTEQUAL',\n",
       " 45: 'RIGHTSHIFTEQUAL',\n",
       " 46: 'DOUBLESTAREQUAL',\n",
       " 47: 'DOUBLESLASH',\n",
       " 48: 'DOUBLESLASHEQUAL',\n",
       " 49: 'AT',\n",
       " 50: 'ATEQUAL',\n",
       " 51: 'RARROW',\n",
       " 52: 'ELLIPSIS',\n",
       " 53: 'OP',\n",
       " 54: 'AWAIT',\n",
       " 55: 'ASYNC',\n",
       " 56: 'ERRORTOKEN',\n",
       " 57: 'COMMENT',\n",
       " 58: 'NL',\n",
       " 59: 'BACKQUOTE',\n",
       " 60: 'COMMENT',\n",
       " 256: 'NT_OFFSET'}"
      ]
     },
     "execution_count": 43,
     "metadata": {},
     "output_type": "execute_result"
    }
   ],
   "source": [
    "token.tok_name"
   ]
  },
  {
   "cell_type": "code",
   "execution_count": 44,
   "metadata": {
    "collapsed": true
   },
   "outputs": [],
   "source": [
    "s = open('test.py').read()"
   ]
  },
  {
   "cell_type": "code",
   "execution_count": 45,
   "metadata": {},
   "outputs": [
    {
     "data": {
      "text/plain": [
       "'def func(x,y):\\n     return x + y\\n\\na = 10\\nb = 20\\n\\nc = func(a,b)\\nprint(c)\\n\\n'"
      ]
     },
     "execution_count": 45,
     "metadata": {},
     "output_type": "execute_result"
    }
   ],
   "source": [
    "s\n",
    "# incoding이 안된 그냥 문자열."
   ]
  },
  {
   "cell_type": "code",
   "execution_count": 46,
   "metadata": {
    "collapsed": true
   },
   "outputs": [],
   "source": [
    "from tokenize import tokenize\n",
    "from io import BytesIO"
   ]
  },
  {
   "cell_type": "code",
   "execution_count": 47,
   "metadata": {
    "collapsed": true
   },
   "outputs": [],
   "source": [
    "g = tokenize(BytesIO(s.encode('utf-8')).readline)"
   ]
  },
  {
   "cell_type": "code",
   "execution_count": 48,
   "metadata": {},
   "outputs": [
    {
     "data": {
      "text/plain": [
       "<generator object _tokenize at 0x106c58258>"
      ]
     },
     "execution_count": 48,
     "metadata": {},
     "output_type": "execute_result"
    }
   ],
   "source": [
    "g\n",
    "# g는 제너레이터가됨."
   ]
  },
  {
   "cell_type": "code",
   "execution_count": 49,
   "metadata": {},
   "outputs": [
    {
     "name": "stdout",
     "output_type": "stream",
     "text": [
      "TokenInfo(type=59 (BACKQUOTE), string='utf-8', start=(0, 0), end=(0, 0), line='')\n",
      "TokenInfo(type=1 (NAME), string='def', start=(1, 0), end=(1, 3), line='def func(x,y):\\n')\n",
      "TokenInfo(type=1 (NAME), string='func', start=(1, 4), end=(1, 8), line='def func(x,y):\\n')\n",
      "TokenInfo(type=53 (OP), string='(', start=(1, 8), end=(1, 9), line='def func(x,y):\\n')\n",
      "TokenInfo(type=1 (NAME), string='x', start=(1, 9), end=(1, 10), line='def func(x,y):\\n')\n",
      "TokenInfo(type=53 (OP), string=',', start=(1, 10), end=(1, 11), line='def func(x,y):\\n')\n",
      "TokenInfo(type=1 (NAME), string='y', start=(1, 11), end=(1, 12), line='def func(x,y):\\n')\n",
      "TokenInfo(type=53 (OP), string=')', start=(1, 12), end=(1, 13), line='def func(x,y):\\n')\n",
      "TokenInfo(type=53 (OP), string=':', start=(1, 13), end=(1, 14), line='def func(x,y):\\n')\n",
      "TokenInfo(type=4 (NEWLINE), string='\\n', start=(1, 14), end=(1, 15), line='def func(x,y):\\n')\n",
      "TokenInfo(type=5 (INDENT), string='     ', start=(2, 0), end=(2, 5), line='     return x + y\\n')\n",
      "TokenInfo(type=1 (NAME), string='return', start=(2, 5), end=(2, 11), line='     return x + y\\n')\n",
      "TokenInfo(type=1 (NAME), string='x', start=(2, 12), end=(2, 13), line='     return x + y\\n')\n",
      "TokenInfo(type=53 (OP), string='+', start=(2, 14), end=(2, 15), line='     return x + y\\n')\n",
      "TokenInfo(type=1 (NAME), string='y', start=(2, 16), end=(2, 17), line='     return x + y\\n')\n",
      "TokenInfo(type=4 (NEWLINE), string='\\n', start=(2, 17), end=(2, 18), line='     return x + y\\n')\n",
      "TokenInfo(type=58 (NL), string='\\n', start=(3, 0), end=(3, 1), line='\\n')\n",
      "TokenInfo(type=6 (DEDENT), string='', start=(4, 0), end=(4, 0), line='a = 10\\n')\n",
      "TokenInfo(type=1 (NAME), string='a', start=(4, 0), end=(4, 1), line='a = 10\\n')\n",
      "TokenInfo(type=53 (OP), string='=', start=(4, 2), end=(4, 3), line='a = 10\\n')\n",
      "TokenInfo(type=2 (NUMBER), string='10', start=(4, 4), end=(4, 6), line='a = 10\\n')\n",
      "TokenInfo(type=4 (NEWLINE), string='\\n', start=(4, 6), end=(4, 7), line='a = 10\\n')\n",
      "TokenInfo(type=1 (NAME), string='b', start=(5, 0), end=(5, 1), line='b = 20\\n')\n",
      "TokenInfo(type=53 (OP), string='=', start=(5, 2), end=(5, 3), line='b = 20\\n')\n",
      "TokenInfo(type=2 (NUMBER), string='20', start=(5, 4), end=(5, 6), line='b = 20\\n')\n",
      "TokenInfo(type=4 (NEWLINE), string='\\n', start=(5, 6), end=(5, 7), line='b = 20\\n')\n",
      "TokenInfo(type=58 (NL), string='\\n', start=(6, 0), end=(6, 1), line='\\n')\n",
      "TokenInfo(type=1 (NAME), string='c', start=(7, 0), end=(7, 1), line='c = func(a,b)\\n')\n",
      "TokenInfo(type=53 (OP), string='=', start=(7, 2), end=(7, 3), line='c = func(a,b)\\n')\n",
      "TokenInfo(type=1 (NAME), string='func', start=(7, 4), end=(7, 8), line='c = func(a,b)\\n')\n",
      "TokenInfo(type=53 (OP), string='(', start=(7, 8), end=(7, 9), line='c = func(a,b)\\n')\n",
      "TokenInfo(type=1 (NAME), string='a', start=(7, 9), end=(7, 10), line='c = func(a,b)\\n')\n",
      "TokenInfo(type=53 (OP), string=',', start=(7, 10), end=(7, 11), line='c = func(a,b)\\n')\n",
      "TokenInfo(type=1 (NAME), string='b', start=(7, 11), end=(7, 12), line='c = func(a,b)\\n')\n",
      "TokenInfo(type=53 (OP), string=')', start=(7, 12), end=(7, 13), line='c = func(a,b)\\n')\n",
      "TokenInfo(type=4 (NEWLINE), string='\\n', start=(7, 13), end=(7, 14), line='c = func(a,b)\\n')\n",
      "TokenInfo(type=1 (NAME), string='print', start=(8, 0), end=(8, 5), line='print(c)\\n')\n",
      "TokenInfo(type=53 (OP), string='(', start=(8, 5), end=(8, 6), line='print(c)\\n')\n",
      "TokenInfo(type=1 (NAME), string='c', start=(8, 6), end=(8, 7), line='print(c)\\n')\n",
      "TokenInfo(type=53 (OP), string=')', start=(8, 7), end=(8, 8), line='print(c)\\n')\n",
      "TokenInfo(type=4 (NEWLINE), string='\\n', start=(8, 8), end=(8, 9), line='print(c)\\n')\n",
      "TokenInfo(type=58 (NL), string='\\n', start=(9, 0), end=(9, 1), line='\\n')\n",
      "TokenInfo(type=0 (ENDMARKER), string='', start=(10, 0), end=(10, 0), line='')\n"
     ]
    }
   ],
   "source": [
    "for token in g:\n",
    "    print(token)\n",
    "    \n",
    "# 이게 뭐냐면 charcter - > lexer 통해서 -> tokens 로 만든것"
   ]
  },
  {
   "cell_type": "code",
   "execution_count": 50,
   "metadata": {
    "collapsed": true
   },
   "outputs": [],
   "source": [
    "import ast\n",
    "# abstract syntax tree"
   ]
  },
  {
   "cell_type": "code",
   "execution_count": 51,
   "metadata": {
    "collapsed": true
   },
   "outputs": [],
   "source": [
    "node = ast.parse(s)"
   ]
  },
  {
   "cell_type": "code",
   "execution_count": 52,
   "metadata": {},
   "outputs": [
    {
     "data": {
      "text/plain": [
       "<_ast.Module at 0x106e33fd0>"
      ]
     },
     "execution_count": 52,
     "metadata": {},
     "output_type": "execute_result"
    }
   ],
   "source": [
    "node"
   ]
  },
  {
   "cell_type": "code",
   "execution_count": 53,
   "metadata": {
    "collapsed": true
   },
   "outputs": [],
   "source": [
    "g = ast.walk(node)\n",
    "# walk 는 순회."
   ]
  },
  {
   "cell_type": "code",
   "execution_count": 54,
   "metadata": {},
   "outputs": [
    {
     "name": "stdout",
     "output_type": "stream",
     "text": [
      "<_ast.Module object at 0x106e33fd0>\n",
      "<_ast.FunctionDef object at 0x106e33f60>\n",
      "<_ast.Assign object at 0x106e33ac8>\n",
      "<_ast.Assign object at 0x106e33cf8>\n",
      "<_ast.Assign object at 0x106e33b00>\n",
      "<_ast.Expr object at 0x106e337f0>\n",
      "<_ast.arguments object at 0x106e33dd8>\n",
      "<_ast.Return object at 0x106e33940>\n",
      "<_ast.Name object at 0x106e33b70>\n",
      "<_ast.Num object at 0x106e33e80>\n",
      "<_ast.Name object at 0x106e33908>\n",
      "<_ast.Num object at 0x106e33a90>\n",
      "<_ast.Name object at 0x106e33b38>\n",
      "<_ast.Call object at 0x106e339e8>\n",
      "<_ast.Call object at 0x106e33588>\n",
      "<_ast.arg object at 0x106e33c88>\n",
      "<_ast.arg object at 0x106e33e48>\n",
      "<_ast.BinOp object at 0x106e33f98>\n",
      "<_ast.Store object at 0x1050fc438>\n",
      "<_ast.Store object at 0x1050fc438>\n",
      "<_ast.Store object at 0x1050fc438>\n",
      "<_ast.Name object at 0x106e33a58>\n",
      "<_ast.Name object at 0x106e339b0>\n",
      "<_ast.Name object at 0x106e33a20>\n",
      "<_ast.Name object at 0x106e33860>\n",
      "<_ast.Name object at 0x106e33898>\n",
      "<_ast.Name object at 0x106e33eb8>\n",
      "<_ast.Add object at 0x105100240>\n",
      "<_ast.Name object at 0x106e33c50>\n",
      "<_ast.Load object at 0x1050fc320>\n",
      "<_ast.Load object at 0x1050fc320>\n",
      "<_ast.Load object at 0x1050fc320>\n",
      "<_ast.Load object at 0x1050fc320>\n",
      "<_ast.Load object at 0x1050fc320>\n",
      "<_ast.Load object at 0x1050fc320>\n",
      "<_ast.Load object at 0x1050fc320>\n"
     ]
    }
   ],
   "source": [
    "for node in g:\n",
    "    print(node)"
   ]
  },
  {
   "cell_type": "code",
   "execution_count": 55,
   "metadata": {
    "collapsed": true
   },
   "outputs": [],
   "source": [
    "# ast = abstract syntax \n",
    "# 이런식으로 바이트 코드로 만든것.\n",
    "\n",
    "# symbol table -> 전역변수나 함수들의 이름을 모두 가지고 있는 테이블"
   ]
  },
  {
   "cell_type": "code",
   "execution_count": null,
   "metadata": {
    "collapsed": true
   },
   "outputs": [],
   "source": []
  },
  {
   "cell_type": "code",
   "execution_count": 56,
   "metadata": {
    "collapsed": true
   },
   "outputs": [],
   "source": [
    "import symtable\n",
    "\n"
   ]
  },
  {
   "cell_type": "code",
   "execution_count": 57,
   "metadata": {
    "collapsed": true
   },
   "outputs": [],
   "source": [
    "sym = symtable.symtable(s, 'test.py', 'exec')\n",
    "# s는 위의 문자열 코드"
   ]
  },
  {
   "cell_type": "code",
   "execution_count": 58,
   "metadata": {},
   "outputs": [
    {
     "data": {
      "text/plain": [
       "<SymbolTable for top in test.py>"
      ]
     },
     "execution_count": 58,
     "metadata": {},
     "output_type": "execute_result"
    }
   ],
   "source": [
    "sym\n",
    "# symboltable이 나옴. 'top'는 ' global 영역의 심볼테이블'"
   ]
  },
  {
   "cell_type": "code",
   "execution_count": 59,
   "metadata": {},
   "outputs": [
    {
     "data": {
      "text/plain": [
       "'top'"
      ]
     },
     "execution_count": 59,
     "metadata": {},
     "output_type": "execute_result"
    }
   ],
   "source": [
    "sym.get_name()\n",
    "# top이 나오는걸로 보아 global symboltable가 맞구나.."
   ]
  },
  {
   "cell_type": "code",
   "execution_count": 60,
   "metadata": {},
   "outputs": [
    {
     "data": {
      "text/plain": [
       "[<symbol 'func'>, <symbol 'a'>, <symbol 'b'>, <symbol 'c'>, <symbol 'print'>]"
      ]
     },
     "execution_count": 60,
     "metadata": {},
     "output_type": "execute_result"
    }
   ],
   "source": [
    "sym.get_symbols()\n",
    "\n",
    "# 여기에서 a,b는 func(a, b) 가 아니라, 전역에 있는 a = 10, b = 20 이라는 이야기임."
   ]
  },
  {
   "cell_type": "code",
   "execution_count": 61,
   "metadata": {},
   "outputs": [
    {
     "data": {
      "text/plain": [
       "True"
      ]
     },
     "execution_count": 61,
     "metadata": {},
     "output_type": "execute_result"
    }
   ],
   "source": [
    "sym.has_children() \n",
    "# 독자적으로 symboltable를 가지고 있으면, true가 나옴"
   ]
  },
  {
   "cell_type": "code",
   "execution_count": 62,
   "metadata": {},
   "outputs": [
    {
     "data": {
      "text/plain": [
       "[<Function SymbolTable for func in test.py>]"
      ]
     },
     "execution_count": 62,
     "metadata": {},
     "output_type": "execute_result"
    }
   ],
   "source": [
    "sym.get_children()\n",
    "# 독자적은 symboltable가 있냐고 물어보니까 function이 있다느 ㄴ이야기임. \n"
   ]
  },
  {
   "cell_type": "code",
   "execution_count": 81,
   "metadata": {
    "collapsed": true
   },
   "outputs": [],
   "source": [
    "func_sym = sym.get_children()[0]\n",
    "# 위의 결과값이 리스트이기 떄문에 [0] 리스트의 인덱싱으로 찾알수 있음."
   ]
  },
  {
   "cell_type": "code",
   "execution_count": 82,
   "metadata": {},
   "outputs": [
    {
     "data": {
      "text/plain": [
       "<Function SymbolTable for func in test.py>"
      ]
     },
     "execution_count": 82,
     "metadata": {},
     "output_type": "execute_result"
    }
   ],
   "source": [
    "\n",
    "func_sym"
   ]
  },
  {
   "cell_type": "code",
   "execution_count": 83,
   "metadata": {},
   "outputs": [
    {
     "data": {
      "text/plain": [
       "'func'"
      ]
     },
     "execution_count": 83,
     "metadata": {},
     "output_type": "execute_result"
    }
   ],
   "source": [
    "func_sym.get_name()"
   ]
  },
  {
   "cell_type": "code",
   "execution_count": 84,
   "metadata": {},
   "outputs": [
    {
     "data": {
      "text/plain": [
       "[<symbol 'x'>, <symbol 'y'>]"
      ]
     },
     "execution_count": 84,
     "metadata": {},
     "output_type": "execute_result"
    }
   ],
   "source": [
    "func_sym.get_symbols()\n",
    "\n",
    "# stack 프레임이 쌓일때 어떻게 한번 load 하면 변수들을 미리 찾아서 공간을 할당할까? 하는 방법의 비밀은. symboltable에 이미 변수들의 이름들을 모두 가지고있음."
   ]
  },
  {
   "cell_type": "code",
   "execution_count": 85,
   "metadata": {
    "collapsed": true
   },
   "outputs": [],
   "source": [
    "# c = a + b : 이것은 문\n",
    "# a + b : 이것은 식"
   ]
  },
  {
   "cell_type": "code",
   "execution_count": null,
   "metadata": {
    "collapsed": true
   },
   "outputs": [],
   "source": [
    "# 각언어마다 AST가 있지만, 작동방식을 모두 언어마다 다름.\n"
   ]
  },
  {
   "cell_type": "code",
   "execution_count": 113,
   "metadata": {
    "collapsed": true
   },
   "outputs": [],
   "source": [
    "import dis \n",
    "# dis asamblea?\n"
   ]
  },
  {
   "cell_type": "code",
   "execution_count": 114,
   "metadata": {},
   "outputs": [
    {
     "name": "stdout",
     "output_type": "stream",
     "text": [
      "  1           0 LOAD_CONST               0 (<code object func at 0x106e720c0, file \"<dis>\", line 1>)\n",
      "              2 LOAD_CONST               1 ('func')\n",
      "              4 MAKE_FUNCTION            0\n",
      "              6 STORE_NAME               0 (func)\n",
      "\n",
      "  4           8 LOAD_CONST               2 (10)\n",
      "             10 STORE_NAME               1 (a)\n",
      "\n",
      "  5          12 LOAD_CONST               3 (20)\n",
      "             14 STORE_NAME               2 (b)\n",
      "\n",
      "  7          16 LOAD_NAME                0 (func)\n",
      "             18 LOAD_NAME                1 (a)\n",
      "             20 LOAD_NAME                2 (b)\n",
      "             22 CALL_FUNCTION            2\n",
      "             24 STORE_NAME               3 (c)\n",
      "\n",
      "  8          26 LOAD_NAME                4 (print)\n",
      "             28 LOAD_NAME                3 (c)\n",
      "             30 CALL_FUNCTION            1\n",
      "             32 POP_TOP\n",
      "             34 LOAD_CONST               4 (None)\n",
      "             36 RETURN_VALUE\n"
     ]
    }
   ],
   "source": [
    "dis.dis(s)\n",
    "\n",
    "# LOAD_CONST = > 의 역활이 무엇인가 보자"
   ]
  },
  {
   "cell_type": "code",
   "execution_count": 115,
   "metadata": {
    "collapsed": true
   },
   "outputs": [],
   "source": [
    "g = dis.get_instructions(s)\n",
    "# 위에 있는 byte code를 뽑음"
   ]
  },
  {
   "cell_type": "code",
   "execution_count": 128,
   "metadata": {
    "collapsed": true
   },
   "outputs": [],
   "source": [
    "for inst in g:\n",
    "    print(inst.openme.ljust(20), end = ' ')\n",
    "   # print(inst.argval)"
   ]
  },
  {
   "cell_type": "code",
   "execution_count": 129,
   "metadata": {},
   "outputs": [
    {
     "name": "stdout",
     "output_type": "stream",
     "text": [
      "Instruction(opname='RETURN_VALUE', opcode=83, arg=None, argval=None, argrepr='', offset=36, starts_line=None, is_jump_target=False)\n"
     ]
    }
   ],
   "source": [
    "print(inst)"
   ]
  },
  {
   "cell_type": "code",
   "execution_count": 111,
   "metadata": {
    "collapsed": true
   },
   "outputs": [],
   "source": [
    "# code 오브젝트\n",
    "code = compile(s, 'test.py', 'exec')\n"
   ]
  },
  {
   "cell_type": "code",
   "execution_count": 112,
   "metadata": {},
   "outputs": [
    {
     "data": {
      "text/plain": [
       "b'd\\x00d\\x01\\x84\\x00Z\\x00d\\x02Z\\x01d\\x03Z\\x02e\\x00e\\x01e\\x02\\x83\\x02Z\\x03e\\x04e\\x03\\x83\\x01\\x01\\x00d\\x04S\\x00'"
      ]
     },
     "execution_count": 112,
     "metadata": {},
     "output_type": "execute_result"
    }
   ],
   "source": [
    "code.co_code"
   ]
  },
  {
   "cell_type": "code",
   "execution_count": 121,
   "metadata": {
    "collapsed": true
   },
   "outputs": [],
   "source": [
    "code = compile(s, 'test', 'exec')\n",
    "# byte 코드로 최대로 나온갓\n"
   ]
  },
  {
   "cell_type": "code",
   "execution_count": 122,
   "metadata": {},
   "outputs": [
    {
     "data": {
      "text/plain": [
       "<code object <module> at 0x106c68e40, file \"test\", line 1>"
      ]
     },
     "execution_count": 122,
     "metadata": {},
     "output_type": "execute_result"
    }
   ],
   "source": [
    "code"
   ]
  },
  {
   "cell_type": "code",
   "execution_count": 123,
   "metadata": {},
   "outputs": [
    {
     "data": {
      "text/plain": [
       "b'd\\x00d\\x01\\x84\\x00Z\\x00d\\x02Z\\x01d\\x03Z\\x02e\\x00e\\x01e\\x02\\x83\\x02Z\\x03e\\x04e\\x03\\x83\\x01\\x01\\x00d\\x04S\\x00'"
      ]
     },
     "execution_count": 123,
     "metadata": {},
     "output_type": "execute_result"
    }
   ],
   "source": [
    "code.co_code"
   ]
  },
  {
   "cell_type": "code",
   "execution_count": 130,
   "metadata": {},
   "outputs": [
    {
     "data": {
      "text/plain": [
       "(<code object func at 0x106c68ed0, file \"test\", line 1>, 'func', 10, 20, None)"
      ]
     },
     "execution_count": 130,
     "metadata": {},
     "output_type": "execute_result"
    }
   ],
   "source": [
    "code.co_consts"
   ]
  },
  {
   "cell_type": "code",
   "execution_count": 131,
   "metadata": {},
   "outputs": [
    {
     "data": {
      "text/plain": [
       "('func', 'a', 'b', 'c', 'print')"
      ]
     },
     "execution_count": 131,
     "metadata": {},
     "output_type": "execute_result"
    }
   ],
   "source": [
    "code.co_names\n",
    "# 0번 func, 1번 a, 2번 b ... 이런식으로 해석되는가..\n",
    "# c PYTHON 이터널..(내부)"
   ]
  },
  {
   "cell_type": "code",
   "execution_count": null,
   "metadata": {
    "collapsed": true
   },
   "outputs": [],
   "source": []
  },
  {
   "cell_type": "code",
   "execution_count": null,
   "metadata": {
    "collapsed": true
   },
   "outputs": [],
   "source": [
    "# AST 로 심볼 테이블을 만들고 -> 심볼테이블로 바이트 코드를 만듬.\n",
    "# load cost는 기계어가 아니기떄문에 실행이 안됨."
   ]
  },
  {
   "cell_type": "code",
   "execution_count": 135,
   "metadata": {},
   "outputs": [
    {
     "data": {
      "text/plain": [
       "['__call__',\n",
       " '__class__',\n",
       " '__delattr__',\n",
       " '__dir__',\n",
       " '__doc__',\n",
       " '__eq__',\n",
       " '__format__',\n",
       " '__ge__',\n",
       " '__getattribute__',\n",
       " '__gt__',\n",
       " '__hash__',\n",
       " '__init__',\n",
       " '__init_subclass__',\n",
       " '__le__',\n",
       " '__lt__',\n",
       " '__module__',\n",
       " '__name__',\n",
       " '__ne__',\n",
       " '__new__',\n",
       " '__qualname__',\n",
       " '__reduce__',\n",
       " '__reduce_ex__',\n",
       " '__repr__',\n",
       " '__self__',\n",
       " '__setattr__',\n",
       " '__sizeof__',\n",
       " '__str__',\n",
       " '__subclasshook__',\n",
       " '__text_signature__']"
      ]
     },
     "execution_count": 135,
     "metadata": {},
     "output_type": "execute_result"
    }
   ],
   "source": [
    "dir(__import__)"
   ]
  },
  {
   "cell_type": "code",
   "execution_count": 137,
   "metadata": {},
   "outputs": [
    {
     "ename": "AttributeError",
     "evalue": "'builtin_function_or_method' object has no attribute '__Text_singnature__'",
     "output_type": "error",
     "traceback": [
      "\u001b[0;31m---------------------------------------------------------------------------\u001b[0m",
      "\u001b[0;31mAttributeError\u001b[0m                            Traceback (most recent call last)",
      "\u001b[0;32m<ipython-input-137-375d8497ff4e>\u001b[0m in \u001b[0;36m<module>\u001b[0;34m()\u001b[0m\n\u001b[0;32m----> 1\u001b[0;31m \u001b[0m__import__\u001b[0m\u001b[0;34m.\u001b[0m\u001b[0m__Text_singnature__\u001b[0m\u001b[0;34m\u001b[0m\u001b[0m\n\u001b[0m",
      "\u001b[0;31mAttributeError\u001b[0m: 'builtin_function_or_method' object has no attribute '__Text_singnature__'"
     ]
    }
   ],
   "source": [
    "__import__.__Text_singnature__"
   ]
  },
  {
   "cell_type": "code",
   "execution_count": null,
   "metadata": {
    "collapsed": true
   },
   "outputs": [],
   "source": [
    "\n"
   ]
  },
  {
   "cell_type": "code",
   "execution_count": 139,
   "metadata": {
    "collapsed": true
   },
   "outputs": [],
   "source": [
    "# 자료구조 와 알고리즘. \n",
    "# 자료구조와 알고리즘은 비슷하지만 개념이 다르다.\n",
    "\n",
    "# 파이썬은 이미 튜플, 리스트, 딕셔너리 등 여러가지 형태의 자료구조가 존재한다. 근데 파이썬은 이것들을 사용할수 있게 만들어 놓았음. c언어 에서는 코드를 작성할때 자료구조를 어떻게 만들것인지 먼저 고민을 해놓고 코드를 작성행함. 그래서 파이썬이랑 조금 다르다.\n",
    "# "
   ]
  },
  {
   "cell_type": "code",
   "execution_count": null,
   "metadata": {
    "collapsed": true
   },
   "outputs": [],
   "source": []
  },
  {
   "cell_type": "code",
   "execution_count": 140,
   "metadata": {
    "collapsed": true
   },
   "outputs": [],
   "source": [
    "# 배열의 원리 -> 배열은 재구성이 불가(늘리거나 줄일수 없음.)\n",
    "\n",
    "# 원래는 리소스 낭비가 심함. 이유는 배열 4 -> 배열 6 으로 갈때 \n",
    "# 배열 4를 배열6에 복사함 -> 그리고 5,6 추가하고 배열 4를 삭제함. 3가지 과정이 이루어지는데 리소스가 많이 먹게됨.\n",
    "\n",
    "# 링크드 리스트는 4 공간에 5,6을 연결시킴.\n",
    "# 단점은 locality 가 보장이안되고, 페이지 폴트가 자주 일어남.\n",
    "\n",
    "# 두게를 상황에 따라서 사용을 해야함.\n",
    "\n",
    "# 배열과 링크드 리스트의 장단점. \n",
    "# 링크드 리스트의 최대약점은 정보를 찾을때 하나씩 순회를 해야함\n",
    "# 링크드 리스트는 데이를 추가,삭제할때 강력함, but 데이터 접근에 느림.\n",
    "\n",
    "# 배열은 리스트로 묶여있어서 인덱싱으로 빠르게 찾을수 있음. 따라서 데이터에 자주 접근을 하면 배열을 사용함."
   ]
  },
  {
   "cell_type": "code",
   "execution_count": 157,
   "metadata": {
    "collapsed": true
   },
   "outputs": [],
   "source": [
    "# linear search vs binary search 성능비교.\n",
    "\n",
    "# linear search --> for 문을 생각하면된다..?\n",
    "# linear search(data, target): 찾으려는 데이터의 인덱싱 반환\n",
    "\n",
    "def linear_search(data, target):\n",
    "    for e in data:\n",
    "        if e == target:\n",
    "            return data.index(e) # data에 있는 인덱싱을 찾는것..\n",
    "        \n",
    "        else:\n",
    "            return None \n",
    "    \n",
    "            "
   ]
  },
  {
   "cell_type": "code",
   "execution_count": 158,
   "metadata": {},
   "outputs": [
    {
     "name": "stdout",
     "output_type": "stream",
     "text": [
      "no\n"
     ]
    }
   ],
   "source": [
    "li = [4, 2, 7, 8, 9, 10]\n",
    "\n",
    "idx = linear_search(li, 8)\n",
    "\n",
    "if idx:\n",
    "    print(li[idx])\n",
    "    \n",
    "else:\n",
    "    print(\"no\")\n",
    "    \n",
    "    # 선형 탐색은 하나씩 하나씩 비교하며찾아야 하기때문에 데이터 비교를 모두해야함"
   ]
  },
  {
   "cell_type": "code",
   "execution_count": 159,
   "metadata": {},
   "outputs": [
    {
     "data": {
      "text/plain": [
       "2"
      ]
     },
     "execution_count": 159,
     "metadata": {},
     "output_type": "execute_result"
    }
   ],
   "source": [
    "li[1]\n"
   ]
  },
  {
   "cell_type": "code",
   "execution_count": null,
   "metadata": {
    "collapsed": true
   },
   "outputs": [],
   "source": []
  },
  {
   "cell_type": "code",
   "execution_count": 160,
   "metadata": {
    "collapsed": true
   },
   "outputs": [],
   "source": [
    "# 이진탐색(binary search)\n",
    "# 이진 탐색을 사용하려면 '무조건' 정렬된 상태여야 한다.\n",
    "# 이진탐색 방법은 100 -> 50 으로 , 50 -> 25 ....이런식으로 내가 정한 타켓을 찾아 나가면서 타켓을 찾아나가면서 연산을함. 이겄때문에 성능 차이가 나게됨..\n",
    "# 알고리즘을 설형하고 구현하는 방법..\n"
   ]
  },
  {
   "cell_type": "code",
   "execution_count": 186,
   "metadata": {
    "collapsed": true
   },
   "outputs": [],
   "source": [
    "li1 = [1,2,3,4,5,6,7,8,9,10]"
   ]
  },
  {
   "cell_type": "code",
   "execution_count": 187,
   "metadata": {},
   "outputs": [
    {
     "name": "stdout",
     "output_type": "stream",
     "text": [
      "[1, 2, 3, 4, 5, 6, 7, 8, 9, 10]\n"
     ]
    }
   ],
   "source": [
    "print(li)"
   ]
  },
  {
   "cell_type": "code",
   "execution_count": null,
   "metadata": {
    "collapsed": true
   },
   "outputs": [],
   "source": [
    "\n"
   ]
  },
  {
   "cell_type": "code",
   "execution_count": 210,
   "metadata": {
    "collapsed": true
   },
   "outputs": [],
   "source": [
    "# 이거 내가 한번 다시 구현해보자. 인덱싱으로 값을 찾는것.\n",
    "\n",
    "def binary_search(n, li):\n",
    "    while n == li[n]:\n",
    "        if n > li[0] + li[-1:]//2:\n",
    "            return True\n",
    "        elif n < li[0] + li[-1:]//2:\n",
    "            return False\n",
    "        return True\n",
    "    #################################여기까지 만들다가 말음."
   ]
  },
  {
   "cell_type": "code",
   "execution_count": 211,
   "metadata": {
    "collapsed": true
   },
   "outputs": [],
   "source": [
    "a = binary_search(4, li)"
   ]
  },
  {
   "cell_type": "code",
   "execution_count": 212,
   "metadata": {},
   "outputs": [
    {
     "name": "stdout",
     "output_type": "stream",
     "text": [
      "None\n"
     ]
    }
   ],
   "source": [
    "print(a)"
   ]
  },
  {
   "cell_type": "code",
   "execution_count": null,
   "metadata": {
    "collapsed": true
   },
   "outputs": [],
   "source": []
  },
  {
   "cell_type": "code",
   "execution_count": 228,
   "metadata": {
    "collapsed": true
   },
   "outputs": [],
   "source": [
    "# data '반드시' 정렬된 상태로 여야 할 것.\n",
    "# 못찾으면 None\n"
   ]
  },
  {
   "cell_type": "code",
   "execution_count": 4,
   "metadata": {
    "collapsed": true
   },
   "outputs": [],
   "source": [
    "def binary_search(data, target):\n",
    "    data.sort()\n",
    "    start = 0\n",
    "    end = len(data) - 1\n",
    "    \n",
    "    while start <= end:\n",
    "        mid = (start + end) // 2 \n",
    "        \n",
    "        if data[mid] == target:\n",
    "            return mid\n",
    "        \n",
    "        elif data[mid] < target:\n",
    "            end = mid - 1 \n",
    "            \n",
    "        else:\n",
    "            statr = mid + 1\n",
    "    return None"
   ]
  },
  {
   "cell_type": "code",
   "execution_count": 5,
   "metadata": {},
   "outputs": [
    {
     "name": "stdout",
     "output_type": "stream",
     "text": [
      "[0, 1, 4, 9, 16, 25, 36, 49, 64, 81]\n"
     ]
    }
   ],
   "source": [
    "li = [ i **2 for i in range(10)]\n",
    "print(li)"
   ]
  },
  {
   "cell_type": "code",
   "execution_count": null,
   "metadata": {
    "collapsed": true
   },
   "outputs": [],
   "source": [
    "target = 9\n",
    "idx = binary_search(li, target)\n",
    "if idx:\n",
    "    print(li[idx])\n",
    "else:\n",
    "    print(\"no\")"
   ]
  },
  {
   "cell_type": "code",
   "execution_count": null,
   "metadata": {
    "collapsed": true
   },
   "outputs": [],
   "source": []
  },
  {
   "cell_type": "code",
   "execution_count": null,
   "metadata": {
    "collapsed": true
   },
   "outputs": [],
   "source": []
  }
 ],
 "metadata": {
  "kernelspec": {
   "display_name": "Python 3",
   "language": "python",
   "name": "python3"
  },
  "language_info": {
   "codemirror_mode": {
    "name": "ipython",
    "version": 3
   },
   "file_extension": ".py",
   "mimetype": "text/x-python",
   "name": "python",
   "nbconvert_exporter": "python",
   "pygments_lexer": "ipython3",
   "version": "3.6.2"
  }
 },
 "nbformat": 4,
 "nbformat_minor": 2
}

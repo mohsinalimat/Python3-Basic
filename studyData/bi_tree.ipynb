{
 "cells": [
  {
   "cell_type": "code",
   "execution_count": 94,
   "metadata": {
    "collapsed": true
   },
   "outputs": [],
   "source": [
    "from tree import *"
   ]
  },
  {
   "cell_type": "code",
   "execution_count": 107,
   "metadata": {},
   "outputs": [
    {
     "name": "stdout",
     "output_type": "stream",
     "text": [
      "TreeNode of 6 is deleted\n",
      "TreeNode of 8 is deleted\n",
      "TreeNode of 3 is deleted\n",
      "TreeNode of 10 is deleted\n",
      "TreeNode of 2 is deleted\n",
      "TreeNode of 4 is deleted\n",
      "TreeNode of 11 is deleted\n",
      "TreeNode of 5 is deleted\n"
     ]
    }
   ],
   "source": [
    "class BST(BinaryTree): # binaryTree 는 BST의 일종이다 -> 이때 상속을 쓴다.\n",
    "    # 오늘은 insert랑 search 구현함.. remove는 다음에 구현함.. 이거 오늘 집에가서 한번 알고리즘 잊어버리기 전에 한번 확인해서 복습 해보자..\n",
    "    \n",
    "    def insert(self, data):\n",
    "        # data를 가진 새 노드 생성\n",
    "        new_node = self.make_node()\n",
    "        self.set_node_data(new_node, data)\n",
    "        \n",
    "        # 만약에 빈 BST\n",
    "        cur = self.get_root() # root node 가져와서 데이터 비교해서 왼, 오른쪽, 왔다갔다 하면서 빈 node 만나면 데이터 삽입.\n",
    "        if cur == None:\n",
    "            self.set_root(new_node) # root이 아무것도 없을떄\n",
    "            return # 예외처리.\n",
    "            \n",
    "        # 적절한 위치를 찾아서 new_node를 삽입 \n",
    "        while True: # insert는 반환이 없음.\n",
    "            if data < self.get_node_data(cur):\n",
    "                if self.get_left_sub_tree(cur):\n",
    "                    cur = self.get_left_sub_tree(cur) # 있으면 cur를 이동시키고.\n",
    "                    # 함수를 넣음\n",
    "                else:\n",
    "                    self.make_left_sub_tree(cur, new_node) \n",
    "                    break\n",
    "                        \n",
    "            else:\n",
    "                if self.get_right_sub_tree(cur):\n",
    "                    cur = self.get_right_sub_tree(cur) # 위의 if 랑 반대임.. 왼,오른 이니까\n",
    "                else:\n",
    "                    self.make_right_sub_tree(cur, new_node)\n",
    "                    break\n",
    "                    \n",
    "            # 무한 루프를 돌리는데, 각각의 값들을 찾으면 명령문에서 break 를 써서 멈춰줌.\n",
    "            \n",
    "            \n",
    "                \n",
    "                \n",
    "            \n",
    "       \n",
    "    def search(self, target):\n",
    "        cur = self.get_root()\n",
    "        \n",
    "        while cur:\n",
    "            if target == self.get_node_data(cur):\n",
    "                return cur\n",
    "            elif target < self.get_node_data(cur):\n",
    "                cur = self.get_left_sub_tree(cur) # 이게 cur을 서브 트리로 이동시키는것\n",
    "            else:\n",
    "                cur = self.get_right_sub_tree(cur)\n",
    "        return cur\n",
    "            \n",
    "    ''' 내가 한것, 수정해서 정리하자\n",
    "    def search(self, target):\n",
    "        cur = self.get_root() # 찾는것 이니까, 일단 root을 받아온다.\n",
    "        \n",
    "        while cur: # while 에서 찾았으면 끝나면되는데, 못찾으면 \n",
    "            if self.get_root() == target:\n",
    "                return cur\n",
    "            #왼쪽 트리\n",
    "            elif self.get_root() > target:\n",
    "                if self.get_make_sub_tree(cur) == target:\n",
    "                    return cur\n",
    "                elif self. \n",
    "    \n",
    "        \n",
    "        return cur \n",
    "    '''    \n",
    "       # return None # 파이썬에서는 모든 함수는 None 을 반환하는데, 가독성을 위해서 이걸 넣어줌\n",
    "    \n",
    "    \n",
    "    # 사용자 프로그래머는 편의함수는 구현을 위해서 만든것, 밖에서 호출하면안됨. remove 안에서만 호출해서 사용해야함..(OOP 적인?)\n",
    "    \n",
    "    #편의 함수 1 : 마지막에 꼬리일때\n",
    "    def remove_leaf(self, parent, del_node):\n",
    "        # 지우려는 노드(del_node)가 루트 노드일 때\n",
    "        # self.root = None 안됨. 참조 함수의 인터페이스를 사용해서 만들어라...\n",
    "        # get_root() 함수를 이용해서 찾음.\n",
    "        \n",
    "        ######(중요한거 한개배움) 아.. 여기에서 self.del_node를 사용할수 없는 이유는. del_node가 여기서는 인자로 받았고 self.del_node는 인스턴스를 호출하는거라서 그런듯>?\n",
    "        if del_node == self.get_root():\n",
    "            self.set_root(None)\n",
    "            \n",
    "            return self.del_node\n",
    "        '''\n",
    "        if self.get_left_sub_tree(parent) == del_node:\n",
    "            self.make_left_sub_tree(parent, None)\n",
    "            \n",
    "        else:\n",
    "            self.make_right_sub_tree(parent, None)\n",
    "        \n",
    "        '''\n",
    "        # parent == del_parent\n",
    "        # 지우려는 노드가 parent의 왼쪽 노드 일때\n",
    "        if del_node == self.get_left_sub_tree(parent):\n",
    "            \n",
    "            self.make_left_sub_tree(parent, None)\n",
    "        else:\n",
    "            self.make_right_sub_tree(parent, None)\n",
    "        \n",
    "            \n",
    "            #지우려는 노드가 parent의 오른쪽 노드일 때\n",
    "        \n",
    "        \n",
    "        \n",
    "    \n",
    "    #편의 함수2 : 자식노드 한개,\n",
    "    def remove_one_child(self, parent, del_node):\n",
    "        \n",
    "        if self.get_root() == del_node:\n",
    "            \n",
    "        # 만약 왼쪽에 자식이 있을때 : root을 self.get_left로 지정을 해주어서 만들어줌.\n",
    "            if self.get_left_sub_tree(del_node): \n",
    "                self.set_root(self.get_left_sub_tree(del_node))\n",
    "        # 만약 오른쪽에 자식이 있을때\n",
    "            else:\n",
    "                self.set_root(self.get_right_sub_tree(del_node))\n",
    "                \n",
    "                \n",
    "            \n",
    "        \n",
    "            \n",
    "        del_child =None\n",
    "        \n",
    "        if self.get_left_sub_tree(del_node): # del 노드의 왼쪽에 자식이 있다면..\n",
    "            del_child = self.get_left_sub_tree(del_node)\n",
    "            \n",
    "        else:\n",
    "            del_child = self.get_right_sub_tree(del_node)\n",
    "            \n",
    "            \n",
    "        #만약 parent의 왼쪽이 del_node -> parent 왼쪽 자식을 del_child\n",
    "        if self.get_left_sub_tree(parent) == del_node:\n",
    "            self.make_left_sub_tree(parent, del_child) # 이게 찾은 값을 root과 child를 붙여 주는 ㅗ드\n",
    "            \n",
    "        else:\n",
    "            self.make_right_sub_tree(parent, del_child)\n",
    "        \n",
    "    # 자식이 한개인데, 루트 노드 일때. \n",
    "    # 루트 노드를 자식인 녀석으로 바꾸어주면 됨.루트 노드를 바꾸어주면, 루트값이 사라지는것임.\n",
    "    # 지우려는 노드가의 자식이 왼,오른쪽에 있을텐데, 지우려는 녀석이랑, parent랑, del_child를 붙여주면됨.\n",
    "       \n",
    "            \n",
    "    \n",
    "\n",
    "    '''\n",
    "    \n",
    "    # 지우려는것이 루트 노드일때.\n",
    "        if del_node == self.get_root():\n",
    "            if get_left_sub_tree(del_node):\n",
    "                self.set_root(del_node)\n",
    "            else:\n",
    "                self.set_root(del_node)\n",
    "                \n",
    "        \n",
    "        del_child = None\n",
    "        \n",
    "        # del_node의 좌, 우 검사해서 del_child를 넣는거 모르겠다. 이거는 한번 보자. \n",
    "        \n",
    "        if self.get_right_sub_tree(del_node):\n",
    "            self.get_right_sub_tree(del_node) = del_child\n",
    "            # 으흠.. 나는 여기에서 get_right_sub_tree 의 값을 del_child로 만들어주려고 했는데, 그렇게 하지말고 make 함수써서parent랑, del_child를 바로 붙여줘서 만들어버렸구마\n",
    "            \n",
    "            self.\n",
    "            \n",
    "        else:\n",
    "            pass\n",
    "        # 만약 parent의 왼쪽이 del_node -> parent 왼쪽 자식을 연결 del_child\n",
    "        \n",
    "        if True:\n",
    "            \n",
    "            pass\n",
    "        \n",
    "        else:\n",
    "            pass\n",
    "        \n",
    "    '''\n",
    "    \n",
    "    \n",
    "    \n",
    "    \n",
    "    \n",
    "    #편의 함수3 : 자식노드 두개\n",
    "    def remove_two_children(self, del_node):\n",
    "        \n",
    "        \n",
    "        rep_parent = del_node\n",
    "        replace = self.get_left_sub_tree(del_node) # 대체값은 무조건 인쪽에 있으므로, 무조건 왼쪽에 배치시켜줌. None이 나올때 까지 계속 오른쪽으로 이동시켜 주면됨. \n",
    "        # del_node가 root일때 방법 2가지 왼족에서 가장 큰값 이나, 오른쪽에서 가장 작은값을 설정하면됨.\n",
    "        \n",
    "        \n",
    "        # 대체 노드를 찾는 코드\n",
    "        # replace -> 왼쪽 서브 트리에서 가장 큰 수\n",
    "        #rep_parent-> replace의 부모 \n",
    "        \n",
    "        while self.get_right_sub_tree(replace): # replace의 오른쪽 자식이 있다면 내려가라.\n",
    "            rep_parent = replace\n",
    "            replace = self.get_right_sub_tree(replace)\n",
    "            \n",
    "        # rep_parent 와 replace 는 각각 replace의 값과 rep_parent의 값을 가리키고 있는상태\n",
    "        \n",
    "        # 여기에서 경우의 수는 두가지, \n",
    "        \n",
    "        temp_data = self.get_node_data(del_node) # temp_data 를 이용해서 값을 바꾸어줄꺼임\n",
    "        self.set_node_data(del_node, self.get_node_data(replace))\n",
    "        self.set_node_data(replace, temp_data) # 값을 3가지의 방으로 나누어서 각각 이동시켜서 바꾸어준것임., 이 부분은 그림으로 이해하면 쉬움. \n",
    "        \n",
    "        # rep_parent와 replace의 왼쪽 자식을 연결\n",
    "        if self.get_left_sub_tree(rep_parent) == replace:\n",
    "            self.make_left_sub_tree(rep_parent, self.get_left_sub_tree(replace))\n",
    "            \n",
    "        # rep_parent 의 오른쪽이 replace라면\n",
    "        else:\n",
    "            self.make_right_sub_tree(rep_parent, self.get_left_sub_tree(replace))\n",
    "            \n",
    "        return replace # return replace를 하는 이유는 각각의 값을 바꾸어 주었기 때문에 return을 한다..?\n",
    "    \n",
    "    \n",
    "        # 지우려는 값이 바뀌었기 때문에 del_node 를 지우는게 아니라, 아래에 있는\n",
    "        # 지울지 말지 유저가 결정하게 하려고 return replace 를 한것임.. 이 이유는, 사용자에게 지울지 말지 결정하게 해주려고 return을 해준다는 이야기같음..\n",
    "        \n",
    "        \n",
    "    \n",
    "    \n",
    "        \n",
    "        \n",
    "                \n",
    "            \n",
    "         \n",
    "        '''\n",
    "            # 최종적으로 replace가 값을 지정하게 해놓고, rep_parent를 찾아 주게 해놓으면됨\n",
    "            \n",
    "        \n",
    "        # 대체 노드와 삭제 노드의 값을 교환 \n",
    "        \n",
    "        \n",
    "        \n",
    "        # 값을 교환해서 변경 시켜줄때 2개의 경우의 수가 생김.\n",
    "        # replace 값이 오른쪽에는 있을수 없음.\n",
    "        # rep_parent 의 왼쪽, 오른쪽이 있을 경우를 찾고\n",
    "        # replace 의 왼쪽 값이 있을수는 있는데, 오른쪽은 있을수없음.\n",
    "        # 따라서 replace를 지웟을때 rep_parent와 연경 시켜줘야하는 경우를 고민 해야함.\n",
    "        \n",
    "        \n",
    "        \n",
    "        # rep_parent와 replace의 왼족 자식을 연결해주는 작업\n",
    "        if True:\n",
    "            pass\n",
    "        \n",
    "        else:\n",
    "            pass\n",
    "        '''\n",
    "        \n",
    "    \n",
    "    # 자식 노드가 2개일때는 예외처리를 안해도 된다. \n",
    "    # 이유는 자식이 2개 있을때는, 값을 찾아서 바꾸어 주고 바꾸어준 값을 지워주면됨..!\n",
    "    \n",
    "    \n",
    "    \n",
    "    \n",
    "   # remove 가 핵심이었다. \n",
    "    def remove(self, target):\n",
    "        del_parent = self.get_root()\n",
    "        del_node = self.get_root()\n",
    "        \n",
    "        #del_node가 지우려는 노드, target 을 가진 노드를 가리키게\n",
    "        #del_parent는 del_node의 부모를 가리키게 \n",
    "        # 만약 target을 못 찾으면 None 리턴\n",
    "        while True:\n",
    "            if not del_node:\n",
    "                return None\n",
    "            \n",
    "            # 찾는 타겟이 같으면 브레이크.\n",
    "            if target == self.get_node_data(del_node):\n",
    "                break\n",
    "            \n",
    "            if target < self.get_node_data(del_node):\n",
    "                # 타겟이 작으면\n",
    "                del_parent = del_node # 왼쪽으로 이동\n",
    "                del_node = self.get_left_sub_tree(del_node)\n",
    "                \n",
    "            else:\n",
    "                del_parent = del_node\n",
    "                del_node = self.get_right_sub_tree(del_node)\n",
    "                \n",
    "            ## 이 위의 수식이, 타겟의 값의 크기에 따라서 del_parent,와 del_node 가 왼, 오른쪽을 가리키게 만들어주는거같음. 쭈욱. while을 써서\n",
    "                \n",
    "            \n",
    "        \n",
    "        \n",
    "        # 만약 지우려는 노드(Node)가 leaf노드면 \n",
    "        # remove_reaf() 함수 호출\n",
    "        \n",
    "        if not self.get_left_sub_tree(del_node)and not self.get_right_sub_tree(del_node):\n",
    "            \n",
    "            return self.remove_leaf(del_parent, del_node)\n",
    "        \n",
    "        #지우려는 노드가 자식이 하나면\n",
    "        #remove_one_child()\n",
    "        \n",
    "        elif not self.get_left_sub_tree(del_node) or not self.get_right_sub_tree(del_node):\n",
    "            \n",
    "            return self.remove_one_child(del_parent, del_node)\n",
    "            pass\n",
    "        \n",
    "        #지우려는 노드가 자식이 두 개일 때\n",
    "        #remove_two_child\n",
    "    \n",
    "        else:\n",
    "            \n",
    "            return self.remove_two_children(del_node) \n",
    "            \n",
    "    \n",
    "    \n",
    "    \n",
    "    "
   ]
  },
  {
   "cell_type": "code",
   "execution_count": 32,
   "metadata": {
    "collapsed": true
   },
   "outputs": [],
   "source": [
    "per = BST"
   ]
  },
  {
   "cell_type": "code",
   "execution_count": 33,
   "metadata": {},
   "outputs": [
    {
     "ename": "TypeError",
     "evalue": "insert() missing 1 required positional argument: 'data'",
     "output_type": "error",
     "traceback": [
      "\u001b[0;31m---------------------------------------------------------------------------\u001b[0m",
      "\u001b[0;31mTypeError\u001b[0m                                 Traceback (most recent call last)",
      "\u001b[0;32m<ipython-input-33-9815a07f5221>\u001b[0m in \u001b[0;36m<module>\u001b[0;34m()\u001b[0m\n\u001b[0;32m----> 1\u001b[0;31m \u001b[0mper\u001b[0m\u001b[0;34m.\u001b[0m\u001b[0minsert\u001b[0m\u001b[0;34m(\u001b[0m\u001b[0;36m10\u001b[0m\u001b[0;34m)\u001b[0m\u001b[0;34m\u001b[0m\u001b[0m\n\u001b[0m",
      "\u001b[0;31mTypeError\u001b[0m: insert() missing 1 required positional argument: 'data'"
     ]
    }
   ],
   "source": [
    "per.insert(10)"
   ]
  },
  {
   "cell_type": "code",
   "execution_count": null,
   "metadata": {
    "collapsed": true
   },
   "outputs": [],
   "source": []
  },
  {
   "cell_type": "code",
   "execution_count": 6,
   "metadata": {},
   "outputs": [
    {
     "data": {
      "text/plain": [
       "'\\nif __name__ == \"__main__\":\\n    bst = BST()\\n    \\n    #insert\\n    bst.insert(6)\\n    bst.insert(3)\\n    bst.insert(2)\\n    bst.insert(4)\\n    bst.insert(5)\\n    bst.insert(8)\\n    bst.insert(10)\\n    bst.insert(9)\\n    bst.insert(11)\\n\\n    f = lambda x: print(x, end = \\'  \\')\\n    #전위 순회\\n    bst.preorder_traverse(bst.get_root(), f)\\n    print(\"\")\\n    \\n    #search\\n    print(\"searched data : {}\".format(bst.search(8).data))\\n\\n    #remove - 1 : 리프 노드일 때\\n    #bst.remove(9)\\n\\n    #remove - 2 : 자식 노드 하나일 때\\n    #bst.remove(8)\\n\\n    #remove - 3: 자식 노드 두 개일 때\\n    #bst.remove(6)\\n    \\n    bst.preorder_traverse(bst.get_root(), f)\\n\\n# 테스트 코드 binary tree 의 최대약점은 insert 에 따라서 자료값이 달라질수 있다..?\\n'"
      ]
     },
     "execution_count": 6,
     "metadata": {},
     "output_type": "execute_result"
    }
   ],
   "source": [
    "'''\n",
    "if __name__ == \"__main__\":\n",
    "    bst = BST()\n",
    "    \n",
    "    #insert\n",
    "    bst.insert(6)\n",
    "    bst.insert(3)\n",
    "    bst.insert(2)\n",
    "    bst.insert(4)\n",
    "    bst.insert(5)\n",
    "    bst.insert(8)\n",
    "    bst.insert(10)\n",
    "    bst.insert(9)\n",
    "    bst.insert(11)\n",
    "\n",
    "    f = lambda x: print(x, end = '  ')\n",
    "    #전위 순회\n",
    "    bst.preorder_traverse(bst.get_root(), f)\n",
    "    print(\"\")\n",
    "    \n",
    "    #search\n",
    "    print(\"searched data : {}\".format(bst.search(8).data))\n",
    "\n",
    "    #remove - 1 : 리프 노드일 때\n",
    "    #bst.remove(9)\n",
    "\n",
    "    #remove - 2 : 자식 노드 하나일 때\n",
    "    #bst.remove(8)\n",
    "\n",
    "    #remove - 3: 자식 노드 두 개일 때\n",
    "    #bst.remove(6)\n",
    "    \n",
    "    bst.preorder_traverse(bst.get_root(), f)\n",
    "\n",
    "# 테스트 코드 binary tree 의 최대약점은 insert 에 따라서 자료값이 달라질수 있다..?\n",
    "''' "
   ]
  },
  {
   "cell_type": "code",
   "execution_count": null,
   "metadata": {
    "collapsed": true
   },
   "outputs": [],
   "source": []
  },
  {
   "cell_type": "code",
   "execution_count": 103,
   "metadata": {},
   "outputs": [
    {
     "name": "stdout",
     "output_type": "stream",
     "text": [
      "6 3 2 4 5 8 10 9 11 "
     ]
    }
   ],
   "source": [
    "if __name__ == \"__main__\":\n",
    "    bst = BST()\n",
    "    \n",
    "    #insert\n",
    "    bst.insert(6)\n",
    "    bst.insert(3)\n",
    "    bst.insert(2)\n",
    "    bst.insert(4)\n",
    "    bst.insert(5)\n",
    "    bst.insert(8)\n",
    "    bst.insert(10)\n",
    "    bst.insert(9)\n",
    "    bst.insert(11)\n",
    "    \n",
    "    #bst.remove(9)\n",
    "    \n",
    "    f = lambda x: print(x, end = ' ')\n",
    "    bst.preorder_traverse(bst.get_root(),f)\n",
    "    \n",
    "    # 오타와, 함수를 받았을때, 함수가 빠져 나가는걸 확인해야함..\n",
    "    # 에러가 났을때 위에 함수들을 바라보면서 디버깅 하는것들 오.. 이런식으로 찾는거구나."
   ]
  },
  {
   "cell_type": "code",
   "execution_count": 83,
   "metadata": {
    "collapsed": true
   },
   "outputs": [],
   "source": [
    "node = bst.search(8)"
   ]
  },
  {
   "cell_type": "code",
   "execution_count": 36,
   "metadata": {},
   "outputs": [
    {
     "data": {
      "text/plain": [
       "<tree.TreeNode at 0x106e99860>"
      ]
     },
     "execution_count": 36,
     "metadata": {},
     "output_type": "execute_result"
    }
   ],
   "source": [
    "node "
   ]
  },
  {
   "cell_type": "code",
   "execution_count": 37,
   "metadata": {},
   "outputs": [
    {
     "data": {
      "text/plain": [
       "8"
      ]
     },
     "execution_count": 37,
     "metadata": {},
     "output_type": "execute_result"
    }
   ],
   "source": [
    "node.data"
   ]
  },
  {
   "cell_type": "code",
   "execution_count": null,
   "metadata": {
    "collapsed": true
   },
   "outputs": [],
   "source": []
  },
  {
   "cell_type": "code",
   "execution_count": 1,
   "metadata": {
    "collapsed": true
   },
   "outputs": [],
   "source": [
    "#### 8.21(월) 저번주 금요일날 했던것 이어서"
   ]
  },
  {
   "cell_type": "code",
   "execution_count": 104,
   "metadata": {},
   "outputs": [
    {
     "name": "stdout",
     "output_type": "stream",
     "text": [
      "TreeNode of 9 is deleted\n",
      "6 3 2 4 5 8 10 11 "
     ]
    }
   ],
   "source": [
    "# 리프노드 일때 테스트 코드\n",
    "bst.remove(9)\n",
    "bst.preorder_traverse(bst.get_root(), f)\n"
   ]
  },
  {
   "cell_type": "code",
   "execution_count": 105,
   "metadata": {},
   "outputs": [
    {
     "name": "stdout",
     "output_type": "stream",
     "text": [
      "TreeNode of 8 is deleted\n",
      "6 3 2 4 5 10 11 "
     ]
    }
   ],
   "source": [
    "bst.remove(8)\n",
    "bst.preorder_traverse(bst.get_root(), f)"
   ]
  },
  {
   "cell_type": "code",
   "execution_count": null,
   "metadata": {
    "collapsed": true
   },
   "outputs": [],
   "source": [
    "##################"
   ]
  },
  {
   "cell_type": "code",
   "execution_count": 86,
   "metadata": {
    "collapsed": true
   },
   "outputs": [],
   "source": [
    "a = 1\n",
    "b = 2"
   ]
  },
  {
   "cell_type": "code",
   "execution_count": 87,
   "metadata": {
    "collapsed": true
   },
   "outputs": [],
   "source": [
    "a = b"
   ]
  },
  {
   "cell_type": "code",
   "execution_count": 88,
   "metadata": {},
   "outputs": [
    {
     "data": {
      "text/plain": [
       "2"
      ]
     },
     "execution_count": 88,
     "metadata": {},
     "output_type": "execute_result"
    }
   ],
   "source": [
    "a\n"
   ]
  },
  {
   "cell_type": "code",
   "execution_count": 89,
   "metadata": {},
   "outputs": [
    {
     "data": {
      "text/plain": [
       "2"
      ]
     },
     "execution_count": 89,
     "metadata": {},
     "output_type": "execute_result"
    }
   ],
   "source": [
    "b"
   ]
  },
  {
   "cell_type": "code",
   "execution_count": 90,
   "metadata": {
    "collapsed": true
   },
   "outputs": [],
   "source": [
    "a = 1\n",
    "b = 2"
   ]
  },
  {
   "cell_type": "code",
   "execution_count": 91,
   "metadata": {
    "collapsed": true
   },
   "outputs": [],
   "source": [
    "b = a"
   ]
  },
  {
   "cell_type": "code",
   "execution_count": 92,
   "metadata": {},
   "outputs": [
    {
     "data": {
      "text/plain": [
       "1"
      ]
     },
     "execution_count": 92,
     "metadata": {},
     "output_type": "execute_result"
    }
   ],
   "source": [
    "a"
   ]
  },
  {
   "cell_type": "code",
   "execution_count": 93,
   "metadata": {},
   "outputs": [
    {
     "data": {
      "text/plain": [
       "1"
      ]
     },
     "execution_count": 93,
     "metadata": {},
     "output_type": "execute_result"
    }
   ],
   "source": [
    "b"
   ]
  },
  {
   "cell_type": "code",
   "execution_count": 100,
   "metadata": {
    "collapsed": true
   },
   "outputs": [],
   "source": [
    "################# 이런 차이가 있는거였구나, 이거 한번 잘 기억하자 [변경할 변수] = [변경될 변수] 라고 생각하자 "
   ]
  },
  {
   "cell_type": "code",
   "execution_count": 106,
   "metadata": {},
   "outputs": [
    {
     "name": "stdout",
     "output_type": "stream",
     "text": [
      "TreeNode of 6 is deleted\n",
      "5 3 2 4 10 11 "
     ]
    }
   ],
   "source": [
    "bst.remove(6)\n",
    "bst.preorder_traverse(bst.get_root(), f)"
   ]
  },
  {
   "cell_type": "code",
   "execution_count": null,
   "metadata": {
    "collapsed": true
   },
   "outputs": [],
   "source": []
  },
  {
   "cell_type": "code",
   "execution_count": 108,
   "metadata": {
    "collapsed": true
   },
   "outputs": [],
   "source": [
    "# 트리의 문제점..\n",
    "\n",
    "# 입력 순서에 따라서, big O(n)이 나옴.\n",
    "# ex) 입력 순서가 1-2-3-4-5- 순서대로 일때.\n",
    "\n",
    "# 균형 이진 트리 알고리즘\n",
    "# AVL 트리\n",
    "# 2-3-4 트리\n",
    "# Red-Black 트리\n",
    "\n"
   ]
  },
  {
   "cell_type": "code",
   "execution_count": 109,
   "metadata": {
    "collapsed": true
   },
   "outputs": [],
   "source": [
    "# AVL : 균형 이진 트리 \n",
    "# Balance factor \n",
    "# https://github.com/ythwork/DataStructure/blob/master/C%2B%2B/AVL/AVL.pdf\n",
    "#   -> 여기에 AVL 에 대한 PDF 위치가 올라와 있음."
   ]
  },
  {
   "cell_type": "code",
   "execution_count": null,
   "metadata": {
    "collapsed": true
   },
   "outputs": [],
   "source": []
  },
  {
   "cell_type": "code",
   "execution_count": 110,
   "metadata": {
    "collapsed": true
   },
   "outputs": [],
   "source": [
    "# bubble sort\n",
    "# insortrm sort\n",
    "# seloctrm sort"
   ]
  },
  {
   "cell_type": "code",
   "execution_count": 111,
   "metadata": {
    "collapsed": true
   },
   "outputs": [],
   "source": [
    "# dubble sort -> quick\n",
    "# 버블 정렬 -> a, b, c, d 4개 값을 각각 2개씩 비교하면서 자리를 바꿔줌\n",
    "\n",
    "# 데이터가 4개 일때, for 문을 안과 밖을 몇개를 적용 할것인지..?\n"
   ]
  },
  {
   "cell_type": "code",
   "execution_count": 114,
   "metadata": {
    "collapsed": true
   },
   "outputs": [],
   "source": [
    "from functools import reduce"
   ]
  },
  {
   "cell_type": "code",
   "execution_count": 130,
   "metadata": {
    "collapsed": true
   },
   "outputs": [],
   "source": [
    "# data -> list 로받을것임\n",
    "# return -> None 반환 값은 없을것입\n",
    "\n",
    "def bubble_sort(data):\n",
    "    n = len(data) # 데이터의 개수가 몇개인지\n",
    "    \n",
    "    for i in range(n-1):\n",
    "        for j in range(n - i - 1):\n",
    "            if data[j] > data[j+1]:\n",
    "                data[j], data[j+1] = data[j+1], data[j]\n",
    "    \n",
    "      \n",
    "    \n",
    "    #for i in li:\n",
    "        \n",
    "    #li1.append(reduce(lambda x, y: x >= y, li))\n",
    "    \n",
    "    #for i in li:\n",
    "    #    if reduece(lambda x,y: x>=y )\n",
    "     \n",
    "    # i의 개수에 따라서 j의 개수 별로 "
   ]
  },
  {
   "cell_type": "code",
   "execution_count": 129,
   "metadata": {},
   "outputs": [
    {
     "name": "stdout",
     "output_type": "stream",
     "text": [
      "[1, 2, 2, 3, 3, 4, 5, 6, 7, 8, 8, 10]\n"
     ]
    }
   ],
   "source": [
    "if __name__ == \"__main__\":\n",
    "    li = [2, 3, 5, 2, 3, 8, 6, 7, 10, 8, 1, 4]\n",
    "    bubble_sort(li)\n",
    "    print(li)"
   ]
  },
  {
   "cell_type": "code",
   "execution_count": 151,
   "metadata": {
    "collapsed": true
   },
   "outputs": [],
   "source": [
    "#li = [2, 3, 5, 2, 3, 8, 6, 7, 10, 8, 1, 4]\n",
    "\n",
    "def bubble(data):\n",
    "    filter(reduce(lambda x, y : x>y), data)\n",
    "    \n",
    "    # 이렇게 해도 구해지는구만..?"
   ]
  },
  {
   "cell_type": "code",
   "execution_count": 152,
   "metadata": {},
   "outputs": [
    {
     "name": "stdout",
     "output_type": "stream",
     "text": [
      "[1, 2, 4, 5]\n"
     ]
    }
   ],
   "source": [
    "if __name__ == \"__main__\":\n",
    "    li = [4, 2, 5, 1 ]\n",
    "    bubble_sort(li)\n",
    "    print(li)"
   ]
  },
  {
   "cell_type": "code",
   "execution_count": null,
   "metadata": {
    "collapsed": true
   },
   "outputs": [],
   "source": []
  },
  {
   "cell_type": "code",
   "execution_count": 153,
   "metadata": {
    "collapsed": true
   },
   "outputs": [],
   "source": [
    "# 버블 정렬은 데이터의 개수가 많아질수록 big O(n^2) 이다.."
   ]
  },
  {
   "cell_type": "code",
   "execution_count": null,
   "metadata": {
    "collapsed": true
   },
   "outputs": [],
   "source": []
  },
  {
   "cell_type": "code",
   "execution_count": 154,
   "metadata": {
    "collapsed": true
   },
   "outputs": [],
   "source": [
    "# quick sort \n",
    "\n",
    "# divide and conguer 기법 : 분할 정복 기법 : 잘게 쪼개서 정리\n",
    "# divide : 재귀적으로 문제를 잘게잘게 쪼개서 \n"
   ]
  },
  {
   "cell_type": "code",
   "execution_count": 156,
   "metadata": {
    "collapsed": true
   },
   "outputs": [],
   "source": [
    "# start, end, pivot 는 index이다.. 값..?\n",
    "\n",
    "# mid = s+e / 2 , pivot 은 가운데 index의 값이다.\n",
    "\n",
    "# left의 값이 pivot보다 작으면 left의 참조를 멈춤. right는 반대 -> while 로 구현 \n",
    "# left 와 right가 서로 교차 했으면, 교차후 서로 나옴.\n",
    "\n",
    "# 크거나 같으면 멈추고, 값이 작으면 지나침..\n",
    "# left와 right가 교차하면 끝난다..? 아.. 마지막에 서로 다른값들을..\n",
    "\n",
    "# 고민해야하는게, 교차하는 지점은 꼭 pivot"
   ]
  },
  {
   "cell_type": "code",
   "execution_count": null,
   "metadata": {
    "collapsed": true
   },
   "outputs": [],
   "source": []
  },
  {
   "cell_type": "code",
   "execution_count": null,
   "metadata": {
    "collapsed": true
   },
   "outputs": [],
   "source": [
    "def quick_sort(data, start, end):\n",
    "    # 탈출조건\n",
    "    \n",
    "    # start = end 랑 같으면 -> 스타트랑, end랑 같은 경우임.\n",
    "    \n",
    "    if start >= end:\n",
    "        return \n",
    "    \n",
    "    left = start\n",
    "    right = end \n",
    "    pivot = data[(star + end) // 2] # 가운데 인덱스의 값이기때문에..?\n",
    "    \n",
    "    # 인덱스가 아니라 값으로 처리를 해라...?\n",
    "    \n",
    "    # data 를 list로 받아서, 거기에서 left, right, pivot 를 나눔.\n",
    "    \n",
    "    \n",
    "    while left <= right : # left\n",
    "        \n",
    "        while left > pivot:\n",
    "            \n",
    "            left += 1\n",
    "        \n",
    "        while right < pivot:\n",
    "            right -= 1\n",
    "            \n",
    "        #교차 : 이미 교차를 했으면 바꾸면안됨.\n",
    "        \n",
    "        if left <= right:\n",
    "            left = right\n",
    "            \n",
    "        \n",
    "    quick_sort(data, start, right) #pivot 기준으로 앞에 있는녀석 -> 교차가 된 이후니까 start 부터 right 까지?\n",
    "    quick_sort(data, left, end) # pivot 기준으로 뒤에 있는녀석 -> 교차가 된 이후니까 left 부터 end 까지 \n",
    "    \n",
    "    # right, left 랑 알고리즘에 의해서 바뀌면서, \n",
    "        "
   ]
  },
  {
   "cell_type": "code",
   "execution_count": null,
   "metadata": {
    "collapsed": true
   },
   "outputs": [],
   "source": []
  },
  {
   "cell_type": "code",
   "execution_count": null,
   "metadata": {
    "collapsed": true
   },
   "outputs": [],
   "source": []
  },
  {
   "cell_type": "code",
   "execution_count": 161,
   "metadata": {
    "collapsed": true
   },
   "outputs": [],
   "source": [
    "## 정답 : 이거 다시한번 해보자. \n",
    "\n",
    "def quick_sort(data, start, end):\n",
    "    # 탈출조건\n",
    "    \n",
    "    # start = end 랑 같으면 -> 스타트랑, end랑 같은 경우임.\n",
    "    \n",
    "    if start >= end:\n",
    "        return \n",
    "    \n",
    "    left = start # left 는 index\n",
    "    right = end  # right 는 index \n",
    "    pivot = data[(start + end) // 2] # 가운데 인덱스의 값이기때문에..?\n",
    "    \n",
    "    # 퀵소트의 조건이, 맨 앞과 뒤 는 인덱스로 사용하고, 가운데 pivot은 데이터로 사용함. 그렇게해서 넣음..\n",
    "    \n",
    "    # 인덱스가 아니라 값으로 처리를 해라...?\n",
    "    \n",
    "    # data 를 list로 받아서, 거기에서 left, right, pivot 를 나눔.\n",
    "    \n",
    "    \n",
    "    while left <= right : # left\n",
    "        \n",
    "        while data[left] < pivot:\n",
    "            left += 1\n",
    "        \n",
    "        while pivot < data[right]:\n",
    "            right -= 1\n",
    "            \n",
    "        #교차 : 이미 교차를 했으면 바꾸면안됨.\n",
    "        \n",
    "        if left <= right:\n",
    "            data[left], data[right] = data[right], data[left] # 데이터를 서로 교차하는것\n",
    "            left +=1 \n",
    "            right -=1\n",
    "            \n",
    "        \n",
    "    quick_sort(data, start, right) #pivot 기준으로 앞에 있는녀석 -> 교차가 된 이후니까 start 부터 right 까지?\n",
    "    quick_sort(data, left, end) # pivot 기준으로 뒤에 있는녀석 -> 교차가 된 이후니까 left 부터 end 까지 \n",
    "    \n",
    "    # right, left 랑 알고리즘에 의해서 바뀌면서, \n",
    "        "
   ]
  },
  {
   "cell_type": "code",
   "execution_count": 162,
   "metadata": {},
   "outputs": [
    {
     "name": "stdout",
     "output_type": "stream",
     "text": [
      "[1, 2, 3, 4, 5, 5, 5, 6, 6, 7, 8, 9, 10, 11, 12]\n"
     ]
    }
   ],
   "source": [
    "if __name__ == \"__main__\":\n",
    "    data = [2, 5, 4, 1, 8, 10, 5, 3, 6, 6, 5, 7, 9, 12, 11]\n",
    "    quick_sort(data, 0, len(data) - 1)\n",
    "    print(data)\n",
    "    \n",
    "    # 아.. 애초에 스타트와, 앤드를 지정하는구나."
   ]
  },
  {
   "cell_type": "code",
   "execution_count": 171,
   "metadata": {
    "collapsed": true
   },
   "outputs": [],
   "source": [
    "a = 1\n",
    "b = 2\n"
   ]
  },
  {
   "cell_type": "code",
   "execution_count": 172,
   "metadata": {},
   "outputs": [
    {
     "data": {
      "text/plain": [
       "1"
      ]
     },
     "execution_count": 172,
     "metadata": {},
     "output_type": "execute_result"
    }
   ],
   "source": [
    "a\n"
   ]
  },
  {
   "cell_type": "code",
   "execution_count": 173,
   "metadata": {},
   "outputs": [
    {
     "data": {
      "text/plain": [
       "2"
      ]
     },
     "execution_count": 173,
     "metadata": {},
     "output_type": "execute_result"
    }
   ],
   "source": [
    "b"
   ]
  },
  {
   "cell_type": "code",
   "execution_count": 166,
   "metadata": {
    "collapsed": true
   },
   "outputs": [],
   "source": [
    "a, b = b, a # 아 이게, a 와 b 의 값을 서로 교환하는것."
   ]
  },
  {
   "cell_type": "code",
   "execution_count": 167,
   "metadata": {},
   "outputs": [
    {
     "data": {
      "text/plain": [
       "2"
      ]
     },
     "execution_count": 167,
     "metadata": {},
     "output_type": "execute_result"
    }
   ],
   "source": [
    "a\n"
   ]
  },
  {
   "cell_type": "code",
   "execution_count": 168,
   "metadata": {},
   "outputs": [
    {
     "data": {
      "text/plain": [
       "1"
      ]
     },
     "execution_count": 168,
     "metadata": {},
     "output_type": "execute_result"
    }
   ],
   "source": [
    "b"
   ]
  },
  {
   "cell_type": "code",
   "execution_count": 174,
   "metadata": {
    "collapsed": true
   },
   "outputs": [],
   "source": [
    "b, a = a, b"
   ]
  },
  {
   "cell_type": "code",
   "execution_count": 175,
   "metadata": {},
   "outputs": [
    {
     "data": {
      "text/plain": [
       "2"
      ]
     },
     "execution_count": 175,
     "metadata": {},
     "output_type": "execute_result"
    }
   ],
   "source": [
    "a"
   ]
  },
  {
   "cell_type": "code",
   "execution_count": 176,
   "metadata": {},
   "outputs": [
    {
     "data": {
      "text/plain": [
       "1"
      ]
     },
     "execution_count": 176,
     "metadata": {},
     "output_type": "execute_result"
    }
   ],
   "source": [
    "b"
   ]
  },
  {
   "cell_type": "code",
   "execution_count": null,
   "metadata": {
    "collapsed": true
   },
   "outputs": [],
   "source": []
  },
  {
   "cell_type": "code",
   "execution_count": null,
   "metadata": {
    "collapsed": true
   },
   "outputs": [],
   "source": []
  },
  {
   "cell_type": "code",
   "execution_count": 177,
   "metadata": {
    "collapsed": true
   },
   "outputs": [],
   "source": [
    "# quick 의 big O 구하는 방법 \n",
    "# T(n) = n*K 번 이유는 그림으로 한번 확인하자. \n",
    "\n",
    "# k = log n \n",
    "# T(n) -> n * log n\n",
    "\n",
    "# 아 이거 big O 구하는 원리랑 아이디어.. 한번 생각해보자\n",
    "\n",
    "# n 번 * k 번 쭈루룩 하다가\n",
    "# T(n) = n * k \n",
    "# n * (1/2)^k = 1 - > k = log 2 n\n"
   ]
  },
  {
   "cell_type": "code",
   "execution_count": 178,
   "metadata": {
    "collapsed": true
   },
   "outputs": [],
   "source": [
    "# recursion, index, sort, binary search\n",
    "# stack /heap \n",
    "# process / Thread\n",
    "# call by value /call by Reference\n",
    "\n",
    "# native code\n",
    "# MVC Architecture \n",
    "# write simple text-based games\n",
    "\n",
    "# 자료구조랑, 알고리즘"
   ]
  },
  {
   "cell_type": "code",
   "execution_count": null,
   "metadata": {
    "collapsed": true
   },
   "outputs": [],
   "source": []
  },
  {
   "cell_type": "code",
   "execution_count": null,
   "metadata": {
    "collapsed": true
   },
   "outputs": [],
   "source": []
  },
  {
   "cell_type": "code",
   "execution_count": null,
   "metadata": {
    "collapsed": true
   },
   "outputs": [],
   "source": [
    "# 복습 해야 하는것\n",
    "# 이진트리, 퀵 소트, "
   ]
  }
 ],
 "metadata": {
  "kernelspec": {
   "display_name": "Python 3",
   "language": "python",
   "name": "python3"
  },
  "language_info": {
   "codemirror_mode": {
    "name": "ipython",
    "version": 3
   },
   "file_extension": ".py",
   "mimetype": "text/x-python",
   "name": "python",
   "nbconvert_exporter": "python",
   "pygments_lexer": "ipython3",
   "version": "3.6.2"
  }
 },
 "nbformat": 4,
 "nbformat_minor": 2
}

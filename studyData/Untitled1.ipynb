{
 "cells": [
  {
   "cell_type": "code",
   "execution_count": null,
   "metadata": {
    "collapsed": true
   },
   "outputs": [],
   "source": []
  },
  {
   "cell_type": "code",
   "execution_count": 68,
   "metadata": {},
   "outputs": [
    {
     "data": {
      "text/plain": [
       "'1'"
      ]
     },
     "execution_count": 68,
     "metadata": {},
     "output_type": "execute_result"
    }
   ],
   "source": [
    "li = \"1234\"\n",
    "li[0]\n"
   ]
  },
  {
   "cell_type": "code",
   "execution_count": 69,
   "metadata": {},
   "outputs": [
    {
     "data": {
      "text/plain": [
       "3"
      ]
     },
     "execution_count": 69,
     "metadata": {},
     "output_type": "execute_result"
    }
   ],
   "source": [
    "int(li[0]) + int(li[1])"
   ]
  },
  {
   "cell_type": "code",
   "execution_count": 14,
   "metadata": {},
   "outputs": [
    {
     "data": {
      "text/plain": [
       "9"
      ]
     },
     "execution_count": 14,
     "metadata": {},
     "output_type": "execute_result"
    }
   ],
   "source": [
    "len(li)"
   ]
  },
  {
   "cell_type": "code",
   "execution_count": 71,
   "metadata": {},
   "outputs": [
    {
     "name": "stdout",
     "output_type": "stream",
     "text": [
      "3\n"
     ]
    }
   ],
   "source": [
    "\n",
    "# 기본 구조 -> 문제 1번\n",
    "def solution(n):\n",
    "    \n",
    "    \n",
    "    n = str(n)\n",
    "    answer = 0\n",
    "    \n",
    "    if len(n) == 0:\n",
    "        return None\n",
    "    \n",
    "    elif len(n) == 1:\n",
    "        \n",
    "        return eval(n[0])\n",
    "    \n",
    "    elif len(n) == 2:\n",
    "        \n",
    "        answer = eval(n[0]) + eval(n[1])\n",
    "        return answer\n",
    "    \n",
    "    \n",
    "    \n",
    "    \n",
    "    \n",
    "    '''\n",
    "    \n",
    "    if len(n) == 0:\n",
    "        return None\n",
    "    \n",
    "    elif len(n) == 1:\n",
    "        return answer = int(n[0])\n",
    "    \n",
    "    elif len(n) == 2:\n",
    "        \n",
    "        return int(n[0] + n[1])\n",
    "        \n",
    "        pass\n",
    "    \n",
    "    return answer\n",
    "    \n",
    "\n",
    "    elif len(n) == 3:\n",
    "        \n",
    "        return answer = n[0] + n[1] + n[2]\n",
    "    \n",
    "   '''\n",
    "    \n",
    "    \n",
    "    \n",
    "    \n",
    "    \n",
    "    \n",
    "    \n",
    "        \n",
    "    \n",
    "\n",
    "\n",
    "print(solution(3))"
   ]
  },
  {
   "cell_type": "code",
   "execution_count": 81,
   "metadata": {},
   "outputs": [
    {
     "ename": "SyntaxError",
     "evalue": "can't assign to literal (<ipython-input-81-d25bfa217c7b>, line 3)",
     "output_type": "error",
     "traceback": [
      "\u001b[0;36m  File \u001b[0;32m\"<ipython-input-81-d25bfa217c7b>\"\u001b[0;36m, line \u001b[0;32m3\u001b[0m\n\u001b[0;31m    '444' = 123\u001b[0m\n\u001b[0m               ^\u001b[0m\n\u001b[0;31mSyntaxError\u001b[0m\u001b[0;31m:\u001b[0m can't assign to literal\n"
     ]
    }
   ],
   "source": [
    "# 문제 2번\n",
    "\n",
    "'444' = 123\n"
   ]
  },
  {
   "cell_type": "code",
   "execution_count": 78,
   "metadata": {},
   "outputs": [
    {
     "data": {
      "text/plain": [
       "123"
      ]
     },
     "execution_count": 78,
     "metadata": {},
     "output_type": "execute_result"
    }
   ],
   "source": [
    "패스트캠퍼스"
   ]
  },
  {
   "cell_type": "code",
   "execution_count": 79,
   "metadata": {},
   "outputs": [
    {
     "data": {
      "text/plain": [
       "int"
      ]
     },
     "execution_count": 79,
     "metadata": {},
     "output_type": "execute_result"
    }
   ],
   "source": [
    "type(패스트캠퍼스)"
   ]
  },
  {
   "cell_type": "code",
   "execution_count": 85,
   "metadata": {
    "collapsed": true
   },
   "outputs": [],
   "source": [
    "# 2번 문제 \n",
    "# 길이 n 인 배열에 1부터 n 가지 숫자가 중복 없이 한번씩 들어 있는지 확인 하려고함. \n",
    "# 길이가 4인 배열 안에는 1,2,3,4 가 들어있어야함, \n",
    "# 배열의 길이는 10 이하, 배열의 원호는 10 이하 자연수 \n",
    "\n",
    "\n",
    "def solution(arr):\n",
    "    \n",
    "    \n",
    "    if len(arr) == 0 :\n",
    "        return None \n",
    "    \n",
    "    elif len(arr) == 1:\n",
    "        \n",
    "        return answer \n",
    "    \n",
    "    elif len(arr) == 2 and arr.index(1) == True and arr.index(2) == True:\n",
    "        return answer \n",
    "    \n",
    "    elif len(arr) == 3 and arr.index(1) == True and arr.index(2) == True and arr.index(3) == True :\n",
    "        return answer\n",
    "    \n",
    "    else:\n",
    "        return False \n",
    "    \n",
    "        \n",
    "    \n",
    "    \n",
    "    \n",
    "    \n",
    "    answer = True \n",
    "    return answer \n",
    "\n",
    "arr = [1]\n",
    "\n"
   ]
  },
  {
   "cell_type": "code",
   "execution_count": null,
   "metadata": {
    "collapsed": true
   },
   "outputs": [],
   "source": []
  },
  {
   "cell_type": "code",
   "execution_count": null,
   "metadata": {
    "collapsed": true
   },
   "outputs": [],
   "source": []
  },
  {
   "cell_type": "code",
   "execution_count": 84,
   "metadata": {},
   "outputs": [
    {
     "data": {
      "text/plain": [
       "2"
      ]
     },
     "execution_count": 84,
     "metadata": {},
     "output_type": "execute_result"
    }
   ],
   "source": [
    "li = [1, 2, 3, 4]\n",
    "li.index(3)"
   ]
  },
  {
   "cell_type": "code",
   "execution_count": null,
   "metadata": {
    "collapsed": true
   },
   "outputs": [],
   "source": []
  },
  {
   "cell_type": "code",
   "execution_count": null,
   "metadata": {
    "collapsed": true
   },
   "outputs": [],
   "source": []
  },
  {
   "cell_type": "code",
   "execution_count": null,
   "metadata": {
    "collapsed": true
   },
   "outputs": [],
   "source": []
  },
  {
   "cell_type": "code",
   "execution_count": 87,
   "metadata": {},
   "outputs": [
    {
     "name": "stdout",
     "output_type": "stream",
     "text": [
      "2\n",
      "4\n",
      "6\n",
      "8\n",
      "10\n",
      "12\n",
      "14\n",
      "16\n",
      "18\n"
     ]
    }
   ],
   "source": [
    "a = 2\n",
    "b = 1\n",
    "\n",
    "while a < 10:\n",
    "    \n",
    "    while b < 10:\n",
    "        \n",
    "        print(a * b)\n",
    "        \n",
    "        b += 1\n",
    "        \n",
    "    a += 1"
   ]
  },
  {
   "cell_type": "code",
   "execution_count": 3,
   "metadata": {
    "collapsed": true
   },
   "outputs": [],
   "source": [
    "li = [1,2,3,4]\n",
    "\n",
    "def func(x):\n",
    "    return x*2\n",
    "\n",
    "\n",
    "map_func = map(func,li)"
   ]
  },
  {
   "cell_type": "code",
   "execution_count": 4,
   "metadata": {},
   "outputs": [
    {
     "name": "stdout",
     "output_type": "stream",
     "text": [
      "2\n",
      "4\n",
      "6\n",
      "8\n"
     ]
    }
   ],
   "source": [
    "for i in map_func:\n",
    "    print(i)"
   ]
  },
  {
   "cell_type": "code",
   "execution_count": 8,
   "metadata": {
    "collapsed": true
   },
   "outputs": [],
   "source": [
    "map_lambda = map(lambda x:x*2, li)"
   ]
  },
  {
   "cell_type": "code",
   "execution_count": 10,
   "metadata": {},
   "outputs": [
    {
     "name": "stdout",
     "output_type": "stream",
     "text": [
      "2\n",
      "4\n",
      "6\n",
      "8\n"
     ]
    }
   ],
   "source": [
    "for i in map_lambda :\n",
    "    print(i)"
   ]
  },
  {
   "cell_type": "code",
   "execution_count": 12,
   "metadata": {
    "collapsed": true
   },
   "outputs": [],
   "source": [
    "\n",
    "iterator_filter = filter(lambda x: x>2, li)"
   ]
  },
  {
   "cell_type": "code",
   "execution_count": 13,
   "metadata": {},
   "outputs": [
    {
     "name": "stdout",
     "output_type": "stream",
     "text": [
      "3\n",
      "4\n"
     ]
    }
   ],
   "source": [
    "for i in iterator_filter:\n",
    "    print(i)"
   ]
  },
  {
   "cell_type": "code",
   "execution_count": 15,
   "metadata": {
    "collapsed": true
   },
   "outputs": [],
   "source": [
    "from functools import reduce"
   ]
  },
  {
   "cell_type": "code",
   "execution_count": 24,
   "metadata": {
    "collapsed": true
   },
   "outputs": [],
   "source": [
    "li = [i for i in range(1,11)]\n",
    "\n",
    "f_reduce = reduce(lambda x,y: x+y, li)"
   ]
  },
  {
   "cell_type": "code",
   "execution_count": null,
   "metadata": {
    "collapsed": true
   },
   "outputs": [],
   "source": []
  },
  {
   "cell_type": "code",
   "execution_count": 26,
   "metadata": {},
   "outputs": [
    {
     "name": "stdout",
     "output_type": "stream",
     "text": [
      "55\n"
     ]
    }
   ],
   "source": [
    "print(f_reduce)"
   ]
  },
  {
   "cell_type": "code",
   "execution_count": 38,
   "metadata": {
    "collapsed": true
   },
   "outputs": [],
   "source": [
    "f = lambda x: x*2"
   ]
  },
  {
   "cell_type": "code",
   "execution_count": 37,
   "metadata": {},
   "outputs": [
    {
     "name": "stdout",
     "output_type": "stream",
     "text": [
      "(<function <lambda> at 0x106f7c378>, [1, 2, 3, 4, 5, 6, 7, 8, 9, 10])\n"
     ]
    }
   ],
   "source": [
    "print(f)"
   ]
  },
  {
   "cell_type": "code",
   "execution_count": 34,
   "metadata": {},
   "outputs": [
    {
     "name": "stdout",
     "output_type": "stream",
     "text": [
      "<function <lambda> at 0x106f6dd08>\n",
      "[1, 2, 3, 4, 5, 6, 7, 8, 9, 10]\n"
     ]
    }
   ],
   "source": [
    "for i in f:\n",
    "    print(i)"
   ]
  },
  {
   "cell_type": "code",
   "execution_count": 42,
   "metadata": {
    "collapsed": true
   },
   "outputs": [],
   "source": [
    "li = [1,2,3,4,5,6,7,8,9,10]\n",
    "\n"
   ]
  },
  {
   "cell_type": "code",
   "execution_count": 43,
   "metadata": {},
   "outputs": [
    {
     "data": {
      "text/plain": [
       "4"
      ]
     },
     "execution_count": 43,
     "metadata": {},
     "output_type": "execute_result"
    }
   ],
   "source": [
    "f(2)"
   ]
  },
  {
   "cell_type": "code",
   "execution_count": null,
   "metadata": {
    "collapsed": true
   },
   "outputs": [],
   "source": []
  },
  {
   "cell_type": "code",
   "execution_count": 46,
   "metadata": {},
   "outputs": [
    {
     "data": {
      "text/plain": [
       "50"
      ]
     },
     "execution_count": 46,
     "metadata": {},
     "output_type": "execute_result"
    }
   ],
   "source": [
    "def f(a,b):\n",
    "    return a+b\n",
    "\n",
    "def g(funt, a, b):\n",
    "    \n",
    "    return funt(a,b)\n",
    "\n",
    "\n",
    "g(f,20,30)"
   ]
  },
  {
   "cell_type": "code",
   "execution_count": 45,
   "metadata": {},
   "outputs": [
    {
     "data": {
      "text/plain": [
       "30"
      ]
     },
     "execution_count": 45,
     "metadata": {},
     "output_type": "execute_result"
    }
   ],
   "source": [
    "f(10,20)"
   ]
  },
  {
   "cell_type": "code",
   "execution_count": 47,
   "metadata": {
    "collapsed": true
   },
   "outputs": [],
   "source": [
    "list = [1,2,3,4]"
   ]
  },
  {
   "cell_type": "code",
   "execution_count": 49,
   "metadata": {
    "collapsed": true
   },
   "outputs": [],
   "source": [
    "list[0] = 10"
   ]
  },
  {
   "cell_type": "code",
   "execution_count": 50,
   "metadata": {},
   "outputs": [
    {
     "data": {
      "text/plain": [
       "[10, 2, 3, 4]"
      ]
     },
     "execution_count": 50,
     "metadata": {},
     "output_type": "execute_result"
    }
   ],
   "source": [
    "list"
   ]
  },
  {
   "cell_type": "code",
   "execution_count": 52,
   "metadata": {},
   "outputs": [
    {
     "name": "stdout",
     "output_type": "stream",
     "text": [
      "[1, 2, 3, 4]\n",
      "[10, 2, 3, 4]\n",
      "[10, 2, 3, 4]\n"
     ]
    }
   ],
   "source": [
    "list = [1,2,3,4]\n",
    "\n",
    "def call_by_value(li):\n",
    "    call = list[0]\n",
    "    \n",
    "    call = 10\n",
    "    list[0] = call\n",
    "    \n",
    "    print(list)\n",
    "\n",
    "print(list)\n",
    "\n",
    "call_by_value(list)\n",
    "\n",
    "print(list)"
   ]
  },
  {
   "cell_type": "code",
   "execution_count": 53,
   "metadata": {
    "collapsed": true
   },
   "outputs": [],
   "source": [
    "\n",
    "list = [1,2,3,4]\n",
    "\n",
    "def call_by_reference(li, idx, value):\n",
    "    \n",
    "    li[idx] = value\n",
    "    \n",
    "    return li\n",
    "    "
   ]
  },
  {
   "cell_type": "code",
   "execution_count": 1,
   "metadata": {},
   "outputs": [
    {
     "ename": "NameError",
     "evalue": "name 'call_by_reference' is not defined",
     "output_type": "error",
     "traceback": [
      "\u001b[0;31m---------------------------------------------------------------------------\u001b[0m",
      "\u001b[0;31mNameError\u001b[0m                                 Traceback (most recent call last)",
      "\u001b[0;32m<ipython-input-1-dbcec5dc05dd>\u001b[0m in \u001b[0;36m<module>\u001b[0;34m()\u001b[0m\n\u001b[0;32m----> 1\u001b[0;31m \u001b[0mprint\u001b[0m\u001b[0;34m(\u001b[0m\u001b[0mcall_by_reference\u001b[0m\u001b[0;34m(\u001b[0m\u001b[0mlist\u001b[0m\u001b[0;34m,\u001b[0m \u001b[0;36m0\u001b[0m\u001b[0;34m,\u001b[0m \u001b[0;34m\"call by reference\"\u001b[0m\u001b[0;34m)\u001b[0m\u001b[0;34m)\u001b[0m\u001b[0;34m\u001b[0m\u001b[0m\n\u001b[0m\u001b[1;32m      2\u001b[0m \u001b[0;34m\u001b[0m\u001b[0m\n\u001b[1;32m      3\u001b[0m \u001b[0mprint\u001b[0m\u001b[0;34m(\u001b[0m\u001b[0mlist\u001b[0m\u001b[0;34m)\u001b[0m\u001b[0;34m\u001b[0m\u001b[0m\n",
      "\u001b[0;31mNameError\u001b[0m: name 'call_by_reference' is not defined"
     ]
    }
   ],
   "source": [
    "print(call_by_reference(list, 0, \"call by reference\"))\n",
    "\n",
    "print(list)"
   ]
  },
  {
   "cell_type": "code",
   "execution_count": null,
   "metadata": {
    "collapsed": true
   },
   "outputs": [],
   "source": []
  },
  {
   "cell_type": "code",
   "execution_count": 166,
   "metadata": {
    "collapsed": true
   },
   "outputs": [],
   "source": [
    "# linked_list 구현해보자!!!!!!!\n",
    "\n",
    "class Node :\n",
    "    \n",
    "    def __init__(self, data):\n",
    "        \n",
    "        self.data = data\n",
    "        self.next = None\n",
    "        \n",
    "        \n",
    "class Linked_list:\n",
    "\n",
    "    # 필요한 member 들 초기화, 예외처리 할때필요함. \n",
    "    def __init__(self):\n",
    "        \n",
    "        # 값을 insert 할때, 값의 크기와, 맨처음 값, 끝값을 참조해주기 위한 포인터(?) 같은 역활\n",
    "        self.head = None\n",
    "        self.tail = None\n",
    "        \n",
    "        # 넣은 값을 순차적으로 돌면서 어떤 값이 들어있나를 확인하기 위한 포인터(?) 같은 역활이다.\n",
    "        self.current = None\n",
    "        self.before = None\n",
    "        \n",
    "        # 내가 넣은 값으 총 크기를 알기 위한...?\n",
    "        self.num_data = 0\n",
    "        \n",
    "        \n",
    "        \n",
    "    # insert를 하기전에, linked_list 가 아무것도 없다면, head,tail,current,before 를 맨처음 head 에 몰아 넣고 실행함..    \n",
    "    def empty(self):\n",
    "        if self.num_data == 0:\n",
    "            return True\n",
    "        else:\n",
    "            return False \n",
    "        \n",
    "    def size(self):\n",
    "        return self.num_data\n",
    "    \n",
    "    ## 계속 연결 시켜주면서, 값을 넣는것 구현 \n",
    "    def insert(self, data):\n",
    "        \n",
    "        new_node = Node(data)\n",
    "        \n",
    "        if self.empty() :\n",
    "            \n",
    "            self.head = new_node\n",
    "            self.tail = new_node\n",
    "            \n",
    "            self.num_data += 1 \n",
    "        else:\n",
    "            self.tail.next = new_node\n",
    "            self.tail = new_node\n",
    "            self.num_data += 1\n",
    "            \n",
    "    ## 값이 어떻게 들어있고 그값을 어떻게 찾을것인지 구현\n",
    "    \n",
    "    def findData(self, mode = 'next'):\n",
    "        \n",
    "        \n",
    "        if self.is_empty():#1\n",
    "            return None\n",
    "        \n",
    "        if mode == 'first':#2\n",
    "            self.before = self.head\n",
    "            self.current = self.head\n",
    "            \n",
    "            return self.current.data\n",
    "        else:#3\n",
    "            if self.current.next == None:#4\n",
    "                return None\n",
    "\n",
    "            self.before = self.current#5\n",
    "            self.current = self.current.next\n",
    "\n",
    "        return self.current.data#6\n",
    "            \n",
    "        \n",
    "     ## delete 구현해보자! \n",
    "    \n",
    "    # 각데이터들은, next에 의해서 연결이 되어있다. 중간의 next를 끊어주면, 그 안에 있는 data가 사라지게됨!\n",
    "    # remove 하기위한 조건은, finData로 내가 지우고자하는 데이터를 찾아서 지우는것, taget을 설정해서 지우지는 못한다.. 그렇게 설정하려면 다시 설계해야함.. 조금 까다롭다고한다!\n",
    "    \n",
    "    def remove(self):\n",
    "        returnValue = self.current.data\n",
    "        \n",
    "        # 예외처리를 해주어야함. 데이터의 개수가 1개 일때\n",
    "        if self.size() == 1 :\n",
    "            \n",
    "            # 현재 가르키고 있는 reference를 모두 None으로 만들어주면, 현재 데이터가 사라짐..!\n",
    "            self.head = None\n",
    "            self.tail = None\n",
    "            \n",
    "            self.current = None\n",
    "            self.tail = None\n",
    "            \n",
    "        # 데이터가 여러개가 있고, 현재 지우려고 하는 데이터가 head 데이터 일때.\n",
    "        elif self.current == self.head :\n",
    "            self.head = self.head.next\n",
    "            self.before = self.before.next\n",
    "            self.current = self.current.next\n",
    "            \n",
    "        \n",
    "        \n",
    "        else :\n",
    "            # 데이터가 여러개가 있고, 현재 지우려고 하는 데이터가 tail 데이터 일때.\n",
    "            if self.current == self.tail :\n",
    "                self.tail = self.before\n",
    "                \n",
    "            # 이제 나머지 일반적인 모든 경우\n",
    "            self.before.next = self.current.next\n",
    "            self.current = self.before\n",
    "        \n",
    "        return returnValue\n",
    "            \n",
    "            \n",
    "            \n",
    "            \n",
    "        \n",
    "        \n",
    "        \n",
    "            \n",
    "    \n",
    "    \n",
    "\n",
    "# insert 원리는 Linkedlist 인스턴스를 만들고, 그 인스턴스에 insert기능을 만들어서, 데이터 값을 넣는데, 값을 넣을때마다 node 인스턴스를, 그 인스턴스 안에 집에 넣고, 각 인스턴스를 참조하는 방식으로     \n",
    "n1 = linked_list()\n",
    "\n",
    "n1.insert(1)\n",
    "n1.insert(2)\n",
    "n1.insert(3)\n",
    "n1.insert(4)\n",
    "n1.insert(5)\n",
    "n1.insert(6)\n",
    "n1.insert(7)\n",
    "n1.insert(8)\n",
    "\n",
    "# 현재 들어가 있는 데이터 출력. \n",
    "#while n1.findData() != None :\n",
    "#    print(n1.current.data)\n",
    "        \n",
    "        \n",
    "        \n",
    "        \n",
    "    \n",
    "        \n",
    "        \n",
    "        \n",
    "    \n",
    "    "
   ]
  },
  {
   "cell_type": "code",
   "execution_count": 167,
   "metadata": {},
   "outputs": [
    {
     "data": {
      "text/plain": [
       "1"
      ]
     },
     "execution_count": 167,
     "metadata": {},
     "output_type": "execute_result"
    }
   ],
   "source": [
    "n1.findData('first')"
   ]
  },
  {
   "cell_type": "code",
   "execution_count": 161,
   "metadata": {},
   "outputs": [
    {
     "name": "stdout",
     "output_type": "stream",
     "text": [
      "2\n",
      "3\n",
      "4\n",
      "5\n",
      "6\n",
      "7\n",
      "8\n"
     ]
    }
   ],
   "source": [
    "while n1.findData() != None :\n",
    "    print(n1.current.data)"
   ]
  },
  {
   "cell_type": "code",
   "execution_count": 162,
   "metadata": {},
   "outputs": [
    {
     "data": {
      "text/plain": [
       "8"
      ]
     },
     "execution_count": 162,
     "metadata": {},
     "output_type": "execute_result"
    }
   ],
   "source": [
    "n1."
   ]
  },
  {
   "cell_type": "code",
   "execution_count": 165,
   "metadata": {},
   "outputs": [
    {
     "ename": "AttributeError",
     "evalue": "'linked_list' object has no attribute 'remove'",
     "output_type": "error",
     "traceback": [
      "\u001b[0;31m-------------------------------------------------------\u001b[0m",
      "\u001b[0;31mAttributeError\u001b[0m        Traceback (most recent call last)",
      "\u001b[0;32m<ipython-input-165-fbc4f18f718c>\u001b[0m in \u001b[0;36m<module>\u001b[0;34m()\u001b[0m\n\u001b[0;32m----> 1\u001b[0;31m \u001b[0mn1\u001b[0m\u001b[0;34m.\u001b[0m\u001b[0mremove\u001b[0m\u001b[0;34m\u001b[0m\u001b[0m\n\u001b[0m",
      "\u001b[0;31mAttributeError\u001b[0m: 'linked_list' object has no attribute 'remove'"
     ]
    }
   ],
   "source": [
    "n1.remove"
   ]
  },
  {
   "cell_type": "code",
   "execution_count": null,
   "metadata": {
    "collapsed": true
   },
   "outputs": [],
   "source": []
  },
  {
   "cell_type": "code",
   "execution_count": null,
   "metadata": {
    "collapsed": true
   },
   "outputs": [],
   "source": []
  },
  {
   "cell_type": "code",
   "execution_count": null,
   "metadata": {
    "collapsed": true
   },
   "outputs": [],
   "source": []
  },
  {
   "cell_type": "code",
   "execution_count": 53,
   "metadata": {
    "collapsed": true
   },
   "outputs": [],
   "source": [
    "class Node:\n",
    "    def __init__(self, data):\n",
    "        self.data = data\n",
    "        self.next = None\n",
    "\n",
    "    def __del__(self):\n",
    "        print(\"data of {} is deleted\".format(self.data))\n",
    "\n",
    "class LinkedList:\n",
    "    def __init__(self):\n",
    "        self.head = None\n",
    "        self.tail = None\n",
    "\n",
    "        self.current = None\n",
    "        self.before = None\n",
    "\n",
    "        self.num_data = 0\n",
    "\n",
    "    def empty(self):\n",
    "        if self.num_data == 0:\n",
    "            return True\n",
    "        else:\n",
    "            return False\n",
    "\n",
    "    def size(self):\n",
    "        return self.num_data\n",
    "\n",
    "    def append(self, data):\n",
    "        new_node = Node(data)\n",
    "        \n",
    "        if self.empty():\n",
    "            self.head = new_node\n",
    "            self.tail = new_node\n",
    "            self.num_data += 1\n",
    "        else:\n",
    "            self.tail.next = new_node\n",
    "            self.tail = new_node\n",
    "            self.num_data += 1\n",
    "\n",
    "    def traverse(self, mode = 'next'):\n",
    "        if self.empty():#1\n",
    "            return None\n",
    "        \n",
    "        if mode == 'first':#2\n",
    "            self.before = self.head\n",
    "            self.current = self.head\n",
    "        else:#3\n",
    "            if self.current.next == None:#4\n",
    "                return None\n",
    "\n",
    "            self.before = self.current#5\n",
    "            self.current = self.current.next\n",
    "\n",
    "        return self.current.data#6\n",
    "\n",
    "    def remove(self):\n",
    "        ret_data = self.current.data#1\n",
    "        \n",
    "        \n",
    "        #1. 데이터가 하나일 때     \n",
    "        if self.size() == 1:#2\n",
    "            self.head = None\n",
    "            self.tail = None\n",
    "            self.before = None\n",
    "            self.current = None\n",
    "        #2. current == head\n",
    "        elif self.current is self.head:#3\n",
    "            self.head = self.head.next\n",
    "            self.before = self.before.next\n",
    "            self.current = self.current.next\n",
    "        else:\n",
    "            #current == tail\n",
    "            if self.current is self.tail:#4\n",
    "                self.tail = self.before\n",
    "            #일반적인 경우 \n",
    "            self.before.next = self.current.next#5\n",
    "            self.current = self.before\n",
    "            \n",
    "        self.num_data -= 1\n",
    "        return ret_data#6\n",
    "\n",
    "def show_list(slist):\n",
    "    data = slist.traverse('first')\n",
    "\n",
    "    if data:\n",
    "        print(data, end = '  ')\n",
    "        data = slist.traverse()\n",
    "        while data:\n",
    "            print(data, end = '  ')\n",
    "            data = slist.traverse()\n",
    "    else:\n",
    "        print(\"There is no data\")\n",
    "                \n"
   ]
  },
  {
   "cell_type": "code",
   "execution_count": 54,
   "metadata": {
    "collapsed": true
   },
   "outputs": [],
   "source": [
    "test = LinkedList()"
   ]
  },
  {
   "cell_type": "code",
   "execution_count": 55,
   "metadata": {
    "collapsed": true
   },
   "outputs": [],
   "source": [
    "test.append(1)\n",
    "test.append(2)\n",
    "test.append(3)"
   ]
  },
  {
   "cell_type": "code",
   "execution_count": 60,
   "metadata": {},
   "outputs": [
    {
     "name": "stdout",
     "output_type": "stream",
     "text": [
      "1 3 None\n"
     ]
    }
   ],
   "source": [
    "print(test.head.data, test.tail.data, test.tail.next)"
   ]
  },
  {
   "cell_type": "code",
   "execution_count": null,
   "metadata": {
    "collapsed": true
   },
   "outputs": [],
   "source": [
    "\n"
   ]
  },
  {
   "cell_type": "code",
   "execution_count": 69,
   "metadata": {},
   "outputs": [
    {
     "data": {
      "text/plain": [
       "['__class__',\n",
       " '__delattr__',\n",
       " '__dict__',\n",
       " '__dir__',\n",
       " '__doc__',\n",
       " '__eq__',\n",
       " '__format__',\n",
       " '__ge__',\n",
       " '__getattribute__',\n",
       " '__gt__',\n",
       " '__hash__',\n",
       " '__init__',\n",
       " '__init_subclass__',\n",
       " '__le__',\n",
       " '__lt__',\n",
       " '__module__',\n",
       " '__ne__',\n",
       " '__new__',\n",
       " '__reduce__',\n",
       " '__reduce_ex__',\n",
       " '__repr__',\n",
       " '__setattr__',\n",
       " '__sizeof__',\n",
       " '__str__',\n",
       " '__subclasshook__',\n",
       " '__weakref__',\n",
       " 'append',\n",
       " 'before',\n",
       " 'current',\n",
       " 'empty',\n",
       " 'head',\n",
       " 'num_data',\n",
       " 'remove',\n",
       " 'size',\n",
       " 'tail',\n",
       " 'traverse']"
      ]
     },
     "execution_count": 69,
     "metadata": {},
     "output_type": "execute_result"
    }
   ],
   "source": [
    "dir(test)"
   ]
  },
  {
   "cell_type": "code",
   "execution_count": 72,
   "metadata": {},
   "outputs": [
    {
     "data": {
      "text/plain": [
       "['__class__',\n",
       " '__del__',\n",
       " '__delattr__',\n",
       " '__dict__',\n",
       " '__dir__',\n",
       " '__doc__',\n",
       " '__eq__',\n",
       " '__format__',\n",
       " '__ge__',\n",
       " '__getattribute__',\n",
       " '__gt__',\n",
       " '__hash__',\n",
       " '__init__',\n",
       " '__init_subclass__',\n",
       " '__le__',\n",
       " '__lt__',\n",
       " '__module__',\n",
       " '__ne__',\n",
       " '__new__',\n",
       " '__reduce__',\n",
       " '__reduce_ex__',\n",
       " '__repr__',\n",
       " '__setattr__',\n",
       " '__sizeof__',\n",
       " '__str__',\n",
       " '__subclasshook__',\n",
       " '__weakref__',\n",
       " 'data',\n",
       " 'next']"
      ]
     },
     "execution_count": 72,
     "metadata": {},
     "output_type": "execute_result"
    }
   ],
   "source": [
    "dir(test.head.next)"
   ]
  },
  {
   "cell_type": "code",
   "execution_count": 78,
   "metadata": {},
   "outputs": [
    {
     "name": "stdout",
     "output_type": "stream",
     "text": [
      "None\n"
     ]
    }
   ],
   "source": [
    "print(test.head.next.next.next)"
   ]
  },
  {
   "cell_type": "code",
   "execution_count": null,
   "metadata": {
    "collapsed": true
   },
   "outputs": [],
   "source": []
  },
  {
   "cell_type": "code",
   "execution_count": null,
   "metadata": {
    "collapsed": true
   },
   "outputs": [],
   "source": []
  },
  {
   "cell_type": "code",
   "execution_count": null,
   "metadata": {
    "collapsed": true
   },
   "outputs": [],
   "source": []
  },
  {
   "cell_type": "code",
   "execution_count": null,
   "metadata": {
    "collapsed": true
   },
   "outputs": [],
   "source": []
  },
  {
   "cell_type": "code",
   "execution_count": 209,
   "metadata": {},
   "outputs": [],
   "source": [
    "class TreeNode:\n",
    "    \n",
    "    # tree에 붙일 node 값 설정. \n",
    "    # Node 는 양옆을 붙여주고, 데이터를 가지고 있어줌\n",
    "    def __init__(self):\n",
    "        self.data = None\n",
    "        self.left = None\n",
    "        self.right = None\n",
    "        \n",
    "    # 데이터 삭제시 해당값 프린트.   \n",
    "    def __del__(self):\n",
    "        print(\"TreeNode of {} is deleted\".format(self.data))\n",
    "        \n",
    "class BinaryTree:\n",
    "    \n",
    "    def __init__(self):\n",
    "    # 루트노드를 가르키는 맴버는 하나다.\n",
    "        self.root = None\n",
    "    \n",
    "    # 현재 tree의 root 반환 \n",
    "    def get_root(self):\n",
    "        return self.root\n",
    "    \n",
    "    # root 설정 \n",
    "    def set_root(self, r):\n",
    "        self.root = r\n",
    "        \n",
    "    \n",
    "    # 새로운 노드를 만들고 반환합니다\n",
    "    def make_node(self):\n",
    "        new_node = TreeNode()\n",
    "        return new_node\n",
    "    \n",
    "    \n",
    "    # 현재 노드의 데이터를 반환합니다\n",
    "    def get_node_data(self, cur):\n",
    "        return cur.data\n",
    "    \n",
    "    # 노드의 데이터 설정\n",
    "    def set_node_data(self, cur, data):\n",
    "        cur.data = data\n",
    "        \n",
    "        \n",
    "    # 노드의 왼쪽 설정 -> 노드를 왼쪽 트리에 붙인다.\n",
    "    def set_node_left(self, cur, left):\n",
    "        cur.left = left \n",
    "        \n",
    "    # 노드의 오른쪽 설정 -> 노드를 오른쪽 트리에 붙인다\n",
    "    def set_node_right(self,cur, right):\n",
    "        cur.right = right\n",
    "        \n",
    "    # 왼쪽 노드 반환\n",
    "    def get_node_left(self, cur):\n",
    "        return cur.left.data\n",
    "    \n",
    "    #오른쪽 노드 반환\n",
    "    def get_node_right(self, cur):\n",
    "        return cur.right.data\n",
    "    \n",
    "    \n",
    "    # 전위순회 함수, 니은자로 움직임.\n",
    "    \n",
    "    def preodredr_traverse(self, cur, func):\n",
    "        \n",
    "        # 이거 무슨의미일까.. 정확히 와닿지가않는다.\n",
    "        # cur.data 가 None 일때 리커션 종료 \n",
    "        if not cur:\n",
    "            return \n",
    "        \n",
    "        func(cur.data)\n",
    "        self.preodredr_traverse(cur.left, func)\n",
    "        self.preodredr_traverse(cur.right, func)\n",
    "     \n",
    "    \n",
    "    #중위 순회로 트리를 순회\n",
    "    def inorder_traverse(self, cur, func):\n",
    "        if not cur:\n",
    "            return\n",
    "\n",
    "        self.inorder_traverse(cur.left, func)\n",
    "        func(cur.data)\n",
    "        self.inorder_traverse(cur.right, func)\n",
    "\n",
    "        \n",
    "    #후위 순회로 트리를 순회\n",
    "    def postorder_traverse(self, cur, func):\n",
    "        if not cur:\n",
    "            return\n",
    "\n",
    "        self.postorder_traverse(cur.left, func)\n",
    "        self.postorder_traverse(cur.right, func)\n",
    "        func(cur.data)\n",
    "\n",
    "    ## 전, 중, 후위 순회 의 순서보면, 프린트 하는 함수의 위치에 따라서, 전, 중, 후위 함수 구별 하자.. 아직 이것을 설계하기에는 조금 무리일것 같다.\n",
    "    \n",
    "    \n",
    "    \n",
    "    \n",
    "    \n",
    "        \n",
    "        \n",
    "    \n",
    "        \n",
    "    "
   ]
  },
  {
   "cell_type": "code",
   "execution_count": 210,
   "metadata": {
    "collapsed": true
   },
   "outputs": [],
   "source": [
    "#binaryTree 인스턴스 생성\n",
    "bt = BinaryTree()\n"
   ]
  },
  {
   "cell_type": "code",
   "execution_count": 211,
   "metadata": {},
   "outputs": [],
   "source": [
    "## 노드 생성과, 각 노드의 데이터 값을 넣었다.\n",
    "n1 = bt.make_node()\n",
    "bt.set_node_data(n1, 1)\n",
    "\n",
    "n2 = bt.make_node()\n",
    "bt.set_node_data(n2, 2)\n",
    "\n",
    "n3 = bt.make_node()\n",
    "bt.set_node_data(n3, 3)\n",
    "\n",
    "n4 = bt.make_node()\n",
    "bt.set_node_data(n4, 4)\n",
    "\n",
    "n5 = bt.make_node()\n",
    "bt.set_node_data(n5, 5)\n",
    "\n",
    "n6 = bt.make_node()\n",
    "bt.set_node_data(n6, 6)\n",
    "\n",
    "n7 = bt.make_node()\n",
    "bt.set_node_data(n7, 7)\n",
    "\n",
    "# 노드를 붙여보자. 맨처음 root node 설정을 하자 \n",
    "\n",
    "bt.set_root(n1)\n",
    "\n",
    "# 2를 1의 왼쪽으로\n",
    "bt.set_node_left(n1, n2)\n",
    "\n",
    "# 3을 1의 오른쪽으로 \n",
    "bt.set_node_right(n1, n3)\n",
    "\n",
    "# 4를 2의 왼쪽, 5를 2의 오른쪽으로\n",
    "bt.set_node_left(n2, n4)\n",
    "bt.set_node_right(n2,n5)\n",
    "\n",
    "# 6을 3의 왼쪽으로, 7을 3의 오른쪽으로\n",
    "bt.set_node_left(n3,n6)\n",
    "bt.set_node_right(n3,n7)\n",
    "\n"
   ]
  },
  {
   "cell_type": "code",
   "execution_count": 212,
   "metadata": {},
   "outputs": [
    {
     "name": "stdout",
     "output_type": "stream",
     "text": [
      "1 2 3 4 5 6 7\n"
     ]
    }
   ],
   "source": [
    "print(n1.data, n2.data, n3.data, n4.data, n5.data, n6.data,n7.data)"
   ]
  },
  {
   "cell_type": "code",
   "execution_count": 213,
   "metadata": {},
   "outputs": [
    {
     "name": "stdout",
     "output_type": "stream",
     "text": [
      "1\n",
      "2 3\n",
      "4 5\n",
      "6 7\n"
     ]
    }
   ],
   "source": [
    "# 잘 붙어 있는지 확인해보자\n",
    "\n",
    "# root 확인\n",
    "print(bt.root.data)\n",
    "\n",
    "# 1의 왼, 오른 쪽\n",
    "print(n1.left.data, n1.right.data)\n",
    "\n",
    "# 2의 왼, 오른쪽\n",
    "print(n2.left.data, n2.right.data)\n",
    "\n",
    "#3의 왼, 오른쪽\n",
    "print(n3.left.data, n3.right.data)"
   ]
  },
  {
   "cell_type": "code",
   "execution_count": 217,
   "metadata": {},
   "outputs": [
    {
     "name": "stdout",
     "output_type": "stream",
     "text": [
      "1 2 4 5 3 6 7 "
     ]
    }
   ],
   "source": [
    "f = lambda x: print(x, end = ' ')\n",
    "\n",
    "bt.preodredr_traverse(bt.root, f)"
   ]
  },
  {
   "cell_type": "code",
   "execution_count": null,
   "metadata": {
    "collapsed": true
   },
   "outputs": [],
   "source": []
  }
 ],
 "metadata": {
  "kernelspec": {
   "display_name": "Python 3",
   "language": "python",
   "name": "python3"
  },
  "language_info": {
   "codemirror_mode": {
    "name": "ipython",
    "version": 3
   },
   "file_extension": ".py",
   "mimetype": "text/x-python",
   "name": "python",
   "nbconvert_exporter": "python",
   "pygments_lexer": "ipython3",
   "version": "3.6.2"
  }
 },
 "nbformat": 4,
 "nbformat_minor": 2
}

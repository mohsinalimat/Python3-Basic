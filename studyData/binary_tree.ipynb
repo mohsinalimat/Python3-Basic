{
 "cells": [
  {
   "cell_type": "code",
   "execution_count": 1,
   "metadata": {
    "collapsed": true
   },
   "outputs": [],
   "source": [
    "class TreeNode:\n",
    "    def __init__(self):\n",
    "        self._data =None\n",
    "        self.left = None\n",
    "        self.right = None\n",
    "        \n",
    "    def __del__(self):\n",
    "        print( 'TreeNode of {} is deleted'.format(self._data))\n",
    "        \n",
    "    @property # 그냥 property 를 하면 getter이 됨.\n",
    "    def data(self):\n",
    "        return self._data # 트리에서 가지고 있는 진짜 데이터를 반홤\n",
    "    \n",
    "    @data.setter # 함수의 이름이 같음.\n",
    "    def data(self, data):\n",
    "        self._data = data"
   ]
  },
  {
   "cell_type": "code",
   "execution_count": 8,
   "metadata": {
    "collapsed": true
   },
   "outputs": [],
   "source": [
    "# binary tree -> 기능만 모아둔 클래스 \n",
    "# BST 에서 ADT  ???\n",
    "\n",
    "class BinaryTree:\n",
    "    def __init__(self):\n",
    "        self.root = None # 맨 위의 최상위 노드\n",
    "        \n",
    "    def get_root(self):\n",
    "        return self.root\n",
    "    \n",
    "    def set_root(self, r):\n",
    "        self.root = r # 새로운 root..? 최상위 노드를 설정하는것?(취상위 노드도 참조 해야한다..로 이해해야하나?)\n",
    "        \n",
    "    def make_node(self):\n",
    "        return TreeNode() # 굳이 mkae_node 함수를 만들어서 TreeNode()를 넣어서 해야하나..? 트리노드를 통해서 만들어도 되지만, 바이너리 트리 클래스가 OOP에서는 관련된 모든 기능을 한번에 모아서 사용한다 라는 의미..?\n",
    "    \n",
    "    def get_node_data(self, cur): # current node는 ,\n",
    "        return cur.data # 캡슐화를 해서 함수로 접근하는거다?\n",
    "    \n",
    "    def set_node_data(self, cur, data):\n",
    "        cur.data = data\n",
    "        \n",
    "    def get_left_sub_tree(self, cur):\n",
    "        return cur.left # 이거는 생으로 맴버로 접근하는것 oop에서는 굉장히 싫어함.(함수로 접근해야함..?)\n",
    "    \n",
    "    def get_right_sub_tree(self, cur):\n",
    "        return cur.rught\n",
    "    \n",
    "    def make_left_sub_tree(self, cur, left):\n",
    "        cur.left = left\n",
    "        \n",
    "    def make_right_sub_tree(self, cur, right):\n",
    "        cur.right = right\n",
    "        \n",
    "    # 전위 순회 함수 \n",
    "    \n",
    "    def preorder_traverse(self, cur, func):\n",
    "        if not cur: # 만약에 cur이 없으면 함수 탈출해.\n",
    "            return \n",
    "        \n",
    "        #func --> data 처리 함수?\n",
    "        \n",
    "        func(cur.data)\n",
    "        self.preorder_traverse(cur.left, func)\n",
    "        self.preorder_traverse(cur.right, func)\n",
    "        \n",
    "    def inorder_traverse(self, cur, func):\n",
    "        if not cur:\n",
    "            return \n",
    "        \n",
    "        self.inorder_traverse(cur.left, func)\n",
    "        func(cur.data) # 두번쨰인이유는 트리 3개 중에 가운데가 함수...?\n",
    "        self.inorder_traverse(cur.right, func)\n",
    "        \n",
    "    def postorder_tracrese(self, cur, func):\n",
    "        if not cur:\n",
    "            return\n",
    "        \n",
    "        self.postorder_tracrese(cur.left, func)\n",
    "        self.postorder_tracrese(cur.right, func)\n",
    "        func(cur.data)\n",
    "                 \n",
    "        "
   ]
  },
  {
   "cell_type": "code",
   "execution_count": 21,
   "metadata": {},
   "outputs": [
    {
     "name": "stdout",
     "output_type": "stream",
     "text": [
      "1 2 4 5 3 6 7 "
     ]
    }
   ],
   "source": [
    "if __name__ == \"__main__\":\n",
    "    bt = BinaryTree()\n",
    "    # n1 = TreeNode() 이렇게 만들어도 되는데, oop를 위반하는것\n",
    "    n1 = bt.make_node()\n",
    "    bt.set_node_data(n1, 1)\n",
    "    # 제일위의 노드 만든것\n",
    "    n2 = bt.make_node()\n",
    "    bt.set_node_data(n2, 2)\n",
    "    n3 = bt.make_node()\n",
    "    bt.set_node_data(n3, 3)\n",
    "    n4 = bt.make_node()\n",
    "    bt.set_node_data(n4, 4)\n",
    "    n5 = bt.make_node()\n",
    "    bt.set_node_data(n5, 5)\n",
    "    n6 = bt.make_node()\n",
    "    bt.set_node_data(n6, 6)\n",
    "    n7 = bt.make_node()\n",
    "    bt.set_node_data(n7, 7)\n",
    "    \n",
    "    bt.set_root(n1) # 만들어진 노드들중 n1을 root 노드로 만들어준것..\n",
    "    bt.make_left_sub_tree(n1, n2)\n",
    "    bt.make_right_sub_tree(n1, n3)\n",
    "    bt.make_left_sub_tree(n2, n4)\n",
    "    bt.make_right_sub_tree(n2, n5)\n",
    "    bt.make_left_sub_tree(n3, n6)\n",
    "    bt.make_right_sub_tree(n3, n7)\n",
    "    \n",
    "    \n",
    "    f = lambda x: print(x, end = ' ')\n",
    "    bt.preorder_traverse(bt.get_root(), f)\n",
    "\n",
    "   \n"
   ]
  },
  {
   "cell_type": "code",
   "execution_count": 22,
   "metadata": {},
   "outputs": [
    {
     "name": "stdout",
     "output_type": "stream",
     "text": [
      "4 2 5 1 6 3 7 "
     ]
    }
   ],
   "source": [
    "bt.inorder_traverse(bt.get_root(), f)"
   ]
  },
  {
   "cell_type": "code",
   "execution_count": 23,
   "metadata": {},
   "outputs": [
    {
     "name": "stdout",
     "output_type": "stream",
     "text": [
      "4 5 2 6 7 3 1 "
     ]
    }
   ],
   "source": [
    "bt.postorder_tracrese(bt.get_root(), f)"
   ]
  },
  {
   "cell_type": "code",
   "execution_count": 24,
   "metadata": {},
   "outputs": [
    {
     "data": {
      "text/plain": [
       "2"
      ]
     },
     "execution_count": 24,
     "metadata": {},
     "output_type": "execute_result"
    }
   ],
   "source": [
    "n1.left.data"
   ]
  },
  {
   "cell_type": "code",
   "execution_count": 31,
   "metadata": {},
   "outputs": [
    {
     "data": {
      "text/plain": [
       "1"
      ]
     },
     "execution_count": 31,
     "metadata": {},
     "output_type": "execute_result"
    }
   ],
   "source": [
    "bt.root.data"
   ]
  },
  {
   "cell_type": "code",
   "execution_count": 17,
   "metadata": {
    "collapsed": true
   },
   "outputs": [],
   "source": [
    "# 기존의 인터페이스를 가지고 node 삽입, 노드 삭제를 해라!\n",
    "'''\n",
    "n8 = bt.make_node()\n",
    "bt.set_node_data(n8, 8)\n",
    "bt.make_right_sub_tree(n1, n8)\n",
    "bt.make_right_sub_tree(n8, n3)\n",
    "'''\n",
    "# 노드 추가하는것."
   ]
  },
  {
   "cell_type": "code",
   "execution_count": 18,
   "metadata": {},
   "outputs": [
    {
     "name": "stdout",
     "output_type": "stream",
     "text": [
      "4 2 5 1 8 6 3 7 "
     ]
    }
   ],
   "source": [
    "bt.inorder_traverse(bt.get_root(), f)"
   ]
  },
  {
   "cell_type": "code",
   "execution_count": 26,
   "metadata": {},
   "outputs": [],
   "source": [
    "bt.make_right_sub_tree(n1, n6)\n",
    "bt.make_right_sub_tree(n6, n7)\n"
   ]
  },
  {
   "cell_type": "code",
   "execution_count": 27,
   "metadata": {
    "collapsed": true
   },
   "outputs": [],
   "source": [
    "del n3"
   ]
  },
  {
   "cell_type": "code",
   "execution_count": 28,
   "metadata": {},
   "outputs": [
    {
     "name": "stdout",
     "output_type": "stream",
     "text": [
      "4 2 5 1 6 7 "
     ]
    }
   ],
   "source": [
    "bt.inorder_traverse(bt.get_root(), f)\n",
    "\n",
    "# 삭제 처리 까지 완료. "
   ]
  },
  {
   "cell_type": "code",
   "execution_count": 32,
   "metadata": {
    "collapsed": true
   },
   "outputs": [],
   "source": [
    "# 신기한 프로세스 이다.. \n",
    "# 원리는 각 노드를 생성 -> 노드에 데이터를 저장하고 -> 노드의 번호를 부여해서 -> 노드의 왼쪽, 오른쪽 이라는 데이터를 지정해놓고, -> 노드에 왼, 오른쪽에 붙이고, 그것을 순회로 값을 찾아낸다.. 와... 천재적인 발상이다.\n",
    "\n"
   ]
  },
  {
   "cell_type": "code",
   "execution_count": null,
   "metadata": {
    "collapsed": true
   },
   "outputs": [],
   "source": []
  },
  {
   "cell_type": "code",
   "execution_count": null,
   "metadata": {
    "collapsed": true
   },
   "outputs": [],
   "source": []
  }
 ],
 "metadata": {
  "kernelspec": {
   "display_name": "Python 3",
   "language": "python",
   "name": "python3"
  },
  "language_info": {
   "codemirror_mode": {
    "name": "ipython",
    "version": 3
   },
   "file_extension": ".py",
   "mimetype": "text/x-python",
   "name": "python",
   "nbconvert_exporter": "python",
   "pygments_lexer": "ipython3",
   "version": "3.6.2"
  }
 },
 "nbformat": 4,
 "nbformat_minor": 2
}

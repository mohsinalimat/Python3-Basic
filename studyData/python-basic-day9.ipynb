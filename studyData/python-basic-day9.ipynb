{
 "cells": [
  {
   "cell_type": "code",
   "execution_count": 1,
   "metadata": {
    "collapsed": true
   },
   "outputs": [],
   "source": [
    "# procedural programming(절차 지향 프로그래밍)\n",
    "# inheritance -> exe파일이 c코드로 어떻게 작동을하는지..?\n",
    "# property -> 문법용어..?"
   ]
  },
  {
   "cell_type": "code",
   "execution_count": null,
   "metadata": {
    "collapsed": true
   },
   "outputs": [],
   "source": []
  },
  {
   "cell_type": "code",
   "execution_count": 2,
   "metadata": {
    "collapsed": true
   },
   "outputs": [],
   "source": [
    "# idle랑, vim 환경 사용하는것 숙지해보자."
   ]
  },
  {
   "cell_type": "code",
   "execution_count": null,
   "metadata": {
    "collapsed": true
   },
   "outputs": [],
   "source": []
  },
  {
   "cell_type": "code",
   "execution_count": 14,
   "metadata": {},
   "outputs": [
    {
     "ename": "ModuleNotFoundError",
     "evalue": "No module named 'openpyxl'",
     "output_type": "error",
     "traceback": [
      "\u001b[0;31m---------------------------------------------------------------------------\u001b[0m",
      "\u001b[0;31mModuleNotFoundError\u001b[0m                       Traceback (most recent call last)",
      "\u001b[0;32m<ipython-input-14-a4e6e7cc3f39>\u001b[0m in \u001b[0;36m<module>\u001b[0;34m()\u001b[0m\n\u001b[1;32m      1\u001b[0m \u001b[0;31m# from module import openpyxl\u001b[0m\u001b[0;34m\u001b[0m\u001b[0;34m\u001b[0m\u001b[0m\n\u001b[0;32m----> 2\u001b[0;31m \u001b[0;32mfrom\u001b[0m \u001b[0mopenpyxl\u001b[0m \u001b[0;32mimport\u001b[0m \u001b[0;34m*\u001b[0m\u001b[0;34m\u001b[0m\u001b[0m\n\u001b[0m\u001b[1;32m      3\u001b[0m \u001b[0;31m# 여기서 이게 안되는 이유는 환경 변수 떄문이다.\u001b[0m\u001b[0;34m\u001b[0m\u001b[0;34m\u001b[0m\u001b[0m\n",
      "\u001b[0;31mModuleNotFoundError\u001b[0m: No module named 'openpyxl'"
     ]
    }
   ],
   "source": [
    "# from module import openpyxl\n",
    "from openpyxl import *\n",
    "# 여기서 이게 안되는 이유는 환경 변수 떄문이다."
   ]
  },
  {
   "cell_type": "code",
   "execution_count": null,
   "metadata": {
    "collapsed": true
   },
   "outputs": [],
   "source": []
  },
  {
   "cell_type": "code",
   "execution_count": null,
   "metadata": {
    "collapsed": true
   },
   "outputs": [],
   "source": []
  },
  {
   "cell_type": "code",
   "execution_count": 2,
   "metadata": {
    "collapsed": true
   },
   "outputs": [],
   "source": [
    "## class : 연관있는 변수 + 함수를 모아놨다\n",
    "# 연관 있는 변수 : member - 맴버변수 \n",
    "#                      - property\n",
    "\n",
    "#연관 있는 함수 : "
   ]
  },
  {
   "cell_type": "code",
   "execution_count": null,
   "metadata": {
    "collapsed": true
   },
   "outputs": [],
   "source": []
  },
  {
   "cell_type": "code",
   "execution_count": null,
   "metadata": {
    "collapsed": true
   },
   "outputs": [],
   "source": []
  },
  {
   "cell_type": "code",
   "execution_count": 3,
   "metadata": {
    "collapsed": true
   },
   "outputs": [],
   "source": [
    "# 예전에 했던 count 함수(def)를 class로 임포팅 할꺼임."
   ]
  },
  {
   "cell_type": "code",
   "execution_count": 2,
   "metadata": {
    "collapsed": true
   },
   "outputs": [],
   "source": [
    "# class는 템플릿이다.(붕어빵 틀) : 무언가를 찍어내는 틀이다..?\n",
    "class Account: # class의 구조임. class 함수이름(캐피털라이징함. 첫문자는 대문자)\n",
    "    \n",
    "    # 생성자\n",
    "    # 맴버의 초기화 진행?\n",
    "    def __init__(self, name, money): # self 가 하는 의미가 있지만. 나중에 하고 __는 파이썬이 예약해놓은 문자\n",
    "        #instance member : 연관 있는 변수\n",
    "        self.user = name\n",
    "        self.balance = money\n",
    "    \n",
    "    \n",
    "    def __del__(self):\n",
    "        pass\n",
    "    \n",
    "        # 소멸자\n",
    "        # 주 목적은 메모리의 해제\n",
    "        # 거의 쓰이지 않음\n",
    "        \n",
    "    # instance method : 연관 있는 함수들의 모임.\n",
    "    def deposit(self, money):\n",
    "        if money <= 0:\n",
    "            return None # 여기서부터 인터페이스 설계하는거임 None, True, False\n",
    "        else:\n",
    "            self.balance += money\n",
    "            return self.balance\n",
    "    \n",
    "    def withdraw(self, money):\n",
    "        '''\n",
    "        obj.withdraw(self, money) -> bool -> 객체 함수라는걸 표현하기위해서..\n",
    "        '''\n",
    "        if money <= self.balance:\n",
    "            self.balance -= money # 얼마를 뽑앗다..\n",
    "            return True\n",
    "        else:\n",
    "            return False\n",
    "        \n",
    "    '''   \n",
    "    def __str__(self):\n",
    "        return '{}, {}'.format(self.user, self.balance)\n",
    "    '''"
   ]
  },
  {
   "cell_type": "code",
   "execution_count": 3,
   "metadata": {
    "collapsed": true
   },
   "outputs": [],
   "source": [
    "# class : 찍어내는 틀\n",
    "# object : 실제로 존재하는 객체\n",
    "my_acnt = Account('greg', 5000) # 위의 self 빼고 이름과 돈을 넣음\n",
    "you_acnt = Account('john', 1000) # Account 가 class로 실행이 됬지만, 형태가 함수랑 비슷하다.\n",
    "\n",
    "# 위의 이녀석들은 def __init__가 실행이됨."
   ]
  },
  {
   "cell_type": "code",
   "execution_count": 4,
   "metadata": {},
   "outputs": [
    {
     "name": "stdout",
     "output_type": "stream",
     "text": [
      "<__main__.Account object at 0x10ac473c8>\n"
     ]
    }
   ],
   "source": [
    "print(my_acnt)"
   ]
  },
  {
   "cell_type": "code",
   "execution_count": 5,
   "metadata": {
    "collapsed": true
   },
   "outputs": [],
   "source": [
    "# class는 템플릿이다.(붕어빵 틀) : 무언가를 찍어내는 틀이다..?\n",
    "class Account: # class의 구조임. class 함수이름(캐피털라이징함. 첫문자는 대문자)\n",
    "    \n",
    "    # 생성자\n",
    "    # 맴버의 초기화 진행?\n",
    "    def __init__(self, name, money): # self 가 하는 의미가 있지만. 나중에 하고 __는 파이썬이 예약해놓은 문자\n",
    "        #instance member : 연관 있는 변수\n",
    "        self.user = name\n",
    "        self.balance = money\n",
    "    \n",
    "    \n",
    "    def __del__(self):\n",
    "        pass\n",
    "    \n",
    "        # 소멸자\n",
    "        # 주 목적은 메모리의 해제\n",
    "        # 거의 쓰이지 않음\n",
    "        \n",
    "    # instance method : 연관 있는 함수들의 모임.\n",
    "    def deposit(self, money):\n",
    "        if money <= 0:\n",
    "            return None # 여기서부터 인터페이스 설계하는거임 None, True, False\n",
    "        else:\n",
    "            self.balance += money\n",
    "            return self.balance\n",
    "    \n",
    "    def withdraw(self, money):\n",
    "        '''\n",
    "        obj.withdraw(self, money) -> bool -> 객체 함수라는걸 표현하기위해서..\n",
    "        '''\n",
    "        if money <= self.balance:\n",
    "            self.balance -= money # 얼마를 뽑앗다..\n",
    "            return True\n",
    "        else:\n",
    "            return False\n",
    "        \n",
    "\n",
    "    def __str__(self):\n",
    "        return '{}, {}'.format(self.user, self.balance)\n",
    "    "
   ]
  },
  {
   "cell_type": "code",
   "execution_count": 6,
   "metadata": {
    "collapsed": true
   },
   "outputs": [],
   "source": [
    "# class : 찍어내는 틀\n",
    "# object : 실제로 존재하는 객체\n",
    "my_acnt = Account('greg', 5000) # 위의 self 빼고 이름과 돈을 넣음\n",
    "you_acnt = Account('john', 1000) # Account 가 class로 실행이 됬지만, 형태가 함수랑 비슷하다.\n",
    "\n",
    "# 위의 이녀석들은 def __init__가 실행이됨."
   ]
  },
  {
   "cell_type": "code",
   "execution_count": 7,
   "metadata": {},
   "outputs": [
    {
     "name": "stdout",
     "output_type": "stream",
     "text": [
      "greg, 5000\n"
     ]
    }
   ],
   "source": [
    "print(my_acnt) # 위에랑 차이점을 생각해보자."
   ]
  },
  {
   "cell_type": "code",
   "execution_count": null,
   "metadata": {
    "collapsed": true
   },
   "outputs": [],
   "source": [
    "print(my_acnt.user, my_acnt.balance)"
   ]
  },
  {
   "cell_type": "code",
   "execution_count": null,
   "metadata": {
    "collapsed": true
   },
   "outputs": [],
   "source": []
  },
  {
   "cell_type": "code",
   "execution_count": 47,
   "metadata": {},
   "outputs": [
    {
     "name": "stdout",
     "output_type": "stream",
     "text": [
      "greg, 5000\n"
     ]
    }
   ],
   "source": [
    "# class는 템플릿이다.(붕어빵 틀) : 무언가를 찍어내는 틀이다..?\n",
    "class Account: # class의 구조임. class 함수이름(캐피털라이징함. 첫문자는 대문자)\n",
    "    \n",
    "    # 생성자\n",
    "    # 맴버의 초기화 진행?\n",
    "    def __init__(self, name, money): # self 가 하는 의미가 있지만. 나중에 하고 __는 파이썬이 예약해놓은 문자\n",
    "        #instance member : 연관 있는 변수\n",
    "        self.user = name\n",
    "        self.balance = money\n",
    "    \n",
    "    \n",
    "    def __del__(self):\n",
    "        pass\n",
    "    \n",
    "        # 소멸자\n",
    "        # 주 목적은 메모리의 해제\n",
    "        # 거의 쓰이지 않음\n",
    "        \n",
    "    # instance method : 연관 있는 함수들의 모임.\n",
    "    def deposit(self, money):\n",
    "        if money <= 0:\n",
    "            return None # 여기서부터 인터페이스 설계하는거임 None, True, False\n",
    "        else:\n",
    "            self.balance += money\n",
    "            return self.balance\n",
    "    \n",
    "    def withdraw(self, money):\n",
    "        '''\n",
    "        obj.withdraw(self, money) -> bool -> 객체 함수라는걸 표현하기위해서..\n",
    "        '''\n",
    "        if money <= self.balance:\n",
    "            self.balance -= money # 얼마를 뽑앗다..\n",
    "            return True\n",
    "        else:\n",
    "            return False\n",
    "        \n",
    "\n",
    "    def __str__(self):\n",
    "        return '{}, {}'.format(self.user, self.balance)\n",
    "    \n",
    "    \n",
    "# class : 찍어내는 틀\n",
    "# object : 실제로 존재하는 객체\n",
    "my_acnt = Account('greg', 5000) # 위의 self 빼고 이름과 돈을 넣음\n",
    "you_acnt = Account('john', 1000) # Account 가 class로 실행이 됬지만, 형태가 함수랑 비슷하다.\n",
    "\n",
    "# 위의 이녀석들은 def __init__가 실행이됨.\n",
    "\n",
    "print(my_acnt)"
   ]
  },
  {
   "cell_type": "code",
   "execution_count": 53,
   "metadata": {},
   "outputs": [
    {
     "data": {
      "text/plain": [
       "7000"
      ]
     },
     "execution_count": 53,
     "metadata": {},
     "output_type": "execute_result"
    }
   ],
   "source": [
    "# 함수 호출방법\n",
    "# 1. object로 method 호출\n",
    "\n",
    "my_acnt.deposit(2000) # 이녀석이 디파짓에 이라는 함수에 2000의 값을 불러 오고싶다.\n",
    "# user - greg로 들어가있고\n",
    "# balance 에 5000원이 들어가있으거임. \n",
    "# 위으 ㅣ두가지는 내부정보이다."
   ]
  },
  {
   "cell_type": "code",
   "execution_count": 55,
   "metadata": {},
   "outputs": [
    {
     "data": {
      "text/plain": [
       "<__main__.Account at 0x107b19940>"
      ]
     },
     "execution_count": 55,
     "metadata": {},
     "output_type": "execute_result"
    }
   ],
   "source": [
    "my_acnt"
   ]
  },
  {
   "cell_type": "code",
   "execution_count": 56,
   "metadata": {},
   "outputs": [
    {
     "name": "stdout",
     "output_type": "stream",
     "text": [
      "greg, 7000\n"
     ]
    }
   ],
   "source": [
    "print(my_acnt) # deposit 를 불러옴. class에 있는 함수에 각각 내부정보를 저장하거나 꺼내올수 있음."
   ]
  },
  {
   "cell_type": "code",
   "execution_count": null,
   "metadata": {
    "collapsed": true
   },
   "outputs": [],
   "source": []
  },
  {
   "cell_type": "code",
   "execution_count": 61,
   "metadata": {},
   "outputs": [
    {
     "name": "stdout",
     "output_type": "stream",
     "text": [
      "greg, 5000\n"
     ]
    }
   ],
   "source": [
    "# class는 템플릿이다.(붕어빵 틀) : 무언가를 찍어내는 틀이다..?\n",
    "class Account: # class의 구조임. class 함수이름(캐피털라이징함. 첫문자는 대문자)\n",
    "    \n",
    "    # 생성자\n",
    "    # 맴버의 초기화 진행?\n",
    "    def __init__(self, name, money): # self 가 하는 의미가 있지만. 나중에 하고 __는 파이썬이 예약해놓은 문자\n",
    "        #instance member : 연관 있는 변수\n",
    "        self.user = name\n",
    "        self.balance = money\n",
    "    \n",
    "    \n",
    "    def __del__(self):\n",
    "        print(\"객체가 지워지면 나옴\") # def my_acnt 를 사용하면 함수가지워질때 사용되는 명령어 \n",
    "    \n",
    "        # 소멸자\n",
    "        # 주 목적은 메모리의 해제\n",
    "        # 거의 쓰이지 않음\n",
    "        \n",
    "    # instance method : 연관 있는 함수들의 모임.\n",
    "    def deposit(self, money):\n",
    "        if money <= 0:\n",
    "            return None # 여기서부터 인터페이스 설계하는거임 None, True, False\n",
    "        else:\n",
    "            self.balance += money\n",
    "            return self.balance\n",
    "    \n",
    "    def withdraw(self, money):\n",
    "        '''\n",
    "        obj.withdraw(self, money) -> bool -> 객체 함수라는걸 표현하기위해서..\n",
    "        '''\n",
    "        if money <= self.balance:\n",
    "            self.balance -= money # 얼마를 뽑앗다..\n",
    "            return True\n",
    "        else:\n",
    "            return False\n",
    "        \n",
    "\n",
    "    def __str__(self):\n",
    "        return '{}, {}'.format(self.user, self.balance)\n",
    "    \n",
    "    \n",
    "# class : 찍어내는 틀\n",
    "# object : 실제로 존재하는 객체\n",
    "my_acnt = Account('greg', 5000) # 위의 self 빼고 이름과 돈을 넣음\n",
    "you_acnt = Account('john', 1000) # Account 가 class로 실행이 됬지만, 형태가 함수랑 비슷하다.\n",
    "\n",
    "# 위의 이녀석들은 def __init__가 실행이됨.\n",
    "\n",
    "print(my_acnt)"
   ]
  },
  {
   "cell_type": "code",
   "execution_count": 62,
   "metadata": {},
   "outputs": [
    {
     "name": "stdout",
     "output_type": "stream",
     "text": [
      "객체가 지워지면 나옴\n"
     ]
    }
   ],
   "source": [
    "del my_acnt"
   ]
  },
  {
   "cell_type": "code",
   "execution_count": 59,
   "metadata": {},
   "outputs": [
    {
     "ename": "NameError",
     "evalue": "name 'my_acnt' is not defined",
     "output_type": "error",
     "traceback": [
      "\u001b[0;31m-----------------------------------------------------------\u001b[0m",
      "\u001b[0;31mNameError\u001b[0m                 Traceback (most recent call last)",
      "\u001b[0;32m<ipython-input-59-61906c58ffb2>\u001b[0m in \u001b[0;36m<module>\u001b[0;34m()\u001b[0m\n\u001b[0;32m----> 1\u001b[0;31m \u001b[0mmy_acnt\u001b[0m\u001b[0;34m\u001b[0m\u001b[0m\n\u001b[0m",
      "\u001b[0;31mNameError\u001b[0m: name 'my_acnt' is not defined"
     ]
    }
   ],
   "source": [
    "my_acnt"
   ]
  },
  {
   "cell_type": "code",
   "execution_count": null,
   "metadata": {
    "collapsed": true
   },
   "outputs": [],
   "source": []
  },
  {
   "cell_type": "code",
   "execution_count": 63,
   "metadata": {
    "collapsed": true
   },
   "outputs": [],
   "source": [
    "# 이번에는 masage passing? \n"
   ]
  },
  {
   "cell_type": "code",
   "execution_count": 118,
   "metadata": {},
   "outputs": [
    {
     "name": "stdout",
     "output_type": "stream",
     "text": [
      "greg, 7000\n",
      "john, 4000\n"
     ]
    }
   ],
   "source": [
    "# class는 템플릿이다.(붕어빵 틀) : 무언가를 찍어내는 틀이다..?\n",
    "class Account: # class의 구조임. class 함수이름(캐피털라이징함. 첫문자는 대문자)\n",
    "    \n",
    "    # 생성자\n",
    "    # 맴버의 초기화 진행?\n",
    "    def __init__(self, name, money): # self 가 하는 의미가 있지만. 나중에 하고 __는 파이썬이 예약해놓은 문자\n",
    "        #instance member : 연관 있는 변수\n",
    "        self.user = name\n",
    "        self.balance = money\n",
    "    \n",
    "    \n",
    "    def __del__(self):\n",
    "        print(\"객체가 지워지면 나옴\") # def my_acnt 를 사용하면 함수가지워질때 사용되는 명령어 \n",
    "    \n",
    "        # 소멸자\n",
    "        # 주 목적은 메모리의 해제\n",
    "        # 거의 쓰이지 않음\n",
    "        \n",
    "    # instance method : 연관 있는 함수들의 모임.\n",
    "    def deposit(self, money):\n",
    "        if money <= 0:\n",
    "            return None # 여기서부터 인터페이스 설계하는거임 None, True, False\n",
    "        else:\n",
    "            self.balance += money\n",
    "            return self.balance\n",
    "    \n",
    "    def withdraw(self, money):\n",
    "        '''\n",
    "        obj.withdraw(self, money) -> bool -> 객체 함수라는걸 표현하기위해서..\n",
    "        '''\n",
    "        if money <= self.balance:\n",
    "            self.balance -= money # 얼마를 뽑앗다..\n",
    "            return True\n",
    "        else:\n",
    "            return False\n",
    "        \n",
    "        # message passing\n",
    "    def transfer(self, other, money):\n",
    "        res = self.withdraw(money)\n",
    "        if res: # res가 참이면 이라는 함수를 쓸대 이렇게 씀\n",
    "            other.deposit(money)\n",
    "            # 다른 객체의 함수를 호출 -> 내부 정보를 바꾼다. \n",
    "            # 상대방의 내부정보를 바꾸려면 상대방의 함수를 호출해서 내부정보를 바꾼다..?\n",
    "            # 객체간의 상호작용을 할때 함수 호출을 통해서 상호작용을 한다...?\n",
    "            # OOP 라는 개념에서 객체와 객체간에 함수 호출을 통해서 message \n",
    "            \n",
    "            # 여기서 other.balance로 바로 접근해서 하면 안됨. 이유는 페러다임.....?\n",
    "            return True\n",
    "        else: return False\n",
    "\n",
    "    def __str__(self):\n",
    "        return '{}, {}'.format(self.user, self.balance)\n",
    "    \n",
    "    \n",
    "# class : 찍어내는 틀\n",
    "# object : 실제로 존재하는 객체\n",
    "my_acnt = Account('greg', 7000) # 위의 self 빼고 이름과 돈을 넣음\n",
    "you_acnt = Account('john', 4000) # Account 가 class로 실행이 됬지만, 형태가 함수랑 비슷하다.\n",
    "\n",
    "# 위의 이녀석들은 def __init__가 실행이됨.\n",
    "\n",
    "print(my_acnt)\n",
    "print(you_acnt)"
   ]
  },
  {
   "cell_type": "code",
   "execution_count": 119,
   "metadata": {},
   "outputs": [
    {
     "data": {
      "text/plain": [
       "True"
      ]
     },
     "execution_count": 119,
     "metadata": {},
     "output_type": "execute_result"
    }
   ],
   "source": [
    "my_acnt.transfer(you_acnt, 5000)\n",
    "# greg가 3000만원을 john에게 3000만원을 줌.. 둘다 상호작용을 한거임.."
   ]
  },
  {
   "cell_type": "code",
   "execution_count": 120,
   "metadata": {},
   "outputs": [
    {
     "name": "stdout",
     "output_type": "stream",
     "text": [
      "greg, 2000\n",
      "john, 9000\n"
     ]
    }
   ],
   "source": [
    "print(my_acnt)\n",
    "print(you_acnt)"
   ]
  },
  {
   "cell_type": "code",
   "execution_count": null,
   "metadata": {
    "collapsed": true
   },
   "outputs": [],
   "source": []
  },
  {
   "cell_type": "code",
   "execution_count": null,
   "metadata": {
    "collapsed": true
   },
   "outputs": [],
   "source": []
  },
  {
   "cell_type": "code",
   "execution_count": null,
   "metadata": {
    "collapsed": true
   },
   "outputs": [],
   "source": []
  },
  {
   "cell_type": "code",
   "execution_count": 113,
   "metadata": {
    "collapsed": true
   },
   "outputs": [],
   "source": [
    "'''class hotel_day:\n",
    "    def __init__(self, days, hotels):\n",
    "        self.days = day\n",
    "        self.hotels = hotel\n",
    "        \n",
    "    def day(self, days):\n",
    "        return days * 140\n",
    "    \n",
    "    def hotel(self, hotels):\n",
    "        if hotels == \"A\":\n",
    "            return 200\n",
    "        elif hotels == \"B\":\n",
    "            return 300\n",
    "        else:\n",
    "            return False\n",
    "    \n",
    "    def sum(self, days, hotels):\n",
    "        return days + hotels \n",
    "    \n",
    "   # def hotel(hotels):\n",
    "   # if hotels == \"A\":\n",
    "   #     return 200\n",
    "   # elif hotels == \"B\":\n",
    "   #     return 300\n",
    "   # else:\n",
    "   #     return False\n",
    "   ''' "
   ]
  },
  {
   "cell_type": "code",
   "execution_count": 114,
   "metadata": {
    "collapsed": true
   },
   "outputs": [],
   "source": [
    "\n",
    "me = hotel_day(1, \"A\")\n",
    "you = hotel_day(2, \"B\")"
   ]
  },
  {
   "cell_type": "code",
   "execution_count": 117,
   "metadata": {},
   "outputs": [
    {
     "name": "stdout",
     "output_type": "stream",
     "text": [
      "<__main__.hotel_day object at 0x107a3df28>\n",
      "<__main__.hotel_day object at 0x107a3d048>\n"
     ]
    }
   ],
   "source": [
    "print(me)\n",
    "print(you)\n"
   ]
  },
  {
   "cell_type": "code",
   "execution_count": null,
   "metadata": {
    "collapsed": true
   },
   "outputs": [],
   "source": []
  },
  {
   "cell_type": "code",
   "execution_count": 122,
   "metadata": {},
   "outputs": [
    {
     "data": {
      "text/plain": [
       "6000"
      ]
     },
     "execution_count": 122,
     "metadata": {},
     "output_type": "execute_result"
    }
   ],
   "source": [
    "# 객체의 메서드 호출\n",
    "# 객체.함수 이름()\n",
    "my_acnt.deposit(2000) # 2000원의 돈을 넣는것. "
   ]
  },
  {
   "cell_type": "code",
   "execution_count": 123,
   "metadata": {},
   "outputs": [
    {
     "data": {
      "text/plain": [
       "8000"
      ]
     },
     "execution_count": 123,
     "metadata": {},
     "output_type": "execute_result"
    }
   ],
   "source": [
    "# 클래스를 통해 호출\n",
    "# 쓰이지는 않음\n",
    "Account.deposit(my_acnt, 2000) # 둘다 각자 다른 객체인데. \n",
    "# 위의 명령어가 클레스를 통해서 함수를 호출하는것\n",
    "# 위의 함수로 가보면 인자가 2개임.. 클레스를 통해서 함수를 호출하면. 인자에다가 수동으로 내가 지정해서 넣어줘야함\n",
    "\n"
   ]
  },
  {
   "cell_type": "code",
   "execution_count": 126,
   "metadata": {},
   "outputs": [
    {
     "data": {
      "text/plain": [
       "method"
      ]
     },
     "execution_count": 126,
     "metadata": {},
     "output_type": "execute_result"
    }
   ],
   "source": [
    "type(my_acnt.deposit)\n",
    "# 두개의 차이가 뭘까 객체 안에 있는 디파짓은 method인데\n",
    "# 클레스안에 디파짓은 펑션(함수이다)"
   ]
  },
  {
   "cell_type": "code",
   "execution_count": 127,
   "metadata": {},
   "outputs": [
    {
     "data": {
      "text/plain": [
       "function"
      ]
     },
     "execution_count": 127,
     "metadata": {},
     "output_type": "execute_result"
    }
   ],
   "source": [
    "type(Account.deposit)"
   ]
  },
  {
   "cell_type": "code",
   "execution_count": 128,
   "metadata": {},
   "outputs": [
    {
     "data": {
      "text/plain": [
       "['__call__',\n",
       " '__class__',\n",
       " '__delattr__',\n",
       " '__dir__',\n",
       " '__doc__',\n",
       " '__eq__',\n",
       " '__format__',\n",
       " '__func__',\n",
       " '__ge__',\n",
       " '__get__',\n",
       " '__getattribute__',\n",
       " '__gt__',\n",
       " '__hash__',\n",
       " '__init__',\n",
       " '__init_subclass__',\n",
       " '__le__',\n",
       " '__lt__',\n",
       " '__ne__',\n",
       " '__new__',\n",
       " '__reduce__',\n",
       " '__reduce_ex__',\n",
       " '__repr__',\n",
       " '__self__',\n",
       " '__setattr__',\n",
       " '__sizeof__',\n",
       " '__str__',\n",
       " '__subclasshook__']"
      ]
     },
     "execution_count": 128,
     "metadata": {},
     "output_type": "execute_result"
    }
   ],
   "source": [
    "dir(my_acnt.deposit)\n",
    "# method에는 __func__랑, __self__가 들어있음.. 이거의 이미가 뭐냐면\n"
   ]
  },
  {
   "cell_type": "code",
   "execution_count": 133,
   "metadata": {},
   "outputs": [
    {
     "data": {
      "text/plain": [
       "True"
      ]
     },
     "execution_count": 133,
     "metadata": {},
     "output_type": "execute_result"
    }
   ],
   "source": [
    "my_acnt.deposit.__func__ is Account.deposit \n",
    "# func안에 이미 클레스가 들어가 있다...라고 생각해야되는건가?"
   ]
  },
  {
   "cell_type": "code",
   "execution_count": 134,
   "metadata": {},
   "outputs": [
    {
     "data": {
      "text/plain": [
       "True"
      ]
     },
     "execution_count": 134,
     "metadata": {},
     "output_type": "execute_result"
    }
   ],
   "source": [
    "my_acnt.deposit.__self__ is my_acnt \n",
    "\n",
    "# __self__가 자기자신을 넣음..?"
   ]
  },
  {
   "cell_type": "code",
   "execution_count": 135,
   "metadata": {
    "collapsed": true
   },
   "outputs": [],
   "source": [
    "# mothod는 -> 함수 정보, 객체 정보 -> self 정보에 넣어주지 않아도, 자기자신이 self에 자기 자신을 넣음\n"
   ]
  },
  {
   "cell_type": "code",
   "execution_count": null,
   "metadata": {
    "collapsed": true
   },
   "outputs": [],
   "source": []
  },
  {
   "cell_type": "code",
   "execution_count": 136,
   "metadata": {},
   "outputs": [
    {
     "name": "stdout",
     "output_type": "stream",
     "text": [
      "greg, 7000\n",
      "john, 4000\n"
     ]
    }
   ],
   "source": [
    "# class는 템플릿이다.(붕어빵 틀) : 무언가를 찍어내는 틀이다..?\n",
    "class Account: # class의 구조임. class 함수이름(캐피털라이징함. 첫문자는 대문자)\n",
    "    # class member, calss method : 전역 변수를 대체 하기 위해서.\n",
    "    \n",
    "    interest_rate = 7.0\n",
    "    name = 'Good Life'\n",
    "    kind = 'denabdung deposit'\n",
    "    # 파이썬을 모든것이 객체니까, class가 어떤 변수 값을 가질수 있다.\n",
    "    # class member : 모든 객체가 공유함 -> interest_rate = 7.0 \n",
    "    \n",
    "    @classmethod # class method .. \n",
    "    def get_account_info(cls):\n",
    "        return cls.interest_rate, cls.name, cls.kind # 클레스 변수를 모두 넣음\n",
    "    # class method 는 객체가 생서되기 전에도 호출가능 \n",
    "\n",
    "    \n",
    "    # 생성자\n",
    "    # 맴버의 초기화 진행?\n",
    "    def __init__(self, name, money): # self 가 하는 의미가 있지만. 나중에 하고 __는 파이썬이 예약해놓은 문자\n",
    "        #instance member : 연관 있는 변수\n",
    "        self.user = name\n",
    "        self.balance = money\n",
    "    \n",
    "    \n",
    "    def __del__(self):\n",
    "        print(\"객체가 지워지면 나옴\") # def my_acnt 를 사용하면 함수가지워질때 사용되는 명령어 \n",
    "    \n",
    "        # 소멸자\n",
    "        # 주 목적은 메모리의 해제\n",
    "        # 거의 쓰이지 않음\n",
    "        \n",
    "    # instance method : 연관 있는 함수들의 모임.\n",
    "    def deposit(self, money):\n",
    "        if money <= 0:\n",
    "            return None # 여기서부터 인터페이스 설계하는거임 None, True, False\n",
    "        else:\n",
    "            self.balance += money\n",
    "            return self.balance\n",
    "    \n",
    "    def withdraw(self, money):\n",
    "        '''\n",
    "        obj.withdraw(self, money) -> bool -> 객체 함수라는걸 표현하기위해서..\n",
    "        '''\n",
    "        if money <= self.balance:\n",
    "            self.balance -= money # 얼마를 뽑앗다..\n",
    "            return True\n",
    "        else:\n",
    "            return False\n",
    "        \n",
    "        # message passing\n",
    "    def transfer(self, other, money):\n",
    "        res = self.withdraw(money)\n",
    "        if res: # res가 참이면 이라는 함수를 쓸대 이렇게 씀\n",
    "            other.deposit(money)\n",
    "            # 다른 객체의 함수를 호출 -> 내부 정보를 바꾼다. \n",
    "            # 상대방의 내부정보를 바꾸려면 상대방의 함수를 호출해서 내부정보를 바꾼다..?\n",
    "            # 객체간의 상호작용을 할때 함수 호출을 통해서 상호작용을 한다...?\n",
    "            # OOP 라는 개념에서 객체와 객체간에 함수 호출을 통해서 message \n",
    "            \n",
    "            # 여기서 other.balance로 바로 접근해서 하면 안됨. 이유는 페러다임.....?\n",
    "            return True\n",
    "        else: return False\n",
    "\n",
    "    def __str__(self):\n",
    "        return '{}, {}'.format(self.user, self.balance)\n",
    "    \n",
    "    \n",
    "# class : 찍어내는 틀\n",
    "# object : 실제로 존재하는 객체\n",
    "#my_acnt = Account('greg', 7000) # 위의 self 빼고 이름과 돈을 넣음\n",
    "#you_acnt = Account('john', 4000) # Account 가 class로 실행이 됬지만, 형태가 함수랑 비슷하다.\n",
    "\n",
    "# 위의 이녀석들은 def __init__가 실행이됨.\n",
    "\n",
    "#print(my_acnt)\n",
    "#print(you_acnt)"
   ]
  },
  {
   "cell_type": "code",
   "execution_count": 137,
   "metadata": {
    "collapsed": true
   },
   "outputs": [],
   "source": [
    "# 객체를 생성하기 전인데. 클레스 자체가 가지고 있는 함수라서\n",
    "# Account.get_account_info() -> 이 명령어로 접근이 가능함.\n",
    "\n",
    "# my_acnt.interest_rate : 객체를 통해서 접근 가능."
   ]
  },
  {
   "cell_type": "code",
   "execution_count": null,
   "metadata": {
    "collapsed": true
   },
   "outputs": [],
   "source": []
  },
  {
   "cell_type": "code",
   "execution_count": null,
   "metadata": {
    "collapsed": true
   },
   "outputs": [],
   "source": []
  },
  {
   "cell_type": "code",
   "execution_count": 138,
   "metadata": {
    "collapsed": true
   },
   "outputs": [],
   "source": [
    "# class 예제 각각 어떤 기능을 하는지 예제로 알아보자\n",
    "\n"
   ]
  },
  {
   "cell_type": "code",
   "execution_count": 139,
   "metadata": {
    "collapsed": true
   },
   "outputs": [],
   "source": [
    "class Person:\n",
    "    planet = 'Earth' # 모든 객체가 공유하는걸 class member 로 만들어줌.. \n",
    "                     # 사람이 공유하는 모든것은 지구...?\n",
    "    # __init__가 맴버를 초기화 시킨것..\n",
    "    def __init__(self, name, age): # 아래에있는 instance member 을 변수로 넣음\n",
    "        self.name = name # 연관있는 변수를 만들자..\n",
    "        self.age = age\n",
    "        self.nationality = None # 사용하지 않을 변수는 None로 해주면된다.\n",
    "        # 여기에서 name, age는 -> instance member 이다(연관성있는 변수)?\n",
    "        \n",
    "        \n",
    "    def __del__(self):\n",
    "        pass \n",
    "    # 잘 사용하지 않아서 pass 해줌\n",
    "    \n",
    "    def eat(self, food): # 사람이 먹는것..?\n",
    "        # instance method : 객체가 가지는 기능, 행동(behavior)\n",
    "        print('{} eats {}'.format(self.name, food)) # 누가 푸드를 먹는다...?\n",
    "        \n",
    "    def sleep(self, hour):\n",
    "        pass"
   ]
  },
  {
   "cell_type": "code",
   "execution_count": 154,
   "metadata": {
    "collapsed": true
   },
   "outputs": [],
   "source": [
    "# computer 에 대한 class 설계\n",
    "\n",
    "# 맴버는 self.data, self.cpu self.ram\n",
    "# 최소한 3개의 member, 3개의 method message passing : 다른 컴퓨터한테 내 정보를 전송 \n",
    "# self.date\n",
    "\n",
    "# 3개의 메서도\n",
    "# brower \n",
    "# data_receiver\n",
    "# data_sender\n",
    "\n",
    "# self.data : string\n",
    "# __str__ \n",
    "# self.data 받은데이터를 출력 할수있께\n"
   ]
  },
  {
   "cell_type": "code",
   "execution_count": 155,
   "metadata": {
    "collapsed": true
   },
   "outputs": [],
   "source": [
    "me = Person(\"min\", 10)\n"
   ]
  },
  {
   "cell_type": "code",
   "execution_count": null,
   "metadata": {
    "collapsed": true
   },
   "outputs": [],
   "source": []
  },
  {
   "cell_type": "code",
   "execution_count": 157,
   "metadata": {},
   "outputs": [
    {
     "ename": "SyntaxError",
     "evalue": "invalid syntax (<ipython-input-157-157f7123339d>, line 12)",
     "output_type": "error",
     "traceback": [
      "\u001b[0;36m  File \u001b[0;32m\"<ipython-input-157-157f7123339d>\"\u001b[0;36m, line \u001b[0;32m12\u001b[0m\n\u001b[0;31m    def\u001b[0m\n\u001b[0m        ^\u001b[0m\n\u001b[0;31mSyntaxError\u001b[0m\u001b[0;31m:\u001b[0m invalid syntax\n"
     ]
    }
   ],
   "source": [
    "class Computer:\n",
    "    \n",
    "    def __init__(self, send_data, receive_data, cpu, ram):\n",
    "        self.send_data = send_ata\n",
    "        self.receive_data = receive_data\n",
    "        self.cpu = cpu\n",
    "        self.ram = ram\n",
    "    \n",
    "    def __del__(self):\n",
    "        pass\n",
    "    \n",
    "    def \n",
    "    \n",
    "    # 나는 여기까지 만들어봄.. 더이상 못만듬"
   ]
  },
  {
   "cell_type": "code",
   "execution_count": null,
   "metadata": {
    "collapsed": true
   },
   "outputs": [],
   "source": []
  },
  {
   "cell_type": "code",
   "execution_count": 211,
   "metadata": {},
   "outputs": [
    {
     "ename": "SyntaxError",
     "evalue": "invalid syntax (<ipython-input-211-3f97f9f306fd>, line 17)",
     "output_type": "error",
     "traceback": [
      "\u001b[0;36m  File \u001b[0;32m\"<ipython-input-211-3f97f9f306fd>\"\u001b[0;36m, line \u001b[0;32m17\u001b[0m\n\u001b[0;31m    return self.send_data:# 이렇게 함수를 통해서 접근하도록 만들어야함\u001b[0m\n\u001b[0m                         ^\u001b[0m\n\u001b[0;31mSyntaxError\u001b[0m\u001b[0;31m:\u001b[0m invalid syntax\n"
     ]
    }
   ],
   "source": [
    "class Computer:\n",
    "    # 생성자 먼저만듬\n",
    "    \n",
    "    def __init__(self, cpu, ram):\n",
    "        self.CPU = cpu\n",
    "        self.RAM = ram \n",
    "        self.send_data = None # 컴퓨터가 생성될때 없어서 None을 줌.\n",
    "        self.receive_data = None \n",
    "        \n",
    "    def get_data_from_user(self):\n",
    "        s = input(\"string : \")\n",
    "        self.send_data = s # s 를 받고, send_data 가 생김.\n",
    "        \n",
    "    # 이제 함수 설계를 시작함.\n",
    "    \n",
    "    def get_send_data(self):\n",
    "        return self.send_data:# 이렇게 함수를 통해서 접근하도록 만들어야함\n",
    "    \n",
    "    def message_sender(self, other):\n",
    "        if not self.send_data:  # self.send_data 가 없다면 이게 실행됨\n",
    "            return False\n",
    "        else:\n",
    "            res = other.message_receiver(self) # other 변수가 message 리시버를 호출함, \n",
    "            self.send_data = None\n",
    "            return res \n",
    "     \n",
    "    def message_receiver(self, other):\n",
    "        if self.receive_data: # 만약에 receiver data가 있으면 받으면안됨\n",
    "            return False\n",
    "        else:\n",
    "            other.send_data = other.get_send_data()\n",
    "            if self.receive_data:\n",
    "                return True\n",
    "            else: \n",
    "                return False\n",
    "            \n",
    "    def get_receive_data(self):\n",
    "        return self.receive_data\n",
    "    \n",
    "    def __str__(self):\n",
    "        if not self.receive_data:\n",
    "            return 'no data'\n",
    "        else:\n",
    "            return self.receive_data\n",
    "        \n",
    "\n",
    "            \n",
    "    \n",
    "            \n",
    "    "
   ]
  },
  {
   "cell_type": "code",
   "execution_count": 205,
   "metadata": {
    "collapsed": true
   },
   "outputs": [],
   "source": [
    "c1 = Computer('intel', 16)\n"
   ]
  },
  {
   "cell_type": "code",
   "execution_count": 206,
   "metadata": {},
   "outputs": [
    {
     "name": "stdout",
     "output_type": "stream",
     "text": [
      "no data no data\n"
     ]
    }
   ],
   "source": [
    "c2 = Computer('AMD', 4)\n",
    "\n",
    "print(c1, c2)"
   ]
  },
  {
   "cell_type": "code",
   "execution_count": 207,
   "metadata": {},
   "outputs": [
    {
     "name": "stdout",
     "output_type": "stream",
     "text": [
      "string : asdasdsadasdasd\n"
     ]
    }
   ],
   "source": [
    "c1.get_data_from_user()\n"
   ]
  },
  {
   "cell_type": "code",
   "execution_count": 208,
   "metadata": {},
   "outputs": [
    {
     "name": "stdout",
     "output_type": "stream",
     "text": [
      "asdasdsadasdasd\n"
     ]
    }
   ],
   "source": [
    "print(c1.get_send_data())"
   ]
  },
  {
   "cell_type": "code",
   "execution_count": 209,
   "metadata": {},
   "outputs": [
    {
     "data": {
      "text/plain": [
       "False"
      ]
     },
     "execution_count": 209,
     "metadata": {},
     "output_type": "execute_result"
    }
   ],
   "source": [
    "c1.message_sender(c2)"
   ]
  },
  {
   "cell_type": "code",
   "execution_count": 194,
   "metadata": {},
   "outputs": [
    {
     "data": {
      "text/plain": [
       "False"
      ]
     },
     "execution_count": 194,
     "metadata": {},
     "output_type": "execute_result"
    }
   ],
   "source": [
    "c1.message_sender(c2)"
   ]
  },
  {
   "cell_type": "code",
   "execution_count": 195,
   "metadata": {},
   "outputs": [
    {
     "name": "stdout",
     "output_type": "stream",
     "text": [
      "no data\n"
     ]
    }
   ],
   "source": [
    "print(c2)"
   ]
  },
  {
   "cell_type": "code",
   "execution_count": null,
   "metadata": {
    "collapsed": true
   },
   "outputs": [],
   "source": []
  }
 ],
 "metadata": {
  "kernelspec": {
   "display_name": "Python 3",
   "language": "python",
   "name": "python3"
  },
  "language_info": {
   "codemirror_mode": {
    "name": "ipython",
    "version": 3
   },
   "file_extension": ".py",
   "mimetype": "text/x-python",
   "name": "python",
   "nbconvert_exporter": "python",
   "pygments_lexer": "ipython3",
   "version": "3.6.2"
  }
 },
 "nbformat": 4,
 "nbformat_minor": 2
}

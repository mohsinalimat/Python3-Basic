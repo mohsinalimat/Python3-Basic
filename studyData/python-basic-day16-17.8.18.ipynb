{
 "cells": [
  {
   "cell_type": "code",
   "execution_count": 1,
   "metadata": {
    "collapsed": true
   },
   "outputs": [],
   "source": [
    "# 16일차(8.18) 자료구조(링크드 리스트, 트리)\n"
   ]
  },
  {
   "cell_type": "code",
   "execution_count": 2,
   "metadata": {
    "collapsed": true
   },
   "outputs": [],
   "source": [
    "# 1. 트리\n",
    "# 2. 이진트리 -> 클라이언트 코드(BST)\n",
    "# 3. BST(birnary Search Tree) - 알고리즘 - > 균형 이진 트리 \n",
    "# 균형 이진트리 - > 자신이 self 벨런싱을함.\n",
    "\n"
   ]
  },
  {
   "cell_type": "code",
   "execution_count": 3,
   "metadata": {
    "collapsed": true
   },
   "outputs": [],
   "source": [
    "# 이진트리 \n",
    "#  -> 자식노드가 최대 2개, 3개는 안됨.\n",
    "#  -> 자식노드가 아무것도 없어도 가능.(한개가 있다고 생각하는건가?)\n",
    "\n",
    "# 완전 이진트리(complet bt) vs 포화 이진트리(full b t)\n",
    "# 포화 이진트리 -> 레벨별로 모두 자식 노드들이 꽉 차있는 상태.\n",
    "# 완전 이진트리는 포화이진트리는 아니지만, 노드들을 위에서 아래로, 왼쪽에서 오른쪽으로 넣음.. 근데 포화이진트리 처럼 꽉 차있지 않은 상태.\n",
    "\n",
    "# "
   ]
  },
  {
   "cell_type": "code",
   "execution_count": null,
   "metadata": {
    "collapsed": true
   },
   "outputs": [],
   "source": [
    "# 전위 순회(preovder traverse)\n",
    "# 중위 순회\n"
   ]
  }
 ],
 "metadata": {
  "kernelspec": {
   "display_name": "Python 3",
   "language": "python",
   "name": "python3"
  },
  "language_info": {
   "codemirror_mode": {
    "name": "ipython",
    "version": 3
   },
   "file_extension": ".py",
   "mimetype": "text/x-python",
   "name": "python",
   "nbconvert_exporter": "python",
   "pygments_lexer": "ipython3",
   "version": "3.6.2"
  }
 },
 "nbformat": 4,
 "nbformat_minor": 2
}

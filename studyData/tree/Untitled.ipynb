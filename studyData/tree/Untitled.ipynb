{
 "cells": [
  {
   "cell_type": "code",
   "execution_count": 10,
   "metadata": {
    "collapsed": true
   },
   "outputs": [],
   "source": [
    "from binary_tree import *"
   ]
  },
  {
   "cell_type": "code",
   "execution_count": 13,
   "metadata": {},
   "outputs": [
    {
     "ename": "TypeError",
     "evalue": "module.__init__() takes at most 2 arguments (3 given)",
     "output_type": "error",
     "traceback": [
      "\u001b[0;31m---------------------------------------------------------------------------\u001b[0m",
      "\u001b[0;31mTypeError\u001b[0m                                 Traceback (most recent call last)",
      "\u001b[0;32m<ipython-input-13-92ce8a1ea157>\u001b[0m in \u001b[0;36m<module>\u001b[0;34m()\u001b[0m\n\u001b[0;32m----> 1\u001b[0;31m \u001b[0;32mclass\u001b[0m \u001b[0mBinarySearchTree\u001b[0m\u001b[0;34m(\u001b[0m\u001b[0mbinary_tree\u001b[0m\u001b[0;34m)\u001b[0m\u001b[0;34m:\u001b[0m\u001b[0;34m\u001b[0m\u001b[0m\n\u001b[0m\u001b[1;32m      2\u001b[0m \u001b[0;34m\u001b[0m\u001b[0m\n\u001b[1;32m      3\u001b[0m \u001b[0;34m\u001b[0m\u001b[0m\n\u001b[1;32m      4\u001b[0m     \u001b[0;32mdef\u001b[0m \u001b[0minsert\u001b[0m\u001b[0;34m(\u001b[0m\u001b[0mself\u001b[0m\u001b[0;34m,\u001b[0m \u001b[0mdata\u001b[0m\u001b[0;34m)\u001b[0m\u001b[0;34m:\u001b[0m\u001b[0;34m\u001b[0m\u001b[0m\n\u001b[1;32m      5\u001b[0m         \u001b[0;31m#삽입할 노드 생성 및 데이터 설정\u001b[0m\u001b[0;34m\u001b[0m\u001b[0;34m\u001b[0m\u001b[0m\n",
      "\u001b[0;31mTypeError\u001b[0m: module.__init__() takes at most 2 arguments (3 given)"
     ]
    }
   ],
   "source": [
    "class BinarySearchTree(binary_tree):\n",
    "    \n",
    "\n",
    "    def insert(self, data):\n",
    "        #삽입할 노드 생성 및 데이터 설정\n",
    "        new_node = self.make_node()\n",
    "        self.set_node_data(new_node, data)\n",
    "\n",
    "        cur = self.get_root()\n",
    "        #루트 노드가 없을 때\n",
    "        if cur == None:\n",
    "            self.set_root(new_node)\n",
    "            return\n",
    "\n",
    "        #삽입할 노드의 위치를 찾아 삽입\n",
    "        while True:\n",
    "            #삽입할 데이터가 현재 노드 데이터보다 작을 때\n",
    "            if data < self.get_node_data(cur):\n",
    "                #왼쪽 자식 노드 존재하면\n",
    "                if self.get_left_sub_tree(cur):\n",
    "                    cur = self.get_left_sub_tree(cur)\n",
    "                #존재하지 않으면 노드 삽입\n",
    "                else:\n",
    "                    self.make_left_sub_tree(\n",
    "                        cur, new_node)\n",
    "                    break\n",
    "            #삽입할 데이터가 현재 노드 데이터보다 클 때\n",
    "            elif data > self.get_node_data(cur):\n",
    "                #오른쪽 자식 노드 존재하면\n",
    "                if self.get_right_sub_tree(cur):\n",
    "                    cur = self.get_right_sub_tree(cur)\n",
    "                #존재하지 않으면 노드 삽입\n",
    "                else:\n",
    "                    self.make_right_sub_tree(\n",
    "                        cur, new_node)\n",
    "                    break"
   ]
  },
  {
   "cell_type": "code",
   "execution_count": null,
   "metadata": {},
   "outputs": [],
   "source": []
  },
  {
   "cell_type": "code",
   "execution_count": null,
   "metadata": {
    "collapsed": true
   },
   "outputs": [],
   "source": []
  }
 ],
 "metadata": {
  "kernelspec": {
   "display_name": "Python 3",
   "language": "python",
   "name": "python3"
  },
  "language_info": {
   "codemirror_mode": {
    "name": "ipython",
    "version": 3
   },
   "file_extension": ".py",
   "mimetype": "text/x-python",
   "name": "python",
   "nbconvert_exporter": "python",
   "pygments_lexer": "ipython3",
   "version": "3.6.2"
  }
 },
 "nbformat": 4,
 "nbformat_minor": 2
}

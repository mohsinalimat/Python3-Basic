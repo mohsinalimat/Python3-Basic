{
 "cells": [
  {
   "cell_type": "code",
   "execution_count": 100,
   "metadata": {},
   "outputs": [
    {
     "name": "stdout",
     "output_type": "stream",
     "text": [
      "stay:  334\n",
      "switch:  666\n"
     ]
    }
   ],
   "source": [
    "#Month Hall 문제 반복하기\n",
    "\n",
    "import random\n",
    "# 렌덤하는 모듈을 가져옴\n",
    "stay = 0\n",
    "switch = 0\n",
    "#각각 변수들을 0으로 선언 해줌.\n",
    "\n",
    "for i in range(1000):\n",
    "    #range(숫자)를 넣으면 1000번 실행하겠다임. (1,1000) 은 1에서 1000까지라는 의미인데, 다름\n",
    "    #0 부터 1000개중 한번뽑는것을 1000번 한다\n",
    "    doors = [1, 0, 0]\n",
    "    #door 뒤에 염소2마리, 차 1개 \n",
    "    \n",
    "    random.shuffle(doors)\n",
    "    #door 뒤에 염소와 차를 한번뽑을때 마다 섞어줌.\n",
    "    \n",
    "    choice = random.randrange(3)\n",
    "    # 맨처음에 문을 선택하는것도 랜덤하게 고르는것. 그명령어가 random.randrange\n",
    "    \n",
    "    user = doors[choice]\n",
    "    #user 가 몇번째 문의 염소 또는 차를 저장해놓아줌.\n",
    "    \n",
    "    if user == 1:\n",
    "        stay = stay + 1\n",
    "    else:\n",
    "        switch = switch + 1\n",
    "        \n",
    "        \n",
    "print(\"stay: %4d\" % stay)\n",
    "print(\"switch: %4d\" % switch)\n",
    "# 결론은 확률에서 승리하는 것인데, 차, 염소 세가지를 섞었을때, 그리고 세가지 문중 하나를 섞었을때.\n",
    "# 나오는 결과들.. 이거 집에서 다시 한번 해보자\n",
    "        "
   ]
  },
  {
   "cell_type": "code",
   "execution_count": 20,
   "metadata": {},
   "outputs": [
    {
     "name": "stdout",
     "output_type": "stream",
     "text": [
      "two nums with space5 5\n",
      "   5,       5 keep\n",
      "   2 710 struck\n",
      "   1,      20 keep\n",
      "25\n"
     ]
    }
   ],
   "source": [
    "numbers = str(input(\"two nums with space\")).split()\n",
    "# 스플릿에 괄호안에 아무것도 안넣으면 그냥 짜름\n",
    "\n",
    "result = 0\n",
    "#결과값 변수\n",
    "\n",
    "#나누고 곱하는 두가지 변수를 num1,2로 선언함\n",
    "\n",
    "num1 = int(numbers[0])\n",
    "#numbers의 정보값이 '0' 번째의 값이 첫번째 이다. int()정수로 바꾸는것..\n",
    "num2 = int(numbers[1])\n",
    "\n",
    "#이렇게 선언해놓고 판단하고. 계산하고\n",
    "\n",
    "while num1 >= 1:\n",
    "    if num1 % 2 == 0:\n",
    "        print(\"%4d 7%d struck\" % (num1, num2))\n",
    "    else:\n",
    "        print(\"%4d, %7d keep\" % (num1, num2))\n",
    "        result = result + num2\n",
    "        \n",
    "        \n",
    "    num1 = num1 // 2\n",
    "    num2 = num2 * 2\n",
    "    \n",
    "print(result)\n",
    "    "
   ]
  },
  {
   "cell_type": "code",
   "execution_count": 26,
   "metadata": {},
   "outputs": [
    {
     "name": "stdout",
     "output_type": "stream",
     "text": [
      "aaaaaa1 5\n",
      "['1', '5']\n",
      "1\n",
      "5\n"
     ]
    }
   ],
   "source": [
    "ns = str(input(\"aaaaaa\")).split()\n",
    "# 뒤에 스플릿을 붙여줌으로써 내가 적는 숫자가 리스트화 되서 값이 됨..\n",
    "print(ns)\n",
    "\n",
    "re = 0\n",
    "\n",
    "nu1 = int(ns[0])\n",
    "nu2 = int(ns[1])\n",
    "\n",
    "print(nu1)\n",
    "print(nu2)\n",
    "\n",
    "## 아.. 이런식으로 튀어나와서 연산이 되는거구나. "
   ]
  },
  {
   "cell_type": "code",
   "execution_count": 29,
   "metadata": {},
   "outputs": [
    {
     "name": "stdout",
     "output_type": "stream",
     "text": [
      "aaa5 10\n",
      "5 10\n"
     ]
    }
   ],
   "source": [
    "ns = str(input(\"aaa\"))\n",
    "print(ns)"
   ]
  },
  {
   "cell_type": "code",
   "execution_count": 40,
   "metadata": {},
   "outputs": [
    {
     "data": {
      "text/plain": [
       "{'korean': 100}"
      ]
     },
     "execution_count": 40,
     "metadata": {},
     "output_type": "execute_result"
    }
   ],
   "source": [
    "dict1 = {}\n",
    "\n",
    "#요소를 추가하고싶을때는 대괄호를 사용하고 따움표를 넣음.\n",
    "dict1['korean'] = 100\n",
    "dict1\n",
    "# dict1에 코리아라는 값을 100으로 넣고 dict1 이라고 출력함.\n",
    "\n"
   ]
  },
  {
   "cell_type": "code",
   "execution_count": 57,
   "metadata": {},
   "outputs": [
    {
     "data": {
      "text/plain": [
       "80"
      ]
     },
     "execution_count": 57,
     "metadata": {},
     "output_type": "execute_result"
    }
   ],
   "source": [
    "dict2 = {'korean':100, 'math':80, 'science':[50,45,20,15]}\n",
    "#키 벨류는 요소와 요소 사이를 구분 지을때는 콤마, 그 요소 안에서 키와 벨류를 구분지을때는 콜론\n",
    "dict2\n",
    "\n",
    "dict2['history'] = 70\n",
    "\n",
    "dict2\n",
    "\n",
    "del dict2['history']\n",
    "#위에 코드에 history를 추가했는데, dle 명령어를 사용해서, 키와 벨류를 지움.\n",
    "#딕셔너리의 장점은 데이터 타입을 가리지 않음. 문자, 숫자 상관없이 입력가능\n",
    "dict2\n",
    "\n",
    "# 리스트랑 딕셔너리랑 다르구나~ 다른점들은 중괄호를 사용하고, 그리고 추가, 삭제, 찾기 가 조금더 수월하다\n",
    "\n",
    "dict2['math']\n"
   ]
  },
  {
   "cell_type": "code",
   "execution_count": 61,
   "metadata": {},
   "outputs": [
    {
     "data": {
      "text/plain": [
       "dict_keys(['korean', 'math', 'science'])"
      ]
     },
     "execution_count": 61,
     "metadata": {},
     "output_type": "execute_result"
    }
   ],
   "source": [
    "dict2.keys()"
   ]
  },
  {
   "cell_type": "code",
   "execution_count": 62,
   "metadata": {},
   "outputs": [
    {
     "data": {
      "text/plain": [
       "dict_values([100, 80, [50, 45, 20, 15]])"
      ]
     },
     "execution_count": 62,
     "metadata": {},
     "output_type": "execute_result"
    }
   ],
   "source": [
    "dict2.values()"
   ]
  },
  {
   "cell_type": "code",
   "execution_count": 63,
   "metadata": {},
   "outputs": [
    {
     "data": {
      "text/plain": [
       "dict_items([('korean', 100), ('math', 80), ('science', [50, 45, 20, 15])])"
      ]
     },
     "execution_count": 63,
     "metadata": {},
     "output_type": "execute_result"
    }
   ],
   "source": [
    "dict2.items()\n",
    "# 튜플로 튀어나오는 이유는 키와벨류 하나로 되어 있기 때문이다. 튜플의 특성 생각."
   ]
  },
  {
   "cell_type": "code",
   "execution_count": 67,
   "metadata": {},
   "outputs": [
    {
     "ename": "NameError",
     "evalue": "name 'fastcampus' is not defined",
     "output_type": "error",
     "traceback": [
      "\u001b[0;31m---------------------------------------------------------------------------\u001b[0m",
      "\u001b[0;31mNameError\u001b[0m                                 Traceback (most recent call last)",
      "\u001b[0;32m<ipython-input-67-737e4691bae3>\u001b[0m in \u001b[0;36m<module>\u001b[0;34m()\u001b[0m\n\u001b[0;32m----> 1\u001b[0;31m \u001b[0mA\u001b[0m \u001b[0;34m=\u001b[0m \u001b[0mfastcampus\u001b[0m\u001b[0;34m\u001b[0m\u001b[0m\n\u001b[0m\u001b[1;32m      2\u001b[0m \u001b[0;34m\u001b[0m\u001b[0m\n\u001b[1;32m      3\u001b[0m \u001b[0mdict1\u001b[0m \u001b[0;34m=\u001b[0m \u001b[0mA\u001b[0m\u001b[0;34m\u001b[0m\u001b[0m\n",
      "\u001b[0;31mNameError\u001b[0m: name 'fastcampus' is not defined"
     ]
    }
   ],
   "source": [
    "A = fastcampus\n",
    "\n",
    "dict1 = A"
   ]
  },
  {
   "cell_type": "code",
   "execution_count": 69,
   "metadata": {},
   "outputs": [
    {
     "data": {
      "text/plain": [
       "{' apple', 'pen', 'pineapple'}"
      ]
     },
     "execution_count": 69,
     "metadata": {},
     "output_type": "execute_result"
    }
   ],
   "source": [
    "#집합 연산을 도와주는 자료형은 Set\n",
    "\n",
    "ppap = {'pen', 'pineapple', ' apple', 'pen'}\n",
    "# 중괄호를 사용하면 중복되어 있는 자료값은 삭제하여 출력함. \n",
    "# 일반 대괄호를 사용하면 모두다 출력함.\n",
    "ppap\n"
   ]
  },
  {
   "cell_type": "code",
   "execution_count": 72,
   "metadata": {},
   "outputs": [
    {
     "data": {
      "text/plain": [
       "True"
      ]
     },
     "execution_count": 72,
     "metadata": {},
     "output_type": "execute_result"
    }
   ],
   "source": [
    "'pen' in ppap\n",
    "# ppap 안에 pen이 들어있으면 True 없으면 False "
   ]
  },
  {
   "cell_type": "code",
   "execution_count": 71,
   "metadata": {},
   "outputs": [
    {
     "data": {
      "text/plain": [
       "False"
      ]
     },
     "execution_count": 71,
     "metadata": {},
     "output_type": "execute_result"
    }
   ],
   "source": [
    "'aaaa' in ppap"
   ]
  },
  {
   "cell_type": "code",
   "execution_count": 74,
   "metadata": {},
   "outputs": [
    {
     "data": {
      "text/plain": [
       "{'a', 'e', 'i', 'l', 'n', 'p'}"
      ]
     },
     "execution_count": 74,
     "metadata": {},
     "output_type": "execute_result"
    }
   ],
   "source": [
    "pineapple = set('pineapple')\n",
    "pineapple\n",
    "# pineapple 로 중복되어 있는 것들을 다 삭제하고 한가지만 출력함..?"
   ]
  },
  {
   "cell_type": "code",
   "execution_count": 93,
   "metadata": {},
   "outputs": [
    {
     "name": "stdout",
     "output_type": "stream",
     "text": [
      "{'h', 'p', 't', 'f', 's', 'm', 'y', 'c', 'a', 'u', 'o', 'n'}\n",
      "{'p', 't'}\n",
      "{'f', 'm', 's', 'c', 'a', 'u'}\n",
      "{'f', 's', 'y', 'n', 'h', 'm', 'c', 'a', 'u', 'o'}\n"
     ]
    }
   ],
   "source": [
    "\n",
    "\n",
    "A = set('fastcampus')\n",
    "B = set('python')\n",
    "# set은 작성한 총단어에서 중복되어 있는 단어들을 떨어낸 값을 출력함.\n",
    "\n",
    "print(A | B)\n",
    "print(A & B)\n",
    "print(A - B)\n",
    "print(A ^ B)\n",
    "\n",
    "# 집합처럼 사용할수 있음. 이것들 이용해서 데이터 분석이 가능하다.. 각각 명령어들 사용하는 문법들을 익히는게 파이썬을\n",
    "# 잘 사용하는 방법이다.\n",
    "# 프린트 명령어와 그냥 명령어의 차이점은 맨 마지막을 출력하느냐, 아니면 프린트 하고 괄호를 씌어준 모든것을 출력하느냐의 차이이다.\n",
    "\n",
    "\n",
    " "
   ]
  },
  {
   "cell_type": "code",
   "execution_count": null,
   "metadata": {
    "collapsed": true
   },
   "outputs": [],
   "source": []
  },
  {
   "cell_type": "code",
   "execution_count": null,
   "metadata": {
    "collapsed": true
   },
   "outputs": [],
   "source": []
  },
  {
   "cell_type": "code",
   "execution_count": 116,
   "metadata": {},
   "outputs": [
    {
     "data": {
      "text/plain": [
       "[2, 4, 6, 8, 10]"
      ]
     },
     "execution_count": 116,
     "metadata": {},
     "output_type": "execute_result"
    }
   ],
   "source": [
    "old_list = [1, 2, 3, 4, 5]\n",
    "\n",
    "dd_list = []\n",
    "#일단 빈 리스트를 선언함. \n",
    "for i in old_list:\n",
    "    dd_list.append(i * 2)\n",
    "    \n",
    "    #append의 쓰임새 확인하기.\n",
    "    \n",
    "dd_list\n",
    "\n",
    "# 애초에 old_list라고 리스트를 만들고. \n",
    "\n",
    "그것을 for을 사용해서 원래 있던 리스트에 어떤 값을 주어서 그 안에 있던 값들을 변경 시키는 리스트가 완성됨."
   ]
  },
  {
   "cell_type": "code",
   "execution_count": 118,
   "metadata": {},
   "outputs": [
    {
     "data": {
      "text/plain": [
       "[2, 4, 6, 8, 10]"
      ]
     },
     "execution_count": 118,
     "metadata": {},
     "output_type": "execute_result"
    }
   ],
   "source": [
    "dd_list = [i * 2 for i in old_list]\n",
    "\n",
    "dd_list"
   ]
  },
  {
   "cell_type": "code",
   "execution_count": 119,
   "metadata": {},
   "outputs": [
    {
     "data": {
      "text/plain": [
       "[2, 4, 6, 8, 10]"
      ]
     },
     "execution_count": 119,
     "metadata": {},
     "output_type": "execute_result"
    }
   ],
   "source": [
    "dd_list = [i * 2 for i in old_list]\n",
    "\n",
    "# 원래 가지고 있던 리스트에 새로운 값을 넣어서 리스트를 변경할수 있는 과정이 축소됨.\n",
    "dd_list"
   ]
  },
  {
   "cell_type": "code",
   "execution_count": 124,
   "metadata": {},
   "outputs": [
    {
     "data": {
      "text/plain": [
       "[4, 8]"
      ]
     },
     "execution_count": 124,
     "metadata": {},
     "output_type": "execute_result"
    }
   ],
   "source": [
    "old_list = [1, 2, 3, 4, 5]\n",
    "\n",
    "dd_list = []\n",
    "\n",
    "for i in old_list:\n",
    "    if i % 2 == 0:\n",
    "        dd_list.append(i * 2)\n",
    "        \n",
    "dd_list"
   ]
  },
  {
   "cell_type": "code",
   "execution_count": 126,
   "metadata": {},
   "outputs": [
    {
     "data": {
      "text/plain": [
       "[4, 8]"
      ]
     },
     "execution_count": 126,
     "metadata": {},
     "output_type": "execute_result"
    }
   ],
   "source": [
    "dd_list = [i * 2 for i in old_list if i % 2 ==0]\n",
    "\n",
    "dd_list"
   ]
  },
  {
   "cell_type": "code",
   "execution_count": 145,
   "metadata": {
    "collapsed": true
   },
   "outputs": [],
   "source": [
    "old_list = [range(1, 100+1)]\n",
    "\n",
    "dd_list = []\n",
    "\n"
   ]
  },
  {
   "cell_type": "code",
   "execution_count": 151,
   "metadata": {},
   "outputs": [
    {
     "name": "stdout",
     "output_type": "stream",
     "text": [
      "1\n",
      "2\n",
      "fizz\n",
      "4\n",
      "buzz\n",
      "fizz\n",
      "7\n",
      "8\n",
      "fizz\n",
      "buzz\n",
      "11\n",
      "fizz\n",
      "13\n",
      "14\n",
      "fizzbuzz\n",
      "16\n",
      "17\n",
      "fizz\n",
      "19\n",
      "buzz\n",
      "fizz\n",
      "22\n",
      "23\n",
      "fizz\n",
      "buzz\n",
      "26\n",
      "fizz\n",
      "28\n",
      "29\n",
      "fizzbuzz\n",
      "31\n",
      "32\n",
      "fizz\n",
      "34\n",
      "buzz\n",
      "fizz\n",
      "37\n",
      "38\n",
      "fizz\n",
      "buzz\n",
      "41\n",
      "fizz\n",
      "43\n",
      "44\n",
      "fizzbuzz\n",
      "46\n",
      "47\n",
      "fizz\n",
      "49\n",
      "buzz\n",
      "fizz\n",
      "52\n",
      "53\n",
      "fizz\n",
      "buzz\n",
      "56\n",
      "fizz\n",
      "58\n",
      "59\n",
      "fizzbuzz\n",
      "61\n",
      "62\n",
      "fizz\n",
      "64\n",
      "buzz\n",
      "fizz\n",
      "67\n",
      "68\n",
      "fizz\n",
      "buzz\n",
      "71\n",
      "fizz\n",
      "73\n",
      "74\n",
      "fizzbuzz\n",
      "76\n",
      "77\n",
      "fizz\n",
      "79\n",
      "buzz\n",
      "fizz\n",
      "82\n",
      "83\n",
      "fizz\n",
      "buzz\n",
      "86\n",
      "fizz\n",
      "88\n",
      "89\n",
      "fizzbuzz\n",
      "91\n",
      "92\n",
      "fizz\n",
      "94\n",
      "buzz\n",
      "fizz\n",
      "97\n",
      "98\n",
      "fizz\n",
      "buzz\n"
     ]
    }
   ],
   "source": [
    "for i in range(1, 100+1):\n",
    "    if i % 15 == 0:\n",
    "        print(\"fizzbuzz\")\n",
    "    elif i % 3 == 0:\n",
    "        print(\"fizz\")\n",
    "    elif i % 5 == 0:\n",
    "        print(\"buzz\")\n",
    "    else:\n",
    "        print(i)"
   ]
  },
  {
   "cell_type": "code",
   "execution_count": 163,
   "metadata": {},
   "outputs": [
    {
     "name": "stdout",
     "output_type": "stream",
     "text": [
      "1\n",
      "2\n",
      "fizz\n",
      "4\n",
      "buzz\n",
      "fizz\n",
      "7\n",
      "8\n",
      "fizz\n",
      "buzz\n",
      "11\n",
      "fizz\n",
      "13\n",
      "14\n",
      "fizzbuzz\n"
     ]
    }
   ],
   "source": [
    "ol_list = range(1, 15+1)\n",
    "\n",
    "dd_list = []\n",
    "\n",
    "for i in range(1, 15+1):\n",
    "    if i % 3 == 0 or i % 5 == 0: \n",
    "        print(\"fizz\"*(i % 3 == 0 ) + \"buzz\"*(i % 5 == 0))\n",
    "    else:\n",
    "        print(i)"
   ]
  },
  {
   "cell_type": "code",
   "execution_count": 161,
   "metadata": {},
   "outputs": [
    {
     "data": {
      "text/plain": [
       "[1,\n",
       " 2,\n",
       " 'fizz',\n",
       " 4,\n",
       " 'buzz',\n",
       " 'fizz',\n",
       " 7,\n",
       " 8,\n",
       " 'fizz',\n",
       " 'buzz',\n",
       " 11,\n",
       " 'fizz',\n",
       " 13,\n",
       " 14,\n",
       " 'fizzbuzz',\n",
       " 16,\n",
       " 17,\n",
       " 'fizz',\n",
       " 19,\n",
       " 'buzz',\n",
       " 'fizz',\n",
       " 22,\n",
       " 23,\n",
       " 'fizz',\n",
       " 'buzz',\n",
       " 26,\n",
       " 'fizz',\n",
       " 28,\n",
       " 29,\n",
       " 'fizzbuzz',\n",
       " 31,\n",
       " 32,\n",
       " 'fizz',\n",
       " 34,\n",
       " 'buzz',\n",
       " 'fizz',\n",
       " 37,\n",
       " 38,\n",
       " 'fizz',\n",
       " 'buzz',\n",
       " 41,\n",
       " 'fizz',\n",
       " 43,\n",
       " 44,\n",
       " 'fizzbuzz',\n",
       " 46,\n",
       " 47,\n",
       " 'fizz',\n",
       " 49,\n",
       " 'buzz',\n",
       " 'fizz',\n",
       " 52,\n",
       " 53,\n",
       " 'fizz',\n",
       " 'buzz',\n",
       " 56,\n",
       " 'fizz',\n",
       " 58,\n",
       " 59,\n",
       " 'fizzbuzz',\n",
       " 61,\n",
       " 62,\n",
       " 'fizz',\n",
       " 64,\n",
       " 'buzz',\n",
       " 'fizz',\n",
       " 67,\n",
       " 68,\n",
       " 'fizz',\n",
       " 'buzz',\n",
       " 71,\n",
       " 'fizz',\n",
       " 73,\n",
       " 74,\n",
       " 'fizzbuzz',\n",
       " 76,\n",
       " 77,\n",
       " 'fizz',\n",
       " 79,\n",
       " 'buzz',\n",
       " 'fizz',\n",
       " 82,\n",
       " 83,\n",
       " 'fizz',\n",
       " 'buzz',\n",
       " 86,\n",
       " 'fizz',\n",
       " 88,\n",
       " 89,\n",
       " 'fizzbuzz',\n",
       " 91,\n",
       " 92,\n",
       " 'fizz',\n",
       " 94,\n",
       " 'buzz',\n",
       " 'fizz',\n",
       " 97,\n",
       " 98,\n",
       " 'fizz',\n",
       " 'buzz']"
      ]
     },
     "execution_count": 161,
     "metadata": {},
     "output_type": "execute_result"
    }
   ],
   "source": [
    "dd_list = [\"fizz\"*(i % 3 == 0 ) + \"buzz\"*(i % 5 == 0) or i for i in range(1, 100+1)]\n",
    "\n",
    "dd_list"
   ]
  },
  {
   "cell_type": "code",
   "execution_count": 165,
   "metadata": {},
   "outputs": [
    {
     "data": {
      "text/plain": [
       "False"
      ]
     },
     "execution_count": 165,
     "metadata": {},
     "output_type": "execute_result"
    }
   ],
   "source": [
    "1 % 3 == 0\n",
    "\n",
    "# % 모듈러스 연산자는 나누고 남은 나머지값이고, if 조건문에서 내가 준 조건이 맞으면, true, 그렇지 않으면 false 이다. \n",
    "# 그런데. 프로그래밍에서 1은 true 이다. 그래서 1 * fazz가 연산이 되어서 fazz가 튀어 나온다."
   ]
  },
  {
   "cell_type": "code",
   "execution_count": 169,
   "metadata": {},
   "outputs": [
    {
     "data": {
      "text/plain": [
       "2"
      ]
     },
     "execution_count": 169,
     "metadata": {},
     "output_type": "execute_result"
    }
   ],
   "source": [
    "a = 2 % 5\n",
    "a"
   ]
  },
  {
   "cell_type": "code",
   "execution_count": 170,
   "metadata": {},
   "outputs": [
    {
     "data": {
      "text/plain": [
       "1"
      ]
     },
     "execution_count": 170,
     "metadata": {},
     "output_type": "execute_result"
    }
   ],
   "source": [
    "b = 5 % 2\n",
    "b"
   ]
  },
  {
   "cell_type": "code",
   "execution_count": 180,
   "metadata": {},
   "outputs": [
    {
     "name": "stdout",
     "output_type": "stream",
     "text": [
      "0\n",
      "2\n"
     ]
    }
   ],
   "source": [
    "c62 = 6 % 2\n",
    "print(c62)\n",
    "c26 = 2%6\n",
    "# 굳이 나누려고 하려고 하는게, 나누기를 해서 나눈 나머지값을 보는게 중요함..! 6에서 2를 나눌수가 없으니까. 그냥 2가 나머지로 내려옴.\n",
    " \n",
    "print(c26)"
   ]
  },
  {
   "cell_type": "code",
   "execution_count": 173,
   "metadata": {},
   "outputs": [
    {
     "data": {
      "text/plain": [
       "2"
      ]
     },
     "execution_count": 173,
     "metadata": {},
     "output_type": "execute_result"
    }
   ],
   "source": [
    "d = 2 % 6\n",
    "d"
   ]
  },
  {
   "cell_type": "code",
   "execution_count": 176,
   "metadata": {},
   "outputs": [
    {
     "data": {
      "text/plain": [
       "2.5"
      ]
     },
     "execution_count": 176,
     "metadata": {},
     "output_type": "execute_result"
    }
   ],
   "source": [
    "e = 5 / 2 \n",
    "e"
   ]
  },
  {
   "cell_type": "code",
   "execution_count": 178,
   "metadata": {},
   "outputs": [
    {
     "data": {
      "text/plain": [
       "0.4"
      ]
     },
     "execution_count": 178,
     "metadata": {},
     "output_type": "execute_result"
    }
   ],
   "source": [
    "e = 2 / 5\n",
    "e"
   ]
  },
  {
   "cell_type": "code",
   "execution_count": null,
   "metadata": {
    "collapsed": true
   },
   "outputs": [],
   "source": []
  }
 ],
 "metadata": {
  "kernelspec": {
   "display_name": "Python 3",
   "language": "python",
   "name": "python3"
  },
  "language_info": {
   "codemirror_mode": {
    "name": "ipython",
    "version": 3
   },
   "file_extension": ".py",
   "mimetype": "text/x-python",
   "name": "python",
   "nbconvert_exporter": "python",
   "pygments_lexer": "ipython3",
   "version": "3.6.2"
  }
 },
 "nbformat": 4,
 "nbformat_minor": 2
}

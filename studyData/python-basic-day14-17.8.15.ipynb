{
 "cells": [
  {
   "cell_type": "code",
   "execution_count": null,
   "metadata": {
    "collapsed": true
   },
   "outputs": [],
   "source": []
  },
  {
   "cell_type": "code",
   "execution_count": 24,
   "metadata": {
    "collapsed": true
   },
   "outputs": [],
   "source": [
    "def binary_search(data, target, start, end): \n",
    "\n",
    "    \n",
    "    \n",
    "    if start > end:\n",
    "        return None\n",
    "    \n",
    "    mid = (start + end) //2\n",
    "    \n",
    "    if target == data[mid]:\n",
    "        return mid\n",
    "    elif target < data[mid]:\n",
    "        end = mid - 1\n",
    "        \n",
    "    else:\n",
    "        start = mid + 1\n",
    "    \n",
    "\n",
    "    \n",
    "    \n",
    "    \n"
   ]
  },
  {
   "cell_type": "code",
   "execution_count": 25,
   "metadata": {},
   "outputs": [
    {
     "ename": "NameError",
     "evalue": "name 'start' is not defined",
     "output_type": "error",
     "traceback": [
      "\u001b[0;31m---------------------------------------------------------------------------\u001b[0m",
      "\u001b[0;31mNameError\u001b[0m                                 Traceback (most recent call last)",
      "\u001b[0;32m<ipython-input-25-5d9f1945cf31>\u001b[0m in \u001b[0;36m<module>\u001b[0;34m()\u001b[0m\n\u001b[1;32m      2\u001b[0m \u001b[0mtarget\u001b[0m \u001b[0;34m=\u001b[0m \u001b[0;36m5\u001b[0m\u001b[0;34m\u001b[0m\u001b[0m\n\u001b[1;32m      3\u001b[0m \u001b[0;34m\u001b[0m\u001b[0m\n\u001b[0;32m----> 4\u001b[0;31m \u001b[0mb\u001b[0m \u001b[0;34m=\u001b[0m \u001b[0mbinary_search\u001b[0m\u001b[0;34m(\u001b[0m\u001b[0mdata\u001b[0m\u001b[0;34m,\u001b[0m \u001b[0mtarget\u001b[0m\u001b[0;34m,\u001b[0m \u001b[0mstart\u001b[0m\u001b[0;34m,\u001b[0m \u001b[0mend\u001b[0m\u001b[0;34m)\u001b[0m\u001b[0;34m\u001b[0m\u001b[0m\n\u001b[0m\u001b[1;32m      5\u001b[0m \u001b[0mprint\u001b[0m\u001b[0;34m(\u001b[0m\u001b[0mb\u001b[0m\u001b[0;34m)\u001b[0m\u001b[0;34m\u001b[0m\u001b[0m\n",
      "\u001b[0;31mNameError\u001b[0m: name 'start' is not defined"
     ]
    }
   ],
   "source": [
    "data = [1,2,3,4,5,6,7,8,9,10]\n",
    "target = 5\n",
    "\n",
    "b = binary_search(data, target, start, end)\n",
    "print(b)"
   ]
  },
  {
   "cell_type": "code",
   "execution_count": 14,
   "metadata": {},
   "outputs": [
    {
     "name": "stdout",
     "output_type": "stream",
     "text": [
      "5\n"
     ]
    }
   ],
   "source": []
  },
  {
   "cell_type": "code",
   "execution_count": 16,
   "metadata": {
    "collapsed": true
   },
   "outputs": [],
   "source": [
    "data = [1,2,3,4,5,6,7,8,9,10]\n",
    "\n",
    "target = 12\n",
    "\n",
    "a = binary_search(data, target)"
   ]
  },
  {
   "cell_type": "code",
   "execution_count": 17,
   "metadata": {},
   "outputs": [
    {
     "name": "stdout",
     "output_type": "stream",
     "text": [
      "5\n"
     ]
    }
   ],
   "source": [
    "print(5)"
   ]
  },
  {
   "cell_type": "code",
   "execution_count": 32,
   "metadata": {
    "collapsed": true
   },
   "outputs": [],
   "source": [
    "# n\n",
    "# 1+2 +3 +4 +5\n",
    "\n",
    "# sum_to_n(n) -> integer(sum)\n",
    "def sum_to_n(n):\n",
    "    # 탈출조건\n",
    "    # 함수 내부에 sum_to_n()\n",
    "    \n",
    "    if n == 1:\n",
    "        return 1\n",
    "    \n",
    "    return sum_to_n(n-1) + n\n",
    "\n",
    "\n",
    "# n이 계속 내려오고 나서, n 값을 1로 반환을함. 그리고 나서, n 값인 1을 반환하고, 3-1인 2 값이 계속 내려오니까. 1+2 를 더해서 n 값이 3이됨.. 아..그런식으로 계속 쌓이고 샇여서 결과가.."
   ]
  },
  {
   "cell_type": "code",
   "execution_count": 37,
   "metadata": {},
   "outputs": [
    {
     "data": {
      "text/plain": [
       "55"
      ]
     },
     "execution_count": 37,
     "metadata": {},
     "output_type": "execute_result"
    }
   ],
   "source": [
    "sum_to_n(10)\n",
    "\n",
    "# 이거 스텍프레임 쌓이는 것 한번더 확인해서 찾아보자.."
   ]
  },
  {
   "cell_type": "code",
   "execution_count": 5,
   "metadata": {
    "collapsed": true
   },
   "outputs": [],
   "source": [
    "a = LinkedList()"
   ]
  },
  {
   "cell_type": "code",
   "execution_count": 10,
   "metadata": {},
   "outputs": [],
   "source": [
    "a.append(1)"
   ]
  },
  {
   "cell_type": "code",
   "execution_count": 38,
   "metadata": {
    "collapsed": true
   },
   "outputs": [],
   "source": [
    "# ADT(abstract daty type)\n",
    "\n",
    "# 자료구조 - 저장, 탐색, 삭제\n",
    "# L.add(data) -> None)\n",
    "# L.aaa(ama,'next') - data\n",
    "\n",
    "# 자료구조 사용법에 대한 함수들의 인터페이스를 모아놓은것들"
   ]
  },
  {
   "cell_type": "code",
   "execution_count": null,
   "metadata": {},
   "outputs": [],
   "source": []
  },
  {
   "cell_type": "code",
   "execution_count": 39,
   "metadata": {
    "collapsed": true
   },
   "outputs": [],
   "source": [
    "# Data Structure \n",
    "# Single Linked List \n",
    "# 노드 -> 데이터를 담는 통..?\n",
    "\n",
    "# 저장하고 싶은 데이터, 다음 노드를 가리키는 참조\n"
   ]
  },
  {
   "cell_type": "code",
   "execution_count": null,
   "metadata": {
    "collapsed": true
   },
   "outputs": [],
   "source": []
  },
  {
   "cell_type": "code",
   "execution_count": 23,
   "metadata": {
    "collapsed": true
   },
   "outputs": [],
   "source": [
    "class Node:\n",
    "    def __init__(self, data):\n",
    "        self.data = data\n",
    "        self.next = None\n",
    "        \n",
    "    def __del__(self):\n",
    "        print('Node of {} is deleted!'.format(self.data))\n",
    "        # 이 함수를 통해서 실제로 지워지는지 확인할수 있다..\n",
    "        \n",
    "# Node 중에 Before, Current 는 탐색과.."
   ]
  },
  {
   "cell_type": "code",
   "execution_count": 24,
   "metadata": {
    "collapsed": true
   },
   "outputs": [],
   "source": [
    "class LinkedList:\n",
    "    def __init__(self):\n",
    "        self.head = None\n",
    "        self.tail = None \n",
    "        \n",
    "        self.before = None\n",
    "        self.current = None\n",
    "        \n",
    "        self.num_data = 0\n",
    "        \n",
    "        \n",
    "    def empty(self):\n",
    "        if self.num_data ==0:\n",
    "            return True\n",
    "        \n",
    "        else:\n",
    "            return False\n",
    "        \n",
    "    def size(self):\n",
    "        return self.num_data \n",
    "    \n",
    "    \n",
    "    def append(self, data):\n",
    "        new_node = Node(data)\n",
    "        \n",
    "        if self.empty():\n",
    "            self.head = new_node\n",
    "            self.tail = new_node\n",
    "            self.num_data += 1  # 데이터 개수를 늘려주는것...\n",
    "            \n",
    "        else:\n",
    "            self.tail.next = new_node\n",
    "            self.tail = new_node\n",
    "            # tail이 next에 새로운 node 를 가리키고. 마지막으로 self.tail이 new_node가 되어야함...\n",
    "            \n",
    "            self.num_data += 1\n",
    "        \n",
    "    def traverse(self, mode = 'next'):\n",
    "        \n",
    "        if self.empty():\n",
    "            return None\n",
    "        \n",
    "        \n",
    "        if mode == 'first' :\n",
    "            self.before = self.head \n",
    "            self.current = self.head \n",
    "        \n",
    "        else:\n",
    "            if self.current.next == None:\n",
    "                return None\n",
    "            self.before = self.current\n",
    "            self.current = self.current.next\n",
    "            # current 의 다음 데이터가 없다면, None 반환해!\n",
    "            \n",
    "            # self.current.next 는. append 일때 new_node = Node(data) 를 참조한다고 명령을 해놓아서. self.head.data 라는 명령어가 가능한것.\n",
    "        return self.current.data\n",
    "        # 현재 traverse를 실행했을때. current를 가리키고 있는, before가 이동하면서, 이미 반환을 한상태이다.\n",
    "        \n",
    "        \n",
    "            \n",
    "        \n",
    "        \n",
    "            # 'next' 일 경우 일때 \n",
    "        \n",
    "           #self.head = \n",
    "        \n",
    "        \n",
    "    #    return self.current.data\n",
    "        # before, current 가 맨처음에 head 를 가리키게 만들고 \n",
    "        # if mode == first:....\n",
    "        # current 이후 아무것도 없으면 return none를 한다...?\n",
    "    \n",
    "    \n",
    "    def remove(self):\n",
    "        ret_data = self.current.data\n",
    "        \n",
    "        \n",
    "        ##########################\n",
    "        \n",
    "        \n",
    "        ###########################\n",
    "        if self.num_data == 0:\n",
    "            \n",
    "            self.head = None\n",
    "            self.current = None\n",
    "            self.before = None\n",
    "            self.tail = None \n",
    "            \n",
    "        elif self.current == self.head:\n",
    "            self.head = self.head.next\n",
    "            self.current = self.head.next\n",
    "            self.before = self.head.next\n",
    "        \n",
    "        elif self.head == self.current:\n",
    "            self.head = self.head.next\n",
    "            self.current = self.current.next\n",
    "            \n",
    "        elif self.current == self.tail:\n",
    "            self.current = self.before\n",
    "            self.tail = self.before\n",
    "            \n",
    "        else:\n",
    "            self.before.next = self.current.next\n",
    "            self.current = self.before\n",
    "        #    if\n",
    "        \n",
    "        \n",
    "   \n",
    "        self.num_data -= 1\n",
    "        return ret_data\n",
    "    \n",
    "            \n",
    "        \n",
    "        \n",
    "        \n",
    "        \n",
    "        \n",
    "        \n",
    "        \n",
    "# 데이터를 insert, search, delete 를 정해야함. linked-list 의 edit 의 목록이다....\n",
    "\n",
    "# 1. insert = append(data) -> None : append 는 사실 반환이 필요없어서 None 을 반환함. : 저장 역활\n",
    "# 2. empty() -> bool -> 데이터가 비어있으면 True\n",
    "#                 -> 데이터가 비어있지 않으면 False\n",
    "# 3. 자료구조에서는 인덱싱이 안됨.(바로접근이 안됨) 찾으려는 데이터를 순회해야함(모든 데이터를 돌아야함)\n",
    "# 3.traverse(mode = 'next') : indexing을 할수 없기 떄문에 순회라는 방법을 사용해야함. - > data 반환\n",
    "# 최악의 경우에는 빅 o 는 n 만큼 나옴...(모든경우를 순회해야 하기떄문이다.)\n",
    "\n",
    "# 4. remove() -> data 반환 : 지우려는 데이터를 인자로 넣는게 아니라.. 그냥 지우려는 함수를 쓰면 데이터를 찾는다...? 음.. 이거 한번더 고민해봐야할꺼같음\n",
    "# 5. size() -> num.data : data 가 몇개 있는지 반환하게 만들꺼임\n",
    "\n",
    "\n",
    "        "
   ]
  },
  {
   "cell_type": "code",
   "execution_count": null,
   "metadata": {},
   "outputs": [
    {
     "name": "stdout",
     "output_type": "stream",
     "text": [
      "Node of 2 is deleted!\n",
      "Node of 3 is deleted!\n",
      "Node of 1 is deleted!\n",
      "Node of 5 is deleted!\n",
      "Node of 2 is deleted!\n",
      "Node of 10 is deleted!\n",
      "Node of 7 is deleted!\n",
      "Node of 2 is deleted!\n",
      "2 "
     ]
    }
   ],
   "source": [
    "a = LinkedList()\n",
    "a.append(2)\n",
    "a.append(3)\n",
    "a.append(1)\n",
    "a.append(5)\n",
    "a.append(2)\n",
    "a.append(10)\n",
    "a.append(7)\n",
    "a.append(2)\n",
    "\n",
    "data = a.traverse('first')\n",
    "while data:\n",
    "    \n",
    "    if data == 2:\n",
    "        \n",
    "    # 내가 데이터를 찾으려면 if data == 2 : 을 넣어주면됨..\n",
    "    # traverse 의 역활을 순회만 하는거고, 그걸 찾는것은 유저가 해야하는 것임..(클라이언트 코드라고함.)\n",
    "    \n",
    "        print(data, end = ' ')\n",
    "        data = a.traverse()\n",
    "\n",
    "\n"
   ]
  },
  {
   "cell_type": "code",
   "execution_count": null,
   "metadata": {},
   "outputs": [],
   "source": [
    "print(a.head.data)\n",
    "print(a.tail.data)\n",
    "print(a.current.data)\n",
    "print(a.before.data)\n",
    "print(a.current.next)\n",
    "print(a.before.next.data)"
   ]
  },
  {
   "cell_type": "code",
   "execution_count": null,
   "metadata": {},
   "outputs": [],
   "source": [
    "data = a.traverse('first')\n",
    "while data:\n",
    "    if data ==9:\n",
    "        a.remove()\n",
    "    data = a.traverse()\n",
    "    \n",
    "\n",
    "data = a.traverse('first')\n",
    "while data:\n",
    "    print(data, end = ' ')\n",
    "    data = a.traverse()"
   ]
  },
  {
   "cell_type": "code",
   "execution_count": 2,
   "metadata": {
    "scrolled": false
   },
   "outputs": [
    {
     "name": "stderr",
     "output_type": "stream",
     "text": [
      "Exception ignored in: <bound method Node.__del__ of <__main__.Node object at 0x106cd3f28>>\n",
      "Traceback (most recent call last):\n",
      "  File \"<ipython-input-1-ab38fdefb67c>\", line 7, in __del__\n",
      "AttributeError: 'Node' object has no attribute 'data'\n"
     ]
    },
    {
     "ename": "TypeError",
     "evalue": "__init__() missing 1 required positional argument: 'data'",
     "output_type": "error",
     "traceback": [
      "\u001b[0;31m---------------------------------------------------------------------------\u001b[0m",
      "\u001b[0;31mTypeError\u001b[0m                                 Traceback (most recent call last)",
      "\u001b[0;32m<ipython-input-2-9f31d06dfa2e>\u001b[0m in \u001b[0;36m<module>\u001b[0;34m()\u001b[0m\n\u001b[0;32m----> 1\u001b[0;31m \u001b[0ma\u001b[0m \u001b[0;34m=\u001b[0m \u001b[0mNode\u001b[0m\u001b[0;34m(\u001b[0m\u001b[0;34m)\u001b[0m\u001b[0;34m\u001b[0m\u001b[0m\n\u001b[0m",
      "\u001b[0;31mTypeError\u001b[0m: __init__() missing 1 required positional argument: 'data'"
     ]
    }
   ],
   "source": [
    " "
   ]
  },
  {
   "cell_type": "code",
   "execution_count": 311,
   "metadata": {
    "collapsed": true
   },
   "outputs": [],
   "source": [
    "#a.traverse('next')\n"
   ]
  },
  {
   "cell_type": "code",
   "execution_count": 240,
   "metadata": {
    "collapsed": true
   },
   "outputs": [],
   "source": [
    "\n",
    "\n",
    "# 이 명령어가 무엇을 의미하는지 찾아보자.\n",
    "\n",
    "# search(순회)\n",
    "\n",
    "# before 가 필요한 순간은 삭제할때이다.\n",
    "\n",
    "#### 궁금한점 링크드 리스크 자체가. 배열처럼 연속처럼 저장되어 있는게 아니라. \n",
    "\n",
    "\n"
   ]
  },
  {
   "cell_type": "code",
   "execution_count": null,
   "metadata": {
    "collapsed": true
   },
   "outputs": [],
   "source": []
  },
  {
   "cell_type": "code",
   "execution_count": null,
   "metadata": {
    "collapsed": true
   },
   "outputs": [],
   "source": [
    "# remove 는 currentr가 가르키는 애를 지우는거다.\n",
    "# 우리가 current를 이용시키는 시점을 우리가 정함. -> next() 함수처럼 게으른 연산을 할수 있다. \n",
    "\n",
    "# del 코드를 사용하지 않고 reference count 를 0 으로 만들어주어서 사용함.\n",
    "\n",
    "# size == 0 일때..? \n",
    "\n",
    "# 데이터가 한개는 아닌데, current 가 head 를 가리키고 있을때. before도 head 를 가리키고 있을때\n",
    "# 1. 데이터가 1개일때, current,head,befor 를 none를 가리키고 있어야함\n",
    "# 2. 데이터가 1개가 아닐때는. tail을 제외한 나머지를 모두 옮기면됨."
   ]
  },
  {
   "cell_type": "code",
   "execution_count": null,
   "metadata": {
    "collapsed": true
   },
   "outputs": [],
   "source": [
    "# before가 없다면.. 데이터를 삭제를 하고 난 이후에 "
   ]
  },
  {
   "cell_type": "code",
   "execution_count": null,
   "metadata": {
    "collapsed": true
   },
   "outputs": [],
   "source": []
  },
  {
   "cell_type": "code",
   "execution_count": 413,
   "metadata": {
    "collapsed": true
   },
   "outputs": [],
   "source": [
    "# 숙제 dummy 만들기, \n",
    "# 위치는 computerass> lecture >  data... > linked_list > dummy...."
   ]
  },
  {
   "cell_type": "code",
   "execution_count": null,
   "metadata": {
    "collapsed": true
   },
   "outputs": [],
   "source": []
  },
  {
   "cell_type": "code",
   "execution_count": null,
   "metadata": {
    "collapsed": true
   },
   "outputs": [],
   "source": []
  },
  {
   "cell_type": "code",
   "execution_count": null,
   "metadata": {
    "collapsed": true
   },
   "outputs": [],
   "source": [
    "\n"
   ]
  },
  {
   "cell_type": "code",
   "execution_count": null,
   "metadata": {
    "collapsed": true
   },
   "outputs": [],
   "source": []
  },
  {
   "cell_type": "code",
   "execution_count": null,
   "metadata": {
    "collapsed": true
   },
   "outputs": [],
   "source": []
  }
 ],
 "metadata": {
  "kernelspec": {
   "display_name": "Python 3",
   "language": "python",
   "name": "python3"
  },
  "language_info": {
   "codemirror_mode": {
    "name": "ipython",
    "version": 3
   },
   "file_extension": ".py",
   "mimetype": "text/x-python",
   "name": "python",
   "nbconvert_exporter": "python",
   "pygments_lexer": "ipython3",
   "version": "3.6.2"
  }
 },
 "nbformat": 4,
 "nbformat_minor": 2
}

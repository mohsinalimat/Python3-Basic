{
 "cells": [
  {
   "cell_type": "code",
   "execution_count": 1,
   "metadata": {
    "collapsed": true
   },
   "outputs": [],
   "source": [
    "### 양태환 강사님 시작"
   ]
  },
  {
   "cell_type": "code",
   "execution_count": null,
   "metadata": {
    "collapsed": true
   },
   "outputs": [],
   "source": []
  },
  {
   "cell_type": "code",
   "execution_count": 2,
   "metadata": {},
   "outputs": [
    {
     "name": "stdout",
     "output_type": "stream",
     "text": [
      "20\n",
      "20\n"
     ]
    }
   ],
   "source": [
    "x = 10\n",
    "\n",
    "def func():\n",
    "    global x # 이것을 선언하면 함수 안에 있는 x 의 값이 바깥에 x = 20 의 값에 영향을 미침.\n",
    "    x = 20\n",
    "    print(x)\n",
    "    \n",
    "func() # func() 함수안에 있는 x = 20 이 출력. \n",
    "print(x) # x = 10 이라는 함수의 바깥에 있는 녀석이 출력됨.\n",
    "\n"
   ]
  },
  {
   "cell_type": "code",
   "execution_count": null,
   "metadata": {
    "collapsed": true
   },
   "outputs": [],
   "source": []
  },
  {
   "cell_type": "code",
   "execution_count": 8,
   "metadata": {
    "collapsed": true
   },
   "outputs": [],
   "source": [
    "x = 1 \n",
    "\n",
    "def outer():\n",
    "    a = 10 \n",
    "    b = 20\n",
    "    def inner():\n",
    "\n",
    "        c = 30\n",
    "        d = 40\n",
    "        \n",
    "    return \n",
    "        \n",
    "\n",
    "\n",
    "\n"
   ]
  },
  {
   "cell_type": "code",
   "execution_count": 32,
   "metadata": {},
   "outputs": [
    {
     "name": "stdout",
     "output_type": "stream",
     "text": [
      "1 2 30 40\n"
     ]
    }
   ],
   "source": [
    "x = 1\n",
    "y = 2\n",
    "\n",
    "def inner():\n",
    "    c = 30\n",
    "    d = 40\n",
    "    print(x, y, c, d)\n",
    "    \n",
    "inner()    "
   ]
  },
  {
   "cell_type": "code",
   "execution_count": 69,
   "metadata": {
    "collapsed": true
   },
   "outputs": [],
   "source": [
    "#####QQQQQQQQ\n",
    "\n",
    "x = 1 \n",
    "y = 2\n",
    "\n",
    "def outer():\n",
    "    a = 10\n",
    "    b = 20\n",
    "    def inner():\n",
    "        c = 30\n",
    "        d = 40\n",
    "        print(x, y, a, b, c, d)\n",
    "    #inner() # 왜 이걸 넣으면 30, 40은 찾아지고 10, 20은 안찾아지는건지?\n",
    "    #outer() \n",
    "        \n",
    "        \n",
    "    #return inner() # QQQ 왜 이거를 넣어야지 실행이 되는걸까? 이걸 삭제하면 안되는이유!!\n",
    "    \n"
   ]
  },
  {
   "cell_type": "code",
   "execution_count": 70,
   "metadata": {},
   "outputs": [
    {
     "name": "stdout",
     "output_type": "stream",
     "text": [
      "1 2 30 40\n",
      "None\n"
     ]
    }
   ],
   "source": [
    "outer()\n",
    "print(inner())"
   ]
  },
  {
   "cell_type": "code",
   "execution_count": null,
   "metadata": {
    "collapsed": true
   },
   "outputs": [],
   "source": []
  },
  {
   "cell_type": "code",
   "execution_count": 32,
   "metadata": {},
   "outputs": [
    {
     "name": "stdout",
     "output_type": "stream",
     "text": [
      "11111111111111111111111111111111\n"
     ]
    }
   ],
   "source": [
    "#####QQQQQQQQ\n",
    "\n",
    "x = 1 \n",
    "y = 2\n",
    "\n",
    "def outer():\n",
    "    a = 10\n",
    "    b = 20\n",
    "    print(a)\n",
    "    def inner():\n",
    "        #nonlocal a # 이걸 쓰지 않아도 a 값이 변경 되는데 뭐지? # 출력해보면 a값이 inner()함수에 넣을 값으로 변경이 되어진다.\n",
    "        global x\n",
    "        a = 123\n",
    "        c = 30\n",
    "        d = 40\n",
    "        print(x, y, a, b, c, d)\n",
    "    inner()\n",
    "print(a)    "
   ]
  },
  {
   "cell_type": "code",
   "execution_count": 30,
   "metadata": {},
   "outputs": [
    {
     "name": "stdout",
     "output_type": "stream",
     "text": [
      "10\n",
      "1 2 123 20 30 40\n"
     ]
    }
   ],
   "source": [
    "outer()"
   ]
  },
  {
   "cell_type": "code",
   "execution_count": 88,
   "metadata": {
    "collapsed": true
   },
   "outputs": [],
   "source": [
    "a = 1,2,3,4,5 # 이게 패킹이다. a 변수 하나에 값들을 여러개 넣어놓음.."
   ]
  },
  {
   "cell_type": "code",
   "execution_count": 89,
   "metadata": {},
   "outputs": [
    {
     "data": {
      "text/plain": [
       "(1, 2, 3, 4, 5)"
      ]
     },
     "execution_count": 89,
     "metadata": {},
     "output_type": "execute_result"
    }
   ],
   "source": [
    "a\n"
   ]
  },
  {
   "cell_type": "code",
   "execution_count": 94,
   "metadata": {
    "collapsed": true
   },
   "outputs": [],
   "source": [
    "a = b, *c # 이건 unpacking 짐을 쫙 푸는것."
   ]
  },
  {
   "cell_type": "code",
   "execution_count": 95,
   "metadata": {},
   "outputs": [
    {
     "data": {
      "text/plain": [
       "(1, 2, 3, 4, 5)"
      ]
     },
     "execution_count": 95,
     "metadata": {},
     "output_type": "execute_result"
    }
   ],
   "source": [
    "a"
   ]
  },
  {
   "cell_type": "code",
   "execution_count": 96,
   "metadata": {},
   "outputs": [
    {
     "data": {
      "text/plain": [
       "1"
      ]
     },
     "execution_count": 96,
     "metadata": {},
     "output_type": "execute_result"
    }
   ],
   "source": [
    "b\n"
   ]
  },
  {
   "cell_type": "code",
   "execution_count": 97,
   "metadata": {},
   "outputs": [
    {
     "data": {
      "text/plain": [
       "[2, 3, 4, 5]"
      ]
     },
     "execution_count": 97,
     "metadata": {},
     "output_type": "execute_result"
    }
   ],
   "source": [
    "c"
   ]
  },
  {
   "cell_type": "code",
   "execution_count": null,
   "metadata": {
    "collapsed": true
   },
   "outputs": [],
   "source": [
    "\n"
   ]
  },
  {
   "cell_type": "code",
   "execution_count": 98,
   "metadata": {
    "collapsed": true
   },
   "outputs": [],
   "source": [
    "li = [1,2,3,4]"
   ]
  },
  {
   "cell_type": "code",
   "execution_count": 100,
   "metadata": {
    "collapsed": true
   },
   "outputs": [],
   "source": [
    "def func(*args):\n",
    "    print(args)"
   ]
  },
  {
   "cell_type": "code",
   "execution_count": 104,
   "metadata": {},
   "outputs": [
    {
     "name": "stdout",
     "output_type": "stream",
     "text": [
      "([1, 2, 3, 4],)\n"
     ]
    }
   ],
   "source": [
    "func(li) # 함수에 리스트를 넣었더니, 리스트 한개 자체가 하나의 요소가됨, 콤마 찍혀 있음\n"
   ]
  },
  {
   "cell_type": "code",
   "execution_count": 105,
   "metadata": {},
   "outputs": [
    {
     "name": "stdout",
     "output_type": "stream",
     "text": [
      "(1, 2, 3, 4)\n"
     ]
    }
   ],
   "source": [
    "func(*li) # '*' 에스터리스크를 넣고 리스트를 넣으니까, 리스트가 풀려서 튜플로 들어감"
   ]
  },
  {
   "cell_type": "code",
   "execution_count": null,
   "metadata": {
    "collapsed": true
   },
   "outputs": [],
   "source": []
  },
  {
   "cell_type": "code",
   "execution_count": null,
   "metadata": {
    "collapsed": true
   },
   "outputs": [],
   "source": []
  },
  {
   "cell_type": "code",
   "execution_count": 7,
   "metadata": {
    "collapsed": true
   },
   "outputs": [],
   "source": [
    "dic = {'a' : 1, 'b' : 2, 'c' : 3}"
   ]
  },
  {
   "cell_type": "code",
   "execution_count": 8,
   "metadata": {},
   "outputs": [
    {
     "data": {
      "text/plain": [
       "{'a': 1, 'b': 2, 'c': 3}"
      ]
     },
     "execution_count": 8,
     "metadata": {},
     "output_type": "execute_result"
    }
   ],
   "source": [
    "dic"
   ]
  },
  {
   "cell_type": "code",
   "execution_count": 9,
   "metadata": {
    "collapsed": true
   },
   "outputs": [],
   "source": [
    "a, *b = dic"
   ]
  },
  {
   "cell_type": "code",
   "execution_count": 10,
   "metadata": {},
   "outputs": [
    {
     "data": {
      "text/plain": [
       "'a'"
      ]
     },
     "execution_count": 10,
     "metadata": {},
     "output_type": "execute_result"
    }
   ],
   "source": [
    "a\n"
   ]
  },
  {
   "cell_type": "code",
   "execution_count": 11,
   "metadata": {},
   "outputs": [
    {
     "data": {
      "text/plain": [
       "['b', 'c']"
      ]
     },
     "execution_count": 11,
     "metadata": {},
     "output_type": "execute_result"
    }
   ],
   "source": [
    "b"
   ]
  },
  {
   "cell_type": "code",
   "execution_count": null,
   "metadata": {
    "collapsed": true
   },
   "outputs": [],
   "source": []
  },
  {
   "cell_type": "code",
   "execution_count": 16,
   "metadata": {
    "collapsed": true
   },
   "outputs": [],
   "source": [
    "a, *b = dic.items() # 이 딕셔너리의 "
   ]
  },
  {
   "cell_type": "code",
   "execution_count": 17,
   "metadata": {},
   "outputs": [
    {
     "data": {
      "text/plain": [
       "('a', 1)"
      ]
     },
     "execution_count": 17,
     "metadata": {},
     "output_type": "execute_result"
    }
   ],
   "source": [
    "a # 딕셔너리에 있는 값이 각각 튜플에 담긴다."
   ]
  },
  {
   "cell_type": "code",
   "execution_count": 18,
   "metadata": {},
   "outputs": [
    {
     "data": {
      "text/plain": [
       "[('b', 2), ('c', 3)]"
      ]
     },
     "execution_count": 18,
     "metadata": {},
     "output_type": "execute_result"
    }
   ],
   "source": [
    "b"
   ]
  },
  {
   "cell_type": "code",
   "execution_count": null,
   "metadata": {
    "collapsed": true
   },
   "outputs": [],
   "source": []
  },
  {
   "cell_type": "code",
   "execution_count": null,
   "metadata": {
    "collapsed": true
   },
   "outputs": [],
   "source": []
  },
  {
   "cell_type": "code",
   "execution_count": 19,
   "metadata": {
    "collapsed": true
   },
   "outputs": [],
   "source": [
    "def func(a, b):\n",
    "    a + b"
   ]
  },
  {
   "cell_type": "code",
   "execution_count": 22,
   "metadata": {},
   "outputs": [
    {
     "name": "stdout",
     "output_type": "stream",
     "text": [
      "None\n"
     ]
    }
   ],
   "source": [
    "print(func(10, 20))"
   ]
  },
  {
   "cell_type": "code",
   "execution_count": null,
   "metadata": {
    "collapsed": true
   },
   "outputs": [],
   "source": []
  },
  {
   "cell_type": "code",
   "execution_count": 23,
   "metadata": {
    "collapsed": true
   },
   "outputs": [],
   "source": [
    "# *(에스터리스크)는 가변인자라서, 함수안에 에스터리스크 썻을때 인자를 넣어도 되고, 넣지 않아도되고.. 라고 생각할수 있다."
   ]
  },
  {
   "cell_type": "code",
   "execution_count": null,
   "metadata": {
    "collapsed": true
   },
   "outputs": [],
   "source": []
  },
  {
   "cell_type": "code",
   "execution_count": null,
   "metadata": {
    "collapsed": true
   },
   "outputs": [],
   "source": []
  },
  {
   "cell_type": "code",
   "execution_count": 25,
   "metadata": {
    "collapsed": true
   },
   "outputs": [],
   "source": [
    "def func(a, *args, **kwargs):\n",
    "    pass\n",
    "\n"
   ]
  },
  {
   "cell_type": "code",
   "execution_count": 27,
   "metadata": {},
   "outputs": [
    {
     "name": "stdout",
     "output_type": "stream",
     "text": [
      "None\n"
     ]
    }
   ],
   "source": [
    "print(func(1))"
   ]
  },
  {
   "cell_type": "code",
   "execution_count": 40,
   "metadata": {
    "collapsed": true
   },
   "outputs": [],
   "source": [
    "def func(a,b):\n",
    "    a+b\n",
    "    \n",
    "    #return a+b"
   ]
  },
  {
   "cell_type": "code",
   "execution_count": 41,
   "metadata": {
    "collapsed": true
   },
   "outputs": [],
   "source": [
    "a = 0\n",
    "a = func(4,5)\n"
   ]
  },
  {
   "cell_type": "code",
   "execution_count": 44,
   "metadata": {},
   "outputs": [
    {
     "name": "stdout",
     "output_type": "stream",
     "text": [
      "None\n"
     ]
    }
   ],
   "source": [
    "print(a)\n",
    "# return 을 넣어주지 않아도 함수 값 none 반환함\n",
    "# 파이썬의 함수는 식(expreesion) 이다 4+5\n",
    "# 문은 a = 7 + 10 , 대입문, 어떤 결과값이다\n",
    "# 파이썬의 함수는 '식' 그 자체이기 떄문에 반드시 none이던 어떤 값을 반환 한다 nono은 Fasle값"
   ]
  },
  {
   "cell_type": "code",
   "execution_count": null,
   "metadata": {
    "collapsed": true
   },
   "outputs": [],
   "source": []
  },
  {
   "cell_type": "code",
   "execution_count": 45,
   "metadata": {
    "collapsed": true
   },
   "outputs": [],
   "source": [
    "def func(a, b):\n",
    "    a = 10\n",
    "    b = 5\n"
   ]
  },
  {
   "cell_type": "code",
   "execution_count": 47,
   "metadata": {},
   "outputs": [
    {
     "name": "stdout",
     "output_type": "stream",
     "text": [
      "None\n"
     ]
    }
   ],
   "source": [
    "print(func(a, b))"
   ]
  },
  {
   "cell_type": "code",
   "execution_count": null,
   "metadata": {
    "collapsed": true
   },
   "outputs": [],
   "source": []
  },
  {
   "cell_type": "code",
   "execution_count": null,
   "metadata": {
    "collapsed": true
   },
   "outputs": [],
   "source": []
  },
  {
   "cell_type": "code",
   "execution_count": null,
   "metadata": {
    "collapsed": true
   },
   "outputs": [],
   "source": []
  },
  {
   "cell_type": "code",
   "execution_count": 61,
   "metadata": {
    "collapsed": true
   },
   "outputs": [],
   "source": [
    "def f(a, b):\n",
    "    return a + b\n",
    "def g(func, a, b):\n",
    "    return func(a,b)"
   ]
  },
  {
   "cell_type": "code",
   "execution_count": null,
   "metadata": {
    "collapsed": true
   },
   "outputs": [],
   "source": []
  },
  {
   "cell_type": "code",
   "execution_count": 65,
   "metadata": {},
   "outputs": [
    {
     "data": {
      "text/plain": [
       "70"
      ]
     },
     "execution_count": 65,
     "metadata": {},
     "output_type": "execute_result"
    }
   ],
   "source": [
    "g(f, 30, 40) # 첫번째 인자로 함수안에 함수를 받았다.\n",
    "             # first class 의 첫번째 조건을 만족한다. "
   ]
  },
  {
   "cell_type": "code",
   "execution_count": null,
   "metadata": {
    "collapsed": true
   },
   "outputs": [],
   "source": []
  },
  {
   "cell_type": "code",
   "execution_count": null,
   "metadata": {
    "collapsed": true
   },
   "outputs": [],
   "source": []
  },
  {
   "cell_type": "code",
   "execution_count": 70,
   "metadata": {
    "collapsed": true
   },
   "outputs": [],
   "source": [
    "# QQQQQQ 함수를 변수에서 인자로 받을때 adder() 뒤에 괄호를 넣지 않는 이유는 뭘까? 그냥 문법인가?\n",
    "\n",
    "def adder(a, b):\n",
    "    return a+b\n",
    "\n",
    "var = adder # var 라는 변수에 함수를 넣어버렸다.\n",
    "            #"
   ]
  },
  {
   "cell_type": "code",
   "execution_count": 72,
   "metadata": {},
   "outputs": [
    {
     "data": {
      "text/plain": [
       "30"
      ]
     },
     "execution_count": 72,
     "metadata": {},
     "output_type": "execute_result"
    }
   ],
   "source": [
    "var(10,20) # 이렇게 함수가 변수로 들어가서 변수가 함수의 역활을 했다. \n",
    "           # 일급함수의 두번째 요소를 만족 시킴"
   ]
  },
  {
   "cell_type": "code",
   "execution_count": null,
   "metadata": {
    "collapsed": true
   },
   "outputs": [],
   "source": []
  },
  {
   "cell_type": "code",
   "execution_count": 12,
   "metadata": {
    "collapsed": true
   },
   "outputs": [],
   "source": [
    "# 디폹크값은 함수에의 요소에 아무것도 넣지 않으면 내가 지정해놓은 default(디폴트값)이 출력됨\n",
    "\n",
    "def calc(kind = \"add\"): # default 값은 add\n",
    "    def add(a, b):\n",
    "        return a + b\n",
    "    def sub(a,b):\n",
    "        return a - b\n",
    "    \n",
    "    if kind == 'add':\n",
    "        return add\n",
    "    elif kind == 'sub':\n",
    "        return sub\n",
    "    \n",
    "    \n",
    "# 위에 있는걸 1급 함수라고 부른다. \n",
    "# 1급 함수 조건, 함수를 인자로 받았나, 함수를 반환 했느냐, 함수를 저장했느냐\n",
    "# 함수를 인자, 저장, 반환 \n",
    "\n",
    "# 파이썬에서는 일급함수가 가능함. 안되는 언어가 있음. \n",
    "# 파이썬에서는 함수를 지울수 있음. 다른 언어에서는 파이썬을 지울수 없음. \n",
    "\n",
    "# 일급함수가 된다느 이야기는 closer가 구현이 가능하다.\n",
    "# decorate를 구현할수 있겠내..\n",
    "\n",
    "    \n"
   ]
  },
  {
   "cell_type": "code",
   "execution_count": null,
   "metadata": {
    "collapsed": true
   },
   "outputs": [],
   "source": []
  },
  {
   "cell_type": "code",
   "execution_count": 107,
   "metadata": {},
   "outputs": [
    {
     "data": {
      "text/plain": [
       "20"
      ]
     },
     "execution_count": 107,
     "metadata": {},
     "output_type": "execute_result"
    }
   ],
   "source": [
    "f(10, 10)"
   ]
  },
  {
   "cell_type": "code",
   "execution_count": 95,
   "metadata": {
    "collapsed": true
   },
   "outputs": [],
   "source": [
    "g = calc(\"sub\")"
   ]
  },
  {
   "cell_type": "code",
   "execution_count": 96,
   "metadata": {},
   "outputs": [
    {
     "data": {
      "text/plain": [
       "5"
      ]
     },
     "execution_count": 96,
     "metadata": {},
     "output_type": "execute_result"
    }
   ],
   "source": [
    "g(10, 5)"
   ]
  },
  {
   "cell_type": "code",
   "execution_count": null,
   "metadata": {
    "collapsed": true
   },
   "outputs": [],
   "source": [
    "\n"
   ]
  },
  {
   "cell_type": "code",
   "execution_count": 99,
   "metadata": {
    "collapsed": true
   },
   "outputs": [],
   "source": [
    "e = calc(\"aa\")\n"
   ]
  },
  {
   "cell_type": "code",
   "execution_count": null,
   "metadata": {
    "collapsed": true
   },
   "outputs": [],
   "source": []
  },
  {
   "cell_type": "code",
   "execution_count": 108,
   "metadata": {
    "collapsed": true
   },
   "outputs": [],
   "source": [
    "######## code object\n",
    "# 실제로 프로그래밍은 메모리에서 코드를 가져와서 cpu에서 연산을 한다.\n",
    "# 그러면 코드 자체가 메모리상에 어떻게 배치가 되어있느냐?"
   ]
  },
  {
   "cell_type": "code",
   "execution_count": null,
   "metadata": {
    "collapsed": true
   },
   "outputs": [],
   "source": []
  },
  {
   "cell_type": "code",
   "execution_count": 111,
   "metadata": {
    "collapsed": true
   },
   "outputs": [],
   "source": [
    "# 파이썬의 내부 동작과정에 관한 내용이다.\n",
    "# 파이썬에서는 모든것이 객체, 함수도 객체, \n",
    "\n",
    "# 함수 객체 = function object.\n",
    "# 코드 객체 = code object."
   ]
  },
  {
   "cell_type": "code",
   "execution_count": null,
   "metadata": {
    "collapsed": true
   },
   "outputs": [],
   "source": []
  },
  {
   "cell_type": "code",
   "execution_count": 112,
   "metadata": {
    "collapsed": true
   },
   "outputs": [],
   "source": [
    "def func(a, b):\n",
    "    return a + b"
   ]
  },
  {
   "cell_type": "code",
   "execution_count": 113,
   "metadata": {},
   "outputs": [
    {
     "data": {
      "text/plain": [
       "<function __main__.func>"
      ]
     },
     "execution_count": 113,
     "metadata": {},
     "output_type": "execute_result"
    }
   ],
   "source": [
    "func"
   ]
  },
  {
   "cell_type": "code",
   "execution_count": 114,
   "metadata": {},
   "outputs": [
    {
     "data": {
      "text/plain": [
       "['__annotations__',\n",
       " '__call__',\n",
       " '__class__',\n",
       " '__closure__',\n",
       " '__code__',\n",
       " '__defaults__',\n",
       " '__delattr__',\n",
       " '__dict__',\n",
       " '__dir__',\n",
       " '__doc__',\n",
       " '__eq__',\n",
       " '__format__',\n",
       " '__ge__',\n",
       " '__get__',\n",
       " '__getattribute__',\n",
       " '__globals__',\n",
       " '__gt__',\n",
       " '__hash__',\n",
       " '__init__',\n",
       " '__init_subclass__',\n",
       " '__kwdefaults__',\n",
       " '__le__',\n",
       " '__lt__',\n",
       " '__module__',\n",
       " '__name__',\n",
       " '__ne__',\n",
       " '__new__',\n",
       " '__qualname__',\n",
       " '__reduce__',\n",
       " '__reduce_ex__',\n",
       " '__repr__',\n",
       " '__setattr__',\n",
       " '__sizeof__',\n",
       " '__str__',\n",
       " '__subclasshook__']"
      ]
     },
     "execution_count": 114,
     "metadata": {},
     "output_type": "execute_result"
    }
   ],
   "source": [
    "dir(func) # 객체가 가지고 있는 모든 매소드, 변수, 함수들이 나옴"
   ]
  },
  {
   "cell_type": "code",
   "execution_count": 115,
   "metadata": {},
   "outputs": [
    {
     "data": {
      "text/plain": [
       "<code object func at 0x10ca5d6f0, file \"<ipython-input-112-33723f3dd93d>\", line 1>"
      ]
     },
     "execution_count": 115,
     "metadata": {},
     "output_type": "execute_result"
    }
   ],
   "source": [
    "func.__code__"
   ]
  },
  {
   "cell_type": "code",
   "execution_count": 121,
   "metadata": {},
   "outputs": [
    {
     "data": {
      "text/plain": [
       "{'In': ['',\n",
       "  \"dic = {'a' : 1, 'b' : 2, 'c' : 3}\",\n",
       "  'dic',\n",
       "  'dic = a, *b # 이렇게 하니까 key만 남긴다.',\n",
       "  'a',\n",
       "  'b',\n",
       "  'dic = a, *b # 이렇게 하니까 key만 남긴다.',\n",
       "  \"dic = {'a' : 1, 'b' : 2, 'c' : 3}\",\n",
       "  'dic',\n",
       "  'a, *b = dic',\n",
       "  'a',\n",
       "  'b',\n",
       "  'a, *b = dic.items()',\n",
       "  'a',\n",
       "  'b',\n",
       "  'a # 딕셔너리에 있는 값이 각각 튜플에 담긴다.',\n",
       "  'a, *b = dic.items() # 이 딕셔너리의 ',\n",
       "  'a # 딕셔너리에 있는 값이 각각 튜플에 담긴다.',\n",
       "  'b',\n",
       "  'def func(a, b):\\n    a + b',\n",
       "  'func(10, 20)',\n",
       "  'print(func(10, 20))',\n",
       "  'print(func(10, 20))',\n",
       "  '# *(에스터리스크)는 가변인자라서, 함수안에 에스터리스크 썻을때 인자를 넣어도 되고, 넣지 않아도되고.. 라고 생각할수 있다.',\n",
       "  'def func(a, *args, **kwargs)',\n",
       "  'def func(a, *args, **kwargs):\\n    pass',\n",
       "  'func(1)',\n",
       "  'print(func(1))',\n",
       "  'def func(a,b):\\n    return a+B',\n",
       "  'def func(a,b):\\n    return a+b',\n",
       "  'a = 0\\nfunc(4, 5)',\n",
       "  'a',\n",
       "  'a = 0\\nfunc(4, 5)',\n",
       "  'a',\n",
       "  'def func(a,b):\\n    return a+b',\n",
       "  'a = 0\\nfunc(4, 5)',\n",
       "  'a',\n",
       "  'a = 0\\nfunc(4,5)',\n",
       "  'a = 0\\na = func(4,5)',\n",
       "  'a',\n",
       "  'def func(a,b):\\n    a+b\\n    \\n    #return a+b',\n",
       "  'a = 0\\na = func(4,5)',\n",
       "  'a',\n",
       "  'print(a)',\n",
       "  \"print(a)\\n# return 을 넣어주지 않아도 함수 값 none 반환함\\n# 파이썬의 함수는 식(expreesion) 이다 4+5\\n# 문은 a = 7 + 10 , 대입문, 어떤 결과값이다\\n# 파이썬의 함수는 '식' 그 자체이기 떄문에 반드시 none이던 어떤 값을 반환 한다 nono은 Fasle값\",\n",
       "  'def func(a, b):\\n    a = 10\\n    b = 5',\n",
       "  'func(a, b)',\n",
       "  'print(func(a, b))',\n",
       "  'def f(a, b):\\n    return a + b',\n",
       "  'f(10, 20)',\n",
       "  'def f(a, b):\\n    return a + b\\ndef g(func, a, b):\\n    return func(a,b)',\n",
       "  'f(10, 20)',\n",
       "  'g(f, 30, 40)',\n",
       "  'g(f(10, 200), 30, 40)',\n",
       "  'g(f(10, 20), 30, 40)',\n",
       "  'g(f(), 30, 40)',\n",
       "  'g(f(2, 3), 30, 40)',\n",
       "  'int(g(f(2, 3), 30, 40))',\n",
       "  'g(f, 30, 40)',\n",
       "  'def f(a, b):\\n    return a + b\\ndef g(func, a, b):\\n    return func(a,b)',\n",
       "  'g(f, 30, 40)',\n",
       "  'def f(a, b):\\n    return a + b\\ndef g(func, a, b):\\n    return func(a,b)',\n",
       "  'g(f, 30, 40)',\n",
       "  'g(\"ㅁ\", 30, 40) # 첫번째 인자로 함수안에 함수를 받았다.',\n",
       "  'g(f, 30, 40) # 첫번째 인자로 함수안에 함수를 받았다.',\n",
       "  'g(f, 30, 40) # 첫번째 인자로 함수안에 함수를 받았다.\\n             # first class 의 첫번째 조건을 만족한다. ',\n",
       "  'def adder(a, b):\\n    return a+b\\n\\nvar = adder',\n",
       "  'var(10,20)',\n",
       "  'def adder(a, b):\\n    return a+b\\n\\nvar = adder() # var 라는 변수에 함수를 넣어버렸다.',\n",
       "  'def adder(a, b):\\n    return a+b\\n\\nvar = adder # var 라는 변수에 함수를 넣어버렸다.',\n",
       "  '# QQQQQQ 함수를 변수에서 인자로 받을때 adder() 뒤에 괄호를 넣지 않는 이유는 뭘까? 그냥 문법인가?\\n\\ndef adder(a, b):\\n    return a+b\\n\\nvar = adder # var 라는 변수에 함수를 넣어버렸다.\\n            #',\n",
       "  'var(10,20)',\n",
       "  'var(10,20) # 이렇게 함수가 변수로 들어가서 변수가 함수의 역활을 했다. \\n           # 일급함수의 두번째 요소를 만족 시킴',\n",
       "  '# 디폹크값은 함수에의 요소에 아무것도 넣지 않으면 내가 지정해놓은 default(디폴트값)이 출력됨',\n",
       "  \"# 디폹크값은 함수에의 요소에 아무것도 넣지 않으면 내가 지정해놓은 default(디폴트값)이 출력됨\\n\\ndef calc(kind = 'add'): # default 값은 add\",\n",
       "  \"# 디폹크값은 함수에의 요소에 아무것도 넣지 않으면 내가 지정해놓은 default(디폴트값)이 출력됨\\n\\ndef calc(kind = 'add'): # default 값은 add\\n    pass\\ncalc()\",\n",
       "  \"# 디폹크값은 함수에의 요소에 아무것도 넣지 않으면 내가 지정해놓은 default(디폴트값)이 출력됨\\n\\ndef calc(kind = 'add'): # default 값은 add\\n    pass\\nprint(calc())\",\n",
       "  \"# 디폹크값은 함수에의 요소에 아무것도 넣지 않으면 내가 지정해놓은 default(디폴트값)이 출력됨\\n\\ndef calc(kind = 'add'): # default 값은 add\\n    pass\\nprint(calc(kind))\",\n",
       "  \"# 디폹크값은 함수에의 요소에 아무것도 넣지 않으면 내가 지정해놓은 default(디폴트값)이 출력됨\\n\\ndef calc(kind = 'add'): # default 값은 add\\n    pass\",\n",
       "  'calc = a',\n",
       "  'a',\n",
       "  'print(a)',\n",
       "  '# 디폹크값은 함수에의 요소에 아무것도 넣지 않으면 내가 지정해놓은 default(디폴트값)이 출력됨\\n\\ndef calc(kind = \"add\"): # default 값은 add\\n    pass',\n",
       "  'calc = a',\n",
       "  'print(a)',\n",
       "  '# 디폹크값은 함수에의 요소에 아무것도 넣지 않으면 내가 지정해놓은 default(디폴트값)이 출력됨\\n\\ndef calc(kind = \"add\"): # default 값은 add\\n    ',\n",
       "  'calc = a',\n",
       "  '# 디폹크값은 함수에의 요소에 아무것도 넣지 않으면 내가 지정해놓은 default(디폴트값)이 출력됨\\n\\ndef calc(kind = \"add\"): # default 값은 add\\n    return \\n    ',\n",
       "  'calc = a',\n",
       "  'print(a)',\n",
       "  '# 디폹크값은 함수에의 요소에 아무것도 넣지 않으면 내가 지정해놓은 default(디폴트값)이 출력됨\\n\\ndef calc(kind = \"add\"): # default 값은 add\\n    def add(a, b):\\n        return a + b\\n    def sub(a,b):\\n        return a - b\\n    \\n    if kind == \\'add\\':\\n        return add\\n    elif kind == \\'sub\\':\\n        return sub\\n    \\n\\n\\n    ',\n",
       "  'calc(add)',\n",
       "  'calc(\"add\")',\n",
       "  'f = calc(\"add\")',\n",
       "  'f(10, 10)',\n",
       "  'g = calc(\"sub\")',\n",
       "  'g(10, 5)',\n",
       "  'e = calc(\"aa\")',\n",
       "  'e(10,10)',\n",
       "  'e = calc(\"aa\")',\n",
       "  'calc(\"add\")',\n",
       "  'dir(calc(\"add\"))',\n",
       "  'calc.__min__',\n",
       "  'calc().__min__',\n",
       "  'calc().__main__',\n",
       "  'calc.__main__',\n",
       "  \"calc('add').__main__\",\n",
       "  'f(10, 10)',\n",
       "  '######## code object\\n# 실제로 프로그래밍은 메모리에서 코드를 가져와서 cpu에서 연산을 한다.\\n# 그러면 코드 자체가 메모리상에 어떻게 배치가 되어있느냐?',\n",
       "  '# 파이썬의 내부 동작과정에 관한 내용이다.',\n",
       "  '# 파이썬의 내부 동작과정에 관한 내용이다.\\n# 파이썬에서는 모든것이 객체, 함수도 객체, \\n\\n# 함수 객체 = function object.\\n# 코드 객체 = code object.',\n",
       "  '# 파이썬의 내부 동작과정에 관한 내용이다.\\n# 파이썬에서는 모든것이 객체, 함수도 객체, \\n\\n# 함수 객체 = function object.\\n# 코드 객체 = code object.',\n",
       "  'def func(a, b):\\n    return a + b',\n",
       "  'func',\n",
       "  'dir(func) # 객체가 가지고 있는 모든 매소드, 변수, 함수들이 나옴',\n",
       "  'func.__code__',\n",
       "  'func._closure__',\n",
       "  'func.__closure__',\n",
       "  'func.__global__',\n",
       "  'func.__globals__',\n",
       "  'a = 10\\nb = 20 \\nc = 30',\n",
       "  'func.__globals__'],\n",
       " 'Out': {2: {'a': 1, 'b': 2, 'c': 3},\n",
       "  8: {'a': 1, 'b': 2, 'c': 3},\n",
       "  10: 'a',\n",
       "  11: ['b', 'c'],\n",
       "  13: ('a', 1),\n",
       "  14: [('b', 2), ('c', 3)],\n",
       "  15: ('a', 1),\n",
       "  17: ('a', 1),\n",
       "  18: [('b', 2), ('c', 3)],\n",
       "  30: 9,\n",
       "  31: 0,\n",
       "  32: 9,\n",
       "  33: 0,\n",
       "  35: 9,\n",
       "  36: 0,\n",
       "  37: 9,\n",
       "  39: 9,\n",
       "  49: 30,\n",
       "  51: 30,\n",
       "  52: 70,\n",
       "  58: 70,\n",
       "  60: 70,\n",
       "  62: 70,\n",
       "  64: 70,\n",
       "  65: 70,\n",
       "  67: 30,\n",
       "  71: 30,\n",
       "  72: 30,\n",
       "  92: <function __main__.calc.<locals>.add>,\n",
       "  94: 20,\n",
       "  96: 5,\n",
       "  100: <function __main__.calc.<locals>.add>,\n",
       "  101: ['__annotations__',\n",
       "   '__call__',\n",
       "   '__class__',\n",
       "   '__closure__',\n",
       "   '__code__',\n",
       "   '__defaults__',\n",
       "   '__delattr__',\n",
       "   '__dict__',\n",
       "   '__dir__',\n",
       "   '__doc__',\n",
       "   '__eq__',\n",
       "   '__format__',\n",
       "   '__ge__',\n",
       "   '__get__',\n",
       "   '__getattribute__',\n",
       "   '__globals__',\n",
       "   '__gt__',\n",
       "   '__hash__',\n",
       "   '__init__',\n",
       "   '__init_subclass__',\n",
       "   '__kwdefaults__',\n",
       "   '__le__',\n",
       "   '__lt__',\n",
       "   '__module__',\n",
       "   '__name__',\n",
       "   '__ne__',\n",
       "   '__new__',\n",
       "   '__qualname__',\n",
       "   '__reduce__',\n",
       "   '__reduce_ex__',\n",
       "   '__repr__',\n",
       "   '__setattr__',\n",
       "   '__sizeof__',\n",
       "   '__str__',\n",
       "   '__subclasshook__'],\n",
       "  107: 20,\n",
       "  113: <function __main__.func>,\n",
       "  114: ['__annotations__',\n",
       "   '__call__',\n",
       "   '__class__',\n",
       "   '__closure__',\n",
       "   '__code__',\n",
       "   '__defaults__',\n",
       "   '__delattr__',\n",
       "   '__dict__',\n",
       "   '__dir__',\n",
       "   '__doc__',\n",
       "   '__eq__',\n",
       "   '__format__',\n",
       "   '__ge__',\n",
       "   '__get__',\n",
       "   '__getattribute__',\n",
       "   '__globals__',\n",
       "   '__gt__',\n",
       "   '__hash__',\n",
       "   '__init__',\n",
       "   '__init_subclass__',\n",
       "   '__kwdefaults__',\n",
       "   '__le__',\n",
       "   '__lt__',\n",
       "   '__module__',\n",
       "   '__name__',\n",
       "   '__ne__',\n",
       "   '__new__',\n",
       "   '__qualname__',\n",
       "   '__reduce__',\n",
       "   '__reduce_ex__',\n",
       "   '__repr__',\n",
       "   '__setattr__',\n",
       "   '__sizeof__',\n",
       "   '__str__',\n",
       "   '__subclasshook__'],\n",
       "  115: <code object func at 0x10ca5d6f0, file \"<ipython-input-112-33723f3dd93d>\", line 1>,\n",
       "  119: {...}},\n",
       " '_': {...},\n",
       " '_10': 'a',\n",
       " '_100': <function __main__.calc.<locals>.add>,\n",
       " '_101': ['__annotations__',\n",
       "  '__call__',\n",
       "  '__class__',\n",
       "  '__closure__',\n",
       "  '__code__',\n",
       "  '__defaults__',\n",
       "  '__delattr__',\n",
       "  '__dict__',\n",
       "  '__dir__',\n",
       "  '__doc__',\n",
       "  '__eq__',\n",
       "  '__format__',\n",
       "  '__ge__',\n",
       "  '__get__',\n",
       "  '__getattribute__',\n",
       "  '__globals__',\n",
       "  '__gt__',\n",
       "  '__hash__',\n",
       "  '__init__',\n",
       "  '__init_subclass__',\n",
       "  '__kwdefaults__',\n",
       "  '__le__',\n",
       "  '__lt__',\n",
       "  '__module__',\n",
       "  '__name__',\n",
       "  '__ne__',\n",
       "  '__new__',\n",
       "  '__qualname__',\n",
       "  '__reduce__',\n",
       "  '__reduce_ex__',\n",
       "  '__repr__',\n",
       "  '__setattr__',\n",
       "  '__sizeof__',\n",
       "  '__str__',\n",
       "  '__subclasshook__'],\n",
       " '_107': 20,\n",
       " '_11': ['b', 'c'],\n",
       " '_113': <function __main__.func>,\n",
       " '_114': ['__annotations__',\n",
       "  '__call__',\n",
       "  '__class__',\n",
       "  '__closure__',\n",
       "  '__code__',\n",
       "  '__defaults__',\n",
       "  '__delattr__',\n",
       "  '__dict__',\n",
       "  '__dir__',\n",
       "  '__doc__',\n",
       "  '__eq__',\n",
       "  '__format__',\n",
       "  '__ge__',\n",
       "  '__get__',\n",
       "  '__getattribute__',\n",
       "  '__globals__',\n",
       "  '__gt__',\n",
       "  '__hash__',\n",
       "  '__init__',\n",
       "  '__init_subclass__',\n",
       "  '__kwdefaults__',\n",
       "  '__le__',\n",
       "  '__lt__',\n",
       "  '__module__',\n",
       "  '__name__',\n",
       "  '__ne__',\n",
       "  '__new__',\n",
       "  '__qualname__',\n",
       "  '__reduce__',\n",
       "  '__reduce_ex__',\n",
       "  '__repr__',\n",
       "  '__setattr__',\n",
       "  '__sizeof__',\n",
       "  '__str__',\n",
       "  '__subclasshook__'],\n",
       " '_115': <code object func at 0x10ca5d6f0, file \"<ipython-input-112-33723f3dd93d>\", line 1>,\n",
       " '_119': {...},\n",
       " '_13': ('a', 1),\n",
       " '_14': [('b', 2), ('c', 3)],\n",
       " '_15': ('a', 1),\n",
       " '_17': ('a', 1),\n",
       " '_18': [('b', 2), ('c', 3)],\n",
       " '_2': {'a': 1, 'b': 2, 'c': 3},\n",
       " '_30': 9,\n",
       " '_31': 0,\n",
       " '_32': 9,\n",
       " '_33': 0,\n",
       " '_35': 9,\n",
       " '_36': 0,\n",
       " '_37': 9,\n",
       " '_39': 9,\n",
       " '_49': 30,\n",
       " '_51': 30,\n",
       " '_52': 70,\n",
       " '_58': 70,\n",
       " '_60': 70,\n",
       " '_62': 70,\n",
       " '_64': 70,\n",
       " '_65': 70,\n",
       " '_67': 30,\n",
       " '_71': 30,\n",
       " '_72': 30,\n",
       " '_8': {'a': 1, 'b': 2, 'c': 3},\n",
       " '_92': <function __main__.calc.<locals>.add>,\n",
       " '_94': 20,\n",
       " '_96': 5,\n",
       " '__': <code object func at 0x10ca5d6f0, file \"<ipython-input-112-33723f3dd93d>\", line 1>,\n",
       " '___': ['__annotations__',\n",
       "  '__call__',\n",
       "  '__class__',\n",
       "  '__closure__',\n",
       "  '__code__',\n",
       "  '__defaults__',\n",
       "  '__delattr__',\n",
       "  '__dict__',\n",
       "  '__dir__',\n",
       "  '__doc__',\n",
       "  '__eq__',\n",
       "  '__format__',\n",
       "  '__ge__',\n",
       "  '__get__',\n",
       "  '__getattribute__',\n",
       "  '__globals__',\n",
       "  '__gt__',\n",
       "  '__hash__',\n",
       "  '__init__',\n",
       "  '__init_subclass__',\n",
       "  '__kwdefaults__',\n",
       "  '__le__',\n",
       "  '__lt__',\n",
       "  '__module__',\n",
       "  '__name__',\n",
       "  '__ne__',\n",
       "  '__new__',\n",
       "  '__qualname__',\n",
       "  '__reduce__',\n",
       "  '__reduce_ex__',\n",
       "  '__repr__',\n",
       "  '__setattr__',\n",
       "  '__sizeof__',\n",
       "  '__str__',\n",
       "  '__subclasshook__'],\n",
       " '__builtin__': <module 'builtins' (built-in)>,\n",
       " '__builtins__': <module 'builtins' (built-in)>,\n",
       " '__doc__': 'Automatically created module for IPython interactive environment',\n",
       " '__loader__': None,\n",
       " '__name__': '__main__',\n",
       " '__package__': None,\n",
       " '__spec__': None,\n",
       " '_dh': ['/Users/minjunju/Documents/css/python'],\n",
       " '_i': 'a = 10\\nb = 20 \\nc = 30',\n",
       " '_i1': \"dic = {'a' : 1, 'b' : 2, 'c' : 3}\",\n",
       " '_i10': 'a',\n",
       " '_i100': 'calc(\"add\")',\n",
       " '_i101': 'dir(calc(\"add\"))',\n",
       " '_i102': 'calc.__min__',\n",
       " '_i103': 'calc().__min__',\n",
       " '_i104': 'calc().__main__',\n",
       " '_i105': 'calc.__main__',\n",
       " '_i106': \"calc('add').__main__\",\n",
       " '_i107': 'f(10, 10)',\n",
       " '_i108': '######## code object\\n# 실제로 프로그래밍은 메모리에서 코드를 가져와서 cpu에서 연산을 한다.\\n# 그러면 코드 자체가 메모리상에 어떻게 배치가 되어있느냐?',\n",
       " '_i109': '# 파이썬의 내부 동작과정에 관한 내용이다.',\n",
       " '_i11': 'b',\n",
       " '_i110': '# 파이썬의 내부 동작과정에 관한 내용이다.\\n# 파이썬에서는 모든것이 객체, 함수도 객체, \\n\\n# 함수 객체 = function object.\\n# 코드 객체 = code object.',\n",
       " '_i111': '# 파이썬의 내부 동작과정에 관한 내용이다.\\n# 파이썬에서는 모든것이 객체, 함수도 객체, \\n\\n# 함수 객체 = function object.\\n# 코드 객체 = code object.',\n",
       " '_i112': 'def func(a, b):\\n    return a + b',\n",
       " '_i113': 'func',\n",
       " '_i114': 'dir(func) # 객체가 가지고 있는 모든 매소드, 변수, 함수들이 나옴',\n",
       " '_i115': 'func.__code__',\n",
       " '_i116': 'func._closure__',\n",
       " '_i117': 'func.__closure__',\n",
       " '_i118': 'func.__global__',\n",
       " '_i119': 'func.__globals__',\n",
       " '_i12': 'a, *b = dic.items()',\n",
       " '_i120': 'a = 10\\nb = 20 \\nc = 30',\n",
       " '_i121': 'func.__globals__',\n",
       " '_i13': 'a',\n",
       " '_i14': 'b',\n",
       " '_i15': 'a # 딕셔너리에 있는 값이 각각 튜플에 담긴다.',\n",
       " '_i16': 'a, *b = dic.items() # 이 딕셔너리의 ',\n",
       " '_i17': 'a # 딕셔너리에 있는 값이 각각 튜플에 담긴다.',\n",
       " '_i18': 'b',\n",
       " '_i19': 'def func(a, b):\\n    a + b',\n",
       " '_i2': 'dic',\n",
       " '_i20': 'func(10, 20)',\n",
       " '_i21': 'print(func(10, 20))',\n",
       " '_i22': 'print(func(10, 20))',\n",
       " '_i23': '# *(에스터리스크)는 가변인자라서, 함수안에 에스터리스크 썻을때 인자를 넣어도 되고, 넣지 않아도되고.. 라고 생각할수 있다.',\n",
       " '_i24': 'def func(a, *args, **kwargs)',\n",
       " '_i25': 'def func(a, *args, **kwargs):\\n    pass',\n",
       " '_i26': 'func(1)',\n",
       " '_i27': 'print(func(1))',\n",
       " '_i28': 'def func(a,b):\\n    return a+B',\n",
       " '_i29': 'def func(a,b):\\n    return a+b',\n",
       " '_i3': 'dic = a, *b # 이렇게 하니까 key만 남긴다.',\n",
       " '_i30': 'a = 0\\nfunc(4, 5)',\n",
       " '_i31': 'a',\n",
       " '_i32': 'a = 0\\nfunc(4, 5)',\n",
       " '_i33': 'a',\n",
       " '_i34': 'def func(a,b):\\n    return a+b',\n",
       " '_i35': 'a = 0\\nfunc(4, 5)',\n",
       " '_i36': 'a',\n",
       " '_i37': 'a = 0\\nfunc(4,5)',\n",
       " '_i38': 'a = 0\\na = func(4,5)',\n",
       " '_i39': 'a',\n",
       " '_i4': 'a',\n",
       " '_i40': 'def func(a,b):\\n    a+b\\n    \\n    #return a+b',\n",
       " '_i41': 'a = 0\\na = func(4,5)',\n",
       " '_i42': 'a',\n",
       " '_i43': 'print(a)',\n",
       " '_i44': \"print(a)\\n# return 을 넣어주지 않아도 함수 값 none 반환함\\n# 파이썬의 함수는 식(expreesion) 이다 4+5\\n# 문은 a = 7 + 10 , 대입문, 어떤 결과값이다\\n# 파이썬의 함수는 '식' 그 자체이기 떄문에 반드시 none이던 어떤 값을 반환 한다 nono은 Fasle값\",\n",
       " '_i45': 'def func(a, b):\\n    a = 10\\n    b = 5',\n",
       " '_i46': 'func(a, b)',\n",
       " '_i47': 'print(func(a, b))',\n",
       " '_i48': 'def f(a, b):\\n    return a + b',\n",
       " '_i49': 'f(10, 20)',\n",
       " '_i5': 'b',\n",
       " '_i50': 'def f(a, b):\\n    return a + b\\ndef g(func, a, b):\\n    return func(a,b)',\n",
       " '_i51': 'f(10, 20)',\n",
       " '_i52': 'g(f, 30, 40)',\n",
       " '_i53': 'g(f(10, 200), 30, 40)',\n",
       " '_i54': 'g(f(10, 20), 30, 40)',\n",
       " '_i55': 'g(f(), 30, 40)',\n",
       " '_i56': 'g(f(2, 3), 30, 40)',\n",
       " '_i57': 'int(g(f(2, 3), 30, 40))',\n",
       " '_i58': 'g(f, 30, 40)',\n",
       " '_i59': 'def f(a, b):\\n    return a + b\\ndef g(func, a, b):\\n    return func(a,b)',\n",
       " '_i6': 'dic = a, *b # 이렇게 하니까 key만 남긴다.',\n",
       " '_i60': 'g(f, 30, 40)',\n",
       " '_i61': 'def f(a, b):\\n    return a + b\\ndef g(func, a, b):\\n    return func(a,b)',\n",
       " '_i62': 'g(f, 30, 40)',\n",
       " '_i63': 'g(\"ㅁ\", 30, 40) # 첫번째 인자로 함수안에 함수를 받았다.',\n",
       " '_i64': 'g(f, 30, 40) # 첫번째 인자로 함수안에 함수를 받았다.',\n",
       " '_i65': 'g(f, 30, 40) # 첫번째 인자로 함수안에 함수를 받았다.\\n             # first class 의 첫번째 조건을 만족한다. ',\n",
       " '_i66': 'def adder(a, b):\\n    return a+b\\n\\nvar = adder',\n",
       " '_i67': 'var(10,20)',\n",
       " '_i68': 'def adder(a, b):\\n    return a+b\\n\\nvar = adder() # var 라는 변수에 함수를 넣어버렸다.',\n",
       " '_i69': 'def adder(a, b):\\n    return a+b\\n\\nvar = adder # var 라는 변수에 함수를 넣어버렸다.',\n",
       " '_i7': \"dic = {'a' : 1, 'b' : 2, 'c' : 3}\",\n",
       " '_i70': '# QQQQQQ 함수를 변수에서 인자로 받을때 adder() 뒤에 괄호를 넣지 않는 이유는 뭘까? 그냥 문법인가?\\n\\ndef adder(a, b):\\n    return a+b\\n\\nvar = adder # var 라는 변수에 함수를 넣어버렸다.\\n            #',\n",
       " '_i71': 'var(10,20)',\n",
       " '_i72': 'var(10,20) # 이렇게 함수가 변수로 들어가서 변수가 함수의 역활을 했다. \\n           # 일급함수의 두번째 요소를 만족 시킴',\n",
       " '_i73': '# 디폹크값은 함수에의 요소에 아무것도 넣지 않으면 내가 지정해놓은 default(디폴트값)이 출력됨',\n",
       " '_i74': \"# 디폹크값은 함수에의 요소에 아무것도 넣지 않으면 내가 지정해놓은 default(디폴트값)이 출력됨\\n\\ndef calc(kind = 'add'): # default 값은 add\",\n",
       " '_i75': \"# 디폹크값은 함수에의 요소에 아무것도 넣지 않으면 내가 지정해놓은 default(디폴트값)이 출력됨\\n\\ndef calc(kind = 'add'): # default 값은 add\\n    pass\\ncalc()\",\n",
       " '_i76': \"# 디폹크값은 함수에의 요소에 아무것도 넣지 않으면 내가 지정해놓은 default(디폴트값)이 출력됨\\n\\ndef calc(kind = 'add'): # default 값은 add\\n    pass\\nprint(calc())\",\n",
       " '_i77': \"# 디폹크값은 함수에의 요소에 아무것도 넣지 않으면 내가 지정해놓은 default(디폴트값)이 출력됨\\n\\ndef calc(kind = 'add'): # default 값은 add\\n    pass\\nprint(calc(kind))\",\n",
       " '_i78': \"# 디폹크값은 함수에의 요소에 아무것도 넣지 않으면 내가 지정해놓은 default(디폴트값)이 출력됨\\n\\ndef calc(kind = 'add'): # default 값은 add\\n    pass\",\n",
       " '_i79': 'calc = a',\n",
       " '_i8': 'dic',\n",
       " '_i80': 'a',\n",
       " '_i81': 'print(a)',\n",
       " '_i82': '# 디폹크값은 함수에의 요소에 아무것도 넣지 않으면 내가 지정해놓은 default(디폴트값)이 출력됨\\n\\ndef calc(kind = \"add\"): # default 값은 add\\n    pass',\n",
       " '_i83': 'calc = a',\n",
       " '_i84': 'print(a)',\n",
       " '_i85': '# 디폹크값은 함수에의 요소에 아무것도 넣지 않으면 내가 지정해놓은 default(디폴트값)이 출력됨\\n\\ndef calc(kind = \"add\"): # default 값은 add\\n    ',\n",
       " '_i86': 'calc = a',\n",
       " '_i87': '# 디폹크값은 함수에의 요소에 아무것도 넣지 않으면 내가 지정해놓은 default(디폴트값)이 출력됨\\n\\ndef calc(kind = \"add\"): # default 값은 add\\n    return \\n    ',\n",
       " '_i88': 'calc = a',\n",
       " '_i89': 'print(a)',\n",
       " '_i9': 'a, *b = dic',\n",
       " '_i90': '# 디폹크값은 함수에의 요소에 아무것도 넣지 않으면 내가 지정해놓은 default(디폴트값)이 출력됨\\n\\ndef calc(kind = \"add\"): # default 값은 add\\n    def add(a, b):\\n        return a + b\\n    def sub(a,b):\\n        return a - b\\n    \\n    if kind == \\'add\\':\\n        return add\\n    elif kind == \\'sub\\':\\n        return sub\\n    \\n\\n\\n    ',\n",
       " '_i91': 'calc(add)',\n",
       " '_i92': 'calc(\"add\")',\n",
       " '_i93': 'f = calc(\"add\")',\n",
       " '_i94': 'f(10, 10)',\n",
       " '_i95': 'g = calc(\"sub\")',\n",
       " '_i96': 'g(10, 5)',\n",
       " '_i97': 'e = calc(\"aa\")',\n",
       " '_i98': 'e(10,10)',\n",
       " '_i99': 'e = calc(\"aa\")',\n",
       " '_ih': ['',\n",
       "  \"dic = {'a' : 1, 'b' : 2, 'c' : 3}\",\n",
       "  'dic',\n",
       "  'dic = a, *b # 이렇게 하니까 key만 남긴다.',\n",
       "  'a',\n",
       "  'b',\n",
       "  'dic = a, *b # 이렇게 하니까 key만 남긴다.',\n",
       "  \"dic = {'a' : 1, 'b' : 2, 'c' : 3}\",\n",
       "  'dic',\n",
       "  'a, *b = dic',\n",
       "  'a',\n",
       "  'b',\n",
       "  'a, *b = dic.items()',\n",
       "  'a',\n",
       "  'b',\n",
       "  'a # 딕셔너리에 있는 값이 각각 튜플에 담긴다.',\n",
       "  'a, *b = dic.items() # 이 딕셔너리의 ',\n",
       "  'a # 딕셔너리에 있는 값이 각각 튜플에 담긴다.',\n",
       "  'b',\n",
       "  'def func(a, b):\\n    a + b',\n",
       "  'func(10, 20)',\n",
       "  'print(func(10, 20))',\n",
       "  'print(func(10, 20))',\n",
       "  '# *(에스터리스크)는 가변인자라서, 함수안에 에스터리스크 썻을때 인자를 넣어도 되고, 넣지 않아도되고.. 라고 생각할수 있다.',\n",
       "  'def func(a, *args, **kwargs)',\n",
       "  'def func(a, *args, **kwargs):\\n    pass',\n",
       "  'func(1)',\n",
       "  'print(func(1))',\n",
       "  'def func(a,b):\\n    return a+B',\n",
       "  'def func(a,b):\\n    return a+b',\n",
       "  'a = 0\\nfunc(4, 5)',\n",
       "  'a',\n",
       "  'a = 0\\nfunc(4, 5)',\n",
       "  'a',\n",
       "  'def func(a,b):\\n    return a+b',\n",
       "  'a = 0\\nfunc(4, 5)',\n",
       "  'a',\n",
       "  'a = 0\\nfunc(4,5)',\n",
       "  'a = 0\\na = func(4,5)',\n",
       "  'a',\n",
       "  'def func(a,b):\\n    a+b\\n    \\n    #return a+b',\n",
       "  'a = 0\\na = func(4,5)',\n",
       "  'a',\n",
       "  'print(a)',\n",
       "  \"print(a)\\n# return 을 넣어주지 않아도 함수 값 none 반환함\\n# 파이썬의 함수는 식(expreesion) 이다 4+5\\n# 문은 a = 7 + 10 , 대입문, 어떤 결과값이다\\n# 파이썬의 함수는 '식' 그 자체이기 떄문에 반드시 none이던 어떤 값을 반환 한다 nono은 Fasle값\",\n",
       "  'def func(a, b):\\n    a = 10\\n    b = 5',\n",
       "  'func(a, b)',\n",
       "  'print(func(a, b))',\n",
       "  'def f(a, b):\\n    return a + b',\n",
       "  'f(10, 20)',\n",
       "  'def f(a, b):\\n    return a + b\\ndef g(func, a, b):\\n    return func(a,b)',\n",
       "  'f(10, 20)',\n",
       "  'g(f, 30, 40)',\n",
       "  'g(f(10, 200), 30, 40)',\n",
       "  'g(f(10, 20), 30, 40)',\n",
       "  'g(f(), 30, 40)',\n",
       "  'g(f(2, 3), 30, 40)',\n",
       "  'int(g(f(2, 3), 30, 40))',\n",
       "  'g(f, 30, 40)',\n",
       "  'def f(a, b):\\n    return a + b\\ndef g(func, a, b):\\n    return func(a,b)',\n",
       "  'g(f, 30, 40)',\n",
       "  'def f(a, b):\\n    return a + b\\ndef g(func, a, b):\\n    return func(a,b)',\n",
       "  'g(f, 30, 40)',\n",
       "  'g(\"ㅁ\", 30, 40) # 첫번째 인자로 함수안에 함수를 받았다.',\n",
       "  'g(f, 30, 40) # 첫번째 인자로 함수안에 함수를 받았다.',\n",
       "  'g(f, 30, 40) # 첫번째 인자로 함수안에 함수를 받았다.\\n             # first class 의 첫번째 조건을 만족한다. ',\n",
       "  'def adder(a, b):\\n    return a+b\\n\\nvar = adder',\n",
       "  'var(10,20)',\n",
       "  'def adder(a, b):\\n    return a+b\\n\\nvar = adder() # var 라는 변수에 함수를 넣어버렸다.',\n",
       "  'def adder(a, b):\\n    return a+b\\n\\nvar = adder # var 라는 변수에 함수를 넣어버렸다.',\n",
       "  '# QQQQQQ 함수를 변수에서 인자로 받을때 adder() 뒤에 괄호를 넣지 않는 이유는 뭘까? 그냥 문법인가?\\n\\ndef adder(a, b):\\n    return a+b\\n\\nvar = adder # var 라는 변수에 함수를 넣어버렸다.\\n            #',\n",
       "  'var(10,20)',\n",
       "  'var(10,20) # 이렇게 함수가 변수로 들어가서 변수가 함수의 역활을 했다. \\n           # 일급함수의 두번째 요소를 만족 시킴',\n",
       "  '# 디폹크값은 함수에의 요소에 아무것도 넣지 않으면 내가 지정해놓은 default(디폴트값)이 출력됨',\n",
       "  \"# 디폹크값은 함수에의 요소에 아무것도 넣지 않으면 내가 지정해놓은 default(디폴트값)이 출력됨\\n\\ndef calc(kind = 'add'): # default 값은 add\",\n",
       "  \"# 디폹크값은 함수에의 요소에 아무것도 넣지 않으면 내가 지정해놓은 default(디폴트값)이 출력됨\\n\\ndef calc(kind = 'add'): # default 값은 add\\n    pass\\ncalc()\",\n",
       "  \"# 디폹크값은 함수에의 요소에 아무것도 넣지 않으면 내가 지정해놓은 default(디폴트값)이 출력됨\\n\\ndef calc(kind = 'add'): # default 값은 add\\n    pass\\nprint(calc())\",\n",
       "  \"# 디폹크값은 함수에의 요소에 아무것도 넣지 않으면 내가 지정해놓은 default(디폴트값)이 출력됨\\n\\ndef calc(kind = 'add'): # default 값은 add\\n    pass\\nprint(calc(kind))\",\n",
       "  \"# 디폹크값은 함수에의 요소에 아무것도 넣지 않으면 내가 지정해놓은 default(디폴트값)이 출력됨\\n\\ndef calc(kind = 'add'): # default 값은 add\\n    pass\",\n",
       "  'calc = a',\n",
       "  'a',\n",
       "  'print(a)',\n",
       "  '# 디폹크값은 함수에의 요소에 아무것도 넣지 않으면 내가 지정해놓은 default(디폴트값)이 출력됨\\n\\ndef calc(kind = \"add\"): # default 값은 add\\n    pass',\n",
       "  'calc = a',\n",
       "  'print(a)',\n",
       "  '# 디폹크값은 함수에의 요소에 아무것도 넣지 않으면 내가 지정해놓은 default(디폴트값)이 출력됨\\n\\ndef calc(kind = \"add\"): # default 값은 add\\n    ',\n",
       "  'calc = a',\n",
       "  '# 디폹크값은 함수에의 요소에 아무것도 넣지 않으면 내가 지정해놓은 default(디폴트값)이 출력됨\\n\\ndef calc(kind = \"add\"): # default 값은 add\\n    return \\n    ',\n",
       "  'calc = a',\n",
       "  'print(a)',\n",
       "  '# 디폹크값은 함수에의 요소에 아무것도 넣지 않으면 내가 지정해놓은 default(디폴트값)이 출력됨\\n\\ndef calc(kind = \"add\"): # default 값은 add\\n    def add(a, b):\\n        return a + b\\n    def sub(a,b):\\n        return a - b\\n    \\n    if kind == \\'add\\':\\n        return add\\n    elif kind == \\'sub\\':\\n        return sub\\n    \\n\\n\\n    ',\n",
       "  'calc(add)',\n",
       "  'calc(\"add\")',\n",
       "  'f = calc(\"add\")',\n",
       "  'f(10, 10)',\n",
       "  'g = calc(\"sub\")',\n",
       "  'g(10, 5)',\n",
       "  'e = calc(\"aa\")',\n",
       "  'e(10,10)',\n",
       "  'e = calc(\"aa\")',\n",
       "  'calc(\"add\")',\n",
       "  'dir(calc(\"add\"))',\n",
       "  'calc.__min__',\n",
       "  'calc().__min__',\n",
       "  'calc().__main__',\n",
       "  'calc.__main__',\n",
       "  \"calc('add').__main__\",\n",
       "  'f(10, 10)',\n",
       "  '######## code object\\n# 실제로 프로그래밍은 메모리에서 코드를 가져와서 cpu에서 연산을 한다.\\n# 그러면 코드 자체가 메모리상에 어떻게 배치가 되어있느냐?',\n",
       "  '# 파이썬의 내부 동작과정에 관한 내용이다.',\n",
       "  '# 파이썬의 내부 동작과정에 관한 내용이다.\\n# 파이썬에서는 모든것이 객체, 함수도 객체, \\n\\n# 함수 객체 = function object.\\n# 코드 객체 = code object.',\n",
       "  '# 파이썬의 내부 동작과정에 관한 내용이다.\\n# 파이썬에서는 모든것이 객체, 함수도 객체, \\n\\n# 함수 객체 = function object.\\n# 코드 객체 = code object.',\n",
       "  'def func(a, b):\\n    return a + b',\n",
       "  'func',\n",
       "  'dir(func) # 객체가 가지고 있는 모든 매소드, 변수, 함수들이 나옴',\n",
       "  'func.__code__',\n",
       "  'func._closure__',\n",
       "  'func.__closure__',\n",
       "  'func.__global__',\n",
       "  'func.__globals__',\n",
       "  'a = 10\\nb = 20 \\nc = 30',\n",
       "  'func.__globals__'],\n",
       " '_ii': 'func.__globals__',\n",
       " '_iii': 'func.__global__',\n",
       " '_oh': {2: {'a': 1, 'b': 2, 'c': 3},\n",
       "  8: {'a': 1, 'b': 2, 'c': 3},\n",
       "  10: 'a',\n",
       "  11: ['b', 'c'],\n",
       "  13: ('a', 1),\n",
       "  14: [('b', 2), ('c', 3)],\n",
       "  15: ('a', 1),\n",
       "  17: ('a', 1),\n",
       "  18: [('b', 2), ('c', 3)],\n",
       "  30: 9,\n",
       "  31: 0,\n",
       "  32: 9,\n",
       "  33: 0,\n",
       "  35: 9,\n",
       "  36: 0,\n",
       "  37: 9,\n",
       "  39: 9,\n",
       "  49: 30,\n",
       "  51: 30,\n",
       "  52: 70,\n",
       "  58: 70,\n",
       "  60: 70,\n",
       "  62: 70,\n",
       "  64: 70,\n",
       "  65: 70,\n",
       "  67: 30,\n",
       "  71: 30,\n",
       "  72: 30,\n",
       "  92: <function __main__.calc.<locals>.add>,\n",
       "  94: 20,\n",
       "  96: 5,\n",
       "  100: <function __main__.calc.<locals>.add>,\n",
       "  101: ['__annotations__',\n",
       "   '__call__',\n",
       "   '__class__',\n",
       "   '__closure__',\n",
       "   '__code__',\n",
       "   '__defaults__',\n",
       "   '__delattr__',\n",
       "   '__dict__',\n",
       "   '__dir__',\n",
       "   '__doc__',\n",
       "   '__eq__',\n",
       "   '__format__',\n",
       "   '__ge__',\n",
       "   '__get__',\n",
       "   '__getattribute__',\n",
       "   '__globals__',\n",
       "   '__gt__',\n",
       "   '__hash__',\n",
       "   '__init__',\n",
       "   '__init_subclass__',\n",
       "   '__kwdefaults__',\n",
       "   '__le__',\n",
       "   '__lt__',\n",
       "   '__module__',\n",
       "   '__name__',\n",
       "   '__ne__',\n",
       "   '__new__',\n",
       "   '__qualname__',\n",
       "   '__reduce__',\n",
       "   '__reduce_ex__',\n",
       "   '__repr__',\n",
       "   '__setattr__',\n",
       "   '__sizeof__',\n",
       "   '__str__',\n",
       "   '__subclasshook__'],\n",
       "  107: 20,\n",
       "  113: <function __main__.func>,\n",
       "  114: ['__annotations__',\n",
       "   '__call__',\n",
       "   '__class__',\n",
       "   '__closure__',\n",
       "   '__code__',\n",
       "   '__defaults__',\n",
       "   '__delattr__',\n",
       "   '__dict__',\n",
       "   '__dir__',\n",
       "   '__doc__',\n",
       "   '__eq__',\n",
       "   '__format__',\n",
       "   '__ge__',\n",
       "   '__get__',\n",
       "   '__getattribute__',\n",
       "   '__globals__',\n",
       "   '__gt__',\n",
       "   '__hash__',\n",
       "   '__init__',\n",
       "   '__init_subclass__',\n",
       "   '__kwdefaults__',\n",
       "   '__le__',\n",
       "   '__lt__',\n",
       "   '__module__',\n",
       "   '__name__',\n",
       "   '__ne__',\n",
       "   '__new__',\n",
       "   '__qualname__',\n",
       "   '__reduce__',\n",
       "   '__reduce_ex__',\n",
       "   '__repr__',\n",
       "   '__setattr__',\n",
       "   '__sizeof__',\n",
       "   '__str__',\n",
       "   '__subclasshook__'],\n",
       "  115: <code object func at 0x10ca5d6f0, file \"<ipython-input-112-33723f3dd93d>\", line 1>,\n",
       "  119: {...}},\n",
       " 'a': 10,\n",
       " 'adder': <function __main__.adder>,\n",
       " 'b': 20,\n",
       " 'c': 30,\n",
       " 'calc': <function __main__.calc>,\n",
       " 'dic': {'a': 1, 'b': 2, 'c': 3},\n",
       " 'e': None,\n",
       " 'exit': <IPython.core.autocall.ZMQExitAutocall at 0x10c9217b8>,\n",
       " 'f': <function __main__.calc.<locals>.add>,\n",
       " 'func': <function __main__.func>,\n",
       " 'g': <function __main__.calc.<locals>.sub>,\n",
       " 'get_ipython': <bound method InteractiveShell.get_ipython of <ipykernel.zmqshell.ZMQInteractiveShell object at 0x10ae32ef0>>,\n",
       " 'quit': <IPython.core.autocall.ZMQExitAutocall at 0x10c9217b8>,\n",
       " 'var': <function __main__.adder>}"
      ]
     },
     "execution_count": 121,
     "metadata": {},
     "output_type": "execute_result"
    }
   ],
   "source": [
    "func.__globals__"
   ]
  },
  {
   "cell_type": "code",
   "execution_count": 120,
   "metadata": {
    "collapsed": true
   },
   "outputs": [],
   "source": [
    "a = 10\n",
    "b = 20 \n",
    "c = 30"
   ]
  },
  {
   "cell_type": "code",
   "execution_count": 124,
   "metadata": {},
   "outputs": [
    {
     "data": {
      "text/plain": [
       "10"
      ]
     },
     "execution_count": 124,
     "metadata": {},
     "output_type": "execute_result"
    }
   ],
   "source": [
    "f.__globals__['a'] # 우리가 넣은 모든 변수나 매소드들의 리소스들을 globals가 가지고 있다.\n",
    "                   # 이런식으로 찾을수 있음.. 오..."
   ]
  },
  {
   "cell_type": "code",
   "execution_count": null,
   "metadata": {
    "collapsed": true
   },
   "outputs": [],
   "source": []
  },
  {
   "cell_type": "code",
   "execution_count": 125,
   "metadata": {
    "collapsed": true
   },
   "outputs": [],
   "source": [
    "def func():\n",
    "    print(a)"
   ]
  },
  {
   "cell_type": "code",
   "execution_count": 128,
   "metadata": {},
   "outputs": [
    {
     "data": {
      "text/plain": [
       "10"
      ]
     },
     "execution_count": 128,
     "metadata": {},
     "output_type": "execute_result"
    }
   ],
   "source": [
    "a # 저 함수의 a가 글로벌스 안에 들어 있기 떄문에. a가 10 이 출력이됨\n",
    "  # 저 함수를 실행하는 순간 함수 내에 있는 지역변수를 찾아보고, 없으면 전역변수를 찾아서 출력함 \n",
    "  # 그렇게 때문에. 함수에서 글로벌스에 접근할수 있는것이다."
   ]
  },
  {
   "cell_type": "code",
   "execution_count": null,
   "metadata": {
    "collapsed": true
   },
   "outputs": [],
   "source": []
  },
  {
   "cell_type": "code",
   "execution_count": null,
   "metadata": {
    "collapsed": true
   },
   "outputs": [],
   "source": []
  },
  {
   "cell_type": "code",
   "execution_count": 129,
   "metadata": {
    "collapsed": true
   },
   "outputs": [],
   "source": [
    "code = func.__code__"
   ]
  },
  {
   "cell_type": "code",
   "execution_count": 131,
   "metadata": {},
   "outputs": [
    {
     "data": {
      "text/plain": [
       "<code object func at 0x10ca5db70, file \"<ipython-input-125-975907b82c6b>\", line 1>"
      ]
     },
     "execution_count": 131,
     "metadata": {},
     "output_type": "execute_result"
    }
   ],
   "source": [
    "code # 함수를 정의하면 01010로 바뀌어서 저장되어 있는건데, 그것이 여기있다.\n"
   ]
  },
  {
   "cell_type": "code",
   "execution_count": 136,
   "metadata": {},
   "outputs": [
    {
     "data": {
      "text/plain": [
       "b't\\x00t\\x01\\x83\\x01\\x01\\x00d\\x00S\\x00'"
      ]
     },
     "execution_count": 136,
     "metadata": {},
     "output_type": "execute_result"
    }
   ],
   "source": [
    "code.co_code # 01010로 묶여있는 코드다. 함수가 이 코드 오브젝트를 가지고 있고, 코드 오브젝트가 01010로 된 정의를 가지고 있다\n",
    "\n",
    "             # 이런식의 코드로 들어가 있다는 얘기인거같은데, 이거 나중에 해석 하는 방법 찾아보자"
   ]
  },
  {
   "cell_type": "code",
   "execution_count": null,
   "metadata": {
    "collapsed": true
   },
   "outputs": [],
   "source": []
  },
  {
   "cell_type": "code",
   "execution_count": 139,
   "metadata": {
    "collapsed": true
   },
   "outputs": [],
   "source": [
    "# 함수를 선언하면 첫번째로 함수는 globals(나보다 위에 영역에 있는 변수), code object(코드 오브젝트를)\n",
    "# 이 두가지를 알아야 클로져를 알수있고, 클로져를 알아야 데코레이터를 알수 있다."
   ]
  },
  {
   "cell_type": "code",
   "execution_count": 141,
   "metadata": {
    "collapsed": true
   },
   "outputs": [],
   "source": [
    "def f(a, b):\n",
    "    return a + b\n",
    "def g(c, d):\n",
    "    return c + d"
   ]
  },
  {
   "cell_type": "code",
   "execution_count": 142,
   "metadata": {},
   "outputs": [
    {
     "data": {
      "text/plain": [
       "False"
      ]
     },
     "execution_count": 142,
     "metadata": {},
     "output_type": "execute_result"
    }
   ],
   "source": [
    "f == g"
   ]
  },
  {
   "cell_type": "code",
   "execution_count": 144,
   "metadata": {
    "collapsed": true
   },
   "outputs": [],
   "source": [
    "code1 = f.__code__"
   ]
  },
  {
   "cell_type": "code",
   "execution_count": 145,
   "metadata": {},
   "outputs": [
    {
     "data": {
      "text/plain": [
       "<code object f at 0x10ca5d8a0, file \"<ipython-input-141-748c32e1cc55>\", line 1>"
      ]
     },
     "execution_count": 145,
     "metadata": {},
     "output_type": "execute_result"
    }
   ],
   "source": [
    "code1"
   ]
  },
  {
   "cell_type": "code",
   "execution_count": 146,
   "metadata": {
    "collapsed": true
   },
   "outputs": [],
   "source": [
    "code2 =g.__code__"
   ]
  },
  {
   "cell_type": "code",
   "execution_count": 147,
   "metadata": {},
   "outputs": [
    {
     "data": {
      "text/plain": [
       "<code object g at 0x10c96e150, file \"<ipython-input-141-748c32e1cc55>\", line 3>"
      ]
     },
     "execution_count": 147,
     "metadata": {},
     "output_type": "execute_result"
    }
   ],
   "source": [
    "code2"
   ]
  },
  {
   "cell_type": "code",
   "execution_count": 149,
   "metadata": {},
   "outputs": [
    {
     "data": {
      "text/plain": [
       "False"
      ]
     },
     "execution_count": 149,
     "metadata": {},
     "output_type": "execute_result"
    }
   ],
   "source": [
    "code1 == code2"
   ]
  },
  {
   "cell_type": "code",
   "execution_count": null,
   "metadata": {
    "collapsed": true
   },
   "outputs": [],
   "source": []
  },
  {
   "cell_type": "code",
   "execution_count": 152,
   "metadata": {},
   "outputs": [
    {
     "data": {
      "text/plain": [
       "b'|\\x00|\\x01\\x17\\x00S\\x00'"
      ]
     },
     "execution_count": 152,
     "metadata": {},
     "output_type": "execute_result"
    }
   ],
   "source": [
    "code1.co_code"
   ]
  },
  {
   "cell_type": "code",
   "execution_count": 153,
   "metadata": {},
   "outputs": [
    {
     "data": {
      "text/plain": [
       "b'|\\x00|\\x01\\x17\\x00S\\x00'"
      ]
     },
     "execution_count": 153,
     "metadata": {},
     "output_type": "execute_result"
    }
   ],
   "source": [
    "code2.co_code"
   ]
  },
  {
   "cell_type": "code",
   "execution_count": 154,
   "metadata": {},
   "outputs": [
    {
     "data": {
      "text/plain": [
       "True"
      ]
     },
     "execution_count": 154,
     "metadata": {},
     "output_type": "execute_result"
    }
   ],
   "source": [
    "code1.co_code == code2.co_code"
   ]
  },
  {
   "cell_type": "code",
   "execution_count": 155,
   "metadata": {
    "collapsed": true
   },
   "outputs": [],
   "source": [
    "#### 두개의 코드는 같다..! 오..신기방기"
   ]
  },
  {
   "cell_type": "code",
   "execution_count": null,
   "metadata": {
    "collapsed": true
   },
   "outputs": [],
   "source": []
  },
  {
   "cell_type": "code",
   "execution_count": 185,
   "metadata": {
    "collapsed": true
   },
   "outputs": [],
   "source": [
    "###QQQQQQQ 함수 안에 함수를 넣는 구조적인것이 잘 이해가 되지 않음.. return 에는 왜 m, name 을 넣고, 왜 마지막 return 에는 add 함수를 넣는지.. 이거 질문해보자.\n",
    "\n",
    "def account(m, name):\n",
    "    def add(money):\n",
    "        nonlocal m\n",
    "        m += money\n",
    "        return m, name\n",
    "    return add"
   ]
  },
  {
   "cell_type": "code",
   "execution_count": 186,
   "metadata": {
    "collapsed": true
   },
   "outputs": [],
   "source": [
    "my = account(1000, 'min')\n",
    "you = account(-500, 'jun')\n",
    "# 둘은 다른 free variable를 가지고 있음 'm' !"
   ]
  },
  {
   "cell_type": "code",
   "execution_count": 187,
   "metadata": {},
   "outputs": [
    {
     "name": "stdout",
     "output_type": "stream",
     "text": [
      "<function account.<locals>.add at 0x10caaeae8>\n",
      "<function account.<locals>.add at 0x10caae6a8>\n"
     ]
    }
   ],
   "source": [
    "print(my)\n",
    "print(you)\n",
    "  # function object가 되었다. \n",
    "  # function object 는 globals, code object를 가지고 있다."
   ]
  },
  {
   "cell_type": "code",
   "execution_count": null,
   "metadata": {
    "collapsed": true
   },
   "outputs": [],
   "source": []
  },
  {
   "cell_type": "code",
   "execution_count": 188,
   "metadata": {},
   "outputs": [
    {
     "data": {
      "text/plain": [
       "False"
      ]
     },
     "execution_count": 188,
     "metadata": {},
     "output_type": "execute_result"
    }
   ],
   "source": [
    "my == you\n",
    "# 둘은 다름\n"
   ]
  },
  {
   "cell_type": "code",
   "execution_count": 189,
   "metadata": {},
   "outputs": [
    {
     "data": {
      "text/plain": [
       "<code object add at 0x10cac06f0, file \"<ipython-input-185-9acc654cad90>\", line 2>"
      ]
     },
     "execution_count": 189,
     "metadata": {},
     "output_type": "execute_result"
    }
   ],
   "source": [
    "my.__code__"
   ]
  },
  {
   "cell_type": "code",
   "execution_count": 190,
   "metadata": {},
   "outputs": [
    {
     "data": {
      "text/plain": [
       "<code object add at 0x10cac06f0, file \"<ipython-input-185-9acc654cad90>\", line 2>"
      ]
     },
     "execution_count": 190,
     "metadata": {},
     "output_type": "execute_result"
    }
   ],
   "source": [
    "you.__code__"
   ]
  },
  {
   "cell_type": "code",
   "execution_count": 191,
   "metadata": {},
   "outputs": [
    {
     "data": {
      "text/plain": [
       "True"
      ]
     },
     "execution_count": 191,
     "metadata": {},
     "output_type": "execute_result"
    }
   ],
   "source": [
    "my.__code__ == you.__code__\n",
    "\n",
    "# 제일 처음에 함수를 받을때 다른 free vraiable를 가지고 있음..?"
   ]
  },
  {
   "cell_type": "code",
   "execution_count": null,
   "metadata": {
    "collapsed": true
   },
   "outputs": [],
   "source": []
  },
  {
   "cell_type": "code",
   "execution_count": 194,
   "metadata": {},
   "outputs": [
    {
     "name": "stdout",
     "output_type": "stream",
     "text": [
      "(1900, 'min')\n",
      "(500, 'jun')\n"
     ]
    }
   ],
   "source": [
    "print(my(300))\n",
    "print(you(500))\n",
    "# my 라는 함수는 함수의 정보도 가지고 있고, 내부 정보도 가지고 있다로 이해할수 있다.)"
   ]
  },
  {
   "cell_type": "code",
   "execution_count": null,
   "metadata": {
    "collapsed": true
   },
   "outputs": [],
   "source": []
  },
  {
   "cell_type": "code",
   "execution_count": 195,
   "metadata": {},
   "outputs": [
    {
     "data": {
      "text/plain": [
       "1900"
      ]
     },
     "execution_count": 195,
     "metadata": {},
     "output_type": "execute_result"
    }
   ],
   "source": [
    "my.__closure__[0].cell_contents"
   ]
  },
  {
   "cell_type": "code",
   "execution_count": 197,
   "metadata": {},
   "outputs": [
    {
     "data": {
      "text/plain": [
       "'min'"
      ]
     },
     "execution_count": 197,
     "metadata": {},
     "output_type": "execute_result"
    }
   ],
   "source": [
    "my.__closure__[1].cell_contents"
   ]
  },
  {
   "cell_type": "code",
   "execution_count": null,
   "metadata": {
    "collapsed": true
   },
   "outputs": [],
   "source": []
  },
  {
   "cell_type": "code",
   "execution_count": 198,
   "metadata": {},
   "outputs": [
    {
     "data": {
      "text/plain": [
       "500"
      ]
     },
     "execution_count": 198,
     "metadata": {},
     "output_type": "execute_result"
    }
   ],
   "source": [
    "you.__closure__[0].cell_contents"
   ]
  },
  {
   "cell_type": "code",
   "execution_count": 200,
   "metadata": {},
   "outputs": [
    {
     "data": {
      "text/plain": [
       "'jun'"
      ]
     },
     "execution_count": 200,
     "metadata": {},
     "output_type": "execute_result"
    }
   ],
   "source": [
    "you.__closure__[1].cell_contents\n",
    "\n",
    "# 함수인데 내부 정보를 가지고 있다. 이것이 clouser 이다."
   ]
  },
  {
   "cell_type": "code",
   "execution_count": 201,
   "metadata": {
    "collapsed": true
   },
   "outputs": [],
   "source": [
    "code = my.__code__"
   ]
  },
  {
   "cell_type": "code",
   "execution_count": 202,
   "metadata": {},
   "outputs": [
    {
     "data": {
      "text/plain": [
       "<code object add at 0x10cac06f0, file \"<ipython-input-185-9acc654cad90>\", line 2>"
      ]
     },
     "execution_count": 202,
     "metadata": {},
     "output_type": "execute_result"
    }
   ],
   "source": [
    "code"
   ]
  },
  {
   "cell_type": "code",
   "execution_count": 204,
   "metadata": {},
   "outputs": [
    {
     "data": {
      "text/plain": [
       "('m', 'name')"
      ]
     },
     "execution_count": 204,
     "metadata": {},
     "output_type": "execute_result"
    }
   ],
   "source": [
    "code.co_freevars \n",
    "# free variable은 m과 name 이다."
   ]
  },
  {
   "cell_type": "code",
   "execution_count": 205,
   "metadata": {
    "collapsed": true
   },
   "outputs": [],
   "source": [
    "code1 = you.__code__"
   ]
  },
  {
   "cell_type": "code",
   "execution_count": 206,
   "metadata": {},
   "outputs": [
    {
     "data": {
      "text/plain": [
       "('m', 'name')"
      ]
     },
     "execution_count": 206,
     "metadata": {},
     "output_type": "execute_result"
    }
   ],
   "source": [
    "code1.co_freevars"
   ]
  },
  {
   "cell_type": "code",
   "execution_count": 208,
   "metadata": {},
   "outputs": [
    {
     "data": {
      "text/plain": [
       "True"
      ]
     },
     "execution_count": 208,
     "metadata": {},
     "output_type": "execute_result"
    }
   ],
   "source": [
    "code == code1\n",
    "# 두개의 freevars은 갔다.\n",
    "# 함수가 내부정보를 가지고 있다.\n",
    "# 함수가 내부정보를 가지고 있다 내부정보 = 변수 = 변수도 데이터, 데이터는 변수..."
   ]
  },
  {
   "cell_type": "code",
   "execution_count": null,
   "metadata": {
    "collapsed": true
   },
   "outputs": [],
   "source": []
  },
  {
   "cell_type": "code",
   "execution_count": 213,
   "metadata": {},
   "outputs": [
    {
     "data": {
      "text/plain": [
       "('money',)"
      ]
     },
     "execution_count": 213,
     "metadata": {},
     "output_type": "execute_result"
    }
   ],
   "source": [
    "code.co_varnames\n",
    "\n",
    "# code의 지역변수를 확인할수 있음. money"
   ]
  },
  {
   "cell_type": "code",
   "execution_count": 214,
   "metadata": {},
   "outputs": [
    {
     "data": {
      "text/plain": [
       "('money',)"
      ]
     },
     "execution_count": 214,
     "metadata": {},
     "output_type": "execute_result"
    }
   ],
   "source": [
    "code1.co_varnames"
   ]
  },
  {
   "cell_type": "code",
   "execution_count": 217,
   "metadata": {},
   "outputs": [
    {
     "data": {
      "text/plain": [
       "(<cell at 0x10cac51c8: int object at 0x10cacc470>,\n",
       " <cell at 0x10cac5348: str object at 0x10ab9c960>)"
      ]
     },
     "execution_count": 217,
     "metadata": {},
     "output_type": "execute_result"
    }
   ],
   "source": [
    "my.__closure__ # 튜플로 묶여있다. 맨 윗줄만 뺴올수 있음"
   ]
  },
  {
   "cell_type": "code",
   "execution_count": 219,
   "metadata": {},
   "outputs": [
    {
     "data": {
      "text/plain": [
       "<cell at 0x10cac51c8: int object at 0x10cacc470>"
      ]
     },
     "execution_count": 219,
     "metadata": {},
     "output_type": "execute_result"
    }
   ],
   "source": [
    "my.__closure__[0] # 튜플에서 0 번째 index를 뺴온거다."
   ]
  },
  {
   "cell_type": "code",
   "execution_count": 220,
   "metadata": {},
   "outputs": [
    {
     "data": {
      "text/plain": [
       "['__class__',\n",
       " '__delattr__',\n",
       " '__dir__',\n",
       " '__doc__',\n",
       " '__eq__',\n",
       " '__format__',\n",
       " '__ge__',\n",
       " '__getattribute__',\n",
       " '__gt__',\n",
       " '__hash__',\n",
       " '__init__',\n",
       " '__init_subclass__',\n",
       " '__le__',\n",
       " '__lt__',\n",
       " '__ne__',\n",
       " '__new__',\n",
       " '__reduce__',\n",
       " '__reduce_ex__',\n",
       " '__repr__',\n",
       " '__setattr__',\n",
       " '__sizeof__',\n",
       " '__str__',\n",
       " '__subclasshook__',\n",
       " 'cell_contents']"
      ]
     },
     "execution_count": 220,
     "metadata": {},
     "output_type": "execute_result"
    }
   ],
   "source": [
    "dir(my.__closure__[0])"
   ]
  },
  {
   "cell_type": "code",
   "execution_count": 222,
   "metadata": {},
   "outputs": [
    {
     "data": {
      "text/plain": [
       "1900"
      ]
     },
     "execution_count": 222,
     "metadata": {},
     "output_type": "execute_result"
    }
   ],
   "source": [
    "my.__closure__[0].cell_contents # 0 번째의 cell contents를 찾아볼수 있음.\n",
    "                                # closure함수가 데이터 내에 '1900' 이라는 데이터를 가지고 있음\n"
   ]
  },
  {
   "cell_type": "code",
   "execution_count": 224,
   "metadata": {
    "collapsed": true
   },
   "outputs": [],
   "source": [
    "# closure 는 함수인데, \n",
    "# __closure__ : 튜플로 데이터가 구성되어 있음.\n",
    "# __closure__[0].cell_contents\n",
    "\n",
    "# 파이썬이 예약해놓은 내장 함수 or 내장 변수"
   ]
  },
  {
   "cell_type": "code",
   "execution_count": null,
   "metadata": {
    "collapsed": true
   },
   "outputs": [],
   "source": []
  },
  {
   "cell_type": "code",
   "execution_count": null,
   "metadata": {
    "collapsed": true
   },
   "outputs": [],
   "source": []
  },
  {
   "cell_type": "code",
   "execution_count": 226,
   "metadata": {
    "collapsed": true
   },
   "outputs": [],
   "source": [
    "# lambda 함수\n",
    "# lambda, map, filter, reduce 를 알아야함\n"
   ]
  },
  {
   "cell_type": "code",
   "execution_count": null,
   "metadata": {
    "collapsed": true
   },
   "outputs": [],
   "source": []
  },
  {
   "cell_type": "code",
   "execution_count": 227,
   "metadata": {
    "collapsed": true
   },
   "outputs": [],
   "source": [
    "def add(a, b):\n",
    "    return a+b"
   ]
  },
  {
   "cell_type": "code",
   "execution_count": 243,
   "metadata": {},
   "outputs": [
    {
     "data": {
      "text/plain": [
       "<function __main__.<lambda>>"
      ]
     },
     "execution_count": 243,
     "metadata": {},
     "output_type": "execute_result"
    }
   ],
   "source": [
    "lambda a, b: a+b # 람다는 이름이 없는함수, lambda를 보면 이름이 아니라 키워드 이다. 이것은 lambda를 사용하기 위한 문법\n",
    "                 # 람다는 return이 없음. 이유는 lambda는 무조건 return을 함 \n",
    "                 # 이렇게 해두면, 한번 사용되고 날라간다.\n",
    "# lambda 가 되었다는의미"
   ]
  },
  {
   "cell_type": "code",
   "execution_count": null,
   "metadata": {
    "collapsed": true
   },
   "outputs": [],
   "source": []
  },
  {
   "cell_type": "code",
   "execution_count": 244,
   "metadata": {
    "collapsed": true
   },
   "outputs": [],
   "source": [
    "f = lambda a, b: a+ b"
   ]
  },
  {
   "cell_type": "code",
   "execution_count": 245,
   "metadata": {},
   "outputs": [
    {
     "data": {
      "text/plain": [
       "7"
      ]
     },
     "execution_count": 245,
     "metadata": {},
     "output_type": "execute_result"
    }
   ],
   "source": [
    "f(2, 5) # 이렇게 하면 lambda 함수를 변수로 받을수 있음."
   ]
  },
  {
   "cell_type": "code",
   "execution_count": 246,
   "metadata": {
    "collapsed": true
   },
   "outputs": [],
   "source": [
    "# lambda 가 안될떄\n",
    "\n",
    "def func(a, b):\n",
    "    c = a + b"
   ]
  },
  {
   "cell_type": "code",
   "execution_count": 247,
   "metadata": {},
   "outputs": [
    {
     "name": "stdout",
     "output_type": "stream",
     "text": [
      "30\n"
     ]
    }
   ],
   "source": [
    "func(10,20)\n",
    "print(c)"
   ]
  },
  {
   "cell_type": "code",
   "execution_count": null,
   "metadata": {
    "collapsed": true
   },
   "outputs": [],
   "source": [
    "\n"
   ]
  },
  {
   "cell_type": "code",
   "execution_count": 248,
   "metadata": {},
   "outputs": [
    {
     "ename": "SyntaxError",
     "evalue": "can't assign to lambda (<ipython-input-248-e8032322a48d>, line 1)",
     "output_type": "error",
     "traceback": [
      "\u001b[0;36m  File \u001b[0;32m\"<ipython-input-248-e8032322a48d>\"\u001b[0;36m, line \u001b[0;32m1\u001b[0m\n\u001b[0;31m    lambda a, b: c = a + b\u001b[0m\n\u001b[0m                          ^\u001b[0m\n\u001b[0;31mSyntaxError\u001b[0m\u001b[0;31m:\u001b[0m can't assign to lambda\n"
     ]
    }
   ],
   "source": [
    "lambda a, b: c = a + b\n",
    "# 람다는 대입문은 안됨. 식 만됨.\n",
    "# 식과 문의 정의는 언어마다 조금 다르다. 파이썬에서는 함수가 식으로 들어감.\n",
    "# a+b 는 식이다. c = a + b 대입을 하면 c가 a+b를 받아먹음. 반환하지 않음. \n",
    "# 반환하지 않는것을 문이라고 생각하고. 반환하는것은 식으로 생각해라"
   ]
  },
  {
   "cell_type": "code",
   "execution_count": null,
   "metadata": {
    "collapsed": true
   },
   "outputs": [],
   "source": []
  },
  {
   "cell_type": "code",
   "execution_count": null,
   "metadata": {
    "collapsed": true
   },
   "outputs": [],
   "source": []
  },
  {
   "cell_type": "code",
   "execution_count": null,
   "metadata": {
    "collapsed": true
   },
   "outputs": [],
   "source": []
  },
  {
   "cell_type": "code",
   "execution_count": 249,
   "metadata": {
    "collapsed": true
   },
   "outputs": [],
   "source": [
    "### lambda의 사용 예제."
   ]
  },
  {
   "cell_type": "code",
   "execution_count": 256,
   "metadata": {
    "collapsed": true
   },
   "outputs": [],
   "source": [
    "li = [3,6,2,1]\n",
    "li.sort()"
   ]
  },
  {
   "cell_type": "code",
   "execution_count": 257,
   "metadata": {},
   "outputs": [
    {
     "data": {
      "text/plain": [
       "[1, 2, 3, 6]"
      ]
     },
     "execution_count": 257,
     "metadata": {},
     "output_type": "execute_result"
    }
   ],
   "source": [
    "li"
   ]
  },
  {
   "cell_type": "code",
   "execution_count": 258,
   "metadata": {
    "collapsed": true
   },
   "outputs": [],
   "source": [
    "li = [i for i in range(1,101)] # list comphersion"
   ]
  },
  {
   "cell_type": "code",
   "execution_count": 277,
   "metadata": {},
   "outputs": [
    {
     "name": "stdout",
     "output_type": "stream",
     "text": [
      "[1, 2, 3, 4, 5, 6, 7, 8, 9, 10, 11, 12, 13, 14, 15, 16, 17, 18, 19, 20, 21, 22, 23, 24, 25, 26, 27, 28, 29, 30, 31, 32, 33, 34, 35, 36, 37, 38, 39, 40, 41, 42, 43, 44, 45, 46, 47, 48, 49, 50, 51, 52, 53, 54, 55, 56, 57, 58, 59, 60, 61, 62, 63, 64, 65, 66, 67, 68, 69, 70, 71, 72, 73, 74, 75, 76, 77, 78, 79, 80, 81, 82, 83, 84, 85, 86, 87, 88, 89, 90, 91, 92, 93, 94, 95, 96, 97, 98, 99, 100]\n"
     ]
    }
   ],
   "source": [
    "print(li)"
   ]
  },
  {
   "cell_type": "code",
   "execution_count": 272,
   "metadata": {},
   "outputs": [
    {
     "name": "stdout",
     "output_type": "stream",
     "text": [
      "Help on NoneType object:\n",
      "\n",
      "class NoneType(object)\n",
      " |  Methods defined here:\n",
      " |  \n",
      " |  __bool__(self, /)\n",
      " |      self != 0\n",
      " |  \n",
      " |  __new__(*args, **kwargs) from builtins.type\n",
      " |      Create and return a new object.  See help(type) for accurate signature.\n",
      " |  \n",
      " |  __repr__(self, /)\n",
      " |      Return repr(self).\n",
      "\n"
     ]
    }
   ],
   "source": [
    "help(li.sort())"
   ]
  },
  {
   "cell_type": "code",
   "execution_count": 275,
   "metadata": {
    "collapsed": true
   },
   "outputs": [],
   "source": [
    "def pred(a):\n",
    "    return a % 2 ==0\n"
   ]
  },
  {
   "cell_type": "code",
   "execution_count": 284,
   "metadata": {},
   "outputs": [
    {
     "name": "stdout",
     "output_type": "stream",
     "text": [
      "[1, 2, 3, 4, 5, 6, 7, 8, 9, 10, 11, 12, 13, 14, 15, 16, 17, 18, 19, 20, 21, 22, 23, 24, 25, 26, 27, 28, 29, 30, 31, 32, 33, 34, 35, 36, 37, 38, 39, 40, 41, 42, 43, 44, 45, 46, 47, 48, 49, 50, 51, 52, 53, 54, 55, 56, 57, 58, 59, 60, 61, 62, 63, 64, 65, 66, 67, 68, 69, 70, 71, 72, 73, 74, 75, 76, 77, 78, 79, 80, 81, 82, 83, 84, 85, 86, 87, 88, 89, 90, 91, 92, 93, 94, 95, 96, 97, 98, 99, 100]\n"
     ]
    }
   ],
   "source": [
    "print(li)"
   ]
  },
  {
   "cell_type": "code",
   "execution_count": 285,
   "metadata": {},
   "outputs": [
    {
     "data": {
      "text/plain": [
       "[1,\n",
       " 2,\n",
       " 3,\n",
       " 4,\n",
       " 5,\n",
       " 6,\n",
       " 7,\n",
       " 8,\n",
       " 9,\n",
       " 10,\n",
       " 11,\n",
       " 12,\n",
       " 13,\n",
       " 14,\n",
       " 15,\n",
       " 16,\n",
       " 17,\n",
       " 18,\n",
       " 19,\n",
       " 20,\n",
       " 21,\n",
       " 22,\n",
       " 23,\n",
       " 24,\n",
       " 25,\n",
       " 26,\n",
       " 27,\n",
       " 28,\n",
       " 29,\n",
       " 30,\n",
       " 31,\n",
       " 32,\n",
       " 33,\n",
       " 34,\n",
       " 35,\n",
       " 36,\n",
       " 37,\n",
       " 38,\n",
       " 39,\n",
       " 40,\n",
       " 41,\n",
       " 42,\n",
       " 43,\n",
       " 44,\n",
       " 45,\n",
       " 46,\n",
       " 47,\n",
       " 48,\n",
       " 49,\n",
       " 50,\n",
       " 51,\n",
       " 52,\n",
       " 53,\n",
       " 54,\n",
       " 55,\n",
       " 56,\n",
       " 57,\n",
       " 58,\n",
       " 59,\n",
       " 60,\n",
       " 61,\n",
       " 62,\n",
       " 63,\n",
       " 64,\n",
       " 65,\n",
       " 66,\n",
       " 67,\n",
       " 68,\n",
       " 69,\n",
       " 70,\n",
       " 71,\n",
       " 72,\n",
       " 73,\n",
       " 74,\n",
       " 75,\n",
       " 76,\n",
       " 77,\n",
       " 78,\n",
       " 79,\n",
       " 80,\n",
       " 81,\n",
       " 82,\n",
       " 83,\n",
       " 84,\n",
       " 85,\n",
       " 86,\n",
       " 87,\n",
       " 88,\n",
       " 89,\n",
       " 90,\n",
       " 91,\n",
       " 92,\n",
       " 93,\n",
       " 94,\n",
       " 95,\n",
       " 96,\n",
       " 97,\n",
       " 98,\n",
       " 99,\n",
       " 100]"
      ]
     },
     "execution_count": 285,
     "metadata": {},
     "output_type": "execute_result"
    }
   ],
   "source": [
    "li"
   ]
  },
  {
   "cell_type": "code",
   "execution_count": 287,
   "metadata": {
    "collapsed": true
   },
   "outputs": [],
   "source": [
    "li.sort()"
   ]
  },
  {
   "cell_type": "code",
   "execution_count": 289,
   "metadata": {},
   "outputs": [
    {
     "name": "stdout",
     "output_type": "stream",
     "text": [
      "[1, 2, 3, 4, 5, 6, 7, 8, 9, 10, 11, 12, 13, 14, 15, 16, 17, 18, 19, 20, 21, 22, 23, 24, 25, 26, 27, 28, 29, 30, 31, 32, 33, 34, 35, 36, 37, 38, 39, 40, 41, 42, 43, 44, 45, 46, 47, 48, 49, 50, 51, 52, 53, 54, 55, 56, 57, 58, 59, 60, 61, 62, 63, 64, 65, 66, 67, 68, 69, 70, 71, 72, 73, 74, 75, 76, 77, 78, 79, 80, 81, 82, 83, 84, 85, 86, 87, 88, 89, 90, 91, 92, 93, 94, 95, 96, 97, 98, 99, 100]\n"
     ]
    }
   ],
   "source": [
    "print(li)"
   ]
  },
  {
   "cell_type": "code",
   "execution_count": 292,
   "metadata": {
    "collapsed": true
   },
   "outputs": [],
   "source": [
    "li.sort(key = pred) # pred 라는 함수를 key로 받았음..?"
   ]
  },
  {
   "cell_type": "code",
   "execution_count": 294,
   "metadata": {},
   "outputs": [
    {
     "name": "stdout",
     "output_type": "stream",
     "text": [
      "[1, 3, 5, 7, 9, 11, 13, 15, 17, 19, 21, 23, 25, 27, 29, 31, 33, 35, 37, 39, 41, 43, 45, 47, 49, 51, 53, 55, 57, 59, 61, 63, 65, 67, 69, 71, 73, 75, 77, 79, 81, 83, 85, 87, 89, 91, 93, 95, 97, 99, 2, 4, 6, 8, 10, 12, 14, 16, 18, 20, 22, 24, 26, 28, 30, 32, 34, 36, 38, 40, 42, 44, 46, 48, 50, 52, 54, 56, 58, 60, 62, 64, 66, 68, 70, 72, 74, 76, 78, 80, 82, 84, 86, 88, 90, 92, 94, 96, 98, 100]\n"
     ]
    }
   ],
   "source": [
    "print(li) # 짝수는 앞으로, 홀수는 뒤로 쭈욱.\n",
    "          # pred 함수를 사용할떄 마다 이렇게 하는것은 불합리."
   ]
  },
  {
   "cell_type": "code",
   "execution_count": 297,
   "metadata": {
    "collapsed": true
   },
   "outputs": [],
   "source": [
    "li.sort(key = lambda a: a%2 ==0) # 이렇게 람수를 쉽게 사용할수있다.\n",
    "                                 # 람다를 이렇게 쓰면 여러번 일반함수를 정의 하는것보다 쉽게 사용할수 있따."
   ]
  },
  {
   "cell_type": "code",
   "execution_count": 298,
   "metadata": {},
   "outputs": [
    {
     "name": "stdout",
     "output_type": "stream",
     "text": [
      "[1, 3, 5, 7, 9, 11, 13, 15, 17, 19, 21, 23, 25, 27, 29, 31, 33, 35, 37, 39, 41, 43, 45, 47, 49, 51, 53, 55, 57, 59, 61, 63, 65, 67, 69, 71, 73, 75, 77, 79, 81, 83, 85, 87, 89, 91, 93, 95, 97, 99, 2, 4, 6, 8, 10, 12, 14, 16, 18, 20, 22, 24, 26, 28, 30, 32, 34, 36, 38, 40, 42, 44, 46, 48, 50, 52, 54, 56, 58, 60, 62, 64, 66, 68, 70, 72, 74, 76, 78, 80, 82, 84, 86, 88, 90, 92, 94, 96, 98, 100]\n"
     ]
    }
   ],
   "source": [
    "print(li)"
   ]
  },
  {
   "cell_type": "code",
   "execution_count": null,
   "metadata": {
    "collapsed": true
   },
   "outputs": [],
   "source": []
  },
  {
   "cell_type": "code",
   "execution_count": 299,
   "metadata": {
    "collapsed": true
   },
   "outputs": [],
   "source": [
    "# sort() 를 하면 기존의 리스트가 바뀜. 내가 하고싶은것은 기존의 리스트를 살리면서, 새롭게 리스트를 생성하는 방법"
   ]
  },
  {
   "cell_type": "code",
   "execution_count": null,
   "metadata": {
    "collapsed": true
   },
   "outputs": [],
   "source": []
  },
  {
   "cell_type": "code",
   "execution_count": 300,
   "metadata": {
    "collapsed": true
   },
   "outputs": [],
   "source": [
    "li = [1,3,2,5]"
   ]
  },
  {
   "cell_type": "code",
   "execution_count": 301,
   "metadata": {
    "collapsed": true
   },
   "outputs": [],
   "source": [
    "li2 = sorted(li) \n",
    "     # 정렬된 리스트를 새롭게 정렬하고, li2로 새로 만듬."
   ]
  },
  {
   "cell_type": "code",
   "execution_count": 302,
   "metadata": {},
   "outputs": [
    {
     "name": "stdout",
     "output_type": "stream",
     "text": [
      "[1, 3, 2, 5]\n",
      "[1, 2, 3, 5]\n"
     ]
    }
   ],
   "source": [
    "print(li)\n",
    "print(li2) # "
   ]
  },
  {
   "cell_type": "code",
   "execution_count": null,
   "metadata": {
    "collapsed": true
   },
   "outputs": [],
   "source": []
  },
  {
   "cell_type": "code",
   "execution_count": null,
   "metadata": {
    "collapsed": true
   },
   "outputs": [],
   "source": []
  },
  {
   "cell_type": "code",
   "execution_count": 1,
   "metadata": {
    "collapsed": true
   },
   "outputs": [],
   "source": [
    "################## 6 강 복습\n"
   ]
  },
  {
   "cell_type": "code",
   "execution_count": 2,
   "metadata": {
    "collapsed": true
   },
   "outputs": [],
   "source": [
    "# map\n",
    "# filter\n",
    "# reduce\n",
    "# 게으른 연산\n",
    "# decorator \n",
    "\n"
   ]
  },
  {
   "cell_type": "code",
   "execution_count": null,
   "metadata": {
    "collapsed": true
   },
   "outputs": [],
   "source": []
  },
  {
   "cell_type": "code",
   "execution_count": 4,
   "metadata": {},
   "outputs": [
    {
     "name": "stdout",
     "output_type": "stream",
     "text": [
      "1\n",
      "2\n",
      "3\n",
      "4\n"
     ]
    }
   ],
   "source": [
    "li = [1,2,3,4]\n",
    "\n",
    "for i in li:\n",
    "    print(i)\n",
    "    \n",
    "    # 기본적으로 이렇게 엔터를 가지고 있따.\n",
    "    # 이것을 리스로 묶어주기 위해서는"
   ]
  },
  {
   "cell_type": "code",
   "execution_count": null,
   "metadata": {
    "collapsed": true
   },
   "outputs": [],
   "source": []
  },
  {
   "cell_type": "code",
   "execution_count": 10,
   "metadata": {},
   "outputs": [
    {
     "name": "stdout",
     "output_type": "stream",
     "text": [
      "1 2 3 4 "
     ]
    }
   ],
   "source": [
    "li = [1,2,3,4]\n",
    "\n",
    "for i in li:\n",
    "    print(i, end =' ')\n",
    "    \n",
    "    # 이렇게 하면 아래의 한줄로 나오는게 아니라, 위의 한줄로 나옴"
   ]
  },
  {
   "cell_type": "code",
   "execution_count": null,
   "metadata": {
    "collapsed": true
   },
   "outputs": [],
   "source": []
  },
  {
   "cell_type": "code",
   "execution_count": 35,
   "metadata": {
    "collapsed": true
   },
   "outputs": [],
   "source": [
    "key = ('a','b','c','d')\n",
    "value = [1,2,3,4]\n",
    "\n",
    "# 튜플과 리스트를 묶는다..?\n",
    "# 딕셔너리도 컴프레이션이 있음.. 하는방법을 이제 알려주는거같은디..\n",
    "z = zip(key, value)"
   ]
  },
  {
   "cell_type": "code",
   "execution_count": 37,
   "metadata": {},
   "outputs": [
    {
     "data": {
      "text/plain": [
       "<zip at 0x10ff4d888>"
      ]
     },
     "execution_count": 37,
     "metadata": {},
     "output_type": "execute_result"
    }
   ],
   "source": [
    "z # zip 객체가 나왔음.\n",
    "  # 그냥 아, 이게 제너레이터구나. generater : 게으른 연산\n"
   ]
  },
  {
   "cell_type": "code",
   "execution_count": 38,
   "metadata": {},
   "outputs": [
    {
     "data": {
      "text/plain": [
       "('a', 1)"
      ]
     },
     "execution_count": 38,
     "metadata": {},
     "output_type": "execute_result"
    }
   ],
   "source": [
    "next(z) # 호출할때마다 하나씩 zip으로 합쳐진것을 가져옴"
   ]
  },
  {
   "cell_type": "code",
   "execution_count": 39,
   "metadata": {},
   "outputs": [
    {
     "data": {
      "text/plain": [
       "('b', 2)"
      ]
     },
     "execution_count": 39,
     "metadata": {},
     "output_type": "execute_result"
    }
   ],
   "source": [
    "next(z)"
   ]
  },
  {
   "cell_type": "code",
   "execution_count": 40,
   "metadata": {},
   "outputs": [
    {
     "data": {
      "text/plain": [
       "('c', 3)"
      ]
     },
     "execution_count": 40,
     "metadata": {},
     "output_type": "execute_result"
    }
   ],
   "source": [
    "next(z)"
   ]
  },
  {
   "cell_type": "code",
   "execution_count": 41,
   "metadata": {},
   "outputs": [
    {
     "data": {
      "text/plain": [
       "('d', 4)"
      ]
     },
     "execution_count": 41,
     "metadata": {},
     "output_type": "execute_result"
    }
   ],
   "source": [
    "next(z)"
   ]
  },
  {
   "cell_type": "code",
   "execution_count": 42,
   "metadata": {},
   "outputs": [
    {
     "ename": "StopIteration",
     "evalue": "",
     "output_type": "error",
     "traceback": [
      "\u001b[0;31m---------------------------------------------------------------------------\u001b[0m",
      "\u001b[0;31mStopIteration\u001b[0m                             Traceback (most recent call last)",
      "\u001b[0;32m<ipython-input-42-7b32f85a2b4e>\u001b[0m in \u001b[0;36m<module>\u001b[0;34m()\u001b[0m\n\u001b[0;32m----> 1\u001b[0;31m \u001b[0mnext\u001b[0m\u001b[0;34m(\u001b[0m\u001b[0mz\u001b[0m\u001b[0;34m)\u001b[0m\u001b[0;34m\u001b[0m\u001b[0m\n\u001b[0m",
      "\u001b[0;31mStopIteration\u001b[0m: "
     ]
    }
   ],
   "source": [
    "next(z) # key와 value는 묶이고, 모든것을 모두 호출하면, stop iteration ㄷ에러가나옴"
   ]
  },
  {
   "cell_type": "code",
   "execution_count": null,
   "metadata": {
    "collapsed": true
   },
   "outputs": [],
   "source": []
  },
  {
   "cell_type": "code",
   "execution_count": 54,
   "metadata": {},
   "outputs": [
    {
     "name": "stdout",
     "output_type": "stream",
     "text": [
      "('a', 1)\n",
      "('b', 2)\n",
      "('c', 3)\n",
      "('d', 4)\n",
      "{'a': 1, 'b': 2, 'c': 3, 'd': 4}\n"
     ]
    }
   ],
   "source": [
    "# for에서 값을 하나로 받으면 튜플로 묶여서 나옴\n",
    "dic = {'a' : 1, 'b' :2, 'c' :3, 'd' :4}\n",
    "\n",
    "for i in dic.items():\n",
    "    print(i)\n",
    "    \n",
    "    # dic의 요소 하나하나가 튜플로 하나씩 묶였음. 튜플을 풀어주고싶다. 어떻게해야할까\n",
    "\n",
    "print(dic)"
   ]
  },
  {
   "cell_type": "code",
   "execution_count": 55,
   "metadata": {},
   "outputs": [
    {
     "name": "stdout",
     "output_type": "stream",
     "text": [
      "a 1\n",
      "b 2\n",
      "c 3\n",
      "d 4\n",
      "d\n",
      "4\n",
      "d 4\n"
     ]
    }
   ],
   "source": [
    "\n",
    "for a, b in dic.items():\n",
    "    print(a, b)\n",
    "    \n",
    "    # 튜플이 풀려서 나옴. 이 이야기는 무슨 이야기냐면, 애초에 맨처음에 a, b 두개를 나누어서 받았음..?\n",
    "\n",
    "print(a)\n",
    "print(b)\n",
    "print(a, b)"
   ]
  },
  {
   "cell_type": "code",
   "execution_count": null,
   "metadata": {
    "collapsed": true
   },
   "outputs": [],
   "source": []
  },
  {
   "cell_type": "code",
   "execution_count": 58,
   "metadata": {
    "collapsed": true
   },
   "outputs": [],
   "source": [
    "# 딕셔너리 컴프레이션..\n",
    "key = ('a','b','c','d')\n",
    "value = [1,2,3,4]\n",
    "\n",
    "# 여기서 궁금한점은 딕셔너리를 묶을때 key는 튜플, value는 리스를 사용하는 이유가 뭘까? 두개를 바꿔서 사용해도 가능한다?\n",
    "dic = {k : v for k, v in zip(key,value)}"
   ]
  },
  {
   "cell_type": "code",
   "execution_count": 60,
   "metadata": {},
   "outputs": [
    {
     "data": {
      "text/plain": [
       "{'a': 1, 'b': 2, 'c': 3, 'd': 4}"
      ]
     },
     "execution_count": 60,
     "metadata": {},
     "output_type": "execute_result"
    }
   ],
   "source": [
    "dic # 이런 식으로 우리가 원했던 형태로 나옴.."
   ]
  },
  {
   "cell_type": "code",
   "execution_count": 61,
   "metadata": {
    "collapsed": true
   },
   "outputs": [],
   "source": [
    "# 딕셔너리 컴프레이션도 너무 길다.. 마음에 안들음"
   ]
  },
  {
   "cell_type": "code",
   "execution_count": null,
   "metadata": {
    "collapsed": true
   },
   "outputs": [],
   "source": []
  },
  {
   "cell_type": "code",
   "execution_count": 62,
   "metadata": {
    "collapsed": true
   },
   "outputs": [],
   "source": [
    "dic = dict(zip(key, value))"
   ]
  },
  {
   "cell_type": "code",
   "execution_count": 64,
   "metadata": {},
   "outputs": [
    {
     "data": {
      "text/plain": [
       "{'a': 1, 'b': 2, 'c': 3, 'd': 4}"
      ]
     },
     "execution_count": 64,
     "metadata": {},
     "output_type": "execute_result"
    }
   ],
   "source": [
    "dic # dict라는 함수를 사용해서 zip으로 묶으니까, 딕셔너리를 간단하게 사용할수 있음."
   ]
  },
  {
   "cell_type": "code",
   "execution_count": 65,
   "metadata": {
    "collapsed": true
   },
   "outputs": [],
   "source": [
    "# 스트링, 리스트, 딕셔너리 는 iterable 객체이다..?\n"
   ]
  },
  {
   "cell_type": "code",
   "execution_count": null,
   "metadata": {
    "collapsed": true
   },
   "outputs": [],
   "source": []
  },
  {
   "cell_type": "code",
   "execution_count": null,
   "metadata": {
    "collapsed": true
   },
   "outputs": [],
   "source": []
  },
  {
   "cell_type": "code",
   "execution_count": 67,
   "metadata": {
    "collapsed": true
   },
   "outputs": [],
   "source": [
    "# map은 함수의 기능을, 다른리스트에 넣어서 실행하는것..? 이라고 생각하니까 마음이 편한데.."
   ]
  },
  {
   "cell_type": "code",
   "execution_count": null,
   "metadata": {
    "collapsed": true
   },
   "outputs": [],
   "source": []
  },
  {
   "cell_type": "code",
   "execution_count": null,
   "metadata": {
    "collapsed": true
   },
   "outputs": [],
   "source": []
  },
  {
   "cell_type": "code",
   "execution_count": null,
   "metadata": {
    "collapsed": true
   },
   "outputs": [],
   "source": []
  },
  {
   "cell_type": "code",
   "execution_count": 3,
   "metadata": {
    "collapsed": true
   },
   "outputs": [],
   "source": [
    "def func(x):\n",
    "    return x * 10\n",
    "\n",
    "    "
   ]
  },
  {
   "cell_type": "code",
   "execution_count": 4,
   "metadata": {
    "collapsed": true
   },
   "outputs": [],
   "source": [
    "li = [1,2,3,4]\n",
    "\n",
    "m = map(func, li) # m 변수에에 map을 정의함. map은 어던 함수의 기능을 다른 리스트를 정의역으로 실행시키고 그 값을 출력하는것"
   ]
  },
  {
   "cell_type": "code",
   "execution_count": 96,
   "metadata": {},
   "outputs": [
    {
     "data": {
      "text/plain": [
       "<map at 0x10ffad668>"
      ]
     },
     "execution_count": 96,
     "metadata": {},
     "output_type": "execute_result"
    }
   ],
   "source": [
    "m # 이렇게 map 객체 인게 확인이 된다. "
   ]
  },
  {
   "cell_type": "code",
   "execution_count": 82,
   "metadata": {},
   "outputs": [
    {
     "data": {
      "text/plain": [
       "10"
      ]
     },
     "execution_count": 82,
     "metadata": {},
     "output_type": "execute_result"
    }
   ],
   "source": [
    "next(m) # next함수는 제너레이터일때 사용할수있음."
   ]
  },
  {
   "cell_type": "code",
   "execution_count": 83,
   "metadata": {},
   "outputs": [
    {
     "data": {
      "text/plain": [
       "20"
      ]
     },
     "execution_count": 83,
     "metadata": {},
     "output_type": "execute_result"
    }
   ],
   "source": [
    "next(m)"
   ]
  },
  {
   "cell_type": "code",
   "execution_count": 84,
   "metadata": {},
   "outputs": [
    {
     "data": {
      "text/plain": [
       "30"
      ]
     },
     "execution_count": 84,
     "metadata": {},
     "output_type": "execute_result"
    }
   ],
   "source": [
    "next(m)"
   ]
  },
  {
   "cell_type": "code",
   "execution_count": 85,
   "metadata": {},
   "outputs": [
    {
     "data": {
      "text/plain": [
       "40"
      ]
     },
     "execution_count": 85,
     "metadata": {},
     "output_type": "execute_result"
    }
   ],
   "source": [
    "next(m)"
   ]
  },
  {
   "cell_type": "code",
   "execution_count": 86,
   "metadata": {},
   "outputs": [
    {
     "ename": "StopIteration",
     "evalue": "",
     "output_type": "error",
     "traceback": [
      "\u001b[0;31m---------------------------------------------------------------------------\u001b[0m",
      "\u001b[0;31mStopIteration\u001b[0m                             Traceback (most recent call last)",
      "\u001b[0;32m<ipython-input-86-f1f9edf9efdd>\u001b[0m in \u001b[0;36m<module>\u001b[0;34m()\u001b[0m\n\u001b[0;32m----> 1\u001b[0;31m \u001b[0mnext\u001b[0m\u001b[0;34m(\u001b[0m\u001b[0mm\u001b[0m\u001b[0;34m)\u001b[0m\u001b[0;34m\u001b[0m\u001b[0m\n\u001b[0m",
      "\u001b[0;31mStopIteration\u001b[0m: "
     ]
    }
   ],
   "source": [
    "next(m)"
   ]
  },
  {
   "cell_type": "code",
   "execution_count": 5,
   "metadata": {},
   "outputs": [
    {
     "name": "stdout",
     "output_type": "stream",
     "text": [
      "10\n",
      "20\n",
      "30\n",
      "40\n"
     ]
    }
   ],
   "source": []
  },
  {
   "cell_type": "code",
   "execution_count": 15,
   "metadata": {
    "collapsed": true
   },
   "outputs": [],
   "source": [
    "li = [1,2,3,4]\n"
   ]
  },
  {
   "cell_type": "code",
   "execution_count": 16,
   "metadata": {
    "collapsed": true
   },
   "outputs": [],
   "source": [
    "def mul(x):\n",
    "    return x * 10\n"
   ]
  },
  {
   "cell_type": "code",
   "execution_count": 9,
   "metadata": {
    "collapsed": true
   },
   "outputs": [],
   "source": [
    "m = map(mul, li)"
   ]
  },
  {
   "cell_type": "code",
   "execution_count": 10,
   "metadata": {},
   "outputs": [
    {
     "name": "stdout",
     "output_type": "stream",
     "text": [
      "10\n",
      "20\n",
      "30\n",
      "40\n"
     ]
    }
   ],
   "source": [
    "for i in m:\n",
    "    print(i)"
   ]
  },
  {
   "cell_type": "code",
   "execution_count": 18,
   "metadata": {
    "collapsed": true
   },
   "outputs": [],
   "source": [
    "li = [1,2,3,4]"
   ]
  },
  {
   "cell_type": "code",
   "execution_count": 19,
   "metadata": {
    "collapsed": true
   },
   "outputs": [],
   "source": [
    "m = map(lambda x: x*10, li )"
   ]
  },
  {
   "cell_type": "code",
   "execution_count": 21,
   "metadata": {},
   "outputs": [
    {
     "data": {
      "text/plain": [
       "<map at 0x102d8d1d0>"
      ]
     },
     "execution_count": 21,
     "metadata": {},
     "output_type": "execute_result"
    }
   ],
   "source": [
    "m # map이됨."
   ]
  },
  {
   "cell_type": "code",
   "execution_count": null,
   "metadata": {
    "collapsed": true
   },
   "outputs": [],
   "source": []
  },
  {
   "cell_type": "code",
   "execution_count": 22,
   "metadata": {},
   "outputs": [
    {
     "name": "stdout",
     "output_type": "stream",
     "text": [
      "10\n",
      "20\n",
      "30\n",
      "40\n"
     ]
    }
   ],
   "source": [
    "for i in m:\n",
    "    print(i)\n",
    "    #위의 코드들을 lambda로 쉽게 처리 가능하다."
   ]
  },
  {
   "cell_type": "code",
   "execution_count": null,
   "metadata": {
    "collapsed": true
   },
   "outputs": [],
   "source": []
  },
  {
   "cell_type": "code",
   "execution_count": null,
   "metadata": {
    "collapsed": true
   },
   "outputs": [],
   "source": []
  },
  {
   "cell_type": "code",
   "execution_count": 23,
   "metadata": {
    "collapsed": true
   },
   "outputs": [],
   "source": [
    "a = \"11111111111111111111111111111111\""
   ]
  },
  {
   "cell_type": "code",
   "execution_count": 24,
   "metadata": {},
   "outputs": [
    {
     "data": {
      "text/plain": [
       "32"
      ]
     },
     "execution_count": 24,
     "metadata": {},
     "output_type": "execute_result"
    }
   ],
   "source": [
    "len(a)"
   ]
  },
  {
   "cell_type": "code",
   "execution_count": null,
   "metadata": {
    "collapsed": true
   },
   "outputs": [],
   "source": []
  },
  {
   "cell_type": "code",
   "execution_count": null,
   "metadata": {
    "collapsed": true
   },
   "outputs": [],
   "source": []
  },
  {
   "cell_type": "code",
   "execution_count": 1,
   "metadata": {
    "collapsed": true
   },
   "outputs": [],
   "source": [
    "# keys(), values(), items() : view 객체"
   ]
  },
  {
   "cell_type": "code",
   "execution_count": null,
   "metadata": {
    "collapsed": true
   },
   "outputs": [],
   "source": []
  },
  {
   "cell_type": "code",
   "execution_count": 2,
   "metadata": {
    "collapsed": true
   },
   "outputs": [],
   "source": [
    "dic = {'a' : 1, 'b' : 2, 'c' : 3}"
   ]
  },
  {
   "cell_type": "code",
   "execution_count": 3,
   "metadata": {},
   "outputs": [
    {
     "data": {
      "text/plain": [
       "{'a': 1, 'b': 2, 'c': 3}"
      ]
     },
     "execution_count": 3,
     "metadata": {},
     "output_type": "execute_result"
    }
   ],
   "source": [
    "dic\n"
   ]
  },
  {
   "cell_type": "code",
   "execution_count": null,
   "metadata": {
    "collapsed": true
   },
   "outputs": [],
   "source": [
    "\n"
   ]
  },
  {
   "cell_type": "code",
   "execution_count": 4,
   "metadata": {
    "collapsed": true
   },
   "outputs": [],
   "source": [
    "dic['d'] = 4"
   ]
  },
  {
   "cell_type": "code",
   "execution_count": 5,
   "metadata": {},
   "outputs": [
    {
     "data": {
      "text/plain": [
       "{'a': 1, 'b': 2, 'c': 3, 'd': 4}"
      ]
     },
     "execution_count": 5,
     "metadata": {},
     "output_type": "execute_result"
    }
   ],
   "source": [
    "dic"
   ]
  },
  {
   "cell_type": "code",
   "execution_count": 6,
   "metadata": {
    "collapsed": true
   },
   "outputs": [],
   "source": [
    "dic.update({'e' : 5, 'f' : 6})"
   ]
  },
  {
   "cell_type": "code",
   "execution_count": 7,
   "metadata": {},
   "outputs": [
    {
     "data": {
      "text/plain": [
       "{'a': 1, 'b': 2, 'c': 3, 'd': 4, 'e': 5, 'f': 6}"
      ]
     },
     "execution_count": 7,
     "metadata": {},
     "output_type": "execute_result"
    }
   ],
   "source": [
    "dic"
   ]
  },
  {
   "cell_type": "code",
   "execution_count": 9,
   "metadata": {
    "collapsed": true
   },
   "outputs": [],
   "source": [
    "key_view = dic.keys()"
   ]
  },
  {
   "cell_type": "code",
   "execution_count": 10,
   "metadata": {},
   "outputs": [
    {
     "data": {
      "text/plain": [
       "dict_keys(['a', 'b', 'c', 'd', 'e', 'f'])"
      ]
     },
     "execution_count": 10,
     "metadata": {},
     "output_type": "execute_result"
    }
   ],
   "source": [
    "key_view"
   ]
  },
  {
   "cell_type": "code",
   "execution_count": null,
   "metadata": {
    "collapsed": true
   },
   "outputs": [],
   "source": [
    "key.list() = key_list"
   ]
  },
  {
   "cell_type": "code",
   "execution_count": 15,
   "metadata": {
    "collapsed": true
   },
   "outputs": [],
   "source": [
    "# 게으른 연산(lazy evaluation)\n",
    "# 필요할 때마다 연산한다\n",
    "\n",
    "def func(a):\n",
    "    print(\"func is exceuted\")\n",
    "    return a **2\n",
    "\n",
    "li = [1,2,3,4]\n",
    "\n",
    "m = map(func, li)"
   ]
  },
  {
   "cell_type": "code",
   "execution_count": 16,
   "metadata": {
    "collapsed": true
   },
   "outputs": [],
   "source": [
    "# 한번에 연산하는게 아니라, next를 호출하는 순간 에만 호출할떄만 연산함."
   ]
  },
  {
   "cell_type": "code",
   "execution_count": null,
   "metadata": {
    "collapsed": true
   },
   "outputs": [],
   "source": []
  },
  {
   "cell_type": "code",
   "execution_count": 17,
   "metadata": {},
   "outputs": [
    {
     "name": "stdout",
     "output_type": "stream",
     "text": [
      "func is exceuted\n"
     ]
    },
    {
     "data": {
      "text/plain": [
       "1"
      ]
     },
     "execution_count": 17,
     "metadata": {},
     "output_type": "execute_result"
    }
   ],
   "source": [
    "next(m)"
   ]
  },
  {
   "cell_type": "code",
   "execution_count": 18,
   "metadata": {},
   "outputs": [
    {
     "name": "stdout",
     "output_type": "stream",
     "text": [
      "my\n"
     ]
    }
   ],
   "source": [
    "print(\"my\")"
   ]
  },
  {
   "cell_type": "code",
   "execution_count": 19,
   "metadata": {},
   "outputs": [
    {
     "name": "stdout",
     "output_type": "stream",
     "text": [
      "func is exceuted\n"
     ]
    },
    {
     "data": {
      "text/plain": [
       "4"
      ]
     },
     "execution_count": 19,
     "metadata": {},
     "output_type": "execute_result"
    }
   ],
   "source": [
    "next(m)"
   ]
  },
  {
   "cell_type": "code",
   "execution_count": 31,
   "metadata": {},
   "outputs": [
    {
     "data": {
      "text/plain": [
       "map"
      ]
     },
     "execution_count": 31,
     "metadata": {},
     "output_type": "execute_result"
    }
   ],
   "source": []
  },
  {
   "cell_type": "code",
   "execution_count": 27,
   "metadata": {},
   "outputs": [
    {
     "data": {
      "text/plain": [
       "[1, 2, 3, 4]"
      ]
     },
     "execution_count": 27,
     "metadata": {},
     "output_type": "execute_result"
    }
   ],
   "source": [
    "li"
   ]
  },
  {
   "cell_type": "code",
   "execution_count": 34,
   "metadata": {},
   "outputs": [
    {
     "data": {
      "text/plain": [
       "3"
      ]
     },
     "execution_count": 34,
     "metadata": {},
     "output_type": "execute_result"
    }
   ],
   "source": [
    "for i in m:\n",
    "    print(i)\n",
    "i"
   ]
  },
  {
   "cell_type": "code",
   "execution_count": 35,
   "metadata": {},
   "outputs": [
    {
     "name": "stdout",
     "output_type": "stream",
     "text": [
      "1\n",
      "4\n",
      "9\n",
      "16\n"
     ]
    }
   ],
   "source": [
    "li = [1, 2, 3, 4]\n",
    "m = map(lambda x: x**2, li)\n",
    "for e in m:\n",
    "    print(e)"
   ]
  },
  {
   "cell_type": "code",
   "execution_count": 36,
   "metadata": {
    "collapsed": true
   },
   "outputs": [],
   "source": [
    "li = [1,2,3,4]"
   ]
  },
  {
   "cell_type": "code",
   "execution_count": 37,
   "metadata": {
    "collapsed": true
   },
   "outputs": [],
   "source": [
    "m = map(lambda x: x**2, li)"
   ]
  },
  {
   "cell_type": "code",
   "execution_count": 38,
   "metadata": {},
   "outputs": [
    {
     "name": "stdout",
     "output_type": "stream",
     "text": [
      "1\n",
      "4\n",
      "9\n",
      "16\n"
     ]
    }
   ],
   "source": [
    "for i in m:\n",
    "    print(i)\n",
    "    \n",
    "    # map에 lambda 를 써서 i 값을 확인하는 방법..!"
   ]
  },
  {
   "cell_type": "code",
   "execution_count": null,
   "metadata": {
    "collapsed": true
   },
   "outputs": [],
   "source": []
  },
  {
   "cell_type": "code",
   "execution_count": null,
   "metadata": {
    "collapsed": true
   },
   "outputs": [],
   "source": []
  },
  {
   "cell_type": "code",
   "execution_count": 40,
   "metadata": {
    "collapsed": true
   },
   "outputs": [],
   "source": [
    "# filter \n",
    "# 조건이 참이면 포함\n",
    "# 조건이 거짓이면 포함 안함\n",
    "\n",
    "li = [ 2, -4, 5, -7]\n",
    "\n",
    "result = filter(lambda x: x > 0, li)"
   ]
  },
  {
   "cell_type": "code",
   "execution_count": 42,
   "metadata": {},
   "outputs": [
    {
     "data": {
      "text/plain": [
       "<filter at 0x1052663c8>"
      ]
     },
     "execution_count": 42,
     "metadata": {},
     "output_type": "execute_result"
    }
   ],
   "source": [
    "result # filter 가 됬다\n",
    "\n"
   ]
  },
  {
   "cell_type": "code",
   "execution_count": 44,
   "metadata": {
    "collapsed": true
   },
   "outputs": [],
   "source": [
    "for i in result:\n",
    "    print(i)\n",
    "    \n",
    "    # result에 filter 가 된 값이 저장됬음."
   ]
  },
  {
   "cell_type": "code",
   "execution_count": null,
   "metadata": {
    "collapsed": true
   },
   "outputs": [],
   "source": []
  },
  {
   "cell_type": "code",
   "execution_count": null,
   "metadata": {
    "collapsed": true
   },
   "outputs": [],
   "source": []
  },
  {
   "cell_type": "code",
   "execution_count": 45,
   "metadata": {},
   "outputs": [
    {
     "name": "stdout",
     "output_type": "stream",
     "text": [
      " a > 0 \n"
     ]
    }
   ],
   "source": [
    "# 삼항 연산자\n",
    "\n",
    "a = 10\n",
    "\n",
    "if a > 0:\n",
    "    print( \" a > 0 \")\n",
    "else:\n",
    "    print( \" a < 0 \")\n"
   ]
  },
  {
   "cell_type": "code",
   "execution_count": 46,
   "metadata": {},
   "outputs": [
    {
     "name": "stdout",
     "output_type": "stream",
     "text": [
      "a > 0\n"
     ]
    }
   ],
   "source": [
    "print(\"a > 0\" if a > 0 else \"a<0\")\n",
    "\n",
    "# 삼항연산자 이고, 이것은 무\n",
    "# "
   ]
  },
  {
   "cell_type": "code",
   "execution_count": null,
   "metadata": {
    "collapsed": true
   },
   "outputs": [],
   "source": []
  },
  {
   "cell_type": "code",
   "execution_count": null,
   "metadata": {
    "collapsed": true
   },
   "outputs": [],
   "source": []
  },
  {
   "cell_type": "code",
   "execution_count": 47,
   "metadata": {
    "collapsed": true
   },
   "outputs": [],
   "source": [
    "# map, filter 사용해서\n",
    "# 양수만 뽑아서 제곱한값을 구하라\n",
    "# result = [4,25]\n",
    "\n",
    "# li = [2, 5, -6, 0, 7] 이거 쉴떄 한번 해보자 복습 목적."
   ]
  },
  {
   "cell_type": "code",
   "execution_count": 70,
   "metadata": {
    "collapsed": true
   },
   "outputs": [],
   "source": [
    "li = [2, 5, -6, 0, 7]"
   ]
  },
  {
   "cell_type": "code",
   "execution_count": 58,
   "metadata": {
    "collapsed": true
   },
   "outputs": [],
   "source": [
    "didtn = filter(lambda x : x >0, li)"
   ]
  },
  {
   "cell_type": "code",
   "execution_count": 59,
   "metadata": {},
   "outputs": [
    {
     "data": {
      "text/plain": [
       "<filter at 0x1052a04a8>"
      ]
     },
     "execution_count": 59,
     "metadata": {},
     "output_type": "execute_result"
    }
   ],
   "source": [
    "didtn"
   ]
  },
  {
   "cell_type": "code",
   "execution_count": 60,
   "metadata": {},
   "outputs": [
    {
     "name": "stdout",
     "output_type": "stream",
     "text": [
      "2\n",
      "5\n",
      "7\n"
     ]
    }
   ],
   "source": [
    "for i in didtn:\n",
    "    print(i)"
   ]
  },
  {
   "cell_type": "code",
   "execution_count": 81,
   "metadata": {
    "collapsed": true
   },
   "outputs": [],
   "source": [
    "result = list(map(lambda x: x**2, filter(lambda x: x>0, li)))\n",
    "\n",
    "# map 을 이용해서, 함수에 리스트 넣어서 사용함. 오.."
   ]
  },
  {
   "cell_type": "code",
   "execution_count": 82,
   "metadata": {},
   "outputs": [
    {
     "data": {
      "text/plain": [
       "[4, 25, 49]"
      ]
     },
     "execution_count": 82,
     "metadata": {},
     "output_type": "execute_result"
    }
   ],
   "source": [
    "result"
   ]
  },
  {
   "cell_type": "code",
   "execution_count": null,
   "metadata": {
    "collapsed": true
   },
   "outputs": [],
   "source": []
  },
  {
   "cell_type": "code",
   "execution_count": null,
   "metadata": {
    "collapsed": true
   },
   "outputs": [],
   "source": []
  },
  {
   "cell_type": "code",
   "execution_count": 83,
   "metadata": {
    "collapsed": true
   },
   "outputs": [],
   "source": [
    "#reduce 배우는거같음."
   ]
  },
  {
   "cell_type": "code",
   "execution_count": null,
   "metadata": {
    "collapsed": true
   },
   "outputs": [],
   "source": []
  },
  {
   "cell_type": "code",
   "execution_count": 85,
   "metadata": {
    "collapsed": true
   },
   "outputs": [],
   "source": [
    "from functools import reduce \n",
    "# reduce의 기본 내장 모듈임.. reduce를 사용하기전에 부르는거임.."
   ]
  },
  {
   "cell_type": "code",
   "execution_count": null,
   "metadata": {
    "collapsed": true
   },
   "outputs": [],
   "source": []
  },
  {
   "cell_type": "code",
   "execution_count": 86,
   "metadata": {
    "collapsed": true
   },
   "outputs": [],
   "source": [
    "# reduce(함수, iterable 객체)"
   ]
  },
  {
   "cell_type": "code",
   "execution_count": null,
   "metadata": {
    "collapsed": true
   },
   "outputs": [],
   "source": []
  },
  {
   "cell_type": "code",
   "execution_count": 88,
   "metadata": {
    "collapsed": true
   },
   "outputs": [],
   "source": [
    "# 최대값 산출\n",
    "li = [5, 8, 1, -4, 16]\n",
    "\n",
    "result = reduce(lambda x, y : x if x > y else y, li)\n"
   ]
  },
  {
   "cell_type": "code",
   "execution_count": 90,
   "metadata": {},
   "outputs": [
    {
     "data": {
      "text/plain": [
       "16"
      ]
     },
     "execution_count": 90,
     "metadata": {},
     "output_type": "execute_result"
    }
   ],
   "source": [
    "result # 이런식으로 최대값나옴. map이랑 다를게 뭐야?\n",
    "\n",
    "#reduce는 람다와 다르게 인자를 2개를 받는다...? 라는 얘기인거같음."
   ]
  },
  {
   "cell_type": "code",
   "execution_count": 94,
   "metadata": {
    "collapsed": true
   },
   "outputs": [],
   "source": [
    "li = [5, 8, 1, -4, 16]\n",
    "\n",
    "result = map(lambda x, y: x if x>y else y, li)"
   ]
  },
  {
   "cell_type": "code",
   "execution_count": 95,
   "metadata": {},
   "outputs": [
    {
     "data": {
      "text/plain": [
       "<map at 0x1052a7320>"
      ]
     },
     "execution_count": 95,
     "metadata": {},
     "output_type": "execute_result"
    }
   ],
   "source": [
    "result # map 객체인데\n"
   ]
  },
  {
   "cell_type": "code",
   "execution_count": 96,
   "metadata": {},
   "outputs": [
    {
     "ename": "TypeError",
     "evalue": "<lambda>() missing 1 required positional argument: 'y'",
     "output_type": "error",
     "traceback": [
      "\u001b[0;31m---------------------------------------------------------------------------\u001b[0m",
      "\u001b[0;31mTypeError\u001b[0m                                 Traceback (most recent call last)",
      "\u001b[0;32m<ipython-input-96-2a582e308d8a>\u001b[0m in \u001b[0;36m<module>\u001b[0;34m()\u001b[0m\n\u001b[0;32m----> 1\u001b[0;31m \u001b[0;32mfor\u001b[0m \u001b[0mi\u001b[0m \u001b[0;32min\u001b[0m \u001b[0mresult\u001b[0m\u001b[0;34m:\u001b[0m\u001b[0;34m\u001b[0m\u001b[0m\n\u001b[0m\u001b[1;32m      2\u001b[0m     \u001b[0mprint\u001b[0m\u001b[0;34m(\u001b[0m\u001b[0mi\u001b[0m\u001b[0;34m)\u001b[0m\u001b[0;34m\u001b[0m\u001b[0m\n",
      "\u001b[0;31mTypeError\u001b[0m: <lambda>() missing 1 required positional argument: 'y'"
     ]
    }
   ],
   "source": [
    "for i in result:\n",
    "    print(i)"
   ]
  },
  {
   "cell_type": "code",
   "execution_count": null,
   "metadata": {
    "collapsed": true
   },
   "outputs": [],
   "source": [
    "\n",
    "\n",
    "\n"
   ]
  },
  {
   "cell_type": "code",
   "execution_count": null,
   "metadata": {
    "collapsed": true
   },
   "outputs": [],
   "source": []
  },
  {
   "cell_type": "code",
   "execution_count": null,
   "metadata": {
    "collapsed": true
   },
   "outputs": [],
   "source": []
  },
  {
   "cell_type": "code",
   "execution_count": 1,
   "metadata": {
    "collapsed": true
   },
   "outputs": [],
   "source": [
    "li = ['a','b','c','b','a','a']\n",
    "\n",
    "# 내가 하고싶은것은 a= 3개, b는 2개, c 는 1개 인 리스트를 만들어보보자"
   ]
  },
  {
   "cell_type": "code",
   "execution_count": 2,
   "metadata": {},
   "outputs": [
    {
     "data": {
      "text/plain": [
       "['a', 'b', 'c', 'b', 'a', 'a']"
      ]
     },
     "execution_count": 2,
     "metadata": {},
     "output_type": "execute_result"
    }
   ],
   "source": [
    "li\n"
   ]
  },
  {
   "cell_type": "code",
   "execution_count": 3,
   "metadata": {
    "collapsed": true
   },
   "outputs": [],
   "source": [
    "dic = {'a' : 1, 'b' :2, 'c' :3}\n",
    "#딕셔너리에 값을 추가하는 바"
   ]
  },
  {
   "cell_type": "code",
   "execution_count": 45,
   "metadata": {},
   "outputs": [
    {
     "data": {
      "text/plain": [
       "{'a': 1, 'b': 2, 'c': 3, 'd': 4, 'e': 5, 'f': 6, 'g': 10, 'h': 11}"
      ]
     },
     "execution_count": 45,
     "metadata": {},
     "output_type": "execute_result"
    }
   ],
   "source": [
    "dic "
   ]
  },
  {
   "cell_type": "code",
   "execution_count": null,
   "metadata": {
    "collapsed": true
   },
   "outputs": [],
   "source": []
  },
  {
   "cell_type": "code",
   "execution_count": null,
   "metadata": {
    "collapsed": true
   },
   "outputs": [],
   "source": []
  },
  {
   "cell_type": "code",
   "execution_count": 28,
   "metadata": {
    "collapsed": true
   },
   "outputs": [],
   "source": [
    "# 요소를 뽑는 방법이 여러가지가 있음."
   ]
  },
  {
   "cell_type": "code",
   "execution_count": 30,
   "metadata": {},
   "outputs": [
    {
     "data": {
      "text/plain": [
       "1"
      ]
     },
     "execution_count": 30,
     "metadata": {},
     "output_type": "execute_result"
    }
   ],
   "source": [
    "dic['a'] # a의 값을 가져옴"
   ]
  },
  {
   "cell_type": "code",
   "execution_count": 32,
   "metadata": {},
   "outputs": [
    {
     "ename": "KeyError",
     "evalue": "'g'",
     "output_type": "error",
     "traceback": [
      "\u001b[0;31m---------------------------------------------------------------------------\u001b[0m",
      "\u001b[0;31mKeyError\u001b[0m                                  Traceback (most recent call last)",
      "\u001b[0;32m<ipython-input-32-dcd9b3aac507>\u001b[0m in \u001b[0;36m<module>\u001b[0;34m()\u001b[0m\n\u001b[0;32m----> 1\u001b[0;31m \u001b[0mdic\u001b[0m\u001b[0;34m[\u001b[0m\u001b[0;34m'g'\u001b[0m\u001b[0;34m]\u001b[0m \u001b[0;31m# 이거는 없는 값을 가져오려고 하면 에러가뜸.\u001b[0m\u001b[0;34m\u001b[0m\u001b[0m\n\u001b[0m",
      "\u001b[0;31mKeyError\u001b[0m: 'g'"
     ]
    }
   ],
   "source": [
    "dic['g'] # 이거는 없는 값을 가져오려고 하면 에러가뜸."
   ]
  },
  {
   "cell_type": "code",
   "execution_count": null,
   "metadata": {
    "collapsed": true
   },
   "outputs": [],
   "source": []
  },
  {
   "cell_type": "code",
   "execution_count": 35,
   "metadata": {
    "collapsed": true
   },
   "outputs": [],
   "source": [
    "dic.get('g') # 없는 키를 가져와도 none을 반환하고 에러를 반환하지 않음.\n",
    "             # get은 디폴트값도 존재함. g가 없으면 디폴트값을 반환해라."
   ]
  },
  {
   "cell_type": "code",
   "execution_count": 37,
   "metadata": {},
   "outputs": [
    {
     "data": {
      "text/plain": [
       "10"
      ]
     },
     "execution_count": 37,
     "metadata": {},
     "output_type": "execute_result"
    }
   ],
   "source": [
    "dic.get('g', 10) # g의 값이 없으면 디폴트값 10을 반환함"
   ]
  },
  {
   "cell_type": "code",
   "execution_count": null,
   "metadata": {
    "collapsed": true
   },
   "outputs": [],
   "source": []
  },
  {
   "cell_type": "code",
   "execution_count": 44,
   "metadata": {},
   "outputs": [
    {
     "data": {
      "text/plain": [
       "11"
      ]
     },
     "execution_count": 44,
     "metadata": {},
     "output_type": "execute_result"
    }
   ],
   "source": [
    "dic.setdefault('h', 11)\n",
    " # g의 디폴트값이 정의되어 있으면 정의 되어 있는 값을 반환함.\n",
    " # get은 키값이 없으면 그냥 디폴트 반환하는데 setdefault는 없는 값을 디폴트값으로 반환도 하고, 새 값을 넣음"
   ]
  },
  {
   "cell_type": "code",
   "execution_count": null,
   "metadata": {
    "collapsed": true
   },
   "outputs": [],
   "source": []
  },
  {
   "cell_type": "code",
   "execution_count": null,
   "metadata": {
    "collapsed": true
   },
   "outputs": [],
   "source": []
  },
  {
   "cell_type": "code",
   "execution_count": null,
   "metadata": {
    "collapsed": true
   },
   "outputs": [],
   "source": []
  }
 ],
 "metadata": {
  "kernelspec": {
   "display_name": "Python 3",
   "language": "python",
   "name": "python3"
  },
  "language_info": {
   "codemirror_mode": {
    "name": "ipython",
    "version": 3
   },
   "file_extension": ".py",
   "mimetype": "text/x-python",
   "name": "python",
   "nbconvert_exporter": "python",
   "pygments_lexer": "ipython3",
   "version": "3.6.2"
  }
 },
 "nbformat": 4,
 "nbformat_minor": 2
}

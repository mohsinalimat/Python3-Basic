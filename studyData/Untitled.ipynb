{
 "cells": [
  {
   "cell_type": "code",
   "execution_count": null,
   "metadata": {
    "collapsed": true
   },
   "outputs": [],
   "source": []
  },
  {
   "cell_type": "code",
   "execution_count": null,
   "metadata": {
    "collapsed": true
   },
   "outputs": [],
   "source": []
  },
  {
   "cell_type": "code",
   "execution_count": null,
   "metadata": {
    "collapsed": true
   },
   "outputs": [],
   "source": []
  },
  {
   "cell_type": "code",
   "execution_count": null,
   "metadata": {
    "collapsed": true
   },
   "outputs": [],
   "source": []
  },
  {
   "cell_type": "code",
   "execution_count": null,
   "metadata": {
    "collapsed": true
   },
   "outputs": [],
   "source": []
  },
  {
   "cell_type": "code",
   "execution_count": null,
   "metadata": {
    "collapsed": true
   },
   "outputs": [],
   "source": []
  },
  {
   "cell_type": "code",
   "execution_count": null,
   "metadata": {
    "collapsed": true
   },
   "outputs": [],
   "source": []
  },
  {
   "cell_type": "code",
   "execution_count": null,
   "metadata": {
    "collapsed": true
   },
   "outputs": [],
   "source": []
  },
  {
   "cell_type": "code",
   "execution_count": null,
   "metadata": {
    "collapsed": true
   },
   "outputs": [],
   "source": []
  },
  {
   "cell_type": "code",
   "execution_count": null,
   "metadata": {
    "collapsed": true
   },
   "outputs": [],
   "source": []
  },
  {
   "cell_type": "code",
   "execution_count": 19,
   "metadata": {
    "collapsed": true
   },
   "outputs": [],
   "source": [
    "f = open(\"abcd.txt\", 'a')\n",
    "for i in range(1,11):\n",
    "    text = \"line %d. \\n\" % i\n",
    "    f.write(text)\n",
    "    \n",
    "f.close()"
   ]
  },
  {
   "cell_type": "code",
   "execution_count": 20,
   "metadata": {},
   "outputs": [
    {
     "name": "stdout",
     "output_type": "stream",
     "text": [
      "line 1. \n",
      "\n",
      "line 2. \n",
      "\n",
      "line 3. \n",
      "\n",
      "line 4. \n",
      "\n",
      "line 5. \n",
      "\n",
      "line 6. \n",
      "\n",
      "line 7. \n",
      "\n",
      "line 8. \n",
      "\n",
      "line 9. \n",
      "\n",
      "line 10. \n",
      "\n"
     ]
    }
   ],
   "source": [
    "f = open(\"abcd.txt\", 'r')\n",
    "while True:\n",
    "    text = f.readline()\n",
    "    if not text: break\n",
    "    print(text)\n",
    "f.close()"
   ]
  },
  {
   "cell_type": "code",
   "execution_count": 22,
   "metadata": {},
   "outputs": [
    {
     "name": "stdout",
     "output_type": "stream",
     "text": [
      "type some number: 123\n"
     ]
    }
   ],
   "source": [
    "try:\n",
    "    some_input = int(input(\"type some number: \"))\n",
    "except ValueError:\n",
    "    print(\"I said type some NUMBER!!!!\")"
   ]
  },
  {
   "cell_type": "code",
   "execution_count": null,
   "metadata": {
    "collapsed": true
   },
   "outputs": [],
   "source": []
  },
  {
   "cell_type": "code",
   "execution_count": null,
   "metadata": {
    "collapsed": true
   },
   "outputs": [],
   "source": []
  },
  {
   "cell_type": "code",
   "execution_count": null,
   "metadata": {
    "collapsed": true
   },
   "outputs": [],
   "source": []
  },
  {
   "cell_type": "code",
   "execution_count": null,
   "metadata": {
    "collapsed": true
   },
   "outputs": [],
   "source": []
  },
  {
   "cell_type": "code",
   "execution_count": 123,
   "metadata": {
    "collapsed": true
   },
   "outputs": [],
   "source": [
    "class Account:\n",
    "    def __init__(self, name, money):\n",
    "        \n",
    "        self.name = name\n",
    "        self.money = money\n",
    "        \n",
    "     # 입금 기능   \n",
    "    def deposit(self, money):\n",
    "        \n",
    "        if money < 0:\n",
    "            return\n",
    "        else:\n",
    "            self.money += money\n",
    "            print(\"%s 님 계좌로 %s 원 입금됨. 통장 잔액은 %s 입니다\" %(self.name, money, self.money))\n",
    "            \n",
    "    # 출금 기능\n",
    "    \n",
    "    def withdrawal(self, money):\n",
    "        \n",
    "        if money > self.money :\n",
    "            return \"출금 금액이 통장 잔고보다 많습니다\"\n",
    "        else:\n",
    "            \n",
    "            self.money -= money\n",
    "            print(\"%s 님 계좌에서 %s원 출금합니다. 현재 통장 잔액은 %s 입니다.\" %(self.name, money, self.money))\n",
    "            \n",
    "    ## 현재 금액 확인 \n",
    "    \n",
    "    def check_my_money(self):\n",
    "        \n",
    "        print(\"%s 님 계좌의 잔액은 %s 입니다\" %(self.name, self.money))\n",
    "        \n",
    "    ## message passing \n",
    "    \n",
    "    def transfer(self, you, money):\n",
    "        \n",
    "        if self.money < you.money :\n",
    "            print(\"잔액이 부족합니다.\")\n",
    "        else:\n",
    "            self.money -= money\n",
    "            you.money += money\n",
    "            \n",
    "            print(\"%s 님계좌에서 %s 님 계좌로 이체합니다, %s님 현재 잔액은 %s 입니다.\" %(self.name, you.name, self.name, self.money))"
   ]
  },
  {
   "cell_type": "code",
   "execution_count": 124,
   "metadata": {
    "collapsed": true
   },
   "outputs": [],
   "source": [
    "minjun = Account(\"민준\", 2000)\n",
    "sunghee = Account(\"성희\", 5000)"
   ]
  },
  {
   "cell_type": "code",
   "execution_count": 125,
   "metadata": {},
   "outputs": [
    {
     "name": "stdout",
     "output_type": "stream",
     "text": [
      "민준 2000 성희 5000\n"
     ]
    }
   ],
   "source": [
    "print(minjun.name, minjun.money, sunghee.name, sunghee.money)"
   ]
  },
  {
   "cell_type": "code",
   "execution_count": 131,
   "metadata": {},
   "outputs": [
    {
     "name": "stdout",
     "output_type": "stream",
     "text": [
      "민준 님 계좌로 5000 원 입금됨. 통장 잔액은 9000 입니다\n",
      "민준 님 계좌에서 1000원 출금합니다. 현재 통장 잔액은 8000 입니다.\n",
      "민준 님 계좌의 잔액은 8000 입니다\n",
      "민준 님계좌에서 성희 님 계좌로 이체합니다, 민준님 현재 잔액은 6000 입니다.\n"
     ]
    }
   ],
   "source": [
    "minjun.deposit(5000)\n",
    "minjun.withdrawal(1000)\n",
    "minjun.check_my_money()\n",
    "minjun.transfer(sunghee, 2000)\n"
   ]
  },
  {
   "cell_type": "code",
   "execution_count": 130,
   "metadata": {},
   "outputs": [
    {
     "name": "stdout",
     "output_type": "stream",
     "text": [
      "민준 님계좌에서 성희 님 계좌로 이체합니다, 민준님 현재 잔액은 4000 입니다.\n"
     ]
    }
   ],
   "source": []
  },
  {
   "cell_type": "code",
   "execution_count": 113,
   "metadata": {},
   "outputs": [
    {
     "name": "stdout",
     "output_type": "stream",
     "text": [
      "민준 님 계좌의 잔액은 2000 입니다\n"
     ]
    }
   ],
   "source": []
  },
  {
   "cell_type": "code",
   "execution_count": null,
   "metadata": {
    "collapsed": true
   },
   "outputs": [],
   "source": []
  },
  {
   "cell_type": "code",
   "execution_count": null,
   "metadata": {
    "collapsed": true
   },
   "outputs": [],
   "source": []
  },
  {
   "cell_type": "code",
   "execution_count": null,
   "metadata": {
    "collapsed": true
   },
   "outputs": [],
   "source": []
  },
  {
   "cell_type": "code",
   "execution_count": 2,
   "metadata": {},
   "outputs": [
    {
     "name": "stdout",
     "output_type": "stream",
     "text": [
      "[2, 2, 3, 3, 5]\n"
     ]
    }
   ],
   "source": [
    "def bubble_sort(data):\n",
    "    data_len = len(data)\n",
    "\n",
    "    for i in range(data_len - 1):#1\n",
    "        for j in range(data_len - i - 1):#2\n",
    "            if data[j] > data[j+1]:\n",
    "                data[j], data[j+1] = data[j+1], data[j]\n",
    "\n",
    "if __name__ == \"__main__\":\n",
    "    li = [2, 3, 5, 2, 3]\n",
    "    bubble_sort(li)\n",
    "    print(li)"
   ]
  },
  {
   "cell_type": "code",
   "execution_count": 3,
   "metadata": {},
   "outputs": [
    {
     "name": "stdout",
     "output_type": "stream",
     "text": [
      "0\n",
      "1\n",
      "2\n",
      "3\n",
      "4\n"
     ]
    }
   ],
   "source": []
  },
  {
   "cell_type": "code",
   "execution_count": null,
   "metadata": {
    "collapsed": true
   },
   "outputs": [],
   "source": []
  }
 ],
 "metadata": {
  "kernelspec": {
   "display_name": "Python 3",
   "language": "python",
   "name": "python3"
  },
  "language_info": {
   "codemirror_mode": {
    "name": "ipython",
    "version": 3
   },
   "file_extension": ".py",
   "mimetype": "text/x-python",
   "name": "python",
   "nbconvert_exporter": "python",
   "pygments_lexer": "ipython3",
   "version": "3.6.2"
  }
 },
 "nbformat": 4,
 "nbformat_minor": 2
}

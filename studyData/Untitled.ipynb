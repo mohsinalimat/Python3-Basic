{
 "cells": [
  {
   "cell_type": "code",
   "execution_count": 30,
   "metadata": {
    "collapsed": true
   },
   "outputs": [],
   "source": [
    "# linked_list 구현해보자!!!!!!!\n",
    "\n",
    "class Node :\n",
    "    \n",
    "    def __init__(self, data):\n",
    "        \n",
    "        self.data = data\n",
    "        self.next = None\n",
    "        \n",
    "        \n",
    "\n",
    "class Linkedlist:\n",
    "\n",
    "    # 필요한 member 들 초기화, 예외처리 할때필요함. \n",
    "    def __init__(self):\n",
    "        \n",
    "        # 값을 insert 할때, 값의 크기와, 맨처음 값, 끝값을 참조해주기 위한 포인터(?) 같은 역활\n",
    "        self.head = None\n",
    "        self.tail = None\n",
    "        \n",
    "        # 넣은 값을 순차적으로 돌면서 어떤 값이 들어있나를 확인하기 위한 포인터(?) 같은 역활이다.\n",
    "        self.current = None\n",
    "        self.before = None\n",
    "        \n",
    "        # 내가 넣은 값으 총 크기를 알기 위한...?\n",
    "        self.num_data = 0\n",
    "        \n",
    "        \n",
    "        \n",
    "    # insert를 하기전에, linked_list 가 아무것도 없다면, head,tail,current,before 를 맨처음 head 에 몰아 넣고 실행함..    \n",
    "    def empty(self):\n",
    "        if self.num_data == 0:\n",
    "            return True\n",
    "        else:\n",
    "            return False \n",
    "        \n",
    "    def size(self):\n",
    "        return self.num_data\n",
    "    \n",
    "    ## 계속 연결 시켜주면서, 값을 넣는것 구현 \n",
    "    def insert(self, data):\n",
    "        \n",
    "        new_node = Node(data)\n",
    "        \n",
    "        if self.empty() :\n",
    "            \n",
    "            self.head = new_node\n",
    "            self.tail = new_node\n",
    "            \n",
    "            self.num_data += 1 \n",
    "        else:\n",
    "            self.tail.next = new_node\n",
    "            self.tail = new_node\n",
    "            self.num_data += 1\n",
    "            \n",
    "    ## 값이 어떻게 들어있고 그값을 어떻게 찾을것인지 구현\n",
    "    \n",
    "    def findData(self, mode = 'next'):\n",
    "        \n",
    "        \n",
    "        if self.empty():#1\n",
    "            return None\n",
    "        \n",
    "        if mode == 'first':#2\n",
    "            self.before = self.head\n",
    "            self.current = self.head\n",
    "            \n",
    "            return self.current.data\n",
    "        else:#3\n",
    "            if self.current.next == None:#4\n",
    "                return None\n",
    "\n",
    "            self.before = self.current#5\n",
    "            self.current = self.current.next\n",
    "\n",
    "        return self.current.data#6\n",
    "            \n",
    "        \n",
    "     ## delete 구현해보자! \n",
    "    \n",
    "    # 각데이터들은, next에 의해서 연결이 되어있다. 중간의 next를 끊어주면, 그 안에 있는 data가 사라지게됨!\n",
    "    # remove 하기위한 조건은, finData로 내가 지우고자하는 데이터를 찾아서 지우는것, taget을 설정해서 지우지는 못한다.. 그렇게 설정하려면 다시 설계해야함.. 조금 까다롭다고한다!\n",
    "    \n",
    "    def removeData(self):\n",
    "        \n",
    "        returnValue = self.current.data\n",
    "        \n",
    "        # 예외처리를 해주어야함. 데이터의 개수가 1개 일때\n",
    "        if self.size() == 1 :\n",
    "            \n",
    "            # 현재 가르키고 있는 reference를 모두 None으로 만들어주면, 현재 데이터가 사라짐..!\n",
    "            self.head = None\n",
    "            self.tail = None\n",
    "            \n",
    "            self.current = None\n",
    "            self.tail = None\n",
    "            \n",
    "        # 데이터가 여러개가 있고, 현재 지우려고 하는 데이터가 head 데이터 일때.\n",
    "        elif self.current == self.head :\n",
    "            self.head = self.head.next\n",
    "            self.before = self.before.next\n",
    "            self.current = self.current.next\n",
    "            \n",
    "        \n",
    "        \n",
    "        else :\n",
    "            # 데이터가 여러개가 있고, 현재 지우려고 하는 데이터가 tail 데이터 일때.\n",
    "            if self.current == self.tail :\n",
    "                self.tail = self.before\n",
    "                \n",
    "            # 이제 나머지 일반적인 모든 경우\n",
    "            self.before.next = self.current.next\n",
    "            self.current = self.before\n",
    "        \n",
    "        return print(\"%s 데이터를 지웠습니다.\" %(returnValue))\n",
    "            \n",
    "            \n",
    "            \n",
    "            \n",
    "        \n",
    "        \n",
    "        \n",
    "            \n",
    "    \n",
    "    \n",
    "\n",
    "# insert 원리는 Linkedlist 인스턴스를 만들고, 그 인스턴스에 insert기능을 만들어서, 데이터 값을 넣는데, 값을 넣을때마다 node 인스턴스를, 그 인스턴스 안에 집에 넣고, 각 인스턴스를 참조하는 방식으로     \n",
    "n1 = Linkedlist()\n",
    "\n",
    "n1.insert(1)\n",
    "n1.insert(2)\n",
    "n1.insert(3)\n",
    "n1.insert(4)\n",
    "n1.insert(5)\n",
    "n1.insert(6)\n",
    "n1.insert(7)\n",
    "n1.insert(8)\n",
    "\n",
    "# 현재 들어가 있는 데이터 출력. \n",
    "#while n1.findData() != None :\n",
    "#    print(n1.current.data)\n",
    "        \n",
    "        \n",
    "        \n",
    "        \n",
    "    \n",
    "        \n",
    "        \n",
    "        \n",
    "\n",
    "    "
   ]
  },
  {
   "cell_type": "code",
   "execution_count": 41,
   "metadata": {},
   "outputs": [
    {
     "data": {
      "text/plain": [
       "1"
      ]
     },
     "execution_count": 41,
     "metadata": {},
     "output_type": "execute_result"
    }
   ],
   "source": [
    "n1.findData('first')"
   ]
  },
  {
   "cell_type": "code",
   "execution_count": 39,
   "metadata": {},
   "outputs": [
    {
     "data": {
      "text/plain": [
       "8"
      ]
     },
     "execution_count": 39,
     "metadata": {},
     "output_type": "execute_result"
    }
   ],
   "source": [
    "n1.findData()"
   ]
  },
  {
   "cell_type": "code",
   "execution_count": 42,
   "metadata": {},
   "outputs": [
    {
     "name": "stdout",
     "output_type": "stream",
     "text": [
      "2\n",
      "3\n",
      "4\n",
      "5\n",
      "6\n",
      "7\n"
     ]
    }
   ],
   "source": [
    "while n1.findData() != None :\n",
    "    print(n1.current.data)"
   ]
  },
  {
   "cell_type": "code",
   "execution_count": 40,
   "metadata": {},
   "outputs": [
    {
     "name": "stdout",
     "output_type": "stream",
     "text": [
      "8 데이터를 지웠습니다.\n"
     ]
    }
   ],
   "source": [
    "n1.removeData()"
   ]
  },
  {
   "cell_type": "code",
   "execution_count": null,
   "metadata": {
    "collapsed": true
   },
   "outputs": [],
   "source": []
  },
  {
   "cell_type": "code",
   "execution_count": null,
   "metadata": {
    "collapsed": true
   },
   "outputs": [],
   "source": []
  },
  {
   "cell_type": "code",
   "execution_count": null,
   "metadata": {
    "collapsed": true
   },
   "outputs": [],
   "source": []
  },
  {
   "cell_type": "code",
   "execution_count": null,
   "metadata": {
    "collapsed": true
   },
   "outputs": [],
   "source": []
  },
  {
   "cell_type": "code",
   "execution_count": null,
   "metadata": {
    "collapsed": true
   },
   "outputs": [],
   "source": []
  },
  {
   "cell_type": "code",
   "execution_count": 1,
   "metadata": {
    "collapsed": true
   },
   "outputs": [],
   "source": [
    "a = 0.1* 0.1"
   ]
  },
  {
   "cell_type": "code",
   "execution_count": 2,
   "metadata": {},
   "outputs": [
    {
     "name": "stdout",
     "output_type": "stream",
     "text": [
      "0.010000000000000002\n"
     ]
    }
   ],
   "source": [
    "print(a)"
   ]
  },
  {
   "cell_type": "code",
   "execution_count": null,
   "metadata": {
    "collapsed": true
   },
   "outputs": [],
   "source": []
  },
  {
   "cell_type": "code",
   "execution_count": null,
   "metadata": {
    "collapsed": true
   },
   "outputs": [],
   "source": []
  }
 ],
 "metadata": {
  "kernelspec": {
   "display_name": "Python 3",
   "language": "python",
   "name": "python3"
  },
  "language_info": {
   "codemirror_mode": {
    "name": "ipython",
    "version": 3
   },
   "file_extension": ".py",
   "mimetype": "text/x-python",
   "name": "python",
   "nbconvert_exporter": "python",
   "pygments_lexer": "ipython3",
   "version": "3.6.2"
  }
 },
 "nbformat": 4,
 "nbformat_minor": 2
}

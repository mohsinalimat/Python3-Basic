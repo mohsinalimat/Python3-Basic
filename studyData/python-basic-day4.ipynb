{
 "cells": [
  {
   "cell_type": "code",
   "execution_count": 1,
   "metadata": {
    "collapsed": true
   },
   "outputs": [],
   "source": [
    "# 가장 핵심 기능 만들고 가지를 붙여가면서 확장 시키는 과정이다..\n",
    "\n"
   ]
  },
  {
   "cell_type": "code",
   "execution_count": null,
   "metadata": {
    "collapsed": true
   },
   "outputs": [],
   "source": []
  },
  {
   "cell_type": "code",
   "execution_count": 2,
   "metadata": {
    "collapsed": true
   },
   "outputs": [],
   "source": [
    "# 함수 명령어 def"
   ]
  },
  {
   "cell_type": "code",
   "execution_count": null,
   "metadata": {
    "collapsed": true
   },
   "outputs": [],
   "source": []
  },
  {
   "cell_type": "code",
   "execution_count": 150,
   "metadata": {},
   "outputs": [
    {
     "data": {
      "text/plain": [
       "15"
      ]
     },
     "execution_count": 150,
     "metadata": {},
     "output_type": "execute_result"
    }
   ],
   "source": [
    "def aws_sum(a,b):\n",
    "    #def 함수 정의하고 함수의 이름을 적어주고 (사이에 입력값을 적어주면됨), : 콜론을 붙이면, 파이썬이 바로 끝내버리고, 그렇지 않기 위해서 :콜론을 붙이면 그 아래 실행문까지 실행 해라라는 컴퓨터랑 대화\n",
    "    result = 0\n",
    "    result = a + b\n",
    "    ##여기 까지 하면 덧셈만 하고 끝냄. 함수 통에 들어가서 인풋하고, 아우풋 하지 않은 상태\n",
    "    #print(result)\n",
    "    return result\n",
    "# 출력을 하려면 return 을 해줘야함.\n",
    "\n",
    "aws_sum(10,5)\n",
    "# 아래에 이렇게 함수를 작성해줘야 작성됨...?\n",
    "\n",
    "# 이렇게 계산하는 함수를 만들고 입력값을 인풋해줘야 함수의 기능을함.\n",
    "\n"
   ]
  },
  {
   "cell_type": "code",
   "execution_count": 12,
   "metadata": {},
   "outputs": [
    {
     "data": {
      "text/plain": [
       "'hello'"
      ]
     },
     "execution_count": 12,
     "metadata": {},
     "output_type": "execute_result"
    }
   ],
   "source": [
    "def print_hello():\n",
    "    #print_hello라는 함수를 정의함\n",
    "    return \"hello\"\n",
    "\n",
    "print_hello()\n",
    "# 입력값이 없어도 바로 실행할수있는 함수를 만듬.\n",
    "# 함수를 실행할때 괄호를 넣어줘야지 함수가 실행이됨.\n",
    "\n"
   ]
  },
  {
   "cell_type": "code",
   "execution_count": null,
   "metadata": {
    "collapsed": true
   },
   "outputs": [],
   "source": []
  },
  {
   "cell_type": "code",
   "execution_count": 18,
   "metadata": {},
   "outputs": [
    {
     "name": "stdout",
     "output_type": "stream",
     "text": [
      "This is function withou return for aaaa withour return\n"
     ]
    }
   ],
   "source": [
    "def func_wo_return(a):\n",
    "    #입력값이 있어도 출력하지 않는 함수.\n",
    "    # w/o 윗아웃의 줄임말 w/ 윗..?\n",
    "    \n",
    "    print(\"This is function withou return for \" + str(a) + \" withour return\")\n",
    "    \n",
    "func_wo_return(\"aaaa\")\n",
    "# 따로 출력값이 남는게 아니라. 그냥 print 를 실행 시킨것..?\n",
    "# 프로세스 과정이고. 위의 hello는. 프로세스의 결과값 이다..?\n",
    "\n"
   ]
  },
  {
   "cell_type": "code",
   "execution_count": null,
   "metadata": {
    "collapsed": true
   },
   "outputs": [],
   "source": []
  },
  {
   "cell_type": "code",
   "execution_count": null,
   "metadata": {
    "collapsed": true
   },
   "outputs": [],
   "source": []
  },
  {
   "cell_type": "code",
   "execution_count": null,
   "metadata": {
    "collapsed": true
   },
   "outputs": [],
   "source": []
  },
  {
   "cell_type": "code",
   "execution_count": 23,
   "metadata": {},
   "outputs": [
    {
     "data": {
      "text/plain": [
       "(23, 123)"
      ]
     },
     "execution_count": 23,
     "metadata": {},
     "output_type": "execute_result"
    }
   ],
   "source": [
    "def mul_return(a):\n",
    "    b = 0\n",
    "    b = a + 100\n",
    "    return a, b \n",
    "# a 와 b 를 동시에 출력함. 저 함수에 넣는 인풋 값은 a이고 그 a가 들어갔을때 b = 0, b = a + 100 이라는 함수가 사용됨\n",
    "\n",
    "mul_return(23)\n",
    "# 중요한것은 나올때 튜플의 형태로 나옴. "
   ]
  },
  {
   "cell_type": "code",
   "execution_count": null,
   "metadata": {
    "collapsed": true
   },
   "outputs": [],
   "source": []
  },
  {
   "cell_type": "code",
   "execution_count": 120,
   "metadata": {},
   "outputs": [
    {
     "name": "stdout",
     "output_type": "stream",
     "text": [
      "valid id: aa\n"
     ]
    }
   ],
   "source": [
    "def id_check(id):\n",
    "    if id == \"admin\":\n",
    "        print(\"invalid id : admin\")\n",
    "        return\n",
    "    else:\n",
    "        print(\"valid id:\", id)\n",
    "\n",
    "id_check(\"aa\")\n",
    "    \n",
    "    \n",
    "# return은 함수의 끝일 정의함. out를 정의한다.?\n",
    "# 다시한번해보자, 두가지가 출력되어야함..\n"
   ]
  },
  {
   "cell_type": "code",
   "execution_count": 131,
   "metadata": {},
   "outputs": [
    {
     "name": "stdout",
     "output_type": "stream",
     "text": [
      "Him  nick\n",
      "But, you are Fool\n"
     ]
    }
   ],
   "source": [
    "def say_hello(name=\"Fool\", nick=True):\n",
    "    # Fool과 True가 각각 기본값으로 저장되어 있어서 아무것도 넣지 않아도 True 값으로 바보가 되고\n",
    "    print(\"Him \", name)\n",
    "    \n",
    "    if nick == True:\n",
    "        print(\"But, you are Fool\")\n",
    "        \n",
    "    else:\n",
    "        print(\"oh, you are no fool\")\n",
    "\n",
    "    \n",
    "say_hello(\"nick\", True)\n",
    "# 왜 false를 넣어야 if를 벗어나는 값이 되는거지? false를 넣지않으면 nice = True에 걸리는 이유가 뭘까?\n",
    "\n"
   ]
  },
  {
   "cell_type": "code",
   "execution_count": null,
   "metadata": {
    "collapsed": true
   },
   "outputs": [],
   "source": []
  },
  {
   "cell_type": "code",
   "execution_count": null,
   "metadata": {
    "collapsed": true
   },
   "outputs": [],
   "source": []
  },
  {
   "cell_type": "code",
   "execution_count": 78,
   "metadata": {},
   "outputs": [
    {
     "data": {
      "text/plain": [
       "15"
      ]
     },
     "execution_count": 78,
     "metadata": {},
     "output_type": "execute_result"
    }
   ],
   "source": [
    "def mul_sum(*nums):\n",
    "    result = 0\n",
    "    #함수 안에 들어있는게 어떤게 들어가있는지 모르니까? 라는게 * 이거로 정의한다..? , 여러게의 값을 정의 한다..\n",
    "    for num in nums:\n",
    "        # num안에 있는 nums를 하나씩 돌린다. \n",
    "        result = result + num\n",
    "        # result에 num값이 하나 하나씩 쌓이면서 저장이 됨.\n",
    "    return result\n",
    "\n",
    "mul_sum(1,2,3,4,5)\n",
    "# 여러가지 숫자를 더할수 있는 함수를 만듬.. 음.. num이 nums안에 있는것들 하나하나 빼서 num에 저장하는데..그 저장을 result 에 저장 하는데 result의 수식은  num 안에 값이 저장됨.\n",
    "\n"
   ]
  },
  {
   "cell_type": "code",
   "execution_count": null,
   "metadata": {
    "collapsed": true
   },
   "outputs": [],
   "source": []
  },
  {
   "cell_type": "code",
   "execution_count": 84,
   "metadata": {},
   "outputs": [
    {
     "name": "stdout",
     "output_type": "stream",
     "text": [
      "{'a': 10, 'b': 'google', 'c': 'fastcampus'}\n"
     ]
    }
   ],
   "source": [
    "def show_kwargs(**kwargs):\n",
    "    #키워드 함수.., 키\n",
    "    print(str(kwargs))\n",
    "    \n",
    "show_kwargs(a=10, b=\"google\", c=\"fastcampus\")\n",
    "\n",
    "#딕셔네리의 형태로 저장하기 위해서 만들어 주는 함수.\n",
    "\n",
    "#그냥 숫자 함수는 리스트 형태, 키워드 함수는, 딕셔너리 형식으로 나옴..?"
   ]
  },
  {
   "cell_type": "code",
   "execution_count": 85,
   "metadata": {},
   "outputs": [
    {
     "data": {
      "text/plain": [
       "'https://www.naver.com:8080?ie=utf-8&'"
      ]
     },
     "execution_count": 85,
     "metadata": {},
     "output_type": "execute_result"
    }
   ],
   "source": [
    "def kwargs_url(server, port, **query):\n",
    "    #3가지 입력값을 가져오라 라는것, 질의어 라고 하는게 query?\n",
    "    \n",
    "    url = \"https://\" + server + \":\" + port + \"?\"\n",
    "    # 서버와 포트를 구분하는 기호가 :(콜론), \"?\"를 한이유는, 네이버에서 서버와 포트 이후에 ? 이후에 적어줌. 네이버에서 덩케르크 검색 기준으로 하고 있음. 블로그\n",
    "    \n",
    "    for key in query.keys():\n",
    "        #우리가 입력받은 query 하나하나 가 필요하다..\n",
    "        # 딕셔너리의 키만 뽑아서 리스트를 만든다.\n",
    "        url = url + key + \"=\" + query[key] + \"&\"\n",
    "        #워리라는 딕셔너리의 키를 이용해서 벨류를 불러온다 라는 이미ㅏ query[key] \n",
    "        # key가 들어오고 그 들어온 query[key]에 벨류를 뽑는다. 그거를 자동화 시키기 위한 명령어.\n",
    "        return url\n",
    "    \n",
    "    # 딕셔너리 돌아가는 것 원리로. 자동으로 뽑는것..\n",
    "\n",
    "kwargs_url(\"www.naver.com\", \"8080\", ie=\"utf-8\", query=\"덩케르크\")\n",
    "    \n",
    "    "
   ]
  },
  {
   "cell_type": "code",
   "execution_count": 119,
   "metadata": {},
   "outputs": [
    {
     "name": "stdout",
     "output_type": "stream",
     "text": [
      "{'b': 'fasaat', 'c': 'asnjsdv'}\n"
     ]
    }
   ],
   "source": [
    "def kwargs_url(server, port, **query):\n",
    "   \n",
    "    \n",
    "    url = \"https://\" + server + \":\" + port + \"?\"\n",
    "    print(query)\n",
    "\n",
    "kwargs_url(\"a\", \"b\", b=\"fasaat\",c=\"asnjsdv\")\n",
    "    \n",
    "    "
   ]
  },
  {
   "cell_type": "code",
   "execution_count": null,
   "metadata": {
    "collapsed": true
   },
   "outputs": [],
   "source": []
  },
  {
   "cell_type": "code",
   "execution_count": 139,
   "metadata": {},
   "outputs": [
    {
     "ename": "TypeError",
     "evalue": "say_hello() takes 0 positional arguments but 1 was given",
     "output_type": "error",
     "traceback": [
      "\u001b[0;31m---------------------------------------------------------------------------\u001b[0m",
      "\u001b[0;31mTypeError\u001b[0m                                 Traceback (most recent call last)",
      "\u001b[0;32m<ipython-input-139-a451c792ddc3>\u001b[0m in \u001b[0;36m<module>\u001b[0;34m()\u001b[0m\n\u001b[1;32m     10\u001b[0m \u001b[0;34m\u001b[0m\u001b[0m\n\u001b[1;32m     11\u001b[0m \u001b[0;34m\u001b[0m\u001b[0m\n\u001b[0;32m---> 12\u001b[0;31m \u001b[0msay_hello\u001b[0m\u001b[0;34m(\u001b[0m\u001b[0;36m0\u001b[0m\u001b[0;34m)\u001b[0m\u001b[0;34m\u001b[0m\u001b[0m\n\u001b[0m\u001b[1;32m     13\u001b[0m \u001b[0;34m\u001b[0m\u001b[0m\n\u001b[1;32m     14\u001b[0m \u001b[0;34m\u001b[0m\u001b[0m\n",
      "\u001b[0;31mTypeError\u001b[0m: say_hello() takes 0 positional arguments but 1 was given"
     ]
    }
   ],
   "source": [
    "def say_hello():\n",
    "    \n",
    "    print(\"Him \", name)\n",
    "    \n",
    "    if nick == True:\n",
    "        print(\"But, you are Fool\")\n",
    "        \n",
    "    else:\n",
    "        print(\"oh, you are no fool\")\n",
    "\n",
    "    \n",
    "say_hello(0)\n",
    "\n",
    "\n",
    "\n"
   ]
  },
  {
   "cell_type": "code",
   "execution_count": null,
   "metadata": {
    "collapsed": true
   },
   "outputs": [],
   "source": []
  },
  {
   "cell_type": "code",
   "execution_count": 158,
   "metadata": {},
   "outputs": [
    {
     "name": "stdout",
     "output_type": "stream",
     "text": [
      "hello\n"
     ]
    }
   ],
   "source": [
    "a = \"hello\"\n",
    "def glob_test(a):\n",
    "    a += \"world\"\n",
    "    return a\n",
    "\n",
    "glob_test(a)\n",
    "print(a)"
   ]
  },
  {
   "cell_type": "code",
   "execution_count": 163,
   "metadata": {},
   "outputs": [
    {
     "name": "stdout",
     "output_type": "stream",
     "text": [
      "hello\n"
     ]
    }
   ],
   "source": [
    "a = \"hello\"\n",
    "def glob_test(x):\n",
    "    x +=\"world\"\n",
    "    return x\n",
    "\n",
    "glob_test(a)\n",
    "print(a)\n",
    "\n",
    "# 함수 안에 있는 변수는 실제 내가 정의한 변수와 아무 관계가 없다.. \n",
    "# 변수가 무엇을 의미하는지 정확하게 지정해놓는게 좋다..\n"
   ]
  },
  {
   "cell_type": "code",
   "execution_count": null,
   "metadata": {
    "collapsed": true
   },
   "outputs": [],
   "source": []
  },
  {
   "cell_type": "code",
   "execution_count": null,
   "metadata": {
    "collapsed": true
   },
   "outputs": [],
   "source": []
  },
  {
   "cell_type": "code",
   "execution_count": 169,
   "metadata": {},
   "outputs": [
    {
     "name": "stdout",
     "output_type": "stream",
     "text": [
      "helloworld\n"
     ]
    }
   ],
   "source": [
    "a = \"hello\"\n",
    "def glob_test(a):\n",
    "    a += \"world\"\n",
    "    return a\n",
    "\n",
    "a = glob_test(a)\n",
    "print(a)"
   ]
  },
  {
   "cell_type": "code",
   "execution_count": null,
   "metadata": {
    "collapsed": true
   },
   "outputs": [],
   "source": [
    "\n",
    "\n"
   ]
  },
  {
   "cell_type": "code",
   "execution_count": 198,
   "metadata": {},
   "outputs": [
    {
     "name": "stdout",
     "output_type": "stream",
     "text": [
      "81\n",
      "윤년\n",
      "None\n",
      "윤년\n",
      "None\n"
     ]
    }
   ],
   "source": [
    "def leap(a):\n",
    "    if a % 4 == 0 and a % 100 ==0:\n",
    "        print(\"윤년\")\n",
    "    elif a % 100 == 0:\n",
    "        print(\"평년\")\n",
    "    elif a % 4 == 0:\n",
    "        print(\"윤년\")\n",
    "    else:\n",
    "        return a\n",
    "        \n",
    "print(leap(81))\n",
    "print(leap(100))\n",
    "print(leap(4100))\n",
    "\n",
    "# 이거 다시 한번 고민해보자."
   ]
  },
  {
   "cell_type": "code",
   "execution_count": null,
   "metadata": {
    "collapsed": true
   },
   "outputs": [],
   "source": [
    "\n"
   ]
  },
  {
   "cell_type": "code",
   "execution_count": null,
   "metadata": {
    "collapsed": true
   },
   "outputs": [],
   "source": []
  },
  {
   "cell_type": "code",
   "execution_count": 216,
   "metadata": {},
   "outputs": [
    {
     "name": "stdout",
     "output_type": "stream",
     "text": [
      "윤년입니다\n",
      "<function leap at 0x1025427b8>\n",
      "평년입니다\n",
      "<function leap at 0x1025427b8>\n",
      "윤년입니다\n",
      "<function leap at 0x1025427b8>\n",
      "윤년입니다\n",
      "<function leap at 0x1025427b8>\n"
     ]
    }
   ],
   "source": [
    "def leap(year):\n",
    "    \n",
    "    if year % 4==0 and (year % 100 !=0 or year % 400==0):\n",
    "        # 여기 윗부분이 제일 중요하다. 4가 =0 인경우와, 100이 아니거나, 400인 경우 에는 윤년으로 정의하는 이부분의 수식이 제일 중요하다\n",
    "        print(\"윤년입니다\")\n",
    "    else:\n",
    "        print(\"평년입니다\")\n",
    "        \n",
    "    return leap\n",
    "    \n",
    "print(leap(4))\n",
    "print(leap(100))\n",
    "print(leap(400))\n",
    "print(leap(800))\n",
    "\n",
    "# 이거한번 input 넣는것 한번 생각해보자."
   ]
  },
  {
   "cell_type": "code",
   "execution_count": null,
   "metadata": {
    "collapsed": true
   },
   "outputs": [],
   "source": []
  },
  {
   "cell_type": "code",
   "execution_count": null,
   "metadata": {
    "collapsed": true
   },
   "outputs": [],
   "source": []
  },
  {
   "cell_type": "code",
   "execution_count": 219,
   "metadata": {},
   "outputs": [
    {
     "name": "stdout",
     "output_type": "stream",
     "text": [
      "How many times want to curse the beast??: 5\n"
     ]
    },
    {
     "ename": "TypeError",
     "evalue": "unsupported operand type(s) for -: 'str' and 'int'",
     "output_type": "error",
     "traceback": [
      "\u001b[0;31m---------------------------------------------------------------------------\u001b[0m",
      "\u001b[0;31mTypeError\u001b[0m                                 Traceback (most recent call last)",
      "\u001b[0;32m<ipython-input-219-517fafd0a3af>\u001b[0m in \u001b[0;36m<module>\u001b[0;34m()\u001b[0m\n\u001b[1;32m      9\u001b[0m         \u001b[0mrecurse_beast\u001b[0m\u001b[0;34m(\u001b[0m\u001b[0ma\u001b[0m\u001b[0;34m-\u001b[0m\u001b[0;36m1\u001b[0m\u001b[0;34m)\u001b[0m\u001b[0;34m\u001b[0m\u001b[0m\n\u001b[1;32m     10\u001b[0m \u001b[0;34m\u001b[0m\u001b[0m\n\u001b[0;32m---> 11\u001b[0;31m \u001b[0mrecurse_beast\u001b[0m\u001b[0;34m(\u001b[0m\u001b[0mtimes\u001b[0m\u001b[0;34m)\u001b[0m\u001b[0;34m\u001b[0m\u001b[0m\n\u001b[0m",
      "\u001b[0;32m<ipython-input-219-517fafd0a3af>\u001b[0m in \u001b[0;36mrecurse_beast\u001b[0;34m(a)\u001b[0m\n\u001b[1;32m      6\u001b[0m         \u001b[0mprint\u001b[0m\u001b[0;34m(\u001b[0m\u001b[0;34m\"curse completae!\"\u001b[0m\u001b[0;34m)\u001b[0m\u001b[0;34m\u001b[0m\u001b[0m\n\u001b[1;32m      7\u001b[0m     \u001b[0;32melse\u001b[0m\u001b[0;34m:\u001b[0m\u001b[0;34m\u001b[0m\u001b[0m\n\u001b[0;32m----> 8\u001b[0;31m         \u001b[0mprint\u001b[0m\u001b[0;34m(\u001b[0m\u001b[0;34m\"Fusion!!! (%d times left)\"\u001b[0m \u001b[0;34m%\u001b[0m \u001b[0ma\u001b[0m \u001b[0;34m-\u001b[0m \u001b[0;36m1\u001b[0m\u001b[0;34m)\u001b[0m\u001b[0;34m\u001b[0m\u001b[0m\n\u001b[0m\u001b[1;32m      9\u001b[0m         \u001b[0mrecurse_beast\u001b[0m\u001b[0;34m(\u001b[0m\u001b[0ma\u001b[0m\u001b[0;34m-\u001b[0m\u001b[0;36m1\u001b[0m\u001b[0;34m)\u001b[0m\u001b[0;34m\u001b[0m\u001b[0m\n\u001b[1;32m     10\u001b[0m \u001b[0;34m\u001b[0m\u001b[0m\n",
      "\u001b[0;31mTypeError\u001b[0m: unsupported operand type(s) for -: 'str' and 'int'"
     ]
    }
   ],
   "source": [
    "times = int(input(\"How many times want to curse the beast??: \" ))\n",
    "# 여기서 eval 하지말고 int하는게 좋다(정수..)\n",
    "\n",
    "def recurse_beast(a):\n",
    "    if a ==0:\n",
    "        print(\"curse completae!\")\n",
    "    else:\n",
    "        print(\"Fusion!!! (%d times left)\" % a - 1)\n",
    "        recurse_beast(a-1)\n",
    "        \n",
    "recurse_beast(times)"
   ]
  },
  {
   "cell_type": "code",
   "execution_count": 226,
   "metadata": {},
   "outputs": [
    {
     "name": "stdout",
     "output_type": "stream",
     "text": [
      "how:1\n",
      "fusion!!!(0 time lesft)\n",
      "compleate!\n"
     ]
    }
   ],
   "source": [
    "time = int(input(\"how:\"))\n",
    "def re_be(a):\n",
    "    if a == 0:\n",
    "        print(\"compleate!\")\n",
    "        \n",
    "    else:\n",
    "        print(\"fusion!!!(%d time lesft)\" % (a - 1))\n",
    "        # 여기에서 스트링 포맷에 a-1을 다시 감싸야함.\n",
    "        re_be(a - 1)\n",
    "        # 여기서 포인트는 else 일때 re_be를 다시 호출해서. 맨처음에 사용자 값을 받고,그 값에서 1을 뺴고 다시 함수를 호출함.\n",
    "        # 재귀함수 이거 좋다. \n",
    "        \n",
    "re_be(time)"
   ]
  },
  {
   "cell_type": "code",
   "execution_count": null,
   "metadata": {
    "collapsed": true
   },
   "outputs": [],
   "source": []
  },
  {
   "cell_type": "code",
   "execution_count": null,
   "metadata": {
    "collapsed": true
   },
   "outputs": [],
   "source": []
  },
  {
   "cell_type": "code",
   "execution_count": null,
   "metadata": {
    "collapsed": true
   },
   "outputs": [],
   "source": [
    "# File i/o 파일 입출력. "
   ]
  },
  {
   "cell_type": "code",
   "execution_count": 228,
   "metadata": {
    "collapsed": true
   },
   "outputs": [],
   "source": [
    "f = open(\"Newfile.txt\", 'w')\n",
    "# Newfile.txt에 만드는것. 내가 지금 주피터 를 init 한곳에 생성된다.\n",
    "# 뒤에 기능에 w는 새로운 파일을 생성\n",
    "f.close()"
   ]
  },
  {
   "cell_type": "code",
   "execution_count": null,
   "metadata": {
    "collapsed": true
   },
   "outputs": [],
   "source": []
  },
  {
   "cell_type": "code",
   "execution_count": 244,
   "metadata": {
    "collapsed": true
   },
   "outputs": [],
   "source": [
    "f = open(\"Newfile.txt\", 'a')\n",
    "#append 추가 모드로 Newfile.txt를 연다.\n",
    "#open을 하면 항상 닫기를 써주어서 항상 닫아준다. \n",
    "#뒤에 a 는 내용을 추가할때 사용한다.\n",
    "\n",
    "for i in range(1,11):\n",
    "    text = \"line %d. \\n\" % i\n",
    "    # \\n(백슬레쉬 n은 파이썬이 아닌 이 환경에서 한줄씩 넣어준다는 의미이다.)\n",
    "    \n",
    "    f.write(text)\n",
    "    # 파일을 write 한다 text에\n",
    "    \n",
    "f.close()"
   ]
  },
  {
   "cell_type": "code",
   "execution_count": 236,
   "metadata": {},
   "outputs": [
    {
     "name": "stdout",
     "output_type": "stream",
     "text": [
      "line 1. \n",
      "\n"
     ]
    }
   ],
   "source": [
    "f = open(\"Newfile.txt\", 'r')\n",
    "#Newfile.txt를 읽기모드로 불러오는데.\n",
    "#r은 파이썬 상에서 txt안에 어떤게 쓰여져 있는건가 확인 하는것. \n",
    "\n",
    "text = f.readline()\n",
    "# readline()의 특성이 한줄만 불러오는것.\n",
    "print(text)\n",
    "f.close()"
   ]
  },
  {
   "cell_type": "code",
   "execution_count": 237,
   "metadata": {},
   "outputs": [
    {
     "name": "stdout",
     "output_type": "stream",
     "text": [
      "line 1. \n",
      "\n",
      "line 2. \n",
      "\n",
      "line 3. \n",
      "\n",
      "line 4. \n",
      "\n",
      "line 5. \n",
      "\n",
      "line 6. \n",
      "\n",
      "line 7. \n",
      "\n",
      "line 8. \n",
      "\n",
      "line 9. \n",
      "\n",
      "line 10. \n",
      "\n",
      "line 1. \n",
      "\n",
      "line 2. \n",
      "\n",
      "line 3. \n",
      "\n",
      "line 4. \n",
      "\n",
      "line 5. \n",
      "\n",
      "line 6. \n",
      "\n",
      "line 7. \n",
      "\n",
      "line 8. \n",
      "\n",
      "line 9. \n",
      "\n",
      "line 10. \n",
      "\n",
      "\n"
     ]
    }
   ],
   "source": [
    "f = open(\"Newfile.txt\", 'r')\n",
    "while True:\n",
    "    text = f.readline()\n",
    "    \n",
    "    if not text:\n",
    "        break\n",
    "        # not text = False text라는 의미. 풀어서 얘기하면 text에 아무 내용이 없을때.\n",
    "        # break 가 내용이 비어있을떄 멈추어라 라는 의미. not text로 텍스트 내용이 없다고 선언되면. break로 끝내준다.\n",
    "    print(text)\n",
    "\n",
    "text = f.readline()\n",
    "\n",
    "# readline 이 한줄만 출력하는것인데. 이것이 앤터키를 쳣기떄문에 엔터까지 넘어간다 라고 이해하면됨..?\n",
    "\n",
    "print(text)\n",
    "f.close()"
   ]
  },
  {
   "cell_type": "code",
   "execution_count": 243,
   "metadata": {},
   "outputs": [
    {
     "name": "stdout",
     "output_type": "stream",
     "text": [
      "line 1. \n",
      "\n",
      "line 2. \n",
      "\n",
      "line 3. \n",
      "\n",
      "line 4. \n",
      "\n",
      "line 5. \n",
      "\n",
      "line 6. \n",
      "\n",
      "line 7. \n",
      "\n",
      "line 8. \n",
      "\n",
      "line 9. \n",
      "\n",
      "line 10. \n",
      "\n",
      "line 1. \n",
      "\n",
      "line 2. \n",
      "\n",
      "line 3. \n",
      "\n",
      "line 4. \n",
      "\n",
      "line 5. \n",
      "\n",
      "line 6. \n",
      "\n",
      "line 7. \n",
      "\n",
      "line 8. \n",
      "\n",
      "line 9. \n",
      "\n",
      "line 10. \n",
      "\n"
     ]
    }
   ],
   "source": [
    "f = open('NewFile.txt', 'r')\n",
    "texts = f.readlines()\n",
    "\n",
    "for text in texts:\n",
    "    print(text)\n",
    "    f.close()\n",
    "    \n",
    "# 위의 것이랑 어떤 차이이고, 어떤것이 쉬운지? "
   ]
  },
  {
   "cell_type": "code",
   "execution_count": null,
   "metadata": {
    "collapsed": true
   },
   "outputs": [],
   "source": []
  },
  {
   "cell_type": "code",
   "execution_count": 245,
   "metadata": {
    "collapsed": true
   },
   "outputs": [],
   "source": [
    "f = open(\"Newfile.txt\", 'a')\n",
    " \n",
    "\n",
    "for i in range(11,21):\n",
    "    text = \"line %d. \\n\" % i\n",
    "\n",
    "    \n",
    "    f.write(text)\n",
    "\n",
    "    \n",
    "f.close()"
   ]
  },
  {
   "cell_type": "code",
   "execution_count": 247,
   "metadata": {},
   "outputs": [
    {
     "ename": "SyntaxError",
     "evalue": "invalid syntax (<ipython-input-247-d1c2ff810df7>, line 1)",
     "output_type": "error",
     "traceback": [
      "\u001b[0;36m  File \u001b[0;32m\"<ipython-input-247-d1c2ff810df7>\"\u001b[0;36m, line \u001b[0;32m1\u001b[0m\n\u001b[0;31m    with open('Newfile.txt', )\u001b[0m\n\u001b[0m                              ^\u001b[0m\n\u001b[0;31mSyntaxError\u001b[0m\u001b[0;31m:\u001b[0m invalid syntax\n"
     ]
    }
   ],
   "source": [
    "with open('Newfile.txt', )\n",
    "\n",
    "# 이거 다시 한번 확인해보자. P.30 에서 다른 방법으로 되는것 보자"
   ]
  },
  {
   "cell_type": "code",
   "execution_count": null,
   "metadata": {
    "collapsed": true
   },
   "outputs": [],
   "source": []
  },
  {
   "cell_type": "code",
   "execution_count": null,
   "metadata": {
    "collapsed": true
   },
   "outputs": [],
   "source": []
  },
  {
   "cell_type": "code",
   "execution_count": null,
   "metadata": {
    "collapsed": true
   },
   "outputs": [],
   "source": []
  },
  {
   "cell_type": "code",
   "execution_count": 257,
   "metadata": {},
   "outputs": [
    {
     "name": "stdout",
     "output_type": "stream",
     "text": [
      "Type the number: 1\n",
      "1\n"
     ]
    }
   ],
   "source": [
    "#Error Handle 하는방법..!\n",
    "\n",
    "try:\n",
    "    some_input = int(input(\"Type the number: \"))    \n",
    "except ValueError as e :\n",
    "    print(\"I said type the NUMBER!!!!\")\n",
    "    print(e)\n",
    "    #Error 핸들링이 이거구나.. 그냥 에러가 나지않고. 애러가 나는 문자를 출력시켜줌..\n",
    "else:\n",
    "    print(some_input)\n",
    "\n",
    "#실행문에 pass 를 넣으면. 지나감.\n",
    "\n",
    "# 여기에서 입력을 잘못하면. 다시 옳은 값으로 입력해달라고 물어보는것도 만들수 있을꺼같은데 그거 한번 고민해보고 만들어 보자.\n",
    "\n"
   ]
  },
  {
   "cell_type": "code",
   "execution_count": null,
   "metadata": {
    "collapsed": true
   },
   "outputs": [],
   "source": []
  },
  {
   "cell_type": "code",
   "execution_count": null,
   "metadata": {
    "collapsed": true
   },
   "outputs": [],
   "source": []
  },
  {
   "cell_type": "code",
   "execution_count": 253,
   "metadata": {
    "collapsed": true
   },
   "outputs": [],
   "source": [
    "try:\n",
    "    f = open('error.txt', 'r')\n",
    "    #트라이하고 잘되지않으면 except에 나오고 그렇지않으면 else가됨.\n",
    "except FileNotFoundError as e :\n",
    "    print(e)\n",
    "else: # try에서 성공 했을때 elsef를 실행한다.\n",
    "    text = f.read()\n",
    "    f.close"
   ]
  },
  {
   "cell_type": "code",
   "execution_count": null,
   "metadata": {
    "collapsed": true
   },
   "outputs": [],
   "source": []
  },
  {
   "cell_type": "code",
   "execution_count": 254,
   "metadata": {},
   "outputs": [
    {
     "ename": "FileNotFoundError",
     "evalue": "[Errno 2] No such file or directory: 'error.txt'",
     "output_type": "error",
     "traceback": [
      "\u001b[0;31m---------------------------------------------------------------------------\u001b[0m",
      "\u001b[0;31mFileNotFoundError\u001b[0m                         Traceback (most recent call last)",
      "\u001b[0;32m<ipython-input-254-37626224767a>\u001b[0m in \u001b[0;36m<module>\u001b[0;34m()\u001b[0m\n\u001b[0;32m----> 1\u001b[0;31m \u001b[0mf\u001b[0m \u001b[0;34m=\u001b[0m \u001b[0mopen\u001b[0m\u001b[0;34m(\u001b[0m\u001b[0;34m'error.txt'\u001b[0m\u001b[0;34m,\u001b[0m \u001b[0;34m'r'\u001b[0m\u001b[0;34m)\u001b[0m\u001b[0;34m\u001b[0m\u001b[0m\n\u001b[0m\u001b[1;32m      2\u001b[0m \u001b[0mf\u001b[0m\u001b[0;34m.\u001b[0m\u001b[0mclose\u001b[0m\u001b[0;34m(\u001b[0m\u001b[0;34m)\u001b[0m\u001b[0;34m\u001b[0m\u001b[0m\n",
      "\u001b[0;31mFileNotFoundError\u001b[0m: [Errno 2] No such file or directory: 'error.txt'"
     ]
    }
   ],
   "source": [
    "f = open('error.txt', 'r')\n",
    "f.close()"
   ]
  },
  {
   "cell_type": "code",
   "execution_count": null,
   "metadata": {
    "collapsed": true
   },
   "outputs": [],
   "source": []
  }
 ],
 "metadata": {
  "kernelspec": {
   "display_name": "Python 3",
   "language": "python",
   "name": "python3"
  },
  "language_info": {
   "codemirror_mode": {
    "name": "ipython",
    "version": 3
   },
   "file_extension": ".py",
   "mimetype": "text/x-python",
   "name": "python",
   "nbconvert_exporter": "python",
   "pygments_lexer": "ipython3",
   "version": "3.6.2"
  }
 },
 "nbformat": 4,
 "nbformat_minor": 2
}

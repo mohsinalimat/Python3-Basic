{
 "cells": [
  {
   "cell_type": "code",
   "execution_count": 1,
   "metadata": {
    "collapsed": true
   },
   "outputs": [],
   "source": [
    "# dummy LinkedList\n"
   ]
  },
  {
   "cell_type": "code",
   "execution_count": 39,
   "metadata": {
    "collapsed": true
   },
   "outputs": [],
   "source": [
    "class Node:\n",
    "    def __init__(self, data):\n",
    "        self.data = data\n",
    "        self.next = None\n",
    "        \n",
    "\n",
    "class Dummy_linkedlist:\n",
    "    def __init__(self):\n",
    "        dummy = Node(\"dummy\")\n",
    "        \n",
    "        self.head = dummy\n",
    "        self.tail = dummy\n",
    "        \n",
    "        self.current = None\n",
    "        self.before = None\n",
    "        \n",
    "        self.num_of_data = 0\n",
    "        \n",
    "\n",
    "        \n",
    "    def append(self, data):\n",
    "        new_node = Node(data)\n",
    "        \n",
    "        \n",
    "        self.tail.next = new_node\n",
    "        self.tail = new_node \n",
    "        \n",
    "        self.num_of_data += 1\n",
    "        \n",
    "    def first(self):\n",
    "        self.before = self.head\n",
    "        self.current = self.head.next\n",
    "        \n",
    "        if self.current: # 찾기 함수에서 첫번째에서, current 위치가 맞으면, current의 값을 반환한다... 이 의미 잘 짚어보자.\n",
    "            return self.current.data\n",
    "\n",
    "        \n",
    "        return None\n",
    "    \n",
    "    def next(self):\n",
    "        if not self.current.next:\n",
    "            return None\n",
    "        \n",
    "        self.before = self.current\n",
    "        self.current = self.current.next\n",
    "        \n",
    "        return self.current.data\n",
    "    \n",
    "    \n",
    "    \n",
    "    \n",
    "        \n",
    "        \n",
    "        \n",
    "        \n",
    "        \n",
    "        \n",
    "        \n",
    "        "
   ]
  },
  {
   "cell_type": "code",
   "execution_count": 40,
   "metadata": {
    "collapsed": true
   },
   "outputs": [],
   "source": [
    "a = Dummy_linkedlist()"
   ]
  },
  {
   "cell_type": "code",
   "execution_count": 41,
   "metadata": {},
   "outputs": [
    {
     "data": {
      "text/plain": [
       "<__main__.Dummy_linkedlist at 0x106d3c2e8>"
      ]
     },
     "execution_count": 41,
     "metadata": {},
     "output_type": "execute_result"
    }
   ],
   "source": [
    "a"
   ]
  },
  {
   "cell_type": "code",
   "execution_count": 42,
   "metadata": {},
   "outputs": [
    {
     "data": {
      "text/plain": [
       "['__class__',\n",
       " '__delattr__',\n",
       " '__dict__',\n",
       " '__dir__',\n",
       " '__doc__',\n",
       " '__eq__',\n",
       " '__format__',\n",
       " '__ge__',\n",
       " '__getattribute__',\n",
       " '__gt__',\n",
       " '__hash__',\n",
       " '__init__',\n",
       " '__init_subclass__',\n",
       " '__le__',\n",
       " '__lt__',\n",
       " '__module__',\n",
       " '__ne__',\n",
       " '__new__',\n",
       " '__reduce__',\n",
       " '__reduce_ex__',\n",
       " '__repr__',\n",
       " '__setattr__',\n",
       " '__sizeof__',\n",
       " '__str__',\n",
       " '__subclasshook__',\n",
       " '__weakref__',\n",
       " 'append',\n",
       " 'before',\n",
       " 'current',\n",
       " 'first',\n",
       " 'head',\n",
       " 'next',\n",
       " 'num_of_data',\n",
       " 'tail']"
      ]
     },
     "execution_count": 42,
     "metadata": {},
     "output_type": "execute_result"
    }
   ],
   "source": [
    "dir(a)"
   ]
  },
  {
   "cell_type": "code",
   "execution_count": 43,
   "metadata": {
    "collapsed": true
   },
   "outputs": [],
   "source": [
    "a.append\n",
    "a.append(10)\n",
    "a.append(20)\n",
    "a.append(30)"
   ]
  },
  {
   "cell_type": "code",
   "execution_count": 44,
   "metadata": {},
   "outputs": [
    {
     "name": "stdout",
     "output_type": "stream",
     "text": [
      "None\n",
      "None\n",
      "<__main__.Node object at 0x106d3c6a0>\n",
      "\n",
      "3\n",
      "\n",
      "dummy\n",
      "30\n",
      "\n",
      "10\n",
      "None\n"
     ]
    }
   ],
   "source": [
    "print(a.before)\n",
    "print(a.current)\n",
    "print(a.head)\n",
    "print('')\n",
    "print(a.num_of_data)\n",
    "print('')\n",
    "print(a.head.data)\n",
    "print(a.tail.data)\n",
    "print('')\n",
    "print(a.head.next.data)\n",
    "# 여기서 head.next.data 가 10이다.. 음.. 직관적으로는 20이 나와야하는데 10이 나오는 이유가뭘까?\n",
    "print(a.tail.next)"
   ]
  },
  {
   "cell_type": "code",
   "execution_count": 45,
   "metadata": {},
   "outputs": [
    {
     "data": {
      "text/plain": [
       "['__abs__',\n",
       " '__add__',\n",
       " '__and__',\n",
       " '__bool__',\n",
       " '__ceil__',\n",
       " '__class__',\n",
       " '__delattr__',\n",
       " '__dir__',\n",
       " '__divmod__',\n",
       " '__doc__',\n",
       " '__eq__',\n",
       " '__float__',\n",
       " '__floor__',\n",
       " '__floordiv__',\n",
       " '__format__',\n",
       " '__ge__',\n",
       " '__getattribute__',\n",
       " '__getnewargs__',\n",
       " '__gt__',\n",
       " '__hash__',\n",
       " '__index__',\n",
       " '__init__',\n",
       " '__init_subclass__',\n",
       " '__int__',\n",
       " '__invert__',\n",
       " '__le__',\n",
       " '__lshift__',\n",
       " '__lt__',\n",
       " '__mod__',\n",
       " '__mul__',\n",
       " '__ne__',\n",
       " '__neg__',\n",
       " '__new__',\n",
       " '__or__',\n",
       " '__pos__',\n",
       " '__pow__',\n",
       " '__radd__',\n",
       " '__rand__',\n",
       " '__rdivmod__',\n",
       " '__reduce__',\n",
       " '__reduce_ex__',\n",
       " '__repr__',\n",
       " '__rfloordiv__',\n",
       " '__rlshift__',\n",
       " '__rmod__',\n",
       " '__rmul__',\n",
       " '__ror__',\n",
       " '__round__',\n",
       " '__rpow__',\n",
       " '__rrshift__',\n",
       " '__rshift__',\n",
       " '__rsub__',\n",
       " '__rtruediv__',\n",
       " '__rxor__',\n",
       " '__setattr__',\n",
       " '__sizeof__',\n",
       " '__str__',\n",
       " '__sub__',\n",
       " '__subclasshook__',\n",
       " '__truediv__',\n",
       " '__trunc__',\n",
       " '__xor__',\n",
       " 'bit_length',\n",
       " 'conjugate',\n",
       " 'denominator',\n",
       " 'from_bytes',\n",
       " 'imag',\n",
       " 'numerator',\n",
       " 'real',\n",
       " 'to_bytes']"
      ]
     },
     "execution_count": 45,
     "metadata": {},
     "output_type": "execute_result"
    }
   ],
   "source": [
    "dir(a.head.next.data)"
   ]
  },
  {
   "cell_type": "code",
   "execution_count": null,
   "metadata": {
    "collapsed": true
   },
   "outputs": [],
   "source": [
    "a.first"
   ]
  },
  {
   "cell_type": "code",
   "execution_count": null,
   "metadata": {
    "collapsed": true
   },
   "outputs": [],
   "source": []
  },
  {
   "cell_type": "code",
   "execution_count": null,
   "metadata": {
    "collapsed": true
   },
   "outputs": [],
   "source": [
    "# 배열과 링크드 리스의 차이점중에 하나인 리스트는 인덱싱이 가능한데, 링크드 리스트는 인덱싱이 불가능한 이유는. 배열은 힙에 쭈루룩 붙어 있는데, "
   ]
  },
  {
   "cell_type": "code",
   "execution_count": null,
   "metadata": {
    "collapsed": true
   },
   "outputs": [],
   "source": [
    "class Node:\n",
    "    def __init__(self, data):\n",
    "        self.data = data\n",
    "        self.next = None\n",
    "        \n",
    "    def __del__(self):\n",
    "        print('Node of {} is deleted!'.format(self.data))\n",
    "        # 이 함수를 통해서 실제로 지워지는지 확인할수 있다..\n",
    "        \n",
    "# Node 중에 Before, Current 는 탐색과.."
   ]
  },
  {
   "cell_type": "code",
   "execution_count": null,
   "metadata": {
    "collapsed": true
   },
   "outputs": [],
   "source": [
    "class LinkedList:\n",
    "    def __init__(self):\n",
    "        self.head = None\n",
    "        self.tail = None \n",
    "        \n",
    "        self.before = None\n",
    "        self.current = None\n",
    "        \n",
    "        self.num_data = 0\n",
    "        \n",
    "        \n",
    "    def empty(self):\n",
    "        if self.num_data ==0:\n",
    "            return True\n",
    "        \n",
    "        else:\n",
    "            return False\n",
    "        \n",
    "    def size(self):\n",
    "        return self.num_data \n",
    "    \n",
    "    \n",
    "    def append(self, data):\n",
    "        new_node = Node(data)\n",
    "        \n",
    "        if self.empty():\n",
    "            self.head = new_node\n",
    "            self.tail = new_node\n",
    "            self.num_data += 1  # 데이터 개수를 늘려주는것...\n",
    "            \n",
    "        else:\n",
    "            self.tail.next = new_node\n",
    "            self.tail = new_node\n",
    "            # tail이 next에 새로운 node 를 가리키고. 마지막으로 self.tail이 new_node가 되어야함...\n",
    "            \n",
    "            self.num_data += 1\n",
    "        \n",
    "    def traverse(self, mode = 'next'):\n",
    "        \n",
    "        if self.empty():\n",
    "            return None\n",
    "        \n",
    "        \n",
    "        if mode == 'first' :\n",
    "            self.before = self.head \n",
    "            self.current = self.head \n",
    "        \n",
    "        else:\n",
    "            if self.current.next == None:\n",
    "                return None\n",
    "            self.before = self.current\n",
    "            self.current = self.current.next\n",
    "            # current 의 다음 데이터가 없다면, None 반환해!\n",
    "            \n",
    "            # self.current.next 는. append 일때 new_node = Node(data) 를 참조한다고 명령을 해놓아서. self.head.data 라는 명령어가 가능한것.\n",
    "        return self.current.data\n",
    "        # 현재 traverse를 실행했을때. current를 가리키고 있는, before가 이동하면서, 이미 반환을 한상태이다.\n",
    "        \n",
    "        \n",
    "            \n",
    "        \n",
    "        \n",
    "            # 'next' 일 경우 일때 \n",
    "        \n",
    "           #self.head = \n",
    "        \n",
    "        \n",
    "    #    return self.current.data\n",
    "        # before, current 가 맨처음에 head 를 가리키게 만들고 \n",
    "        # if mode == first:....\n",
    "        # current 이후 아무것도 없으면 return none를 한다...?\n",
    "    \n",
    "    \n",
    "    def remove(self):\n",
    "        ret_data = self.current.data\n",
    "        \n",
    "        \n",
    "        ##########################\n",
    "        \n",
    "        \n",
    "        ###########################\n",
    "        if self.num_data == 0:\n",
    "            \n",
    "            self.head = None\n",
    "            self.current = None\n",
    "            self.before = None\n",
    "            self.tail = None \n",
    "            \n",
    "        elif self.current == self.head:\n",
    "            self.head = self.head.next\n",
    "            self.current = self.head.next\n",
    "            self.before = self.head.next\n",
    "        \n",
    "        elif self.head == self.current:\n",
    "            self.head = self.head.next\n",
    "            self.current = self.current.next\n",
    "            \n",
    "        elif self.current == self.tail:\n",
    "            self.current = self.before\n",
    "            self.tail = self.before\n",
    "            \n",
    "        else:\n",
    "            self.before.next = self.current.next\n",
    "            self.current = self.before\n",
    "        #    if\n",
    "        \n",
    "        \n",
    "   \n",
    "        self.num_data -= 1\n",
    "        return ret_data\n",
    "    \n",
    "            \n",
    "        \n",
    "        \n",
    "        \n",
    "        \n",
    "        \n",
    "        \n",
    "        \n",
    "# 데이터를 insert, search, delete 를 정해야함. linked-list 의 edit 의 목록이다....\n",
    "\n",
    "# 1. insert = append(data) -> None : append 는 사실 반환이 필요없어서 None 을 반환함. : 저장 역활\n",
    "# 2. empty() -> bool -> 데이터가 비어있으면 True\n",
    "#                 -> 데이터가 비어있지 않으면 False\n",
    "# 3. 자료구조에서는 인덱싱이 안됨.(바로접근이 안됨) 찾으려는 데이터를 순회해야함(모든 데이터를 돌아야함)\n",
    "# 3.traverse(mode = 'next') : indexing을 할수 없기 떄문에 순회라는 방법을 사용해야함. - > data 반환\n",
    "# 최악의 경우에는 빅 o 는 n 만큼 나옴...(모든경우를 순회해야 하기떄문이다.)\n",
    "\n",
    "# 4. remove() -> data 반환 : 지우려는 데이터를 인자로 넣는게 아니라.. 그냥 지우려는 함수를 쓰면 데이터를 찾는다...? 음.. 이거 한번더 고민해봐야할꺼같음\n",
    "# 5. size() -> num.data : data 가 몇개 있는지 반환하게 만들꺼임\n",
    "\n",
    "\n",
    "        "
   ]
  },
  {
   "cell_type": "code",
   "execution_count": null,
   "metadata": {
    "collapsed": true
   },
   "outputs": [],
   "source": [
    "\n"
   ]
  }
 ],
 "metadata": {
  "kernelspec": {
   "display_name": "Python 3",
   "language": "python",
   "name": "python3"
  },
  "language_info": {
   "codemirror_mode": {
    "name": "ipython",
    "version": 3
   },
   "file_extension": ".py",
   "mimetype": "text/x-python",
   "name": "python",
   "nbconvert_exporter": "python",
   "pygments_lexer": "ipython3",
   "version": "3.6.2"
  }
 },
 "nbformat": 4,
 "nbformat_minor": 2
}

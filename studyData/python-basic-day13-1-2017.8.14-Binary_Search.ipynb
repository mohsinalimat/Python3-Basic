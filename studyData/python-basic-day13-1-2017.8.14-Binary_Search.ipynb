{
 "cells": [
  {
   "cell_type": "code",
   "execution_count": 3,
   "metadata": {
    "collapsed": true
   },
   "outputs": [],
   "source": [
    "def binary_search(data, target):\n",
    "    \n",
    "    data.sort()\n",
    "    start = 0\n",
    "    end = len(data) - 1\n",
    "\n",
    "    while start <= end:\n",
    "        mid = (start + end) // 2\n",
    "\n",
    "        if data[mid] == target:\n",
    "            return mid\n",
    "        elif data[mid] > target:\n",
    "            end = mid - 1\n",
    "        else:\n",
    "            start = mid + 1\n",
    "            \n",
    "li = [1,2,3,4,5,6,7,8,9,10]"
   ]
  },
  {
   "cell_type": "code",
   "execution_count": 7,
   "metadata": {},
   "outputs": [
    {
     "name": "stdout",
     "output_type": "stream",
     "text": [
      "no\n"
     ]
    }
   ],
   "source": [
    "target = 12\n",
    "idx = binary_search(li, target)\n",
    "if idx:\n",
    "    print(li[idx])\n",
    "else:\n",
    "    print(\"no\")"
   ]
  },
  {
   "cell_type": "code",
   "execution_count": 8,
   "metadata": {
    "collapsed": true
   },
   "outputs": [],
   "source": [
    "# binary search 성능평가\n"
   ]
  },
  {
   "cell_type": "code",
   "execution_count": 9,
   "metadata": {
    "collapsed": true
   },
   "outputs": [],
   "source": [
    "# ilinesearch 에서의 최악의 경우는 타켓이 맨 마지막에 있을때 \n",
    "# data 가 n 게일때 i \n",
    "\n",
    "\n",
    "# big o 가 높을수록 성능이 폭망이다..\n",
    "\n",
    "# 1.  o(1) : 상수 -> index() 바로 찾을수 있어서, 그래프가 상수 그래프가 나옴.\n",
    "# 2. o(n) - > 선형(linear search) x = y 그래프 나옴.\n",
    "# 3. o(log n) -> binary search 이다. \n",
    "#             -> 데이터 량이 많아질수록 성능이 더 좋아진다..?\n",
    "# 4. o(n log n) : q.sort  3번 보다는 성능이 떨어짐.\n",
    "# 5. o(n^2) : big o 성능이 안좋다."
   ]
  },
  {
   "cell_type": "code",
   "execution_count": null,
   "metadata": {
    "collapsed": true
   },
   "outputs": [],
   "source": []
  },
  {
   "cell_type": "code",
   "execution_count": 10,
   "metadata": {
    "collapsed": true
   },
   "outputs": [],
   "source": [
    "# recursion \n",
    "# 재귀함수(다시 재, 돌아올 귀):\n",
    "# 1. 함수 정의 안에 같은 함수 이름이 와야\n",
    "# 2. 재귀함수 설계할때 가장 중요한게 탈출 조건 !!\n",
    "\n"
   ]
  },
  {
   "cell_type": "code",
   "execution_count": 12,
   "metadata": {},
   "outputs": [
    {
     "ename": "RecursionError",
     "evalue": "maximum recursion depth exceeded",
     "output_type": "error",
     "traceback": [
      "\u001b[0;31m---------------------------------------------------------------------------\u001b[0m",
      "\u001b[0;31mRecursionError\u001b[0m                            Traceback (most recent call last)",
      "\u001b[0;32m<ipython-input-12-0e5ee1ff223a>\u001b[0m in \u001b[0;36m<module>\u001b[0;34m()\u001b[0m\n\u001b[1;32m      9\u001b[0m     \u001b[0;31m# 함수가 끝나지 않았는데, 내 함수가 다시 호출됨. 재귀함수..\u001b[0m\u001b[0;34m\u001b[0m\u001b[0;34m\u001b[0m\u001b[0m\n\u001b[1;32m     10\u001b[0m \u001b[0;34m\u001b[0m\u001b[0m\n\u001b[0;32m---> 11\u001b[0;31m \u001b[0mfactorial\u001b[0m\u001b[0;34m(\u001b[0m\u001b[0;36m10\u001b[0m\u001b[0;34m)\u001b[0m\u001b[0;34m\u001b[0m\u001b[0m\n\u001b[0m\u001b[1;32m     12\u001b[0m \u001b[0;34m\u001b[0m\u001b[0m\n\u001b[1;32m     13\u001b[0m \u001b[0;31m# 스텍 프레임은 SMA - 메모리가 지정되어 있음. 그것을 넘어가면 터짐.. 'maximum recursion depth exceeded' 오류가 나옴.\u001b[0m\u001b[0;34m\u001b[0m\u001b[0;34m\u001b[0m\u001b[0m\n",
      "\u001b[0;32m<ipython-input-12-0e5ee1ff223a>\u001b[0m in \u001b[0;36mfactorial\u001b[0;34m(n)\u001b[0m\n\u001b[1;32m      6\u001b[0m \u001b[0;31m#   이 규칙성을 가지고 함수를 정의 할수 있음.\u001b[0m\u001b[0;34m\u001b[0m\u001b[0;34m\u001b[0m\u001b[0m\n\u001b[1;32m      7\u001b[0m \u001b[0;32mdef\u001b[0m \u001b[0mfactorial\u001b[0m\u001b[0;34m(\u001b[0m\u001b[0mn\u001b[0m\u001b[0;34m)\u001b[0m\u001b[0;34m:\u001b[0m\u001b[0;34m\u001b[0m\u001b[0m\n\u001b[0;32m----> 8\u001b[0;31m     \u001b[0;32mreturn\u001b[0m \u001b[0mn\u001b[0m \u001b[0;34m*\u001b[0m \u001b[0mfactorial\u001b[0m\u001b[0;34m(\u001b[0m\u001b[0mn\u001b[0m\u001b[0;34m-\u001b[0m\u001b[0;36m1\u001b[0m\u001b[0;34m)\u001b[0m\u001b[0;34m\u001b[0m\u001b[0m\n\u001b[0m\u001b[1;32m      9\u001b[0m     \u001b[0;31m# 함수가 끝나지 않았는데, 내 함수가 다시 호출됨. 재귀함수..\u001b[0m\u001b[0;34m\u001b[0m\u001b[0;34m\u001b[0m\u001b[0m\n\u001b[1;32m     10\u001b[0m \u001b[0;34m\u001b[0m\u001b[0m\n",
      "... last 1 frames repeated, from the frame below ...\n",
      "\u001b[0;32m<ipython-input-12-0e5ee1ff223a>\u001b[0m in \u001b[0;36mfactorial\u001b[0;34m(n)\u001b[0m\n\u001b[1;32m      6\u001b[0m \u001b[0;31m#   이 규칙성을 가지고 함수를 정의 할수 있음.\u001b[0m\u001b[0;34m\u001b[0m\u001b[0;34m\u001b[0m\u001b[0m\n\u001b[1;32m      7\u001b[0m \u001b[0;32mdef\u001b[0m \u001b[0mfactorial\u001b[0m\u001b[0;34m(\u001b[0m\u001b[0mn\u001b[0m\u001b[0;34m)\u001b[0m\u001b[0;34m:\u001b[0m\u001b[0;34m\u001b[0m\u001b[0m\n\u001b[0;32m----> 8\u001b[0;31m     \u001b[0;32mreturn\u001b[0m \u001b[0mn\u001b[0m \u001b[0;34m*\u001b[0m \u001b[0mfactorial\u001b[0m\u001b[0;34m(\u001b[0m\u001b[0mn\u001b[0m\u001b[0;34m-\u001b[0m\u001b[0;36m1\u001b[0m\u001b[0;34m)\u001b[0m\u001b[0;34m\u001b[0m\u001b[0m\n\u001b[0m\u001b[1;32m      9\u001b[0m     \u001b[0;31m# 함수가 끝나지 않았는데, 내 함수가 다시 호출됨. 재귀함수..\u001b[0m\u001b[0;34m\u001b[0m\u001b[0;34m\u001b[0m\u001b[0m\n\u001b[1;32m     10\u001b[0m \u001b[0;34m\u001b[0m\u001b[0m\n",
      "\u001b[0;31mRecursionError\u001b[0m: maximum recursion depth exceeded"
     ]
    }
   ],
   "source": [
    "# 팩토리얼 \n",
    "# 계승 \n",
    "# 3! = 3 * 2 * 1 \n",
    "# 4! = 4 * 3 * 2 * 1    4 * 3!\n",
    "# 5! = 5 * 4 * 3 * 2* 1 5 * 4! \n",
    "#   이 규칙성을 가지고 함수를 정의 할수 있음.\n",
    "def factorial(n):\n",
    "    return n * factorial(n-1)\n",
    "    # 함수가 끝나지 않았는데, 내 함수가 다시 호출됨. 재귀함수..\n",
    "    \n",
    "factorial(10)\n",
    "\n",
    "# 스텍 프레임은 SMA - 메모리가 지정되어 있음. 그것을 넘어가면 터짐.. 'maximum recursion depth exceeded' 오류가 나옴.\n",
    "# 터지지 않게 만들기 위해서 탈출 조건을 만듬.."
   ]
  },
  {
   "cell_type": "code",
   "execution_count": 18,
   "metadata": {},
   "outputs": [
    {
     "data": {
      "text/plain": [
       "120"
      ]
     },
     "execution_count": 18,
     "metadata": {},
     "output_type": "execute_result"
    }
   ],
   "source": [
    "def factorial(n):\n",
    "    \n",
    "    if n <= 1:\n",
    "        return 1 \n",
    "    return n * factorial(n-1)\n",
    "    \n",
    "    \n",
    "factorial(5)\n",
    "\n",
    "# 재귀함수는 용어 정의는 어렵지 않은데, 그것을 설계하는게 굉장히 까다롭다..\n",
    "# 5 * 4 * 3 * ... 이렇게 계승의 값이 계속 쌓이는 이유는 함수가 끝나지 n의 값을 가지고 있고, 다른함수를 불러와서, 계속 저장해서 그런것 같음..?"
   ]
  },
  {
   "cell_type": "code",
   "execution_count": 27,
   "metadata": {
    "collapsed": true
   },
   "outputs": [],
   "source": [
    "# fibonacci \n",
    "\n",
    "# 1. n == 1 , or n == 1 -> 1 정의 해줌 \n",
    "# 2. n = 3 --> n - 2 + n\n",
    "# 3. v(n-2) + v(n-1) = v(n)\n",
    "\n",
    "def fibonacci(n):\n",
    "    if n == 1 or n == 0:\n",
    "        return 1\n",
    "    return fibonacci(n-1) + fibonacci(n-2)\n",
    "    "
   ]
  },
  {
   "cell_type": "code",
   "execution_count": 28,
   "metadata": {},
   "outputs": [
    {
     "data": {
      "text/plain": [
       "3"
      ]
     },
     "execution_count": 28,
     "metadata": {},
     "output_type": "execute_result"
    }
   ],
   "source": [
    "fibonacci(3)"
   ]
  },
  {
   "cell_type": "code",
   "execution_count": 29,
   "metadata": {},
   "outputs": [
    {
     "name": "stdout",
     "output_type": "stream",
     "text": [
      "1  1  2  3  5  8  13  21  34  55  "
     ]
    }
   ],
   "source": [
    "for i in range(10):\n",
    "    print(fibonacci(i), end = '  ')"
   ]
  },
  {
   "cell_type": "code",
   "execution_count": 30,
   "metadata": {
    "collapsed": true
   },
   "outputs": [],
   "source": [
    "# 반복된 행동을 계속 할때 재귀, while.. 둘다 가능하다면 while 을 사용해라. \n",
    "# 재귀함수는 스텍프레임을 계속 쌓아서, 부하가 생김.\n",
    "\n",
    "# 되도록이면 재귀함수 사용하지 말자.\n"
   ]
  },
  {
   "cell_type": "code",
   "execution_count": null,
   "metadata": {
    "collapsed": true
   },
   "outputs": [],
   "source": []
  },
  {
   "cell_type": "code",
   "execution_count": 31,
   "metadata": {
    "collapsed": true
   },
   "outputs": [],
   "source": [
    "# hanoi tower 만들기 "
   ]
  },
  {
   "cell_type": "code",
   "execution_count": null,
   "metadata": {
    "collapsed": true
   },
   "outputs": [],
   "source": []
  },
  {
   "cell_type": "code",
   "execution_count": 32,
   "metadata": {
    "collapsed": true
   },
   "outputs": [],
   "source": [
    "# 핵심 알고리즘은. 접시의 개수가 3개면, 2개는 두번째에, 그리고 한개는 마지막에, 두번째에 있는 모든걸 오른쪽으로 옮기면 된다..?"
   ]
  },
  {
   "cell_type": "code",
   "execution_count": 33,
   "metadata": {},
   "outputs": [
    {
     "ename": "SyntaxError",
     "evalue": "invalid syntax (<ipython-input-33-6b1a4ae39114>, line 6)",
     "output_type": "error",
     "traceback": [
      "\u001b[0;36m  File \u001b[0;32m\"<ipython-input-33-6b1a4ae39114>\"\u001b[0;36m, line \u001b[0;32m6\u001b[0m\n\u001b[0;31m    if\u001b[0m\n\u001b[0m       ^\u001b[0m\n\u001b[0;31mSyntaxError\u001b[0m\u001b[0;31m:\u001b[0m invalid syntax\n"
     ]
    }
   ],
   "source": [
    "def hanoi(n):\n",
    "    a = n\n",
    "    b = n-1\n",
    "    c = n-2\n",
    "    \n",
    "    if \n"
   ]
  },
  {
   "cell_type": "code",
   "execution_count": 53,
   "metadata": {},
   "outputs": [
    {
     "ename": "SyntaxError",
     "evalue": "invalid syntax (<ipython-input-53-babcde630ec7>, line 8)",
     "output_type": "error",
     "traceback": [
      "\u001b[0;36m  File \u001b[0;32m\"<ipython-input-53-babcde630ec7>\"\u001b[0;36m, line \u001b[0;32m8\u001b[0m\n\u001b[0;31m    elif\u001b[0m\n\u001b[0m         ^\u001b[0m\n\u001b[0;31mSyntaxError\u001b[0m\u001b[0;31m:\u001b[0m invalid syntax\n"
     ]
    }
   ],
   "source": [
    "# n --> 쟁반 개수\n",
    "# a, b, c 로 -> from, to, by 정의\n",
    "# \n",
    "def hanoi(_from, _to, _by, n):\n",
    "    if n == 1:\n",
    "        return 1\n",
    "    \n",
    "    elif \n",
    "    \n",
    "    hanoi('A', 'B', 'C', n-1)\n",
    "        \n",
    "    return print('{}에서 {}로 {}번째 쟁반이동')#.fotmat(_from, _to, n))\n",
    "    "
   ]
  },
  {
   "cell_type": "code",
   "execution_count": 54,
   "metadata": {},
   "outputs": [
    {
     "name": "stdout",
     "output_type": "stream",
     "text": [
      "{}에서 {}로 {}번째 쟁반이동\n"
     ]
    }
   ],
   "source": [
    "hanoi('A', 'B', 'C', 2)"
   ]
  },
  {
   "cell_type": "code",
   "execution_count": null,
   "metadata": {
    "collapsed": true
   },
   "outputs": [],
   "source": []
  },
  {
   "cell_type": "code",
   "execution_count": null,
   "metadata": {
    "collapsed": true
   },
   "outputs": [],
   "source": []
  },
  {
   "cell_type": "code",
   "execution_count": 55,
   "metadata": {
    "collapsed": true
   },
   "outputs": [],
   "source": [
    "def hanoi(num, _from, _by, _to):\n",
    "    #탈출 조건\n",
    "    if num == 1:\n",
    "        print(\"{}에서 {}로 {} 번째 원반 이동\".format(_from, _to, num))\n",
    "        return\n",
    "\n",
    "    hanoi(num-1, _from, _to, _by)\n",
    "    # 시작점은 from 이기에 맨 처음에는 from 을 써준다. 최종 목적지가 _by, 중간 목적지가 _to 이유는. 어떻게 하든지 맨아래것만빼고 나머지는 모두 가운데에 몰아 넣기 위해서...\n",
    "    \n",
    "    print(\"{}에서 {}로 {} 번째 원반 이동\".format(\n",
    "        _from, _to, num))\n",
    "    hanoi(num-1, _by, _from, _to)\n",
    "    \n",
    "    # 우리가 하려는 목적은 가운데에 모아져 있는것들을(n-1개) 최종 목적지인 맨 마지막으로 옮기려고함. 그래서 가운데에 시작점을 _from, 거쳐 지나가는곳은 _by(맨처음), 맨 마지막 목적지는 _to(맨 마지막)\n",
    "    \n",
    "# 함수가 끝나고 return 을 하면 그 스택프레임은 사라지고 그 아래에 있던 스텍프레임이 가지고 있던 변수를 가지고 실행을 함."
   ]
  },
  {
   "cell_type": "code",
   "execution_count": 58,
   "metadata": {},
   "outputs": [
    {
     "name": "stdout",
     "output_type": "stream",
     "text": [
      "a에서 c로 1 번째 원반 이동\n",
      "a에서 b로 2 번째 원반 이동\n",
      "c에서 b로 1 번째 원반 이동\n",
      "a에서 c로 3 번째 원반 이동\n",
      "b에서 a로 1 번째 원반 이동\n",
      "b에서 c로 2 번째 원반 이동\n",
      "a에서 c로 1 번째 원반 이동\n"
     ]
    }
   ],
   "source": [
    "hanoi(3, 'a', 'b', 'c')"
   ]
  },
  {
   "cell_type": "code",
   "execution_count": null,
   "metadata": {
    "collapsed": true
   },
   "outputs": [],
   "source": [
    "class hanoi:\n",
    "    "
   ]
  }
 ],
 "metadata": {
  "kernelspec": {
   "display_name": "Python 3",
   "language": "python",
   "name": "python3"
  },
  "language_info": {
   "codemirror_mode": {
    "name": "ipython",
    "version": 3
   },
   "file_extension": ".py",
   "mimetype": "text/x-python",
   "name": "python",
   "nbconvert_exporter": "python",
   "pygments_lexer": "ipython3",
   "version": "3.6.2"
  }
 },
 "nbformat": 4,
 "nbformat_minor": 2
}

{
 "cells": [
  {
   "cell_type": "code",
   "execution_count": 1,
   "metadata": {
    "collapsed": true
   },
   "outputs": [],
   "source": [
    "## 13일차 복습"
   ]
  },
  {
   "cell_type": "code",
   "execution_count": 2,
   "metadata": {
    "collapsed": true
   },
   "outputs": [],
   "source": [
    "# stack vs heap 의 차이\n",
    "\n",
    "# stack - memory 해제시점은 fream 이 사라질때 -> 함수 실행이 종료되고 함수를 벗어날때.\n",
    "#       - 사용자가 해제시점을 정할수 없다.\n",
    "#       - 변수들이 stack fream 순서대로 할당되기 때문에 변수들이 다닥다닥 붙어 있음. locality 개념으로 cache hit 확률이 높음 -> 속도 향상\n",
    "\n",
    "# heap - 메모리의 할당과 해제를 사용자가 통제할수 있음.\n",
    "#      - 메모리에 있는 값을 내가 원할때 해제 할수 있기 때문에. 메모리에 구멍이 생김. locality가 보장이 안됨. 변수들이 스텍프레임 처럼 차례대로 쌓이는게 아니라. 할당과 해제가 이루어지면서, 해제가 되어서 빈곳에 변수들이 들어가게됨. 만약 페이징 파일에 들어가기라도 하면, 끌어오는데 시간도 많이 걸림.\n",
    "#      - 변수들이 다닥다닥붙어있지 않기 때문에 locality 보장이 안되서 -> 성능 하락됨. \n",
    "\n",
    "# stack과 heap의 사용은 사용자가 어떤걸 설계하느냐 따라서 선택적으로 사용해야할것 같음..."
   ]
  },
  {
   "cell_type": "code",
   "execution_count": null,
   "metadata": {
    "collapsed": true
   },
   "outputs": [],
   "source": [
    "# memory rayout -> 데이터를 heap 에 쌓을지, stack 에 쌓을지 고민 하는것\n",
    "# 좋은 코드는 간결한 코드가 아니다. 작은 성능향상들이 모이고 모여서 좋은 코드가 되는것, 자료구조의 원리를 알고 성능향상을 위해 조금씩 조금씩 변화시켜 가는 코드들이 좋은 코드."
   ]
  },
  {
   "cell_type": "code",
   "execution_count": 3,
   "metadata": {
    "collapsed": true
   },
   "outputs": [],
   "source": [
    "# compiler vs interpreter 차이점\n",
    "\n",
    "# compiler 와 interpreter 의 가장큰 차이점은. compile time의 유무에 따라서, compiler 는 compile time가 존재함. compile time때 code, data 등 스트럭트들을 미리 실행해서 문법적 오류나 여러가지등을 미리 실행시켜놓고 검사함. 그래서 실제 프로그램을 실하면 인터프리터 보다 빠르게 동작하는것임. \n",
    "#   ->ex) 한가지 예로 java도 컴파일 언어지면 c 보다 느린이유는. cpu에서 번역을 한번더함. 대신 장점은 모든 컴퓨터에서 사용이 가능함. 하지만 태생적으로 c보다 빠를수 없는 이유는 두번번역을해서 실행하기 때문임.\n",
    "\n",
    "# object -> 기계어\n",
    "#        -> byte code \n",
    "\n",
    "# interpreter 언어는 source code, input data 가 한번에 들어가고, input data 와 output data가 같음.\n",
    "#   -> compile time이 없다. 코드를 실행하면 그자리에서 검사하고 실행함.\n",
    "\n",
    "# 피연산자와 연산을 하기전 레지스터에 저장하고 연산함 -> 레지스터형 언어\n",
    "# 연산결과를 스택에 쌓았다가 연산하고 보냄 -> python\n",
    "\n",
    "# python은 bytecode 로 변경후 -> PVM(Python Virtual Machine) -> 기계어 \n",
    "#   ->bytecode 에서 기계어로 바로 실행이 불가함 그래서 PVM 작업을 거쳐서 기계어로 실행을함.\n",
    "\n",
    "# PVM - for, while 문을 돌면서 bytecode 찾아서 기계어로 실행하는 과정... 까지만 이해하자\n",
    "\n",
    "\n",
    "\n",
    "\n"
   ]
  },
  {
   "cell_type": "code",
   "execution_count": null,
   "metadata": {
    "collapsed": true
   },
   "outputs": [],
   "source": []
  },
  {
   "cell_type": "code",
   "execution_count": 4,
   "metadata": {
    "collapsed": true
   },
   "outputs": [],
   "source": [
    "# linear search vs binary search 비교\n",
    "# Big O 개념\n"
   ]
  },
  {
   "cell_type": "code",
   "execution_count": 6,
   "metadata": {
    "collapsed": true
   },
   "outputs": [],
   "source": [
    "# linear search -> 선형탐색\n",
    "\n",
    "def linear_search(data, target):\n",
    "    for e in data:\n",
    "        if e == target:\n",
    "            return print(data.index(e)) # data에 있는 인덱싱을 찾는것..\n",
    "        \n",
    "        else:\n",
    "            print(None)"
   ]
  },
  {
   "cell_type": "code",
   "execution_count": 7,
   "metadata": {
    "collapsed": true
   },
   "outputs": [],
   "source": [
    "li = [3,5,7,1,2]\n",
    "target = 5\n",
    "\n"
   ]
  },
  {
   "cell_type": "code",
   "execution_count": 9,
   "metadata": {},
   "outputs": [
    {
     "name": "stdout",
     "output_type": "stream",
     "text": [
      "None\n",
      "1\n"
     ]
    }
   ],
   "source": [
    "linear_search(li, target)\n",
    "\n",
    "# 이런식으로 한줄씩 쭈루룩 찾음. 내가 원하는 값을 찾으려면 원하는 값 앞에 있는 모든 데이터들을 훓어 봐야해서 데이터를 찾는 시간에 손해가 생김.\n"
   ]
  },
  {
   "cell_type": "code",
   "execution_count": null,
   "metadata": {},
   "outputs": [],
   "source": [
    "# while문 이해하기..\n",
    "# while 조건:   -> 여기에서 조건을 넘지 않으면실행, 정해놓은 조건에 도달하면 while문 종료.\n",
    "#     실행문\n",
    "treeHit = 0\n",
    "\n",
    "while treeHit < 1000000000000:\n",
    "    treeHit = treeHit + 1\n",
    "    print('나무를 %d 번 찍었습니다' % treeHit)\n",
    "    if treeHit ==10:\n",
    "        print(\"나무넘어갑니다\")"
   ]
  },
  {
   "cell_type": "code",
   "execution_count": null,
   "metadata": {
    "collapsed": true
   },
   "outputs": [],
   "source": []
  },
  {
   "cell_type": "code",
   "execution_count": 11,
   "metadata": {
    "collapsed": true
   },
   "outputs": [],
   "source": [
    "# binary search 이진 탐색 - > 조건 : 자료들이 반드시 정렬된 상태 여야함, 못찾으면 None을 반환\n",
    "\n",
    "\n"
   ]
  },
  {
   "cell_type": "code",
   "execution_count": 81,
   "metadata": {},
   "outputs": [],
   "source": [
    "def binary_search(data, target):\n",
    "    data.sort()\n",
    "    start = 0\n",
    "    end = len(data) -1\n",
    "    ### end가 len(data) - 1 인이유는?\n",
    "    \n",
    "    while start <= end:\n",
    "        mid = (start + end) // 2\n",
    "        \n",
    "        if data[mid] == target:\n",
    "            return mid\n",
    "            \n",
    "        elif data[mid] > target:\n",
    "            end = mid - 1\n",
    "        else:\n",
    "            start = mid +1\n",
    "            \n",
    "        #return None\n",
    "            \n",
    "    return None"
   ]
  },
  {
   "cell_type": "code",
   "execution_count": 82,
   "metadata": {},
   "outputs": [],
   "source": [
    "data = [1,2,3,4,5,6,7,8,9,10]"
   ]
  },
  {
   "cell_type": "code",
   "execution_count": 83,
   "metadata": {},
   "outputs": [],
   "source": [
    "start = 0\n",
    "end = len(data)"
   ]
  },
  {
   "cell_type": "code",
   "execution_count": 84,
   "metadata": {},
   "outputs": [],
   "source": [
    "mid = (start + end) // 2"
   ]
  },
  {
   "cell_type": "code",
   "execution_count": 85,
   "metadata": {},
   "outputs": [
    {
     "data": {
      "text/plain": [
       "5"
      ]
     },
     "execution_count": 85,
     "metadata": {},
     "output_type": "execute_result"
    }
   ],
   "source": [
    "mid"
   ]
  },
  {
   "cell_type": "code",
   "execution_count": 86,
   "metadata": {},
   "outputs": [
    {
     "data": {
      "text/plain": [
       "2"
      ]
     },
     "execution_count": 86,
     "metadata": {},
     "output_type": "execute_result"
    }
   ],
   "source": [
    "binary_search(data, 3) # "
   ]
  },
  {
   "cell_type": "code",
   "execution_count": 89,
   "metadata": {},
   "outputs": [],
   "source": [
    "# binary_search 의 핵심 원리는 내가 정해놓은 데이터를 반으로 쪼개어서, 내가 찾는 값이 반에 있으면 반환. 그렇지 않으면. 내가 정해놓은 start , end 그리고 mid 를 기준으로. 값을 찾아나가는 알고리즘음. 이해해보면\n",
    "# 내가 찾는 데이터 범위가 1~10 까지 있고, 내가 찾는 데이터가 5라고 가정하면 start = 0, end = 10 mid = 5 로 정한다.\n",
    "# 맨처음 1~10까지의 값을 반으로 쪼갬. 내가 찾는 값이 1~10까지의 값의 반인 5에 해당하면 5를 반환하고. 내가 찾는값이 5를 기준으로 더 크다. 그러면 아까 정한 start 의 값을 mid+1 을 해서 옮기고. 내가 찾는 값이 5를 기준으로 더 작다. 그러면 end 를 mid - 1로 옮겨서 범위를 재설정하고, 그 정한 범위에서 mid 를 기준으로 값을 찾아나가는것임..!\n",
    "# 이것이 binary_search의 핵심 알고리즘."
   ]
  },
  {
   "cell_type": "code",
   "execution_count": null,
   "metadata": {},
   "outputs": [],
   "source": []
  },
  {
   "cell_type": "code",
   "execution_count": null,
   "metadata": {
    "collapsed": true
   },
   "outputs": [],
   "source": [
    "# big O 개념 - 데이터가 n 개일때, 최악의 경우 K 번 연산한다면\n",
    "#           - n * (1/2)^k = 1 ---> k = log2 n 인 이유는.\n",
    "#           - n * (1/2)^k = 1  [a^x = n  <--> x = log a(밑) n]\n",
    "#           - n * 2^-k = 1 \n",
    "#           - a = 2, x = -k, n = 1/n\n",
    "#           - log 2(밑) 1/n = -k [log a(밑)x^n = n*log a(밑) x]\n",
    "#           - -log 2(밑) n = -k\n",
    "#           - log 2 n = k 식이 완성됨.\n",
    "\n"
   ]
  },
  {
   "cell_type": "code",
   "execution_count": null,
   "metadata": {
    "collapsed": true
   },
   "outputs": [],
   "source": [
    "# 1. O(n) : 상수 index 으로 찾는것, 그냥 값에 바로 접근. 값이 커져도 찾는 시간 동일.\n",
    "\n",
    "# 2. O(n) : 선형 그래프(x = y, 1차함수) linaer search 값이 커질수록, 빅O 값 증가, 내가 찾으려는 데이터를 찾으려면 데이터의 범위를 전수 조사해야함.\n",
    "\n",
    "# 3. O(n) : log n 그래프 : binary search \n",
    "#                      : 데이터량이 많아질수록 증감값이 작아짐.(데이터가 많을수록 효율적임.)\n",
    "#                      : 표현으로는 log n 시간을 보장한다 등이 있음.\n",
    "\n",
    "# 4. O(n*log n) : quick sort 그래프 방식. 배우게 되면 정리하자 log n 그래프와 x=y그래프를 합성한것..\n",
    "\n",
    "# 5. O(n^2) : y = x^2 그래프 : 그냥 폭망..데이터가 많아질수록 찾는 시간 완전 제곱 정비례"
   ]
  },
  {
   "cell_type": "code",
   "execution_count": null,
   "metadata": {
    "collapsed": true
   },
   "outputs": [],
   "source": []
  },
  {
   "cell_type": "code",
   "execution_count": null,
   "metadata": {
    "collapsed": true
   },
   "outputs": [],
   "source": []
  },
  {
   "cell_type": "code",
   "execution_count": 92,
   "metadata": {
    "collapsed": true
   },
   "outputs": [],
   "source": [
    "# 재귀함수 - recursion - 1. 함수 안에서 함수를 다시 불러와야함\n",
    "#                      2. 재귀함수 설계시 가장 중요한것은 탈출조건을 설정해주어야함."
   ]
  },
  {
   "cell_type": "code",
   "execution_count": 93,
   "metadata": {
    "collapsed": true
   },
   "outputs": [],
   "source": [
    "def factorial(n):\n",
    "    return n * factorial(n-1)\n",
    "\n",
    "# 이렇게 설계하면 계속 n을 둔상태에서 n-1 함수를 무한으로 호출함.."
   ]
  },
  {
   "cell_type": "code",
   "execution_count": 94,
   "metadata": {},
   "outputs": [
    {
     "ename": "RecursionError",
     "evalue": "maximum recursion depth exceeded",
     "output_type": "error",
     "traceback": [
      "\u001b[0;31m---------------------------------------------------------------------------\u001b[0m",
      "\u001b[0;31mRecursionError\u001b[0m                            Traceback (most recent call last)",
      "\u001b[0;32m<ipython-input-94-a47a5a8ee147>\u001b[0m in \u001b[0;36m<module>\u001b[0;34m()\u001b[0m\n\u001b[0;32m----> 1\u001b[0;31m \u001b[0mfactorial\u001b[0m\u001b[0;34m(\u001b[0m\u001b[0;36m3\u001b[0m\u001b[0;34m)\u001b[0m\u001b[0;34m\u001b[0m\u001b[0m\n\u001b[0m",
      "\u001b[0;32m<ipython-input-93-65588f32cd6d>\u001b[0m in \u001b[0;36mfactorial\u001b[0;34m(n)\u001b[0m\n\u001b[1;32m      1\u001b[0m \u001b[0;32mdef\u001b[0m \u001b[0mfactorial\u001b[0m\u001b[0;34m(\u001b[0m\u001b[0mn\u001b[0m\u001b[0;34m)\u001b[0m\u001b[0;34m:\u001b[0m\u001b[0;34m\u001b[0m\u001b[0m\n\u001b[0;32m----> 2\u001b[0;31m     \u001b[0;32mreturn\u001b[0m \u001b[0mn\u001b[0m \u001b[0;34m*\u001b[0m \u001b[0mfactorial\u001b[0m\u001b[0;34m(\u001b[0m\u001b[0mn\u001b[0m\u001b[0;34m-\u001b[0m\u001b[0;36m1\u001b[0m\u001b[0;34m)\u001b[0m\u001b[0;34m\u001b[0m\u001b[0m\n\u001b[0m",
      "... last 1 frames repeated, from the frame below ...\n",
      "\u001b[0;32m<ipython-input-93-65588f32cd6d>\u001b[0m in \u001b[0;36mfactorial\u001b[0;34m(n)\u001b[0m\n\u001b[1;32m      1\u001b[0m \u001b[0;32mdef\u001b[0m \u001b[0mfactorial\u001b[0m\u001b[0;34m(\u001b[0m\u001b[0mn\u001b[0m\u001b[0;34m)\u001b[0m\u001b[0;34m:\u001b[0m\u001b[0;34m\u001b[0m\u001b[0m\n\u001b[0;32m----> 2\u001b[0;31m     \u001b[0;32mreturn\u001b[0m \u001b[0mn\u001b[0m \u001b[0;34m*\u001b[0m \u001b[0mfactorial\u001b[0m\u001b[0;34m(\u001b[0m\u001b[0mn\u001b[0m\u001b[0;34m-\u001b[0m\u001b[0;36m1\u001b[0m\u001b[0;34m)\u001b[0m\u001b[0;34m\u001b[0m\u001b[0m\n\u001b[0m",
      "\u001b[0;31mRecursionError\u001b[0m: maximum recursion depth exceeded"
     ]
    }
   ],
   "source": [
    "factorial(3)"
   ]
  },
  {
   "cell_type": "code",
   "execution_count": 95,
   "metadata": {
    "collapsed": true
   },
   "outputs": [],
   "source": [
    "def factorial(n):\n",
    "    if n <=1:\n",
    "        return 1\n",
    "    \n",
    "    return n * factorial(n-1)"
   ]
  },
  {
   "cell_type": "code",
   "execution_count": 98,
   "metadata": {},
   "outputs": [
    {
     "data": {
      "text/plain": [
       "24"
      ]
     },
     "execution_count": 98,
     "metadata": {},
     "output_type": "execute_result"
    }
   ],
   "source": [
    "#QQQQQQQQQQQQQQQQQQQQQQQQQQ  팩토리얼 질문\n",
    "\n",
    "factorial(4)\n",
    "\n",
    "# factorial 질문 해보자. n * factorial(n-1) 을했을때 n 값이 쌓여서 * 연산을 하는건지. factorial(n-1) 에 n 값이 쌓여서 연산되는건지..\n",
    "# 그리고 왜 그렇게 연산이 되는건지.. 아마 내 예상으로 함수라는 큰 stackr가 있고. 그아래 factorial 이라는 stack fream 이 쌓이고, 그 쌓인게 return 에 결과에 연산된다.. 라고 이해하면되는것인가?"
   ]
  },
  {
   "cell_type": "code",
   "execution_count": null,
   "metadata": {
    "collapsed": true
   },
   "outputs": [],
   "source": []
  },
  {
   "cell_type": "code",
   "execution_count": null,
   "metadata": {
    "collapsed": true
   },
   "outputs": [],
   "source": []
  },
  {
   "cell_type": "code",
   "execution_count": 100,
   "metadata": {
    "collapsed": true
   },
   "outputs": [],
   "source": [
    "## 자료구조 들어감. 첫 번째가\n",
    "# linked_list \n",
    "\n",
    "# 쉽게 생각하면 Node 라는 클레스에는 자료를 저장 시키고. Linked_list 클레스는 Node에 연결된 자료들을 찾아 준다로 이해할수 있음.\n",
    "# 그 기능들은. 자료의 저장, 탐색, 자료 추가, 자료의 삭제 가 대표적인 기능이라고 할수있음. 이것들을 구현하는 방법들이 조금 빡세가..\n",
    "# 자료들은 그 앞에 있는 자료들이 꼬리물기하듯이 count를 올려주고있음으로써 리스트들이 연결이 되고, 존재할수있음.\n",
    "\n",
    "# 비슷한 자료저장방식인 배열과, 리스트의 차이점은 리소스 낭비에서 linked list가 유리함. 각자의 장단점이 있음\n",
    "# 배열의 장점과 단점 고민해보자..\n"
   ]
  },
  {
   "cell_type": "code",
   "execution_count": null,
   "metadata": {
    "collapsed": true
   },
   "outputs": [],
   "source": []
  },
  {
   "cell_type": "code",
   "execution_count": 269,
   "metadata": {},
   "outputs": [],
   "source": [
    "class Node:\n",
    "    def __init__(self, data):\n",
    "        self.data = data\n",
    "        self.next = None\n",
    "        \n",
    "    def __del__(self):\n",
    "        print('data of {} is deleted'.format(self.data))\n",
    "        \n",
    "\n",
    "class Linked_list:\n",
    "    def __init__(self):\n",
    "        self.head = None\n",
    "        self.tail = None\n",
    "        \n",
    "        self.current = None\n",
    "        self.before = None\n",
    "        \n",
    "        self.num_data = 0\n",
    "        \n",
    "    def size(self, data): # 데이터의 사이즈 확인 하는것\n",
    "        return self.num_data\n",
    "    \n",
    "    def empty(self):\n",
    "        if self.num_data ==0:\n",
    "            return True\n",
    "        else:\n",
    "            return False\n",
    "    \n",
    "    def append(self, data):\n",
    "        new_node = Node(data)\n",
    "        \n",
    "        if self.empty():\n",
    "            self.head = new_node\n",
    "            self.tail = new_node\n",
    "            self.num_data += 1\n",
    "            # head 가 앞이 되고 tail이 뒤의 데이터가 되는 이유는 단순하게 순서 때문인가?\n",
    "            \n",
    "        else:\n",
    "            self.tail.next = new_node\n",
    "            self.tail = new_node\n",
    "            self.num_data += 1\n",
    "            \n",
    "            \n",
    "    def traverse(self, mode = 'next'):\n",
    "        if self.empty():\n",
    "            return None\n",
    "        \n",
    "        elif mode == 'first':\n",
    "            self.before = self.head\n",
    "            self.current = self.head\n",
    "        \n",
    "        else:\n",
    "            if self.current.next == None:\n",
    "                return None\n",
    "            \n",
    "            self.before = self.current\n",
    "            self.current = self.current.next\n",
    "            \n",
    "        return self.current.data # 맨 마지막의 데이터를 가리킴..그리고 그걸 저장한곳에서 꺼내옴\n",
    "    \n",
    "    # 데이터 삭제의 원리는 기본적으로 어떤 값을 찾고, 그 찾은 값의 레퍼런스 카운터를 0으로 만들어서 없애는 원리임. \n",
    "    # 따라서 데이터를 바로 삭제하는 del 을 생각하면안되고, 메모리 구조에서 참조 하는 녀석들을 없애서 사라지게 만든다고 생각해야함\n",
    "    # 이것의 강점은 뭘까? del이나 삭제하기 위한 어떤 일련의 코드 과정을 없애고 메모리를 아낄수 있다..정도로 이해하면될까?\n",
    "    \n",
    "    \n",
    "    def remove(self):\n",
    "        ret_data = self.current.data\n",
    "        \n",
    "        # 데이터 1개\n",
    "        if self.size() == 1:\n",
    "            self.head = None\n",
    "            self.tail = None\n",
    "            self.before = None\n",
    "            self.current = None\n",
    "            \n",
    "            # getrefcount 를 0 으로 만들어서 사라지게 만듬. 음..이거는 파이썬의 특징인가..? 모든게 객체니까 가능한건가..?\n",
    "            \n",
    "        # current == head => 같은경우, current, head, before 를 모두 next 참조로 바꾸어 주어서 삭제함.\n",
    "        \n",
    "        elif self.current == self.head:\n",
    "            \n",
    "            self.head = self.head.next\n",
    "            self.current = self.current.next\n",
    "            self.before = self.before.next\n",
    "            \n",
    "        # current == tail\n",
    "        \n",
    "        else:\n",
    "            if self.current == self.tail:\n",
    "                self.tail = self.before\n",
    "                \n",
    "            #일반적으로 삭제가 가능한 경우\n",
    "            \n",
    "            # 그림으로 이해해보자. 비포어.넥스트가 가 가리키는곳을 커런트.넥스트로 옮겨서 커런트가 지정해주는것을 없애주고 현재 값을 삭제함\n",
    "            self.before.next = self.current.next\n",
    "            self.current = self.before\n",
    "            \n",
    "           \n",
    "        self.num_data -=1\n",
    "        return ret_data\n",
    "            \n",
    "            \n",
    "\n",
    "        \n",
    "    \n",
    "    def remove(self):\n",
    "        pass\n",
    "   \n",
    "\n",
    "            \n",
    "    \n",
    "        \n",
    "    \n",
    "    \n",
    "    "
   ]
  },
  {
   "cell_type": "code",
   "execution_count": 252,
   "metadata": {},
   "outputs": [],
   "source": [
    "a = Linked_list()"
   ]
  },
  {
   "cell_type": "code",
   "execution_count": 253,
   "metadata": {},
   "outputs": [
    {
     "data": {
      "text/plain": [
       "<__main__.Linked_list at 0x106c9a898>"
      ]
     },
     "execution_count": 253,
     "metadata": {},
     "output_type": "execute_result"
    }
   ],
   "source": [
    "a "
   ]
  },
  {
   "cell_type": "code",
   "execution_count": 270,
   "metadata": {},
   "outputs": [
    {
     "name": "stdout",
     "output_type": "stream",
     "text": [
      "10\n",
      "20\n",
      "None\n",
      "4\n"
     ]
    }
   ],
   "source": [
    "a.append(10)\n",
    "a.append(20)\n",
    "#a.append(30)\n",
    "\n",
    "print(a.head.data)\n",
    "print(a.tail.data)\n",
    "print(a.tail.next)\n",
    "print(a.num_data)"
   ]
  },
  {
   "cell_type": "code",
   "execution_count": 255,
   "metadata": {},
   "outputs": [
    {
     "data": {
      "text/plain": [
       "10"
      ]
     },
     "execution_count": 255,
     "metadata": {},
     "output_type": "execute_result"
    }
   ],
   "source": [
    "a.traverse('first')"
   ]
  },
  {
   "cell_type": "code",
   "execution_count": 266,
   "metadata": {},
   "outputs": [
    {
     "name": "stdout",
     "output_type": "stream",
     "text": [
      "10 20 "
     ]
    }
   ],
   "source": [
    "data = a.traverse('first')\n",
    "while data:\n",
    "    # 내가 데이터를 찾으려면 if data == 2 : 을 넣어주면됨..\n",
    "    # traverse 의 역활을 순회만 하는거고, 그걸 찾는것은 유저가 해야하는 것임..(클라이언트 코드라고함.)\n",
    "    \n",
    "    print(data, end = ' ')\n",
    "    data = a.traverse()\n",
    "\n"
   ]
  },
  {
   "cell_type": "code",
   "execution_count": 267,
   "metadata": {},
   "outputs": [
    {
     "name": "stdout",
     "output_type": "stream",
     "text": [
      "20\n"
     ]
    }
   ],
   "source": [
    "print(a.head.next.data)\n",
    "# 그냥 문법인가? -> 이렇게 명령어를 사용할수 있는 이유 한번 찾아보자.\n",
    "# 이것이 가능한 이유 찾으면 뚫릴거같음..\n",
    "# 비밀은 append에 있는거같은데.."
   ]
  },
  {
   "cell_type": "code",
   "execution_count": null,
   "metadata": {},
   "outputs": [],
   "source": []
  },
  {
   "cell_type": "code",
   "execution_count": 274,
   "metadata": {},
   "outputs": [
    {
     "name": "stdout",
     "output_type": "stream",
     "text": [
      "10 20 10 20 "
     ]
    }
   ],
   "source": [
    "data = a.traverse('first')\n",
    "while data:\n",
    "    if data ==20:\n",
    "        a.remove()\n",
    "    data = a.traverse()\n",
    "    \n",
    "\n",
    "data = a.traverse('first')\n",
    "while data:\n",
    "    print(data, end = ' ')\n",
    "    data = a.traverse()"
   ]
  },
  {
   "cell_type": "code",
   "execution_count": 275,
   "metadata": {},
   "outputs": [],
   "source": [
    "## 삭제와, 업핸드, 데이터 찾는것을 이어서 고민해보고 찾아보면 해답을 찾을수 이해할수 있을것 같음. \n",
    "# 아직은 링크드 리스트를 이미지로는 이해가되는데, 내가 구현해보라고 하면 구현을 할수 없을것 같음... 다른 것들을 통해서 이해하는것 한번 찾아보자."
   ]
  },
  {
   "cell_type": "code",
   "execution_count": null,
   "metadata": {},
   "outputs": [],
   "source": []
  },
  {
   "cell_type": "code",
   "execution_count": null,
   "metadata": {},
   "outputs": [],
   "source": []
  },
  {
   "cell_type": "code",
   "execution_count": null,
   "metadata": {},
   "outputs": [],
   "source": []
  },
  {
   "cell_type": "code",
   "execution_count": null,
   "metadata": {
    "collapsed": true
   },
   "outputs": [],
   "source": []
  }
 ],
 "metadata": {
  "kernelspec": {
   "display_name": "Python 3",
   "language": "python",
   "name": "python3"
  },
  "language_info": {
   "codemirror_mode": {
    "name": "ipython",
    "version": 3
   },
   "file_extension": ".py",
   "mimetype": "text/x-python",
   "name": "python",
   "nbconvert_exporter": "python",
   "pygments_lexer": "ipython3",
   "version": "3.6.2"
  }
 },
 "nbformat": 4,
 "nbformat_minor": 2
}

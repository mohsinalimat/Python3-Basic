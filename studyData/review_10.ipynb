{
 "cells": [
  {
   "cell_type": "code",
   "execution_count": 1,
   "metadata": {
    "collapsed": true
   },
   "outputs": [],
   "source": [
    "## 10일차 복습 "
   ]
  },
  {
   "cell_type": "code",
   "execution_count": 6,
   "metadata": {},
   "outputs": [],
   "source": [
    "# class는 템플릿이다.(붕어빵 틀) : 무언가를 찍어내는 틀이다..?\n",
    "class Account: # class의 구조임. class 함수이름(캐피털라이징함. 첫문자는 대문자)\n",
    "    \n",
    "    # 생성자\n",
    "    # 맴버의 초기화 진행?\n",
    "    def __init__(self, name, money): # self 가 하는 의미가 있지만. 나중에 하고 __는 파이썬이 예약해놓은 문자\n",
    "        #instance member : 연관 있는 변수\n",
    "        self.user = name\n",
    "        self.balance = money\n",
    "    \n",
    "    \n",
    "    def __del__(self):\n",
    "        print(\"객체가 지워지면 나옴\") # def my_acnt 를 사용하면 함수가지워질때 사용되는 명령어 \n",
    "    \n",
    "        # 소멸자\n",
    "        # 주 목적은 메모리의 해제\n",
    "        # 거의 쓰이지 않음\n",
    "        \n",
    "    # instance method : 연관 있는 함수들의 모임.\n",
    "    def deposit(self, money):\n",
    "        if money <= 0:\n",
    "            return None # 여기서부터 인터페이스 설계하는거임 None, True, False\n",
    "        else:\n",
    "            self.balance += money\n",
    "            return self.balance\n",
    "    \n",
    "    def withdraw(self, money):\n",
    "        '''\n",
    "        obj.withdraw(self, money) -> bool -> 객체 함수라는걸 표현하기위해서..\n",
    "        '''\n",
    "        if money <= self.balance:\n",
    "            self.balance -= money # 얼마를 뽑앗다..\n",
    "            return True\n",
    "        else:\n",
    "            return False\n",
    "        \n",
    "        # message passing\n",
    "    def transfer(self, other, money):\n",
    "        res = self.withdraw(money)\n",
    "        if res: # res가 참이면 이라는 함수를 쓸대 이렇게 씀\n",
    "            other.deposit(money)\n",
    "            # 다른 객체의 함수를 호출 -> 내부 정보를 바꾼다. \n",
    "            # 상대방의 내부정보를 바꾸려면 상대방의 함수를 호출해서 내부정보를 바꾼다..?\n",
    "            # 객체간의 상호작용을 할때 함수 호출을 통해서 상호작용을 한다...?\n",
    "            # OOP 라는 개념에서 객체와 객체간에 함수 호출을 통해서 message \n",
    "            \n",
    "            # 여기서 other.balance로 바로 접근해서 하면 안됨. 이유는 페러다임.....?\n",
    "            return True\n",
    "        else: return False\n",
    "\n",
    "    def __str__(self):\n",
    "        return '{}, {}'.format(self.user, self.balance)\n",
    "    \n",
    "    \n",
    "# class : 찍어내는 틀\n",
    "# object : 실제로 존재하는 객체\n",
    "#my_acnt = Account('greg', 7000) # 위의 self 빼고 이름과 돈을 넣음\n",
    "#you_acnt = Account('john', 4000) # Account 가 class로 실행이 됬지만, 형태가 함수랑 비슷하다.\n",
    "\n",
    "# 위의 이녀석들은 def __init__가 실행이됨.\n",
    "\n",
    "#print(my_acnt)\n",
    "#print(you_acnt)"
   ]
  },
  {
   "cell_type": "code",
   "execution_count": 7,
   "metadata": {},
   "outputs": [],
   "source": [
    "my = Account('min', 7000)\n",
    "you = Account('jun', 4000)"
   ]
  },
  {
   "cell_type": "code",
   "execution_count": 8,
   "metadata": {},
   "outputs": [
    {
     "name": "stdout",
     "output_type": "stream",
     "text": [
      "min, 7000\n",
      "jun, 4000\n"
     ]
    }
   ],
   "source": [
    "print(my)\n",
    "print(you)"
   ]
  },
  {
   "cell_type": "code",
   "execution_count": 10,
   "metadata": {},
   "outputs": [
    {
     "data": {
      "text/plain": [
       "7000"
      ]
     },
     "execution_count": 10,
     "metadata": {},
     "output_type": "execute_result"
    }
   ],
   "source": [
    "my.deposit(3000)\n",
    "you.deposit(3000)"
   ]
  },
  {
   "cell_type": "code",
   "execution_count": 12,
   "metadata": {},
   "outputs": [
    {
     "name": "stdout",
     "output_type": "stream",
     "text": [
      "min, 13000\n",
      "jun, 7000\n"
     ]
    }
   ],
   "source": [
    "print(my)\n",
    "print(you)"
   ]
  },
  {
   "cell_type": "code",
   "execution_count": 13,
   "metadata": {
    "collapsed": true
   },
   "outputs": [],
   "source": [
    "my.deposit(-1000)"
   ]
  },
  {
   "cell_type": "code",
   "execution_count": 15,
   "metadata": {},
   "outputs": [
    {
     "data": {
      "text/plain": [
       "True"
      ]
     },
     "execution_count": 15,
     "metadata": {},
     "output_type": "execute_result"
    }
   ],
   "source": [
    "my.withdraw(2000)"
   ]
  },
  {
   "cell_type": "code",
   "execution_count": 16,
   "metadata": {},
   "outputs": [
    {
     "name": "stdout",
     "output_type": "stream",
     "text": [
      "min, 11000\n"
     ]
    }
   ],
   "source": [
    "print(my)"
   ]
  },
  {
   "cell_type": "code",
   "execution_count": 20,
   "metadata": {},
   "outputs": [
    {
     "data": {
      "text/plain": [
       "False"
      ]
     },
     "execution_count": 20,
     "metadata": {},
     "output_type": "execute_result"
    }
   ],
   "source": [
    "my.transfer(you, 20000)"
   ]
  },
  {
   "cell_type": "code",
   "execution_count": 19,
   "metadata": {},
   "outputs": [
    {
     "name": "stdout",
     "output_type": "stream",
     "text": [
      "min, 8000\n",
      "jun, 10000\n"
     ]
    }
   ],
   "source": [
    "print(my)\n",
    "print(you)"
   ]
  },
  {
   "cell_type": "code",
   "execution_count": 21,
   "metadata": {
    "collapsed": true
   },
   "outputs": [],
   "source": [
    "# message paasing 의 원리는 \n",
    "# 내가 만들어 놓은 함수에 연산자 기능을 넣어서. 함수를 설계하는것. \n",
    "# 넣는 기능을 만들어 놓고 다른 함수로 그 기능을 실행하게 만드는 원리..그리고 그것으로 인해서 내부 정보값이 바뀌는것.. 이게 메세지 파싱인듯..?"
   ]
  },
  {
   "cell_type": "code",
   "execution_count": null,
   "metadata": {
    "collapsed": true
   },
   "outputs": [],
   "source": []
  },
  {
   "cell_type": "code",
   "execution_count": 22,
   "metadata": {
    "collapsed": true
   },
   "outputs": [],
   "source": [
    "class Computer:\n",
    "    def __init__(self, cpu, ram):\n",
    "        self.CPU = cpu\n",
    "        self.RAM = ram\n",
    "        self.mem = []\n",
    "        self.send_data = None\n",
    "        self.receive_data = None\n",
    "        \n",
    "    def get_data_from_user(self):\n",
    "        s = input(\"string : \")\n",
    "        self.send_data = s\n",
    "\n"
   ]
  },
  {
   "cell_type": "code",
   "execution_count": 24,
   "metadata": {},
   "outputs": [],
   "source": [
    "my = Computer('intel', 16)\n"
   ]
  },
  {
   "cell_type": "code",
   "execution_count": 34,
   "metadata": {},
   "outputs": [
    {
     "name": "stdout",
     "output_type": "stream",
     "text": [
      "string : minjun\n"
     ]
    }
   ],
   "source": [
    "my.get_data_from_user()"
   ]
  },
  {
   "cell_type": "code",
   "execution_count": 35,
   "metadata": {
    "collapsed": true
   },
   "outputs": [],
   "source": [
    "# 객체(object) vs 인스턴스(instance) \n",
    "#  -> 같은 메모리 공간을 가르킨다.\n"
   ]
  },
  {
   "cell_type": "code",
   "execution_count": 90,
   "metadata": {},
   "outputs": [],
   "source": [
    "class member:\n",
    "    \n",
    "    a = 10\n",
    "    b = 20 \n",
    "    \n",
    "    def __init__(self, x, y):\n",
    "        self.x = x\n",
    "        self.y = y\n",
    "    \n",
    "    def show_cls_member(slef):\n",
    "        print(a, b)\n",
    "        \n",
    "    def f(self):\n",
    "        print('f')\n",
    "        \n",
    "    def g(self):\n",
    "        print('g')"
   ]
  },
  {
   "cell_type": "code",
   "execution_count": 91,
   "metadata": {},
   "outputs": [],
   "source": [
    "me = member(30, 40)"
   ]
  },
  {
   "cell_type": "code",
   "execution_count": 92,
   "metadata": {},
   "outputs": [
    {
     "data": {
      "text/plain": [
       "<__main__.member at 0x1042c9550>"
      ]
     },
     "execution_count": 92,
     "metadata": {},
     "output_type": "execute_result"
    }
   ],
   "source": [
    "me"
   ]
  },
  {
   "cell_type": "code",
   "execution_count": 93,
   "metadata": {},
   "outputs": [
    {
     "data": {
      "text/plain": [
       "30"
      ]
     },
     "execution_count": 93,
     "metadata": {},
     "output_type": "execute_result"
    }
   ],
   "source": [
    "me.x"
   ]
  },
  {
   "cell_type": "code",
   "execution_count": 94,
   "metadata": {},
   "outputs": [
    {
     "data": {
      "text/plain": [
       "40"
      ]
     },
     "execution_count": 94,
     "metadata": {},
     "output_type": "execute_result"
    }
   ],
   "source": [
    "me.y"
   ]
  },
  {
   "cell_type": "code",
   "execution_count": 95,
   "metadata": {},
   "outputs": [
    {
     "data": {
      "text/plain": [
       "<bound method member.show_cls_member of <__main__.member object at 0x1042c9550>>"
      ]
     },
     "execution_count": 95,
     "metadata": {},
     "output_type": "execute_result"
    }
   ],
   "source": [
    "me.show_cls_member"
   ]
  },
  {
   "cell_type": "code",
   "execution_count": 96,
   "metadata": {},
   "outputs": [
    {
     "data": {
      "text/plain": [
       "['__call__',\n",
       " '__class__',\n",
       " '__delattr__',\n",
       " '__dir__',\n",
       " '__doc__',\n",
       " '__eq__',\n",
       " '__format__',\n",
       " '__func__',\n",
       " '__ge__',\n",
       " '__get__',\n",
       " '__getattribute__',\n",
       " '__gt__',\n",
       " '__hash__',\n",
       " '__init__',\n",
       " '__init_subclass__',\n",
       " '__le__',\n",
       " '__lt__',\n",
       " '__ne__',\n",
       " '__new__',\n",
       " '__reduce__',\n",
       " '__reduce_ex__',\n",
       " '__repr__',\n",
       " '__self__',\n",
       " '__setattr__',\n",
       " '__sizeof__',\n",
       " '__str__',\n",
       " '__subclasshook__']"
      ]
     },
     "execution_count": 96,
     "metadata": {},
     "output_type": "execute_result"
    }
   ],
   "source": [
    "dir(me.show_cls_member)"
   ]
  },
  {
   "cell_type": "code",
   "execution_count": 67,
   "metadata": {},
   "outputs": [
    {
     "data": {
      "text/plain": [
       "{'x': 30, 'y': 40}"
      ]
     },
     "execution_count": 67,
     "metadata": {},
     "output_type": "execute_result"
    }
   ],
   "source": [
    "me.__dict__"
   ]
  },
  {
   "cell_type": "code",
   "execution_count": 68,
   "metadata": {},
   "outputs": [
    {
     "name": "stdout",
     "output_type": "stream",
     "text": [
      "f\n"
     ]
    }
   ],
   "source": [
    "me.f()"
   ]
  },
  {
   "cell_type": "code",
   "execution_count": 69,
   "metadata": {},
   "outputs": [
    {
     "name": "stdout",
     "output_type": "stream",
     "text": [
      "g\n"
     ]
    }
   ],
   "source": [
    "me.g()"
   ]
  },
  {
   "cell_type": "code",
   "execution_count": null,
   "metadata": {},
   "outputs": [],
   "source": []
  },
  {
   "cell_type": "code",
   "execution_count": 97,
   "metadata": {
    "collapsed": true
   },
   "outputs": [],
   "source": [
    "# iterator 클레스 만들기\n",
    "#  1. __iter__ 메서드 있어야함\n",
    "#  2. __next__ 메서드를 가지고 있어야함\n",
    "#  3. stopiteration 에러를 내야함."
   ]
  },
  {
   "cell_type": "code",
   "execution_count": null,
   "metadata": {
    "collapsed": true
   },
   "outputs": [],
   "source": []
  },
  {
   "cell_type": "code",
   "execution_count": 98,
   "metadata": {
    "collapsed": true
   },
   "outputs": [],
   "source": [
    "li = [1, 2, 3, 4]\n",
    "it = iter(li)"
   ]
  },
  {
   "cell_type": "code",
   "execution_count": 99,
   "metadata": {},
   "outputs": [
    {
     "data": {
      "text/plain": [
       "<list_iterator at 0x1042c2f98>"
      ]
     },
     "execution_count": 99,
     "metadata": {},
     "output_type": "execute_result"
    }
   ],
   "source": [
    "it"
   ]
  },
  {
   "cell_type": "code",
   "execution_count": 104,
   "metadata": {},
   "outputs": [
    {
     "ename": "StopIteration",
     "evalue": "",
     "output_type": "error",
     "traceback": [
      "\u001b[0;31m---------------------------------------------------------------------------\u001b[0m",
      "\u001b[0;31mStopIteration\u001b[0m                             Traceback (most recent call last)",
      "\u001b[0;32m<ipython-input-104-2cdb14c0d4d6>\u001b[0m in \u001b[0;36m<module>\u001b[0;34m()\u001b[0m\n\u001b[0;32m----> 1\u001b[0;31m \u001b[0mnext\u001b[0m\u001b[0;34m(\u001b[0m\u001b[0mit\u001b[0m\u001b[0;34m)\u001b[0m\u001b[0;34m\u001b[0m\u001b[0m\n\u001b[0m",
      "\u001b[0;31mStopIteration\u001b[0m: "
     ]
    }
   ],
   "source": [
    "next(it)"
   ]
  },
  {
   "cell_type": "code",
   "execution_count": 105,
   "metadata": {},
   "outputs": [
    {
     "data": {
      "text/plain": [
       "['__class__',\n",
       " '__delattr__',\n",
       " '__dir__',\n",
       " '__doc__',\n",
       " '__eq__',\n",
       " '__format__',\n",
       " '__ge__',\n",
       " '__getattribute__',\n",
       " '__gt__',\n",
       " '__hash__',\n",
       " '__init__',\n",
       " '__init_subclass__',\n",
       " '__iter__',\n",
       " '__le__',\n",
       " '__length_hint__',\n",
       " '__lt__',\n",
       " '__ne__',\n",
       " '__new__',\n",
       " '__next__',\n",
       " '__reduce__',\n",
       " '__reduce_ex__',\n",
       " '__repr__',\n",
       " '__setattr__',\n",
       " '__setstate__',\n",
       " '__sizeof__',\n",
       " '__str__',\n",
       " '__subclasshook__']"
      ]
     },
     "execution_count": 105,
     "metadata": {},
     "output_type": "execute_result"
    }
   ],
   "source": [
    "dir(it)"
   ]
  },
  {
   "cell_type": "code",
   "execution_count": 106,
   "metadata": {},
   "outputs": [
    {
     "name": "stdout",
     "output_type": "stream",
     "text": [
      "Help on built-in function dir in module builtins:\n",
      "\n",
      "dir(...)\n",
      "    dir([object]) -> list of strings\n",
      "    \n",
      "    If called without an argument, return the names in the current scope.\n",
      "    Else, return an alphabetized list of names comprising (some of) the attributes\n",
      "    of the given object, and of attributes reachable from it.\n",
      "    If the object supplies a method named __dir__, it will be used; otherwise\n",
      "    the default dir() logic is used and returns:\n",
      "      for a module object: the module's attributes.\n",
      "      for a class object:  its attributes, and recursively the attributes\n",
      "        of its bases.\n",
      "      for any other object: its attributes, its class's attributes, and\n",
      "        recursively the attributes of its class's base classes.\n",
      "\n"
     ]
    }
   ],
   "source": [
    "help(dir)"
   ]
  },
  {
   "cell_type": "code",
   "execution_count": null,
   "metadata": {},
   "outputs": [],
   "source": []
  },
  {
   "cell_type": "code",
   "execution_count": 117,
   "metadata": {
    "collapsed": true
   },
   "outputs": [],
   "source": [
    "class Counter:\n",
    "    def __init__(self, low, high):\n",
    "        # low 부터 high까지 가서 stopli~ 나오게 만들꺼임\n",
    "        \n",
    "        self.current = low\n",
    "        self.high = high\n",
    "        \n",
    "        def __iter__(self):\n",
    "            return self #itrator 함수를 만들때 return self 하라고 정의 해놓음\n",
    "        \n",
    "        def __next__(self):\n",
    "            if self.current > self.high:\n",
    "                raise Stoplteration # raise(일으킨다는 의미임. )\n",
    "                \n",
    "            else:\n",
    "                res = self.current\n",
    "                self.current += 1\n",
    "                return res"
   ]
  },
  {
   "cell_type": "code",
   "execution_count": 118,
   "metadata": {
    "collapsed": true
   },
   "outputs": [],
   "source": [
    "a = Counter(1, 5)"
   ]
  },
  {
   "cell_type": "code",
   "execution_count": 119,
   "metadata": {},
   "outputs": [
    {
     "data": {
      "text/plain": [
       "['__class__',\n",
       " '__delattr__',\n",
       " '__dict__',\n",
       " '__dir__',\n",
       " '__doc__',\n",
       " '__eq__',\n",
       " '__format__',\n",
       " '__ge__',\n",
       " '__getattribute__',\n",
       " '__gt__',\n",
       " '__hash__',\n",
       " '__init__',\n",
       " '__init_subclass__',\n",
       " '__le__',\n",
       " '__lt__',\n",
       " '__module__',\n",
       " '__ne__',\n",
       " '__new__',\n",
       " '__reduce__',\n",
       " '__reduce_ex__',\n",
       " '__repr__',\n",
       " '__setattr__',\n",
       " '__sizeof__',\n",
       " '__str__',\n",
       " '__subclasshook__',\n",
       " '__weakref__',\n",
       " 'current',\n",
       " 'high']"
      ]
     },
     "execution_count": 119,
     "metadata": {},
     "output_type": "execute_result"
    }
   ],
   "source": [
    "dir(a)"
   ]
  },
  {
   "cell_type": "code",
   "execution_count": 120,
   "metadata": {},
   "outputs": [
    {
     "ename": "TypeError",
     "evalue": "'Counter' object is not iterable",
     "output_type": "error",
     "traceback": [
      "\u001b[0;31m---------------------------------------------------------------------------\u001b[0m",
      "\u001b[0;31mTypeError\u001b[0m                                 Traceback (most recent call last)",
      "\u001b[0;32m<ipython-input-120-c7eb996f33fb>\u001b[0m in \u001b[0;36m<module>\u001b[0;34m()\u001b[0m\n\u001b[0;32m----> 1\u001b[0;31m \u001b[0miter\u001b[0m\u001b[0;34m(\u001b[0m\u001b[0ma\u001b[0m\u001b[0;34m)\u001b[0m\u001b[0;34m\u001b[0m\u001b[0m\n\u001b[0m",
      "\u001b[0;31mTypeError\u001b[0m: 'Counter' object is not iterable"
     ]
    }
   ],
   "source": [
    "iter(a)"
   ]
  },
  {
   "cell_type": "code",
   "execution_count": 133,
   "metadata": {},
   "outputs": [],
   "source": [
    "class counter1:\n",
    "    \n",
    "    def __init__(self, low, high):\n",
    "        self.low = low\n",
    "        self.high = high\n",
    "        \n",
    "    def __iter__(self):\n",
    "        return self\n",
    "    \n",
    "    def __next__(self):\n",
    "        if self.low > self.high:\n",
    "            raise StopIteration\n",
    "            \n",
    "        else:\n",
    "            res = self.low\n",
    "            self.low += 1\n",
    "            return res"
   ]
  },
  {
   "cell_type": "code",
   "execution_count": 134,
   "metadata": {},
   "outputs": [],
   "source": [
    "my = counter1(5, 10)"
   ]
  },
  {
   "cell_type": "code",
   "execution_count": 135,
   "metadata": {},
   "outputs": [
    {
     "data": {
      "text/plain": [
       "<__main__.counter1 at 0x1042ac9b0>"
      ]
     },
     "execution_count": 135,
     "metadata": {},
     "output_type": "execute_result"
    }
   ],
   "source": [
    "iter(my)"
   ]
  },
  {
   "cell_type": "code",
   "execution_count": 140,
   "metadata": {},
   "outputs": [
    {
     "data": {
      "text/plain": [
       "9"
      ]
     },
     "execution_count": 140,
     "metadata": {},
     "output_type": "execute_result"
    }
   ],
   "source": [
    "next(my)"
   ]
  },
  {
   "cell_type": "code",
   "execution_count": 141,
   "metadata": {
    "collapsed": true
   },
   "outputs": [],
   "source": [
    "## 이런식으로 만들수 있음 __iter__(self):\n",
    "#                     return self 는 문법입\n",
    "\n",
    "# generator 은 iterator의 일종임. \n",
    "# generator 은 함수이고, iterator의 일종임."
   ]
  },
  {
   "cell_type": "code",
   "execution_count": 142,
   "metadata": {
    "collapsed": true
   },
   "outputs": [],
   "source": [
    "# class를 사용하지 않고 제너레이터를 만들수 있음.\n"
   ]
  },
  {
   "cell_type": "code",
   "execution_count": null,
   "metadata": {
    "collapsed": true
   },
   "outputs": [],
   "source": []
  },
  {
   "cell_type": "code",
   "execution_count": 143,
   "metadata": {
    "collapsed": true
   },
   "outputs": [],
   "source": [
    "li =[1,2,3,4,5]\n",
    "\n",
    "def gen(li):\n",
    "    for e in li:\n",
    "        yield e\n",
    "        \n",
    "        # yield 를 사용하는 순간. gen함수가 이터레이터가됨. "
   ]
  },
  {
   "cell_type": "code",
   "execution_count": 145,
   "metadata": {},
   "outputs": [],
   "source": [
    "g = gen(li)"
   ]
  },
  {
   "cell_type": "code",
   "execution_count": 152,
   "metadata": {},
   "outputs": [
    {
     "ename": "StopIteration",
     "evalue": "",
     "output_type": "error",
     "traceback": [
      "\u001b[0;31m---------------------------------------------------------------------------\u001b[0m",
      "\u001b[0;31mStopIteration\u001b[0m                             Traceback (most recent call last)",
      "\u001b[0;32m<ipython-input-152-5f315c5de15b>\u001b[0m in \u001b[0;36m<module>\u001b[0;34m()\u001b[0m\n\u001b[0;32m----> 1\u001b[0;31m \u001b[0mnext\u001b[0m\u001b[0;34m(\u001b[0m\u001b[0mg\u001b[0m\u001b[0;34m)\u001b[0m\u001b[0;34m\u001b[0m\u001b[0m\n\u001b[0m",
      "\u001b[0;31mStopIteration\u001b[0m: "
     ]
    }
   ],
   "source": [
    "next(g)"
   ]
  },
  {
   "cell_type": "code",
   "execution_count": 159,
   "metadata": {},
   "outputs": [],
   "source": [
    "# property 함수 사용.\n",
    "\n",
    "class Person:\n",
    "    def __init__(self, money):\n",
    "        self.money = money\n",
    "        \n",
    "    @property\n",
    "    def money(self):\n",
    "        print('getter')\n",
    "        return self._m\n",
    "    \n",
    "    @money.setter # 위의 money 함수의 setter라는 의미. 함수 이름 바뀌면 바꾸어 줘야됨.\n",
    "    \n",
    "    def money(self, money):\n",
    "        self._m = money\n",
    "        print('setter')\n",
    "        \n",
    "        if money <0:\n",
    "            money = 0\n",
    "            \n",
    "            \n",
    "        elif money > 10000:\n",
    "            money = 10000\n",
    "            \n",
    "        self._m = money"
   ]
  },
  {
   "cell_type": "code",
   "execution_count": 171,
   "metadata": {},
   "outputs": [
    {
     "name": "stdout",
     "output_type": "stream",
     "text": [
      "setter\n"
     ]
    }
   ],
   "source": [
    "a = Person(3000) # 위의 init 으로 생성자를 실행 시켰는데. property아래에 있는 money.setter함수가 실행됨.\n",
    "                 # 애초에 초기에 제한을 걸어두기 위해 property와, money.setter을 사용함.\n",
    "\n",
    "    \n",
    "# property 의 애초 목적 : 사용자가 클레스에어떤 값을 넣을때 내가 그 값의 범위를 지정해주고, 올바르게 적을수 있게 만들어어 주는 역활을 한다."
   ]
  },
  {
   "cell_type": "code",
   "execution_count": 169,
   "metadata": {},
   "outputs": [
    {
     "name": "stdout",
     "output_type": "stream",
     "text": [
      "getter\n"
     ]
    },
    {
     "data": {
      "text/plain": [
       "3000"
      ]
     },
     "execution_count": 169,
     "metadata": {},
     "output_type": "execute_result"
    }
   ],
   "source": [
    "a.money # a.money 에 접근하니까 getter가 나옴."
   ]
  },
  {
   "cell_type": "code",
   "execution_count": null,
   "metadata": {},
   "outputs": [],
   "source": [
    "# 함수 오버로딩(function overloading)\n",
    "#  -> 클레스 안에 같은 함수이름 두개가 들어가는 현상 -> 파이썬에서는 사용불가.\n",
    "# but property. 에서는 같은 이름의 함수가 사용됨."
   ]
  },
  {
   "cell_type": "code",
   "execution_count": 198,
   "metadata": {},
   "outputs": [],
   "source": [
    "class Base:\n",
    "    def func(self, c):\n",
    "        print('func')\n",
    "        \n",
    "    def func(self, a , b):\n",
    "        print('secondfunc',a , b)"
   ]
  },
  {
   "cell_type": "code",
   "execution_count": 199,
   "metadata": {
    "collapsed": true
   },
   "outputs": [],
   "source": [
    "me = Base()"
   ]
  },
  {
   "cell_type": "code",
   "execution_count": 200,
   "metadata": {},
   "outputs": [
    {
     "data": {
      "text/plain": [
       "<__main__.Base at 0x104267f28>"
      ]
     },
     "execution_count": 200,
     "metadata": {},
     "output_type": "execute_result"
    }
   ],
   "source": [
    "me"
   ]
  },
  {
   "cell_type": "code",
   "execution_count": 203,
   "metadata": {},
   "outputs": [
    {
     "ename": "TypeError",
     "evalue": "func() missing 1 required positional argument: 'b'",
     "output_type": "error",
     "traceback": [
      "\u001b[0;31m---------------------------------------------------------------------------\u001b[0m",
      "\u001b[0;31mTypeError\u001b[0m                                 Traceback (most recent call last)",
      "\u001b[0;32m<ipython-input-203-ba377e79e970>\u001b[0m in \u001b[0;36m<module>\u001b[0;34m()\u001b[0m\n\u001b[1;32m      1\u001b[0m \u001b[0;34m\u001b[0m\u001b[0m\n\u001b[0;32m----> 2\u001b[0;31m \u001b[0mme\u001b[0m\u001b[0;34m.\u001b[0m\u001b[0mfunc\u001b[0m\u001b[0;34m(\u001b[0m\u001b[0;36m10\u001b[0m\u001b[0;34m)\u001b[0m\u001b[0;34m\u001b[0m\u001b[0m\n\u001b[0m\u001b[1;32m      3\u001b[0m \u001b[0;34m\u001b[0m\u001b[0m\n\u001b[1;32m      4\u001b[0m \u001b[0;31m# 두번째 함수로 덮어 씌워져서 실행됨..\u001b[0m\u001b[0;34m\u001b[0m\u001b[0;34m\u001b[0m\u001b[0m\n",
      "\u001b[0;31mTypeError\u001b[0m: func() missing 1 required positional argument: 'b'"
     ]
    }
   ],
   "source": [
    "\n",
    "me.func(10)\n",
    "\n",
    "# 두번째 함수로 덮어 씌워져서 실행됨..\n"
   ]
  },
  {
   "cell_type": "code",
   "execution_count": 271,
   "metadata": {},
   "outputs": [],
   "source": [
    "# 위의 방법이랑 이어서 \n",
    "\n",
    "class Point:\n",
    "    def __init__(self, x = 0, y= 0 ): \n",
    "        self.x = x\n",
    "        self.y = y\n",
    "        \n",
    "    def get_point(self):\n",
    "        return self.x, self.y  # 튜플로 던질수 있게 만들어줌\n",
    "    \n",
    "    def set_point(self, x, y):\n",
    "        self.x = x\n",
    "        self.y = y\n",
    "        \n",
    "    # __add__ 를 추가함\n",
    "    def __add__(self, other):\n",
    "        _x = self.x + other\n",
    "        _y = self.y + other\n",
    "        return Point(_x, _y)\n",
    "    \n",
    "    def __radd__(self,other):\n",
    "        return self.__add__(other)\n",
    "    # 거꾸로 계산도 가능하게 해주는 명령어\n",
    "    # 원리를 생각해보면. __radd__명령어로 self.__add__(other)만 실행시켜서 거꾸로 만들어줌"
   ]
  },
  {
   "cell_type": "code",
   "execution_count": 272,
   "metadata": {
    "collapsed": true
   },
   "outputs": [],
   "source": [
    "p1 = Point()"
   ]
  },
  {
   "cell_type": "code",
   "execution_count": 273,
   "metadata": {},
   "outputs": [
    {
     "data": {
      "text/plain": [
       "(0, 0)"
      ]
     },
     "execution_count": 273,
     "metadata": {},
     "output_type": "execute_result"
    }
   ],
   "source": [
    "me.get_point() # 애초에 __init__로 만들어 놓은것을 튜플로 묶어서 던져줌\n",
    "               # 그게 return self.x, self.y 이구나..!\n",
    "    "
   ]
  },
  {
   "cell_type": "code",
   "execution_count": 274,
   "metadata": {},
   "outputs": [],
   "source": [
    "p1.set_point(3, 3)"
   ]
  },
  {
   "cell_type": "code",
   "execution_count": 275,
   "metadata": {},
   "outputs": [
    {
     "data": {
      "text/plain": [
       "(3, 3)"
      ]
     },
     "execution_count": 275,
     "metadata": {},
     "output_type": "execute_result"
    }
   ],
   "source": [
    "p1.get_point()"
   ]
  },
  {
   "cell_type": "code",
   "execution_count": 276,
   "metadata": {
    "collapsed": true
   },
   "outputs": [],
   "source": [
    "p2 = p1 + 5"
   ]
  },
  {
   "cell_type": "code",
   "execution_count": 277,
   "metadata": {},
   "outputs": [
    {
     "data": {
      "text/plain": [
       "(8, 8)"
      ]
     },
     "execution_count": 277,
     "metadata": {},
     "output_type": "execute_result"
    }
   ],
   "source": [
    "p2.get_point() # 5 가 더해짐"
   ]
  },
  {
   "cell_type": "code",
   "execution_count": 278,
   "metadata": {},
   "outputs": [],
   "source": [
    "p3 = 5 + p2"
   ]
  },
  {
   "cell_type": "code",
   "execution_count": 279,
   "metadata": {},
   "outputs": [
    {
     "data": {
      "text/plain": [
       "(13, 13)"
      ]
     },
     "execution_count": 279,
     "metadata": {},
     "output_type": "execute_result"
    }
   ],
   "source": [
    "p3.get_point()"
   ]
  },
  {
   "cell_type": "code",
   "execution_count": null,
   "metadata": {
    "collapsed": true
   },
   "outputs": [],
   "source": []
  },
  {
   "cell_type": "code",
   "execution_count": null,
   "metadata": {
    "collapsed": true
   },
   "outputs": [],
   "source": []
  },
  {
   "cell_type": "code",
   "execution_count": 282,
   "metadata": {
    "collapsed": true
   },
   "outputs": [],
   "source": [
    "## class 의 상속과 합성 조금 다른 개념이다.\n",
    "## super() 내장 함수를 사용하는 이유는, 상속 시킬때 중복 되면 상속된녀석안에 있는 또 다른걸 불러와서 충돌이 발생할수 있기 떄문임.\n",
    "# super()이 부모 클레스를 반환한다..?음.. 아직 와닿지는않음.."
   ]
  },
  {
   "cell_type": "code",
   "execution_count": null,
   "metadata": {
    "collapsed": true
   },
   "outputs": [],
   "source": []
  },
  {
   "cell_type": "code",
   "execution_count": 299,
   "metadata": {
    "collapsed": true
   },
   "outputs": [],
   "source": [
    "class Computer:\n",
    "    def __init__(self, cpu, ram): \n",
    "\n",
    "        \n",
    "        self.CPU = cpu\n",
    "        self.RAM = ram\n",
    "        \n",
    "    def browse(self):\n",
    "        print('browse')\n",
    "        \n",
    "    def work(self):\n",
    "        print('work')\n",
    "        \n",
    "        \n",
    "  \n",
    "        \n",
    "class Laptop(Computer):\n",
    "    def __init__(self, cpu, ram, battery):\n",
    "        super().__init__(cpu, ram)\n",
    "        \n",
    "        #\n",
    "        self.battery = battery\n",
    "        \n",
    "    def move(self, where):\n",
    "        print('move to {}'.format(where))\n",
    "        "
   ]
  },
  {
   "cell_type": "code",
   "execution_count": 300,
   "metadata": {
    "collapsed": true
   },
   "outputs": [],
   "source": [
    "me = Computer('inter', 16)"
   ]
  },
  {
   "cell_type": "code",
   "execution_count": 301,
   "metadata": {},
   "outputs": [
    {
     "name": "stdout",
     "output_type": "stream",
     "text": [
      "inter\n",
      "16\n",
      "browse\n",
      "None\n",
      "work\n",
      "None\n"
     ]
    }
   ],
   "source": [
    "print(me.CPU)\n",
    "print(me.RAM)\n",
    "print(me.browse())\n",
    "print(me.work())"
   ]
  },
  {
   "cell_type": "code",
   "execution_count": 302,
   "metadata": {},
   "outputs": [],
   "source": [
    "me_lap = Laptop('AMD', 32, 100)"
   ]
  },
  {
   "cell_type": "code",
   "execution_count": 303,
   "metadata": {},
   "outputs": [
    {
     "name": "stdout",
     "output_type": "stream",
     "text": [
      "AMD\n",
      "32\n",
      "100\n"
     ]
    }
   ],
   "source": [
    "print(me_lap.CPU)\n",
    "print(me_lap.RAM)\n",
    "print(me_lap.battery)"
   ]
  },
  {
   "cell_type": "code",
   "execution_count": 304,
   "metadata": {},
   "outputs": [
    {
     "name": "stdout",
     "output_type": "stream",
     "text": [
      "move to 신사\n"
     ]
    }
   ],
   "source": [
    "me_lap.move('신사')\n",
    "# 위의 me 에 정의해둔것은 사용할수 없게됨.."
   ]
  },
  {
   "cell_type": "code",
   "execution_count": 307,
   "metadata": {},
   "outputs": [],
   "source": [
    "############위의 예제는 상속을 시킨 경우\n",
    "# 여기에서는 같은 컴퓨터라는 특징을 가지고 있고, 그 컴퓨터의 다른점들을 사용하기 위해 상속을 시켰음.\n"
   ]
  },
  {
   "cell_type": "code",
   "execution_count": 308,
   "metadata": {
    "collapsed": true
   },
   "outputs": [],
   "source": [
    "# 아래의 예제는 상속을 하지 않는 경우. 왜 상속을 하고, 왜 상속을 하지 않는지 이해해보자\n"
   ]
  },
  {
   "cell_type": "code",
   "execution_count": 316,
   "metadata": {},
   "outputs": [
    {
     "data": {
      "text/plain": [
       "False"
      ]
     },
     "execution_count": 316,
     "metadata": {},
     "output_type": "execute_result"
    }
   ],
   "source": [
    "a = ''\n",
    "\n",
    "a is True"
   ]
  },
  {
   "cell_type": "code",
   "execution_count": 368,
   "metadata": {},
   "outputs": [],
   "source": [
    "class Gun:\n",
    "    def __init__(self, gun_kind):\n",
    "        self.gun_kind = gun_kind\n",
    "        \n",
    "    def bang(self):\n",
    "        print('bang bang')\n",
    "        \n",
    "    def find_gun(self):\n",
    "        print(gun_kind)\n",
    "        \n",
    "        ## 여기위에서는 총만 설정 해줌. 총의 종류와 기능.\n",
    "        \n",
    "class Police:\n",
    "    def __init__(self, gun_kind =''): # 총의 종류에 디폴트값으로 ''를 \n",
    "        if not gun_kind: # False 로 시작할수 있게 만듬.\n",
    "            self.gun = None\n",
    "        else:\n",
    "            self.gun = Gun(gun_kind)\n",
    "            \n",
    "   \n",
    "    def get_gun(self, gun_kind):\n",
    "        self.gun = Gun(gun_kind)\n",
    "        \n",
    "    def find_gun1(self):\n",
    "        print(gun_kind)\n",
    "        \n",
    "        ##### 여기 함수에서 Gun 클레스로 접근해서 총을 얻음.\n",
    "    def shoot(self):\n",
    "        if not self.gun:\n",
    "            return\n",
    "        \n",
    "        self.gun.bang()\n",
    "            "
   ]
  },
  {
   "cell_type": "code",
   "execution_count": 369,
   "metadata": {
    "collapsed": true
   },
   "outputs": [],
   "source": [
    "p1 = Gun('')"
   ]
  },
  {
   "cell_type": "code",
   "execution_count": 370,
   "metadata": {},
   "outputs": [],
   "source": [
    "p2 = Police('')"
   ]
  },
  {
   "cell_type": "code",
   "execution_count": 372,
   "metadata": {},
   "outputs": [
    {
     "data": {
      "text/plain": [
       "<bound method Gun.find_gun of <__main__.Gun object at 0x1042695f8>>"
      ]
     },
     "execution_count": 372,
     "metadata": {},
     "output_type": "execute_result"
    }
   ],
   "source": [
    "p1.find_gun"
   ]
  },
  {
   "cell_type": "code",
   "execution_count": 374,
   "metadata": {},
   "outputs": [
    {
     "ename": "AttributeError",
     "evalue": "'Police' object has no attribute 'find_gun'",
     "output_type": "error",
     "traceback": [
      "\u001b[0;31m---------------------------------------------------------------------------\u001b[0m",
      "\u001b[0;31mAttributeError\u001b[0m                            Traceback (most recent call last)",
      "\u001b[0;32m<ipython-input-374-827f7797accc>\u001b[0m in \u001b[0;36m<module>\u001b[0;34m()\u001b[0m\n\u001b[0;32m----> 1\u001b[0;31m \u001b[0mp2\u001b[0m\u001b[0;34m.\u001b[0m\u001b[0mfind_gun\u001b[0m\u001b[0;34m\u001b[0m\u001b[0m\n\u001b[0m",
      "\u001b[0;31mAttributeError\u001b[0m: 'Police' object has no attribute 'find_gun'"
     ]
    }
   ],
   "source": [
    "p2.find_gun"
   ]
  },
  {
   "cell_type": "code",
   "execution_count": 366,
   "metadata": {
    "collapsed": true
   },
   "outputs": [],
   "source": [
    "p1.get_gun(gun)"
   ]
  },
  {
   "cell_type": "code",
   "execution_count": 340,
   "metadata": {},
   "outputs": [
    {
     "name": "stdout",
     "output_type": "stream",
     "text": [
      "<__main__.Gun object at 0x104269198>\n"
     ]
    }
   ],
   "source": [
    "print(p1.gun)"
   ]
  },
  {
   "cell_type": "code",
   "execution_count": 363,
   "metadata": {},
   "outputs": [
    {
     "data": {
      "text/plain": [
       "<bound method Police.gun_kkind of <__main__.Police object at 0x104177d30>>"
      ]
     },
     "execution_count": 363,
     "metadata": {},
     "output_type": "execute_result"
    }
   ],
   "source": [
    "p1.gun_kkind"
   ]
  },
  {
   "cell_type": "code",
   "execution_count": 361,
   "metadata": {},
   "outputs": [
    {
     "data": {
      "text/plain": [
       "<bound method Police.gun_kkind of <__main__.Police object at 0x104177d30>>"
      ]
     },
     "execution_count": 361,
     "metadata": {},
     "output_type": "execute_result"
    }
   ],
   "source": [
    "p1.gun_kkind"
   ]
  },
  {
   "cell_type": "code",
   "execution_count": null,
   "metadata": {
    "collapsed": true
   },
   "outputs": [],
   "source": []
  },
  {
   "cell_type": "code",
   "execution_count": null,
   "metadata": {
    "collapsed": true
   },
   "outputs": [],
   "source": []
  },
  {
   "cell_type": "code",
   "execution_count": 375,
   "metadata": {
    "collapsed": true
   },
   "outputs": [],
   "source": [
    "# 함수의 다형성\n",
    "# polymorphism \n",
    "# abstract class = 추상 클레스\n"
   ]
  },
  {
   "cell_type": "code",
   "execution_count": null,
   "metadata": {
    "collapsed": true
   },
   "outputs": [],
   "source": []
  },
  {
   "cell_type": "code",
   "execution_count": 376,
   "metadata": {
    "collapsed": true
   },
   "outputs": [],
   "source": [
    "from abc import *\n",
    "\n",
    "class Animal(metaclass = ABCMeta): # meta class 문법.\n",
    "    @abstractmethod\n",
    "    \n",
    "    def say(slef):\n",
    "        pass\n",
    "    \n",
    "class Dog(Animal):\n",
    "    def say(self):\n",
    "        print('멍멍')\n",
    "        \n",
    "class Cat(Animal):\n",
    "    def say(self):\n",
    "        print('야옹 야옹')\n",
    "        \n",
    "class Duck(Animal):\n",
    "    def bark(self):\n",
    "        print('꽥꽥')\n",
    "        "
   ]
  },
  {
   "cell_type": "code",
   "execution_count": null,
   "metadata": {
    "collapsed": true
   },
   "outputs": [],
   "source": []
  },
  {
   "cell_type": "code",
   "execution_count": 383,
   "metadata": {},
   "outputs": [
    {
     "name": "stdout",
     "output_type": "stream",
     "text": [
      "멍멍\n"
     ]
    }
   ],
   "source": [
    "a = Dog()\n",
    "a.say()"
   ]
  },
  {
   "cell_type": "code",
   "execution_count": 384,
   "metadata": {},
   "outputs": [
    {
     "name": "stdout",
     "output_type": "stream",
     "text": [
      "야옹 야옹\n"
     ]
    }
   ],
   "source": [
    "b = Cat()\n",
    "b.say()"
   ]
  },
  {
   "cell_type": "code",
   "execution_count": 386,
   "metadata": {},
   "outputs": [
    {
     "ename": "TypeError",
     "evalue": "Can't instantiate abstract class Duck with abstract methods say",
     "output_type": "error",
     "traceback": [
      "\u001b[0;31m---------------------------------------------------------------------------\u001b[0m",
      "\u001b[0;31mTypeError\u001b[0m                                 Traceback (most recent call last)",
      "\u001b[0;32m<ipython-input-386-d64cebcc75cd>\u001b[0m in \u001b[0;36m<module>\u001b[0;34m()\u001b[0m\n\u001b[0;32m----> 1\u001b[0;31m \u001b[0mc\u001b[0m \u001b[0;34m=\u001b[0m\u001b[0mDuck\u001b[0m\u001b[0;34m(\u001b[0m\u001b[0;34m)\u001b[0m\u001b[0;34m\u001b[0m\u001b[0m\n\u001b[0m\u001b[1;32m      2\u001b[0m \u001b[0mc\u001b[0m\u001b[0;34m.\u001b[0m\u001b[0mbark\u001b[0m\u001b[0;34m(\u001b[0m\u001b[0;34m)\u001b[0m\u001b[0;34m\u001b[0m\u001b[0m\n\u001b[1;32m      3\u001b[0m \u001b[0;31m# abstrackmethod 에 의해서 def say(self) 를 넣어줘야함. 같은 규칙을 넣지 않아서 작동을하지않음\u001b[0m\u001b[0;34m\u001b[0m\u001b[0;34m\u001b[0m\u001b[0m\n\u001b[1;32m      4\u001b[0m \u001b[0;34m\u001b[0m\u001b[0m\n\u001b[1;32m      5\u001b[0m \u001b[0;31m# 이게 중요한 이유는. 내가 실수를 애초에 줄일수 있음. 나중에 데이터가 많은 작업을할때 abstractmethod 를 걸어놓고작업하면 실수를 미연에 방지 할수 있음.\u001b[0m\u001b[0;34m\u001b[0m\u001b[0;34m\u001b[0m\u001b[0m\n",
      "\u001b[0;31mTypeError\u001b[0m: Can't instantiate abstract class Duck with abstract methods say"
     ]
    }
   ],
   "source": [
    "c =Duck()\n",
    "c.bark()\n",
    "# abstrackmethod 에 의해서 def say(self) 를 넣어줘야함. 같은 규칙을 넣지 않아서 작동을하지않음\n",
    "\n",
    "# 이게 중요한 이유는. 내가 실수를 애초에 줄일수 있음. 나중에 데이터가 많은 작업을할때 abstractmethod 를 걸어놓고작업하면 실수를 미연에 방지 할수 있음.\n",
    "# 실수를 미연에 방지하고 수정하고 넘어갈수 있음."
   ]
  },
  {
   "cell_type": "code",
   "execution_count": null,
   "metadata": {
    "collapsed": true
   },
   "outputs": [],
   "source": []
  },
  {
   "cell_type": "code",
   "execution_count": null,
   "metadata": {
    "collapsed": true
   },
   "outputs": [],
   "source": []
  }
 ],
 "metadata": {
  "kernelspec": {
   "display_name": "Python 3",
   "language": "python",
   "name": "python3"
  },
  "language_info": {
   "codemirror_mode": {
    "name": "ipython",
    "version": 3
   },
   "file_extension": ".py",
   "mimetype": "text/x-python",
   "name": "python",
   "nbconvert_exporter": "python",
   "pygments_lexer": "ipython3",
   "version": "3.6.2"
  }
 },
 "nbformat": 4,
 "nbformat_minor": 2
}

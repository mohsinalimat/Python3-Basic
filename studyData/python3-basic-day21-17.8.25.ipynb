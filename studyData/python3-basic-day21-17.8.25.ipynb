{
 "cells": [
  {
   "cell_type": "code",
   "execution_count": 4,
   "metadata": {
    "collapsed": true
   },
   "outputs": [],
   "source": [
    "## 마지막날 소프트 웨어 공학.\n",
    "\n",
    "# 소프트웨어의 전체 구조를 설계하는사람 Architect \n",
    "# user reseacher : 사용하는 유저와 깊게 붙어 있는 사람. "
   ]
  },
  {
   "cell_type": "code",
   "execution_count": 5,
   "metadata": {
    "collapsed": true
   },
   "outputs": [],
   "source": [
    "# Software Developement Life Cycle \n",
    "# Build-fix Model \n",
    "\n",
    "# 간단한 프로타입을 만들기 위해서 생각해야하는 절차중에\n",
    "\n",
    "# TDD 라는 것이 있음. 사용자위주로 개발할수 있는 환경을 만들어 가면서 개발을 할수 있다.\n",
    "\n",
    "# 알파 테스트는 내부 직원이하는것이고.\n",
    "# beta 테스트는 실제 사용자를 대상으로 테스트를 함.\n",
    "\n",
    "# 게임이 만들기전 프로세스를 가지고 실제 소프트웨어 업계의 프로세서를 간접적으로 전달해줌\n"
   ]
  },
  {
   "cell_type": "code",
   "execution_count": 31,
   "metadata": {},
   "outputs": [
    {
     "data": {
      "text/plain": [
       "200"
      ]
     },
     "execution_count": 31,
     "metadata": {},
     "output_type": "execute_result"
    }
   ],
   "source": [
    "# Agile process \n",
    "\n",
    "\n",
    "# 1. \n",
    "def Ethiopian_multi(a, b):\n",
    "    dic = {a:b}\n",
    "    \n",
    "    while a != 1:\n",
    "        a = a // 2\n",
    "        b = b * 2\n",
    "        dic[a]=b\n",
    "    \n",
    "    sum = 0\n",
    "    for key in dic:\n",
    "        if key % 2 == 0:\n",
    "            continue\n",
    "        else:\n",
    "            sum += dic[key]\n",
    "    \n",
    "    return sum\n",
    "    \n",
    "Ethiopian_multi(a,b)"
   ]
  },
  {
   "cell_type": "code",
   "execution_count": 35,
   "metadata": {},
   "outputs": [],
   "source": [
    "def Fizzbuzz(n):\n",
    "    for i in range(1, n):\n",
    "        if i % 3 == 0 and i % 5 == 0:\n",
    "            print('Fizzbuzz')\n",
    "        elif i % 5 == 0:\n",
    "            print('Buzz')\n",
    "        elif i % 3 == 0:\n",
    "            print('Fizz')\n",
    "        else:£™\n",
    "            print(i)\n",
    "            \n",
    "    \n",
    "            \n",
    "\n"
   ]
  },
  {
   "cell_type": "code",
   "execution_count": 40,
   "metadata": {},
   "outputs": [
    {
     "name": "stdout",
     "output_type": "stream",
     "text": [
      "2\n",
      "4\n",
      "6\n",
      "8\n"
     ]
    }
   ],
   "source": [
    "li = [print(i) for i in range(1,10) if i % 2 ==0]"
   ]
  },
  {
   "cell_type": "code",
   "execution_count": 39,
   "metadata": {},
   "outputs": [
    {
     "data": {
      "text/plain": [
       "[4, 8, 12, 16]"
      ]
     },
     "execution_count": 39,
     "metadata": {},
     "output_type": "execute_result"
    }
   ],
   "source": [
    "li"
   ]
  },
  {
   "cell_type": "code",
   "execution_count": null,
   "metadata": {
    "collapsed": true
   },
   "outputs": [],
   "source": [
    "# 일단 조립하고, 거꾸로 나한테 필요한게 무엇인지 하나씩 찾아보는방식...아... 그렇게도할수있겠구나..\n",
    "\n"
   ]
  }
 ],
 "metadata": {
  "kernelspec": {
   "display_name": "Python 3",
   "language": "python",
   "name": "python3"
  }
 },
 "nbformat": 4,
 "nbformat_minor": 2
}

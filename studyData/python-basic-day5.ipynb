{
 "cells": [
  {
   "cell_type": "code",
   "execution_count": 1,
   "metadata": {},
   "outputs": [
    {
     "name": "stdout",
     "output_type": "stream",
     "text": [
      "10\n"
     ]
    }
   ],
   "source": [
    "# 강사님이 바뀜, 양태환 강사님\n",
    "\n",
    "# 코딩 했을때 파일 전체영역을 'global'\n",
    "# 어떤 함수에 넣지않고, 혼자 정의한 녀석 ex) x = 20 -> 이런 녀석을 전역변수(global variable)\n",
    "# def func(a, b):\n",
    "# 이렇게 함수 안에 정의되어 있는 녀석을 지역 변수 라고함 \n",
    "\n",
    "\n",
    "#전역변수 : 어디서든 접근이 가능하면 접근가능. \n",
    "x = 10\n",
    "#a, b : 매개변수, 인자\n",
    "#a, b, c, d : 지역변수\n",
    "def func():\n",
    "    print(x)\n",
    "func()\n",
    "# 함수내에서 전역 변수에게 접근이 가능 하구나!"
   ]
  },
  {
   "cell_type": "code",
   "execution_count": 1,
   "metadata": {},
   "outputs": [
    {
     "name": "stdout",
     "output_type": "stream",
     "text": [
      "20\n",
      "20\n"
     ]
    }
   ],
   "source": [
    "x = 10\n",
    "\n",
    "def func():\n",
    "    global x # 이렇게하면 x는 전역 변수 x를 사용 할꺼다 라고 선언 하는거임. 그래서 값이 20이됨.\n",
    "    x =20 # func 안에 지역변수 x는 func에  있는놈이다.\n",
    "    print(x)\n",
    "    \n",
    "func()\n",
    "print(x) # 이놈은 전역 변수.\n",
    "\n",
    "# 함수 안에 함수를 정의하는것이 가능해짐. 그 차이를 설명해준다.. 오.. 엄청난 실력자이다\n"
   ]
  },
  {
   "cell_type": "code",
   "execution_count": null,
   "metadata": {
    "collapsed": true
   },
   "outputs": [],
   "source": []
  },
  {
   "cell_type": "code",
   "execution_count": 3,
   "metadata": {
    "collapsed": true
   },
   "outputs": [],
   "source": [
    "x = 1 #global 변수\n",
    "\n",
    "def outer():\n",
    "    a = 10 # outer의 local(지역변수) 이자 inner의 free variable(이게 무슨의미지)\n",
    "    b = 20\n",
    "    def inner():\n",
    "        global x \n",
    "        nonlocal a \n",
    "        a = 100\n",
    "        c = 30 # inner의 local(지역변수)\n",
    "        d = 40\n",
    "        print(x, a, b, c, d)\n",
    "    return inner\n",
    "       \n",
    "        "
   ]
  },
  {
   "cell_type": "code",
   "execution_count": 4,
   "metadata": {
    "collapsed": true
   },
   "outputs": [],
   "source": [
    "f = outer()"
   ]
  },
  {
   "cell_type": "code",
   "execution_count": 5,
   "metadata": {
    "collapsed": true
   },
   "outputs": [],
   "source": [
    "code = f.__code__"
   ]
  },
  {
   "cell_type": "code",
   "execution_count": null,
   "metadata": {
    "collapsed": true
   },
   "outputs": [],
   "source": []
  },
  {
   "cell_type": "code",
   "execution_count": null,
   "metadata": {
    "collapsed": true
   },
   "outputs": [],
   "source": []
  },
  {
   "cell_type": "code",
   "execution_count": 6,
   "metadata": {
    "collapsed": true
   },
   "outputs": [],
   "source": [
    "# packing\n",
    "a = 1, 2, 3, 4, 5 # 변수는 하나인데, 데이터를 여러개를 넣는것, 이것을 패킹이라고 하는데 이녀석들은 튜플로 묶인다."
   ]
  },
  {
   "cell_type": "code",
   "execution_count": 7,
   "metadata": {},
   "outputs": [
    {
     "data": {
      "text/plain": [
       "(1, 2, 3, 4, 5)"
      ]
     },
     "execution_count": 7,
     "metadata": {},
     "output_type": "execute_result"
    }
   ],
   "source": [
    "a  # a 가 이렇게 튜플로묶임"
   ]
  },
  {
   "cell_type": "code",
   "execution_count": null,
   "metadata": {
    "collapsed": true
   },
   "outputs": [],
   "source": []
  },
  {
   "cell_type": "code",
   "execution_count": 8,
   "metadata": {
    "collapsed": true
   },
   "outputs": [],
   "source": [
    "# a = 10 이 어떻게 동작하는지.. 메모리 공간에서\n",
    "\n",
    "# c, java 에서는 a = 10이 \n"
   ]
  },
  {
   "cell_type": "code",
   "execution_count": null,
   "metadata": {
    "collapsed": true
   },
   "outputs": [],
   "source": []
  },
  {
   "cell_type": "code",
   "execution_count": 9,
   "metadata": {
    "collapsed": true
   },
   "outputs": [],
   "source": [
    "# unpacking"
   ]
  },
  {
   "cell_type": "code",
   "execution_count": 10,
   "metadata": {
    "collapsed": true
   },
   "outputs": [],
   "source": [
    "b, *c = a # a에 정의해놓은 packing 를 b와 c에 떄려 넣는것.."
   ]
  },
  {
   "cell_type": "code",
   "execution_count": 11,
   "metadata": {},
   "outputs": [
    {
     "data": {
      "text/plain": [
       "1"
      ]
     },
     "execution_count": 11,
     "metadata": {},
     "output_type": "execute_result"
    }
   ],
   "source": [
    "b"
   ]
  },
  {
   "cell_type": "code",
   "execution_count": 12,
   "metadata": {},
   "outputs": [
    {
     "data": {
      "text/plain": [
       "[2, 3, 4, 5]"
      ]
     },
     "execution_count": 12,
     "metadata": {},
     "output_type": "execute_result"
    }
   ],
   "source": [
    "c  # 이부분 다시한번 확인해보자!!"
   ]
  },
  {
   "cell_type": "code",
   "execution_count": null,
   "metadata": {
    "collapsed": true
   },
   "outputs": [],
   "source": []
  },
  {
   "cell_type": "code",
   "execution_count": null,
   "metadata": {
    "collapsed": true
   },
   "outputs": [],
   "source": []
  },
  {
   "cell_type": "code",
   "execution_count": 13,
   "metadata": {
    "collapsed": true
   },
   "outputs": [],
   "source": [
    "li = [1, 2, 3, 4, 5]"
   ]
  },
  {
   "cell_type": "code",
   "execution_count": null,
   "metadata": {
    "collapsed": true
   },
   "outputs": [],
   "source": []
  },
  {
   "cell_type": "code",
   "execution_count": 14,
   "metadata": {
    "collapsed": true
   },
   "outputs": [],
   "source": [
    "def func(*args):\n",
    "    print(args)"
   ]
  },
  {
   "cell_type": "code",
   "execution_count": null,
   "metadata": {
    "collapsed": true
   },
   "outputs": [],
   "source": []
  },
  {
   "cell_type": "code",
   "execution_count": 15,
   "metadata": {},
   "outputs": [
    {
     "name": "stdout",
     "output_type": "stream",
     "text": [
      "([1, 2, 3, 4, 5],)\n"
     ]
    }
   ],
   "source": [
    "func(li) # args 에 넣었는데, []로 묶인게 하나의 변수로 넣어서, 콤마가 찍혀서 하나의 변수로 들어감\n",
    "# 그냥 변수"
   ]
  },
  {
   "cell_type": "code",
   "execution_count": 16,
   "metadata": {},
   "outputs": [
    {
     "name": "stdout",
     "output_type": "stream",
     "text": [
      "(1, 2, 3, 4, 5)\n"
     ]
    }
   ],
   "source": [
    "func(*li) # 변수가 풀려서 들어감. 하나씩 들어감\n",
    "# 이것은 unpacking"
   ]
  },
  {
   "cell_type": "code",
   "execution_count": null,
   "metadata": {
    "collapsed": true
   },
   "outputs": [],
   "source": []
  },
  {
   "cell_type": "code",
   "execution_count": null,
   "metadata": {
    "collapsed": true
   },
   "outputs": [],
   "source": []
  },
  {
   "cell_type": "code",
   "execution_count": 17,
   "metadata": {
    "collapsed": true
   },
   "outputs": [],
   "source": [
    "dic = {'a' : 1., 'b' : 2, 'c' : 3}"
   ]
  },
  {
   "cell_type": "code",
   "execution_count": 18,
   "metadata": {
    "collapsed": true
   },
   "outputs": [],
   "source": [
    "a, *b = dic # dic 만 해보니까 키 값만 받았는데, dic.items()를 하니까 키와, 값을 받음"
   ]
  },
  {
   "cell_type": "code",
   "execution_count": 19,
   "metadata": {},
   "outputs": [
    {
     "data": {
      "text/plain": [
       "'a'"
      ]
     },
     "execution_count": 19,
     "metadata": {},
     "output_type": "execute_result"
    }
   ],
   "source": [
    "a # unpacking 해보니까 키만 들어간다. "
   ]
  },
  {
   "cell_type": "code",
   "execution_count": 20,
   "metadata": {},
   "outputs": [
    {
     "data": {
      "text/plain": [
       "['b', 'c']"
      ]
     },
     "execution_count": 20,
     "metadata": {},
     "output_type": "execute_result"
    }
   ],
   "source": [
    "b"
   ]
  },
  {
   "cell_type": "code",
   "execution_count": null,
   "metadata": {
    "collapsed": true
   },
   "outputs": [],
   "source": []
  },
  {
   "cell_type": "code",
   "execution_count": null,
   "metadata": {
    "collapsed": true
   },
   "outputs": [],
   "source": []
  },
  {
   "cell_type": "code",
   "execution_count": 5,
   "metadata": {},
   "outputs": [
    {
     "ename": "NameError",
     "evalue": "name 'dic' is not defined",
     "output_type": "error",
     "traceback": [
      "\u001b[0;31m---------------------------------------------------------------------------\u001b[0m",
      "\u001b[0;31mNameError\u001b[0m                                 Traceback (most recent call last)",
      "\u001b[0;32m<ipython-input-5-3170d6025263>\u001b[0m in \u001b[0;36m<module>\u001b[0;34m()\u001b[0m\n\u001b[0;32m----> 1\u001b[0;31m \u001b[0ma\u001b[0m\u001b[0;34m,\u001b[0m \u001b[0;34m*\u001b[0m\u001b[0mb\u001b[0m \u001b[0;34m=\u001b[0m \u001b[0mdic\u001b[0m\u001b[0;34m.\u001b[0m\u001b[0mitems\u001b[0m\u001b[0;34m(\u001b[0m\u001b[0;34m)\u001b[0m\u001b[0;34m\u001b[0m\u001b[0m\n\u001b[0m",
      "\u001b[0;31mNameError\u001b[0m: name 'dic' is not defined"
     ]
    }
   ],
   "source": [
    "a, *b = dic.items()"
   ]
  },
  {
   "cell_type": "code",
   "execution_count": 6,
   "metadata": {},
   "outputs": [
    {
     "ename": "NameError",
     "evalue": "name 'a' is not defined",
     "output_type": "error",
     "traceback": [
      "\u001b[0;31m---------------------------------------------------------------------------\u001b[0m",
      "\u001b[0;31mNameError\u001b[0m                                 Traceback (most recent call last)",
      "\u001b[0;32m<ipython-input-6-60b725f10c9c>\u001b[0m in \u001b[0;36m<module>\u001b[0;34m()\u001b[0m\n\u001b[0;32m----> 1\u001b[0;31m \u001b[0ma\u001b[0m\u001b[0;34m\u001b[0m\u001b[0m\n\u001b[0m",
      "\u001b[0;31mNameError\u001b[0m: name 'a' is not defined"
     ]
    }
   ],
   "source": [
    "a"
   ]
  },
  {
   "cell_type": "code",
   "execution_count": 23,
   "metadata": {},
   "outputs": [
    {
     "data": {
      "text/plain": [
       "[('b', 2), ('c', 3)]"
      ]
     },
     "execution_count": 23,
     "metadata": {},
     "output_type": "execute_result"
    }
   ],
   "source": [
    "b"
   ]
  },
  {
   "cell_type": "code",
   "execution_count": 24,
   "metadata": {
    "collapsed": true
   },
   "outputs": [],
   "source": [
    "# 변수는 사실은 변수가 아니라, 어떤 값과 객체로 어떤것을 가르키고 있다."
   ]
  },
  {
   "cell_type": "code",
   "execution_count": null,
   "metadata": {
    "collapsed": true
   },
   "outputs": [],
   "source": []
  },
  {
   "cell_type": "code",
   "execution_count": null,
   "metadata": {
    "collapsed": true
   },
   "outputs": [],
   "source": []
  },
  {
   "cell_type": "code",
   "execution_count": 25,
   "metadata": {
    "collapsed": true
   },
   "outputs": [],
   "source": [
    "def func(a, *args, **kwargs):\n",
    "    pass"
   ]
  },
  {
   "cell_type": "code",
   "execution_count": 26,
   "metadata": {
    "collapsed": true
   },
   "outputs": [],
   "source": [
    "func(1) # *, * 에스터리스크는 가변인자라서 0이어도 됨. ()안에 값을 안넣으면 오류가 나고, 값을 넣으면 오류가 안남.\n",
    "# 가변인자이기 떄문에 'func() missing 1 required positional argument: 'a'' 라는 말은 하나를 넣어줘라"
   ]
  },
  {
   "cell_type": "code",
   "execution_count": null,
   "metadata": {
    "collapsed": true
   },
   "outputs": [],
   "source": []
  },
  {
   "cell_type": "code",
   "execution_count": null,
   "metadata": {
    "collapsed": true
   },
   "outputs": [],
   "source": []
  },
  {
   "cell_type": "code",
   "execution_count": 27,
   "metadata": {
    "collapsed": true
   },
   "outputs": [],
   "source": [
    "def func(a, b):\n",
    "    a + b # return 이 없어도 none을 반환함. 이 얘기는 값이 변한 다는 이야기 a=0 -> a=50 dmfh\n",
    "    # 파이썬 함수는 expression : 식 이다.\n",
    "    # 식(expression) : 4+5 - > 파이썬에 함수는 식이기때문에 무엇이되었든 반환을 함. 이것은 파이썬의 특징 \n",
    "    # 문(statenment) a = 10 + 7 - > 이것은 바뀌지 않음..?"
   ]
  },
  {
   "cell_type": "code",
   "execution_count": 28,
   "metadata": {
    "collapsed": true
   },
   "outputs": [],
   "source": [
    "a = 50\n",
    "a = func(4, 5)"
   ]
  },
  {
   "cell_type": "code",
   "execution_count": 29,
   "metadata": {},
   "outputs": [
    {
     "name": "stdout",
     "output_type": "stream",
     "text": [
      "None\n"
     ]
    }
   ],
   "source": [
    "print(a) # 무언가 반환을 한다. 값이 변하지 않으면 none을 반환함."
   ]
  },
  {
   "cell_type": "code",
   "execution_count": null,
   "metadata": {
    "collapsed": true
   },
   "outputs": [],
   "source": []
  },
  {
   "cell_type": "code",
   "execution_count": 30,
   "metadata": {
    "collapsed": true
   },
   "outputs": [],
   "source": [
    "def func(a, *args, **kwargs):\n",
    "    print(a)\n",
    "    print(args)\n",
    "    print(kwargs)"
   ]
  },
  {
   "cell_type": "code",
   "execution_count": 31,
   "metadata": {},
   "outputs": [
    {
     "name": "stdout",
     "output_type": "stream",
     "text": [
      "5\n",
      "(1, 2, 3, 4, 5)\n",
      "{'b': 100, 'c': 200}\n"
     ]
    }
   ],
   "source": [
    "func(5, 1, 2, 3, 4, 5, b = 100, c = 200 )\n",
    "# a 는 단일 변수라서 a = 5 한개 받음(여기에서 위치를 정의 해준 이유는 위치에 따라서 값들이 정의 되는 방식이 달라짐)\n",
    "# 맨처음 숫자를 제외한 나머지 숫자 아규먼츠는 1~5 까지 튜플로 묶어줌. 그리고 뒤에 인자를 정의 한것은 딕셔너리로 묶임..\n",
    "# 이거 중요한것 같음.. \n",
    "# 파이썬에서 변수일때랑 함수일때랑은 다름. 함수에서 튜플로 들어가는 이유는 파이썬에서 리스트를 사용하는것보다 튜플로 사용하는것이 메모리사용이 더 적다. "
   ]
  },
  {
   "cell_type": "code",
   "execution_count": null,
   "metadata": {
    "collapsed": true
   },
   "outputs": [],
   "source": []
  },
  {
   "cell_type": "code",
   "execution_count": null,
   "metadata": {
    "collapsed": true
   },
   "outputs": [],
   "source": []
  },
  {
   "cell_type": "code",
   "execution_count": null,
   "metadata": {
    "collapsed": true
   },
   "outputs": [],
   "source": []
  },
  {
   "cell_type": "code",
   "execution_count": 32,
   "metadata": {
    "collapsed": true
   },
   "outputs": [],
   "source": [
    "# 파이썬은 모든 것이 객체 - > 이게 무슨 말이야?"
   ]
  },
  {
   "cell_type": "code",
   "execution_count": null,
   "metadata": {
    "collapsed": true
   },
   "outputs": [],
   "source": []
  },
  {
   "cell_type": "code",
   "execution_count": 33,
   "metadata": {
    "collapsed": true
   },
   "outputs": [],
   "source": [
    "def func(a, b):\n",
    "    a = 10\n",
    "    b = 5\n",
    "    "
   ]
  },
  {
   "cell_type": "code",
   "execution_count": 34,
   "metadata": {
    "collapsed": true
   },
   "outputs": [],
   "source": [
    "func(a, b)"
   ]
  },
  {
   "cell_type": "code",
   "execution_count": 35,
   "metadata": {
    "collapsed": true
   },
   "outputs": [],
   "source": [
    "del func # 다른 언어에서는 한번 정의하면 바꿀수없는데, 파이썬이라서 함수 자체가 삭제가 가능."
   ]
  },
  {
   "cell_type": "code",
   "execution_count": 36,
   "metadata": {},
   "outputs": [
    {
     "ename": "NameError",
     "evalue": "name 'func' is not defined",
     "output_type": "error",
     "traceback": [
      "\u001b[0;31m---------------------------------------------------------------------------\u001b[0m",
      "\u001b[0;31mNameError\u001b[0m                                 Traceback (most recent call last)",
      "\u001b[0;32m<ipython-input-36-d69ea447c252>\u001b[0m in \u001b[0;36m<module>\u001b[0;34m()\u001b[0m\n\u001b[0;32m----> 1\u001b[0;31m \u001b[0mfunc\u001b[0m\u001b[0;34m(\u001b[0m\u001b[0ma\u001b[0m\u001b[0;34m,\u001b[0m \u001b[0mb\u001b[0m\u001b[0;34m)\u001b[0m \u001b[0;31m# 아래에서 함수가 작동 하지 않음을 볼수있다\u001b[0m\u001b[0;34m\u001b[0m\u001b[0m\n\u001b[0m",
      "\u001b[0;31mNameError\u001b[0m: name 'func' is not defined"
     ]
    }
   ],
   "source": [
    "func(a, b) # 아래에서 함수가 작동 하지 않음을 볼수있다"
   ]
  },
  {
   "cell_type": "code",
   "execution_count": null,
   "metadata": {
    "collapsed": true
   },
   "outputs": [],
   "source": []
  },
  {
   "cell_type": "code",
   "execution_count": null,
   "metadata": {
    "collapsed": true
   },
   "outputs": [],
   "source": []
  },
  {
   "cell_type": "code",
   "execution_count": null,
   "metadata": {
    "collapsed": true
   },
   "outputs": [],
   "source": [
    "def f(a, b): \n",
    "    return a + b\n",
    "\n",
    "def g(func, a, b): #함수를 선언하고 첫번째 인자로 함수를 받을꺼임.\n",
    "    return func(a,b)"
   ]
  },
  {
   "cell_type": "code",
   "execution_count": null,
   "metadata": {
    "collapsed": true
   },
   "outputs": [],
   "source": [
    "g(f, 5, 6) # 함수에다가 함수를 넣었는데, 아 이것이 함수에다가 함수를 인자로서 전달을 한것임"
   ]
  },
  {
   "cell_type": "code",
   "execution_count": null,
   "metadata": {
    "collapsed": true
   },
   "outputs": [],
   "source": []
  },
  {
   "cell_type": "code",
   "execution_count": null,
   "metadata": {
    "collapsed": true
   },
   "outputs": [],
   "source": [
    "def adder (a, b):\n",
    "    return a + b"
   ]
  },
  {
   "cell_type": "code",
   "execution_count": null,
   "metadata": {
    "collapsed": true
   },
   "outputs": [],
   "source": [
    "var = adder"
   ]
  },
  {
   "cell_type": "code",
   "execution_count": null,
   "metadata": {
    "collapsed": true
   },
   "outputs": [],
   "source": [
    "var(5, 2) # 함수를 정의하고 변수에다가 함수를 정의했는데, 작동함. 변수로서 작동함"
   ]
  },
  {
   "cell_type": "code",
   "execution_count": null,
   "metadata": {
    "collapsed": true
   },
   "outputs": [],
   "source": []
  },
  {
   "cell_type": "code",
   "execution_count": 25,
   "metadata": {
    "collapsed": true
   },
   "outputs": [],
   "source": [
    "# 'add' : add 라는 인자를 받으면 두 값을 더하는 함수\n",
    "# 'sub' : sub 라는 인자를 받으면 a - b 를 실행하는 함수 \n",
    "# 이 두가지 조건을 만족하면 일급함수의 두가지 조건을 만족하는 함수가 된다.\n",
    "\n",
    "\n",
    "def calc(kind = 'add'): # 'add' 는 디폴트값 calc에다가 아무것도 넣지 않으면 add가 나오게하는것\n",
    "    def add(a,b):\n",
    "        return a + b\n",
    "    def sub(a,b):\n",
    "        return a - b\n",
    "    \n",
    "    if kind == 'add':\n",
    "        return add # 함수 이름을 반환한다는것은 함수 자체를 실행한다는 의미.\n",
    "    elif kind == 'sub':\n",
    "        return sub\n",
    "    \n",
    "# 함수를 인자로 받을수 있다.\n",
    "# 함수를 변수로 받을수 있다.\n",
    "# 리턴값으로 함수를 받을수 있다.\n",
    "# 3가지 모두 해당이 되야 일급 함수.\n",
    "\n",
    "# 일급함수가 된다는 이야기는 클로져가 가능하다..라는 얘끼"
   ]
  },
  {
   "cell_type": "code",
   "execution_count": 27,
   "metadata": {
    "collapsed": true
   },
   "outputs": [],
   "source": [
    "f = calc() # 일급함수가 안되는 언어가 있다. 파이썬 에"
   ]
  },
  {
   "cell_type": "code",
   "execution_count": 28,
   "metadata": {},
   "outputs": [
    {
     "data": {
      "text/plain": [
       "15"
      ]
     },
     "execution_count": 28,
     "metadata": {},
     "output_type": "execute_result"
    }
   ],
   "source": [
    "f(5, 10)"
   ]
  },
  {
   "cell_type": "code",
   "execution_count": 13,
   "metadata": {
    "collapsed": true
   },
   "outputs": [],
   "source": [
    "f = calc('sub')"
   ]
  },
  {
   "cell_type": "code",
   "execution_count": 14,
   "metadata": {},
   "outputs": [
    {
     "data": {
      "text/plain": [
       "2"
      ]
     },
     "execution_count": 14,
     "metadata": {},
     "output_type": "execute_result"
    }
   ],
   "source": [
    "f(5, 3)"
   ]
  },
  {
   "cell_type": "code",
   "execution_count": null,
   "metadata": {
    "collapsed": true
   },
   "outputs": [],
   "source": []
  },
  {
   "cell_type": "code",
   "execution_count": null,
   "metadata": {
    "collapsed": true
   },
   "outputs": [],
   "source": []
  },
  {
   "cell_type": "code",
   "execution_count": null,
   "metadata": {
    "collapsed": true
   },
   "outputs": [],
   "source": []
  },
  {
   "cell_type": "code",
   "execution_count": 40,
   "metadata": {},
   "outputs": [
    {
     "ename": "NameError",
     "evalue": "name 'func' is not defined",
     "output_type": "error",
     "traceback": [
      "\u001b[0;31m---------------------------------------------------------------------------\u001b[0m",
      "\u001b[0;31mNameError\u001b[0m                                 Traceback (most recent call last)",
      "\u001b[0;32m<ipython-input-40-08a2da4138f6>\u001b[0m in \u001b[0;36m<module>\u001b[0;34m()\u001b[0m\n\u001b[0;32m----> 1\u001b[0;31m \u001b[0mfunc\u001b[0m\u001b[0;34m(\u001b[0m\u001b[0;34m)\u001b[0m\u001b[0;34m\u001b[0m\u001b[0m\n\u001b[0m",
      "\u001b[0;31mNameError\u001b[0m: name 'func' is not defined"
     ]
    }
   ],
   "source": []
  },
  {
   "cell_type": "code",
   "execution_count": null,
   "metadata": {
    "collapsed": true
   },
   "outputs": [],
   "source": []
  },
  {
   "cell_type": "code",
   "execution_count": 42,
   "metadata": {
    "collapsed": true
   },
   "outputs": [],
   "source": [
    "# 파이썬의 내부 동작과정에 대한 이야기"
   ]
  },
  {
   "cell_type": "code",
   "execution_count": null,
   "metadata": {
    "collapsed": true
   },
   "outputs": [],
   "source": []
  },
  {
   "cell_type": "code",
   "execution_count": 43,
   "metadata": {
    "collapsed": true
   },
   "outputs": [],
   "source": [
    "# 함수 객체 : function object \n",
    "# 코드 객체 : code object"
   ]
  },
  {
   "cell_type": "code",
   "execution_count": null,
   "metadata": {
    "collapsed": true
   },
   "outputs": [],
   "source": []
  },
  {
   "cell_type": "code",
   "execution_count": 44,
   "metadata": {
    "collapsed": true
   },
   "outputs": [],
   "source": [
    "def func(a, b):\n",
    "    return a + b"
   ]
  },
  {
   "cell_type": "code",
   "execution_count": 46,
   "metadata": {},
   "outputs": [
    {
     "data": {
      "text/plain": [
       "<function __main__.func>"
      ]
     },
     "execution_count": 46,
     "metadata": {},
     "output_type": "execute_result"
    }
   ],
   "source": [
    "func # 얘기 객체다."
   ]
  },
  {
   "cell_type": "code",
   "execution_count": 48,
   "metadata": {},
   "outputs": [
    {
     "data": {
      "text/plain": [
       "['__annotations__',\n",
       " '__call__',\n",
       " '__class__',\n",
       " '__closure__',\n",
       " '__code__',\n",
       " '__defaults__',\n",
       " '__delattr__',\n",
       " '__dict__',\n",
       " '__dir__',\n",
       " '__doc__',\n",
       " '__eq__',\n",
       " '__format__',\n",
       " '__ge__',\n",
       " '__get__',\n",
       " '__getattribute__',\n",
       " '__globals__',\n",
       " '__gt__',\n",
       " '__hash__',\n",
       " '__init__',\n",
       " '__init_subclass__',\n",
       " '__kwdefaults__',\n",
       " '__le__',\n",
       " '__lt__',\n",
       " '__module__',\n",
       " '__name__',\n",
       " '__ne__',\n",
       " '__new__',\n",
       " '__qualname__',\n",
       " '__reduce__',\n",
       " '__reduce_ex__',\n",
       " '__repr__',\n",
       " '__setattr__',\n",
       " '__sizeof__',\n",
       " '__str__',\n",
       " '__subclasshook__']"
      ]
     },
     "execution_count": 48,
     "metadata": {},
     "output_type": "execute_result"
    }
   ],
   "source": [
    "dir(func) # dir 은 func안에있는 것들이 모두 나옴. # 그중에 우리가 볼것들은 __code__, __closure__ 가 나옴.."
   ]
  },
  {
   "cell_type": "code",
   "execution_count": 50,
   "metadata": {},
   "outputs": [
    {
     "data": {
      "text/plain": [
       "{'In': ['',\n",
       "  \"# 강사님이 바뀜, 양태환 강사님\\n\\n# 코딩 했을때 파일 전체영역을 'global'\\n# 어떤 함수에 넣지않고, 혼자 정의한 녀석 ex) x = 20 -> 이런 녀석을 전역변수(global variable)\\n# def func(a, b):\\n# 이렇게 함수 안에 정의되어 있는 녀석을 지역 변수 라고함 \\n\\n\\n#전역변수 : 어디서든 접근이 가능하면 접근가능. \\nx = 10\\n#a, b : 매개변수, 인자\\n#a, b, c, d : 지역변수\\ndef func():\\n    print(x)\\nfunc()\\n# 함수내에서 전역 변수에게 접근이 가능 하구나!\",\n",
       "  'x = 10\\n\\ndef func():\\n    global x # 이렇게하면 x는 전역 변수 x를 사용 할꺼다 라고 선언 하는거임. 그래서 값이 20이됨.\\n    x =20 # func 안에 지역변수 x는 func에  있는놈이다.\\n    print(x)\\n    \\nfunc()\\nprint(x) # 이놈은 전역 변수.\\n\\n# 함수 안에 함수를 정의하는것이 가능해짐. 그 차이를 설명해준다.. 오.. 엄청난 실력자이다',\n",
       "  'x = 1 #global 변수\\n\\ndef outer():\\n    a = 10 # outer의 local(지역변수) 이자 inner의 free variable(이게 무슨의미지)\\n    b = 20\\n    def inner():\\n        global x \\n        nonlocal a \\n        a = 100\\n        c = 30 # inner의 local(지역변수)\\n        d = 40\\n        print(x, a, b, c, d)\\n    return inner\\n       \\n        ',\n",
       "  'f = outer()',\n",
       "  'code = f.__code__',\n",
       "  '# packing\\na = 1, 2, 3, 4, 5 # 변수는 하나인데, 데이터를 여러개를 넣는것, 이것을 패킹이라고 하는데 이녀석들은 튜플로 묶인다.',\n",
       "  'a  # a 가 이렇게 튜플로묶임',\n",
       "  '# a = 10 이 어떻게 동작하는지.. 메모리 공간에서\\n\\n# c, java 에서는 a = 10이 ',\n",
       "  '# unpacking',\n",
       "  'b, *c = a # a에 정의해놓은 packing 를 b와 c에 떄려 넣는것..',\n",
       "  'b',\n",
       "  'c  # 이부분 다시한번 확인해보자!!',\n",
       "  'li = [1, 2, 3, 4, 5]',\n",
       "  'def func(*args):\\n    print(args)',\n",
       "  'func(li) # args 에 넣었는데, []로 묶인게 하나의 변수로 넣어서, 콤마가 찍혀서 하나의 변수로 들어감\\n# 그냥 변수',\n",
       "  'func(*li) # 변수가 풀려서 들어감. 하나씩 들어감\\n# 이것은 unpacking',\n",
       "  \"dic = {'a' : 1., 'b' : 2, 'c' : 3}\",\n",
       "  'a, *b = dic # dic 만 해보니까 키 값만 받았는데, dic.items()를 하니까 키와, 값을 받음',\n",
       "  'a # unpacking 해보니까 키만 들어간다. ',\n",
       "  'b',\n",
       "  'a, *b = dic.items()',\n",
       "  'a',\n",
       "  'b',\n",
       "  '# 변수는 사실은 변수가 아니라, 어떤 값과 객체로 어떤것을 가르키고 있다.',\n",
       "  'def func(a, *args, **kwargs):\\n    pass',\n",
       "  \"func(1) # *, * 에스터리스크는 가변인자라서 0이어도 됨. ()안에 값을 안넣으면 오류가 나고, 값을 넣으면 오류가 안남.\\n# 가변인자이기 떄문에 'func() missing 1 required positional argument: 'a'' 라는 말은 하나를 넣어줘라\",\n",
       "  'def func(a, b):\\n    a + b # return 이 없어도 none을 반환함. 이얘기는 값이 변한 다는 이야기 a=0 -> a=50 dmfh\\n    # 파이썬 함수는 expression : 식 이다.\\n    # 식(expression) : 4+5 - > 파이썬에 함수는 식이기때문에 무엇이되었뜬 반환을 함. 이것은 파이썬의 특징 \\n    # 문(statenment) a = 10 + 7 - > 이것은 바뀌지 않음..?',\n",
       "  'a = 50\\na = func(4, 5)',\n",
       "  'print(a) # 무언가 반환을 한다. 값이 변하지 않으면 none을 반환함.',\n",
       "  'def func(a, *args, **kwargs):\\n    print(a)\\n    print(args)\\n    print(kwargs)',\n",
       "  'func(5, 1, 2, 3, 4, 5, b = 100, c = 200 )\\n# a 는 단일 변수라서 a = 5 한개 받음(여기에서 위치를 정의 해준 이유는 위치에 따라서 값들이 정의 되는 방식이 달라짐)\\n# 맨처음 숫자를 제외한 나머지 숫자 아규먼츠는 1~5 까지 튜플로 묶어줌. 그리고 뒤에 인자를 정의 한것은 딕셔너리로 묶임..\\n# 이거 중요한것 같음.. \\n# 파이썬에서 변수일때랑 함수일때랑은 다름. 함수에서 튜플로 들어가는 이유는 파이썬에서 리스트를 사용하는것보다 튜플로 사용하는것이 메모리사용이 더 적다. ',\n",
       "  '# 파이썬은 모든 것이 객체 - > 이게 무슨 말이야?',\n",
       "  'def func(a, b):\\n    a = 10\\n    b = 5\\n    ',\n",
       "  'func(a, b)',\n",
       "  'del func # 다른 언어에서는 한번 정의하면 바꿀수없는데, 파이썬이라서 함수 자체가 삭제가 가능.',\n",
       "  'func(a, b) # 아래에서 함수가 작동 하지 않음을 볼수있다',\n",
       "  'func(1, 2)\\nfunc(3, 4)\\n\\nprint(func(1,2))',\n",
       "  'func(1, 2)\\nfunc(3, 4)',\n",
       "  'func(1 +2)\\nfunc(3, 4)',\n",
       "  'func()',\n",
       "  '# 파이썬의 내부 동작과정에 대한 이야기,',\n",
       "  '# 파이썬의 내부 동작과정에 대한 이야기',\n",
       "  '# 함수 객체 : function object \\n# 코드 객체 : code object',\n",
       "  'def func(a, b):\\n    return a + b',\n",
       "  'func',\n",
       "  'func # 얘기 객체다.',\n",
       "  'dir(func)',\n",
       "  'dir(func) # dir 은 func안에있는 것들이 모두 나옴. # 그중에 우리가 볼것들은 __code__, __closure__ 가 나옴..',\n",
       "  'func.globals',\n",
       "  'func.__globals__'],\n",
       " 'Out': {7: (1, 2, 3, 4, 5),\n",
       "  11: 1,\n",
       "  12: [2, 3, 4, 5],\n",
       "  19: 'a',\n",
       "  20: ['b', 'c'],\n",
       "  22: ('a', 1.0),\n",
       "  23: [('b', 2), ('c', 3)],\n",
       "  45: <function __main__.func>,\n",
       "  46: <function __main__.func>,\n",
       "  47: ['__annotations__',\n",
       "   '__call__',\n",
       "   '__class__',\n",
       "   '__closure__',\n",
       "   '__code__',\n",
       "   '__defaults__',\n",
       "   '__delattr__',\n",
       "   '__dict__',\n",
       "   '__dir__',\n",
       "   '__doc__',\n",
       "   '__eq__',\n",
       "   '__format__',\n",
       "   '__ge__',\n",
       "   '__get__',\n",
       "   '__getattribute__',\n",
       "   '__globals__',\n",
       "   '__gt__',\n",
       "   '__hash__',\n",
       "   '__init__',\n",
       "   '__init_subclass__',\n",
       "   '__kwdefaults__',\n",
       "   '__le__',\n",
       "   '__lt__',\n",
       "   '__module__',\n",
       "   '__name__',\n",
       "   '__ne__',\n",
       "   '__new__',\n",
       "   '__qualname__',\n",
       "   '__reduce__',\n",
       "   '__reduce_ex__',\n",
       "   '__repr__',\n",
       "   '__setattr__',\n",
       "   '__sizeof__',\n",
       "   '__str__',\n",
       "   '__subclasshook__'],\n",
       "  48: ['__annotations__',\n",
       "   '__call__',\n",
       "   '__class__',\n",
       "   '__closure__',\n",
       "   '__code__',\n",
       "   '__defaults__',\n",
       "   '__delattr__',\n",
       "   '__dict__',\n",
       "   '__dir__',\n",
       "   '__doc__',\n",
       "   '__eq__',\n",
       "   '__format__',\n",
       "   '__ge__',\n",
       "   '__get__',\n",
       "   '__getattribute__',\n",
       "   '__globals__',\n",
       "   '__gt__',\n",
       "   '__hash__',\n",
       "   '__init__',\n",
       "   '__init_subclass__',\n",
       "   '__kwdefaults__',\n",
       "   '__le__',\n",
       "   '__lt__',\n",
       "   '__module__',\n",
       "   '__name__',\n",
       "   '__ne__',\n",
       "   '__new__',\n",
       "   '__qualname__',\n",
       "   '__reduce__',\n",
       "   '__reduce_ex__',\n",
       "   '__repr__',\n",
       "   '__setattr__',\n",
       "   '__sizeof__',\n",
       "   '__str__',\n",
       "   '__subclasshook__']},\n",
       " '_': ['__annotations__',\n",
       "  '__call__',\n",
       "  '__class__',\n",
       "  '__closure__',\n",
       "  '__code__',\n",
       "  '__defaults__',\n",
       "  '__delattr__',\n",
       "  '__dict__',\n",
       "  '__dir__',\n",
       "  '__doc__',\n",
       "  '__eq__',\n",
       "  '__format__',\n",
       "  '__ge__',\n",
       "  '__get__',\n",
       "  '__getattribute__',\n",
       "  '__globals__',\n",
       "  '__gt__',\n",
       "  '__hash__',\n",
       "  '__init__',\n",
       "  '__init_subclass__',\n",
       "  '__kwdefaults__',\n",
       "  '__le__',\n",
       "  '__lt__',\n",
       "  '__module__',\n",
       "  '__name__',\n",
       "  '__ne__',\n",
       "  '__new__',\n",
       "  '__qualname__',\n",
       "  '__reduce__',\n",
       "  '__reduce_ex__',\n",
       "  '__repr__',\n",
       "  '__setattr__',\n",
       "  '__sizeof__',\n",
       "  '__str__',\n",
       "  '__subclasshook__'],\n",
       " '_11': 1,\n",
       " '_12': [2, 3, 4, 5],\n",
       " '_19': 'a',\n",
       " '_20': ['b', 'c'],\n",
       " '_22': ('a', 1.0),\n",
       " '_23': [('b', 2), ('c', 3)],\n",
       " '_45': <function __main__.func>,\n",
       " '_46': <function __main__.func>,\n",
       " '_47': ['__annotations__',\n",
       "  '__call__',\n",
       "  '__class__',\n",
       "  '__closure__',\n",
       "  '__code__',\n",
       "  '__defaults__',\n",
       "  '__delattr__',\n",
       "  '__dict__',\n",
       "  '__dir__',\n",
       "  '__doc__',\n",
       "  '__eq__',\n",
       "  '__format__',\n",
       "  '__ge__',\n",
       "  '__get__',\n",
       "  '__getattribute__',\n",
       "  '__globals__',\n",
       "  '__gt__',\n",
       "  '__hash__',\n",
       "  '__init__',\n",
       "  '__init_subclass__',\n",
       "  '__kwdefaults__',\n",
       "  '__le__',\n",
       "  '__lt__',\n",
       "  '__module__',\n",
       "  '__name__',\n",
       "  '__ne__',\n",
       "  '__new__',\n",
       "  '__qualname__',\n",
       "  '__reduce__',\n",
       "  '__reduce_ex__',\n",
       "  '__repr__',\n",
       "  '__setattr__',\n",
       "  '__sizeof__',\n",
       "  '__str__',\n",
       "  '__subclasshook__'],\n",
       " '_48': ['__annotations__',\n",
       "  '__call__',\n",
       "  '__class__',\n",
       "  '__closure__',\n",
       "  '__code__',\n",
       "  '__defaults__',\n",
       "  '__delattr__',\n",
       "  '__dict__',\n",
       "  '__dir__',\n",
       "  '__doc__',\n",
       "  '__eq__',\n",
       "  '__format__',\n",
       "  '__ge__',\n",
       "  '__get__',\n",
       "  '__getattribute__',\n",
       "  '__globals__',\n",
       "  '__gt__',\n",
       "  '__hash__',\n",
       "  '__init__',\n",
       "  '__init_subclass__',\n",
       "  '__kwdefaults__',\n",
       "  '__le__',\n",
       "  '__lt__',\n",
       "  '__module__',\n",
       "  '__name__',\n",
       "  '__ne__',\n",
       "  '__new__',\n",
       "  '__qualname__',\n",
       "  '__reduce__',\n",
       "  '__reduce_ex__',\n",
       "  '__repr__',\n",
       "  '__setattr__',\n",
       "  '__sizeof__',\n",
       "  '__str__',\n",
       "  '__subclasshook__'],\n",
       " '_7': (1, 2, 3, 4, 5),\n",
       " '__': ['__annotations__',\n",
       "  '__call__',\n",
       "  '__class__',\n",
       "  '__closure__',\n",
       "  '__code__',\n",
       "  '__defaults__',\n",
       "  '__delattr__',\n",
       "  '__dict__',\n",
       "  '__dir__',\n",
       "  '__doc__',\n",
       "  '__eq__',\n",
       "  '__format__',\n",
       "  '__ge__',\n",
       "  '__get__',\n",
       "  '__getattribute__',\n",
       "  '__globals__',\n",
       "  '__gt__',\n",
       "  '__hash__',\n",
       "  '__init__',\n",
       "  '__init_subclass__',\n",
       "  '__kwdefaults__',\n",
       "  '__le__',\n",
       "  '__lt__',\n",
       "  '__module__',\n",
       "  '__name__',\n",
       "  '__ne__',\n",
       "  '__new__',\n",
       "  '__qualname__',\n",
       "  '__reduce__',\n",
       "  '__reduce_ex__',\n",
       "  '__repr__',\n",
       "  '__setattr__',\n",
       "  '__sizeof__',\n",
       "  '__str__',\n",
       "  '__subclasshook__'],\n",
       " '___': <function __main__.func>,\n",
       " '__builtin__': <module 'builtins' (built-in)>,\n",
       " '__builtins__': <module 'builtins' (built-in)>,\n",
       " '__doc__': 'Automatically created module for IPython interactive environment',\n",
       " '__loader__': None,\n",
       " '__name__': '__main__',\n",
       " '__package__': None,\n",
       " '__spec__': None,\n",
       " '_dh': ['/Users/minjunju/Documents/css/python'],\n",
       " '_i': 'func.globals',\n",
       " '_i1': \"# 강사님이 바뀜, 양태환 강사님\\n\\n# 코딩 했을때 파일 전체영역을 'global'\\n# 어떤 함수에 넣지않고, 혼자 정의한 녀석 ex) x = 20 -> 이런 녀석을 전역변수(global variable)\\n# def func(a, b):\\n# 이렇게 함수 안에 정의되어 있는 녀석을 지역 변수 라고함 \\n\\n\\n#전역변수 : 어디서든 접근이 가능하면 접근가능. \\nx = 10\\n#a, b : 매개변수, 인자\\n#a, b, c, d : 지역변수\\ndef func():\\n    print(x)\\nfunc()\\n# 함수내에서 전역 변수에게 접근이 가능 하구나!\",\n",
       " '_i10': 'b, *c = a # a에 정의해놓은 packing 를 b와 c에 떄려 넣는것..',\n",
       " '_i11': 'b',\n",
       " '_i12': 'c  # 이부분 다시한번 확인해보자!!',\n",
       " '_i13': 'li = [1, 2, 3, 4, 5]',\n",
       " '_i14': 'def func(*args):\\n    print(args)',\n",
       " '_i15': 'func(li) # args 에 넣었는데, []로 묶인게 하나의 변수로 넣어서, 콤마가 찍혀서 하나의 변수로 들어감\\n# 그냥 변수',\n",
       " '_i16': 'func(*li) # 변수가 풀려서 들어감. 하나씩 들어감\\n# 이것은 unpacking',\n",
       " '_i17': \"dic = {'a' : 1., 'b' : 2, 'c' : 3}\",\n",
       " '_i18': 'a, *b = dic # dic 만 해보니까 키 값만 받았는데, dic.items()를 하니까 키와, 값을 받음',\n",
       " '_i19': 'a # unpacking 해보니까 키만 들어간다. ',\n",
       " '_i2': 'x = 10\\n\\ndef func():\\n    global x # 이렇게하면 x는 전역 변수 x를 사용 할꺼다 라고 선언 하는거임. 그래서 값이 20이됨.\\n    x =20 # func 안에 지역변수 x는 func에  있는놈이다.\\n    print(x)\\n    \\nfunc()\\nprint(x) # 이놈은 전역 변수.\\n\\n# 함수 안에 함수를 정의하는것이 가능해짐. 그 차이를 설명해준다.. 오.. 엄청난 실력자이다',\n",
       " '_i20': 'b',\n",
       " '_i21': 'a, *b = dic.items()',\n",
       " '_i22': 'a',\n",
       " '_i23': 'b',\n",
       " '_i24': '# 변수는 사실은 변수가 아니라, 어떤 값과 객체로 어떤것을 가르키고 있다.',\n",
       " '_i25': 'def func(a, *args, **kwargs):\\n    pass',\n",
       " '_i26': \"func(1) # *, * 에스터리스크는 가변인자라서 0이어도 됨. ()안에 값을 안넣으면 오류가 나고, 값을 넣으면 오류가 안남.\\n# 가변인자이기 떄문에 'func() missing 1 required positional argument: 'a'' 라는 말은 하나를 넣어줘라\",\n",
       " '_i27': 'def func(a, b):\\n    a + b # return 이 없어도 none을 반환함. 이얘기는 값이 변한 다는 이야기 a=0 -> a=50 dmfh\\n    # 파이썬 함수는 expression : 식 이다.\\n    # 식(expression) : 4+5 - > 파이썬에 함수는 식이기때문에 무엇이되었뜬 반환을 함. 이것은 파이썬의 특징 \\n    # 문(statenment) a = 10 + 7 - > 이것은 바뀌지 않음..?',\n",
       " '_i28': 'a = 50\\na = func(4, 5)',\n",
       " '_i29': 'print(a) # 무언가 반환을 한다. 값이 변하지 않으면 none을 반환함.',\n",
       " '_i3': 'x = 1 #global 변수\\n\\ndef outer():\\n    a = 10 # outer의 local(지역변수) 이자 inner의 free variable(이게 무슨의미지)\\n    b = 20\\n    def inner():\\n        global x \\n        nonlocal a \\n        a = 100\\n        c = 30 # inner의 local(지역변수)\\n        d = 40\\n        print(x, a, b, c, d)\\n    return inner\\n       \\n        ',\n",
       " '_i30': 'def func(a, *args, **kwargs):\\n    print(a)\\n    print(args)\\n    print(kwargs)',\n",
       " '_i31': 'func(5, 1, 2, 3, 4, 5, b = 100, c = 200 )\\n# a 는 단일 변수라서 a = 5 한개 받음(여기에서 위치를 정의 해준 이유는 위치에 따라서 값들이 정의 되는 방식이 달라짐)\\n# 맨처음 숫자를 제외한 나머지 숫자 아규먼츠는 1~5 까지 튜플로 묶어줌. 그리고 뒤에 인자를 정의 한것은 딕셔너리로 묶임..\\n# 이거 중요한것 같음.. \\n# 파이썬에서 변수일때랑 함수일때랑은 다름. 함수에서 튜플로 들어가는 이유는 파이썬에서 리스트를 사용하는것보다 튜플로 사용하는것이 메모리사용이 더 적다. ',\n",
       " '_i32': '# 파이썬은 모든 것이 객체 - > 이게 무슨 말이야?',\n",
       " '_i33': 'def func(a, b):\\n    a = 10\\n    b = 5\\n    ',\n",
       " '_i34': 'func(a, b)',\n",
       " '_i35': 'del func # 다른 언어에서는 한번 정의하면 바꿀수없는데, 파이썬이라서 함수 자체가 삭제가 가능.',\n",
       " '_i36': 'func(a, b) # 아래에서 함수가 작동 하지 않음을 볼수있다',\n",
       " '_i37': 'func(1, 2)\\nfunc(3, 4)\\n\\nprint(func(1,2))',\n",
       " '_i38': 'func(1, 2)\\nfunc(3, 4)',\n",
       " '_i39': 'func(1 +2)\\nfunc(3, 4)',\n",
       " '_i4': 'f = outer()',\n",
       " '_i40': 'func()',\n",
       " '_i41': '# 파이썬의 내부 동작과정에 대한 이야기,',\n",
       " '_i42': '# 파이썬의 내부 동작과정에 대한 이야기',\n",
       " '_i43': '# 함수 객체 : function object \\n# 코드 객체 : code object',\n",
       " '_i44': 'def func(a, b):\\n    return a + b',\n",
       " '_i45': 'func',\n",
       " '_i46': 'func # 얘기 객체다.',\n",
       " '_i47': 'dir(func)',\n",
       " '_i48': 'dir(func) # dir 은 func안에있는 것들이 모두 나옴. # 그중에 우리가 볼것들은 __code__, __closure__ 가 나옴..',\n",
       " '_i49': 'func.globals',\n",
       " '_i5': 'code = f.__code__',\n",
       " '_i50': 'func.__globals__',\n",
       " '_i6': '# packing\\na = 1, 2, 3, 4, 5 # 변수는 하나인데, 데이터를 여러개를 넣는것, 이것을 패킹이라고 하는데 이녀석들은 튜플로 묶인다.',\n",
       " '_i7': 'a  # a 가 이렇게 튜플로묶임',\n",
       " '_i8': '# a = 10 이 어떻게 동작하는지.. 메모리 공간에서\\n\\n# c, java 에서는 a = 10이 ',\n",
       " '_i9': '# unpacking',\n",
       " '_ih': ['',\n",
       "  \"# 강사님이 바뀜, 양태환 강사님\\n\\n# 코딩 했을때 파일 전체영역을 'global'\\n# 어떤 함수에 넣지않고, 혼자 정의한 녀석 ex) x = 20 -> 이런 녀석을 전역변수(global variable)\\n# def func(a, b):\\n# 이렇게 함수 안에 정의되어 있는 녀석을 지역 변수 라고함 \\n\\n\\n#전역변수 : 어디서든 접근이 가능하면 접근가능. \\nx = 10\\n#a, b : 매개변수, 인자\\n#a, b, c, d : 지역변수\\ndef func():\\n    print(x)\\nfunc()\\n# 함수내에서 전역 변수에게 접근이 가능 하구나!\",\n",
       "  'x = 10\\n\\ndef func():\\n    global x # 이렇게하면 x는 전역 변수 x를 사용 할꺼다 라고 선언 하는거임. 그래서 값이 20이됨.\\n    x =20 # func 안에 지역변수 x는 func에  있는놈이다.\\n    print(x)\\n    \\nfunc()\\nprint(x) # 이놈은 전역 변수.\\n\\n# 함수 안에 함수를 정의하는것이 가능해짐. 그 차이를 설명해준다.. 오.. 엄청난 실력자이다',\n",
       "  'x = 1 #global 변수\\n\\ndef outer():\\n    a = 10 # outer의 local(지역변수) 이자 inner의 free variable(이게 무슨의미지)\\n    b = 20\\n    def inner():\\n        global x \\n        nonlocal a \\n        a = 100\\n        c = 30 # inner의 local(지역변수)\\n        d = 40\\n        print(x, a, b, c, d)\\n    return inner\\n       \\n        ',\n",
       "  'f = outer()',\n",
       "  'code = f.__code__',\n",
       "  '# packing\\na = 1, 2, 3, 4, 5 # 변수는 하나인데, 데이터를 여러개를 넣는것, 이것을 패킹이라고 하는데 이녀석들은 튜플로 묶인다.',\n",
       "  'a  # a 가 이렇게 튜플로묶임',\n",
       "  '# a = 10 이 어떻게 동작하는지.. 메모리 공간에서\\n\\n# c, java 에서는 a = 10이 ',\n",
       "  '# unpacking',\n",
       "  'b, *c = a # a에 정의해놓은 packing 를 b와 c에 떄려 넣는것..',\n",
       "  'b',\n",
       "  'c  # 이부분 다시한번 확인해보자!!',\n",
       "  'li = [1, 2, 3, 4, 5]',\n",
       "  'def func(*args):\\n    print(args)',\n",
       "  'func(li) # args 에 넣었는데, []로 묶인게 하나의 변수로 넣어서, 콤마가 찍혀서 하나의 변수로 들어감\\n# 그냥 변수',\n",
       "  'func(*li) # 변수가 풀려서 들어감. 하나씩 들어감\\n# 이것은 unpacking',\n",
       "  \"dic = {'a' : 1., 'b' : 2, 'c' : 3}\",\n",
       "  'a, *b = dic # dic 만 해보니까 키 값만 받았는데, dic.items()를 하니까 키와, 값을 받음',\n",
       "  'a # unpacking 해보니까 키만 들어간다. ',\n",
       "  'b',\n",
       "  'a, *b = dic.items()',\n",
       "  'a',\n",
       "  'b',\n",
       "  '# 변수는 사실은 변수가 아니라, 어떤 값과 객체로 어떤것을 가르키고 있다.',\n",
       "  'def func(a, *args, **kwargs):\\n    pass',\n",
       "  \"func(1) # *, * 에스터리스크는 가변인자라서 0이어도 됨. ()안에 값을 안넣으면 오류가 나고, 값을 넣으면 오류가 안남.\\n# 가변인자이기 떄문에 'func() missing 1 required positional argument: 'a'' 라는 말은 하나를 넣어줘라\",\n",
       "  'def func(a, b):\\n    a + b # return 이 없어도 none을 반환함. 이얘기는 값이 변한 다는 이야기 a=0 -> a=50 dmfh\\n    # 파이썬 함수는 expression : 식 이다.\\n    # 식(expression) : 4+5 - > 파이썬에 함수는 식이기때문에 무엇이되었뜬 반환을 함. 이것은 파이썬의 특징 \\n    # 문(statenment) a = 10 + 7 - > 이것은 바뀌지 않음..?',\n",
       "  'a = 50\\na = func(4, 5)',\n",
       "  'print(a) # 무언가 반환을 한다. 값이 변하지 않으면 none을 반환함.',\n",
       "  'def func(a, *args, **kwargs):\\n    print(a)\\n    print(args)\\n    print(kwargs)',\n",
       "  'func(5, 1, 2, 3, 4, 5, b = 100, c = 200 )\\n# a 는 단일 변수라서 a = 5 한개 받음(여기에서 위치를 정의 해준 이유는 위치에 따라서 값들이 정의 되는 방식이 달라짐)\\n# 맨처음 숫자를 제외한 나머지 숫자 아규먼츠는 1~5 까지 튜플로 묶어줌. 그리고 뒤에 인자를 정의 한것은 딕셔너리로 묶임..\\n# 이거 중요한것 같음.. \\n# 파이썬에서 변수일때랑 함수일때랑은 다름. 함수에서 튜플로 들어가는 이유는 파이썬에서 리스트를 사용하는것보다 튜플로 사용하는것이 메모리사용이 더 적다. ',\n",
       "  '# 파이썬은 모든 것이 객체 - > 이게 무슨 말이야?',\n",
       "  'def func(a, b):\\n    a = 10\\n    b = 5\\n    ',\n",
       "  'func(a, b)',\n",
       "  'del func # 다른 언어에서는 한번 정의하면 바꿀수없는데, 파이썬이라서 함수 자체가 삭제가 가능.',\n",
       "  'func(a, b) # 아래에서 함수가 작동 하지 않음을 볼수있다',\n",
       "  'func(1, 2)\\nfunc(3, 4)\\n\\nprint(func(1,2))',\n",
       "  'func(1, 2)\\nfunc(3, 4)',\n",
       "  'func(1 +2)\\nfunc(3, 4)',\n",
       "  'func()',\n",
       "  '# 파이썬의 내부 동작과정에 대한 이야기,',\n",
       "  '# 파이썬의 내부 동작과정에 대한 이야기',\n",
       "  '# 함수 객체 : function object \\n# 코드 객체 : code object',\n",
       "  'def func(a, b):\\n    return a + b',\n",
       "  'func',\n",
       "  'func # 얘기 객체다.',\n",
       "  'dir(func)',\n",
       "  'dir(func) # dir 은 func안에있는 것들이 모두 나옴. # 그중에 우리가 볼것들은 __code__, __closure__ 가 나옴..',\n",
       "  'func.globals',\n",
       "  'func.__globals__'],\n",
       " '_ii': 'dir(func) # dir 은 func안에있는 것들이 모두 나옴. # 그중에 우리가 볼것들은 __code__, __closure__ 가 나옴..',\n",
       " '_iii': 'dir(func)',\n",
       " '_oh': {7: (1, 2, 3, 4, 5),\n",
       "  11: 1,\n",
       "  12: [2, 3, 4, 5],\n",
       "  19: 'a',\n",
       "  20: ['b', 'c'],\n",
       "  22: ('a', 1.0),\n",
       "  23: [('b', 2), ('c', 3)],\n",
       "  45: <function __main__.func>,\n",
       "  46: <function __main__.func>,\n",
       "  47: ['__annotations__',\n",
       "   '__call__',\n",
       "   '__class__',\n",
       "   '__closure__',\n",
       "   '__code__',\n",
       "   '__defaults__',\n",
       "   '__delattr__',\n",
       "   '__dict__',\n",
       "   '__dir__',\n",
       "   '__doc__',\n",
       "   '__eq__',\n",
       "   '__format__',\n",
       "   '__ge__',\n",
       "   '__get__',\n",
       "   '__getattribute__',\n",
       "   '__globals__',\n",
       "   '__gt__',\n",
       "   '__hash__',\n",
       "   '__init__',\n",
       "   '__init_subclass__',\n",
       "   '__kwdefaults__',\n",
       "   '__le__',\n",
       "   '__lt__',\n",
       "   '__module__',\n",
       "   '__name__',\n",
       "   '__ne__',\n",
       "   '__new__',\n",
       "   '__qualname__',\n",
       "   '__reduce__',\n",
       "   '__reduce_ex__',\n",
       "   '__repr__',\n",
       "   '__setattr__',\n",
       "   '__sizeof__',\n",
       "   '__str__',\n",
       "   '__subclasshook__'],\n",
       "  48: ['__annotations__',\n",
       "   '__call__',\n",
       "   '__class__',\n",
       "   '__closure__',\n",
       "   '__code__',\n",
       "   '__defaults__',\n",
       "   '__delattr__',\n",
       "   '__dict__',\n",
       "   '__dir__',\n",
       "   '__doc__',\n",
       "   '__eq__',\n",
       "   '__format__',\n",
       "   '__ge__',\n",
       "   '__get__',\n",
       "   '__getattribute__',\n",
       "   '__globals__',\n",
       "   '__gt__',\n",
       "   '__hash__',\n",
       "   '__init__',\n",
       "   '__init_subclass__',\n",
       "   '__kwdefaults__',\n",
       "   '__le__',\n",
       "   '__lt__',\n",
       "   '__module__',\n",
       "   '__name__',\n",
       "   '__ne__',\n",
       "   '__new__',\n",
       "   '__qualname__',\n",
       "   '__reduce__',\n",
       "   '__reduce_ex__',\n",
       "   '__repr__',\n",
       "   '__setattr__',\n",
       "   '__sizeof__',\n",
       "   '__str__',\n",
       "   '__subclasshook__']},\n",
       " 'a': None,\n",
       " 'b': [('b', 2), ('c', 3)],\n",
       " 'c': [2, 3, 4, 5],\n",
       " 'code': <code object inner at 0x10c188660, file \"<ipython-input-3-16717df397c6>\", line 6>,\n",
       " 'dic': {'a': 1.0, 'b': 2, 'c': 3},\n",
       " 'exit': <IPython.core.autocall.ZMQExitAutocall at 0x10c0db710>,\n",
       " 'f': <function __main__.outer.<locals>.inner>,\n",
       " 'func': <function __main__.func>,\n",
       " 'get_ipython': <bound method InteractiveShell.get_ipython of <ipykernel.zmqshell.ZMQInteractiveShell object at 0x10c085a20>>,\n",
       " 'li': [1, 2, 3, 4, 5],\n",
       " 'outer': <function __main__.outer>,\n",
       " 'quit': <IPython.core.autocall.ZMQExitAutocall at 0x10c0db710>,\n",
       " 'x': 1}"
      ]
     },
     "execution_count": 50,
     "metadata": {},
     "output_type": "execute_result"
    }
   ],
   "source": [
    "func.__globals__"
   ]
  },
  {
   "cell_type": "code",
   "execution_count": 51,
   "metadata": {
    "collapsed": true
   },
   "outputs": [],
   "source": [
    "a = 10\n",
    "b = 20\n",
    "c = 30\n"
   ]
  },
  {
   "cell_type": "code",
   "execution_count": 52,
   "metadata": {
    "collapsed": true
   },
   "outputs": [],
   "source": [
    "def f(a, b):\n",
    "    return a + b"
   ]
  },
  {
   "cell_type": "code",
   "execution_count": 56,
   "metadata": {},
   "outputs": [
    {
     "data": {
      "text/plain": [
       "10"
      ]
     },
     "execution_count": 56,
     "metadata": {},
     "output_type": "execute_result"
    }
   ],
   "source": [
    "f. __globals__['a'] # 이렇게 하면 우리가 안에 선언한 글로벌 변수가 잘 있나 확인할수 있다.\n",
    "# 우리가 전역에 있는 모든 메소드나 변수를 확인할수 있꼬, globals가 가지고 있다."
   ]
  },
  {
   "cell_type": "code",
   "execution_count": 57,
   "metadata": {
    "collapsed": true
   },
   "outputs": [],
   "source": [
    "# 이 함수의 전역변수를 사용이 가능한 이유는 globals 떄문이다..\n",
    "def func():\n",
    "    print(a)"
   ]
  },
  {
   "cell_type": "code",
   "execution_count": 58,
   "metadata": {},
   "outputs": [
    {
     "name": "stdout",
     "output_type": "stream",
     "text": [
      "10\n"
     ]
    }
   ],
   "source": [
    "func()"
   ]
  },
  {
   "cell_type": "code",
   "execution_count": 59,
   "metadata": {
    "collapsed": true
   },
   "outputs": [],
   "source": [
    "code = func.__code__ # "
   ]
  },
  {
   "cell_type": "code",
   "execution_count": 60,
   "metadata": {},
   "outputs": [
    {
     "data": {
      "text/plain": [
       "<code object func at 0x10c22bc00, file \"<ipython-input-57-975907b82c6b>\", line 1>"
      ]
     },
     "execution_count": 60,
     "metadata": {},
     "output_type": "execute_result"
    }
   ],
   "source": [
    "code # 함수가 코드 오브젝트를 가지고 있고, 그 코드오브젝트를 타고 가서 그 타고 간것이 구조로 접근해서 2 진수의 수로 변환된것을 이미 가지고 있다.\n",
    "     # 두개의 함수를 선언하면 두개의 함수는 다른데, 코드는 같음.\n",
    "\n",
    "\n"
   ]
  },
  {
   "cell_type": "code",
   "execution_count": 61,
   "metadata": {},
   "outputs": [
    {
     "data": {
      "text/plain": [
       "b't\\x00t\\x01\\x83\\x01\\x01\\x00d\\x00S\\x00'"
      ]
     },
     "execution_count": 61,
     "metadata": {},
     "output_type": "execute_result"
    }
   ],
   "source": [
    "code.co_code # 바이너리라는뜻인데 0,1,0,1로 되어있는 "
   ]
  },
  {
   "cell_type": "code",
   "execution_count": null,
   "metadata": {
    "collapsed": true
   },
   "outputs": [],
   "source": []
  },
  {
   "cell_type": "code",
   "execution_count": null,
   "metadata": {
    "collapsed": true
   },
   "outputs": [],
   "source": []
  },
  {
   "cell_type": "code",
   "execution_count": 62,
   "metadata": {
    "collapsed": true
   },
   "outputs": [],
   "source": [
    "# 함수를 정의하면 함수는\n",
    "# globals를 가지고 있고\n",
    "# code objectf를 가지고 있다.\n",
    "\n",
    "# 한마디로 함수는 글로벌스를 가지고 있고, 그 글로벌스와 함께 코드도 가지고 있다\n",
    "# 그래서 클로져와 데코레이션을 사용할수 있다."
   ]
  },
  {
   "cell_type": "code",
   "execution_count": null,
   "metadata": {
    "collapsed": true
   },
   "outputs": [],
   "source": []
  },
  {
   "cell_type": "code",
   "execution_count": null,
   "metadata": {
    "collapsed": true
   },
   "outputs": [],
   "source": []
  },
  {
   "cell_type": "code",
   "execution_count": null,
   "metadata": {
    "collapsed": true
   },
   "outputs": [],
   "source": []
  },
  {
   "cell_type": "code",
   "execution_count": 64,
   "metadata": {
    "collapsed": true
   },
   "outputs": [],
   "source": [
    "import dis"
   ]
  },
  {
   "cell_type": "code",
   "execution_count": 66,
   "metadata": {},
   "outputs": [
    {
     "name": "stdout",
     "output_type": "stream",
     "text": [
      "  2           0 LOAD_GLOBAL              0 (print)\n",
      "              2 LOAD_GLOBAL              1 (a)\n",
      "              4 CALL_FUNCTION            1\n",
      "              6 POP_TOP\n",
      "              8 LOAD_CONST               0 (None)\n",
      "             10 RETURN_VALUE\n"
     ]
    }
   ],
   "source": [
    "dis.dis(func) # 아래의 순서대로 실행을 하는것이다..? # 코드 오브젝트는 구조의 모임이다..? 어쩃든 컴퓨터에 명령을 넣고 0, 1 0, 1 로 바꾸어서 실행하기 위한것인데, 그 바꾸어 진것을 확인한것..?\n",
    "# 인터프리터 언어는 코드나 데이터 언어에 접근 할수 없다."
   ]
  },
  {
   "cell_type": "code",
   "execution_count": null,
   "metadata": {
    "collapsed": true
   },
   "outputs": [],
   "source": []
  },
  {
   "cell_type": "code",
   "execution_count": 205,
   "metadata": {
    "collapsed": true
   },
   "outputs": [],
   "source": [
    "# 계좌를 만드는 함수..?\n",
    "def account(m, name):\n",
    "    def add(money):\n",
    "        nonlocal m # 변경을 할꺼니까 nonlocal로 가져와야함\n",
    "        m += money\n",
    "        \n",
    "        return m, name\n",
    "    return add  # account 함수를 주고 add라는 함수를 받환 받았다.\n",
    "\n",
    "# 맨 처음에 account를 만들고. \n",
    "# 내부정보를 계속 바꾸기 위해서 원래는 여러가지 함수를 계속 정의해야하는데 클로져를 쓰면\n",
    "# 내가 이미 내부정보를 가지고 있고, 그 내부정보를 바꾸고 싶을때. 클로져를 씀..?"
   ]
  },
  {
   "cell_type": "code",
   "execution_count": 214,
   "metadata": {
    "collapsed": true
   },
   "outputs": [],
   "source": [
    "my_acnt = account(1000, 'greg')\n",
    "you_acnt = account(-1000, 'john')"
   ]
  },
  {
   "cell_type": "code",
   "execution_count": 223,
   "metadata": {},
   "outputs": [
    {
     "data": {
      "text/plain": [
       "<function __main__.account.<locals>.add>"
      ]
     },
     "execution_count": 223,
     "metadata": {},
     "output_type": "execute_result"
    }
   ],
   "source": [
    "my_acnt # () <- 를 사용하지않아서 그냥 함수 자체 내부가 작성됨.."
   ]
  },
  {
   "cell_type": "code",
   "execution_count": 221,
   "metadata": {},
   "outputs": [
    {
     "data": {
      "text/plain": [
       "<function __main__.account.<locals>.add>"
      ]
     },
     "execution_count": 221,
     "metadata": {},
     "output_type": "execute_result"
    }
   ],
   "source": [
    "you_acnt"
   ]
  },
  {
   "cell_type": "code",
   "execution_count": null,
   "metadata": {
    "collapsed": true
   },
   "outputs": [],
   "source": []
  },
  {
   "cell_type": "code",
   "execution_count": 215,
   "metadata": {},
   "outputs": [
    {
     "data": {
      "text/plain": [
       "False"
      ]
     },
     "execution_count": 215,
     "metadata": {},
     "output_type": "execute_result"
    }
   ],
   "source": [
    "my_acnt == you_acnt # 다르다고함 -> 다른 이유는 . 애초에 값이 다르기 때문이다."
   ]
  },
  {
   "cell_type": "code",
   "execution_count": 216,
   "metadata": {},
   "outputs": [
    {
     "data": {
      "text/plain": [
       "True"
      ]
     },
     "execution_count": 216,
     "metadata": {},
     "output_type": "execute_result"
    }
   ],
   "source": [
    "my_acnt.__code__ == you_acnt.__code__ # 두 함수를 다른데 코드 오브제는 왜 같은거지..?\n",
    "# 두 함수가 파이썬의 내부구조에서 명령을 받아오는 곳이 같은곳이기때문에 codes는 같다고 나옴."
   ]
  },
  {
   "cell_type": "code",
   "execution_count": 217,
   "metadata": {},
   "outputs": [
    {
     "data": {
      "text/plain": [
       "(1400, 'greg')"
      ]
     },
     "execution_count": 217,
     "metadata": {},
     "output_type": "execute_result"
    }
   ],
   "source": [
    "my_acnt(400)"
   ]
  },
  {
   "cell_type": "code",
   "execution_count": 218,
   "metadata": {},
   "outputs": [
    {
     "data": {
      "text/plain": [
       "(-2500, 'john')"
      ]
     },
     "execution_count": 218,
     "metadata": {},
     "output_type": "execute_result"
    }
   ],
   "source": [
    "you_acnt(-1500)"
   ]
  },
  {
   "cell_type": "code",
   "execution_count": 219,
   "metadata": {},
   "outputs": [
    {
     "data": {
      "text/plain": [
       "1400"
      ]
     },
     "execution_count": 219,
     "metadata": {},
     "output_type": "execute_result"
    }
   ],
   "source": [
    "my_acnt.__closure__[0].cell_contents # closure 가 어떤걸 가지고 있는지... 확인하는것"
   ]
  },
  {
   "cell_type": "code",
   "execution_count": 88,
   "metadata": {},
   "outputs": [
    {
     "data": {
      "text/plain": [
       "'greg'"
      ]
     },
     "execution_count": 88,
     "metadata": {},
     "output_type": "execute_result"
    }
   ],
   "source": [
    "my_acnt.__closure__[1].cell_contents"
   ]
  },
  {
   "cell_type": "code",
   "execution_count": 89,
   "metadata": {},
   "outputs": [
    {
     "data": {
      "text/plain": [
       "-1300"
      ]
     },
     "execution_count": 89,
     "metadata": {},
     "output_type": "execute_result"
    }
   ],
   "source": [
    "you_acnt.__closure__[0].cell_contents"
   ]
  },
  {
   "cell_type": "code",
   "execution_count": 90,
   "metadata": {},
   "outputs": [
    {
     "data": {
      "text/plain": [
       "'john'"
      ]
     },
     "execution_count": 90,
     "metadata": {},
     "output_type": "execute_result"
    }
   ],
   "source": [
    "you_acnt.__closure__[1].cell_contents"
   ]
  },
  {
   "cell_type": "code",
   "execution_count": null,
   "metadata": {
    "collapsed": true
   },
   "outputs": [],
   "source": []
  },
  {
   "cell_type": "code",
   "execution_count": 95,
   "metadata": {
    "collapsed": true
   },
   "outputs": [],
   "source": [
    "code = you_acnt.__code__"
   ]
  },
  {
   "cell_type": "code",
   "execution_count": 96,
   "metadata": {},
   "outputs": [
    {
     "data": {
      "text/plain": [
       "('m', 'name')"
      ]
     },
     "execution_count": 96,
     "metadata": {},
     "output_type": "execute_result"
    }
   ],
   "source": [
    "code.co_freevars"
   ]
  },
  {
   "cell_type": "code",
   "execution_count": 99,
   "metadata": {
    "collapsed": true
   },
   "outputs": [],
   "source": [
    "code = my_acnt.__code__"
   ]
  },
  {
   "cell_type": "code",
   "execution_count": 100,
   "metadata": {},
   "outputs": [
    {
     "data": {
      "text/plain": [
       "<code object add at 0x10c11f300, file \"<ipython-input-67-beeab983e877>\", line 3>"
      ]
     },
     "execution_count": 100,
     "metadata": {},
     "output_type": "execute_result"
    }
   ],
   "source": [
    "code # 함수인데도 불구하고, 내부정보를 가지고 있다. 변수를 가지고 있다 변수 = 내부정보 = 데이터 "
   ]
  },
  {
   "cell_type": "code",
   "execution_count": null,
   "metadata": {
    "collapsed": true
   },
   "outputs": [],
   "source": []
  },
  {
   "cell_type": "code",
   "execution_count": null,
   "metadata": {
    "collapsed": true
   },
   "outputs": [],
   "source": []
  },
  {
   "cell_type": "code",
   "execution_count": 101,
   "metadata": {},
   "outputs": [
    {
     "data": {
      "text/plain": [
       "['__annotations__',\n",
       " '__call__',\n",
       " '__class__',\n",
       " '__closure__',\n",
       " '__code__',\n",
       " '__defaults__',\n",
       " '__delattr__',\n",
       " '__dict__',\n",
       " '__dir__',\n",
       " '__doc__',\n",
       " '__eq__',\n",
       " '__format__',\n",
       " '__ge__',\n",
       " '__get__',\n",
       " '__getattribute__',\n",
       " '__globals__',\n",
       " '__gt__',\n",
       " '__hash__',\n",
       " '__init__',\n",
       " '__init_subclass__',\n",
       " '__kwdefaults__',\n",
       " '__le__',\n",
       " '__lt__',\n",
       " '__module__',\n",
       " '__name__',\n",
       " '__ne__',\n",
       " '__new__',\n",
       " '__qualname__',\n",
       " '__reduce__',\n",
       " '__reduce_ex__',\n",
       " '__repr__',\n",
       " '__setattr__',\n",
       " '__sizeof__',\n",
       " '__str__',\n",
       " '__subclasshook__']"
      ]
     },
     "execution_count": 101,
     "metadata": {},
     "output_type": "execute_result"
    }
   ],
   "source": [
    "dir(my_acnt)"
   ]
  },
  {
   "cell_type": "code",
   "execution_count": 102,
   "metadata": {},
   "outputs": [
    {
     "data": {
      "text/plain": [
       "(<cell at 0x10c1bf438: int object at 0x10c1da350>,\n",
       " <cell at 0x10c1bf528: str object at 0x10c242b58>)"
      ]
     },
     "execution_count": 102,
     "metadata": {},
     "output_type": "execute_result"
    }
   ],
   "source": [
    "my_acnt.__closure__ # 튜플로 묶여있으니까, 인덱싱으로 접근 해야된다...? "
   ]
  },
  {
   "cell_type": "code",
   "execution_count": 103,
   "metadata": {},
   "outputs": [
    {
     "data": {
      "text/plain": [
       "<cell at 0x10c1bf438: int object at 0x10c1da350>"
      ]
     },
     "execution_count": 103,
     "metadata": {},
     "output_type": "execute_result"
    }
   ],
   "source": [
    "my_acnt.__closure__[0]"
   ]
  },
  {
   "cell_type": "code",
   "execution_count": 104,
   "metadata": {},
   "outputs": [
    {
     "data": {
      "text/plain": [
       "['__class__',\n",
       " '__delattr__',\n",
       " '__dir__',\n",
       " '__doc__',\n",
       " '__eq__',\n",
       " '__format__',\n",
       " '__ge__',\n",
       " '__getattribute__',\n",
       " '__gt__',\n",
       " '__hash__',\n",
       " '__init__',\n",
       " '__init_subclass__',\n",
       " '__le__',\n",
       " '__lt__',\n",
       " '__ne__',\n",
       " '__new__',\n",
       " '__reduce__',\n",
       " '__reduce_ex__',\n",
       " '__repr__',\n",
       " '__setattr__',\n",
       " '__sizeof__',\n",
       " '__str__',\n",
       " '__subclasshook__',\n",
       " 'cell_contents']"
      ]
     },
     "execution_count": 104,
     "metadata": {},
     "output_type": "execute_result"
    }
   ],
   "source": [
    "dir(my_acnt.__closure__[0])"
   ]
  },
  {
   "cell_type": "code",
   "execution_count": 105,
   "metadata": {},
   "outputs": [
    {
     "data": {
      "text/plain": [
       "1400"
      ]
     },
     "execution_count": 105,
     "metadata": {},
     "output_type": "execute_result"
    }
   ],
   "source": [
    "my_acnt.__closure__[0].cell_contents # 클로져라는놈이 무엇을가지고 있나 확인할수있다.."
   ]
  },
  {
   "cell_type": "code",
   "execution_count": 106,
   "metadata": {},
   "outputs": [
    {
     "data": {
      "text/plain": [
       "'greg'"
      ]
     },
     "execution_count": 106,
     "metadata": {},
     "output_type": "execute_result"
    }
   ],
   "source": [
    "my_acnt.__closure__[1].cell_contents"
   ]
  },
  {
   "cell_type": "code",
   "execution_count": null,
   "metadata": {
    "collapsed": true
   },
   "outputs": [],
   "source": []
  },
  {
   "cell_type": "code",
   "execution_count": null,
   "metadata": {
    "collapsed": true
   },
   "outputs": [],
   "source": []
  },
  {
   "cell_type": "code",
   "execution_count": null,
   "metadata": {
    "collapsed": true
   },
   "outputs": [],
   "source": []
  },
  {
   "cell_type": "code",
   "execution_count": 108,
   "metadata": {
    "collapsed": true
   },
   "outputs": [],
   "source": [
    "# lambda, map, filter, reduce"
   ]
  },
  {
   "cell_type": "code",
   "execution_count": null,
   "metadata": {
    "collapsed": true
   },
   "outputs": [],
   "source": []
  },
  {
   "cell_type": "code",
   "execution_count": 115,
   "metadata": {
    "collapsed": true
   },
   "outputs": [],
   "source": [
    "def adder(a, b):\n",
    "    return a + b #람다는 이름이 아니라 키워드이다. def와 똑같음.\n",
    "# 함수가 값을 정의 하지않아도 none를 반환하는 이유는 식으로 보기 때문이다..?"
   ]
  },
  {
   "cell_type": "code",
   "execution_count": 116,
   "metadata": {},
   "outputs": [
    {
     "data": {
      "text/plain": [
       "<function __main__.<lambda>>"
      ]
     },
     "execution_count": 116,
     "metadata": {},
     "output_type": "execute_result"
    }
   ],
   "source": [
    "lambda a, b: a + b # 람다는 return이 없다. 무조건 반환 하기때문에..! \n",
    "# 식만 넣어주기 때문에 리턴을 사용하지 않는다.. ? 이건 뭔말이야.\n",
    "# 함수는 일회성 함수 한번 사용하면 메모리에서 사라짐."
   ]
  },
  {
   "cell_type": "code",
   "execution_count": 117,
   "metadata": {
    "collapsed": true
   },
   "outputs": [],
   "source": [
    "# ex) lambda를 변수로 받으면 사용이 가능함.\n",
    "\n",
    "f = lambda a, b : a + b \n"
   ]
  },
  {
   "cell_type": "code",
   "execution_count": 118,
   "metadata": {},
   "outputs": [
    {
     "data": {
      "text/plain": [
       "8"
      ]
     },
     "execution_count": 118,
     "metadata": {},
     "output_type": "execute_result"
    }
   ],
   "source": [
    "f(5, 3) #문자로 이름을 받음."
   ]
  },
  {
   "cell_type": "code",
   "execution_count": 120,
   "metadata": {
    "collapsed": true
   },
   "outputs": [],
   "source": [
    "a + b #는 식이다\n",
    "c = a+ b # 반환하는 값이 없어서 문으로 보면된다. \n",
    "# 파이썬에서는 함수는 식이다. 문 => 대입문? 은안된다는 이야기인거같은데.."
   ]
  },
  {
   "cell_type": "code",
   "execution_count": 123,
   "metadata": {},
   "outputs": [
    {
     "data": {
      "text/plain": [
       "<function __main__.<lambda>>"
      ]
     },
     "execution_count": 123,
     "metadata": {},
     "output_type": "execute_result"
    }
   ],
   "source": [
    "f # f 가 lambda라는 이야기임"
   ]
  },
  {
   "cell_type": "code",
   "execution_count": null,
   "metadata": {
    "collapsed": true
   },
   "outputs": [],
   "source": []
  },
  {
   "cell_type": "code",
   "execution_count": 125,
   "metadata": {},
   "outputs": [
    {
     "data": {
      "text/plain": [
       "3"
      ]
     },
     "execution_count": 125,
     "metadata": {},
     "output_type": "execute_result"
    }
   ],
   "source": [
    "f(1, 2) #람다인데 함수처럼 사용할수 있다."
   ]
  },
  {
   "cell_type": "code",
   "execution_count": null,
   "metadata": {
    "collapsed": true
   },
   "outputs": [],
   "source": []
  },
  {
   "cell_type": "code",
   "execution_count": 127,
   "metadata": {
    "collapsed": true
   },
   "outputs": [],
   "source": [
    "li = [1, 2, 3, 4, 5]\n",
    "f = lambda idx: li[idx]"
   ]
  },
  {
   "cell_type": "code",
   "execution_count": 130,
   "metadata": {},
   "outputs": [
    {
     "data": {
      "text/plain": [
       "1"
      ]
     },
     "execution_count": 130,
     "metadata": {},
     "output_type": "execute_result"
    }
   ],
   "source": [
    "f(0) # = > 람다라는 함수를 인덱스 처리가 가능함?"
   ]
  },
  {
   "cell_type": "code",
   "execution_count": null,
   "metadata": {
    "collapsed": true
   },
   "outputs": [],
   "source": []
  },
  {
   "cell_type": "code",
   "execution_count": null,
   "metadata": {
    "collapsed": true
   },
   "outputs": [],
   "source": []
  },
  {
   "cell_type": "code",
   "execution_count": null,
   "metadata": {
    "collapsed": true
   },
   "outputs": [],
   "source": []
  },
  {
   "cell_type": "code",
   "execution_count": null,
   "metadata": {
    "collapsed": true
   },
   "outputs": [],
   "source": []
  },
  {
   "cell_type": "code",
   "execution_count": 133,
   "metadata": {
    "collapsed": true
   },
   "outputs": [],
   "source": [
    "li = [3, 6, 2, 1]\n"
   ]
  },
  {
   "cell_type": "code",
   "execution_count": null,
   "metadata": {
    "collapsed": true
   },
   "outputs": [],
   "source": []
  },
  {
   "cell_type": "code",
   "execution_count": 152,
   "metadata": {
    "collapsed": true
   },
   "outputs": [],
   "source": [
    "li = [i for i in range(1, 101)]"
   ]
  },
  {
   "cell_type": "code",
   "execution_count": 153,
   "metadata": {},
   "outputs": [
    {
     "name": "stdout",
     "output_type": "stream",
     "text": [
      "Help on built-in function sort:\n",
      "\n",
      "sort(...) method of builtins.list instance\n",
      "    L.sort(key=None, reverse=False) -> None -- stable sort *IN PLACE*\n",
      "\n"
     ]
    }
   ],
   "source": [
    "help(li.sort)"
   ]
  },
  {
   "cell_type": "code",
   "execution_count": 158,
   "metadata": {
    "collapsed": true
   },
   "outputs": [],
   "source": [
    "def pred(a):\n",
    "    return a % 2 == 0\n",
    "\n",
    "\n"
   ]
  },
  {
   "cell_type": "raw",
   "metadata": {},
   "source": []
  },
  {
   "cell_type": "code",
   "execution_count": null,
   "metadata": {
    "collapsed": true
   },
   "outputs": [],
   "source": []
  },
  {
   "cell_type": "code",
   "execution_count": 162,
   "metadata": {
    "collapsed": true
   },
   "outputs": [],
   "source": [
    "li.sort(key =pred)"
   ]
  },
  {
   "cell_type": "code",
   "execution_count": 168,
   "metadata": {},
   "outputs": [
    {
     "name": "stdout",
     "output_type": "stream",
     "text": [
      "[1, 3, 5, 7, 9, 11, 13, 15, 17, 19, 21, 23, 25, 27, 29, 31, 33, 35, 37, 39, 41, 43, 45, 47, 49, 51, 53, 55, 57, 59, 61, 63, 65, 67, 69, 71, 73, 75, 77, 79, 81, 83, 85, 87, 89, 91, 93, 95, 97, 99, 2, 4, 6, 8, 10, 12, 14, 16, 18, 20, 22, 24, 26, 28, 30, 32, 34, 36, 38, 40, 42, 44, 46, 48, 50, 52, 54, 56, 58, 60, 62, 64, 66, 68, 70, 72, 74, 76, 78, 80, 82, 84, 86, 88, 90, 92, 94, 96, 98, 100]\n"
     ]
    }
   ],
   "source": [
    "print(li)"
   ]
  },
  {
   "cell_type": "code",
   "execution_count": 170,
   "metadata": {
    "collapsed": true
   },
   "outputs": [],
   "source": [
    "li2 = sorted(li)"
   ]
  },
  {
   "cell_type": "code",
   "execution_count": 171,
   "metadata": {},
   "outputs": [
    {
     "name": "stdout",
     "output_type": "stream",
     "text": [
      "[1, 2, 3, 4, 5, 6, 7, 8, 9, 10, 11, 12, 13, 14, 15, 16, 17, 18, 19, 20, 21, 22, 23, 24, 25, 26, 27, 28, 29, 30, 31, 32, 33, 34, 35, 36, 37, 38, 39, 40, 41, 42, 43, 44, 45, 46, 47, 48, 49, 50, 51, 52, 53, 54, 55, 56, 57, 58, 59, 60, 61, 62, 63, 64, 65, 66, 67, 68, 69, 70, 71, 72, 73, 74, 75, 76, 77, 78, 79, 80, 81, 82, 83, 84, 85, 86, 87, 88, 89, 90, 91, 92, 93, 94, 95, 96, 97, 98, 99, 100]\n"
     ]
    }
   ],
   "source": [
    "print(li2)"
   ]
  },
  {
   "cell_type": "code",
   "execution_count": 172,
   "metadata": {},
   "outputs": [
    {
     "name": "stdout",
     "output_type": "stream",
     "text": [
      "[1, 3, 5, 7, 9, 11, 13, 15, 17, 19, 21, 23, 25, 27, 29, 31, 33, 35, 37, 39, 41, 43, 45, 47, 49, 51, 53, 55, 57, 59, 61, 63, 65, 67, 69, 71, 73, 75, 77, 79, 81, 83, 85, 87, 89, 91, 93, 95, 97, 99, 2, 4, 6, 8, 10, 12, 14, 16, 18, 20, 22, 24, 26, 28, 30, 32, 34, 36, 38, 40, 42, 44, 46, 48, 50, 52, 54, 56, 58, 60, 62, 64, 66, 68, 70, 72, 74, 76, 78, 80, 82, 84, 86, 88, 90, 92, 94, 96, 98, 100]\n"
     ]
    }
   ],
   "source": [
    "print(li)"
   ]
  },
  {
   "cell_type": "code",
   "execution_count": 191,
   "metadata": {
    "collapsed": true
   },
   "outputs": [],
   "source": [
    "a = 10\n",
    "b = 10"
   ]
  },
  {
   "cell_type": "code",
   "execution_count": 192,
   "metadata": {},
   "outputs": [
    {
     "data": {
      "text/plain": [
       "True"
      ]
     },
     "execution_count": 192,
     "metadata": {},
     "output_type": "execute_result"
    }
   ],
   "source": [
    "a == b"
   ]
  },
  {
   "cell_type": "code",
   "execution_count": 194,
   "metadata": {},
   "outputs": [
    {
     "data": {
      "text/plain": [
       "True"
      ]
     },
     "execution_count": 194,
     "metadata": {},
     "output_type": "execute_result"
    }
   ],
   "source": [
    "a is b"
   ]
  },
  {
   "cell_type": "code",
   "execution_count": 195,
   "metadata": {
    "collapsed": true
   },
   "outputs": [],
   "source": [
    "a = 1024\n",
    "b = 1024\n"
   ]
  },
  {
   "cell_type": "code",
   "execution_count": 196,
   "metadata": {},
   "outputs": [
    {
     "data": {
      "text/plain": [
       "True"
      ]
     },
     "execution_count": 196,
     "metadata": {},
     "output_type": "execute_result"
    }
   ],
   "source": [
    "a == b"
   ]
  },
  {
   "cell_type": "code",
   "execution_count": 197,
   "metadata": {},
   "outputs": [
    {
     "data": {
      "text/plain": [
       "False"
      ]
     },
     "execution_count": 197,
     "metadata": {},
     "output_type": "execute_result"
    }
   ],
   "source": [
    "a is b # '==' 불린 명령어는 각 값의 기계어인 101010 을 비교해서 True를 찾는다\n",
    "# is 는 각 비교 대상자의 연산 사용되는 메모리를 비교한다.."
   ]
  },
  {
   "cell_type": "code",
   "execution_count": 1,
   "metadata": {
    "collapsed": true
   },
   "outputs": [],
   "source": [
    "def account(name, m):\n",
    "    def add(money):\n",
    "        nonlocal m \n",
    "        m += money\n",
    "        return name, m\n",
    "    return add"
   ]
  },
  {
   "cell_type": "code",
   "execution_count": 2,
   "metadata": {},
   "outputs": [
    {
     "data": {
      "text/plain": [
       "<function __main__.account>"
      ]
     },
     "execution_count": 2,
     "metadata": {},
     "output_type": "execute_result"
    }
   ],
   "source": [
    "account"
   ]
  },
  {
   "cell_type": "code",
   "execution_count": 20,
   "metadata": {
    "collapsed": true
   },
   "outputs": [],
   "source": [
    "a = account(\"1\", 100)"
   ]
  },
  {
   "cell_type": "code",
   "execution_count": 21,
   "metadata": {},
   "outputs": [
    {
     "data": {
      "text/plain": [
       "('1', 110)"
      ]
     },
     "execution_count": 21,
     "metadata": {},
     "output_type": "execute_result"
    }
   ],
   "source": [
    "a(10)"
   ]
  },
  {
   "cell_type": "code",
   "execution_count": 24,
   "metadata": {},
   "outputs": [
    {
     "data": {
      "text/plain": [
       "('1', 1010)"
      ]
     },
     "execution_count": 24,
     "metadata": {},
     "output_type": "execute_result"
    }
   ],
   "source": [
    "a(500)"
   ]
  },
  {
   "cell_type": "code",
   "execution_count": null,
   "metadata": {
    "collapsed": true
   },
   "outputs": [],
   "source": []
  },
  {
   "cell_type": "code",
   "execution_count": null,
   "metadata": {
    "collapsed": true
   },
   "outputs": [],
   "source": []
  },
  {
   "cell_type": "code",
   "execution_count": null,
   "metadata": {
    "collapsed": true
   },
   "outputs": [],
   "source": []
  },
  {
   "cell_type": "code",
   "execution_count": null,
   "metadata": {
    "collapsed": true
   },
   "outputs": [],
   "source": []
  },
  {
   "cell_type": "code",
   "execution_count": null,
   "metadata": {
    "collapsed": true
   },
   "outputs": [],
   "source": []
  },
  {
   "cell_type": "code",
   "execution_count": null,
   "metadata": {
    "collapsed": true
   },
   "outputs": [],
   "source": []
  }
 ],
 "metadata": {
  "kernelspec": {
   "display_name": "Python 3",
   "language": "python",
   "name": "python3"
  },
  "language_info": {
   "codemirror_mode": {
    "name": "ipython",
    "version": 3
   },
   "file_extension": ".py",
   "mimetype": "text/x-python",
   "name": "python",
   "nbconvert_exporter": "python",
   "pygments_lexer": "ipython3",
   "version": "3.6.2"
  }
 },
 "nbformat": 4,
 "nbformat_minor": 2
}

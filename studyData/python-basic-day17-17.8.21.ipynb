{
 "cells": [
  {
   "cell_type": "code",
   "execution_count": 1,
   "metadata": {
    "collapsed": true
   },
   "outputs": [],
   "source": [
    "# 오늘 부터 최우영 강사님"
   ]
  },
  {
   "cell_type": "code",
   "execution_count": 2,
   "metadata": {
    "collapsed": true
   },
   "outputs": [],
   "source": [
    "# 네트워크 \n",
    "# 네트워크에 필요한 장비\n",
    "# network Cable ->? 랜선, 광 케이블\n",
    "# distributor(Switch Hub) - 공유기..\n",
    "# Router -> \n",
    "\n",
    "-------------------------------------------\n",
    "# USB(Universal Serial Bus) - USB로도 인터넷 통신이 가능함.. 인터넷 통신 값을 USB로 변환하여 통신한다...>?\n",
    "\n",
    "# LAN : Local Area Network(근거리 통신망) : ex) 와이파이 통신에 들어와있는 범위..?\n",
    "\n",
    "# WAN : Wide Area Network(광역 통신망) : 우리가 알고 있는 랜선 sk, kt....\n",
    "\n",
    "# MAN : Metropolitan Area Network(도시권 통신망) :  LAN 과 WAN 의 사이\n",
    "\n",
    "--------------------------------------------\n",
    "# 802.11 != wifi -> 같은 기술을 사용하지만 엄밀하게 얘기하면 다르다.\n",
    "\n",
    "# 독립적으로 사용되는 시스템 or 하드웨어 = 임베디드 시스템, 임베디드 CPU.....등등....\n",
    "\n",
    "# WIFI의 a,b,g,n,ac... 전송 대역폭에 따른 분류...?\n",
    "# a,b,g,n 은 2.4gh를 사용함. 근데 이게 블루투스 대역폭이랑 겹쳐서 가끔씩 둘이 같이 사용하면, 끊길 위험이 있음.\n",
    "\n",
    "-------------------------------------------\n",
    "# 진동수가 높을수록 좋은 수신률을 보임. 대산 짧음. 5Hgz\n",
    "# 진동수가 짧을 수록 빠르고 좋은 데이터를 보낼수 없지만 끊기지 않고 멀리 갈수 있음 2.4Ghz\n",
    "# 주파수가 높으면 산을 통과하지 못한다, 주파수가 낮으면 산을 통과한다..? : 그냥 간략하게 생각해볼수 있음. 물리의 음파를 간략하게 생각해볼수 있음\n",
    "-------------------------------------------\n",
    "\n",
    "# Lifi = 빛을 이용해서 무선 통신을 함 -> 매질이 빛임 있어야함\n",
    "# 매장에서 사용가능한 becon? \n",
    "\n",
    "# 매장에서 칩..? 칩 보다는 테그...를 부착해서 편의점을 나가면 태그의 시그널이 끊어지면 그것이 자동으로 결제될수 있게...?\n",
    "\n",
    "# 창업의 방향 -> 제조나 커머스, 기술 둘중하나? 그 중에 한개 선택해서..\n",
    "\n",
    "# 빛은 파동도 아니고, 입자도 아님, 전자기파..? 두개의 중간단계. \n",
    "# 에테르 = 빛의 매질 \n",
    "# 이더넷은, 우리가 사용하고 있는, 유선 랜 기반인터넷의 사용 기술이다..?\n"
   ]
  },
  {
   "cell_type": "code",
   "execution_count": 3,
   "metadata": {
    "collapsed": true
   },
   "outputs": [],
   "source": [
    "# packet : 인터넷 사용할때 데이터를 전송하는 단위, ex) 토렌트 데이터를 받을때 나누어서 받을때 그 받는 단위가 '패킷' 이다\n",
    "# Network OSI 7 layer.. \n",
    "\n",
    "# wifi password가 안걸려있는 무선인터넷 사용할때... \n",
    "\n",
    "# application Layer\n",
    "#  -> 사용자에게 보이는 유일한 계층이고, 네트워크에 대한 기본적인 인터페이스 제공\n",
    "\n",
    "# Presentation Layer\n",
    "#  -> 패킷을 암호화 하는곳..? 패킷을 암호화 하고 -> 복화해서 사용함\n",
    "\n",
    "# Seession Layer \n",
    "#  -> 두대의 컴퓨터 사이의 통신이 이루어지고 있는지 확인하는? 쉽게 얘기하면 연결이 끊겻는데, 한쪽에서 계속 데이터 보내는것을 방지하기 위해서 만들어놓은것 같음..\n",
    "\n",
    "# Transport Layer \n",
    "#  -> 패킷을 전달하는곳, ex) 전기 선과 전기포트 가 연결되는곳..? \n",
    "#  -> 외부에서 비정상적인 접근이 올때 차단하는 역활을함.\n",
    "#  -> 방화벽이 이계층에 있음. \n",
    "#  -> 방화벽의 역활 : 외부에서 들어오는 비정상적인 접근을 막는 역활을 함\n",
    "\n",
    "# Network Layer \n",
    "# 물리적인 네트워크 라우터 같은곳..?\n",
    "# 여기에서 7Layer 중에 3 2 1 -> 1 2 3 -> 3 2 1 ... 이런식으로 반복이 가능함..\n",
    "# 가장 빠른길을 계산하는곳..\n",
    "# 패킷의 1,2,3 번을 까보고 가장 최적경로로 가는곳을 계산하고, 가장 빠른길로 보내줌.\n",
    "\n",
    "# Datalink Layer\n",
    "# -> 데이터와 데이터의 주소가 변조되지 않았는지 확인하는곳.. 데이터가 꺠졋는지, 꺠지지 않았는지 확인하는곳..\n",
    "\n",
    "# 구미 -> 서울 로 인터넷 다이렉트 로 연결함.. ? 세계 최초 2번째  인터넷 통신망 \n",
    "\n",
    "# 최초의 인터넷은 미국의 알파넷 프로젝트(인터넷) 하고싶은것은 컴퓨터 하나로 미국 전역에 있는 미국 항공기가 있는 미니맵을 만들고 싶었슴.\n",
    "# 전길남 박사 -> 우리나라에서 최초로 인터넷 보급 한사람... -> 이 사람 강의 차자보자 \n",
    "\n",
    "\n"
   ]
  },
  {
   "cell_type": "code",
   "execution_count": null,
   "metadata": {
    "collapsed": true
   },
   "outputs": [],
   "source": []
  },
  {
   "cell_type": "code",
   "execution_count": null,
   "metadata": {
    "collapsed": true
   },
   "outputs": [],
   "source": [
    "# OSI 7 layer Mode -> TCP/IP Protocol 크게 4단계로 이루어져 있음. 보내는 파일에 따라서 다르게 바뀌는데. \n",
    "\n",
    "# 우리가 일반적으로 사용하는 인터넷 환경을 HTTP(HyperText Transfer Protocol)\n",
    "#  -> 텍스트가 그냥 텍스트가 아니라 의미를 가지고 있는 텍스트. in www 상에서 \n",
    "# 이런 텍스트를 주고받는 프로토콜..?\n",
    "# 대표적인 HTTP method: GET - 11번가에 들어가는행위\n",
    "#                     POST - 회원가입하고, 회원가입정보를 데이터 서버에 보내는행위\n",
    "#                     PUT  - 특정 데이터를 추가하거나 변경할떄?\n",
    "#                     DELETE - 회원탈퇴..등\n",
    "\n",
    "\n"
   ]
  },
  {
   "cell_type": "code",
   "execution_count": 4,
   "metadata": {
    "collapsed": true
   },
   "outputs": [],
   "source": [
    "from urllib.request import urlopen"
   ]
  },
  {
   "cell_type": "code",
   "execution_count": 5,
   "metadata": {
    "collapsed": true
   },
   "outputs": [],
   "source": [
    "response = urlopen('https://www.google.com/')"
   ]
  },
  {
   "cell_type": "code",
   "execution_count": 6,
   "metadata": {},
   "outputs": [
    {
     "data": {
      "text/plain": [
       "<http.client.HTTPResponse at 0x106e571d0>"
      ]
     },
     "execution_count": 6,
     "metadata": {},
     "output_type": "execute_result"
    }
   ],
   "source": [
    "response"
   ]
  },
  {
   "cell_type": "code",
   "execution_count": 8,
   "metadata": {},
   "outputs": [
    {
     "data": {
      "text/plain": [
       "'https://www.google.co.kr/?gfe_rd=cr&ei=icybWYWIGaaL8Qe-qa3gBA'"
      ]
     },
     "execution_count": 8,
     "metadata": {},
     "output_type": "execute_result"
    }
   ],
   "source": [
    "response.url\n",
    "# 나는 https://www.google.com/ 로 저장했는데, 아래처럼 url이 저장되는 이유는? 요청과 응답에서 처리되는것.."
   ]
  },
  {
   "cell_type": "code",
   "execution_count": 10,
   "metadata": {},
   "outputs": [
    {
     "data": {
      "text/plain": [
       "b'</style><style>body,td,a,p,.h{font-family:\\xb1\\xbc\\xb8\\xb2,\\xb5\\xb8\\xbf\\xf2,arial,sans-serif}.ko{font-size:9pt}body{margin:0;overflow-y:scroll}#gog{padding:3px 8px 0}td{line-height:.8em}.gac_m td{line-height:17px}form{margin-bottom:20px}.h{color:#36c}.q{color:#00c}.ts td{padding:0}.ts{border-collapse:collapse}em{font-weight:bold;font-style:normal}.lst{height:25px;width:496px}.gsfi,.lst{font:18px arial,sans-serif}.gsfs{font:17px arial,sans-serif}.ds{display:inline-box;display:inline-block;margin:3px 0 4px;margin-left:4px}input{font-family:inherit}a.gb1,a.gb2,a.gb3,a.gb4{color:#11c !important}body{background:#fff;color:black}a{color:#11c;text-decoration:none}a:hover,a:active{text-decoration:underline}.fl a{color:#36c}a:visited{color:#551a8b}a.gb1,a.gb4{text-decoration:underline}a.gb3:hover{text-decoration:none}#ghead a.gb2:hover{color:#fff !important}.sblc{padding-top:5px}.sblc a{display:block;margin:2px 0;margin-left:13px;font-size:11px}.lsbb{background:#eee;border:solid 1px;border-color:#ccc #999 #999 #ccc;height:30px}.lsbb{display:block}.ftl,#fll a{display:inline-block;margin:0 12px}.lsb{background:url(/images/nav_logo229.png) 0 -261px repeat-x;border:none;color:#000;cursor:pointer;height:30px;margin:0;outline:0;font:15px arial,sans-serif;vertical-align:top}.lsb:active{background:#ccc}.lst:focus{outline:none}.tiah{width:458px}</style><script></script><link href=\"/images/branding/product/ico/googleg_lodp.ico\" rel=\"shortcut icon\"></head><body bgcolor=\"#fff\"><script>(function(){var src=\\'/images/nav_logo229.png\\';var iesg=false;document.body.onload = function(){window.n && window.n();if (document.images){new Image().src=src;}\\n'"
      ]
     },
     "execution_count": 10,
     "metadata": {},
     "output_type": "execute_result"
    }
   ],
   "source": [
    "response.readline()\n",
    "# 응답을 한줄한줄 읽어보면 HTML 코드를 읽어서 그려줌..?\n",
    "# HTML은, head는 테이터를 저장하고, body 는 자바스크립트를 그려준다...?\n"
   ]
  },
  {
   "cell_type": "code",
   "execution_count": 12,
   "metadata": {},
   "outputs": [
    {
     "data": {
      "text/plain": [
       "200"
      ]
     },
     "execution_count": 12,
     "metadata": {},
     "output_type": "execute_result"
    }
   ],
   "source": [
    "response.status\n",
    "# 200번은 요청에 대한 응답을 잘 실행했다.\n",
    "# 300 회원가입에 대한 post 요청처리완료..? URL이 변경됬다. 그리고 잘 됫다.\n",
    "# 400 일반적으로 파일을 찾을수 없거나, 권한이 없거나 하는상태 ex) 404 페이지\n",
    "# 500 그 서버가 꺼졋거나, 동작하지 않는.., 서버에러\n",
    "\n"
   ]
  },
  {
   "cell_type": "code",
   "execution_count": 19,
   "metadata": {
    "collapsed": true
   },
   "outputs": [],
   "source": [
    "from urllib.request import urlopen\n",
    "import urllib.error"
   ]
  },
  {
   "cell_type": "code",
   "execution_count": 18,
   "metadata": {},
   "outputs": [
    {
     "ename": "SyntaxError",
     "evalue": "EOL while scanning string literal (<ipython-input-18-aecd3d9a85df>, line 6)",
     "output_type": "error",
     "traceback": [
      "\u001b[0;36m  File \u001b[0;32m\"<ipython-input-18-aecd3d9a85df>\"\u001b[0;36m, line \u001b[0;32m6\u001b[0m\n\u001b[0;31m    urlopen('https://www.nate.com/)\u001b[0m\n\u001b[0m                                   ^\u001b[0m\n\u001b[0;31mSyntaxError\u001b[0m\u001b[0;31m:\u001b[0m EOL while scanning string literal\n"
     ]
    }
   ],
   "source": [
    "# http 는 80번, https 는 440번 포트를 열어놓고 사용함.. \n",
    "\n",
    "# error 핸들링, 의도적으로 https 에러를 발생시켜서 출력되는 에러를 고치는것\n",
    "try:\n",
    "    \n",
    "    urlopen('https://www.nate.com/)\n",
    "except urllib.error.HTTPError as e:\n",
    "    print('status', e.code)\n",
    "    print('reason', e.reason)\n",
    "    print('rul', e.url)\n",
    "    \n",
    "\n",
    "    "
   ]
  },
  {
   "cell_type": "code",
   "execution_count": 23,
   "metadata": {},
   "outputs": [
    {
     "data": {
      "text/plain": [
       "[('Date', 'Tue, 22 Aug 2017 06:17:45 GMT'),\n",
       " ('Expires', '-1'),\n",
       " ('Cache-Control', 'private, max-age=0'),\n",
       " ('Content-Type', 'text/html; charset=EUC-KR'),\n",
       " ('P3P',\n",
       "  'CP=\"This is not a P3P policy! See https://www.google.com/support/accounts/answer/151657?hl=en for more info.\"'),\n",
       " ('Server', 'gws'),\n",
       " ('X-XSS-Protection', '1; mode=block'),\n",
       " ('X-Frame-Options', 'SAMEORIGIN'),\n",
       " ('Set-Cookie',\n",
       "  'NID=110=VmYVot8z9CgVDgG1fghqcDcBMnusyxuFAyB2tOVfo9rQl5zMFpffmLkk0fuzN_i1Oqu6qDLZ6XqCAzGWlCni1Vi6vKp3hHxeg-TYwTIew9-xbNBb4nk9abFwoUZWvzVF; expires=Wed, 21-Feb-2018 06:17:45 GMT; path=/; domain=.google.co.kr; HttpOnly'),\n",
       " ('Alt-Svc', 'quic=\":443\"; ma=2592000; v=\"39,38,37,35\"'),\n",
       " ('Accept-Ranges', 'none'),\n",
       " ('Vary', 'Accept-Encoding'),\n",
       " ('Connection', 'close')]"
      ]
     },
     "execution_count": 23,
     "metadata": {},
     "output_type": "execute_result"
    }
   ],
   "source": [
    "try:\n",
    "    urlopen('https://www.naver.com/')\n",
    "    \n",
    "except urllib.error.HTTPError as e:\n",
    "    print('status', e.code)\n",
    "    print('reason', e.reason)\n",
    "    print('url', e.url)\n",
    "    \n",
    "response.getheaders()"
   ]
  },
  {
   "cell_type": "code",
   "execution_count": 25,
   "metadata": {
    "collapsed": true
   },
   "outputs": [],
   "source": [
    "# FTP : FTTP 통신 하기전에 FTP 를 사용했다.\n",
    "# File의 통신방법 ? -> FTP, FTPS, SSH..등등\n",
    "# 외부 메일을 다른곳에서 메일을 주고받기 위해서 등록해야 하는것은 IMAP, SMTP.. 의 주소를 등록해주면 사용할수있다...?\n",
    "\n",
    "# TCP/IP의 STREAM 은 물결처럼 쭈루룩 데이터를 보냄. 뭔가를 하다가 끊기는 행위는 UDP 떄문이다.\n",
    "\n",
    "\n",
    "# STREAM socket : 안정적으로 데이터를 보낸다..?\n",
    "# DATAGRAM socket : 저 연결이 되지 않았어요 라고 얘기하지않기때문에, 연결되지 않을상태로 전송함..? ex) 데이터에 각각 고유의 값을 지정해줄수 있음. ex) 이름표 명찰? STREAM socket 는 없음.\n",
    "\n"
   ]
  },
  {
   "cell_type": "code",
   "execution_count": 26,
   "metadata": {
    "collapsed": true
   },
   "outputs": [],
   "source": [
    "# IP\n",
    "# IPv4, IPv6\n",
    "# IPv4 는 고갈됨.. \n",
    "\n",
    "# 32bit로 구성\n",
    "# 0.0.0.0~ 255.255.255.255\n",
    "# 2^32 = 43억..\n",
    "\n",
    "# ip 주소 한개를 받아서, 30개로 다른사람들에게 할당하는과정 : 서브넷마스크"
   ]
  },
  {
   "cell_type": "code",
   "execution_count": 27,
   "metadata": {
    "collapsed": true
   },
   "outputs": [],
   "source": [
    "# DNS : 나는 www.google.com 을 입력하고 넣었지만. 사실 ip 주소에 요청해서, 들어가는것.\n",
    "\n",
    "# local IP, 인터넷 IP \n",
    "# ping 은 패킷하나를 초단위로 보내는것..?"
   ]
  },
  {
   "cell_type": "code",
   "execution_count": 1,
   "metadata": {},
   "outputs": [],
   "source": [
    "# ping www.google.com 을 터미널에 써보면, google의 고유 인터넷 주소를 알수있음."
   ]
  },
  {
   "cell_type": "code",
   "execution_count": null,
   "metadata": {
    "collapsed": true
   },
   "outputs": [],
   "source": []
  },
  {
   "cell_type": "code",
   "execution_count": 29,
   "metadata": {
    "collapsed": true
   },
   "outputs": [],
   "source": [
    "# UDP 와 TCP 의 차이. 내가 패킷을 보고싶을때 \n",
    "# wireshark"
   ]
  },
  {
   "cell_type": "code",
   "execution_count": 30,
   "metadata": {
    "collapsed": true
   },
   "outputs": [],
   "source": [
    "# 인트라넷은 : 회사 내부에서만 사용하는것. 내부에서 사용할수 있는 이유는, 데이터가 밖으로 나가지는않음.\n",
    "\n",
    "# Internet : TCP/IP 를 이용함\n",
    "# internet : 패큿을 교환하는 방식으로 기기간 정보를 ㅈ고 받음\n",
    "\n"
   ]
  },
  {
   "cell_type": "code",
   "execution_count": 31,
   "metadata": {
    "collapsed": true
   },
   "outputs": [],
   "source": [
    "# 네트워크도 기본적으로 1:1 통신\n",
    "# Socket : 기계공학적으로 정의하면 원은 돌려서도 사용가능하지만, 오각형이나, 육각형은 돌릴수 없음.\n",
    "# 거의 모든 서버구조는 clinet 서버구조...?\n",
    "\n",
    "# STERAM : TCP/IP, DATAGRAM : UDP 이다..?"
   ]
  },
  {
   "cell_type": "code",
   "execution_count": null,
   "metadata": {
    "collapsed": true
   },
   "outputs": [],
   "source": []
  },
  {
   "cell_type": "code",
   "execution_count": null,
   "metadata": {
    "collapsed": true
   },
   "outputs": [],
   "source": [
    "# 소켓 서버..?"
   ]
  }
 ],
 "metadata": {
  "kernelspec": {
   "display_name": "Python 3",
   "language": "python",
   "name": "python3"
  },
  "language_info": {
   "codemirror_mode": {
    "name": "ipython",
    "version": 3
   },
   "file_extension": ".py",
   "mimetype": "text/x-python",
   "name": "python",
   "nbconvert_exporter": "python",
   "pygments_lexer": "ipython3",
   "version": "3.6.2"
  }
 },
 "nbformat": 4,
 "nbformat_minor": 2
}

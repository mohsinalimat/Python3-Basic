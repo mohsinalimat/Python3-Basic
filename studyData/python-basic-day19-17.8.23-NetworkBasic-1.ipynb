{
 "cells": [
  {
   "cell_type": "code",
   "execution_count": 2,
   "metadata": {
    "collapsed": true
   },
   "outputs": [],
   "source": [
    "import datetime"
   ]
  },
  {
   "cell_type": "code",
   "execution_count": 4,
   "metadata": {
    "collapsed": true
   },
   "outputs": [],
   "source": [
    "today = datetime.datetime.now()"
   ]
  },
  {
   "cell_type": "code",
   "execution_count": 5,
   "metadata": {},
   "outputs": [
    {
     "data": {
      "text/plain": [
       "datetime.datetime(2017, 8, 23, 13, 33, 12, 679433)"
      ]
     },
     "execution_count": 5,
     "metadata": {},
     "output_type": "execute_result"
    }
   ],
   "source": [
    "today"
   ]
  },
  {
   "cell_type": "code",
   "execution_count": 6,
   "metadata": {},
   "outputs": [
    {
     "data": {
      "text/plain": [
       "'datetime.datetime(2017, 8, 23, 13, 33, 12, 679433)'"
      ]
     },
     "execution_count": 6,
     "metadata": {},
     "output_type": "execute_result"
    }
   ],
   "source": [
    "repr(today)"
   ]
  },
  {
   "cell_type": "code",
   "execution_count": 7,
   "metadata": {},
   "outputs": [
    {
     "data": {
      "text/plain": [
       "'2017-08-23 13:33:12.679433'"
      ]
     },
     "execution_count": 7,
     "metadata": {},
     "output_type": "execute_result"
    }
   ],
   "source": [
    "str(today)"
   ]
  },
  {
   "cell_type": "code",
   "execution_count": 9,
   "metadata": {},
   "outputs": [
    {
     "ename": "TypeError",
     "evalue": "eval() arg 1 must be a string, bytes or code object",
     "output_type": "error",
     "traceback": [
      "\u001b[0;31m---------------------------------------------------------------------------\u001b[0m",
      "\u001b[0;31mTypeError\u001b[0m                                 Traceback (most recent call last)",
      "\u001b[0;32m<ipython-input-9-6da3a719ab95>\u001b[0m in \u001b[0;36m<module>\u001b[0;34m()\u001b[0m\n\u001b[0;32m----> 1\u001b[0;31m \u001b[0meval\u001b[0m\u001b[0;34m(\u001b[0m\u001b[0mtoday\u001b[0m\u001b[0;34m)\u001b[0m\u001b[0;34m\u001b[0m\u001b[0m\n\u001b[0m",
      "\u001b[0;31mTypeError\u001b[0m: eval() arg 1 must be a string, bytes or code object"
     ]
    }
   ],
   "source": [
    "eval(today)\n",
    "# "
   ]
  },
  {
   "cell_type": "code",
   "execution_count": 10,
   "metadata": {},
   "outputs": [
    {
     "data": {
      "text/plain": [
       "4411050264"
      ]
     },
     "execution_count": 10,
     "metadata": {},
     "output_type": "execute_result"
    }
   ],
   "source": [
    "id(eval(repr(today)))"
   ]
  },
  {
   "cell_type": "code",
   "execution_count": 11,
   "metadata": {},
   "outputs": [
    {
     "data": {
      "text/plain": [
       "4411048824"
      ]
     },
     "execution_count": 11,
     "metadata": {},
     "output_type": "execute_result"
    }
   ],
   "source": [
    "id(today)"
   ]
  },
  {
   "cell_type": "code",
   "execution_count": 12,
   "metadata": {},
   "outputs": [
    {
     "data": {
      "text/plain": [
       "4414385168"
      ]
     },
     "execution_count": 12,
     "metadata": {},
     "output_type": "execute_result"
    }
   ],
   "source": [
    "id(str(today))"
   ]
  },
  {
   "cell_type": "code",
   "execution_count": 19,
   "metadata": {},
   "outputs": [
    {
     "data": {
      "text/plain": [
       "False"
      ]
     },
     "execution_count": 19,
     "metadata": {},
     "output_type": "execute_result"
    }
   ],
   "source": [
    "today == str(repr(today))"
   ]
  },
  {
   "cell_type": "code",
   "execution_count": 18,
   "metadata": {},
   "outputs": [
    {
     "data": {
      "text/plain": [
       "'datetime.datetime(2017, 8, 23, 13, 33, 12, 679433)'"
      ]
     },
     "execution_count": 18,
     "metadata": {},
     "output_type": "execute_result"
    }
   ],
   "source": [
    "str(repr(today))"
   ]
  },
  {
   "cell_type": "code",
   "execution_count": 22,
   "metadata": {},
   "outputs": [
    {
     "data": {
      "text/plain": [
       "'datetime.datetime(2017, 8, 23, 13, 33, 12, 679433)'"
      ]
     },
     "execution_count": 22,
     "metadata": {},
     "output_type": "execute_result"
    }
   ],
   "source": [
    "repr(today)"
   ]
  },
  {
   "cell_type": "code",
   "execution_count": 23,
   "metadata": {},
   "outputs": [
    {
     "data": {
      "text/plain": [
       "'2017-08-23 13:33:12.679433'"
      ]
     },
     "execution_count": 23,
     "metadata": {},
     "output_type": "execute_result"
    }
   ],
   "source": [
    "str(today)"
   ]
  },
  {
   "cell_type": "code",
   "execution_count": null,
   "metadata": {
    "collapsed": true
   },
   "outputs": [],
   "source": []
  },
  {
   "cell_type": "code",
   "execution_count": null,
   "metadata": {
    "collapsed": true
   },
   "outputs": [],
   "source": [
    "# Socket.io로 자바스크립트와, HTML 조금만 알면 8줄로 트위터 긁어 오기 알수 있음.. node"
   ]
  },
  {
   "cell_type": "code",
   "execution_count": null,
   "metadata": {
    "collapsed": true
   },
   "outputs": [],
   "source": [
    "# 실시간 채팅 구현하는데, 자바스크립트 40줄...? \n",
    "# 외부에서 서버를 열어놓고 여러 사용자가 채팅할수 있는 환경을 만드수 있다..? 오 신기.."
   ]
  },
  {
   "cell_type": "code",
   "execution_count": 26,
   "metadata": {
    "collapsed": true
   },
   "outputs": [],
   "source": [
    "# 컴퓨터 위에 인터넷이 있다. \n",
    "# 11. 터미널 한개 켜서 -> 서버키고, 그 서버 에서 정보를 주면, server.py 에서 메세지가 옴..? -> 이거 매소드랑, 한번 확인해보자...\n",
    "# 오늘 한개 배운것은 내가 실행 하려고하는 파일이, 있는 디렉토리로 들어가서 실행해야함\n",
    "\n",
    "# 웹개발에서는 사용자가 요청한것을 잘 실어서 보내주는것...? \n",
    "\n",
    "\n",
    "# 언어, 데이터베이스, 서버, 운영체제 : 가춰지면서, 웹개발설계방법이 변화하기 시작함..\n",
    "# HTML 이 Javascript 를 품고 있을수 있게됨.. \n",
    "\n",
    "# 웹 개발과 자바스크립트를 사용하면서 해야한다..?\n",
    "# 자바스크립트, jQuery "
   ]
  },
  {
   "cell_type": "code",
   "execution_count": 27,
   "metadata": {
    "collapsed": true
   },
   "outputs": [],
   "source": [
    "# 클라이언트 개발위해서 필요한 -> HTML/CSS, javascript : 언어?\n",
    "#                       -> jQuery, AJAX : 도구?\n",
    "\n",
    "# 프레임 워크 : 잘쓰는것들을 모아모아모아서 잘쓰는것들을 모아놓은것들.. 이다..?\n",
    "# 파이썬으로 만들어진 : 장고 프레임 워크, 플라스크... 등등 \n"
   ]
  },
  {
   "cell_type": "code",
   "execution_count": 28,
   "metadata": {
    "collapsed": true
   },
   "outputs": [],
   "source": [
    "# dayabase - RDBMS : 테이블..? / noSQL : 딕셔너리같은..?\n"
   ]
  },
  {
   "cell_type": "code",
   "execution_count": 29,
   "metadata": {
    "collapsed": true
   },
   "outputs": [],
   "source": [
    "# 큐를 계속해서 쌓아두고, 하나하나 실행해야 하는..?\n",
    "\n",
    "# etc\n",
    "# celery : 1초에 결제 한건만 실행가능...?\n",
    "# travis Cl \n",
    "# slack, trello : 팀원과의 소통을 위해서...?"
   ]
  },
  {
   "cell_type": "code",
   "execution_count": 30,
   "metadata": {
    "collapsed": true
   },
   "outputs": [],
   "source": [
    "# URI : https(프로토콜)//:도메인/하위디렉토리구조/실제 파일이름 \n",
    "\n",
    "# URL : 맨 마지막에 파일이름을 포함하지 않음.(locator: 찾는...뭐 그렇게 이해해야할듯..?)\n",
    "\n",
    "# URN : URI의 프로토콜이 떨어지면, URN 이라고함."
   ]
  },
  {
   "cell_type": "code",
   "execution_count": null,
   "metadata": {
    "collapsed": true
   },
   "outputs": [],
   "source": []
  },
  {
   "cell_type": "code",
   "execution_count": 31,
   "metadata": {
    "collapsed": true
   },
   "outputs": [],
   "source": [
    "# API : application program interface \n",
    "# REST API : 예전 REST 는 HTML만 읽어올수 있었음. 그래서 어플리케이션에서는 값을 읽어올수 없는 문제가 생김. 그걸 해결하기 위해서 나온게 REST API 이다..?\n",
    "\n",
    "# 서로 다른 경계에 서있는 두프로그램간에 통신을 할수 있는 인터페이스다..라고 생각하면됨..? \n",
    "# '통신망 공학' 하게되면 지금 우리가 사용하는게 얼마나 편한지 알수 있다...?\n",
    "\n",
    "# 사용자와 웹서버 뒷단을 연결해주는게 웹 브라우져이다.. : 웹서버의 데이터를 전달할때 사용하는게 웹 API\n",
    "# REST API : HTTP의 상태를 URI로 표현하는것임.\n",
    "# REST API를 한마디로 정의하면.. 이런 의미가 될수 있겠다..? : 구글에대한 정보를 lookup에서 가져와라. \n",
    "\n",
    "\n",
    "# \n",
    "\n"
   ]
  },
  {
   "cell_type": "code",
   "execution_count": 1,
   "metadata": {
    "collapsed": true
   },
   "outputs": [],
   "source": [
    "# flask : 간단하게 사용할수 있는 백엔드 프레임 워크\n",
    "# 스크레핑, 크롤링, 파싱, \n",
    "# ex) www.naver.com/robot.txt 크롤링 속도가 \n"
   ]
  },
  {
   "cell_type": "code",
   "execution_count": null,
   "metadata": {
    "collapsed": true
   },
   "outputs": [],
   "source": []
  },
  {
   "cell_type": "code",
   "execution_count": 7,
   "metadata": {},
   "outputs": [
    {
     "ename": "SyntaxError",
     "evalue": "invalid syntax (<ipython-input-7-4a92ca39050a>, line 1)",
     "output_type": "error",
     "traceback": [
      "\u001b[0;36m  File \u001b[0;32m\"<ipython-input-7-4a92ca39050a>\"\u001b[0;36m, line \u001b[0;32m1\u001b[0m\n\u001b[0;31m    i*1 for i in range(1,10) i % 2 ==0:\u001b[0m\n\u001b[0m          ^\u001b[0m\n\u001b[0;31mSyntaxError\u001b[0m\u001b[0;31m:\u001b[0m invalid syntax\n"
     ]
    }
   ],
   "source": [
    "i*1 for i in range(1,10) i % 2 ==0:"
   ]
  },
  {
   "cell_type": "code",
   "execution_count": null,
   "metadata": {
    "collapsed": true
   },
   "outputs": [],
   "source": []
  }
 ],
 "metadata": {
  "kernelspec": {
   "display_name": "Python 3",
   "language": "python",
   "name": "python3"
  },
  "language_info": {
   "codemirror_mode": {
    "name": "ipython",
    "version": 3
   },
   "file_extension": ".py",
   "mimetype": "text/x-python",
   "name": "python",
   "nbconvert_exporter": "python",
   "pygments_lexer": "ipython3",
   "version": "3.6.2"
  }
 },
 "nbformat": 4,
 "nbformat_minor": 2
}

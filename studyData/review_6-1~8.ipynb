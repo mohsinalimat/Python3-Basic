{
 "cells": [
  {
   "cell_type": "code",
   "execution_count": 1,
   "metadata": {
    "collapsed": true
   },
   "outputs": [],
   "source": [
    "# clouser, decorater\n"
   ]
  },
  {
   "cell_type": "code",
   "execution_count": null,
   "metadata": {
    "collapsed": true
   },
   "outputs": [],
   "source": []
  },
  {
   "cell_type": "code",
   "execution_count": 2,
   "metadata": {
    "collapsed": true
   },
   "outputs": [],
   "source": [
    "li = [1,2,3,4,5,6,7,8,9,10]"
   ]
  },
  {
   "cell_type": "code",
   "execution_count": 29,
   "metadata": {
    "collapsed": true
   },
   "outputs": [],
   "source": [
    "result = map(lambda x, y: x + y, li, li)"
   ]
  },
  {
   "cell_type": "code",
   "execution_count": 30,
   "metadata": {},
   "outputs": [
    {
     "data": {
      "text/plain": [
       "<map at 0x1041515c0>"
      ]
     },
     "execution_count": 30,
     "metadata": {},
     "output_type": "execute_result"
    }
   ],
   "source": [
    "result"
   ]
  },
  {
   "cell_type": "code",
   "execution_count": 31,
   "metadata": {},
   "outputs": [
    {
     "name": "stdout",
     "output_type": "stream",
     "text": [
      "2\n",
      "4\n",
      "6\n",
      "8\n",
      "10\n",
      "12\n",
      "14\n",
      "16\n",
      "18\n",
      "20\n"
     ]
    }
   ],
   "source": [
    "for i in result:\n",
    "    print(i)"
   ]
  },
  {
   "cell_type": "code",
   "execution_count": 47,
   "metadata": {
    "collapsed": true
   },
   "outputs": [],
   "source": [
    "def func(x, y):\n",
    "    result = x+y\n",
    "    \n",
    "    return result"
   ]
  },
  {
   "cell_type": "code",
   "execution_count": 48,
   "metadata": {},
   "outputs": [
    {
     "data": {
      "text/plain": [
       "15"
      ]
     },
     "execution_count": 48,
     "metadata": {},
     "output_type": "execute_result"
    }
   ],
   "source": [
    "func(5, 10)"
   ]
  },
  {
   "cell_type": "code",
   "execution_count": 72,
   "metadata": {
    "collapsed": true
   },
   "outputs": [],
   "source": [
    "from functools import reduce\n",
    "\n",
    "li = [1, 2, 3, 4]\n",
    "res = reduce(lambda x, y: x.append(y) or x, li, [])"
   ]
  },
  {
   "cell_type": "code",
   "execution_count": 74,
   "metadata": {},
   "outputs": [
    {
     "data": {
      "text/plain": [
       "[1, 2, 3, 4]"
      ]
     },
     "execution_count": 74,
     "metadata": {},
     "output_type": "execute_result"
    }
   ],
   "source": [
    "res"
   ]
  },
  {
   "cell_type": "code",
   "execution_count": 80,
   "metadata": {
    "collapsed": true
   },
   "outputs": [],
   "source": [
    "from functools import reduce\n",
    "\n",
    "li = [1, 2, 3, 4]\n",
    "res = reduce(lambda x, y: x.append(y) or x, li,  [])"
   ]
  },
  {
   "cell_type": "code",
   "execution_count": 81,
   "metadata": {},
   "outputs": [
    {
     "data": {
      "text/plain": [
       "[1, 2, 3, 4]"
      ]
     },
     "execution_count": 81,
     "metadata": {},
     "output_type": "execute_result"
    }
   ],
   "source": [
    "res"
   ]
  },
  {
   "cell_type": "code",
   "execution_count": 82,
   "metadata": {
    "collapsed": true
   },
   "outputs": [],
   "source": [
    "li = ['a', 'b', 'c', 'a', 'b', 'a']\n",
    "# {'a' : 3, 'b' :2, 'c' : 1}\n",
    "# 위의 자료형을 아래의 딕셔너리 형테로 만들어라"
   ]
  },
  {
   "cell_type": "code",
   "execution_count": 100,
   "metadata": {},
   "outputs": [
    {
     "ename": "SyntaxError",
     "evalue": "invalid syntax (<ipython-input-100-9b8e8c7f33ce>, line 4)",
     "output_type": "error",
     "traceback": [
      "\u001b[0;36m  File \u001b[0;32m\"<ipython-input-100-9b8e8c7f33ce>\"\u001b[0;36m, line \u001b[0;32m4\u001b[0m\n\u001b[0;31m    res = reduce(lambda x, y: x.update({y : x.get((y,0) + 1) or r, li, {})\u001b[0m\n\u001b[0m                                                                     ^\u001b[0m\n\u001b[0;31mSyntaxError\u001b[0m\u001b[0;31m:\u001b[0m invalid syntax\n"
     ]
    }
   ],
   "source": [
    "from functools import reduce\n",
    "li = ['a', 'b', 'c', 'a', 'b', 'a']\n",
    "\n",
    "res = reduce(lambda x, y: x.update({y : x.get((y,0) + 1) or r, li, {})"
   ]
  },
  {
   "cell_type": "code",
   "execution_count": 93,
   "metadata": {},
   "outputs": [
    {
     "data": {
      "text/plain": [
       "['a', 'b', 'c', 'a', 'b', 'a']"
      ]
     },
     "execution_count": 93,
     "metadata": {},
     "output_type": "execute_result"
    }
   ],
   "source": [
    "res"
   ]
  },
  {
   "cell_type": "code",
   "execution_count": null,
   "metadata": {
    "collapsed": true
   },
   "outputs": [],
   "source": []
  },
  {
   "cell_type": "code",
   "execution_count": null,
   "metadata": {
    "collapsed": true
   },
   "outputs": [],
   "source": []
  },
  {
   "cell_type": "code",
   "execution_count": 102,
   "metadata": {
    "collapsed": true
   },
   "outputs": [],
   "source": [
    "# decorator : 내가 만들어 놓은 함수에다가, 다른사람이 만들어놓은 함수의 기능을 가져다가 사용할수 있다.\n",
    "# 같은 이름의 함수가 정의되어 있으면, 맨 마지막에 정의한 함수가 첫번째 정의한 함수를 덮어 씌운다.\n",
    "\n"
   ]
  },
  {
   "cell_type": "code",
   "execution_count": 104,
   "metadata": {},
   "outputs": [
    {
     "data": {
      "text/plain": [
       "8"
      ]
     },
     "execution_count": 104,
     "metadata": {},
     "output_type": "execute_result"
    }
   ],
   "source": [
    "# 함수인데 내부정보를 가지고 있다. closure\n",
    "def outer(func):\n",
    "    def inner(*args, **kwargs):\n",
    "        print(\"Things\")\n",
    "        return func(*args, **kwargs)\n",
    "    return inner\n",
    "\n",
    "def adder(a, b):\n",
    "    return a+b\n",
    "\n",
    "\n",
    "\n",
    "c = adder(5, 3)\n",
    "c"
   ]
  },
  {
   "cell_type": "code",
   "execution_count": 105,
   "metadata": {},
   "outputs": [
    {
     "name": "stdout",
     "output_type": "stream",
     "text": [
      "Things\n"
     ]
    },
    {
     "data": {
      "text/plain": [
       "8"
      ]
     },
     "execution_count": 105,
     "metadata": {},
     "output_type": "execute_result"
    }
   ],
   "source": [
    "# 함수인데 내부정보를 가지고 있다. closure\n",
    "def outer(func):\n",
    "    def inner(*args, **kwargs):\n",
    "        print(\"Things\")\n",
    "        return func(*args, **kwargs)\n",
    "    return inner\n",
    "\n",
    "def adder(a, b):\n",
    "    return a+b\n",
    "\n",
    "\n",
    "\n",
    "adder = outer(adder)\n",
    "# adder가 이미 있는데, outer 라는 func에 adder을 넣음\n",
    "\n",
    "# inner 가 실행이 되어야 하는데. things가 실행이되버림..\n",
    "\n",
    "c = adder(5, 3)\n",
    "# adder라는 함수에 outer을 합침. 그래서 아웃값은 8, 내장값은 things가됨.\n",
    "c"
   ]
  },
  {
   "cell_type": "code",
   "execution_count": 107,
   "metadata": {},
   "outputs": [
    {
     "name": "stdout",
     "output_type": "stream",
     "text": [
      "Things\n"
     ]
    },
    {
     "data": {
      "text/plain": [
       "8"
      ]
     },
     "execution_count": 107,
     "metadata": {},
     "output_type": "execute_result"
    }
   ],
   "source": [
    "# 함수인데 내부정보를 가지고 있다. closure\n",
    "def outer(func):\n",
    "    def inner(*args, **kwargs):\n",
    "        print(\"Things\")\n",
    "        return func(*args, **kwargs)\n",
    "    return inner\n",
    "\n",
    "\n",
    "@outer # outer() 함수에 adder를 추가시킴..이 아니라. adder()에, adder() 기능을 추가시킴.\n",
    "def adder(a, b):\n",
    "    return a+b\n",
    "\n",
    "# 여기까지는 문법적인내용, outer은 closure이다. outer()값의 내부정보를 가지고 있음. 그리고 adder함수의 값을 반환하고. outer의 내부정보를 가지고 있다.\n",
    "\n",
    "\n",
    "\n",
    "\n",
    "# adder = outer(adder)  ~~~~~~~~~ 이 문장을 사용하지 않고, @outer을 사용하면, 저 문장이랑 똑같은 기능을 하는 decorator이 완성된다 \n",
    "\n",
    "\n",
    "c = adder(5, 3)\n",
    "\n",
    "c"
   ]
  },
  {
   "cell_type": "code",
   "execution_count": null,
   "metadata": {
    "collapsed": true
   },
   "outputs": [],
   "source": []
  },
  {
   "cell_type": "code",
   "execution_count": null,
   "metadata": {
    "collapsed": true
   },
   "outputs": [],
   "source": []
  },
  {
   "cell_type": "code",
   "execution_count": 110,
   "metadata": {},
   "outputs": [
    {
     "name": "stdout",
     "output_type": "stream",
     "text": [
      "Call number : 1\n",
      "5\n",
      "Call number : 2\n",
      "7\n",
      "Call number : 3\n",
      "9\n",
      "Call number : 4\n",
      "11\n",
      "Call number : 5\n",
      "13\n",
      "Call number : 6\n",
      "15\n",
      "Call number : 7\n",
      "17\n",
      "Call number : 8\n",
      "19\n",
      "Call number : 9\n",
      "21\n",
      "Call number : 10\n",
      "23\n"
     ]
    }
   ],
   "source": [
    "#추가 하고싶은 기능 : 함수의 콜 호출 횟수 -> 이 기능을 데코레이터로 만들어서 추가하겠다.\n",
    "\n",
    "def call_count(func): # 함수 받을꺼임\n",
    "    cnt = 0 # count 라는 내부정보를 가지고 있음. 위의 func를 한번 호출하면 내부 정보를 올려야함\n",
    "    def inner(*args, **kwargs):\n",
    "        nonlocal cnt\n",
    "        cnt += 1\n",
    "        print(\"Call number : {}\".format(cnt))\n",
    "        return func(*args, **kwargs)\n",
    "    return inner\n",
    "# 이렇게 하면 문법은 완성됨\n",
    "        \n",
    "\n",
    "@call_count\n",
    "def adder(a, b):\n",
    "    return a + b\n",
    "\n",
    "\n",
    "for i in range(1, 11):\n",
    "    a = i + 1\n",
    "    b = i + 2\n",
    "    print(adder(a,b))\n",
    "\n",
    "    \n",
    "# decorator 가 중첩이됨.. 추가하고 싶은 기능들을 모두 넣어서 사용할수 있음."
   ]
  },
  {
   "cell_type": "code",
   "execution_count": null,
   "metadata": {
    "collapsed": true
   },
   "outputs": [],
   "source": []
  },
  {
   "cell_type": "code",
   "execution_count": null,
   "metadata": {
    "collapsed": true
   },
   "outputs": [],
   "source": []
  },
  {
   "cell_type": "code",
   "execution_count": 182,
   "metadata": {},
   "outputs": [
    {
     "name": "stdout",
     "output_type": "stream",
     "text": [
      "date in inner\n"
     ]
    }
   ],
   "source": [
    "def outer(func):\n",
    "    def inner(*args, **kwargs):\n",
    "        print(\"date in inner\")\n",
    "        return func(*args, **kwargs)\n",
    "    return inner\n",
    "\n",
    "\n",
    "@outer\n",
    "def deco(func):\n",
    "    def deco_inner(*args, **kwargs):\n",
    "        print(\"data in deco\")\n",
    "        return func(*args, **kwargs)\n",
    "    return deco_inner\n",
    "\n",
    "\n",
    "\n",
    "\n",
    "@deco\n",
    "def deco1(x, y):\n",
    "    return x + y\n",
    "\n",
    "## 이게 데코레이터이구나.. outer고\n",
    "\n"
   ]
  },
  {
   "cell_type": "code",
   "execution_count": 183,
   "metadata": {},
   "outputs": [
    {
     "name": "stdout",
     "output_type": "stream",
     "text": [
      "data in deco\n"
     ]
    },
    {
     "data": {
      "text/plain": [
       "12"
      ]
     },
     "execution_count": 183,
     "metadata": {},
     "output_type": "execute_result"
    }
   ],
   "source": [
    "deco1(10, 2)"
   ]
  },
  {
   "cell_type": "code",
   "execution_count": 181,
   "metadata": {},
   "outputs": [
    {
     "name": "stdout",
     "output_type": "stream",
     "text": [
      "data in deco\n"
     ]
    },
    {
     "data": {
      "text/plain": [
       "12"
      ]
     },
     "execution_count": 181,
     "metadata": {},
     "output_type": "execute_result"
    }
   ],
   "source": [
    "deco1(10, 2)"
   ]
  },
  {
   "cell_type": "code",
   "execution_count": null,
   "metadata": {
    "collapsed": true
   },
   "outputs": [],
   "source": []
  },
  {
   "cell_type": "code",
   "execution_count": null,
   "metadata": {
    "collapsed": true
   },
   "outputs": [],
   "source": [
    "############# 7강 복습 하는곳."
   ]
  },
  {
   "cell_type": "code",
   "execution_count": 1,
   "metadata": {
    "collapsed": true
   },
   "outputs": [],
   "source": []
  },
  {
   "cell_type": "code",
   "execution_count": 9,
   "metadata": {},
   "outputs": [
    {
     "data": {
      "text/plain": [
       "55"
      ]
     },
     "execution_count": 9,
     "metadata": {},
     "output_type": "execute_result"
    }
   ],
   "source": [
    "from functools import reduce\n",
    "li = [1,2,3,4,5,6,7,8,9,10]\n",
    "\n",
    "res = reduce(lambda a,b : a+b, li)\n",
    "\n",
    "res"
   ]
  },
  {
   "cell_type": "code",
   "execution_count": 3,
   "metadata": {},
   "outputs": [
    {
     "data": {
      "text/plain": [
       "55"
      ]
     },
     "execution_count": 3,
     "metadata": {},
     "output_type": "execute_result"
    }
   ],
   "source": [
    "res"
   ]
  },
  {
   "cell_type": "code",
   "execution_count": null,
   "metadata": {
    "collapsed": true
   },
   "outputs": [],
   "source": []
  },
  {
   "cell_type": "code",
   "execution_count": null,
   "metadata": {
    "collapsed": true
   },
   "outputs": [],
   "source": []
  },
  {
   "cell_type": "code",
   "execution_count": 36,
   "metadata": {
    "collapsed": true
   },
   "outputs": [],
   "source": [
    "\n",
    "\n",
    "def acc(name, m):\n",
    "\n",
    "    \n",
    "    def add(money):\n",
    "        nonlocal m\n",
    "        m += money\n",
    "        return name, m\n",
    "    return add"
   ]
  },
  {
   "cell_type": "code",
   "execution_count": 37,
   "metadata": {
    "collapsed": true
   },
   "outputs": [],
   "source": [
    "my = acc(\"민준\", 500)"
   ]
  },
  {
   "cell_type": "code",
   "execution_count": 38,
   "metadata": {
    "collapsed": true
   },
   "outputs": [],
   "source": [
    "you = acc(\"현숙\", 1000)"
   ]
  },
  {
   "cell_type": "code",
   "execution_count": 39,
   "metadata": {},
   "outputs": [
    {
     "data": {
      "text/plain": [
       "('민준', 1000)"
      ]
     },
     "execution_count": 39,
     "metadata": {},
     "output_type": "execute_result"
    }
   ],
   "source": [
    "my(500)"
   ]
  },
  {
   "cell_type": "code",
   "execution_count": 42,
   "metadata": {},
   "outputs": [
    {
     "data": {
      "text/plain": [
       "('현숙', 16000)"
      ]
     },
     "execution_count": 42,
     "metadata": {},
     "output_type": "execute_result"
    }
   ],
   "source": [
    "you(5000)\n",
    "\n",
    "\n",
    "# closure는. 함수 내부에 정보를 가지고 있고, 아웃풋으로 함수의 값을 반환함."
   ]
  },
  {
   "cell_type": "code",
   "execution_count": null,
   "metadata": {
    "collapsed": true
   },
   "outputs": [],
   "source": []
  },
  {
   "cell_type": "code",
   "execution_count": 44,
   "metadata": {
    "collapsed": true
   },
   "outputs": [],
   "source": [
    "########################### 7 강 리얼시작\n",
    "\n",
    "# **stack frame\n",
    "\n",
    "# call by value \n",
    "# call by refrence\n",
    "#   -> call by assiment\n"
   ]
  },
  {
   "cell_type": "code",
   "execution_count": null,
   "metadata": {
    "collapsed": true
   },
   "outputs": [],
   "source": [
    "# 함수를 실행하는 순간 메인이 실행이됨..(이부분 정확히 무엇을 뜻하는걸까..? 한번 고민해보자)\n"
   ]
  },
  {
   "cell_type": "code",
   "execution_count": 13,
   "metadata": {},
   "outputs": [
    {
     "name": "stdout",
     "output_type": "stream",
     "text": [
      "40 50\n",
      "30\n"
     ]
    }
   ],
   "source": [
    "def func(a, b):\n",
    "    print(a, b)\n",
    "    a = 10\n",
    "    b = 20 \n",
    "    return a + b \n",
    "\n",
    "x = func(40, 50)\n",
    "print(x)"
   ]
  },
  {
   "cell_type": "code",
   "execution_count": 9,
   "metadata": {
    "collapsed": true
   },
   "outputs": [],
   "source": []
  },
  {
   "cell_type": "code",
   "execution_count": 10,
   "metadata": {},
   "outputs": [
    {
     "data": {
      "text/plain": [
       "30"
      ]
     },
     "execution_count": 10,
     "metadata": {},
     "output_type": "execute_result"
    }
   ],
   "source": [
    "x"
   ]
  },
  {
   "cell_type": "code",
   "execution_count": 7,
   "metadata": {},
   "outputs": [
    {
     "data": {
      "text/plain": [
       "<method-wrapper '__index__' of int object at 0x1012040b0>"
      ]
     },
     "execution_count": 7,
     "metadata": {},
     "output_type": "execute_result"
    }
   ],
   "source": [
    "x.__index__"
   ]
  },
  {
   "cell_type": "code",
   "execution_count": 21,
   "metadata": {},
   "outputs": [
    {
     "name": "stdout",
     "output_type": "stream",
     "text": [
      "<function func at 0x103205158>\n"
     ]
    }
   ],
   "source": [
    "def func(a = 1, b = 2):\n",
    "    print(a, b)\n",
    "    return a + b\n",
    "\n",
    "print(func)\n"
   ]
  },
  {
   "cell_type": "code",
   "execution_count": 24,
   "metadata": {},
   "outputs": [
    {
     "data": {
      "text/plain": [
       "['__annotations__',\n",
       " '__call__',\n",
       " '__class__',\n",
       " '__closure__',\n",
       " '__code__',\n",
       " '__defaults__',\n",
       " '__delattr__',\n",
       " '__dict__',\n",
       " '__dir__',\n",
       " '__doc__',\n",
       " '__eq__',\n",
       " '__format__',\n",
       " '__ge__',\n",
       " '__get__',\n",
       " '__getattribute__',\n",
       " '__globals__',\n",
       " '__gt__',\n",
       " '__hash__',\n",
       " '__init__',\n",
       " '__init_subclass__',\n",
       " '__kwdefaults__',\n",
       " '__le__',\n",
       " '__lt__',\n",
       " '__module__',\n",
       " '__name__',\n",
       " '__ne__',\n",
       " '__new__',\n",
       " '__qualname__',\n",
       " '__reduce__',\n",
       " '__reduce_ex__',\n",
       " '__repr__',\n",
       " '__setattr__',\n",
       " '__sizeof__',\n",
       " '__str__',\n",
       " '__subclasshook__']"
      ]
     },
     "execution_count": 24,
     "metadata": {},
     "output_type": "execute_result"
    }
   ],
   "source": [
    "dir(func)\n",
    "#func.__code__"
   ]
  },
  {
   "cell_type": "code",
   "execution_count": 30,
   "metadata": {
    "collapsed": true
   },
   "outputs": [],
   "source": [
    "x = func.__closure__"
   ]
  },
  {
   "cell_type": "code",
   "execution_count": 33,
   "metadata": {},
   "outputs": [
    {
     "ename": "TypeError",
     "evalue": "'NoneType' object is not callable",
     "output_type": "error",
     "traceback": [
      "\u001b[0;31m---------------------------------------------------------------------------\u001b[0m",
      "\u001b[0;31mTypeError\u001b[0m                                 Traceback (most recent call last)",
      "\u001b[0;32m<ipython-input-33-c7cdd3d0a463>\u001b[0m in \u001b[0;36m<module>\u001b[0;34m()\u001b[0m\n\u001b[0;32m----> 1\u001b[0;31m \u001b[0mx\u001b[0m\u001b[0;34m(\u001b[0m\u001b[0;36m0\u001b[0m\u001b[0;34m)\u001b[0m\u001b[0;34m\u001b[0m\u001b[0m\n\u001b[0m",
      "\u001b[0;31mTypeError\u001b[0m: 'NoneType' object is not callable"
     ]
    }
   ],
   "source": [
    "x(0)"
   ]
  },
  {
   "cell_type": "code",
   "execution_count": null,
   "metadata": {
    "collapsed": true
   },
   "outputs": [],
   "source": []
  },
  {
   "cell_type": "code",
   "execution_count": 45,
   "metadata": {},
   "outputs": [
    {
     "name": "stdout",
     "output_type": "stream",
     "text": [
      "10\n",
      "20\n",
      "10\n"
     ]
    }
   ],
   "source": [
    "# call by value 스텍프레임에 쌓이는 구조 생각하자. 함수 블럭 걸리는것등등..\n",
    "\n",
    "def change_value(x, value):\n",
    "    print(x)\n",
    "    x = value\n",
    "    print(x) \n",
    "\n",
    "    \n",
    "x = 10\n",
    "change_value(x, 20)\n",
    "print(x)\n",
    "\n"
   ]
  },
  {
   "cell_type": "code",
   "execution_count": null,
   "metadata": {
    "collapsed": true
   },
   "outputs": [],
   "source": []
  },
  {
   "cell_type": "code",
   "execution_count": 47,
   "metadata": {},
   "outputs": [
    {
     "name": "stdout",
     "output_type": "stream",
     "text": [
      "[1, 2, 3, 4]\n",
      "['aaa', 2, 3, 4]\n",
      "['aaa', 2, 3, 4]\n"
     ]
    }
   ],
   "source": [
    "# python --> call by value\n",
    "\n",
    "def change_value(li, idx, value):\n",
    "    print(li)\n",
    "    li[idx] = value # 함수내에서 index으로 접근하니까. 아래의 전역 변수인 li 가 함수 내부에서도 변경이됨.\n",
    "    print(li)\n",
    "\n",
    "li = [1,2,3,4]\n",
    "change_value(li, 0, \"aaa\")\n",
    "print(li) # li의 값이 변경한경우.\n",
    "\n"
   ]
  },
  {
   "cell_type": "code",
   "execution_count": 56,
   "metadata": {},
   "outputs": [
    {
     "name": "stdout",
     "output_type": "stream",
     "text": [
      "['ccc', 2, 3, 4]\n",
      "[1, 2, 3, 4]\n"
     ]
    }
   ],
   "source": [
    "# mutable은 다 변경이 되는 거구나 라고 생각하고 실행\n",
    "\n",
    "\n",
    "\n",
    "def change_value(li):\n",
    "    li = [\"bbb\", 2,3,4] # 함수 내에서 새로운 메모리를 할당 하느냐, 안하느냐의 차이이다.\n",
    "    # 함수내에서 새로운 메모리를 할당해서 li를 새로 만들어 주었음. 그래서 함수 내부에서는 변경이 되었음.\n",
    "    li[0] = \"ccc\" # 이렇게하니까, 함수내에서 변경된 li의 값만 바꾸어주고, 애초에 리스트의 값은 그대로됨.\n",
    "    print(li)\n",
    "\n",
    "li = [1,2,3,4]\n",
    "change_value(li)\n",
    "print(li)\n",
    "\n",
    "\n",
    "\n"
   ]
  },
  {
   "cell_type": "code",
   "execution_count": 57,
   "metadata": {},
   "outputs": [
    {
     "data": {
      "text/plain": [
       "[1, 2, 3, 4]"
      ]
     },
     "execution_count": 57,
     "metadata": {},
     "output_type": "execute_result"
    }
   ],
   "source": [
    "li"
   ]
  },
  {
   "cell_type": "code",
   "execution_count": null,
   "metadata": {
    "collapsed": true
   },
   "outputs": [],
   "source": []
  },
  {
   "cell_type": "code",
   "execution_count": null,
   "metadata": {
    "collapsed": true
   },
   "outputs": [],
   "source": []
  },
  {
   "cell_type": "code",
   "execution_count": null,
   "metadata": {
    "collapsed": true
   },
   "outputs": [],
   "source": [
    "\n"
   ]
  },
  {
   "cell_type": "code",
   "execution_count": 78,
   "metadata": {
    "collapsed": true
   },
   "outputs": [],
   "source": [
    "# call by object reference\n",
    "# call by assignment\n",
    "\n",
    "# 리스트는 변수가 변할때 일단 참조로간다..?\n",
    "# mutuable 일떄와 immutable일때 서로 다르다.\n",
    "# mutuable 일때 라고 모두 변경이 되는 이야기가 아니다. 메모리공간을 새롭게 할당하는경우나, 리스트에 직접 접근해서 변경 하는 방법이기때문에 다르다."
   ]
  },
  {
   "cell_type": "code",
   "execution_count": null,
   "metadata": {
    "collapsed": true
   },
   "outputs": [],
   "source": []
  },
  {
   "cell_type": "code",
   "execution_count": 93,
   "metadata": {},
   "outputs": [
    {
     "name": "stdout",
     "output_type": "stream",
     "text": [
      "a,b,c,d\n",
      "zzzzzz\n"
     ]
    }
   ],
   "source": [
    "# 문자열은 변경이 불가하다.\n",
    "\n",
    "def func(s):\n",
    "    #print(s)\n",
    "    s = \"a,b,c,d\"\n",
    "    print(s)\n",
    "    # 함수안에서 새로운 문자열을 만들었음. 그렇다고 아래에있는 s=\"zzzz\"의 문자열이 변경되는것은 아님.\n",
    "    # 이뮤터블이라서 무조건 변경이 안되는건 아님. 함수 안에서는 새로운 메모리 공간을 할당해서 s의 스트링이 새롭게 정의 되엇음. 그러나 아래에 있는 s의 값은 그대로이다.\n",
    "\n",
    "s = \"zzzzzz\"\n",
    "\n",
    "func(s)\n",
    "print(s)"
   ]
  },
  {
   "cell_type": "code",
   "execution_count": null,
   "metadata": {
    "collapsed": true
   },
   "outputs": [],
   "source": []
  },
  {
   "cell_type": "code",
   "execution_count": null,
   "metadata": {
    "collapsed": true
   },
   "outputs": [],
   "source": []
  },
  {
   "cell_type": "code",
   "execution_count": 98,
   "metadata": {
    "collapsed": true
   },
   "outputs": [],
   "source": [
    "# 이 아래에는 numbers -> 10 진수, 2진수, 16진수\n",
    "# 16진수 한자리가 2진수 4자리가이다!! 이거 몰랏던 건데, 확실하게 짚고 넘어가자."
   ]
  },
  {
   "cell_type": "code",
   "execution_count": 99,
   "metadata": {},
   "outputs": [
    {
     "data": {
      "text/plain": [
       "'0x10'"
      ]
     },
     "execution_count": 99,
     "metadata": {},
     "output_type": "execute_result"
    }
   ],
   "source": [
    "hex(16)"
   ]
  },
  {
   "cell_type": "code",
   "execution_count": 100,
   "metadata": {},
   "outputs": [
    {
     "data": {
      "text/plain": [
       "'0b10000'"
      ]
     },
     "execution_count": 100,
     "metadata": {},
     "output_type": "execute_result"
    }
   ],
   "source": [
    "bin(16)"
   ]
  },
  {
   "cell_type": "code",
   "execution_count": 101,
   "metadata": {
    "collapsed": true
   },
   "outputs": [],
   "source": [
    "# 컴퓨터 공학 입문 스쿨 2_3_4 20분. 컴퓨터 32 / 64 bit를 나누는 순서 \n",
    "\n",
    "# CPU와 메모리가 데이터 통신을 하는데, 한번에 보낼수 있는 데이터의 양을 기준으로 32 bit, 64bit 컴퓨터로 나옴.. \n",
    "# 와이어 하나 하나가 한개의 데이터를 보낼수 있다.\n",
    "\n"
   ]
  },
  {
   "cell_type": "code",
   "execution_count": null,
   "metadata": {
    "collapsed": true
   },
   "outputs": [],
   "source": []
  },
  {
   "cell_type": "code",
   "execution_count": 102,
   "metadata": {
    "collapsed": true
   },
   "outputs": [],
   "source": [
    "# 컴퓨터에 메모리 용량은, 한번에 옮길수 있는 데이터의 양을 표시해놓은것임.\n",
    "# 메모리는 주소를 가지고 있다. 그 메모리 값은 1byte다.(32bit 기준)\n",
    "# 32bit가 최대로 옮길수 있는 메모리 값은 4G 이다."
   ]
  },
  {
   "cell_type": "code",
   "execution_count": null,
   "metadata": {
    "collapsed": true
   },
   "outputs": [],
   "source": []
  },
  {
   "cell_type": "code",
   "execution_count": null,
   "metadata": {
    "collapsed": true
   },
   "outputs": [],
   "source": []
  },
  {
   "cell_type": "code",
   "execution_count": 103,
   "metadata": {
    "collapsed": true
   },
   "outputs": [],
   "source": [
    "# 10 진수, 2진수, 16 진수를 보기 위한 방법은\n"
   ]
  },
  {
   "cell_type": "code",
   "execution_count": 107,
   "metadata": {
    "collapsed": true
   },
   "outputs": [],
   "source": [
    "a = 250\n",
    "b = 0xfa # 16진수로 250이다\n"
   ]
  },
  {
   "cell_type": "code",
   "execution_count": 108,
   "metadata": {},
   "outputs": [
    {
     "data": {
      "text/plain": [
       "250"
      ]
     },
     "execution_count": 108,
     "metadata": {},
     "output_type": "execute_result"
    }
   ],
   "source": [
    "b\n"
   ]
  },
  {
   "cell_type": "code",
   "execution_count": 111,
   "metadata": {
    "collapsed": true
   },
   "outputs": [],
   "source": [
    "c = 0b11111010 # 2진수로 10진수 값을 표현"
   ]
  },
  {
   "cell_type": "code",
   "execution_count": 112,
   "metadata": {},
   "outputs": [
    {
     "data": {
      "text/plain": [
       "250"
      ]
     },
     "execution_count": 112,
     "metadata": {},
     "output_type": "execute_result"
    }
   ],
   "source": [
    "c"
   ]
  },
  {
   "cell_type": "code",
   "execution_count": 115,
   "metadata": {},
   "outputs": [
    {
     "data": {
      "text/plain": [
       "'0b11111010'"
      ]
     },
     "execution_count": 115,
     "metadata": {},
     "output_type": "execute_result"
    }
   ],
   "source": [
    "bin(250)\n",
    "# 계산기를 켜기 귀찮을때, 2진수의 수를 확인할수 있는 코드"
   ]
  },
  {
   "cell_type": "code",
   "execution_count": 116,
   "metadata": {},
   "outputs": [
    {
     "data": {
      "text/plain": [
       "'0xfa'"
      ]
     },
     "execution_count": 116,
     "metadata": {},
     "output_type": "execute_result"
    }
   ],
   "source": [
    "hex(250)\n",
    "# 계산기를 켜기 귀찮을때 10진수의 수를 16진수로 표현해주는 명령어"
   ]
  },
  {
   "cell_type": "code",
   "execution_count": 120,
   "metadata": {},
   "outputs": [
    {
     "data": {
      "text/plain": [
       "'0x101205c30'"
      ]
     },
     "execution_count": 120,
     "metadata": {},
     "output_type": "execute_result"
    }
   ],
   "source": [
    "hex(id(a))\n",
    "# 16진수로 표현된 id(a)의 메모리 주소\n",
    "# 메모리의 주소값\n"
   ]
  },
  {
   "cell_type": "code",
   "execution_count": 121,
   "metadata": {},
   "outputs": [
    {
     "data": {
      "text/plain": [
       "4313865264"
      ]
     },
     "execution_count": 121,
     "metadata": {},
     "output_type": "execute_result"
    }
   ],
   "source": [
    "id(a) # 메모리의 주소는 8개의 16진수 주소로 나타낼수 있다."
   ]
  },
  {
   "cell_type": "code",
   "execution_count": null,
   "metadata": {
    "collapsed": true
   },
   "outputs": [],
   "source": []
  },
  {
   "cell_type": "code",
   "execution_count": null,
   "metadata": {
    "collapsed": true
   },
   "outputs": [],
   "source": []
  },
  {
   "cell_type": "code",
   "execution_count": 124,
   "metadata": {
    "collapsed": true
   },
   "outputs": [],
   "source": [
    "############### 8강 복습 "
   ]
  },
  {
   "cell_type": "code",
   "execution_count": 125,
   "metadata": {
    "collapsed": true
   },
   "outputs": [],
   "source": [
    "a = 1024\n",
    "b = 1024"
   ]
  },
  {
   "cell_type": "code",
   "execution_count": 126,
   "metadata": {},
   "outputs": [
    {
     "data": {
      "text/plain": [
       "True"
      ]
     },
     "execution_count": 126,
     "metadata": {},
     "output_type": "execute_result"
    }
   ],
   "source": [
    "a == b"
   ]
  },
  {
   "cell_type": "code",
   "execution_count": 127,
   "metadata": {},
   "outputs": [
    {
     "data": {
      "text/plain": [
       "False"
      ]
     },
     "execution_count": 127,
     "metadata": {},
     "output_type": "execute_result"
    }
   ],
   "source": [
    "a is b"
   ]
  },
  {
   "cell_type": "code",
   "execution_count": 130,
   "metadata": {},
   "outputs": [
    {
     "data": {
      "text/plain": [
       "4347709968"
      ]
     },
     "execution_count": 130,
     "metadata": {},
     "output_type": "execute_result"
    }
   ],
   "source": [
    "id(a)\n",
    "# 두개가 저장된 메모리 주소가 다름"
   ]
  },
  {
   "cell_type": "code",
   "execution_count": 131,
   "metadata": {},
   "outputs": [
    {
     "data": {
      "text/plain": [
       "4347711184"
      ]
     },
     "execution_count": 131,
     "metadata": {},
     "output_type": "execute_result"
    }
   ],
   "source": [
    "id(b)\n",
    "# 이렇개 확인 해볼수 있음."
   ]
  },
  {
   "cell_type": "code",
   "execution_count": null,
   "metadata": {
    "collapsed": true
   },
   "outputs": [],
   "source": []
  },
  {
   "cell_type": "code",
   "execution_count": null,
   "metadata": {
    "collapsed": true
   },
   "outputs": [],
   "source": [
    "\n"
   ]
  },
  {
   "cell_type": "code",
   "execution_count": 141,
   "metadata": {},
   "outputs": [
    {
     "name": "stdout",
     "output_type": "stream",
     "text": [
      "4313857584\n",
      "4313857584\n",
      "4313857904\n",
      "20\n",
      "4313857584\n"
     ]
    }
   ],
   "source": [
    "# 메모리의 저장공간으로 출력되는 값을 확인 할수 있음..! 오호..?\n",
    "\n",
    "def change_value(x, value):\n",
    "    print(id(x))\n",
    "    x = value\n",
    "    print(id(x))\n",
    "    print(x) \n",
    "\n",
    "    \n",
    "x = 10\n",
    "print(id(x))\n",
    "change_value(x, 20)\n",
    "print(id(x))\n",
    "\n",
    "\n"
   ]
  },
  {
   "cell_type": "code",
   "execution_count": 142,
   "metadata": {
    "collapsed": true
   },
   "outputs": [],
   "source": [
    "a = 1\n",
    "b = 1"
   ]
  },
  {
   "cell_type": "code",
   "execution_count": 143,
   "metadata": {},
   "outputs": [
    {
     "data": {
      "text/plain": [
       "True"
      ]
     },
     "execution_count": 143,
     "metadata": {},
     "output_type": "execute_result"
    }
   ],
   "source": [
    "a == b\n"
   ]
  },
  {
   "cell_type": "code",
   "execution_count": 144,
   "metadata": {},
   "outputs": [
    {
     "data": {
      "text/plain": [
       "True"
      ]
     },
     "execution_count": 144,
     "metadata": {},
     "output_type": "execute_result"
    }
   ],
   "source": [
    "a is b"
   ]
  },
  {
   "cell_type": "code",
   "execution_count": 147,
   "metadata": {},
   "outputs": [
    {
     "data": {
      "text/plain": [
       "'0x101203d10'"
      ]
     },
     "execution_count": 147,
     "metadata": {},
     "output_type": "execute_result"
    }
   ],
   "source": [
    "hex(id(a))"
   ]
  },
  {
   "cell_type": "code",
   "execution_count": 148,
   "metadata": {},
   "outputs": [
    {
     "data": {
      "text/plain": [
       "'0x101203d10'"
      ]
     },
     "execution_count": 148,
     "metadata": {},
     "output_type": "execute_result"
    }
   ],
   "source": [
    "hex(id(b))"
   ]
  },
  {
   "cell_type": "code",
   "execution_count": null,
   "metadata": {
    "collapsed": true
   },
   "outputs": [],
   "source": []
  },
  {
   "cell_type": "code",
   "execution_count": null,
   "metadata": {
    "collapsed": true
   },
   "outputs": [],
   "source": []
  },
  {
   "cell_type": "code",
   "execution_count": 150,
   "metadata": {
    "collapsed": true
   },
   "outputs": [],
   "source": [
    "def acc(name, m):\n",
    "    def add(money):\n",
    "        nonlocal m\n",
    "        m += money\n",
    "        return name, m\n",
    "    return add"
   ]
  },
  {
   "cell_type": "code",
   "execution_count": 152,
   "metadata": {
    "collapsed": true
   },
   "outputs": [],
   "source": [
    "my = acc(\"민준\", 1000)\n",
    "you = acc(\"현숙\", 5000)"
   ]
  },
  {
   "cell_type": "code",
   "execution_count": 161,
   "metadata": {},
   "outputs": [
    {
     "data": {
      "text/plain": [
       "['__annotations__',\n",
       " '__call__',\n",
       " '__class__',\n",
       " '__closure__',\n",
       " '__code__',\n",
       " '__defaults__',\n",
       " '__delattr__',\n",
       " '__dict__',\n",
       " '__dir__',\n",
       " '__doc__',\n",
       " '__eq__',\n",
       " '__format__',\n",
       " '__ge__',\n",
       " '__get__',\n",
       " '__getattribute__',\n",
       " '__globals__',\n",
       " '__gt__',\n",
       " '__hash__',\n",
       " '__init__',\n",
       " '__init_subclass__',\n",
       " '__kwdefaults__',\n",
       " '__le__',\n",
       " '__lt__',\n",
       " '__module__',\n",
       " '__name__',\n",
       " '__ne__',\n",
       " '__new__',\n",
       " '__qualname__',\n",
       " '__reduce__',\n",
       " '__reduce_ex__',\n",
       " '__repr__',\n",
       " '__setattr__',\n",
       " '__sizeof__',\n",
       " '__str__',\n",
       " '__subclasshook__']"
      ]
     },
     "execution_count": 161,
     "metadata": {},
     "output_type": "execute_result"
    }
   ],
   "source": [
    "dir(my)"
   ]
  },
  {
   "cell_type": "code",
   "execution_count": 167,
   "metadata": {},
   "outputs": [
    {
     "data": {
      "text/plain": [
       "True"
      ]
     },
     "execution_count": 167,
     "metadata": {},
     "output_type": "execute_result"
    }
   ],
   "source": [
    "my.__code__ is you.__code__"
   ]
  },
  {
   "cell_type": "code",
   "execution_count": 165,
   "metadata": {},
   "outputs": [
    {
     "data": {
      "text/plain": [
       "<code object add at 0x1031c3e40, file \"<ipython-input-150-e7fdf66407f0>\", line 2>"
      ]
     },
     "execution_count": 165,
     "metadata": {},
     "output_type": "execute_result"
    }
   ],
   "source": [
    "you.__code__"
   ]
  },
  {
   "cell_type": "code",
   "execution_count": null,
   "metadata": {
    "collapsed": true
   },
   "outputs": [],
   "source": []
  },
  {
   "cell_type": "code",
   "execution_count": 168,
   "metadata": {
    "collapsed": true
   },
   "outputs": [],
   "source": [
    "# 컴퓨터가 수를 어떻게 읽어오느나를 공부함\n",
    "# 정수 - 양수, 음수의 저장방식을 안다. 음수는(1의보수->2의 보수로 넘겨서 저장받음, 이유는 0숫자에 -0과 +0 두가지가 저장이되서 용납할수 없기때문임)\n",
    "# 음수와 양수의 판별방법은 맨앞에 sign 부호의값으로 양, 음수를 알수 있음. signr이 0이면 양수 1이면 음수\n",
    "# 양수 -> 음수 변환 방법은 ex) 8 -> 1000(2진수) -> 1의 보수로 모든수 반전 0111(2진수) -> 그 이후에 1을 추가해줌.(2의 보수)\n",
    "\n",
    "# 정수와 양수의 저장방법을 알았으면, 실수 저장방법을 알아봄(floating point 부동소수점 방식을 취함)\n",
    "\n",
    "# 숫자를 저장했으니, 문자를 저장하는 방법을 알아본다(사실 컴퓨터는 0과1밖에 읽을수 없기 때문에 문자를 숫자로 변환하는 테이블을 거쳐서 문자를 읽도록 만듬)\n",
    "# 그중 문자는 ASCII, UNICODE 가 있음..!\n"
   ]
  },
  {
   "cell_type": "code",
   "execution_count": 169,
   "metadata": {
    "collapsed": true
   },
   "outputs": [],
   "source": [
    "# 숫자 표현의 정밀도 표현방법을 알아보자.. 그중 '정밀도'에 관해서 얘기해보자\n",
    "# ex) 2진수 3자리 ___로 2자리의 숫자를 모두 표현할수 없다. 최대 '7'까지 밖에 표현이 안됨\n",
    "#  ->> 2진수 24자리로 10진수 몇자리 까지 표현할수 있는지? 2진수 9,999,999 까지 온전히 표현이 가능함\n",
    "\n",
    "\n"
   ]
  },
  {
   "cell_type": "code",
   "execution_count": null,
   "metadata": {
    "collapsed": true
   },
   "outputs": [],
   "source": []
  },
  {
   "cell_type": "code",
   "execution_count": 172,
   "metadata": {
    "collapsed": true
   },
   "outputs": [],
   "source": [
    "# little endian, big endian 의 차이는 데이터를 읽어오는 시점의 차이\n"
   ]
  },
  {
   "cell_type": "code",
   "execution_count": 173,
   "metadata": {
    "collapsed": true
   },
   "outputs": [],
   "source": [
    "little = 0x01020304"
   ]
  },
  {
   "cell_type": "code",
   "execution_count": 174,
   "metadata": {},
   "outputs": [
    {
     "data": {
      "text/plain": [
       "16909060"
      ]
     },
     "execution_count": 174,
     "metadata": {},
     "output_type": "execute_result"
    }
   ],
   "source": [
    "little"
   ]
  },
  {
   "cell_type": "code",
   "execution_count": 177,
   "metadata": {},
   "outputs": [
    {
     "data": {
      "text/plain": [
       "b'\\x04\\x03\\x02\\x01'"
      ]
     },
     "execution_count": 177,
     "metadata": {},
     "output_type": "execute_result"
    }
   ],
   "source": [
    "little.to_bytes(4, byteorder = 'little', signed = True)\n",
    "# 데이터를 읽는 방식 4,3,2,1 이 little "
   ]
  },
  {
   "cell_type": "code",
   "execution_count": 178,
   "metadata": {},
   "outputs": [
    {
     "data": {
      "text/plain": [
       "b'\\x01\\x02\\x03\\x04'"
      ]
     },
     "execution_count": 178,
     "metadata": {},
     "output_type": "execute_result"
    }
   ],
   "source": [
    "little.to_bytes(4, byteorder = 'big', signed = True)\n",
    "# 데이터를 읽는 방식이 1,2,3,4 big\n",
    "# 일반적으로 대부분의 컴퓨터는 little를 사용한다고함"
   ]
  },
  {
   "cell_type": "code",
   "execution_count": null,
   "metadata": {
    "collapsed": true
   },
   "outputs": [],
   "source": []
  },
  {
   "cell_type": "code",
   "execution_count": 179,
   "metadata": {
    "collapsed": true
   },
   "outputs": [],
   "source": [
    "# floating point number 의 정밀도를 얘기함..! "
   ]
  },
  {
   "cell_type": "code",
   "execution_count": 185,
   "metadata": {},
   "outputs": [
    {
     "data": {
      "text/plain": [
       "1.0000000000000007"
      ]
     },
     "execution_count": 185,
     "metadata": {},
     "output_type": "execute_result"
    }
   ],
   "source": [
    "a = 0.01\n",
    "result = 0\n",
    "\n",
    "for i in range(1, 101):\n",
    "    result += a\n",
    "    \n",
    "result\n",
    "# 0.01 을 100버 더했으면, 당연히 1이 나와야하는데 보시다시피 1.00000000007이 나옴.. 정밀도의 문제가 있다는 얘기"
   ]
  },
  {
   "cell_type": "code",
   "execution_count": null,
   "metadata": {
    "collapsed": true
   },
   "outputs": [],
   "source": []
  },
  {
   "cell_type": "code",
   "execution_count": 191,
   "metadata": {},
   "outputs": [
    {
     "data": {
      "text/plain": [
       "1.5625"
      ]
     },
     "execution_count": 191,
     "metadata": {},
     "output_type": "execute_result"
    }
   ],
   "source": [
    "a = 0.015625\n",
    "result = 0\n",
    "for i in range(1,101):\n",
    "    result += a\n",
    "    \n",
    "result \n",
    "# 여기서는 또 a를 100번 더했더니 정상적인 값이 나왔다..\n",
    "# 그럼 이제 여기서 궁금증이 생긴다. 어떤 값은 정상적인 값이 나오고, 어떤값은 정상적이지 않은 값이 나오는데 이유가 뭘까..?"
   ]
  },
  {
   "cell_type": "code",
   "execution_count": null,
   "metadata": {
    "collapsed": true
   },
   "outputs": [],
   "source": []
  },
  {
   "cell_type": "code",
   "execution_count": 198,
   "metadata": {},
   "outputs": [
    {
     "data": {
      "text/plain": [
       "sys.float_info(max=1.7976931348623157e+308, max_exp=1024, max_10_exp=308, min=2.2250738585072014e-308, min_exp=-1021, min_10_exp=-307, dig=15, mant_dig=53, epsilon=2.220446049250313e-16, radix=2, rounds=1)"
      ]
     },
     "execution_count": 198,
     "metadata": {},
     "output_type": "execute_result"
    }
   ],
   "source": [
    "import sys\n",
    "sys.float_info\n",
    "\n",
    "# \n",
    "\n",
    "# max=1.7976931348623157e+308\n",
    "# max_exp=1024\n",
    "# max_10_exp=308\n",
    "# min=2.2250738585072014e-308\n",
    "# min_exp=-1021\n",
    "# min_10_exp=-307\n",
    "# dig=15 15자리 십진수 까지 정밀하게 표현할수 있음.+- 1.m * 2 ^e-b 이게(b = 127 그냥 이수로 정해짐) 컴퓨터에서의 정밀도 범위\n",
    "# mant_dig=53 (mentisa의 범위)\n",
    "# epsilon=2.220446049250313e-16\n",
    "# radix=2\n",
    "# rounds=1"
   ]
  },
  {
   "cell_type": "code",
   "execution_count": 197,
   "metadata": {
    "collapsed": true
   },
   "outputs": [],
   "source": [
    "# 2진수의 표현, 16,777,218 -> 2진수로 변환\n",
    "# ex) 17.25 -> 2진수 16+ 1 + 0.25 -> 2^4 + 2^0 + 2^-2 - > 10001.01(2진수)\n",
    "# 10001.01 -> 1.000101 * 2^4 이렇게 변환이 가능.\n",
    "\n",
    "# 1.0000 ~ 00 * 2^24 - > 이게 32bit에서 최대로 표현할수 있는 범위수\n",
    "# 그러면 이거 다음수의 10진수는 어떻게 표현할것인가? 1.0000 ~ 01 * 2^24 -> 하면\n",
    "# 1.0000~00 *. ^24 와 1.0000 * 01 * 2^24 이 사이에 10진수 수가 남는 수가 생김.\n",
    "#   -> 이때 2진수 사이에 있는 수들은 어떻게 표현할것인가? -> 이게 정밀도에 문제가 생김."
   ]
  },
  {
   "cell_type": "code",
   "execution_count": null,
   "metadata": {
    "collapsed": true
   },
   "outputs": [],
   "source": []
  },
  {
   "cell_type": "code",
   "execution_count": 199,
   "metadata": {
    "collapsed": true
   },
   "outputs": [],
   "source": [
    "# unicode 와 ASCII\n",
    "# 문자도 저장할 필요가 생김 컴퓨터는 0과1만 읽어들이는데, 문자를 어떻게 읽어들일까 고민함 그래서 어떤 숫자 table을 만들어서 mapping 시켜서 하자!\n",
    "# -> 그게 바로 맨처음 영어로 만든 maping table 이 ASCII\n",
    "\n",
    "# char 형은 8bit(1byte) -> 이중에 부호는 하나 뺴면 7bit가 됨. \n",
    "# 7비트는 2의 7승 = 128 가지 표현 가능 -> - 128 ~ 127 까지 표현이 가능\n",
    "#  -> 그 표가 ASCII -> 미국에서 처음 만듬. 그래서 컴퓨터에 영어를 표현시키기 위한 언어\n",
    "\n",
    "# ASCII만 사용하다 보니까 다른언어를 사용해야하는 이유가 생김. \n",
    "# ASCII의 한계를 극복하기 위해(다른 언어들 한글, 중국어, 일어 ...등등) 7bit 사용하던걸 -> 2byte로 늘림. \n",
    "# ASCII를 -> 다른 표로 구현시킨게 UNICODE 이다."
   ]
  },
  {
   "cell_type": "code",
   "execution_count": 203,
   "metadata": {},
   "outputs": [
    {
     "data": {
      "text/plain": [
       "'가'"
      ]
     },
     "execution_count": 203,
     "metadata": {},
     "output_type": "execute_result"
    }
   ],
   "source": [
    "'\\uAC00'# 유니코드상에서 한글을 불러오는 명령어."
   ]
  },
  {
   "cell_type": "code",
   "execution_count": 204,
   "metadata": {},
   "outputs": [
    {
     "data": {
      "text/plain": [
       "'나'"
      ]
     },
     "execution_count": 204,
     "metadata": {},
     "output_type": "execute_result"
    }
   ],
   "source": [
    "'\\uB098'"
   ]
  },
  {
   "cell_type": "code",
   "execution_count": 205,
   "metadata": {
    "collapsed": true
   },
   "outputs": [],
   "source": [
    "# 2byte = 16bit = 2진수 수 16개 표현가능. "
   ]
  },
  {
   "cell_type": "code",
   "execution_count": null,
   "metadata": {
    "collapsed": true
   },
   "outputs": [],
   "source": []
  },
  {
   "cell_type": "code",
   "execution_count": 208,
   "metadata": {
    "collapsed": true
   },
   "outputs": [],
   "source": [
    "# 유니코드의 부호화 방식 -> 인코딩 이라고 생각하면 되려나..?\n",
    "# UTF-8 -> ASCII는 1byte로 나타내고 한글은 3byte로 나타냄.\n",
    "\n",
    "# UTF-16 : BMP(BASIC Multilingual plane):다국어 기본 평면 16bit\n",
    "#        : SMP(Supplementary Multilingual plane) 이상 : 다국어 보충 평면 ~ : 32 bit = 4 byte \n",
    "\n",
    "# UTF-35 : 32 bit 로 저장\n",
    "\n",
    "# CP949 : 마이크로소프트에서 만든것. 한글 코드\n",
    "\n",
    "\n",
    "# 부호화 방식 -> encoding 한다고함. -> "
   ]
  },
  {
   "cell_type": "code",
   "execution_count": 209,
   "metadata": {},
   "outputs": [
    {
     "data": {
      "text/plain": [
       "b'A'"
      ]
     },
     "execution_count": 209,
     "metadata": {},
     "output_type": "execute_result"
    }
   ],
   "source": [
    "'A'.encode('utf-8')"
   ]
  },
  {
   "cell_type": "code",
   "execution_count": 210,
   "metadata": {},
   "outputs": [
    {
     "data": {
      "text/plain": [
       "b'\\xea\\xb0\\x80'"
      ]
     },
     "execution_count": 210,
     "metadata": {},
     "output_type": "execute_result"
    }
   ],
   "source": [
    "'가'.encode('utf-8')\n",
    "# utf-8로 저장되어있는..\n",
    "# little endian 으로 저장되어있음.. 큰수 -> 작은수"
   ]
  },
  {
   "cell_type": "code",
   "execution_count": 211,
   "metadata": {},
   "outputs": [
    {
     "data": {
      "text/plain": [
       "b'\\xff\\xfe\\x00\\xac'"
      ]
     },
     "execution_count": 211,
     "metadata": {},
     "output_type": "execute_result"
    }
   ],
   "source": [
    "'가'.encode('utf-16')"
   ]
  },
  {
   "cell_type": "code",
   "execution_count": 212,
   "metadata": {},
   "outputs": [
    {
     "data": {
      "text/plain": [
       "b'\\xff\\xfe\\x00\\x00\\x00\\xac\\x00\\x00'"
      ]
     },
     "execution_count": 212,
     "metadata": {},
     "output_type": "execute_result"
    }
   ],
   "source": [
    "'가'.encode('utf-32')"
   ]
  },
  {
   "cell_type": "code",
   "execution_count": 213,
   "metadata": {},
   "outputs": [
    {
     "data": {
      "text/plain": [
       "b'\\xb0\\xa1'"
      ]
     },
     "execution_count": 213,
     "metadata": {},
     "output_type": "execute_result"
    }
   ],
   "source": [
    "'가'.encode('cp949')"
   ]
  },
  {
   "cell_type": "code",
   "execution_count": 219,
   "metadata": {
    "collapsed": true
   },
   "outputs": [],
   "source": [
    "c = 'abcde'.encode()\n"
   ]
  },
  {
   "cell_type": "code",
   "execution_count": 220,
   "metadata": {},
   "outputs": [
    {
     "name": "stdout",
     "output_type": "stream",
     "text": [
      "97\n",
      "98\n",
      "99\n",
      "100\n",
      "101\n"
     ]
    }
   ],
   "source": [
    "for i in c:\n",
    "    print(i)\n",
    "    \n",
    "#utf-8에서 a는 97, a는 98..로 되어있음"
   ]
  },
  {
   "cell_type": "code",
   "execution_count": 222,
   "metadata": {
    "collapsed": true
   },
   "outputs": [],
   "source": [
    "# encodeing 를 다르게 변환하면, 원하는 글자를 얻을수 없음..\n",
    "# windows 는 cp949로 저장되어있는데, 다른 방식으로 encoding을 하면 원하는 글자가 깨져서 나옴..\n",
    "#   -> 선생님 컴퓨터는 windows라서 다른 방식으로 저장을해서 실행 시키니까 안됨..\n",
    "# 글자가 이상하게 나오면 유니코드를 모르면 그게 왜그런지 알수 없음.."
   ]
  },
  {
   "cell_type": "code",
   "execution_count": null,
   "metadata": {
    "collapsed": true
   },
   "outputs": [],
   "source": []
  },
  {
   "cell_type": "code",
   "execution_count": 223,
   "metadata": {
    "collapsed": true
   },
   "outputs": [],
   "source": [
    "# '가'를 encode하는 방법\n"
   ]
  },
  {
   "cell_type": "code",
   "execution_count": 226,
   "metadata": {},
   "outputs": [
    {
     "data": {
      "text/plain": [
       "b'\\xea\\xb0\\x80'"
      ]
     },
     "execution_count": 226,
     "metadata": {},
     "output_type": "execute_result"
    }
   ],
   "source": [
    "'가'.encode('utf-8')\n",
    "# 3바이트로 저장됨..? \n",
    "# ea b0 80 (16진수)\n",
    "# 0xEAB080"
   ]
  },
  {
   "cell_type": "code",
   "execution_count": 227,
   "metadata": {},
   "outputs": [
    {
     "data": {
      "text/plain": [
       "'0b10001'"
      ]
     },
     "execution_count": 227,
     "metadata": {},
     "output_type": "execute_result"
    }
   ],
   "source": [
    "bin(17)"
   ]
  },
  {
   "cell_type": "code",
   "execution_count": 228,
   "metadata": {},
   "outputs": [
    {
     "data": {
      "text/plain": [
       "'0x11'"
      ]
     },
     "execution_count": 228,
     "metadata": {},
     "output_type": "execute_result"
    }
   ],
   "source": [
    "hex(17)"
   ]
  },
  {
   "cell_type": "code",
   "execution_count": 1,
   "metadata": {
    "collapsed": true
   },
   "outputs": [],
   "source": [
    "# 16진수 2 자리 수는 1 byte = 16진수 한자리 수를 표현하기 위해 2진수 4자리(1 bit)\n",
    "# 0x11 -> 1 byte -> 8 bit -> 이뉴는 4 bit에 16진수 한자리"
   ]
  },
  {
   "cell_type": "code",
   "execution_count": null,
   "metadata": {
    "collapsed": true
   },
   "outputs": [],
   "source": []
  },
  {
   "cell_type": "code",
   "execution_count": null,
   "metadata": {
    "collapsed": true
   },
   "outputs": [],
   "source": []
  },
  {
   "cell_type": "code",
   "execution_count": 10,
   "metadata": {},
   "outputs": [
    {
     "name": "stdout",
     "output_type": "stream",
     "text": [
      "hi manASD\n",
      "ASD\n"
     ]
    }
   ],
   "source": [
    "original = str(input(\"hi man\"))\n",
    "\n",
    "word = original.lower()\n",
    "\n",
    "print(original)"
   ]
  },
  {
   "cell_type": "code",
   "execution_count": 15,
   "metadata": {},
   "outputs": [],
   "source": [
    "a = \"ASDF\"\n",
    "b = a.lower()\n",
    "b = \"a\"[0]"
   ]
  },
  {
   "cell_type": "code",
   "execution_count": 16,
   "metadata": {},
   "outputs": [
    {
     "data": {
      "text/plain": [
       "'a'"
      ]
     },
     "execution_count": 16,
     "metadata": {},
     "output_type": "execute_result"
    }
   ],
   "source": [
    "b"
   ]
  },
  {
   "cell_type": "code",
   "execution_count": 13,
   "metadata": {},
   "outputs": [
    {
     "data": {
      "text/plain": [
       "'HH'"
      ]
     },
     "execution_count": 13,
     "metadata": {},
     "output_type": "execute_result"
    }
   ],
   "source": [
    "b"
   ]
  },
  {
   "cell_type": "code",
   "execution_count": null,
   "metadata": {},
   "outputs": [],
   "source": []
  },
  {
   "cell_type": "code",
   "execution_count": null,
   "metadata": {},
   "outputs": [],
   "source": [
    "\n"
   ]
  },
  {
   "cell_type": "code",
   "execution_count": null,
   "metadata": {},
   "outputs": [],
   "source": []
  },
  {
   "cell_type": "code",
   "execution_count": 44,
   "metadata": {},
   "outputs": [
    {
     "data": {
      "text/plain": [
       "20"
      ]
     },
     "execution_count": 44,
     "metadata": {},
     "output_type": "execute_result"
    }
   ],
   "source": [
    "def cube(n):\n",
    "    n ** 3\n",
    "    return n\n",
    "    \n",
    "def by_three(n):\n",
    "    if n % 3 == 0:\n",
    "        cube(n)\n",
    "    else:\n",
    "        return False \n",
    "\n",
    "cube(20)"
   ]
  },
  {
   "cell_type": "code",
   "execution_count": 73,
   "metadata": {},
   "outputs": [],
   "source": []
  },
  {
   "cell_type": "code",
   "execution_count": 74,
   "metadata": {},
   "outputs": [],
   "source": [
    "func = by_three(3)"
   ]
  },
  {
   "cell_type": "code",
   "execution_count": 66,
   "metadata": {},
   "outputs": [
    {
     "name": "stdout",
     "output_type": "stream",
     "text": [
      "None\n"
     ]
    }
   ],
   "source": [
    "print(func)"
   ]
  },
  {
   "cell_type": "code",
   "execution_count": null,
   "metadata": {
    "collapsed": true
   },
   "outputs": [],
   "source": []
  },
  {
   "cell_type": "code",
   "execution_count": 70,
   "metadata": {},
   "outputs": [
    {
     "name": "stdout",
     "output_type": "stream",
     "text": [
      "216\n"
     ]
    }
   ],
   "source": [
    "def cube(a):\n",
    "    result = a ** 3\n",
    "    return result\n",
    "\n",
    "def by_three(a):\n",
    "    if a % 3 ==0:\n",
    "        cube(a)\n",
    "    else:\n",
    "        print(\"False\")\n",
    "\n",
    "\n",
    "by_three(6)"
   ]
  },
  {
   "cell_type": "code",
   "execution_count": null,
   "metadata": {
    "collapsed": true
   },
   "outputs": [],
   "source": []
  }
 ],
 "metadata": {
  "kernelspec": {
   "display_name": "Python 3",
   "language": "python",
   "name": "python3"
  },
  "language_info": {
   "codemirror_mode": {
    "name": "ipython",
    "version": 3
   },
   "file_extension": ".py",
   "mimetype": "text/x-python",
   "name": "python",
   "nbconvert_exporter": "python",
   "pygments_lexer": "ipython3",
   "version": "3.6.2"
  }
 },
 "nbformat": 4,
 "nbformat_minor": 2
}
